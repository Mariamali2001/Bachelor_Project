{
 "cells": [
  {
   "cell_type": "markdown",
   "metadata": {},
   "source": [
    "## Implementation"
   ]
  },
  {
   "cell_type": "markdown",
   "metadata": {},
   "source": [
    "# Data Understanding"
   ]
  },
  {
   "cell_type": "markdown",
   "metadata": {},
   "source": [
    "\n",
    "\n",
    "Import Libraries\n",
    " "
   ]
  },
  {
   "cell_type": "code",
   "execution_count": 40,
   "metadata": {},
   "outputs": [],
   "source": [
    "import numpy as np\n",
    "import pandas as pd\n",
    "import seaborn as sns\n",
    "import matplotlib.pyplot as plt\n",
    "import plotly.express as  px\n",
    "from sklearn.metrics import accuracy_score\n",
    "from sklearn.model_selection import train_test_split\n",
    "from sklearn.ensemble import RandomForestClassifier\n",
    "from sklearn.metrics import classification_report\n",
    "from sklearn.linear_model import LogisticRegression\n",
    "from sklearn.neighbors import KNeighborsClassifier\n",
    "from sklearn import svm\n",
    "from sklearn.preprocessing import StandardScaler\n",
    "from sklearn.neural_network import MLPClassifier\n",
    "from sklearn.tree import DecisionTreeClassifier\n"
   ]
  },
  {
   "cell_type": "markdown",
   "metadata": {},
   "source": [
    "Reading data "
   ]
  },
  {
   "cell_type": "code",
   "execution_count": 41,
   "metadata": {},
   "outputs": [
    {
     "data": {
      "text/html": [
       "<div>\n",
       "<style scoped>\n",
       "    .dataframe tbody tr th:only-of-type {\n",
       "        vertical-align: middle;\n",
       "    }\n",
       "\n",
       "    .dataframe tbody tr th {\n",
       "        vertical-align: top;\n",
       "    }\n",
       "\n",
       "    .dataframe thead th {\n",
       "        text-align: right;\n",
       "    }\n",
       "</style>\n",
       "<table border=\"1\" class=\"dataframe\">\n",
       "  <thead>\n",
       "    <tr style=\"text-align: right;\">\n",
       "      <th></th>\n",
       "      <th>Id</th>\n",
       "      <th>Name</th>\n",
       "      <th>Gender</th>\n",
       "      <th>Field</th>\n",
       "      <th>Occupation</th>\n",
       "      <th>Age</th>\n",
       "      <th>Openness</th>\n",
       "      <th>Extraversion</th>\n",
       "      <th>Agreeableness</th>\n",
       "      <th>Conscientiousness</th>\n",
       "      <th>...</th>\n",
       "      <th>Interface_14</th>\n",
       "      <th>Interface_15</th>\n",
       "      <th>Interface_16</th>\n",
       "      <th>Interface_17</th>\n",
       "      <th>Extra_interface_1</th>\n",
       "      <th>Extra_interface_2</th>\n",
       "      <th>Test_Score</th>\n",
       "      <th>Top_1</th>\n",
       "      <th>Top_2</th>\n",
       "      <th>Top_3</th>\n",
       "    </tr>\n",
       "  </thead>\n",
       "  <tbody>\n",
       "    <tr>\n",
       "      <th>0</th>\n",
       "      <td>1</td>\n",
       "      <td>Nouran khaled</td>\n",
       "      <td>Female</td>\n",
       "      <td>CS</td>\n",
       "      <td>Senior Student</td>\n",
       "      <td>21</td>\n",
       "      <td>3.0</td>\n",
       "      <td>2.0</td>\n",
       "      <td>4.0</td>\n",
       "      <td>5.0</td>\n",
       "      <td>...</td>\n",
       "      <td>7.0</td>\n",
       "      <td>7.0</td>\n",
       "      <td>7.0</td>\n",
       "      <td>6.0</td>\n",
       "      <td>7.0</td>\n",
       "      <td>5.0</td>\n",
       "      <td>Green</td>\n",
       "      <td>10</td>\n",
       "      <td>7</td>\n",
       "      <td>13</td>\n",
       "    </tr>\n",
       "    <tr>\n",
       "      <th>1</th>\n",
       "      <td>2</td>\n",
       "      <td>Tasneem Mohamed</td>\n",
       "      <td>Female</td>\n",
       "      <td>CS</td>\n",
       "      <td>Senior Student</td>\n",
       "      <td>21</td>\n",
       "      <td>4.0</td>\n",
       "      <td>5.0</td>\n",
       "      <td>3.0</td>\n",
       "      <td>2.0</td>\n",
       "      <td>...</td>\n",
       "      <td>8.0</td>\n",
       "      <td>8.0</td>\n",
       "      <td>7.0</td>\n",
       "      <td>8.0</td>\n",
       "      <td>6.0</td>\n",
       "      <td>9.0</td>\n",
       "      <td>Blue</td>\n",
       "      <td>6</td>\n",
       "      <td>7</td>\n",
       "      <td>13</td>\n",
       "    </tr>\n",
       "    <tr>\n",
       "      <th>2</th>\n",
       "      <td>3</td>\n",
       "      <td>Omaima Ahmed</td>\n",
       "      <td>Female</td>\n",
       "      <td>CS</td>\n",
       "      <td>Senior Student</td>\n",
       "      <td>23</td>\n",
       "      <td>5.0</td>\n",
       "      <td>4.0</td>\n",
       "      <td>3.0</td>\n",
       "      <td>3.0</td>\n",
       "      <td>...</td>\n",
       "      <td>5.0</td>\n",
       "      <td>7.0</td>\n",
       "      <td>7.0</td>\n",
       "      <td>9.0</td>\n",
       "      <td>6.0</td>\n",
       "      <td>7.0</td>\n",
       "      <td>Green</td>\n",
       "      <td>1</td>\n",
       "      <td>5</td>\n",
       "      <td>7</td>\n",
       "    </tr>\n",
       "    <tr>\n",
       "      <th>3</th>\n",
       "      <td>4</td>\n",
       "      <td>Maryam Walid</td>\n",
       "      <td>Female</td>\n",
       "      <td>CS</td>\n",
       "      <td>Student</td>\n",
       "      <td>20</td>\n",
       "      <td>4.0</td>\n",
       "      <td>3.0</td>\n",
       "      <td>5.0</td>\n",
       "      <td>5.0</td>\n",
       "      <td>...</td>\n",
       "      <td>7.0</td>\n",
       "      <td>7.0</td>\n",
       "      <td>8.0</td>\n",
       "      <td>7.5</td>\n",
       "      <td>6.5</td>\n",
       "      <td>9.0</td>\n",
       "      <td>Blue</td>\n",
       "      <td>19</td>\n",
       "      <td>16</td>\n",
       "      <td>13</td>\n",
       "    </tr>\n",
       "    <tr>\n",
       "      <th>4</th>\n",
       "      <td>5</td>\n",
       "      <td>Yehia Sameh</td>\n",
       "      <td>Male</td>\n",
       "      <td>CS</td>\n",
       "      <td>Student</td>\n",
       "      <td>19</td>\n",
       "      <td>4.0</td>\n",
       "      <td>2.0</td>\n",
       "      <td>3.0</td>\n",
       "      <td>5.0</td>\n",
       "      <td>...</td>\n",
       "      <td>6.0</td>\n",
       "      <td>7.0</td>\n",
       "      <td>6.0</td>\n",
       "      <td>8.0</td>\n",
       "      <td>NaN</td>\n",
       "      <td>NaN</td>\n",
       "      <td>Green</td>\n",
       "      <td>7</td>\n",
       "      <td>9</td>\n",
       "      <td>13</td>\n",
       "    </tr>\n",
       "    <tr>\n",
       "      <th>...</th>\n",
       "      <td>...</td>\n",
       "      <td>...</td>\n",
       "      <td>...</td>\n",
       "      <td>...</td>\n",
       "      <td>...</td>\n",
       "      <td>...</td>\n",
       "      <td>...</td>\n",
       "      <td>...</td>\n",
       "      <td>...</td>\n",
       "      <td>...</td>\n",
       "      <td>...</td>\n",
       "      <td>...</td>\n",
       "      <td>...</td>\n",
       "      <td>...</td>\n",
       "      <td>...</td>\n",
       "      <td>...</td>\n",
       "      <td>...</td>\n",
       "      <td>...</td>\n",
       "      <td>...</td>\n",
       "      <td>...</td>\n",
       "      <td>...</td>\n",
       "    </tr>\n",
       "    <tr>\n",
       "      <th>91</th>\n",
       "      <td>92</td>\n",
       "      <td>Yehia Abdallah</td>\n",
       "      <td>Male</td>\n",
       "      <td>Automatic Engineering</td>\n",
       "      <td>Senior Student</td>\n",
       "      <td>21</td>\n",
       "      <td>5.0</td>\n",
       "      <td>4.0</td>\n",
       "      <td>4.0</td>\n",
       "      <td>1.0</td>\n",
       "      <td>...</td>\n",
       "      <td>2.0</td>\n",
       "      <td>1.0</td>\n",
       "      <td>7.0</td>\n",
       "      <td>6.0</td>\n",
       "      <td>8.0</td>\n",
       "      <td>7.0</td>\n",
       "      <td>Gold</td>\n",
       "      <td>10</td>\n",
       "      <td>4</td>\n",
       "      <td>7</td>\n",
       "    </tr>\n",
       "    <tr>\n",
       "      <th>92</th>\n",
       "      <td>93</td>\n",
       "      <td>Yehia Abdallah</td>\n",
       "      <td>Male</td>\n",
       "      <td>Automatic Engineering</td>\n",
       "      <td>Senior Student</td>\n",
       "      <td>21</td>\n",
       "      <td>5.0</td>\n",
       "      <td>4.0</td>\n",
       "      <td>4.0</td>\n",
       "      <td>1.0</td>\n",
       "      <td>...</td>\n",
       "      <td>2.0</td>\n",
       "      <td>1.0</td>\n",
       "      <td>7.0</td>\n",
       "      <td>6.0</td>\n",
       "      <td>8.0</td>\n",
       "      <td>7.0</td>\n",
       "      <td>Green</td>\n",
       "      <td>10</td>\n",
       "      <td>4</td>\n",
       "      <td>7</td>\n",
       "    </tr>\n",
       "    <tr>\n",
       "      <th>93</th>\n",
       "      <td>94</td>\n",
       "      <td>Khaled Khatteb</td>\n",
       "      <td>Male</td>\n",
       "      <td>Business</td>\n",
       "      <td>Software developer</td>\n",
       "      <td>23</td>\n",
       "      <td>3.0</td>\n",
       "      <td>3.0</td>\n",
       "      <td>4.0</td>\n",
       "      <td>2.0</td>\n",
       "      <td>...</td>\n",
       "      <td>7.0</td>\n",
       "      <td>6.0</td>\n",
       "      <td>8.0</td>\n",
       "      <td>9.0</td>\n",
       "      <td>6.0</td>\n",
       "      <td>7.0</td>\n",
       "      <td>Gold</td>\n",
       "      <td>10</td>\n",
       "      <td>17</td>\n",
       "      <td>5</td>\n",
       "    </tr>\n",
       "    <tr>\n",
       "      <th>94</th>\n",
       "      <td>95</td>\n",
       "      <td>Mohamed Elbaz</td>\n",
       "      <td>Male</td>\n",
       "      <td>CS</td>\n",
       "      <td>Senior Student</td>\n",
       "      <td>21</td>\n",
       "      <td>3.0</td>\n",
       "      <td>1.0</td>\n",
       "      <td>3.0</td>\n",
       "      <td>1.0</td>\n",
       "      <td>...</td>\n",
       "      <td>5.0</td>\n",
       "      <td>6.0</td>\n",
       "      <td>5.0</td>\n",
       "      <td>8.0</td>\n",
       "      <td>4.0</td>\n",
       "      <td>4.0</td>\n",
       "      <td>Gold</td>\n",
       "      <td>10</td>\n",
       "      <td>17</td>\n",
       "      <td>7</td>\n",
       "    </tr>\n",
       "    <tr>\n",
       "      <th>95</th>\n",
       "      <td>96</td>\n",
       "      <td>Mohamed Elbaz</td>\n",
       "      <td>Male</td>\n",
       "      <td>CS</td>\n",
       "      <td>Senior Student</td>\n",
       "      <td>21</td>\n",
       "      <td>3.0</td>\n",
       "      <td>1.0</td>\n",
       "      <td>3.0</td>\n",
       "      <td>1.0</td>\n",
       "      <td>...</td>\n",
       "      <td>5.0</td>\n",
       "      <td>6.0</td>\n",
       "      <td>5.0</td>\n",
       "      <td>8.0</td>\n",
       "      <td>4.0</td>\n",
       "      <td>4.0</td>\n",
       "      <td>Green</td>\n",
       "      <td>10</td>\n",
       "      <td>17</td>\n",
       "      <td>7</td>\n",
       "    </tr>\n",
       "  </tbody>\n",
       "</table>\n",
       "<p>96 rows × 34 columns</p>\n",
       "</div>"
      ],
      "text/plain": [
       "    Id             Name  Gender                  Field          Occupation  \\\n",
       "0    1    Nouran khaled  Female                     CS      Senior Student   \n",
       "1    2  Tasneem Mohamed  Female                     CS      Senior Student   \n",
       "2    3     Omaima Ahmed  Female                     CS      Senior Student   \n",
       "3    4     Maryam Walid  Female                     CS             Student   \n",
       "4    5      Yehia Sameh    Male                     CS             Student   \n",
       "..  ..              ...     ...                    ...                 ...   \n",
       "91  92   Yehia Abdallah    Male  Automatic Engineering      Senior Student   \n",
       "92  93   Yehia Abdallah    Male  Automatic Engineering      Senior Student   \n",
       "93  94   Khaled Khatteb    Male               Business  Software developer   \n",
       "94  95    Mohamed Elbaz    Male                     CS      Senior Student   \n",
       "95  96    Mohamed Elbaz    Male                     CS      Senior Student   \n",
       "\n",
       "    Age  Openness  Extraversion  Agreeableness  Conscientiousness  ...  \\\n",
       "0    21       3.0           2.0            4.0                5.0  ...   \n",
       "1    21       4.0           5.0            3.0                2.0  ...   \n",
       "2    23       5.0           4.0            3.0                3.0  ...   \n",
       "3    20       4.0           3.0            5.0                5.0  ...   \n",
       "4    19       4.0           2.0            3.0                5.0  ...   \n",
       "..  ...       ...           ...            ...                ...  ...   \n",
       "91   21       5.0           4.0            4.0                1.0  ...   \n",
       "92   21       5.0           4.0            4.0                1.0  ...   \n",
       "93   23       3.0           3.0            4.0                2.0  ...   \n",
       "94   21       3.0           1.0            3.0                1.0  ...   \n",
       "95   21       3.0           1.0            3.0                1.0  ...   \n",
       "\n",
       "    Interface_14  Interface_15  Interface_16  Interface_17  Extra_interface_1  \\\n",
       "0            7.0           7.0           7.0           6.0                7.0   \n",
       "1            8.0           8.0           7.0           8.0                6.0   \n",
       "2            5.0           7.0           7.0           9.0                6.0   \n",
       "3            7.0           7.0           8.0           7.5                6.5   \n",
       "4            6.0           7.0           6.0           8.0                NaN   \n",
       "..           ...           ...           ...           ...                ...   \n",
       "91           2.0           1.0           7.0           6.0                8.0   \n",
       "92           2.0           1.0           7.0           6.0                8.0   \n",
       "93           7.0           6.0           8.0           9.0                6.0   \n",
       "94           5.0           6.0           5.0           8.0                4.0   \n",
       "95           5.0           6.0           5.0           8.0                4.0   \n",
       "\n",
       "    Extra_interface_2  Test_Score  Top_1  Top_2  Top_3  \n",
       "0                 5.0       Green     10      7     13  \n",
       "1                 9.0        Blue      6      7     13  \n",
       "2                 7.0       Green      1      5      7  \n",
       "3                 9.0        Blue     19     16     13  \n",
       "4                 NaN       Green      7      9     13  \n",
       "..                ...         ...    ...    ...    ...  \n",
       "91                7.0        Gold     10      4      7  \n",
       "92                7.0       Green     10      4      7  \n",
       "93                7.0        Gold     10     17      5  \n",
       "94                4.0        Gold     10     17      7  \n",
       "95                4.0       Green     10     17      7  \n",
       "\n",
       "[96 rows x 34 columns]"
      ]
     },
     "execution_count": 41,
     "metadata": {},
     "output_type": "execute_result"
    }
   ],
   "source": [
    "data = pd.read_csv(\"Data.csv\",nrows=96)\n",
    "data"
   ]
  },
  {
   "cell_type": "code",
   "execution_count": 42,
   "metadata": {},
   "outputs": [
    {
     "data": {
      "text/plain": [
       "Id                     int64\n",
       "Name                  object\n",
       "Gender                object\n",
       "Field                 object\n",
       "Occupation            object\n",
       "Age                    int64\n",
       "Openness             float64\n",
       "Extraversion         float64\n",
       "Agreeableness        float64\n",
       "Conscientiousness    float64\n",
       "Neuroticism          float64\n",
       "Interface_1          float64\n",
       "Interface_2          float64\n",
       "Interface_3          float64\n",
       "Interface_4          float64\n",
       "Interface_5          float64\n",
       "Interface_6          float64\n",
       "Interface_7          float64\n",
       "Interface_8          float64\n",
       "Interface_9          float64\n",
       "Interface_10         float64\n",
       "Interface_11         float64\n",
       "Interface_12         float64\n",
       "Interface_13         float64\n",
       "Interface_14         float64\n",
       "Interface_15         float64\n",
       "Interface_16         float64\n",
       "Interface_17         float64\n",
       "Extra_interface_1    float64\n",
       "Extra_interface_2    float64\n",
       "Test_Score            object\n",
       "Top_1                  int64\n",
       "Top_2                  int64\n",
       "Top_3                  int64\n",
       "dtype: object"
      ]
     },
     "execution_count": 42,
     "metadata": {},
     "output_type": "execute_result"
    }
   ],
   "source": [
    "data.dtypes"
   ]
  },
  {
   "cell_type": "code",
   "execution_count": 43,
   "metadata": {},
   "outputs": [],
   "source": [
    "# data['Interface_9'] = data['Interface_9'].astype('float64')\n"
   ]
  },
  {
   "cell_type": "code",
   "execution_count": 44,
   "metadata": {},
   "outputs": [],
   "source": [
    "\n",
    "# data['Neuroticism'] = data['Neuroticism'].astype('float64')"
   ]
  },
  {
   "cell_type": "code",
   "execution_count": 45,
   "metadata": {},
   "outputs": [
    {
     "data": {
      "text/plain": [
       "Id                   0.000000\n",
       "Name                 0.000000\n",
       "Gender               0.000000\n",
       "Field                0.000000\n",
       "Occupation           0.000000\n",
       "Age                  0.000000\n",
       "Openness             0.000000\n",
       "Extraversion         0.000000\n",
       "Agreeableness        0.000000\n",
       "Conscientiousness    0.000000\n",
       "Neuroticism          0.000000\n",
       "Interface_1          0.000000\n",
       "Interface_2          0.000000\n",
       "Interface_3          0.000000\n",
       "Interface_4          0.000000\n",
       "Interface_5          0.000000\n",
       "Interface_6          0.000000\n",
       "Interface_7          0.000000\n",
       "Interface_8          0.000000\n",
       "Interface_9          0.000000\n",
       "Interface_10         0.000000\n",
       "Interface_11         0.000000\n",
       "Interface_12         0.000000\n",
       "Interface_13         0.000000\n",
       "Interface_14         0.000000\n",
       "Interface_15         0.000000\n",
       "Interface_16         0.000000\n",
       "Interface_17         0.000000\n",
       "Extra_interface_1    7.291667\n",
       "Extra_interface_2    7.291667\n",
       "Test_Score           0.000000\n",
       "Top_1                0.000000\n",
       "Top_2                0.000000\n",
       "Top_3                0.000000\n",
       "dtype: float64"
      ]
     },
     "execution_count": 45,
     "metadata": {},
     "output_type": "execute_result"
    }
   ],
   "source": [
    "missing_values = data.isna().sum()/len(data)*100\n",
    "missing_values\n"
   ]
  },
  {
   "cell_type": "code",
   "execution_count": 46,
   "metadata": {},
   "outputs": [],
   "source": [
    "data['Extra_interface_1'].fillna(value=data['Extra_interface_1'].mean(), inplace=True)"
   ]
  },
  {
   "cell_type": "code",
   "execution_count": 47,
   "metadata": {},
   "outputs": [],
   "source": [
    "data['Extra_interface_2'].fillna(value=data['Extra_interface_2'].mean(), inplace=True)\n"
   ]
  },
  {
   "cell_type": "code",
   "execution_count": 48,
   "metadata": {},
   "outputs": [
    {
     "data": {
      "text/plain": [
       "Id                   0.0\n",
       "Name                 0.0\n",
       "Gender               0.0\n",
       "Field                0.0\n",
       "Occupation           0.0\n",
       "Age                  0.0\n",
       "Openness             0.0\n",
       "Extraversion         0.0\n",
       "Agreeableness        0.0\n",
       "Conscientiousness    0.0\n",
       "Neuroticism          0.0\n",
       "Interface_1          0.0\n",
       "Interface_2          0.0\n",
       "Interface_3          0.0\n",
       "Interface_4          0.0\n",
       "Interface_5          0.0\n",
       "Interface_6          0.0\n",
       "Interface_7          0.0\n",
       "Interface_8          0.0\n",
       "Interface_9          0.0\n",
       "Interface_10         0.0\n",
       "Interface_11         0.0\n",
       "Interface_12         0.0\n",
       "Interface_13         0.0\n",
       "Interface_14         0.0\n",
       "Interface_15         0.0\n",
       "Interface_16         0.0\n",
       "Interface_17         0.0\n",
       "Extra_interface_1    0.0\n",
       "Extra_interface_2    0.0\n",
       "Test_Score           0.0\n",
       "Top_1                0.0\n",
       "Top_2                0.0\n",
       "Top_3                0.0\n",
       "dtype: float64"
      ]
     },
     "execution_count": 48,
     "metadata": {},
     "output_type": "execute_result"
    }
   ],
   "source": [
    "missing_values = data.isna().sum()/len(data)*100\n",
    "missing_values\n"
   ]
  },
  {
   "attachments": {},
   "cell_type": "markdown",
   "metadata": {},
   "source": [
    "0 Green\n",
    "1 Blue\n",
    "2 Gold\n",
    "3 Orange"
   ]
  },
  {
   "cell_type": "code",
   "execution_count": 49,
   "metadata": {},
   "outputs": [
    {
     "data": {
      "text/plain": [
       "array([0, 1, 2, 3], dtype=int64)"
      ]
     },
     "execution_count": 49,
     "metadata": {},
     "output_type": "execute_result"
    }
   ],
   "source": [
    "data['Test_Score'] = pd.factorize(data['Test_Score'])[0]\n",
    "data['Test_Score'] .unique()"
   ]
  },
  {
   "cell_type": "code",
   "execution_count": 50,
   "metadata": {},
   "outputs": [
    {
     "data": {
      "text/html": [
       "<div>\n",
       "<style scoped>\n",
       "    .dataframe tbody tr th:only-of-type {\n",
       "        vertical-align: middle;\n",
       "    }\n",
       "\n",
       "    .dataframe tbody tr th {\n",
       "        vertical-align: top;\n",
       "    }\n",
       "\n",
       "    .dataframe thead th {\n",
       "        text-align: right;\n",
       "    }\n",
       "</style>\n",
       "<table border=\"1\" class=\"dataframe\">\n",
       "  <thead>\n",
       "    <tr style=\"text-align: right;\">\n",
       "      <th></th>\n",
       "      <th>Id</th>\n",
       "      <th>Age</th>\n",
       "      <th>Openness</th>\n",
       "      <th>Extraversion</th>\n",
       "      <th>Agreeableness</th>\n",
       "      <th>Conscientiousness</th>\n",
       "      <th>Neuroticism</th>\n",
       "      <th>Interface_1</th>\n",
       "      <th>Interface_2</th>\n",
       "      <th>Interface_3</th>\n",
       "      <th>...</th>\n",
       "      <th>Interface_14</th>\n",
       "      <th>Interface_15</th>\n",
       "      <th>Interface_16</th>\n",
       "      <th>Interface_17</th>\n",
       "      <th>Extra_interface_1</th>\n",
       "      <th>Extra_interface_2</th>\n",
       "      <th>Test_Score</th>\n",
       "      <th>Top_1</th>\n",
       "      <th>Top_2</th>\n",
       "      <th>Top_3</th>\n",
       "    </tr>\n",
       "  </thead>\n",
       "  <tbody>\n",
       "    <tr>\n",
       "      <th>count</th>\n",
       "      <td>96.000000</td>\n",
       "      <td>96.000000</td>\n",
       "      <td>96.000000</td>\n",
       "      <td>96.000000</td>\n",
       "      <td>96.000000</td>\n",
       "      <td>96.000000</td>\n",
       "      <td>96.000000</td>\n",
       "      <td>96.000000</td>\n",
       "      <td>96.000000</td>\n",
       "      <td>96.000000</td>\n",
       "      <td>...</td>\n",
       "      <td>96.000000</td>\n",
       "      <td>96.000000</td>\n",
       "      <td>96.000000</td>\n",
       "      <td>96.000000</td>\n",
       "      <td>96.000000</td>\n",
       "      <td>96.000000</td>\n",
       "      <td>96.000000</td>\n",
       "      <td>96.000000</td>\n",
       "      <td>96.000000</td>\n",
       "      <td>96.000000</td>\n",
       "    </tr>\n",
       "    <tr>\n",
       "      <th>mean</th>\n",
       "      <td>48.500000</td>\n",
       "      <td>22.270833</td>\n",
       "      <td>4.036458</td>\n",
       "      <td>3.239583</td>\n",
       "      <td>3.489583</td>\n",
       "      <td>2.609375</td>\n",
       "      <td>3.338542</td>\n",
       "      <td>6.822917</td>\n",
       "      <td>6.033333</td>\n",
       "      <td>5.993750</td>\n",
       "      <td>...</td>\n",
       "      <td>6.510417</td>\n",
       "      <td>6.479167</td>\n",
       "      <td>7.083333</td>\n",
       "      <td>7.961458</td>\n",
       "      <td>6.152809</td>\n",
       "      <td>6.114607</td>\n",
       "      <td>1.593750</td>\n",
       "      <td>9.708333</td>\n",
       "      <td>10.739583</td>\n",
       "      <td>10.604167</td>\n",
       "    </tr>\n",
       "    <tr>\n",
       "      <th>std</th>\n",
       "      <td>27.856777</td>\n",
       "      <td>6.084457</td>\n",
       "      <td>0.840566</td>\n",
       "      <td>1.256518</td>\n",
       "      <td>0.885495</td>\n",
       "      <td>1.433074</td>\n",
       "      <td>1.257598</td>\n",
       "      <td>1.707536</td>\n",
       "      <td>1.952416</td>\n",
       "      <td>1.983236</td>\n",
       "      <td>...</td>\n",
       "      <td>2.284938</td>\n",
       "      <td>2.331610</td>\n",
       "      <td>1.736098</td>\n",
       "      <td>1.778667</td>\n",
       "      <td>2.070296</td>\n",
       "      <td>2.057773</td>\n",
       "      <td>1.062055</td>\n",
       "      <td>4.497758</td>\n",
       "      <td>5.388574</td>\n",
       "      <td>5.232448</td>\n",
       "    </tr>\n",
       "    <tr>\n",
       "      <th>min</th>\n",
       "      <td>1.000000</td>\n",
       "      <td>15.000000</td>\n",
       "      <td>2.000000</td>\n",
       "      <td>1.000000</td>\n",
       "      <td>1.000000</td>\n",
       "      <td>1.000000</td>\n",
       "      <td>1.000000</td>\n",
       "      <td>3.000000</td>\n",
       "      <td>2.000000</td>\n",
       "      <td>2.000000</td>\n",
       "      <td>...</td>\n",
       "      <td>1.000000</td>\n",
       "      <td>1.000000</td>\n",
       "      <td>1.000000</td>\n",
       "      <td>1.800000</td>\n",
       "      <td>1.000000</td>\n",
       "      <td>1.000000</td>\n",
       "      <td>0.000000</td>\n",
       "      <td>1.000000</td>\n",
       "      <td>1.000000</td>\n",
       "      <td>1.000000</td>\n",
       "    </tr>\n",
       "    <tr>\n",
       "      <th>25%</th>\n",
       "      <td>24.750000</td>\n",
       "      <td>20.750000</td>\n",
       "      <td>3.000000</td>\n",
       "      <td>2.000000</td>\n",
       "      <td>3.000000</td>\n",
       "      <td>1.000000</td>\n",
       "      <td>2.375000</td>\n",
       "      <td>6.000000</td>\n",
       "      <td>5.000000</td>\n",
       "      <td>5.000000</td>\n",
       "      <td>...</td>\n",
       "      <td>5.000000</td>\n",
       "      <td>5.000000</td>\n",
       "      <td>6.000000</td>\n",
       "      <td>7.000000</td>\n",
       "      <td>5.000000</td>\n",
       "      <td>5.000000</td>\n",
       "      <td>1.000000</td>\n",
       "      <td>7.000000</td>\n",
       "      <td>7.000000</td>\n",
       "      <td>7.000000</td>\n",
       "    </tr>\n",
       "    <tr>\n",
       "      <th>50%</th>\n",
       "      <td>48.500000</td>\n",
       "      <td>21.000000</td>\n",
       "      <td>4.000000</td>\n",
       "      <td>3.000000</td>\n",
       "      <td>3.000000</td>\n",
       "      <td>2.500000</td>\n",
       "      <td>3.000000</td>\n",
       "      <td>7.000000</td>\n",
       "      <td>6.000000</td>\n",
       "      <td>6.000000</td>\n",
       "      <td>...</td>\n",
       "      <td>7.000000</td>\n",
       "      <td>7.000000</td>\n",
       "      <td>7.000000</td>\n",
       "      <td>8.000000</td>\n",
       "      <td>6.152809</td>\n",
       "      <td>6.114607</td>\n",
       "      <td>2.000000</td>\n",
       "      <td>10.000000</td>\n",
       "      <td>10.500000</td>\n",
       "      <td>10.500000</td>\n",
       "    </tr>\n",
       "    <tr>\n",
       "      <th>75%</th>\n",
       "      <td>72.250000</td>\n",
       "      <td>21.250000</td>\n",
       "      <td>5.000000</td>\n",
       "      <td>4.000000</td>\n",
       "      <td>4.000000</td>\n",
       "      <td>4.000000</td>\n",
       "      <td>4.000000</td>\n",
       "      <td>8.000000</td>\n",
       "      <td>7.000000</td>\n",
       "      <td>7.000000</td>\n",
       "      <td>...</td>\n",
       "      <td>8.000000</td>\n",
       "      <td>8.000000</td>\n",
       "      <td>8.000000</td>\n",
       "      <td>9.000000</td>\n",
       "      <td>8.000000</td>\n",
       "      <td>7.050000</td>\n",
       "      <td>2.000000</td>\n",
       "      <td>13.000000</td>\n",
       "      <td>16.000000</td>\n",
       "      <td>16.000000</td>\n",
       "    </tr>\n",
       "    <tr>\n",
       "      <th>max</th>\n",
       "      <td>96.000000</td>\n",
       "      <td>57.000000</td>\n",
       "      <td>5.000000</td>\n",
       "      <td>5.000000</td>\n",
       "      <td>5.000000</td>\n",
       "      <td>5.000000</td>\n",
       "      <td>5.000000</td>\n",
       "      <td>10.000000</td>\n",
       "      <td>10.000000</td>\n",
       "      <td>10.000000</td>\n",
       "      <td>...</td>\n",
       "      <td>10.000000</td>\n",
       "      <td>10.000000</td>\n",
       "      <td>10.000000</td>\n",
       "      <td>10.000000</td>\n",
       "      <td>10.000000</td>\n",
       "      <td>10.000000</td>\n",
       "      <td>3.000000</td>\n",
       "      <td>19.000000</td>\n",
       "      <td>19.000000</td>\n",
       "      <td>19.000000</td>\n",
       "    </tr>\n",
       "  </tbody>\n",
       "</table>\n",
       "<p>8 rows × 30 columns</p>\n",
       "</div>"
      ],
      "text/plain": [
       "              Id        Age   Openness  Extraversion  Agreeableness  \\\n",
       "count  96.000000  96.000000  96.000000     96.000000      96.000000   \n",
       "mean   48.500000  22.270833   4.036458      3.239583       3.489583   \n",
       "std    27.856777   6.084457   0.840566      1.256518       0.885495   \n",
       "min     1.000000  15.000000   2.000000      1.000000       1.000000   \n",
       "25%    24.750000  20.750000   3.000000      2.000000       3.000000   \n",
       "50%    48.500000  21.000000   4.000000      3.000000       3.000000   \n",
       "75%    72.250000  21.250000   5.000000      4.000000       4.000000   \n",
       "max    96.000000  57.000000   5.000000      5.000000       5.000000   \n",
       "\n",
       "       Conscientiousness  Neuroticism  Interface_1  Interface_2  Interface_3  \\\n",
       "count          96.000000    96.000000    96.000000    96.000000    96.000000   \n",
       "mean            2.609375     3.338542     6.822917     6.033333     5.993750   \n",
       "std             1.433074     1.257598     1.707536     1.952416     1.983236   \n",
       "min             1.000000     1.000000     3.000000     2.000000     2.000000   \n",
       "25%             1.000000     2.375000     6.000000     5.000000     5.000000   \n",
       "50%             2.500000     3.000000     7.000000     6.000000     6.000000   \n",
       "75%             4.000000     4.000000     8.000000     7.000000     7.000000   \n",
       "max             5.000000     5.000000    10.000000    10.000000    10.000000   \n",
       "\n",
       "       ...  Interface_14  Interface_15  Interface_16  Interface_17  \\\n",
       "count  ...     96.000000     96.000000     96.000000     96.000000   \n",
       "mean   ...      6.510417      6.479167      7.083333      7.961458   \n",
       "std    ...      2.284938      2.331610      1.736098      1.778667   \n",
       "min    ...      1.000000      1.000000      1.000000      1.800000   \n",
       "25%    ...      5.000000      5.000000      6.000000      7.000000   \n",
       "50%    ...      7.000000      7.000000      7.000000      8.000000   \n",
       "75%    ...      8.000000      8.000000      8.000000      9.000000   \n",
       "max    ...     10.000000     10.000000     10.000000     10.000000   \n",
       "\n",
       "       Extra_interface_1  Extra_interface_2  Test_Score      Top_1      Top_2  \\\n",
       "count          96.000000          96.000000   96.000000  96.000000  96.000000   \n",
       "mean            6.152809           6.114607    1.593750   9.708333  10.739583   \n",
       "std             2.070296           2.057773    1.062055   4.497758   5.388574   \n",
       "min             1.000000           1.000000    0.000000   1.000000   1.000000   \n",
       "25%             5.000000           5.000000    1.000000   7.000000   7.000000   \n",
       "50%             6.152809           6.114607    2.000000  10.000000  10.500000   \n",
       "75%             8.000000           7.050000    2.000000  13.000000  16.000000   \n",
       "max            10.000000          10.000000    3.000000  19.000000  19.000000   \n",
       "\n",
       "           Top_3  \n",
       "count  96.000000  \n",
       "mean   10.604167  \n",
       "std     5.232448  \n",
       "min     1.000000  \n",
       "25%     7.000000  \n",
       "50%    10.500000  \n",
       "75%    16.000000  \n",
       "max    19.000000  \n",
       "\n",
       "[8 rows x 30 columns]"
      ]
     },
     "execution_count": 50,
     "metadata": {},
     "output_type": "execute_result"
    }
   ],
   "source": [
    "data.describe()\n"
   ]
  },
  {
   "cell_type": "markdown",
   "metadata": {},
   "source": [
    "# Statistical analysis"
   ]
  },
  {
   "cell_type": "code",
   "execution_count": 51,
   "metadata": {},
   "outputs": [
    {
     "data": {
      "text/html": [
       "<style type=\"text/css\">\n",
       "#T_3ab44_row0_col0, #T_3ab44_row1_col1, #T_3ab44_row2_col2, #T_3ab44_row3_col3, #T_3ab44_row4_col4, #T_3ab44_row5_col5, #T_3ab44_row6_col6, #T_3ab44_row7_col7, #T_3ab44_row8_col8, #T_3ab44_row9_col9, #T_3ab44_row10_col10, #T_3ab44_row11_col11, #T_3ab44_row12_col12, #T_3ab44_row13_col13, #T_3ab44_row14_col14, #T_3ab44_row15_col15, #T_3ab44_row16_col16, #T_3ab44_row17_col17, #T_3ab44_row18_col18, #T_3ab44_row19_col19, #T_3ab44_row20_col20, #T_3ab44_row21_col21, #T_3ab44_row22_col22, #T_3ab44_row23_col23, #T_3ab44_row24_col24, #T_3ab44_row25_col25, #T_3ab44_row26_col26, #T_3ab44_row27_col27, #T_3ab44_row28_col28, #T_3ab44_row29_col29 {\n",
       "  background-color: #f2f2f2;\n",
       "  color: #000000;\n",
       "}\n",
       "#T_3ab44_row0_col1, #T_3ab44_row0_col3, #T_3ab44_row0_col5, #T_3ab44_row0_col11, #T_3ab44_row0_col12, #T_3ab44_row0_col15, #T_3ab44_row0_col17, #T_3ab44_row0_col20, #T_3ab44_row0_col21, #T_3ab44_row0_col22, #T_3ab44_row0_col25, #T_3ab44_row1_col16, #T_3ab44_row1_col26, #T_3ab44_row2_col1, #T_3ab44_row2_col15, #T_3ab44_row2_col25, #T_3ab44_row2_col26, #T_3ab44_row2_col28, #T_3ab44_row3_col0, #T_3ab44_row3_col19, #T_3ab44_row3_col25, #T_3ab44_row4_col12, #T_3ab44_row4_col13, #T_3ab44_row4_col16, #T_3ab44_row4_col19, #T_3ab44_row4_col23, #T_3ab44_row4_col25, #T_3ab44_row4_col26, #T_3ab44_row5_col0, #T_3ab44_row5_col25, #T_3ab44_row5_col26, #T_3ab44_row6_col3, #T_3ab44_row6_col22, #T_3ab44_row6_col27, #T_3ab44_row6_col28, #T_3ab44_row7_col26, #T_3ab44_row7_col27, #T_3ab44_row7_col28, #T_3ab44_row7_col29, #T_3ab44_row8_col0, #T_3ab44_row8_col26, #T_3ab44_row8_col27, #T_3ab44_row8_col28, #T_3ab44_row8_col29, #T_3ab44_row9_col0, #T_3ab44_row9_col27, #T_3ab44_row9_col28, #T_3ab44_row9_col29, #T_3ab44_row10_col26, #T_3ab44_row10_col27, #T_3ab44_row11_col0, #T_3ab44_row11_col26, #T_3ab44_row11_col28, #T_3ab44_row12_col26, #T_3ab44_row13_col1, #T_3ab44_row13_col4, #T_3ab44_row13_col26, #T_3ab44_row14_col4, #T_3ab44_row14_col28, #T_3ab44_row15_col26, #T_3ab44_row16_col1, #T_3ab44_row16_col4, #T_3ab44_row16_col22, #T_3ab44_row16_col26, #T_3ab44_row17_col0, #T_3ab44_row17_col1, #T_3ab44_row18_col26, #T_3ab44_row18_col28, #T_3ab44_row19_col4, #T_3ab44_row19_col26, #T_3ab44_row20_col0, #T_3ab44_row21_col0, #T_3ab44_row22_col0, #T_3ab44_row22_col16, #T_3ab44_row23_col1, #T_3ab44_row23_col3, #T_3ab44_row23_col4, #T_3ab44_row23_col29, #T_3ab44_row24_col26, #T_3ab44_row24_col27, #T_3ab44_row25_col3, #T_3ab44_row25_col26, #T_3ab44_row26_col1, #T_3ab44_row26_col4, #T_3ab44_row26_col15, #T_3ab44_row26_col19, #T_3ab44_row26_col25, #T_3ab44_row27_col1, #T_3ab44_row27_col6, #T_3ab44_row27_col7, #T_3ab44_row27_col8, #T_3ab44_row27_col9, #T_3ab44_row27_col10, #T_3ab44_row27_col11, #T_3ab44_row27_col12, #T_3ab44_row27_col13, #T_3ab44_row27_col14, #T_3ab44_row27_col15, #T_3ab44_row27_col16, #T_3ab44_row27_col17, #T_3ab44_row27_col18, #T_3ab44_row27_col22, #T_3ab44_row27_col24, #T_3ab44_row27_col25, #T_3ab44_row28_col2, #T_3ab44_row28_col3, #T_3ab44_row28_col4, #T_3ab44_row28_col6, #T_3ab44_row28_col7, #T_3ab44_row28_col8, #T_3ab44_row28_col9, #T_3ab44_row28_col10, #T_3ab44_row28_col11, #T_3ab44_row28_col12, #T_3ab44_row28_col13, #T_3ab44_row28_col14, #T_3ab44_row28_col15, #T_3ab44_row28_col16, #T_3ab44_row28_col17, #T_3ab44_row28_col18, #T_3ab44_row28_col19, #T_3ab44_row28_col24, #T_3ab44_row28_col25, #T_3ab44_row29_col0, #T_3ab44_row29_col1, #T_3ab44_row29_col4, #T_3ab44_row29_col7, #T_3ab44_row29_col9, #T_3ab44_row29_col16, #T_3ab44_row29_col17, #T_3ab44_row29_col22, #T_3ab44_row29_col23 {\n",
       "  background-color: #fbb4ae;\n",
       "  color: #000000;\n",
       "}\n",
       "#T_3ab44_row0_col2, #T_3ab44_row0_col4, #T_3ab44_row0_col7, #T_3ab44_row0_col8, #T_3ab44_row0_col9, #T_3ab44_row0_col13, #T_3ab44_row0_col18, #T_3ab44_row0_col19, #T_3ab44_row0_col26, #T_3ab44_row0_col29, #T_3ab44_row1_col0, #T_3ab44_row1_col2, #T_3ab44_row1_col13, #T_3ab44_row1_col14, #T_3ab44_row1_col15, #T_3ab44_row1_col17, #T_3ab44_row1_col18, #T_3ab44_row1_col19, #T_3ab44_row1_col22, #T_3ab44_row1_col23, #T_3ab44_row1_col25, #T_3ab44_row2_col12, #T_3ab44_row2_col13, #T_3ab44_row2_col17, #T_3ab44_row2_col20, #T_3ab44_row2_col21, #T_3ab44_row2_col29, #T_3ab44_row3_col6, #T_3ab44_row3_col15, #T_3ab44_row3_col16, #T_3ab44_row3_col17, #T_3ab44_row3_col21, #T_3ab44_row3_col23, #T_3ab44_row3_col26, #T_3ab44_row3_col28, #T_3ab44_row4_col0, #T_3ab44_row4_col5, #T_3ab44_row4_col14, #T_3ab44_row4_col15, #T_3ab44_row4_col17, #T_3ab44_row4_col18, #T_3ab44_row4_col20, #T_3ab44_row4_col21, #T_3ab44_row4_col22, #T_3ab44_row4_col28, #T_3ab44_row4_col29, #T_3ab44_row5_col4, #T_3ab44_row5_col13, #T_3ab44_row5_col16, #T_3ab44_row5_col18, #T_3ab44_row5_col22, #T_3ab44_row6_col0, #T_3ab44_row6_col1, #T_3ab44_row6_col2, #T_3ab44_row6_col5, #T_3ab44_row6_col12, #T_3ab44_row6_col13, #T_3ab44_row6_col14, #T_3ab44_row6_col15, #T_3ab44_row6_col19, #T_3ab44_row6_col20, #T_3ab44_row6_col21, #T_3ab44_row6_col23, #T_3ab44_row6_col25, #T_3ab44_row6_col26, #T_3ab44_row7_col0, #T_3ab44_row7_col1, #T_3ab44_row7_col3, #T_3ab44_row7_col4, #T_3ab44_row8_col1, #T_3ab44_row8_col2, #T_3ab44_row8_col4, #T_3ab44_row9_col1, #T_3ab44_row9_col4, #T_3ab44_row9_col25, #T_3ab44_row9_col26, #T_3ab44_row10_col0, #T_3ab44_row10_col4, #T_3ab44_row10_col5, #T_3ab44_row10_col28, #T_3ab44_row11_col1, #T_3ab44_row11_col19, #T_3ab44_row11_col27, #T_3ab44_row11_col29, #T_3ab44_row12_col0, #T_3ab44_row12_col1, #T_3ab44_row12_col4, #T_3ab44_row12_col27, #T_3ab44_row12_col28, #T_3ab44_row13_col0, #T_3ab44_row13_col2, #T_3ab44_row13_col3, #T_3ab44_row13_col27, #T_3ab44_row13_col28, #T_3ab44_row14_col1, #T_3ab44_row14_col6, #T_3ab44_row14_col26, #T_3ab44_row14_col27, #T_3ab44_row15_col0, #T_3ab44_row15_col1, #T_3ab44_row15_col2, #T_3ab44_row15_col4, #T_3ab44_row15_col27, #T_3ab44_row15_col28, #T_3ab44_row16_col3, #T_3ab44_row16_col5, #T_3ab44_row16_col20, #T_3ab44_row16_col21, #T_3ab44_row16_col27, #T_3ab44_row16_col28, #T_3ab44_row16_col29, #T_3ab44_row17_col3, #T_3ab44_row17_col4, #T_3ab44_row17_col26, #T_3ab44_row17_col27, #T_3ab44_row17_col29, #T_3ab44_row18_col0, #T_3ab44_row18_col1, #T_3ab44_row18_col3, #T_3ab44_row18_col4, #T_3ab44_row18_col5, #T_3ab44_row18_col27, #T_3ab44_row19_col0, #T_3ab44_row19_col1, #T_3ab44_row19_col3, #T_3ab44_row20_col2, #T_3ab44_row20_col4, #T_3ab44_row20_col6, #T_3ab44_row20_col16, #T_3ab44_row21_col2, #T_3ab44_row21_col3, #T_3ab44_row21_col4, #T_3ab44_row21_col6, #T_3ab44_row21_col16, #T_3ab44_row21_col26, #T_3ab44_row22_col1, #T_3ab44_row22_col4, #T_3ab44_row22_col6, #T_3ab44_row22_col25, #T_3ab44_row22_col26, #T_3ab44_row22_col29, #T_3ab44_row23_col6, #T_3ab44_row23_col26, #T_3ab44_row24_col0, #T_3ab44_row24_col5, #T_3ab44_row24_col22, #T_3ab44_row24_col28, #T_3ab44_row25_col0, #T_3ab44_row25_col1, #T_3ab44_row25_col2, #T_3ab44_row25_col4, #T_3ab44_row25_col5, #T_3ab44_row25_col22, #T_3ab44_row25_col28, #T_3ab44_row26_col0, #T_3ab44_row26_col2, #T_3ab44_row26_col3, #T_3ab44_row26_col5, #T_3ab44_row26_col7, #T_3ab44_row26_col10, #T_3ab44_row26_col11, #T_3ab44_row26_col12, #T_3ab44_row26_col13, #T_3ab44_row26_col14, #T_3ab44_row26_col16, #T_3ab44_row26_col18, #T_3ab44_row26_col22, #T_3ab44_row26_col24, #T_3ab44_row27_col3, #T_3ab44_row27_col4, #T_3ab44_row27_col5, #T_3ab44_row27_col19, #T_3ab44_row27_col20, #T_3ab44_row27_col21, #T_3ab44_row27_col29, #T_3ab44_row28_col0, #T_3ab44_row28_col1, #T_3ab44_row28_col5, #T_3ab44_row28_col20, #T_3ab44_row28_col21, #T_3ab44_row28_col26, #T_3ab44_row29_col2, #T_3ab44_row29_col3, #T_3ab44_row29_col5, #T_3ab44_row29_col6, #T_3ab44_row29_col8, #T_3ab44_row29_col11, #T_3ab44_row29_col12, #T_3ab44_row29_col15, #T_3ab44_row29_col18, #T_3ab44_row29_col19, #T_3ab44_row29_col25, #T_3ab44_row29_col26 {\n",
       "  background-color: #b3cde3;\n",
       "  color: #000000;\n",
       "}\n",
       "#T_3ab44_row0_col6, #T_3ab44_row0_col10, #T_3ab44_row0_col14, #T_3ab44_row0_col16, #T_3ab44_row0_col23, #T_3ab44_row0_col24, #T_3ab44_row0_col28, #T_3ab44_row1_col3, #T_3ab44_row1_col4, #T_3ab44_row1_col6, #T_3ab44_row1_col7, #T_3ab44_row1_col9, #T_3ab44_row1_col11, #T_3ab44_row1_col12, #T_3ab44_row1_col20, #T_3ab44_row1_col27, #T_3ab44_row1_col28, #T_3ab44_row1_col29, #T_3ab44_row2_col0, #T_3ab44_row2_col4, #T_3ab44_row2_col6, #T_3ab44_row2_col7, #T_3ab44_row2_col8, #T_3ab44_row2_col10, #T_3ab44_row2_col14, #T_3ab44_row2_col16, #T_3ab44_row2_col18, #T_3ab44_row2_col19, #T_3ab44_row2_col22, #T_3ab44_row2_col23, #T_3ab44_row2_col24, #T_3ab44_row3_col1, #T_3ab44_row3_col4, #T_3ab44_row3_col5, #T_3ab44_row3_col7, #T_3ab44_row3_col9, #T_3ab44_row3_col12, #T_3ab44_row3_col13, #T_3ab44_row3_col14, #T_3ab44_row3_col18, #T_3ab44_row3_col20, #T_3ab44_row3_col22, #T_3ab44_row3_col27, #T_3ab44_row3_col29, #T_3ab44_row4_col1, #T_3ab44_row4_col2, #T_3ab44_row4_col3, #T_3ab44_row4_col6, #T_3ab44_row4_col7, #T_3ab44_row4_col9, #T_3ab44_row4_col10, #T_3ab44_row4_col11, #T_3ab44_row4_col24, #T_3ab44_row4_col27, #T_3ab44_row5_col1, #T_3ab44_row5_col3, #T_3ab44_row5_col6, #T_3ab44_row5_col9, #T_3ab44_row5_col10, #T_3ab44_row5_col11, #T_3ab44_row5_col12, #T_3ab44_row5_col14, #T_3ab44_row5_col15, #T_3ab44_row5_col17, #T_3ab44_row5_col19, #T_3ab44_row5_col21, #T_3ab44_row5_col23, #T_3ab44_row5_col24, #T_3ab44_row5_col27, #T_3ab44_row5_col28, #T_3ab44_row5_col29, #T_3ab44_row6_col4, #T_3ab44_row6_col17, #T_3ab44_row6_col18, #T_3ab44_row6_col24, #T_3ab44_row6_col29, #T_3ab44_row7_col2, #T_3ab44_row7_col5, #T_3ab44_row7_col12, #T_3ab44_row7_col13, #T_3ab44_row7_col14, #T_3ab44_row7_col15, #T_3ab44_row7_col19, #T_3ab44_row7_col20, #T_3ab44_row7_col25, #T_3ab44_row8_col3, #T_3ab44_row8_col6, #T_3ab44_row8_col19, #T_3ab44_row8_col25, #T_3ab44_row9_col2, #T_3ab44_row9_col3, #T_3ab44_row9_col5, #T_3ab44_row9_col14, #T_3ab44_row9_col15, #T_3ab44_row9_col19, #T_3ab44_row9_col20, #T_3ab44_row9_col22, #T_3ab44_row10_col1, #T_3ab44_row10_col2, #T_3ab44_row10_col12, #T_3ab44_row10_col15, #T_3ab44_row10_col17, #T_3ab44_row10_col22, #T_3ab44_row10_col23, #T_3ab44_row10_col25, #T_3ab44_row10_col29, #T_3ab44_row11_col3, #T_3ab44_row11_col4, #T_3ab44_row11_col5, #T_3ab44_row11_col15, #T_3ab44_row11_col16, #T_3ab44_row11_col20, #T_3ab44_row11_col25, #T_3ab44_row12_col2, #T_3ab44_row12_col3, #T_3ab44_row12_col5, #T_3ab44_row12_col6, #T_3ab44_row12_col16, #T_3ab44_row12_col22, #T_3ab44_row12_col29, #T_3ab44_row13_col5, #T_3ab44_row13_col6, #T_3ab44_row13_col16, #T_3ab44_row13_col17, #T_3ab44_row13_col22, #T_3ab44_row13_col29, #T_3ab44_row14_col0, #T_3ab44_row14_col2, #T_3ab44_row14_col3, #T_3ab44_row14_col5, #T_3ab44_row14_col16, #T_3ab44_row14_col19, #T_3ab44_row14_col22, #T_3ab44_row14_col23, #T_3ab44_row14_col29, #T_3ab44_row15_col3, #T_3ab44_row15_col6, #T_3ab44_row15_col16, #T_3ab44_row15_col17, #T_3ab44_row15_col22, #T_3ab44_row15_col23, #T_3ab44_row15_col25, #T_3ab44_row15_col29, #T_3ab44_row16_col2, #T_3ab44_row16_col12, #T_3ab44_row16_col13, #T_3ab44_row16_col14, #T_3ab44_row16_col15, #T_3ab44_row16_col17, #T_3ab44_row16_col18, #T_3ab44_row16_col19, #T_3ab44_row16_col25, #T_3ab44_row17_col2, #T_3ab44_row17_col5, #T_3ab44_row17_col6, #T_3ab44_row17_col15, #T_3ab44_row17_col16, #T_3ab44_row17_col28, #T_3ab44_row18_col2, #T_3ab44_row18_col15, #T_3ab44_row18_col16, #T_3ab44_row18_col29, #T_3ab44_row19_col5, #T_3ab44_row19_col6, #T_3ab44_row19_col11, #T_3ab44_row19_col25, #T_3ab44_row19_col28, #T_3ab44_row19_col29, #T_3ab44_row20_col1, #T_3ab44_row20_col3, #T_3ab44_row20_col22, #T_3ab44_row20_col25, #T_3ab44_row20_col26, #T_3ab44_row20_col27, #T_3ab44_row20_col28, #T_3ab44_row20_col29, #T_3ab44_row21_col1, #T_3ab44_row21_col5, #T_3ab44_row21_col22, #T_3ab44_row21_col25, #T_3ab44_row21_col27, #T_3ab44_row21_col28, #T_3ab44_row21_col29, #T_3ab44_row22_col2, #T_3ab44_row22_col3, #T_3ab44_row22_col5, #T_3ab44_row22_col10, #T_3ab44_row22_col12, #T_3ab44_row22_col13, #T_3ab44_row22_col15, #T_3ab44_row22_col20, #T_3ab44_row22_col21, #T_3ab44_row22_col24, #T_3ab44_row22_col27, #T_3ab44_row23_col0, #T_3ab44_row23_col2, #T_3ab44_row23_col5, #T_3ab44_row23_col10, #T_3ab44_row23_col14, #T_3ab44_row23_col15, #T_3ab44_row23_col16, #T_3ab44_row23_col24, #T_3ab44_row23_col25, #T_3ab44_row24_col1, #T_3ab44_row24_col2, #T_3ab44_row24_col3, #T_3ab44_row24_col4, #T_3ab44_row24_col6, #T_3ab44_row24_col15, #T_3ab44_row24_col23, #T_3ab44_row25_col6, #T_3ab44_row25_col19, #T_3ab44_row25_col27, #T_3ab44_row25_col29, #T_3ab44_row26_col6, #T_3ab44_row26_col8, #T_3ab44_row26_col9, #T_3ab44_row26_col17, #T_3ab44_row26_col20, #T_3ab44_row26_col21, #T_3ab44_row26_col23, #T_3ab44_row26_col28, #T_3ab44_row26_col29, #T_3ab44_row27_col0, #T_3ab44_row27_col2, #T_3ab44_row27_col23, #T_3ab44_row27_col26, #T_3ab44_row28_col22, #T_3ab44_row28_col23, #T_3ab44_row28_col29, #T_3ab44_row29_col10, #T_3ab44_row29_col13, #T_3ab44_row29_col14, #T_3ab44_row29_col20, #T_3ab44_row29_col21, #T_3ab44_row29_col24, #T_3ab44_row29_col27, #T_3ab44_row29_col28 {\n",
       "  background-color: #ccebc5;\n",
       "  color: #000000;\n",
       "}\n",
       "#T_3ab44_row0_col27, #T_3ab44_row1_col5, #T_3ab44_row1_col8, #T_3ab44_row1_col10, #T_3ab44_row1_col21, #T_3ab44_row1_col24, #T_3ab44_row2_col3, #T_3ab44_row2_col5, #T_3ab44_row2_col9, #T_3ab44_row2_col11, #T_3ab44_row2_col27, #T_3ab44_row3_col2, #T_3ab44_row3_col8, #T_3ab44_row3_col10, #T_3ab44_row3_col11, #T_3ab44_row3_col24, #T_3ab44_row4_col8, #T_3ab44_row5_col2, #T_3ab44_row5_col7, #T_3ab44_row5_col8, #T_3ab44_row5_col20, #T_3ab44_row6_col7, #T_3ab44_row6_col8, #T_3ab44_row6_col9, #T_3ab44_row6_col10, #T_3ab44_row6_col11, #T_3ab44_row6_col16, #T_3ab44_row7_col6, #T_3ab44_row7_col16, #T_3ab44_row7_col21, #T_3ab44_row7_col22, #T_3ab44_row7_col24, #T_3ab44_row8_col5, #T_3ab44_row8_col12, #T_3ab44_row8_col13, #T_3ab44_row8_col14, #T_3ab44_row8_col15, #T_3ab44_row8_col16, #T_3ab44_row8_col20, #T_3ab44_row8_col22, #T_3ab44_row8_col23, #T_3ab44_row9_col6, #T_3ab44_row9_col10, #T_3ab44_row9_col12, #T_3ab44_row9_col13, #T_3ab44_row9_col16, #T_3ab44_row9_col21, #T_3ab44_row10_col3, #T_3ab44_row10_col6, #T_3ab44_row10_col9, #T_3ab44_row10_col13, #T_3ab44_row10_col14, #T_3ab44_row10_col16, #T_3ab44_row10_col19, #T_3ab44_row10_col21, #T_3ab44_row11_col2, #T_3ab44_row11_col6, #T_3ab44_row11_col10, #T_3ab44_row11_col12, #T_3ab44_row11_col14, #T_3ab44_row11_col18, #T_3ab44_row11_col21, #T_3ab44_row11_col22, #T_3ab44_row11_col24, #T_3ab44_row12_col7, #T_3ab44_row12_col10, #T_3ab44_row12_col18, #T_3ab44_row12_col19, #T_3ab44_row12_col23, #T_3ab44_row13_col7, #T_3ab44_row13_col9, #T_3ab44_row13_col10, #T_3ab44_row13_col18, #T_3ab44_row13_col19, #T_3ab44_row13_col20, #T_3ab44_row13_col21, #T_3ab44_row13_col23, #T_3ab44_row14_col7, #T_3ab44_row14_col9, #T_3ab44_row14_col10, #T_3ab44_row14_col11, #T_3ab44_row14_col17, #T_3ab44_row14_col20, #T_3ab44_row14_col21, #T_3ab44_row15_col5, #T_3ab44_row15_col7, #T_3ab44_row15_col9, #T_3ab44_row15_col10, #T_3ab44_row15_col11, #T_3ab44_row15_col18, #T_3ab44_row15_col19, #T_3ab44_row15_col20, #T_3ab44_row15_col21, #T_3ab44_row15_col24, #T_3ab44_row16_col0, #T_3ab44_row16_col6, #T_3ab44_row16_col7, #T_3ab44_row16_col11, #T_3ab44_row16_col23, #T_3ab44_row17_col10, #T_3ab44_row17_col13, #T_3ab44_row17_col14, #T_3ab44_row17_col19, #T_3ab44_row17_col20, #T_3ab44_row17_col21, #T_3ab44_row17_col24, #T_3ab44_row17_col25, #T_3ab44_row18_col6, #T_3ab44_row18_col12, #T_3ab44_row18_col13, #T_3ab44_row18_col19, #T_3ab44_row18_col20, #T_3ab44_row18_col21, #T_3ab44_row18_col22, #T_3ab44_row18_col23, #T_3ab44_row18_col25, #T_3ab44_row19_col2, #T_3ab44_row19_col7, #T_3ab44_row19_col9, #T_3ab44_row19_col12, #T_3ab44_row19_col13, #T_3ab44_row19_col14, #T_3ab44_row19_col15, #T_3ab44_row19_col16, #T_3ab44_row19_col17, #T_3ab44_row19_col18, #T_3ab44_row19_col22, #T_3ab44_row19_col23, #T_3ab44_row19_col27, #T_3ab44_row20_col5, #T_3ab44_row20_col7, #T_3ab44_row20_col9, #T_3ab44_row20_col11, #T_3ab44_row20_col13, #T_3ab44_row20_col14, #T_3ab44_row20_col15, #T_3ab44_row20_col17, #T_3ab44_row20_col18, #T_3ab44_row20_col23, #T_3ab44_row21_col9, #T_3ab44_row21_col13, #T_3ab44_row21_col14, #T_3ab44_row21_col15, #T_3ab44_row21_col17, #T_3ab44_row21_col18, #T_3ab44_row22_col7, #T_3ab44_row22_col9, #T_3ab44_row22_col14, #T_3ab44_row22_col19, #T_3ab44_row22_col28, #T_3ab44_row23_col12, #T_3ab44_row23_col13, #T_3ab44_row23_col18, #T_3ab44_row23_col19, #T_3ab44_row23_col20, #T_3ab44_row23_col27, #T_3ab44_row23_col28, #T_3ab44_row24_col11, #T_3ab44_row24_col12, #T_3ab44_row24_col16, #T_3ab44_row24_col17, #T_3ab44_row24_col19, #T_3ab44_row24_col29, #T_3ab44_row25_col7, #T_3ab44_row25_col8, #T_3ab44_row25_col9, #T_3ab44_row25_col10, #T_3ab44_row25_col11, #T_3ab44_row25_col15, #T_3ab44_row25_col16, #T_3ab44_row25_col20, #T_3ab44_row25_col21, #T_3ab44_row25_col23, #T_3ab44_row26_col27, #T_3ab44_row27_col28, #T_3ab44_row28_col27 {\n",
       "  background-color: #decbe4;\n",
       "  color: #000000;\n",
       "}\n",
       "#T_3ab44_row7_col8, #T_3ab44_row8_col7, #T_3ab44_row11_col7, #T_3ab44_row12_col13, #T_3ab44_row12_col14, #T_3ab44_row13_col12, #T_3ab44_row14_col15, #T_3ab44_row15_col14 {\n",
       "  background-color: #e5d8bd;\n",
       "  color: #000000;\n",
       "}\n",
       "#T_3ab44_row7_col9, #T_3ab44_row8_col9, #T_3ab44_row9_col7, #T_3ab44_row9_col8, #T_3ab44_row10_col24, #T_3ab44_row20_col21, #T_3ab44_row21_col20, #T_3ab44_row24_col10 {\n",
       "  background-color: #fddaec;\n",
       "  color: #000000;\n",
       "}\n",
       "#T_3ab44_row7_col10, #T_3ab44_row7_col18, #T_3ab44_row7_col23, #T_3ab44_row8_col10, #T_3ab44_row8_col17, #T_3ab44_row8_col18, #T_3ab44_row8_col21, #T_3ab44_row8_col24, #T_3ab44_row9_col11, #T_3ab44_row9_col17, #T_3ab44_row9_col18, #T_3ab44_row9_col23, #T_3ab44_row9_col24, #T_3ab44_row10_col7, #T_3ab44_row10_col11, #T_3ab44_row10_col18, #T_3ab44_row10_col20, #T_3ab44_row11_col9, #T_3ab44_row11_col13, #T_3ab44_row11_col17, #T_3ab44_row11_col23, #T_3ab44_row12_col8, #T_3ab44_row12_col9, #T_3ab44_row12_col11, #T_3ab44_row12_col17, #T_3ab44_row12_col20, #T_3ab44_row12_col21, #T_3ab44_row12_col24, #T_3ab44_row12_col25, #T_3ab44_row13_col8, #T_3ab44_row13_col11, #T_3ab44_row13_col15, #T_3ab44_row13_col24, #T_3ab44_row13_col25, #T_3ab44_row14_col8, #T_3ab44_row14_col18, #T_3ab44_row14_col24, #T_3ab44_row15_col8, #T_3ab44_row15_col13, #T_3ab44_row16_col8, #T_3ab44_row16_col9, #T_3ab44_row16_col10, #T_3ab44_row16_col24, #T_3ab44_row17_col8, #T_3ab44_row17_col9, #T_3ab44_row17_col11, #T_3ab44_row17_col12, #T_3ab44_row17_col22, #T_3ab44_row17_col23, #T_3ab44_row18_col8, #T_3ab44_row18_col9, #T_3ab44_row18_col10, #T_3ab44_row18_col11, #T_3ab44_row18_col14, #T_3ab44_row18_col17, #T_3ab44_row19_col8, #T_3ab44_row19_col10, #T_3ab44_row19_col20, #T_3ab44_row19_col21, #T_3ab44_row19_col24, #T_3ab44_row20_col8, #T_3ab44_row20_col10, #T_3ab44_row20_col12, #T_3ab44_row20_col19, #T_3ab44_row21_col7, #T_3ab44_row21_col8, #T_3ab44_row21_col10, #T_3ab44_row21_col11, #T_3ab44_row21_col12, #T_3ab44_row21_col19, #T_3ab44_row21_col23, #T_3ab44_row21_col24, #T_3ab44_row22_col8, #T_3ab44_row22_col11, #T_3ab44_row22_col17, #T_3ab44_row22_col18, #T_3ab44_row22_col23, #T_3ab44_row23_col8, #T_3ab44_row23_col9, #T_3ab44_row23_col11, #T_3ab44_row23_col17, #T_3ab44_row23_col21, #T_3ab44_row23_col22, #T_3ab44_row24_col7, #T_3ab44_row24_col8, #T_3ab44_row24_col9, #T_3ab44_row24_col13, #T_3ab44_row24_col14, #T_3ab44_row24_col18, #T_3ab44_row24_col21, #T_3ab44_row24_col25, #T_3ab44_row25_col17, #T_3ab44_row25_col18, #T_3ab44_row25_col24 {\n",
       "  background-color: #fed9a6;\n",
       "  color: #000000;\n",
       "}\n",
       "#T_3ab44_row7_col11, #T_3ab44_row7_col17, #T_3ab44_row8_col11, #T_3ab44_row10_col8, #T_3ab44_row11_col8, #T_3ab44_row12_col15, #T_3ab44_row13_col14, #T_3ab44_row14_col12, #T_3ab44_row14_col13, #T_3ab44_row14_col25, #T_3ab44_row15_col12, #T_3ab44_row17_col7, #T_3ab44_row17_col18, #T_3ab44_row18_col7, #T_3ab44_row18_col24, #T_3ab44_row20_col24, #T_3ab44_row23_col7, #T_3ab44_row24_col20, #T_3ab44_row25_col12, #T_3ab44_row25_col13, #T_3ab44_row25_col14 {\n",
       "  background-color: #ffffcc;\n",
       "  color: #000000;\n",
       "}\n",
       "</style>\n",
       "<table id=\"T_3ab44\">\n",
       "  <thead>\n",
       "    <tr>\n",
       "      <th class=\"blank level0\" >&nbsp;</th>\n",
       "      <th id=\"T_3ab44_level0_col0\" class=\"col_heading level0 col0\" >Id</th>\n",
       "      <th id=\"T_3ab44_level0_col1\" class=\"col_heading level0 col1\" >Age</th>\n",
       "      <th id=\"T_3ab44_level0_col2\" class=\"col_heading level0 col2\" >Openness</th>\n",
       "      <th id=\"T_3ab44_level0_col3\" class=\"col_heading level0 col3\" >Extraversion</th>\n",
       "      <th id=\"T_3ab44_level0_col4\" class=\"col_heading level0 col4\" >Agreeableness</th>\n",
       "      <th id=\"T_3ab44_level0_col5\" class=\"col_heading level0 col5\" >Conscientiousness</th>\n",
       "      <th id=\"T_3ab44_level0_col6\" class=\"col_heading level0 col6\" >Neuroticism</th>\n",
       "      <th id=\"T_3ab44_level0_col7\" class=\"col_heading level0 col7\" >Interface_1</th>\n",
       "      <th id=\"T_3ab44_level0_col8\" class=\"col_heading level0 col8\" >Interface_2</th>\n",
       "      <th id=\"T_3ab44_level0_col9\" class=\"col_heading level0 col9\" >Interface_3</th>\n",
       "      <th id=\"T_3ab44_level0_col10\" class=\"col_heading level0 col10\" >Interface_4</th>\n",
       "      <th id=\"T_3ab44_level0_col11\" class=\"col_heading level0 col11\" >Interface_5</th>\n",
       "      <th id=\"T_3ab44_level0_col12\" class=\"col_heading level0 col12\" >Interface_6</th>\n",
       "      <th id=\"T_3ab44_level0_col13\" class=\"col_heading level0 col13\" >Interface_7</th>\n",
       "      <th id=\"T_3ab44_level0_col14\" class=\"col_heading level0 col14\" >Interface_8</th>\n",
       "      <th id=\"T_3ab44_level0_col15\" class=\"col_heading level0 col15\" >Interface_9</th>\n",
       "      <th id=\"T_3ab44_level0_col16\" class=\"col_heading level0 col16\" >Interface_10</th>\n",
       "      <th id=\"T_3ab44_level0_col17\" class=\"col_heading level0 col17\" >Interface_11</th>\n",
       "      <th id=\"T_3ab44_level0_col18\" class=\"col_heading level0 col18\" >Interface_12</th>\n",
       "      <th id=\"T_3ab44_level0_col19\" class=\"col_heading level0 col19\" >Interface_13</th>\n",
       "      <th id=\"T_3ab44_level0_col20\" class=\"col_heading level0 col20\" >Interface_14</th>\n",
       "      <th id=\"T_3ab44_level0_col21\" class=\"col_heading level0 col21\" >Interface_15</th>\n",
       "      <th id=\"T_3ab44_level0_col22\" class=\"col_heading level0 col22\" >Interface_16</th>\n",
       "      <th id=\"T_3ab44_level0_col23\" class=\"col_heading level0 col23\" >Interface_17</th>\n",
       "      <th id=\"T_3ab44_level0_col24\" class=\"col_heading level0 col24\" >Extra_interface_1</th>\n",
       "      <th id=\"T_3ab44_level0_col25\" class=\"col_heading level0 col25\" >Extra_interface_2</th>\n",
       "      <th id=\"T_3ab44_level0_col26\" class=\"col_heading level0 col26\" >Test_Score</th>\n",
       "      <th id=\"T_3ab44_level0_col27\" class=\"col_heading level0 col27\" >Top_1</th>\n",
       "      <th id=\"T_3ab44_level0_col28\" class=\"col_heading level0 col28\" >Top_2</th>\n",
       "      <th id=\"T_3ab44_level0_col29\" class=\"col_heading level0 col29\" >Top_3</th>\n",
       "    </tr>\n",
       "  </thead>\n",
       "  <tbody>\n",
       "    <tr>\n",
       "      <th id=\"T_3ab44_level0_row0\" class=\"row_heading level0 row0\" >Id</th>\n",
       "      <td id=\"T_3ab44_row0_col0\" class=\"data row0 col0\" >1.000000</td>\n",
       "      <td id=\"T_3ab44_row0_col1\" class=\"data row0 col1\" >-0.050000</td>\n",
       "      <td id=\"T_3ab44_row0_col2\" class=\"data row0 col2\" >0.050000</td>\n",
       "      <td id=\"T_3ab44_row0_col3\" class=\"data row0 col3\" >-0.160000</td>\n",
       "      <td id=\"T_3ab44_row0_col4\" class=\"data row0 col4\" >0.000000</td>\n",
       "      <td id=\"T_3ab44_row0_col5\" class=\"data row0 col5\" >-0.230000</td>\n",
       "      <td id=\"T_3ab44_row0_col6\" class=\"data row0 col6\" >0.040000</td>\n",
       "      <td id=\"T_3ab44_row0_col7\" class=\"data row0 col7\" >-0.080000</td>\n",
       "      <td id=\"T_3ab44_row0_col8\" class=\"data row0 col8\" >-0.140000</td>\n",
       "      <td id=\"T_3ab44_row0_col9\" class=\"data row0 col9\" >-0.120000</td>\n",
       "      <td id=\"T_3ab44_row0_col10\" class=\"data row0 col10\" >0.040000</td>\n",
       "      <td id=\"T_3ab44_row0_col11\" class=\"data row0 col11\" >-0.160000</td>\n",
       "      <td id=\"T_3ab44_row0_col12\" class=\"data row0 col12\" >-0.080000</td>\n",
       "      <td id=\"T_3ab44_row0_col13\" class=\"data row0 col13\" >-0.010000</td>\n",
       "      <td id=\"T_3ab44_row0_col14\" class=\"data row0 col14\" >0.070000</td>\n",
       "      <td id=\"T_3ab44_row0_col15\" class=\"data row0 col15\" >-0.020000</td>\n",
       "      <td id=\"T_3ab44_row0_col16\" class=\"data row0 col16\" >0.210000</td>\n",
       "      <td id=\"T_3ab44_row0_col17\" class=\"data row0 col17\" >-0.140000</td>\n",
       "      <td id=\"T_3ab44_row0_col18\" class=\"data row0 col18\" >-0.040000</td>\n",
       "      <td id=\"T_3ab44_row0_col19\" class=\"data row0 col19\" >0.040000</td>\n",
       "      <td id=\"T_3ab44_row0_col20\" class=\"data row0 col20\" >-0.220000</td>\n",
       "      <td id=\"T_3ab44_row0_col21\" class=\"data row0 col21\" >-0.220000</td>\n",
       "      <td id=\"T_3ab44_row0_col22\" class=\"data row0 col22\" >-0.120000</td>\n",
       "      <td id=\"T_3ab44_row0_col23\" class=\"data row0 col23\" >0.070000</td>\n",
       "      <td id=\"T_3ab44_row0_col24\" class=\"data row0 col24\" >0.020000</td>\n",
       "      <td id=\"T_3ab44_row0_col25\" class=\"data row0 col25\" >0.010000</td>\n",
       "      <td id=\"T_3ab44_row0_col26\" class=\"data row0 col26\" >0.020000</td>\n",
       "      <td id=\"T_3ab44_row0_col27\" class=\"data row0 col27\" >0.130000</td>\n",
       "      <td id=\"T_3ab44_row0_col28\" class=\"data row0 col28\" >0.010000</td>\n",
       "      <td id=\"T_3ab44_row0_col29\" class=\"data row0 col29\" >-0.120000</td>\n",
       "    </tr>\n",
       "    <tr>\n",
       "      <th id=\"T_3ab44_level0_row1\" class=\"row_heading level0 row1\" >Age</th>\n",
       "      <td id=\"T_3ab44_row1_col0\" class=\"data row1 col0\" >-0.050000</td>\n",
       "      <td id=\"T_3ab44_row1_col1\" class=\"data row1 col1\" >1.000000</td>\n",
       "      <td id=\"T_3ab44_row1_col2\" class=\"data row1 col2\" >-0.010000</td>\n",
       "      <td id=\"T_3ab44_row1_col3\" class=\"data row1 col3\" >0.220000</td>\n",
       "      <td id=\"T_3ab44_row1_col4\" class=\"data row1 col4\" >0.210000</td>\n",
       "      <td id=\"T_3ab44_row1_col5\" class=\"data row1 col5\" >0.220000</td>\n",
       "      <td id=\"T_3ab44_row1_col6\" class=\"data row1 col6\" >0.030000</td>\n",
       "      <td id=\"T_3ab44_row1_col7\" class=\"data row1 col7\" >0.090000</td>\n",
       "      <td id=\"T_3ab44_row1_col8\" class=\"data row1 col8\" >0.080000</td>\n",
       "      <td id=\"T_3ab44_row1_col9\" class=\"data row1 col9\" >0.050000</td>\n",
       "      <td id=\"T_3ab44_row1_col10\" class=\"data row1 col10\" >0.170000</td>\n",
       "      <td id=\"T_3ab44_row1_col11\" class=\"data row1 col11\" >0.070000</td>\n",
       "      <td id=\"T_3ab44_row1_col12\" class=\"data row1 col12\" >0.130000</td>\n",
       "      <td id=\"T_3ab44_row1_col13\" class=\"data row1 col13\" >-0.020000</td>\n",
       "      <td id=\"T_3ab44_row1_col14\" class=\"data row1 col14\" >0.050000</td>\n",
       "      <td id=\"T_3ab44_row1_col15\" class=\"data row1 col15\" >0.060000</td>\n",
       "      <td id=\"T_3ab44_row1_col16\" class=\"data row1 col16\" >-0.100000</td>\n",
       "      <td id=\"T_3ab44_row1_col17\" class=\"data row1 col17\" >0.000000</td>\n",
       "      <td id=\"T_3ab44_row1_col18\" class=\"data row1 col18\" >0.030000</td>\n",
       "      <td id=\"T_3ab44_row1_col19\" class=\"data row1 col19\" >0.040000</td>\n",
       "      <td id=\"T_3ab44_row1_col20\" class=\"data row1 col20\" >0.180000</td>\n",
       "      <td id=\"T_3ab44_row1_col21\" class=\"data row1 col21\" >0.190000</td>\n",
       "      <td id=\"T_3ab44_row1_col22\" class=\"data row1 col22\" >0.080000</td>\n",
       "      <td id=\"T_3ab44_row1_col23\" class=\"data row1 col23\" >-0.060000</td>\n",
       "      <td id=\"T_3ab44_row1_col24\" class=\"data row1 col24\" >0.180000</td>\n",
       "      <td id=\"T_3ab44_row1_col25\" class=\"data row1 col25\" >0.060000</td>\n",
       "      <td id=\"T_3ab44_row1_col26\" class=\"data row1 col26\" >-0.060000</td>\n",
       "      <td id=\"T_3ab44_row1_col27\" class=\"data row1 col27\" >0.000000</td>\n",
       "      <td id=\"T_3ab44_row1_col28\" class=\"data row1 col28\" >0.060000</td>\n",
       "      <td id=\"T_3ab44_row1_col29\" class=\"data row1 col29\" >0.020000</td>\n",
       "    </tr>\n",
       "    <tr>\n",
       "      <th id=\"T_3ab44_level0_row2\" class=\"row_heading level0 row2\" >Openness</th>\n",
       "      <td id=\"T_3ab44_row2_col0\" class=\"data row2 col0\" >0.050000</td>\n",
       "      <td id=\"T_3ab44_row2_col1\" class=\"data row2 col1\" >-0.010000</td>\n",
       "      <td id=\"T_3ab44_row2_col2\" class=\"data row2 col2\" >1.000000</td>\n",
       "      <td id=\"T_3ab44_row2_col3\" class=\"data row2 col3\" >0.320000</td>\n",
       "      <td id=\"T_3ab44_row2_col4\" class=\"data row2 col4\" >0.090000</td>\n",
       "      <td id=\"T_3ab44_row2_col5\" class=\"data row2 col5\" >0.250000</td>\n",
       "      <td id=\"T_3ab44_row2_col6\" class=\"data row2 col6\" >0.030000</td>\n",
       "      <td id=\"T_3ab44_row2_col7\" class=\"data row2 col7\" >0.070000</td>\n",
       "      <td id=\"T_3ab44_row2_col8\" class=\"data row2 col8\" >0.050000</td>\n",
       "      <td id=\"T_3ab44_row2_col9\" class=\"data row2 col9\" >0.180000</td>\n",
       "      <td id=\"T_3ab44_row2_col10\" class=\"data row2 col10\" >0.120000</td>\n",
       "      <td id=\"T_3ab44_row2_col11\" class=\"data row2 col11\" >0.200000</td>\n",
       "      <td id=\"T_3ab44_row2_col12\" class=\"data row2 col12\" >0.100000</td>\n",
       "      <td id=\"T_3ab44_row2_col13\" class=\"data row2 col13\" >0.050000</td>\n",
       "      <td id=\"T_3ab44_row2_col14\" class=\"data row2 col14\" >0.100000</td>\n",
       "      <td id=\"T_3ab44_row2_col15\" class=\"data row2 col15\" >-0.020000</td>\n",
       "      <td id=\"T_3ab44_row2_col16\" class=\"data row2 col16\" >0.140000</td>\n",
       "      <td id=\"T_3ab44_row2_col17\" class=\"data row2 col17\" >0.070000</td>\n",
       "      <td id=\"T_3ab44_row2_col18\" class=\"data row2 col18\" >0.110000</td>\n",
       "      <td id=\"T_3ab44_row2_col19\" class=\"data row2 col19\" >0.230000</td>\n",
       "      <td id=\"T_3ab44_row2_col20\" class=\"data row2 col20\" >-0.000000</td>\n",
       "      <td id=\"T_3ab44_row2_col21\" class=\"data row2 col21\" >-0.080000</td>\n",
       "      <td id=\"T_3ab44_row2_col22\" class=\"data row2 col22\" >0.150000</td>\n",
       "      <td id=\"T_3ab44_row2_col23\" class=\"data row2 col23\" >0.120000</td>\n",
       "      <td id=\"T_3ab44_row2_col24\" class=\"data row2 col24\" >0.090000</td>\n",
       "      <td id=\"T_3ab44_row2_col25\" class=\"data row2 col25\" >-0.050000</td>\n",
       "      <td id=\"T_3ab44_row2_col26\" class=\"data row2 col26\" >-0.020000</td>\n",
       "      <td id=\"T_3ab44_row2_col27\" class=\"data row2 col27\" >0.110000</td>\n",
       "      <td id=\"T_3ab44_row2_col28\" class=\"data row2 col28\" >-0.220000</td>\n",
       "      <td id=\"T_3ab44_row2_col29\" class=\"data row2 col29\" >-0.050000</td>\n",
       "    </tr>\n",
       "    <tr>\n",
       "      <th id=\"T_3ab44_level0_row3\" class=\"row_heading level0 row3\" >Extraversion</th>\n",
       "      <td id=\"T_3ab44_row3_col0\" class=\"data row3 col0\" >-0.160000</td>\n",
       "      <td id=\"T_3ab44_row3_col1\" class=\"data row3 col1\" >0.220000</td>\n",
       "      <td id=\"T_3ab44_row3_col2\" class=\"data row3 col2\" >0.320000</td>\n",
       "      <td id=\"T_3ab44_row3_col3\" class=\"data row3 col3\" >1.000000</td>\n",
       "      <td id=\"T_3ab44_row3_col4\" class=\"data row3 col4\" >0.120000</td>\n",
       "      <td id=\"T_3ab44_row3_col5\" class=\"data row3 col5\" >0.100000</td>\n",
       "      <td id=\"T_3ab44_row3_col6\" class=\"data row3 col6\" >-0.050000</td>\n",
       "      <td id=\"T_3ab44_row3_col7\" class=\"data row3 col7\" >-0.020000</td>\n",
       "      <td id=\"T_3ab44_row3_col8\" class=\"data row3 col8\" >0.180000</td>\n",
       "      <td id=\"T_3ab44_row3_col9\" class=\"data row3 col9\" >0.100000</td>\n",
       "      <td id=\"T_3ab44_row3_col10\" class=\"data row3 col10\" >0.240000</td>\n",
       "      <td id=\"T_3ab44_row3_col11\" class=\"data row3 col11\" >0.150000</td>\n",
       "      <td id=\"T_3ab44_row3_col12\" class=\"data row3 col12\" >0.180000</td>\n",
       "      <td id=\"T_3ab44_row3_col13\" class=\"data row3 col13\" >0.090000</td>\n",
       "      <td id=\"T_3ab44_row3_col14\" class=\"data row3 col14\" >0.100000</td>\n",
       "      <td id=\"T_3ab44_row3_col15\" class=\"data row3 col15\" >0.110000</td>\n",
       "      <td id=\"T_3ab44_row3_col16\" class=\"data row3 col16\" >0.020000</td>\n",
       "      <td id=\"T_3ab44_row3_col17\" class=\"data row3 col17\" >0.060000</td>\n",
       "      <td id=\"T_3ab44_row3_col18\" class=\"data row3 col18\" >0.060000</td>\n",
       "      <td id=\"T_3ab44_row3_col19\" class=\"data row3 col19\" >0.030000</td>\n",
       "      <td id=\"T_3ab44_row3_col20\" class=\"data row3 col20\" >0.100000</td>\n",
       "      <td id=\"T_3ab44_row3_col21\" class=\"data row3 col21\" >0.030000</td>\n",
       "      <td id=\"T_3ab44_row3_col22\" class=\"data row3 col22\" >0.190000</td>\n",
       "      <td id=\"T_3ab44_row3_col23\" class=\"data row3 col23\" >-0.070000</td>\n",
       "      <td id=\"T_3ab44_row3_col24\" class=\"data row3 col24\" >0.190000</td>\n",
       "      <td id=\"T_3ab44_row3_col25\" class=\"data row3 col25\" >-0.070000</td>\n",
       "      <td id=\"T_3ab44_row3_col26\" class=\"data row3 col26\" >0.060000</td>\n",
       "      <td id=\"T_3ab44_row3_col27\" class=\"data row3 col27\" >0.010000</td>\n",
       "      <td id=\"T_3ab44_row3_col28\" class=\"data row3 col28\" >-0.070000</td>\n",
       "      <td id=\"T_3ab44_row3_col29\" class=\"data row3 col29\" >0.030000</td>\n",
       "    </tr>\n",
       "    <tr>\n",
       "      <th id=\"T_3ab44_level0_row4\" class=\"row_heading level0 row4\" >Agreeableness</th>\n",
       "      <td id=\"T_3ab44_row4_col0\" class=\"data row4 col0\" >0.000000</td>\n",
       "      <td id=\"T_3ab44_row4_col1\" class=\"data row4 col1\" >0.210000</td>\n",
       "      <td id=\"T_3ab44_row4_col2\" class=\"data row4 col2\" >0.090000</td>\n",
       "      <td id=\"T_3ab44_row4_col3\" class=\"data row4 col3\" >0.120000</td>\n",
       "      <td id=\"T_3ab44_row4_col4\" class=\"data row4 col4\" >1.000000</td>\n",
       "      <td id=\"T_3ab44_row4_col5\" class=\"data row4 col5\" >0.020000</td>\n",
       "      <td id=\"T_3ab44_row4_col6\" class=\"data row4 col6\" >0.140000</td>\n",
       "      <td id=\"T_3ab44_row4_col7\" class=\"data row4 col7\" >0.030000</td>\n",
       "      <td id=\"T_3ab44_row4_col8\" class=\"data row4 col8\" >0.060000</td>\n",
       "      <td id=\"T_3ab44_row4_col9\" class=\"data row4 col9\" >0.060000</td>\n",
       "      <td id=\"T_3ab44_row4_col10\" class=\"data row4 col10\" >0.060000</td>\n",
       "      <td id=\"T_3ab44_row4_col11\" class=\"data row4 col11\" >0.120000</td>\n",
       "      <td id=\"T_3ab44_row4_col12\" class=\"data row4 col12\" >-0.040000</td>\n",
       "      <td id=\"T_3ab44_row4_col13\" class=\"data row4 col13\" >-0.100000</td>\n",
       "      <td id=\"T_3ab44_row4_col14\" class=\"data row4 col14\" >-0.050000</td>\n",
       "      <td id=\"T_3ab44_row4_col15\" class=\"data row4 col15\" >0.080000</td>\n",
       "      <td id=\"T_3ab44_row4_col16\" class=\"data row4 col16\" >-0.180000</td>\n",
       "      <td id=\"T_3ab44_row4_col17\" class=\"data row4 col17\" >-0.040000</td>\n",
       "      <td id=\"T_3ab44_row4_col18\" class=\"data row4 col18\" >0.040000</td>\n",
       "      <td id=\"T_3ab44_row4_col19\" class=\"data row4 col19\" >-0.080000</td>\n",
       "      <td id=\"T_3ab44_row4_col20\" class=\"data row4 col20\" >-0.020000</td>\n",
       "      <td id=\"T_3ab44_row4_col21\" class=\"data row4 col21\" >0.000000</td>\n",
       "      <td id=\"T_3ab44_row4_col22\" class=\"data row4 col22\" >0.050000</td>\n",
       "      <td id=\"T_3ab44_row4_col23\" class=\"data row4 col23\" >-0.100000</td>\n",
       "      <td id=\"T_3ab44_row4_col24\" class=\"data row4 col24\" >0.090000</td>\n",
       "      <td id=\"T_3ab44_row4_col25\" class=\"data row4 col25\" >-0.020000</td>\n",
       "      <td id=\"T_3ab44_row4_col26\" class=\"data row4 col26\" >-0.120000</td>\n",
       "      <td id=\"T_3ab44_row4_col27\" class=\"data row4 col27\" >0.000000</td>\n",
       "      <td id=\"T_3ab44_row4_col28\" class=\"data row4 col28\" >-0.160000</td>\n",
       "      <td id=\"T_3ab44_row4_col29\" class=\"data row4 col29\" >-0.070000</td>\n",
       "    </tr>\n",
       "    <tr>\n",
       "      <th id=\"T_3ab44_level0_row5\" class=\"row_heading level0 row5\" >Conscientiousness</th>\n",
       "      <td id=\"T_3ab44_row5_col0\" class=\"data row5 col0\" >-0.230000</td>\n",
       "      <td id=\"T_3ab44_row5_col1\" class=\"data row5 col1\" >0.220000</td>\n",
       "      <td id=\"T_3ab44_row5_col2\" class=\"data row5 col2\" >0.250000</td>\n",
       "      <td id=\"T_3ab44_row5_col3\" class=\"data row5 col3\" >0.100000</td>\n",
       "      <td id=\"T_3ab44_row5_col4\" class=\"data row5 col4\" >0.020000</td>\n",
       "      <td id=\"T_3ab44_row5_col5\" class=\"data row5 col5\" >1.000000</td>\n",
       "      <td id=\"T_3ab44_row5_col6\" class=\"data row5 col6\" >0.040000</td>\n",
       "      <td id=\"T_3ab44_row5_col7\" class=\"data row5 col7\" >0.140000</td>\n",
       "      <td id=\"T_3ab44_row5_col8\" class=\"data row5 col8\" >0.190000</td>\n",
       "      <td id=\"T_3ab44_row5_col9\" class=\"data row5 col9\" >0.080000</td>\n",
       "      <td id=\"T_3ab44_row5_col10\" class=\"data row5 col10\" >0.030000</td>\n",
       "      <td id=\"T_3ab44_row5_col11\" class=\"data row5 col11\" >0.110000</td>\n",
       "      <td id=\"T_3ab44_row5_col12\" class=\"data row5 col12\" >0.170000</td>\n",
       "      <td id=\"T_3ab44_row5_col13\" class=\"data row5 col13\" >0.060000</td>\n",
       "      <td id=\"T_3ab44_row5_col14\" class=\"data row5 col14\" >0.080000</td>\n",
       "      <td id=\"T_3ab44_row5_col15\" class=\"data row5 col15\" >0.190000</td>\n",
       "      <td id=\"T_3ab44_row5_col16\" class=\"data row5 col16\" >0.030000</td>\n",
       "      <td id=\"T_3ab44_row5_col17\" class=\"data row5 col17\" >0.140000</td>\n",
       "      <td id=\"T_3ab44_row5_col18\" class=\"data row5 col18\" >0.010000</td>\n",
       "      <td id=\"T_3ab44_row5_col19\" class=\"data row5 col19\" >0.160000</td>\n",
       "      <td id=\"T_3ab44_row5_col20\" class=\"data row5 col20\" >0.190000</td>\n",
       "      <td id=\"T_3ab44_row5_col21\" class=\"data row5 col21\" >0.120000</td>\n",
       "      <td id=\"T_3ab44_row5_col22\" class=\"data row5 col22\" >0.100000</td>\n",
       "      <td id=\"T_3ab44_row5_col23\" class=\"data row5 col23\" >0.120000</td>\n",
       "      <td id=\"T_3ab44_row5_col24\" class=\"data row5 col24\" >0.020000</td>\n",
       "      <td id=\"T_3ab44_row5_col25\" class=\"data row5 col25\" >0.010000</td>\n",
       "      <td id=\"T_3ab44_row5_col26\" class=\"data row5 col26\" >-0.030000</td>\n",
       "      <td id=\"T_3ab44_row5_col27\" class=\"data row5 col27\" >0.030000</td>\n",
       "      <td id=\"T_3ab44_row5_col28\" class=\"data row5 col28\" >-0.010000</td>\n",
       "      <td id=\"T_3ab44_row5_col29\" class=\"data row5 col29\" >0.040000</td>\n",
       "    </tr>\n",
       "    <tr>\n",
       "      <th id=\"T_3ab44_level0_row6\" class=\"row_heading level0 row6\" >Neuroticism</th>\n",
       "      <td id=\"T_3ab44_row6_col0\" class=\"data row6 col0\" >0.040000</td>\n",
       "      <td id=\"T_3ab44_row6_col1\" class=\"data row6 col1\" >0.030000</td>\n",
       "      <td id=\"T_3ab44_row6_col2\" class=\"data row6 col2\" >0.030000</td>\n",
       "      <td id=\"T_3ab44_row6_col3\" class=\"data row6 col3\" >-0.050000</td>\n",
       "      <td id=\"T_3ab44_row6_col4\" class=\"data row6 col4\" >0.140000</td>\n",
       "      <td id=\"T_3ab44_row6_col5\" class=\"data row6 col5\" >0.040000</td>\n",
       "      <td id=\"T_3ab44_row6_col6\" class=\"data row6 col6\" >1.000000</td>\n",
       "      <td id=\"T_3ab44_row6_col7\" class=\"data row6 col7\" >0.260000</td>\n",
       "      <td id=\"T_3ab44_row6_col8\" class=\"data row6 col8\" >0.140000</td>\n",
       "      <td id=\"T_3ab44_row6_col9\" class=\"data row6 col9\" >0.270000</td>\n",
       "      <td id=\"T_3ab44_row6_col10\" class=\"data row6 col10\" >0.170000</td>\n",
       "      <td id=\"T_3ab44_row6_col11\" class=\"data row6 col11\" >0.160000</td>\n",
       "      <td id=\"T_3ab44_row6_col12\" class=\"data row6 col12\" >0.050000</td>\n",
       "      <td id=\"T_3ab44_row6_col13\" class=\"data row6 col13\" >0.020000</td>\n",
       "      <td id=\"T_3ab44_row6_col14\" class=\"data row6 col14\" >0.000000</td>\n",
       "      <td id=\"T_3ab44_row6_col15\" class=\"data row6 col15\" >0.070000</td>\n",
       "      <td id=\"T_3ab44_row6_col16\" class=\"data row6 col16\" >0.250000</td>\n",
       "      <td id=\"T_3ab44_row6_col17\" class=\"data row6 col17\" >0.110000</td>\n",
       "      <td id=\"T_3ab44_row6_col18\" class=\"data row6 col18\" >0.190000</td>\n",
       "      <td id=\"T_3ab44_row6_col19\" class=\"data row6 col19\" >0.120000</td>\n",
       "      <td id=\"T_3ab44_row6_col20\" class=\"data row6 col20\" >-0.080000</td>\n",
       "      <td id=\"T_3ab44_row6_col21\" class=\"data row6 col21\" >-0.050000</td>\n",
       "      <td id=\"T_3ab44_row6_col22\" class=\"data row6 col22\" >-0.010000</td>\n",
       "      <td id=\"T_3ab44_row6_col23\" class=\"data row6 col23\" >-0.010000</td>\n",
       "      <td id=\"T_3ab44_row6_col24\" class=\"data row6 col24\" >0.100000</td>\n",
       "      <td id=\"T_3ab44_row6_col25\" class=\"data row6 col25\" >0.070000</td>\n",
       "      <td id=\"T_3ab44_row6_col26\" class=\"data row6 col26\" >0.060000</td>\n",
       "      <td id=\"T_3ab44_row6_col27\" class=\"data row6 col27\" >-0.270000</td>\n",
       "      <td id=\"T_3ab44_row6_col28\" class=\"data row6 col28\" >-0.230000</td>\n",
       "      <td id=\"T_3ab44_row6_col29\" class=\"data row6 col29\" >0.000000</td>\n",
       "    </tr>\n",
       "    <tr>\n",
       "      <th id=\"T_3ab44_level0_row7\" class=\"row_heading level0 row7\" >Interface_1</th>\n",
       "      <td id=\"T_3ab44_row7_col0\" class=\"data row7 col0\" >-0.080000</td>\n",
       "      <td id=\"T_3ab44_row7_col1\" class=\"data row7 col1\" >0.090000</td>\n",
       "      <td id=\"T_3ab44_row7_col2\" class=\"data row7 col2\" >0.070000</td>\n",
       "      <td id=\"T_3ab44_row7_col3\" class=\"data row7 col3\" >-0.020000</td>\n",
       "      <td id=\"T_3ab44_row7_col4\" class=\"data row7 col4\" >0.030000</td>\n",
       "      <td id=\"T_3ab44_row7_col5\" class=\"data row7 col5\" >0.140000</td>\n",
       "      <td id=\"T_3ab44_row7_col6\" class=\"data row7 col6\" >0.260000</td>\n",
       "      <td id=\"T_3ab44_row7_col7\" class=\"data row7 col7\" >1.000000</td>\n",
       "      <td id=\"T_3ab44_row7_col8\" class=\"data row7 col8\" >0.680000</td>\n",
       "      <td id=\"T_3ab44_row7_col9\" class=\"data row7 col9\" >0.760000</td>\n",
       "      <td id=\"T_3ab44_row7_col10\" class=\"data row7 col10\" >0.400000</td>\n",
       "      <td id=\"T_3ab44_row7_col11\" class=\"data row7 col11\" >0.560000</td>\n",
       "      <td id=\"T_3ab44_row7_col12\" class=\"data row7 col12\" >0.230000</td>\n",
       "      <td id=\"T_3ab44_row7_col13\" class=\"data row7 col13\" >0.170000</td>\n",
       "      <td id=\"T_3ab44_row7_col14\" class=\"data row7 col14\" >0.130000</td>\n",
       "      <td id=\"T_3ab44_row7_col15\" class=\"data row7 col15\" >0.170000</td>\n",
       "      <td id=\"T_3ab44_row7_col16\" class=\"data row7 col16\" >0.250000</td>\n",
       "      <td id=\"T_3ab44_row7_col17\" class=\"data row7 col17\" >0.520000</td>\n",
       "      <td id=\"T_3ab44_row7_col18\" class=\"data row7 col18\" >0.410000</td>\n",
       "      <td id=\"T_3ab44_row7_col19\" class=\"data row7 col19\" >0.240000</td>\n",
       "      <td id=\"T_3ab44_row7_col20\" class=\"data row7 col20\" >0.180000</td>\n",
       "      <td id=\"T_3ab44_row7_col21\" class=\"data row7 col21\" >0.300000</td>\n",
       "      <td id=\"T_3ab44_row7_col22\" class=\"data row7 col22\" >0.260000</td>\n",
       "      <td id=\"T_3ab44_row7_col23\" class=\"data row7 col23\" >0.410000</td>\n",
       "      <td id=\"T_3ab44_row7_col24\" class=\"data row7 col24\" >0.280000</td>\n",
       "      <td id=\"T_3ab44_row7_col25\" class=\"data row7 col25\" >0.240000</td>\n",
       "      <td id=\"T_3ab44_row7_col26\" class=\"data row7 col26\" >-0.040000</td>\n",
       "      <td id=\"T_3ab44_row7_col27\" class=\"data row7 col27\" >-0.330000</td>\n",
       "      <td id=\"T_3ab44_row7_col28\" class=\"data row7 col28\" >-0.320000</td>\n",
       "      <td id=\"T_3ab44_row7_col29\" class=\"data row7 col29\" >-0.290000</td>\n",
       "    </tr>\n",
       "    <tr>\n",
       "      <th id=\"T_3ab44_level0_row8\" class=\"row_heading level0 row8\" >Interface_2</th>\n",
       "      <td id=\"T_3ab44_row8_col0\" class=\"data row8 col0\" >-0.140000</td>\n",
       "      <td id=\"T_3ab44_row8_col1\" class=\"data row8 col1\" >0.080000</td>\n",
       "      <td id=\"T_3ab44_row8_col2\" class=\"data row8 col2\" >0.050000</td>\n",
       "      <td id=\"T_3ab44_row8_col3\" class=\"data row8 col3\" >0.180000</td>\n",
       "      <td id=\"T_3ab44_row8_col4\" class=\"data row8 col4\" >0.060000</td>\n",
       "      <td id=\"T_3ab44_row8_col5\" class=\"data row8 col5\" >0.190000</td>\n",
       "      <td id=\"T_3ab44_row8_col6\" class=\"data row8 col6\" >0.140000</td>\n",
       "      <td id=\"T_3ab44_row8_col7\" class=\"data row8 col7\" >0.680000</td>\n",
       "      <td id=\"T_3ab44_row8_col8\" class=\"data row8 col8\" >1.000000</td>\n",
       "      <td id=\"T_3ab44_row8_col9\" class=\"data row8 col9\" >0.720000</td>\n",
       "      <td id=\"T_3ab44_row8_col10\" class=\"data row8 col10\" >0.400000</td>\n",
       "      <td id=\"T_3ab44_row8_col11\" class=\"data row8 col11\" >0.480000</td>\n",
       "      <td id=\"T_3ab44_row8_col12\" class=\"data row8 col12\" >0.310000</td>\n",
       "      <td id=\"T_3ab44_row8_col13\" class=\"data row8 col13\" >0.330000</td>\n",
       "      <td id=\"T_3ab44_row8_col14\" class=\"data row8 col14\" >0.260000</td>\n",
       "      <td id=\"T_3ab44_row8_col15\" class=\"data row8 col15\" >0.310000</td>\n",
       "      <td id=\"T_3ab44_row8_col16\" class=\"data row8 col16\" >0.240000</td>\n",
       "      <td id=\"T_3ab44_row8_col17\" class=\"data row8 col17\" >0.350000</td>\n",
       "      <td id=\"T_3ab44_row8_col18\" class=\"data row8 col18\" >0.330000</td>\n",
       "      <td id=\"T_3ab44_row8_col19\" class=\"data row8 col19\" >0.220000</td>\n",
       "      <td id=\"T_3ab44_row8_col20\" class=\"data row8 col20\" >0.250000</td>\n",
       "      <td id=\"T_3ab44_row8_col21\" class=\"data row8 col21\" >0.330000</td>\n",
       "      <td id=\"T_3ab44_row8_col22\" class=\"data row8 col22\" >0.260000</td>\n",
       "      <td id=\"T_3ab44_row8_col23\" class=\"data row8 col23\" >0.310000</td>\n",
       "      <td id=\"T_3ab44_row8_col24\" class=\"data row8 col24\" >0.360000</td>\n",
       "      <td id=\"T_3ab44_row8_col25\" class=\"data row8 col25\" >0.180000</td>\n",
       "      <td id=\"T_3ab44_row8_col26\" class=\"data row8 col26\" >-0.010000</td>\n",
       "      <td id=\"T_3ab44_row8_col27\" class=\"data row8 col27\" >-0.410000</td>\n",
       "      <td id=\"T_3ab44_row8_col28\" class=\"data row8 col28\" >-0.360000</td>\n",
       "      <td id=\"T_3ab44_row8_col29\" class=\"data row8 col29\" >-0.190000</td>\n",
       "    </tr>\n",
       "    <tr>\n",
       "      <th id=\"T_3ab44_level0_row9\" class=\"row_heading level0 row9\" >Interface_3</th>\n",
       "      <td id=\"T_3ab44_row9_col0\" class=\"data row9 col0\" >-0.120000</td>\n",
       "      <td id=\"T_3ab44_row9_col1\" class=\"data row9 col1\" >0.050000</td>\n",
       "      <td id=\"T_3ab44_row9_col2\" class=\"data row9 col2\" >0.180000</td>\n",
       "      <td id=\"T_3ab44_row9_col3\" class=\"data row9 col3\" >0.100000</td>\n",
       "      <td id=\"T_3ab44_row9_col4\" class=\"data row9 col4\" >0.060000</td>\n",
       "      <td id=\"T_3ab44_row9_col5\" class=\"data row9 col5\" >0.080000</td>\n",
       "      <td id=\"T_3ab44_row9_col6\" class=\"data row9 col6\" >0.270000</td>\n",
       "      <td id=\"T_3ab44_row9_col7\" class=\"data row9 col7\" >0.760000</td>\n",
       "      <td id=\"T_3ab44_row9_col8\" class=\"data row9 col8\" >0.720000</td>\n",
       "      <td id=\"T_3ab44_row9_col9\" class=\"data row9 col9\" >1.000000</td>\n",
       "      <td id=\"T_3ab44_row9_col10\" class=\"data row9 col10\" >0.270000</td>\n",
       "      <td id=\"T_3ab44_row9_col11\" class=\"data row9 col11\" >0.410000</td>\n",
       "      <td id=\"T_3ab44_row9_col12\" class=\"data row9 col12\" >0.310000</td>\n",
       "      <td id=\"T_3ab44_row9_col13\" class=\"data row9 col13\" >0.260000</td>\n",
       "      <td id=\"T_3ab44_row9_col14\" class=\"data row9 col14\" >0.140000</td>\n",
       "      <td id=\"T_3ab44_row9_col15\" class=\"data row9 col15\" >0.150000</td>\n",
       "      <td id=\"T_3ab44_row9_col16\" class=\"data row9 col16\" >0.290000</td>\n",
       "      <td id=\"T_3ab44_row9_col17\" class=\"data row9 col17\" >0.420000</td>\n",
       "      <td id=\"T_3ab44_row9_col18\" class=\"data row9 col18\" >0.370000</td>\n",
       "      <td id=\"T_3ab44_row9_col19\" class=\"data row9 col19\" >0.200000</td>\n",
       "      <td id=\"T_3ab44_row9_col20\" class=\"data row9 col20\" >0.150000</td>\n",
       "      <td id=\"T_3ab44_row9_col21\" class=\"data row9 col21\" >0.260000</td>\n",
       "      <td id=\"T_3ab44_row9_col22\" class=\"data row9 col22\" >0.240000</td>\n",
       "      <td id=\"T_3ab44_row9_col23\" class=\"data row9 col23\" >0.340000</td>\n",
       "      <td id=\"T_3ab44_row9_col24\" class=\"data row9 col24\" >0.300000</td>\n",
       "      <td id=\"T_3ab44_row9_col25\" class=\"data row9 col25\" >0.160000</td>\n",
       "      <td id=\"T_3ab44_row9_col26\" class=\"data row9 col26\" >0.010000</td>\n",
       "      <td id=\"T_3ab44_row9_col27\" class=\"data row9 col27\" >-0.290000</td>\n",
       "      <td id=\"T_3ab44_row9_col28\" class=\"data row9 col28\" >-0.290000</td>\n",
       "      <td id=\"T_3ab44_row9_col29\" class=\"data row9 col29\" >-0.290000</td>\n",
       "    </tr>\n",
       "    <tr>\n",
       "      <th id=\"T_3ab44_level0_row10\" class=\"row_heading level0 row10\" >Interface_4</th>\n",
       "      <td id=\"T_3ab44_row10_col0\" class=\"data row10 col0\" >0.040000</td>\n",
       "      <td id=\"T_3ab44_row10_col1\" class=\"data row10 col1\" >0.170000</td>\n",
       "      <td id=\"T_3ab44_row10_col2\" class=\"data row10 col2\" >0.120000</td>\n",
       "      <td id=\"T_3ab44_row10_col3\" class=\"data row10 col3\" >0.240000</td>\n",
       "      <td id=\"T_3ab44_row10_col4\" class=\"data row10 col4\" >0.060000</td>\n",
       "      <td id=\"T_3ab44_row10_col5\" class=\"data row10 col5\" >0.030000</td>\n",
       "      <td id=\"T_3ab44_row10_col6\" class=\"data row10 col6\" >0.170000</td>\n",
       "      <td id=\"T_3ab44_row10_col7\" class=\"data row10 col7\" >0.400000</td>\n",
       "      <td id=\"T_3ab44_row10_col8\" class=\"data row10 col8\" >0.400000</td>\n",
       "      <td id=\"T_3ab44_row10_col9\" class=\"data row10 col9\" >0.270000</td>\n",
       "      <td id=\"T_3ab44_row10_col10\" class=\"data row10 col10\" >1.000000</td>\n",
       "      <td id=\"T_3ab44_row10_col11\" class=\"data row10 col11\" >0.290000</td>\n",
       "      <td id=\"T_3ab44_row10_col12\" class=\"data row10 col12\" >0.180000</td>\n",
       "      <td id=\"T_3ab44_row10_col13\" class=\"data row10 col13\" >0.240000</td>\n",
       "      <td id=\"T_3ab44_row10_col14\" class=\"data row10 col14\" >0.260000</td>\n",
       "      <td id=\"T_3ab44_row10_col15\" class=\"data row10 col15\" >0.180000</td>\n",
       "      <td id=\"T_3ab44_row10_col16\" class=\"data row10 col16\" >0.300000</td>\n",
       "      <td id=\"T_3ab44_row10_col17\" class=\"data row10 col17\" >0.200000</td>\n",
       "      <td id=\"T_3ab44_row10_col18\" class=\"data row10 col18\" >0.390000</td>\n",
       "      <td id=\"T_3ab44_row10_col19\" class=\"data row10 col19\" >0.350000</td>\n",
       "      <td id=\"T_3ab44_row10_col20\" class=\"data row10 col20\" >0.440000</td>\n",
       "      <td id=\"T_3ab44_row10_col21\" class=\"data row10 col21\" >0.320000</td>\n",
       "      <td id=\"T_3ab44_row10_col22\" class=\"data row10 col22\" >0.140000</td>\n",
       "      <td id=\"T_3ab44_row10_col23\" class=\"data row10 col23\" >0.080000</td>\n",
       "      <td id=\"T_3ab44_row10_col24\" class=\"data row10 col24\" >0.730000</td>\n",
       "      <td id=\"T_3ab44_row10_col25\" class=\"data row10 col25\" >0.230000</td>\n",
       "      <td id=\"T_3ab44_row10_col26\" class=\"data row10 col26\" >-0.010000</td>\n",
       "      <td id=\"T_3ab44_row10_col27\" class=\"data row10 col27\" >-0.260000</td>\n",
       "      <td id=\"T_3ab44_row10_col28\" class=\"data row10 col28\" >-0.200000</td>\n",
       "      <td id=\"T_3ab44_row10_col29\" class=\"data row10 col29\" >0.040000</td>\n",
       "    </tr>\n",
       "    <tr>\n",
       "      <th id=\"T_3ab44_level0_row11\" class=\"row_heading level0 row11\" >Interface_5</th>\n",
       "      <td id=\"T_3ab44_row11_col0\" class=\"data row11 col0\" >-0.160000</td>\n",
       "      <td id=\"T_3ab44_row11_col1\" class=\"data row11 col1\" >0.070000</td>\n",
       "      <td id=\"T_3ab44_row11_col2\" class=\"data row11 col2\" >0.200000</td>\n",
       "      <td id=\"T_3ab44_row11_col3\" class=\"data row11 col3\" >0.150000</td>\n",
       "      <td id=\"T_3ab44_row11_col4\" class=\"data row11 col4\" >0.120000</td>\n",
       "      <td id=\"T_3ab44_row11_col5\" class=\"data row11 col5\" >0.110000</td>\n",
       "      <td id=\"T_3ab44_row11_col6\" class=\"data row11 col6\" >0.160000</td>\n",
       "      <td id=\"T_3ab44_row11_col7\" class=\"data row11 col7\" >0.560000</td>\n",
       "      <td id=\"T_3ab44_row11_col8\" class=\"data row11 col8\" >0.480000</td>\n",
       "      <td id=\"T_3ab44_row11_col9\" class=\"data row11 col9\" >0.410000</td>\n",
       "      <td id=\"T_3ab44_row11_col10\" class=\"data row11 col10\" >0.290000</td>\n",
       "      <td id=\"T_3ab44_row11_col11\" class=\"data row11 col11\" >1.000000</td>\n",
       "      <td id=\"T_3ab44_row11_col12\" class=\"data row11 col12\" >0.350000</td>\n",
       "      <td id=\"T_3ab44_row11_col13\" class=\"data row11 col13\" >0.350000</td>\n",
       "      <td id=\"T_3ab44_row11_col14\" class=\"data row11 col14\" >0.240000</td>\n",
       "      <td id=\"T_3ab44_row11_col15\" class=\"data row11 col15\" >0.240000</td>\n",
       "      <td id=\"T_3ab44_row11_col16\" class=\"data row11 col16\" >0.150000</td>\n",
       "      <td id=\"T_3ab44_row11_col17\" class=\"data row11 col17\" >0.350000</td>\n",
       "      <td id=\"T_3ab44_row11_col18\" class=\"data row11 col18\" >0.310000</td>\n",
       "      <td id=\"T_3ab44_row11_col19\" class=\"data row11 col19\" >0.090000</td>\n",
       "      <td id=\"T_3ab44_row11_col20\" class=\"data row11 col20\" >0.180000</td>\n",
       "      <td id=\"T_3ab44_row11_col21\" class=\"data row11 col21\" >0.310000</td>\n",
       "      <td id=\"T_3ab44_row11_col22\" class=\"data row11 col22\" >0.350000</td>\n",
       "      <td id=\"T_3ab44_row11_col23\" class=\"data row11 col23\" >0.360000</td>\n",
       "      <td id=\"T_3ab44_row11_col24\" class=\"data row11 col24\" >0.210000</td>\n",
       "      <td id=\"T_3ab44_row11_col25\" class=\"data row11 col25\" >0.200000</td>\n",
       "      <td id=\"T_3ab44_row11_col26\" class=\"data row11 col26\" >-0.010000</td>\n",
       "      <td id=\"T_3ab44_row11_col27\" class=\"data row11 col27\" >-0.220000</td>\n",
       "      <td id=\"T_3ab44_row11_col28\" class=\"data row11 col28\" >-0.290000</td>\n",
       "      <td id=\"T_3ab44_row11_col29\" class=\"data row11 col29\" >-0.140000</td>\n",
       "    </tr>\n",
       "    <tr>\n",
       "      <th id=\"T_3ab44_level0_row12\" class=\"row_heading level0 row12\" >Interface_6</th>\n",
       "      <td id=\"T_3ab44_row12_col0\" class=\"data row12 col0\" >-0.080000</td>\n",
       "      <td id=\"T_3ab44_row12_col1\" class=\"data row12 col1\" >0.130000</td>\n",
       "      <td id=\"T_3ab44_row12_col2\" class=\"data row12 col2\" >0.100000</td>\n",
       "      <td id=\"T_3ab44_row12_col3\" class=\"data row12 col3\" >0.180000</td>\n",
       "      <td id=\"T_3ab44_row12_col4\" class=\"data row12 col4\" >-0.040000</td>\n",
       "      <td id=\"T_3ab44_row12_col5\" class=\"data row12 col5\" >0.170000</td>\n",
       "      <td id=\"T_3ab44_row12_col6\" class=\"data row12 col6\" >0.050000</td>\n",
       "      <td id=\"T_3ab44_row12_col7\" class=\"data row12 col7\" >0.230000</td>\n",
       "      <td id=\"T_3ab44_row12_col8\" class=\"data row12 col8\" >0.310000</td>\n",
       "      <td id=\"T_3ab44_row12_col9\" class=\"data row12 col9\" >0.310000</td>\n",
       "      <td id=\"T_3ab44_row12_col10\" class=\"data row12 col10\" >0.180000</td>\n",
       "      <td id=\"T_3ab44_row12_col11\" class=\"data row12 col11\" >0.350000</td>\n",
       "      <td id=\"T_3ab44_row12_col12\" class=\"data row12 col12\" >1.000000</td>\n",
       "      <td id=\"T_3ab44_row12_col13\" class=\"data row12 col13\" >0.640000</td>\n",
       "      <td id=\"T_3ab44_row12_col14\" class=\"data row12 col14\" >0.600000</td>\n",
       "      <td id=\"T_3ab44_row12_col15\" class=\"data row12 col15\" >0.530000</td>\n",
       "      <td id=\"T_3ab44_row12_col16\" class=\"data row12 col16\" >0.210000</td>\n",
       "      <td id=\"T_3ab44_row12_col17\" class=\"data row12 col17\" >0.390000</td>\n",
       "      <td id=\"T_3ab44_row12_col18\" class=\"data row12 col18\" >0.270000</td>\n",
       "      <td id=\"T_3ab44_row12_col19\" class=\"data row12 col19\" >0.340000</td>\n",
       "      <td id=\"T_3ab44_row12_col20\" class=\"data row12 col20\" >0.440000</td>\n",
       "      <td id=\"T_3ab44_row12_col21\" class=\"data row12 col21\" >0.450000</td>\n",
       "      <td id=\"T_3ab44_row12_col22\" class=\"data row12 col22\" >0.200000</td>\n",
       "      <td id=\"T_3ab44_row12_col23\" class=\"data row12 col23\" >0.240000</td>\n",
       "      <td id=\"T_3ab44_row12_col24\" class=\"data row12 col24\" >0.350000</td>\n",
       "      <td id=\"T_3ab44_row12_col25\" class=\"data row12 col25\" >0.520000</td>\n",
       "      <td id=\"T_3ab44_row12_col26\" class=\"data row12 col26\" >-0.010000</td>\n",
       "      <td id=\"T_3ab44_row12_col27\" class=\"data row12 col27\" >-0.100000</td>\n",
       "      <td id=\"T_3ab44_row12_col28\" class=\"data row12 col28\" >-0.140000</td>\n",
       "      <td id=\"T_3ab44_row12_col29\" class=\"data row12 col29\" >0.070000</td>\n",
       "    </tr>\n",
       "    <tr>\n",
       "      <th id=\"T_3ab44_level0_row13\" class=\"row_heading level0 row13\" >Interface_7</th>\n",
       "      <td id=\"T_3ab44_row13_col0\" class=\"data row13 col0\" >-0.010000</td>\n",
       "      <td id=\"T_3ab44_row13_col1\" class=\"data row13 col1\" >-0.020000</td>\n",
       "      <td id=\"T_3ab44_row13_col2\" class=\"data row13 col2\" >0.050000</td>\n",
       "      <td id=\"T_3ab44_row13_col3\" class=\"data row13 col3\" >0.090000</td>\n",
       "      <td id=\"T_3ab44_row13_col4\" class=\"data row13 col4\" >-0.100000</td>\n",
       "      <td id=\"T_3ab44_row13_col5\" class=\"data row13 col5\" >0.060000</td>\n",
       "      <td id=\"T_3ab44_row13_col6\" class=\"data row13 col6\" >0.020000</td>\n",
       "      <td id=\"T_3ab44_row13_col7\" class=\"data row13 col7\" >0.170000</td>\n",
       "      <td id=\"T_3ab44_row13_col8\" class=\"data row13 col8\" >0.330000</td>\n",
       "      <td id=\"T_3ab44_row13_col9\" class=\"data row13 col9\" >0.260000</td>\n",
       "      <td id=\"T_3ab44_row13_col10\" class=\"data row13 col10\" >0.240000</td>\n",
       "      <td id=\"T_3ab44_row13_col11\" class=\"data row13 col11\" >0.350000</td>\n",
       "      <td id=\"T_3ab44_row13_col12\" class=\"data row13 col12\" >0.640000</td>\n",
       "      <td id=\"T_3ab44_row13_col13\" class=\"data row13 col13\" >1.000000</td>\n",
       "      <td id=\"T_3ab44_row13_col14\" class=\"data row13 col14\" >0.490000</td>\n",
       "      <td id=\"T_3ab44_row13_col15\" class=\"data row13 col15\" >0.390000</td>\n",
       "      <td id=\"T_3ab44_row13_col16\" class=\"data row13 col16\" >0.160000</td>\n",
       "      <td id=\"T_3ab44_row13_col17\" class=\"data row13 col17\" >0.200000</td>\n",
       "      <td id=\"T_3ab44_row13_col18\" class=\"data row13 col18\" >0.310000</td>\n",
       "      <td id=\"T_3ab44_row13_col19\" class=\"data row13 col19\" >0.310000</td>\n",
       "      <td id=\"T_3ab44_row13_col20\" class=\"data row13 col20\" >0.270000</td>\n",
       "      <td id=\"T_3ab44_row13_col21\" class=\"data row13 col21\" >0.310000</td>\n",
       "      <td id=\"T_3ab44_row13_col22\" class=\"data row13 col22\" >0.170000</td>\n",
       "      <td id=\"T_3ab44_row13_col23\" class=\"data row13 col23\" >0.220000</td>\n",
       "      <td id=\"T_3ab44_row13_col24\" class=\"data row13 col24\" >0.380000</td>\n",
       "      <td id=\"T_3ab44_row13_col25\" class=\"data row13 col25\" >0.470000</td>\n",
       "      <td id=\"T_3ab44_row13_col26\" class=\"data row13 col26\" >-0.010000</td>\n",
       "      <td id=\"T_3ab44_row13_col27\" class=\"data row13 col27\" >-0.130000</td>\n",
       "      <td id=\"T_3ab44_row13_col28\" class=\"data row13 col28\" >-0.200000</td>\n",
       "      <td id=\"T_3ab44_row13_col29\" class=\"data row13 col29\" >0.130000</td>\n",
       "    </tr>\n",
       "    <tr>\n",
       "      <th id=\"T_3ab44_level0_row14\" class=\"row_heading level0 row14\" >Interface_8</th>\n",
       "      <td id=\"T_3ab44_row14_col0\" class=\"data row14 col0\" >0.070000</td>\n",
       "      <td id=\"T_3ab44_row14_col1\" class=\"data row14 col1\" >0.050000</td>\n",
       "      <td id=\"T_3ab44_row14_col2\" class=\"data row14 col2\" >0.100000</td>\n",
       "      <td id=\"T_3ab44_row14_col3\" class=\"data row14 col3\" >0.100000</td>\n",
       "      <td id=\"T_3ab44_row14_col4\" class=\"data row14 col4\" >-0.050000</td>\n",
       "      <td id=\"T_3ab44_row14_col5\" class=\"data row14 col5\" >0.080000</td>\n",
       "      <td id=\"T_3ab44_row14_col6\" class=\"data row14 col6\" >0.000000</td>\n",
       "      <td id=\"T_3ab44_row14_col7\" class=\"data row14 col7\" >0.130000</td>\n",
       "      <td id=\"T_3ab44_row14_col8\" class=\"data row14 col8\" >0.260000</td>\n",
       "      <td id=\"T_3ab44_row14_col9\" class=\"data row14 col9\" >0.140000</td>\n",
       "      <td id=\"T_3ab44_row14_col10\" class=\"data row14 col10\" >0.260000</td>\n",
       "      <td id=\"T_3ab44_row14_col11\" class=\"data row14 col11\" >0.240000</td>\n",
       "      <td id=\"T_3ab44_row14_col12\" class=\"data row14 col12\" >0.600000</td>\n",
       "      <td id=\"T_3ab44_row14_col13\" class=\"data row14 col13\" >0.490000</td>\n",
       "      <td id=\"T_3ab44_row14_col14\" class=\"data row14 col14\" >1.000000</td>\n",
       "      <td id=\"T_3ab44_row14_col15\" class=\"data row14 col15\" >0.730000</td>\n",
       "      <td id=\"T_3ab44_row14_col16\" class=\"data row14 col16\" >0.180000</td>\n",
       "      <td id=\"T_3ab44_row14_col17\" class=\"data row14 col17\" >0.250000</td>\n",
       "      <td id=\"T_3ab44_row14_col18\" class=\"data row14 col18\" >0.360000</td>\n",
       "      <td id=\"T_3ab44_row14_col19\" class=\"data row14 col19\" >0.240000</td>\n",
       "      <td id=\"T_3ab44_row14_col20\" class=\"data row14 col20\" >0.310000</td>\n",
       "      <td id=\"T_3ab44_row14_col21\" class=\"data row14 col21\" >0.240000</td>\n",
       "      <td id=\"T_3ab44_row14_col22\" class=\"data row14 col22\" >0.220000</td>\n",
       "      <td id=\"T_3ab44_row14_col23\" class=\"data row14 col23\" >0.130000</td>\n",
       "      <td id=\"T_3ab44_row14_col24\" class=\"data row14 col24\" >0.330000</td>\n",
       "      <td id=\"T_3ab44_row14_col25\" class=\"data row14 col25\" >0.540000</td>\n",
       "      <td id=\"T_3ab44_row14_col26\" class=\"data row14 col26\" >0.010000</td>\n",
       "      <td id=\"T_3ab44_row14_col27\" class=\"data row14 col27\" >-0.110000</td>\n",
       "      <td id=\"T_3ab44_row14_col28\" class=\"data row14 col28\" >-0.210000</td>\n",
       "      <td id=\"T_3ab44_row14_col29\" class=\"data row14 col29\" >0.080000</td>\n",
       "    </tr>\n",
       "    <tr>\n",
       "      <th id=\"T_3ab44_level0_row15\" class=\"row_heading level0 row15\" >Interface_9</th>\n",
       "      <td id=\"T_3ab44_row15_col0\" class=\"data row15 col0\" >-0.020000</td>\n",
       "      <td id=\"T_3ab44_row15_col1\" class=\"data row15 col1\" >0.060000</td>\n",
       "      <td id=\"T_3ab44_row15_col2\" class=\"data row15 col2\" >-0.020000</td>\n",
       "      <td id=\"T_3ab44_row15_col3\" class=\"data row15 col3\" >0.110000</td>\n",
       "      <td id=\"T_3ab44_row15_col4\" class=\"data row15 col4\" >0.080000</td>\n",
       "      <td id=\"T_3ab44_row15_col5\" class=\"data row15 col5\" >0.190000</td>\n",
       "      <td id=\"T_3ab44_row15_col6\" class=\"data row15 col6\" >0.070000</td>\n",
       "      <td id=\"T_3ab44_row15_col7\" class=\"data row15 col7\" >0.170000</td>\n",
       "      <td id=\"T_3ab44_row15_col8\" class=\"data row15 col8\" >0.310000</td>\n",
       "      <td id=\"T_3ab44_row15_col9\" class=\"data row15 col9\" >0.150000</td>\n",
       "      <td id=\"T_3ab44_row15_col10\" class=\"data row15 col10\" >0.180000</td>\n",
       "      <td id=\"T_3ab44_row15_col11\" class=\"data row15 col11\" >0.240000</td>\n",
       "      <td id=\"T_3ab44_row15_col12\" class=\"data row15 col12\" >0.530000</td>\n",
       "      <td id=\"T_3ab44_row15_col13\" class=\"data row15 col13\" >0.390000</td>\n",
       "      <td id=\"T_3ab44_row15_col14\" class=\"data row15 col14\" >0.730000</td>\n",
       "      <td id=\"T_3ab44_row15_col15\" class=\"data row15 col15\" >1.000000</td>\n",
       "      <td id=\"T_3ab44_row15_col16\" class=\"data row15 col16\" >0.190000</td>\n",
       "      <td id=\"T_3ab44_row15_col17\" class=\"data row15 col17\" >0.200000</td>\n",
       "      <td id=\"T_3ab44_row15_col18\" class=\"data row15 col18\" >0.200000</td>\n",
       "      <td id=\"T_3ab44_row15_col19\" class=\"data row15 col19\" >0.280000</td>\n",
       "      <td id=\"T_3ab44_row15_col20\" class=\"data row15 col20\" >0.290000</td>\n",
       "      <td id=\"T_3ab44_row15_col21\" class=\"data row15 col21\" >0.250000</td>\n",
       "      <td id=\"T_3ab44_row15_col22\" class=\"data row15 col22\" >0.240000</td>\n",
       "      <td id=\"T_3ab44_row15_col23\" class=\"data row15 col23\" >0.170000</td>\n",
       "      <td id=\"T_3ab44_row15_col24\" class=\"data row15 col24\" >0.190000</td>\n",
       "      <td id=\"T_3ab44_row15_col25\" class=\"data row15 col25\" >0.280000</td>\n",
       "      <td id=\"T_3ab44_row15_col26\" class=\"data row15 col26\" >-0.020000</td>\n",
       "      <td id=\"T_3ab44_row15_col27\" class=\"data row15 col27\" >-0.110000</td>\n",
       "      <td id=\"T_3ab44_row15_col28\" class=\"data row15 col28\" >-0.130000</td>\n",
       "      <td id=\"T_3ab44_row15_col29\" class=\"data row15 col29\" >0.040000</td>\n",
       "    </tr>\n",
       "    <tr>\n",
       "      <th id=\"T_3ab44_level0_row16\" class=\"row_heading level0 row16\" >Interface_10</th>\n",
       "      <td id=\"T_3ab44_row16_col0\" class=\"data row16 col0\" >0.210000</td>\n",
       "      <td id=\"T_3ab44_row16_col1\" class=\"data row16 col1\" >-0.100000</td>\n",
       "      <td id=\"T_3ab44_row16_col2\" class=\"data row16 col2\" >0.140000</td>\n",
       "      <td id=\"T_3ab44_row16_col3\" class=\"data row16 col3\" >0.020000</td>\n",
       "      <td id=\"T_3ab44_row16_col4\" class=\"data row16 col4\" >-0.180000</td>\n",
       "      <td id=\"T_3ab44_row16_col5\" class=\"data row16 col5\" >0.030000</td>\n",
       "      <td id=\"T_3ab44_row16_col6\" class=\"data row16 col6\" >0.250000</td>\n",
       "      <td id=\"T_3ab44_row16_col7\" class=\"data row16 col7\" >0.250000</td>\n",
       "      <td id=\"T_3ab44_row16_col8\" class=\"data row16 col8\" >0.240000</td>\n",
       "      <td id=\"T_3ab44_row16_col9\" class=\"data row16 col9\" >0.290000</td>\n",
       "      <td id=\"T_3ab44_row16_col10\" class=\"data row16 col10\" >0.300000</td>\n",
       "      <td id=\"T_3ab44_row16_col11\" class=\"data row16 col11\" >0.150000</td>\n",
       "      <td id=\"T_3ab44_row16_col12\" class=\"data row16 col12\" >0.210000</td>\n",
       "      <td id=\"T_3ab44_row16_col13\" class=\"data row16 col13\" >0.160000</td>\n",
       "      <td id=\"T_3ab44_row16_col14\" class=\"data row16 col14\" >0.180000</td>\n",
       "      <td id=\"T_3ab44_row16_col15\" class=\"data row16 col15\" >0.190000</td>\n",
       "      <td id=\"T_3ab44_row16_col16\" class=\"data row16 col16\" >1.000000</td>\n",
       "      <td id=\"T_3ab44_row16_col17\" class=\"data row16 col17\" >0.210000</td>\n",
       "      <td id=\"T_3ab44_row16_col18\" class=\"data row16 col18\" >0.110000</td>\n",
       "      <td id=\"T_3ab44_row16_col19\" class=\"data row16 col19\" >0.260000</td>\n",
       "      <td id=\"T_3ab44_row16_col20\" class=\"data row16 col20\" >0.030000</td>\n",
       "      <td id=\"T_3ab44_row16_col21\" class=\"data row16 col21\" >0.010000</td>\n",
       "      <td id=\"T_3ab44_row16_col22\" class=\"data row16 col22\" >-0.070000</td>\n",
       "      <td id=\"T_3ab44_row16_col23\" class=\"data row16 col23\" >0.190000</td>\n",
       "      <td id=\"T_3ab44_row16_col24\" class=\"data row16 col24\" >0.330000</td>\n",
       "      <td id=\"T_3ab44_row16_col25\" class=\"data row16 col25\" >0.260000</td>\n",
       "      <td id=\"T_3ab44_row16_col26\" class=\"data row16 col26\" >-0.020000</td>\n",
       "      <td id=\"T_3ab44_row16_col27\" class=\"data row16 col27\" >-0.140000</td>\n",
       "      <td id=\"T_3ab44_row16_col28\" class=\"data row16 col28\" >-0.060000</td>\n",
       "      <td id=\"T_3ab44_row16_col29\" class=\"data row16 col29\" >-0.060000</td>\n",
       "    </tr>\n",
       "    <tr>\n",
       "      <th id=\"T_3ab44_level0_row17\" class=\"row_heading level0 row17\" >Interface_11</th>\n",
       "      <td id=\"T_3ab44_row17_col0\" class=\"data row17 col0\" >-0.140000</td>\n",
       "      <td id=\"T_3ab44_row17_col1\" class=\"data row17 col1\" >0.000000</td>\n",
       "      <td id=\"T_3ab44_row17_col2\" class=\"data row17 col2\" >0.070000</td>\n",
       "      <td id=\"T_3ab44_row17_col3\" class=\"data row17 col3\" >0.060000</td>\n",
       "      <td id=\"T_3ab44_row17_col4\" class=\"data row17 col4\" >-0.040000</td>\n",
       "      <td id=\"T_3ab44_row17_col5\" class=\"data row17 col5\" >0.140000</td>\n",
       "      <td id=\"T_3ab44_row17_col6\" class=\"data row17 col6\" >0.110000</td>\n",
       "      <td id=\"T_3ab44_row17_col7\" class=\"data row17 col7\" >0.520000</td>\n",
       "      <td id=\"T_3ab44_row17_col8\" class=\"data row17 col8\" >0.350000</td>\n",
       "      <td id=\"T_3ab44_row17_col9\" class=\"data row17 col9\" >0.420000</td>\n",
       "      <td id=\"T_3ab44_row17_col10\" class=\"data row17 col10\" >0.200000</td>\n",
       "      <td id=\"T_3ab44_row17_col11\" class=\"data row17 col11\" >0.350000</td>\n",
       "      <td id=\"T_3ab44_row17_col12\" class=\"data row17 col12\" >0.390000</td>\n",
       "      <td id=\"T_3ab44_row17_col13\" class=\"data row17 col13\" >0.200000</td>\n",
       "      <td id=\"T_3ab44_row17_col14\" class=\"data row17 col14\" >0.250000</td>\n",
       "      <td id=\"T_3ab44_row17_col15\" class=\"data row17 col15\" >0.200000</td>\n",
       "      <td id=\"T_3ab44_row17_col16\" class=\"data row17 col16\" >0.210000</td>\n",
       "      <td id=\"T_3ab44_row17_col17\" class=\"data row17 col17\" >1.000000</td>\n",
       "      <td id=\"T_3ab44_row17_col18\" class=\"data row17 col18\" >0.470000</td>\n",
       "      <td id=\"T_3ab44_row17_col19\" class=\"data row17 col19\" >0.330000</td>\n",
       "      <td id=\"T_3ab44_row17_col20\" class=\"data row17 col20\" >0.290000</td>\n",
       "      <td id=\"T_3ab44_row17_col21\" class=\"data row17 col21\" >0.270000</td>\n",
       "      <td id=\"T_3ab44_row17_col22\" class=\"data row17 col22\" >0.420000</td>\n",
       "      <td id=\"T_3ab44_row17_col23\" class=\"data row17 col23\" >0.440000</td>\n",
       "      <td id=\"T_3ab44_row17_col24\" class=\"data row17 col24\" >0.260000</td>\n",
       "      <td id=\"T_3ab44_row17_col25\" class=\"data row17 col25\" >0.370000</td>\n",
       "      <td id=\"T_3ab44_row17_col26\" class=\"data row17 col26\" >0.090000</td>\n",
       "      <td id=\"T_3ab44_row17_col27\" class=\"data row17 col27\" >-0.180000</td>\n",
       "      <td id=\"T_3ab44_row17_col28\" class=\"data row17 col28\" >-0.050000</td>\n",
       "      <td id=\"T_3ab44_row17_col29\" class=\"data row17 col29\" >-0.060000</td>\n",
       "    </tr>\n",
       "    <tr>\n",
       "      <th id=\"T_3ab44_level0_row18\" class=\"row_heading level0 row18\" >Interface_12</th>\n",
       "      <td id=\"T_3ab44_row18_col0\" class=\"data row18 col0\" >-0.040000</td>\n",
       "      <td id=\"T_3ab44_row18_col1\" class=\"data row18 col1\" >0.030000</td>\n",
       "      <td id=\"T_3ab44_row18_col2\" class=\"data row18 col2\" >0.110000</td>\n",
       "      <td id=\"T_3ab44_row18_col3\" class=\"data row18 col3\" >0.060000</td>\n",
       "      <td id=\"T_3ab44_row18_col4\" class=\"data row18 col4\" >0.040000</td>\n",
       "      <td id=\"T_3ab44_row18_col5\" class=\"data row18 col5\" >0.010000</td>\n",
       "      <td id=\"T_3ab44_row18_col6\" class=\"data row18 col6\" >0.190000</td>\n",
       "      <td id=\"T_3ab44_row18_col7\" class=\"data row18 col7\" >0.410000</td>\n",
       "      <td id=\"T_3ab44_row18_col8\" class=\"data row18 col8\" >0.330000</td>\n",
       "      <td id=\"T_3ab44_row18_col9\" class=\"data row18 col9\" >0.370000</td>\n",
       "      <td id=\"T_3ab44_row18_col10\" class=\"data row18 col10\" >0.390000</td>\n",
       "      <td id=\"T_3ab44_row18_col11\" class=\"data row18 col11\" >0.310000</td>\n",
       "      <td id=\"T_3ab44_row18_col12\" class=\"data row18 col12\" >0.270000</td>\n",
       "      <td id=\"T_3ab44_row18_col13\" class=\"data row18 col13\" >0.310000</td>\n",
       "      <td id=\"T_3ab44_row18_col14\" class=\"data row18 col14\" >0.360000</td>\n",
       "      <td id=\"T_3ab44_row18_col15\" class=\"data row18 col15\" >0.200000</td>\n",
       "      <td id=\"T_3ab44_row18_col16\" class=\"data row18 col16\" >0.110000</td>\n",
       "      <td id=\"T_3ab44_row18_col17\" class=\"data row18 col17\" >0.470000</td>\n",
       "      <td id=\"T_3ab44_row18_col18\" class=\"data row18 col18\" >1.000000</td>\n",
       "      <td id=\"T_3ab44_row18_col19\" class=\"data row18 col19\" >0.300000</td>\n",
       "      <td id=\"T_3ab44_row18_col20\" class=\"data row18 col20\" >0.250000</td>\n",
       "      <td id=\"T_3ab44_row18_col21\" class=\"data row18 col21\" >0.240000</td>\n",
       "      <td id=\"T_3ab44_row18_col22\" class=\"data row18 col22\" >0.330000</td>\n",
       "      <td id=\"T_3ab44_row18_col23\" class=\"data row18 col23\" >0.310000</td>\n",
       "      <td id=\"T_3ab44_row18_col24\" class=\"data row18 col24\" >0.460000</td>\n",
       "      <td id=\"T_3ab44_row18_col25\" class=\"data row18 col25\" >0.360000</td>\n",
       "      <td id=\"T_3ab44_row18_col26\" class=\"data row18 col26\" >-0.020000</td>\n",
       "      <td id=\"T_3ab44_row18_col27\" class=\"data row18 col27\" >-0.120000</td>\n",
       "      <td id=\"T_3ab44_row18_col28\" class=\"data row18 col28\" >-0.210000</td>\n",
       "      <td id=\"T_3ab44_row18_col29\" class=\"data row18 col29\" >0.000000</td>\n",
       "    </tr>\n",
       "    <tr>\n",
       "      <th id=\"T_3ab44_level0_row19\" class=\"row_heading level0 row19\" >Interface_13</th>\n",
       "      <td id=\"T_3ab44_row19_col0\" class=\"data row19 col0\" >0.040000</td>\n",
       "      <td id=\"T_3ab44_row19_col1\" class=\"data row19 col1\" >0.040000</td>\n",
       "      <td id=\"T_3ab44_row19_col2\" class=\"data row19 col2\" >0.230000</td>\n",
       "      <td id=\"T_3ab44_row19_col3\" class=\"data row19 col3\" >0.030000</td>\n",
       "      <td id=\"T_3ab44_row19_col4\" class=\"data row19 col4\" >-0.080000</td>\n",
       "      <td id=\"T_3ab44_row19_col5\" class=\"data row19 col5\" >0.160000</td>\n",
       "      <td id=\"T_3ab44_row19_col6\" class=\"data row19 col6\" >0.120000</td>\n",
       "      <td id=\"T_3ab44_row19_col7\" class=\"data row19 col7\" >0.240000</td>\n",
       "      <td id=\"T_3ab44_row19_col8\" class=\"data row19 col8\" >0.220000</td>\n",
       "      <td id=\"T_3ab44_row19_col9\" class=\"data row19 col9\" >0.200000</td>\n",
       "      <td id=\"T_3ab44_row19_col10\" class=\"data row19 col10\" >0.350000</td>\n",
       "      <td id=\"T_3ab44_row19_col11\" class=\"data row19 col11\" >0.090000</td>\n",
       "      <td id=\"T_3ab44_row19_col12\" class=\"data row19 col12\" >0.340000</td>\n",
       "      <td id=\"T_3ab44_row19_col13\" class=\"data row19 col13\" >0.310000</td>\n",
       "      <td id=\"T_3ab44_row19_col14\" class=\"data row19 col14\" >0.240000</td>\n",
       "      <td id=\"T_3ab44_row19_col15\" class=\"data row19 col15\" >0.280000</td>\n",
       "      <td id=\"T_3ab44_row19_col16\" class=\"data row19 col16\" >0.260000</td>\n",
       "      <td id=\"T_3ab44_row19_col17\" class=\"data row19 col17\" >0.330000</td>\n",
       "      <td id=\"T_3ab44_row19_col18\" class=\"data row19 col18\" >0.300000</td>\n",
       "      <td id=\"T_3ab44_row19_col19\" class=\"data row19 col19\" >1.000000</td>\n",
       "      <td id=\"T_3ab44_row19_col20\" class=\"data row19 col20\" >0.420000</td>\n",
       "      <td id=\"T_3ab44_row19_col21\" class=\"data row19 col21\" >0.400000</td>\n",
       "      <td id=\"T_3ab44_row19_col22\" class=\"data row19 col22\" >0.320000</td>\n",
       "      <td id=\"T_3ab44_row19_col23\" class=\"data row19 col23\" >0.310000</td>\n",
       "      <td id=\"T_3ab44_row19_col24\" class=\"data row19 col24\" >0.340000</td>\n",
       "      <td id=\"T_3ab44_row19_col25\" class=\"data row19 col25\" >0.200000</td>\n",
       "      <td id=\"T_3ab44_row19_col26\" class=\"data row19 col26\" >-0.080000</td>\n",
       "      <td id=\"T_3ab44_row19_col27\" class=\"data row19 col27\" >0.100000</td>\n",
       "      <td id=\"T_3ab44_row19_col28\" class=\"data row19 col28\" >0.010000</td>\n",
       "      <td id=\"T_3ab44_row19_col29\" class=\"data row19 col29\" >0.050000</td>\n",
       "    </tr>\n",
       "    <tr>\n",
       "      <th id=\"T_3ab44_level0_row20\" class=\"row_heading level0 row20\" >Interface_14</th>\n",
       "      <td id=\"T_3ab44_row20_col0\" class=\"data row20 col0\" >-0.220000</td>\n",
       "      <td id=\"T_3ab44_row20_col1\" class=\"data row20 col1\" >0.180000</td>\n",
       "      <td id=\"T_3ab44_row20_col2\" class=\"data row20 col2\" >-0.000000</td>\n",
       "      <td id=\"T_3ab44_row20_col3\" class=\"data row20 col3\" >0.100000</td>\n",
       "      <td id=\"T_3ab44_row20_col4\" class=\"data row20 col4\" >-0.020000</td>\n",
       "      <td id=\"T_3ab44_row20_col5\" class=\"data row20 col5\" >0.190000</td>\n",
       "      <td id=\"T_3ab44_row20_col6\" class=\"data row20 col6\" >-0.080000</td>\n",
       "      <td id=\"T_3ab44_row20_col7\" class=\"data row20 col7\" >0.180000</td>\n",
       "      <td id=\"T_3ab44_row20_col8\" class=\"data row20 col8\" >0.250000</td>\n",
       "      <td id=\"T_3ab44_row20_col9\" class=\"data row20 col9\" >0.150000</td>\n",
       "      <td id=\"T_3ab44_row20_col10\" class=\"data row20 col10\" >0.440000</td>\n",
       "      <td id=\"T_3ab44_row20_col11\" class=\"data row20 col11\" >0.180000</td>\n",
       "      <td id=\"T_3ab44_row20_col12\" class=\"data row20 col12\" >0.440000</td>\n",
       "      <td id=\"T_3ab44_row20_col13\" class=\"data row20 col13\" >0.270000</td>\n",
       "      <td id=\"T_3ab44_row20_col14\" class=\"data row20 col14\" >0.310000</td>\n",
       "      <td id=\"T_3ab44_row20_col15\" class=\"data row20 col15\" >0.290000</td>\n",
       "      <td id=\"T_3ab44_row20_col16\" class=\"data row20 col16\" >0.030000</td>\n",
       "      <td id=\"T_3ab44_row20_col17\" class=\"data row20 col17\" >0.290000</td>\n",
       "      <td id=\"T_3ab44_row20_col18\" class=\"data row20 col18\" >0.250000</td>\n",
       "      <td id=\"T_3ab44_row20_col19\" class=\"data row20 col19\" >0.420000</td>\n",
       "      <td id=\"T_3ab44_row20_col20\" class=\"data row20 col20\" >1.000000</td>\n",
       "      <td id=\"T_3ab44_row20_col21\" class=\"data row20 col21\" >0.860000</td>\n",
       "      <td id=\"T_3ab44_row20_col22\" class=\"data row20 col22\" >0.160000</td>\n",
       "      <td id=\"T_3ab44_row20_col23\" class=\"data row20 col23\" >0.250000</td>\n",
       "      <td id=\"T_3ab44_row20_col24\" class=\"data row20 col24\" >0.480000</td>\n",
       "      <td id=\"T_3ab44_row20_col25\" class=\"data row20 col25\" >0.240000</td>\n",
       "      <td id=\"T_3ab44_row20_col26\" class=\"data row20 col26\" >0.180000</td>\n",
       "      <td id=\"T_3ab44_row20_col27\" class=\"data row20 col27\" >-0.070000</td>\n",
       "      <td id=\"T_3ab44_row20_col28\" class=\"data row20 col28\" >0.050000</td>\n",
       "      <td id=\"T_3ab44_row20_col29\" class=\"data row20 col29\" >0.130000</td>\n",
       "    </tr>\n",
       "    <tr>\n",
       "      <th id=\"T_3ab44_level0_row21\" class=\"row_heading level0 row21\" >Interface_15</th>\n",
       "      <td id=\"T_3ab44_row21_col0\" class=\"data row21 col0\" >-0.220000</td>\n",
       "      <td id=\"T_3ab44_row21_col1\" class=\"data row21 col1\" >0.190000</td>\n",
       "      <td id=\"T_3ab44_row21_col2\" class=\"data row21 col2\" >-0.080000</td>\n",
       "      <td id=\"T_3ab44_row21_col3\" class=\"data row21 col3\" >0.030000</td>\n",
       "      <td id=\"T_3ab44_row21_col4\" class=\"data row21 col4\" >0.000000</td>\n",
       "      <td id=\"T_3ab44_row21_col5\" class=\"data row21 col5\" >0.120000</td>\n",
       "      <td id=\"T_3ab44_row21_col6\" class=\"data row21 col6\" >-0.050000</td>\n",
       "      <td id=\"T_3ab44_row21_col7\" class=\"data row21 col7\" >0.300000</td>\n",
       "      <td id=\"T_3ab44_row21_col8\" class=\"data row21 col8\" >0.330000</td>\n",
       "      <td id=\"T_3ab44_row21_col9\" class=\"data row21 col9\" >0.260000</td>\n",
       "      <td id=\"T_3ab44_row21_col10\" class=\"data row21 col10\" >0.320000</td>\n",
       "      <td id=\"T_3ab44_row21_col11\" class=\"data row21 col11\" >0.310000</td>\n",
       "      <td id=\"T_3ab44_row21_col12\" class=\"data row21 col12\" >0.450000</td>\n",
       "      <td id=\"T_3ab44_row21_col13\" class=\"data row21 col13\" >0.310000</td>\n",
       "      <td id=\"T_3ab44_row21_col14\" class=\"data row21 col14\" >0.240000</td>\n",
       "      <td id=\"T_3ab44_row21_col15\" class=\"data row21 col15\" >0.250000</td>\n",
       "      <td id=\"T_3ab44_row21_col16\" class=\"data row21 col16\" >0.010000</td>\n",
       "      <td id=\"T_3ab44_row21_col17\" class=\"data row21 col17\" >0.270000</td>\n",
       "      <td id=\"T_3ab44_row21_col18\" class=\"data row21 col18\" >0.240000</td>\n",
       "      <td id=\"T_3ab44_row21_col19\" class=\"data row21 col19\" >0.400000</td>\n",
       "      <td id=\"T_3ab44_row21_col20\" class=\"data row21 col20\" >0.860000</td>\n",
       "      <td id=\"T_3ab44_row21_col21\" class=\"data row21 col21\" >1.000000</td>\n",
       "      <td id=\"T_3ab44_row21_col22\" class=\"data row21 col22\" >0.150000</td>\n",
       "      <td id=\"T_3ab44_row21_col23\" class=\"data row21 col23\" >0.370000</td>\n",
       "      <td id=\"T_3ab44_row21_col24\" class=\"data row21 col24\" >0.370000</td>\n",
       "      <td id=\"T_3ab44_row21_col25\" class=\"data row21 col25\" >0.260000</td>\n",
       "      <td id=\"T_3ab44_row21_col26\" class=\"data row21 col26\" >0.120000</td>\n",
       "      <td id=\"T_3ab44_row21_col27\" class=\"data row21 col27\" >-0.060000</td>\n",
       "      <td id=\"T_3ab44_row21_col28\" class=\"data row21 col28\" >0.020000</td>\n",
       "      <td id=\"T_3ab44_row21_col29\" class=\"data row21 col29\" >0.080000</td>\n",
       "    </tr>\n",
       "    <tr>\n",
       "      <th id=\"T_3ab44_level0_row22\" class=\"row_heading level0 row22\" >Interface_16</th>\n",
       "      <td id=\"T_3ab44_row22_col0\" class=\"data row22 col0\" >-0.120000</td>\n",
       "      <td id=\"T_3ab44_row22_col1\" class=\"data row22 col1\" >0.080000</td>\n",
       "      <td id=\"T_3ab44_row22_col2\" class=\"data row22 col2\" >0.150000</td>\n",
       "      <td id=\"T_3ab44_row22_col3\" class=\"data row22 col3\" >0.190000</td>\n",
       "      <td id=\"T_3ab44_row22_col4\" class=\"data row22 col4\" >0.050000</td>\n",
       "      <td id=\"T_3ab44_row22_col5\" class=\"data row22 col5\" >0.100000</td>\n",
       "      <td id=\"T_3ab44_row22_col6\" class=\"data row22 col6\" >-0.010000</td>\n",
       "      <td id=\"T_3ab44_row22_col7\" class=\"data row22 col7\" >0.260000</td>\n",
       "      <td id=\"T_3ab44_row22_col8\" class=\"data row22 col8\" >0.260000</td>\n",
       "      <td id=\"T_3ab44_row22_col9\" class=\"data row22 col9\" >0.240000</td>\n",
       "      <td id=\"T_3ab44_row22_col10\" class=\"data row22 col10\" >0.140000</td>\n",
       "      <td id=\"T_3ab44_row22_col11\" class=\"data row22 col11\" >0.350000</td>\n",
       "      <td id=\"T_3ab44_row22_col12\" class=\"data row22 col12\" >0.200000</td>\n",
       "      <td id=\"T_3ab44_row22_col13\" class=\"data row22 col13\" >0.170000</td>\n",
       "      <td id=\"T_3ab44_row22_col14\" class=\"data row22 col14\" >0.220000</td>\n",
       "      <td id=\"T_3ab44_row22_col15\" class=\"data row22 col15\" >0.240000</td>\n",
       "      <td id=\"T_3ab44_row22_col16\" class=\"data row22 col16\" >-0.070000</td>\n",
       "      <td id=\"T_3ab44_row22_col17\" class=\"data row22 col17\" >0.420000</td>\n",
       "      <td id=\"T_3ab44_row22_col18\" class=\"data row22 col18\" >0.330000</td>\n",
       "      <td id=\"T_3ab44_row22_col19\" class=\"data row22 col19\" >0.320000</td>\n",
       "      <td id=\"T_3ab44_row22_col20\" class=\"data row22 col20\" >0.160000</td>\n",
       "      <td id=\"T_3ab44_row22_col21\" class=\"data row22 col21\" >0.150000</td>\n",
       "      <td id=\"T_3ab44_row22_col22\" class=\"data row22 col22\" >1.000000</td>\n",
       "      <td id=\"T_3ab44_row22_col23\" class=\"data row22 col23\" >0.420000</td>\n",
       "      <td id=\"T_3ab44_row22_col24\" class=\"data row22 col24\" >0.080000</td>\n",
       "      <td id=\"T_3ab44_row22_col25\" class=\"data row22 col25\" >0.090000</td>\n",
       "      <td id=\"T_3ab44_row22_col26\" class=\"data row22 col26\" >0.070000</td>\n",
       "      <td id=\"T_3ab44_row22_col27\" class=\"data row22 col27\" >-0.030000</td>\n",
       "      <td id=\"T_3ab44_row22_col28\" class=\"data row22 col28\" >0.150000</td>\n",
       "      <td id=\"T_3ab44_row22_col29\" class=\"data row22 col29\" >-0.030000</td>\n",
       "    </tr>\n",
       "    <tr>\n",
       "      <th id=\"T_3ab44_level0_row23\" class=\"row_heading level0 row23\" >Interface_17</th>\n",
       "      <td id=\"T_3ab44_row23_col0\" class=\"data row23 col0\" >0.070000</td>\n",
       "      <td id=\"T_3ab44_row23_col1\" class=\"data row23 col1\" >-0.060000</td>\n",
       "      <td id=\"T_3ab44_row23_col2\" class=\"data row23 col2\" >0.120000</td>\n",
       "      <td id=\"T_3ab44_row23_col3\" class=\"data row23 col3\" >-0.070000</td>\n",
       "      <td id=\"T_3ab44_row23_col4\" class=\"data row23 col4\" >-0.100000</td>\n",
       "      <td id=\"T_3ab44_row23_col5\" class=\"data row23 col5\" >0.120000</td>\n",
       "      <td id=\"T_3ab44_row23_col6\" class=\"data row23 col6\" >-0.010000</td>\n",
       "      <td id=\"T_3ab44_row23_col7\" class=\"data row23 col7\" >0.410000</td>\n",
       "      <td id=\"T_3ab44_row23_col8\" class=\"data row23 col8\" >0.310000</td>\n",
       "      <td id=\"T_3ab44_row23_col9\" class=\"data row23 col9\" >0.340000</td>\n",
       "      <td id=\"T_3ab44_row23_col10\" class=\"data row23 col10\" >0.080000</td>\n",
       "      <td id=\"T_3ab44_row23_col11\" class=\"data row23 col11\" >0.360000</td>\n",
       "      <td id=\"T_3ab44_row23_col12\" class=\"data row23 col12\" >0.240000</td>\n",
       "      <td id=\"T_3ab44_row23_col13\" class=\"data row23 col13\" >0.220000</td>\n",
       "      <td id=\"T_3ab44_row23_col14\" class=\"data row23 col14\" >0.130000</td>\n",
       "      <td id=\"T_3ab44_row23_col15\" class=\"data row23 col15\" >0.170000</td>\n",
       "      <td id=\"T_3ab44_row23_col16\" class=\"data row23 col16\" >0.190000</td>\n",
       "      <td id=\"T_3ab44_row23_col17\" class=\"data row23 col17\" >0.440000</td>\n",
       "      <td id=\"T_3ab44_row23_col18\" class=\"data row23 col18\" >0.310000</td>\n",
       "      <td id=\"T_3ab44_row23_col19\" class=\"data row23 col19\" >0.310000</td>\n",
       "      <td id=\"T_3ab44_row23_col20\" class=\"data row23 col20\" >0.250000</td>\n",
       "      <td id=\"T_3ab44_row23_col21\" class=\"data row23 col21\" >0.370000</td>\n",
       "      <td id=\"T_3ab44_row23_col22\" class=\"data row23 col22\" >0.420000</td>\n",
       "      <td id=\"T_3ab44_row23_col23\" class=\"data row23 col23\" >1.000000</td>\n",
       "      <td id=\"T_3ab44_row23_col24\" class=\"data row23 col24\" >0.060000</td>\n",
       "      <td id=\"T_3ab44_row23_col25\" class=\"data row23 col25\" >0.260000</td>\n",
       "      <td id=\"T_3ab44_row23_col26\" class=\"data row23 col26\" >0.110000</td>\n",
       "      <td id=\"T_3ab44_row23_col27\" class=\"data row23 col27\" >0.150000</td>\n",
       "      <td id=\"T_3ab44_row23_col28\" class=\"data row23 col28\" >0.120000</td>\n",
       "      <td id=\"T_3ab44_row23_col29\" class=\"data row23 col29\" >-0.220000</td>\n",
       "    </tr>\n",
       "    <tr>\n",
       "      <th id=\"T_3ab44_level0_row24\" class=\"row_heading level0 row24\" >Extra_interface_1</th>\n",
       "      <td id=\"T_3ab44_row24_col0\" class=\"data row24 col0\" >0.020000</td>\n",
       "      <td id=\"T_3ab44_row24_col1\" class=\"data row24 col1\" >0.180000</td>\n",
       "      <td id=\"T_3ab44_row24_col2\" class=\"data row24 col2\" >0.090000</td>\n",
       "      <td id=\"T_3ab44_row24_col3\" class=\"data row24 col3\" >0.190000</td>\n",
       "      <td id=\"T_3ab44_row24_col4\" class=\"data row24 col4\" >0.090000</td>\n",
       "      <td id=\"T_3ab44_row24_col5\" class=\"data row24 col5\" >0.020000</td>\n",
       "      <td id=\"T_3ab44_row24_col6\" class=\"data row24 col6\" >0.100000</td>\n",
       "      <td id=\"T_3ab44_row24_col7\" class=\"data row24 col7\" >0.280000</td>\n",
       "      <td id=\"T_3ab44_row24_col8\" class=\"data row24 col8\" >0.360000</td>\n",
       "      <td id=\"T_3ab44_row24_col9\" class=\"data row24 col9\" >0.300000</td>\n",
       "      <td id=\"T_3ab44_row24_col10\" class=\"data row24 col10\" >0.730000</td>\n",
       "      <td id=\"T_3ab44_row24_col11\" class=\"data row24 col11\" >0.210000</td>\n",
       "      <td id=\"T_3ab44_row24_col12\" class=\"data row24 col12\" >0.350000</td>\n",
       "      <td id=\"T_3ab44_row24_col13\" class=\"data row24 col13\" >0.380000</td>\n",
       "      <td id=\"T_3ab44_row24_col14\" class=\"data row24 col14\" >0.330000</td>\n",
       "      <td id=\"T_3ab44_row24_col15\" class=\"data row24 col15\" >0.190000</td>\n",
       "      <td id=\"T_3ab44_row24_col16\" class=\"data row24 col16\" >0.330000</td>\n",
       "      <td id=\"T_3ab44_row24_col17\" class=\"data row24 col17\" >0.260000</td>\n",
       "      <td id=\"T_3ab44_row24_col18\" class=\"data row24 col18\" >0.460000</td>\n",
       "      <td id=\"T_3ab44_row24_col19\" class=\"data row24 col19\" >0.340000</td>\n",
       "      <td id=\"T_3ab44_row24_col20\" class=\"data row24 col20\" >0.480000</td>\n",
       "      <td id=\"T_3ab44_row24_col21\" class=\"data row24 col21\" >0.370000</td>\n",
       "      <td id=\"T_3ab44_row24_col22\" class=\"data row24 col22\" >0.080000</td>\n",
       "      <td id=\"T_3ab44_row24_col23\" class=\"data row24 col23\" >0.060000</td>\n",
       "      <td id=\"T_3ab44_row24_col24\" class=\"data row24 col24\" >1.000000</td>\n",
       "      <td id=\"T_3ab44_row24_col25\" class=\"data row24 col25\" >0.410000</td>\n",
       "      <td id=\"T_3ab44_row24_col26\" class=\"data row24 col26\" >-0.000000</td>\n",
       "      <td id=\"T_3ab44_row24_col27\" class=\"data row24 col27\" >-0.260000</td>\n",
       "      <td id=\"T_3ab44_row24_col28\" class=\"data row24 col28\" >-0.180000</td>\n",
       "      <td id=\"T_3ab44_row24_col29\" class=\"data row24 col29\" >0.150000</td>\n",
       "    </tr>\n",
       "    <tr>\n",
       "      <th id=\"T_3ab44_level0_row25\" class=\"row_heading level0 row25\" >Extra_interface_2</th>\n",
       "      <td id=\"T_3ab44_row25_col0\" class=\"data row25 col0\" >0.010000</td>\n",
       "      <td id=\"T_3ab44_row25_col1\" class=\"data row25 col1\" >0.060000</td>\n",
       "      <td id=\"T_3ab44_row25_col2\" class=\"data row25 col2\" >-0.050000</td>\n",
       "      <td id=\"T_3ab44_row25_col3\" class=\"data row25 col3\" >-0.070000</td>\n",
       "      <td id=\"T_3ab44_row25_col4\" class=\"data row25 col4\" >-0.020000</td>\n",
       "      <td id=\"T_3ab44_row25_col5\" class=\"data row25 col5\" >0.010000</td>\n",
       "      <td id=\"T_3ab44_row25_col6\" class=\"data row25 col6\" >0.070000</td>\n",
       "      <td id=\"T_3ab44_row25_col7\" class=\"data row25 col7\" >0.240000</td>\n",
       "      <td id=\"T_3ab44_row25_col8\" class=\"data row25 col8\" >0.180000</td>\n",
       "      <td id=\"T_3ab44_row25_col9\" class=\"data row25 col9\" >0.160000</td>\n",
       "      <td id=\"T_3ab44_row25_col10\" class=\"data row25 col10\" >0.230000</td>\n",
       "      <td id=\"T_3ab44_row25_col11\" class=\"data row25 col11\" >0.200000</td>\n",
       "      <td id=\"T_3ab44_row25_col12\" class=\"data row25 col12\" >0.520000</td>\n",
       "      <td id=\"T_3ab44_row25_col13\" class=\"data row25 col13\" >0.470000</td>\n",
       "      <td id=\"T_3ab44_row25_col14\" class=\"data row25 col14\" >0.540000</td>\n",
       "      <td id=\"T_3ab44_row25_col15\" class=\"data row25 col15\" >0.280000</td>\n",
       "      <td id=\"T_3ab44_row25_col16\" class=\"data row25 col16\" >0.260000</td>\n",
       "      <td id=\"T_3ab44_row25_col17\" class=\"data row25 col17\" >0.370000</td>\n",
       "      <td id=\"T_3ab44_row25_col18\" class=\"data row25 col18\" >0.360000</td>\n",
       "      <td id=\"T_3ab44_row25_col19\" class=\"data row25 col19\" >0.200000</td>\n",
       "      <td id=\"T_3ab44_row25_col20\" class=\"data row25 col20\" >0.240000</td>\n",
       "      <td id=\"T_3ab44_row25_col21\" class=\"data row25 col21\" >0.260000</td>\n",
       "      <td id=\"T_3ab44_row25_col22\" class=\"data row25 col22\" >0.090000</td>\n",
       "      <td id=\"T_3ab44_row25_col23\" class=\"data row25 col23\" >0.260000</td>\n",
       "      <td id=\"T_3ab44_row25_col24\" class=\"data row25 col24\" >0.410000</td>\n",
       "      <td id=\"T_3ab44_row25_col25\" class=\"data row25 col25\" >1.000000</td>\n",
       "      <td id=\"T_3ab44_row25_col26\" class=\"data row25 col26\" >-0.020000</td>\n",
       "      <td id=\"T_3ab44_row25_col27\" class=\"data row25 col27\" >-0.030000</td>\n",
       "      <td id=\"T_3ab44_row25_col28\" class=\"data row25 col28\" >-0.070000</td>\n",
       "      <td id=\"T_3ab44_row25_col29\" class=\"data row25 col29\" >0.100000</td>\n",
       "    </tr>\n",
       "    <tr>\n",
       "      <th id=\"T_3ab44_level0_row26\" class=\"row_heading level0 row26\" >Test_Score</th>\n",
       "      <td id=\"T_3ab44_row26_col0\" class=\"data row26 col0\" >0.020000</td>\n",
       "      <td id=\"T_3ab44_row26_col1\" class=\"data row26 col1\" >-0.060000</td>\n",
       "      <td id=\"T_3ab44_row26_col2\" class=\"data row26 col2\" >-0.020000</td>\n",
       "      <td id=\"T_3ab44_row26_col3\" class=\"data row26 col3\" >0.060000</td>\n",
       "      <td id=\"T_3ab44_row26_col4\" class=\"data row26 col4\" >-0.120000</td>\n",
       "      <td id=\"T_3ab44_row26_col5\" class=\"data row26 col5\" >-0.030000</td>\n",
       "      <td id=\"T_3ab44_row26_col6\" class=\"data row26 col6\" >0.060000</td>\n",
       "      <td id=\"T_3ab44_row26_col7\" class=\"data row26 col7\" >-0.040000</td>\n",
       "      <td id=\"T_3ab44_row26_col8\" class=\"data row26 col8\" >-0.010000</td>\n",
       "      <td id=\"T_3ab44_row26_col9\" class=\"data row26 col9\" >0.010000</td>\n",
       "      <td id=\"T_3ab44_row26_col10\" class=\"data row26 col10\" >-0.010000</td>\n",
       "      <td id=\"T_3ab44_row26_col11\" class=\"data row26 col11\" >-0.010000</td>\n",
       "      <td id=\"T_3ab44_row26_col12\" class=\"data row26 col12\" >-0.010000</td>\n",
       "      <td id=\"T_3ab44_row26_col13\" class=\"data row26 col13\" >-0.010000</td>\n",
       "      <td id=\"T_3ab44_row26_col14\" class=\"data row26 col14\" >0.010000</td>\n",
       "      <td id=\"T_3ab44_row26_col15\" class=\"data row26 col15\" >-0.020000</td>\n",
       "      <td id=\"T_3ab44_row26_col16\" class=\"data row26 col16\" >-0.020000</td>\n",
       "      <td id=\"T_3ab44_row26_col17\" class=\"data row26 col17\" >0.090000</td>\n",
       "      <td id=\"T_3ab44_row26_col18\" class=\"data row26 col18\" >-0.020000</td>\n",
       "      <td id=\"T_3ab44_row26_col19\" class=\"data row26 col19\" >-0.080000</td>\n",
       "      <td id=\"T_3ab44_row26_col20\" class=\"data row26 col20\" >0.180000</td>\n",
       "      <td id=\"T_3ab44_row26_col21\" class=\"data row26 col21\" >0.120000</td>\n",
       "      <td id=\"T_3ab44_row26_col22\" class=\"data row26 col22\" >0.070000</td>\n",
       "      <td id=\"T_3ab44_row26_col23\" class=\"data row26 col23\" >0.110000</td>\n",
       "      <td id=\"T_3ab44_row26_col24\" class=\"data row26 col24\" >-0.000000</td>\n",
       "      <td id=\"T_3ab44_row26_col25\" class=\"data row26 col25\" >-0.020000</td>\n",
       "      <td id=\"T_3ab44_row26_col26\" class=\"data row26 col26\" >1.000000</td>\n",
       "      <td id=\"T_3ab44_row26_col27\" class=\"data row26 col27\" >0.150000</td>\n",
       "      <td id=\"T_3ab44_row26_col28\" class=\"data row26 col28\" >0.050000</td>\n",
       "      <td id=\"T_3ab44_row26_col29\" class=\"data row26 col29\" >0.020000</td>\n",
       "    </tr>\n",
       "    <tr>\n",
       "      <th id=\"T_3ab44_level0_row27\" class=\"row_heading level0 row27\" >Top_1</th>\n",
       "      <td id=\"T_3ab44_row27_col0\" class=\"data row27 col0\" >0.130000</td>\n",
       "      <td id=\"T_3ab44_row27_col1\" class=\"data row27 col1\" >0.000000</td>\n",
       "      <td id=\"T_3ab44_row27_col2\" class=\"data row27 col2\" >0.110000</td>\n",
       "      <td id=\"T_3ab44_row27_col3\" class=\"data row27 col3\" >0.010000</td>\n",
       "      <td id=\"T_3ab44_row27_col4\" class=\"data row27 col4\" >0.000000</td>\n",
       "      <td id=\"T_3ab44_row27_col5\" class=\"data row27 col5\" >0.030000</td>\n",
       "      <td id=\"T_3ab44_row27_col6\" class=\"data row27 col6\" >-0.270000</td>\n",
       "      <td id=\"T_3ab44_row27_col7\" class=\"data row27 col7\" >-0.330000</td>\n",
       "      <td id=\"T_3ab44_row27_col8\" class=\"data row27 col8\" >-0.410000</td>\n",
       "      <td id=\"T_3ab44_row27_col9\" class=\"data row27 col9\" >-0.290000</td>\n",
       "      <td id=\"T_3ab44_row27_col10\" class=\"data row27 col10\" >-0.260000</td>\n",
       "      <td id=\"T_3ab44_row27_col11\" class=\"data row27 col11\" >-0.220000</td>\n",
       "      <td id=\"T_3ab44_row27_col12\" class=\"data row27 col12\" >-0.100000</td>\n",
       "      <td id=\"T_3ab44_row27_col13\" class=\"data row27 col13\" >-0.130000</td>\n",
       "      <td id=\"T_3ab44_row27_col14\" class=\"data row27 col14\" >-0.110000</td>\n",
       "      <td id=\"T_3ab44_row27_col15\" class=\"data row27 col15\" >-0.110000</td>\n",
       "      <td id=\"T_3ab44_row27_col16\" class=\"data row27 col16\" >-0.140000</td>\n",
       "      <td id=\"T_3ab44_row27_col17\" class=\"data row27 col17\" >-0.180000</td>\n",
       "      <td id=\"T_3ab44_row27_col18\" class=\"data row27 col18\" >-0.120000</td>\n",
       "      <td id=\"T_3ab44_row27_col19\" class=\"data row27 col19\" >0.100000</td>\n",
       "      <td id=\"T_3ab44_row27_col20\" class=\"data row27 col20\" >-0.070000</td>\n",
       "      <td id=\"T_3ab44_row27_col21\" class=\"data row27 col21\" >-0.060000</td>\n",
       "      <td id=\"T_3ab44_row27_col22\" class=\"data row27 col22\" >-0.030000</td>\n",
       "      <td id=\"T_3ab44_row27_col23\" class=\"data row27 col23\" >0.150000</td>\n",
       "      <td id=\"T_3ab44_row27_col24\" class=\"data row27 col24\" >-0.260000</td>\n",
       "      <td id=\"T_3ab44_row27_col25\" class=\"data row27 col25\" >-0.030000</td>\n",
       "      <td id=\"T_3ab44_row27_col26\" class=\"data row27 col26\" >0.150000</td>\n",
       "      <td id=\"T_3ab44_row27_col27\" class=\"data row27 col27\" >1.000000</td>\n",
       "      <td id=\"T_3ab44_row27_col28\" class=\"data row27 col28\" >0.210000</td>\n",
       "      <td id=\"T_3ab44_row27_col29\" class=\"data row27 col29\" >-0.060000</td>\n",
       "    </tr>\n",
       "    <tr>\n",
       "      <th id=\"T_3ab44_level0_row28\" class=\"row_heading level0 row28\" >Top_2</th>\n",
       "      <td id=\"T_3ab44_row28_col0\" class=\"data row28 col0\" >0.010000</td>\n",
       "      <td id=\"T_3ab44_row28_col1\" class=\"data row28 col1\" >0.060000</td>\n",
       "      <td id=\"T_3ab44_row28_col2\" class=\"data row28 col2\" >-0.220000</td>\n",
       "      <td id=\"T_3ab44_row28_col3\" class=\"data row28 col3\" >-0.070000</td>\n",
       "      <td id=\"T_3ab44_row28_col4\" class=\"data row28 col4\" >-0.160000</td>\n",
       "      <td id=\"T_3ab44_row28_col5\" class=\"data row28 col5\" >-0.010000</td>\n",
       "      <td id=\"T_3ab44_row28_col6\" class=\"data row28 col6\" >-0.230000</td>\n",
       "      <td id=\"T_3ab44_row28_col7\" class=\"data row28 col7\" >-0.320000</td>\n",
       "      <td id=\"T_3ab44_row28_col8\" class=\"data row28 col8\" >-0.360000</td>\n",
       "      <td id=\"T_3ab44_row28_col9\" class=\"data row28 col9\" >-0.290000</td>\n",
       "      <td id=\"T_3ab44_row28_col10\" class=\"data row28 col10\" >-0.200000</td>\n",
       "      <td id=\"T_3ab44_row28_col11\" class=\"data row28 col11\" >-0.290000</td>\n",
       "      <td id=\"T_3ab44_row28_col12\" class=\"data row28 col12\" >-0.140000</td>\n",
       "      <td id=\"T_3ab44_row28_col13\" class=\"data row28 col13\" >-0.200000</td>\n",
       "      <td id=\"T_3ab44_row28_col14\" class=\"data row28 col14\" >-0.210000</td>\n",
       "      <td id=\"T_3ab44_row28_col15\" class=\"data row28 col15\" >-0.130000</td>\n",
       "      <td id=\"T_3ab44_row28_col16\" class=\"data row28 col16\" >-0.060000</td>\n",
       "      <td id=\"T_3ab44_row28_col17\" class=\"data row28 col17\" >-0.050000</td>\n",
       "      <td id=\"T_3ab44_row28_col18\" class=\"data row28 col18\" >-0.210000</td>\n",
       "      <td id=\"T_3ab44_row28_col19\" class=\"data row28 col19\" >0.010000</td>\n",
       "      <td id=\"T_3ab44_row28_col20\" class=\"data row28 col20\" >0.050000</td>\n",
       "      <td id=\"T_3ab44_row28_col21\" class=\"data row28 col21\" >0.020000</td>\n",
       "      <td id=\"T_3ab44_row28_col22\" class=\"data row28 col22\" >0.150000</td>\n",
       "      <td id=\"T_3ab44_row28_col23\" class=\"data row28 col23\" >0.120000</td>\n",
       "      <td id=\"T_3ab44_row28_col24\" class=\"data row28 col24\" >-0.180000</td>\n",
       "      <td id=\"T_3ab44_row28_col25\" class=\"data row28 col25\" >-0.070000</td>\n",
       "      <td id=\"T_3ab44_row28_col26\" class=\"data row28 col26\" >0.050000</td>\n",
       "      <td id=\"T_3ab44_row28_col27\" class=\"data row28 col27\" >0.210000</td>\n",
       "      <td id=\"T_3ab44_row28_col28\" class=\"data row28 col28\" >1.000000</td>\n",
       "      <td id=\"T_3ab44_row28_col29\" class=\"data row28 col29\" >0.060000</td>\n",
       "    </tr>\n",
       "    <tr>\n",
       "      <th id=\"T_3ab44_level0_row29\" class=\"row_heading level0 row29\" >Top_3</th>\n",
       "      <td id=\"T_3ab44_row29_col0\" class=\"data row29 col0\" >-0.120000</td>\n",
       "      <td id=\"T_3ab44_row29_col1\" class=\"data row29 col1\" >0.020000</td>\n",
       "      <td id=\"T_3ab44_row29_col2\" class=\"data row29 col2\" >-0.050000</td>\n",
       "      <td id=\"T_3ab44_row29_col3\" class=\"data row29 col3\" >0.030000</td>\n",
       "      <td id=\"T_3ab44_row29_col4\" class=\"data row29 col4\" >-0.070000</td>\n",
       "      <td id=\"T_3ab44_row29_col5\" class=\"data row29 col5\" >0.040000</td>\n",
       "      <td id=\"T_3ab44_row29_col6\" class=\"data row29 col6\" >0.000000</td>\n",
       "      <td id=\"T_3ab44_row29_col7\" class=\"data row29 col7\" >-0.290000</td>\n",
       "      <td id=\"T_3ab44_row29_col8\" class=\"data row29 col8\" >-0.190000</td>\n",
       "      <td id=\"T_3ab44_row29_col9\" class=\"data row29 col9\" >-0.290000</td>\n",
       "      <td id=\"T_3ab44_row29_col10\" class=\"data row29 col10\" >0.040000</td>\n",
       "      <td id=\"T_3ab44_row29_col11\" class=\"data row29 col11\" >-0.140000</td>\n",
       "      <td id=\"T_3ab44_row29_col12\" class=\"data row29 col12\" >0.070000</td>\n",
       "      <td id=\"T_3ab44_row29_col13\" class=\"data row29 col13\" >0.130000</td>\n",
       "      <td id=\"T_3ab44_row29_col14\" class=\"data row29 col14\" >0.080000</td>\n",
       "      <td id=\"T_3ab44_row29_col15\" class=\"data row29 col15\" >0.040000</td>\n",
       "      <td id=\"T_3ab44_row29_col16\" class=\"data row29 col16\" >-0.060000</td>\n",
       "      <td id=\"T_3ab44_row29_col17\" class=\"data row29 col17\" >-0.060000</td>\n",
       "      <td id=\"T_3ab44_row29_col18\" class=\"data row29 col18\" >0.000000</td>\n",
       "      <td id=\"T_3ab44_row29_col19\" class=\"data row29 col19\" >0.050000</td>\n",
       "      <td id=\"T_3ab44_row29_col20\" class=\"data row29 col20\" >0.130000</td>\n",
       "      <td id=\"T_3ab44_row29_col21\" class=\"data row29 col21\" >0.080000</td>\n",
       "      <td id=\"T_3ab44_row29_col22\" class=\"data row29 col22\" >-0.030000</td>\n",
       "      <td id=\"T_3ab44_row29_col23\" class=\"data row29 col23\" >-0.220000</td>\n",
       "      <td id=\"T_3ab44_row29_col24\" class=\"data row29 col24\" >0.150000</td>\n",
       "      <td id=\"T_3ab44_row29_col25\" class=\"data row29 col25\" >0.100000</td>\n",
       "      <td id=\"T_3ab44_row29_col26\" class=\"data row29 col26\" >0.020000</td>\n",
       "      <td id=\"T_3ab44_row29_col27\" class=\"data row29 col27\" >-0.060000</td>\n",
       "      <td id=\"T_3ab44_row29_col28\" class=\"data row29 col28\" >0.060000</td>\n",
       "      <td id=\"T_3ab44_row29_col29\" class=\"data row29 col29\" >1.000000</td>\n",
       "    </tr>\n",
       "  </tbody>\n",
       "</table>\n"
      ],
      "text/plain": [
       "<pandas.io.formats.style.Styler at 0x1f61bd47700>"
      ]
     },
     "execution_count": 51,
     "metadata": {},
     "output_type": "execute_result"
    }
   ],
   "source": [
    "corr = data.corr().round(2)\n",
    "corr.style.background_gradient(cmap='Pastel1')"
   ]
  },
  {
   "cell_type": "code",
   "execution_count": 52,
   "metadata": {},
   "outputs": [
    {
     "data": {
      "text/plain": [
       "Test_Score\n",
       "2    30\n",
       "1    24\n",
       "3    23\n",
       "0    19\n",
       "dtype: int64"
      ]
     },
     "execution_count": 52,
     "metadata": {},
     "output_type": "execute_result"
    }
   ],
   "source": [
    "data.value_counts('Test_Score')\n"
   ]
  },
  {
   "cell_type": "code",
   "execution_count": 53,
   "metadata": {},
   "outputs": [
    {
     "data": {
      "text/plain": [
       "Age\n",
       "21    48\n",
       "19    10\n",
       "20    10\n",
       "22     8\n",
       "23     5\n",
       "18     3\n",
       "24     3\n",
       "15     1\n",
       "25     1\n",
       "26     1\n",
       "27     1\n",
       "37     1\n",
       "38     1\n",
       "46     1\n",
       "52     1\n",
       "57     1\n",
       "dtype: int64"
      ]
     },
     "execution_count": 53,
     "metadata": {},
     "output_type": "execute_result"
    }
   ],
   "source": [
    "data.value_counts('Age')\n"
   ]
  },
  {
   "cell_type": "code",
   "execution_count": 126,
   "metadata": {},
   "outputs": [],
   "source": [
    "# gender =data.Gender.value_counts().index\n",
    "# No_of_users = data.Gender.value_counts()\n",
    "\n",
    "# sns.barplot(x = gender,y=No_of_users, palette='Set1')\n",
    "\n",
    "# plt.xlabel(\"Gender\",fontsize = 14)\n",
    "# plt.ylabel(\"No. of Users\",fontsize = 14)\n",
    "# plt.title(\"Male and Female Count\",fontsize = 14)"
   ]
  },
  {
   "cell_type": "code",
   "execution_count": 55,
   "metadata": {},
   "outputs": [
    {
     "data": {
      "text/plain": [
       "<AxesSubplot:xlabel='Gender', ylabel='Count'>"
      ]
     },
     "execution_count": 55,
     "metadata": {},
     "output_type": "execute_result"
    },
    {
     "data": {
      "image/png": "[encoded data removed]",
      "text/plain": [
       "<Figure size 432x288 with 1 Axes>"
      ]
     },
     "metadata": {
      "needs_background": "light"
     },
     "output_type": "display_data"
    }
   ],
   "source": [
    "sns.histplot(x='Gender', hue='Gender', data=data)\n"
   ]
  },
  {
   "attachments": {},
   "cell_type": "markdown",
   "metadata": {},
   "source": [
    "The range of ages across the gender almost in all cases were equal"
   ]
  },
  {
   "cell_type": "code",
   "execution_count": 56,
   "metadata": {},
   "outputs": [
    {
     "data": {
      "application/vnd.plotly.v1+json": {
       "config": {
        "plotlyServerURL": "https://plot.ly"
       },
       "data": [
        {
         "alignmentgroup": "True",
         "bingroup": "x",
         "hovertemplate": "Gender=Female<br>Age=%{x}<br>count=%{y}<extra></extra>",
         "legendgroup": "Female",
         "marker": {
          "color": "#636efa",
          "pattern": {
           "shape": ""
          }
         },
         "name": "Female",
         "nbinsx": 40,
         "offsetgroup": "Female",
         "orientation": "v",
         "showlegend": true,
         "type": "histogram",
         "x": [
          21,
          21,
          23,
          20,
          19,
          20,
          21,
          21,
          21,
          19,
          20,
          22,
          22,
          22,
          21,
          21,
          20,
          21,
          21,
          46,
          18,
          21,
          15,
          21,
          20,
          21,
          38,
          22,
          22,
          21,
          19,
          21,
          57,
          21,
          25,
          19,
          18,
          20,
          21,
          20,
          22,
          21,
          21,
          21,
          21,
          21,
          20,
          18
         ],
         "xaxis": "x",
         "yaxis": "y"
        },
        {
         "alignmentgroup": "True",
         "hovertemplate": "Gender=Female<br>Age=%{x}<extra></extra>",
         "legendgroup": "Female",
         "marker": {
          "color": "#636efa"
         },
         "name": "Female",
         "notched": true,
         "offsetgroup": "Female",
         "showlegend": false,
         "type": "box",
         "x": [
          21,
          21,
          23,
          20,
          19,
          20,
          21,
          21,
          21,
          19,
          20,
          22,
          22,
          22,
          21,
          21,
          20,
          21,
          21,
          46,
          18,
          21,
          15,
          21,
          20,
          21,
          38,
          22,
          22,
          21,
          19,
          21,
          57,
          21,
          25,
          19,
          18,
          20,
          21,
          20,
          22,
          21,
          21,
          21,
          21,
          21,
          20,
          18
         ],
         "xaxis": "x2",
         "yaxis": "y2"
        },
        {
         "alignmentgroup": "True",
         "bingroup": "x",
         "hovertemplate": "Gender=Male<br>Age=%{x}<br>count=%{y}<extra></extra>",
         "legendgroup": "Male",
         "marker": {
          "color": "#EF553B",
          "pattern": {
           "shape": ""
          }
         },
         "name": "Male",
         "nbinsx": 40,
         "offsetgroup": "Male",
         "orientation": "v",
         "showlegend": true,
         "type": "histogram",
         "x": [
          19,
          19,
          20,
          21,
          21,
          22,
          21,
          20,
          37,
          52,
          21,
          19,
          24,
          21,
          21,
          21,
          19,
          24,
          27,
          21,
          21,
          23,
          26,
          23,
          19,
          21,
          21,
          21,
          21,
          23,
          21,
          22,
          21,
          21,
          19,
          24,
          21,
          21,
          21,
          21,
          21,
          21,
          21,
          21,
          21,
          23,
          21,
          21
         ],
         "xaxis": "x",
         "yaxis": "y"
        },
        {
         "alignmentgroup": "True",
         "hovertemplate": "Gender=Male<br>Age=%{x}<extra></extra>",
         "legendgroup": "Male",
         "marker": {
          "color": "#EF553B"
         },
         "name": "Male",
         "notched": true,
         "offsetgroup": "Male",
         "showlegend": false,
         "type": "box",
         "x": [
          19,
          19,
          20,
          21,
          21,
          22,
          21,
          20,
          37,
          52,
          21,
          19,
          24,
          21,
          21,
          21,
          19,
          24,
          27,
          21,
          21,
          23,
          26,
          23,
          19,
          21,
          21,
          21,
          21,
          23,
          21,
          22,
          21,
          21,
          19,
          24,
          21,
          21,
          21,
          21,
          21,
          21,
          21,
          21,
          21,
          23,
          21,
          21
         ],
         "xaxis": "x2",
         "yaxis": "y2"
        }
       ],
       "layout": {
        "bargap": 0.1,
        "barmode": "relative",
        "legend": {
         "title": {
          "text": "Gender"
         },
         "tracegroupgap": 0
        },
        "template": {
         "data": {
          "bar": [
           {
            "error_x": {
             "color": "#2a3f5f"
            },
            "error_y": {
             "color": "#2a3f5f"
            },
            "marker": {
             "line": {
              "color": "#E5ECF6",
              "width": 0.5
             },
             "pattern": {
              "fillmode": "overlay",
              "size": 10,
              "solidity": 0.2
             }
            },
            "type": "bar"
           }
          ],
          "barpolar": [
           {
            "marker": {
             "line": {
              "color": "#E5ECF6",
              "width": 0.5
             },
             "pattern": {
              "fillmode": "overlay",
              "size": 10,
              "solidity": 0.2
             }
            },
            "type": "barpolar"
           }
          ],
          "carpet": [
           {
            "aaxis": {
             "endlinecolor": "#2a3f5f",
             "gridcolor": "white",
             "linecolor": "white",
             "minorgridcolor": "white",
             "startlinecolor": "#2a3f5f"
            },
            "baxis": {
             "endlinecolor": "#2a3f5f",
             "gridcolor": "white",
             "linecolor": "white",
             "minorgridcolor": "white",
             "startlinecolor": "#2a3f5f"
            },
            "type": "carpet"
           }
          ],
          "choropleth": [
           {
            "colorbar": {
             "outlinewidth": 0,
             "ticks": ""
            },
            "type": "choropleth"
           }
          ],
          "contour": [
           {
            "colorbar": {
             "outlinewidth": 0,
             "ticks": ""
            },
            "colorscale": [
             [
              0,
              "#0d0887"
             ],
             [
              0.1111111111111111,
              "#46039f"
             ],
             [
              0.2222222222222222,
              "#7201a8"
             ],
             [
              0.3333333333333333,
              "#9c179e"
             ],
             [
              0.4444444444444444,
              "#bd3786"
             ],
             [
              0.5555555555555556,
              "#d8576b"
             ],
             [
              0.6666666666666666,
              "#ed7953"
             ],
             [
              0.7777777777777778,
              "#fb9f3a"
             ],
             [
              0.8888888888888888,
              "#fdca26"
             ],
             [
              1,
              "#f0f921"
             ]
            ],
            "type": "contour"
           }
          ],
          "contourcarpet": [
           {
            "colorbar": {
             "outlinewidth": 0,
             "ticks": ""
            },
            "type": "contourcarpet"
           }
          ],
          "heatmap": [
           {
            "colorbar": {
             "outlinewidth": 0,
             "ticks": ""
            },
            "colorscale": [
             [
              0,
              "#0d0887"
             ],
             [
              0.1111111111111111,
              "#46039f"
             ],
             [
              0.2222222222222222,
              "#7201a8"
             ],
             [
              0.3333333333333333,
              "#9c179e"
             ],
             [
              0.4444444444444444,
              "#bd3786"
             ],
             [
              0.5555555555555556,
              "#d8576b"
             ],
             [
              0.6666666666666666,
              "#ed7953"
             ],
             [
              0.7777777777777778,
              "#fb9f3a"
             ],
             [
              0.8888888888888888,
              "#fdca26"
             ],
             [
              1,
              "#f0f921"
             ]
            ],
            "type": "heatmap"
           }
          ],
          "heatmapgl": [
           {
            "colorbar": {
             "outlinewidth": 0,
             "ticks": ""
            },
            "colorscale": [
             [
              0,
              "#0d0887"
             ],
             [
              0.1111111111111111,
              "#46039f"
             ],
             [
              0.2222222222222222,
              "#7201a8"
             ],
             [
              0.3333333333333333,
              "#9c179e"
             ],
             [
              0.4444444444444444,
              "#bd3786"
             ],
             [
              0.5555555555555556,
              "#d8576b"
             ],
             [
              0.6666666666666666,
              "#ed7953"
             ],
             [
              0.7777777777777778,
              "#fb9f3a"
             ],
             [
              0.8888888888888888,
              "#fdca26"
             ],
             [
              1,
              "#f0f921"
             ]
            ],
            "type": "heatmapgl"
           }
          ],
          "histogram": [
           {
            "marker": {
             "pattern": {
              "fillmode": "overlay",
              "size": 10,
              "solidity": 0.2
             }
            },
            "type": "histogram"
           }
          ],
          "histogram2d": [
           {
            "colorbar": {
             "outlinewidth": 0,
             "ticks": ""
            },
            "colorscale": [
             [
              0,
              "#0d0887"
             ],
             [
              0.1111111111111111,
              "#46039f"
             ],
             [
              0.2222222222222222,
              "#7201a8"
             ],
             [
              0.3333333333333333,
              "#9c179e"
             ],
             [
              0.4444444444444444,
              "#bd3786"
             ],
             [
              0.5555555555555556,
              "#d8576b"
             ],
             [
              0.6666666666666666,
              "#ed7953"
             ],
             [
              0.7777777777777778,
              "#fb9f3a"
             ],
             [
              0.8888888888888888,
              "#fdca26"
             ],
             [
              1,
              "#f0f921"
             ]
            ],
            "type": "histogram2d"
           }
          ],
          "histogram2dcontour": [
           {
            "colorbar": {
             "outlinewidth": 0,
             "ticks": ""
            },
            "colorscale": [
             [
              0,
              "#0d0887"
             ],
             [
              0.1111111111111111,
              "#46039f"
             ],
             [
              0.2222222222222222,
              "#7201a8"
             ],
             [
              0.3333333333333333,
              "#9c179e"
             ],
             [
              0.4444444444444444,
              "#bd3786"
             ],
             [
              0.5555555555555556,
              "#d8576b"
             ],
             [
              0.6666666666666666,
              "#ed7953"
             ],
             [
              0.7777777777777778,
              "#fb9f3a"
             ],
             [
              0.8888888888888888,
              "#fdca26"
             ],
             [
              1,
              "#f0f921"
             ]
            ],
            "type": "histogram2dcontour"
           }
          ],
          "mesh3d": [
           {
            "colorbar": {
             "outlinewidth": 0,
             "ticks": ""
            },
            "type": "mesh3d"
           }
          ],
          "parcoords": [
           {
            "line": {
             "colorbar": {
              "outlinewidth": 0,
              "ticks": ""
             }
            },
            "type": "parcoords"
           }
          ],
          "pie": [
           {
            "automargin": true,
            "type": "pie"
           }
          ],
          "scatter": [
           {
            "fillpattern": {
             "fillmode": "overlay",
             "size": 10,
             "solidity": 0.2
            },
            "type": "scatter"
           }
          ],
          "scatter3d": [
           {
            "line": {
             "colorbar": {
              "outlinewidth": 0,
              "ticks": ""
             }
            },
            "marker": {
             "colorbar": {
              "outlinewidth": 0,
              "ticks": ""
             }
            },
            "type": "scatter3d"
           }
          ],
          "scattercarpet": [
           {
            "marker": {
             "colorbar": {
              "outlinewidth": 0,
              "ticks": ""
             }
            },
            "type": "scattercarpet"
           }
          ],
          "scattergeo": [
           {
            "marker": {
             "colorbar": {
              "outlinewidth": 0,
              "ticks": ""
             }
            },
            "type": "scattergeo"
           }
          ],
          "scattergl": [
           {
            "marker": {
             "colorbar": {
              "outlinewidth": 0,
              "ticks": ""
             }
            },
            "type": "scattergl"
           }
          ],
          "scattermapbox": [
           {
            "marker": {
             "colorbar": {
              "outlinewidth": 0,
              "ticks": ""
             }
            },
            "type": "scattermapbox"
           }
          ],
          "scatterpolar": [
           {
            "marker": {
             "colorbar": {
              "outlinewidth": 0,
              "ticks": ""
             }
            },
            "type": "scatterpolar"
           }
          ],
          "scatterpolargl": [
           {
            "marker": {
             "colorbar": {
              "outlinewidth": 0,
              "ticks": ""
             }
            },
            "type": "scatterpolargl"
           }
          ],
          "scatterternary": [
           {
            "marker": {
             "colorbar": {
              "outlinewidth": 0,
              "ticks": ""
             }
            },
            "type": "scatterternary"
           }
          ],
          "surface": [
           {
            "colorbar": {
             "outlinewidth": 0,
             "ticks": ""
            },
            "colorscale": [
             [
              0,
              "#0d0887"
             ],
             [
              0.1111111111111111,
              "#46039f"
             ],
             [
              0.2222222222222222,
              "#7201a8"
             ],
             [
              0.3333333333333333,
              "#9c179e"
             ],
             [
              0.4444444444444444,
              "#bd3786"
             ],
             [
              0.5555555555555556,
              "#d8576b"
             ],
             [
              0.6666666666666666,
              "#ed7953"
             ],
             [
              0.7777777777777778,
              "#fb9f3a"
             ],
             [
              0.8888888888888888,
              "#fdca26"
             ],
             [
              1,
              "#f0f921"
             ]
            ],
            "type": "surface"
           }
          ],
          "table": [
           {
            "cells": {
             "fill": {
              "color": "#EBF0F8"
             },
             "line": {
              "color": "white"
             }
            },
            "header": {
             "fill": {
              "color": "#C8D4E3"
             },
             "line": {
              "color": "white"
             }
            },
            "type": "table"
           }
          ]
         },
         "layout": {
          "annotationdefaults": {
           "arrowcolor": "#2a3f5f",
           "arrowhead": 0,
           "arrowwidth": 1
          },
          "autotypenumbers": "strict",
          "coloraxis": {
           "colorbar": {
            "outlinewidth": 0,
            "ticks": ""
           }
          },
          "colorscale": {
           "diverging": [
            [
             0,
             "#8e0152"
            ],
            [
             0.1,
             "#c51b7d"
            ],
            [
             0.2,
             "#de77ae"
            ],
            [
             0.3,
             "#f1b6da"
            ],
            [
             0.4,
             "#fde0ef"
            ],
            [
             0.5,
             "#f7f7f7"
            ],
            [
             0.6,
             "#e6f5d0"
            ],
            [
             0.7,
             "#b8e186"
            ],
            [
             0.8,
             "#7fbc41"
            ],
            [
             0.9,
             "#4d9221"
            ],
            [
             1,
             "#276419"
            ]
           ],
           "sequential": [
            [
             0,
             "#0d0887"
            ],
            [
             0.1111111111111111,
             "#46039f"
            ],
            [
             0.2222222222222222,
             "#7201a8"
            ],
            [
             0.3333333333333333,
             "#9c179e"
            ],
            [
             0.4444444444444444,
             "#bd3786"
            ],
            [
             0.5555555555555556,
             "#d8576b"
            ],
            [
             0.6666666666666666,
             "#ed7953"
            ],
            [
             0.7777777777777778,
             "#fb9f3a"
            ],
            [
             0.8888888888888888,
             "#fdca26"
            ],
            [
             1,
             "#f0f921"
            ]
           ],
           "sequentialminus": [
            [
             0,
             "#0d0887"
            ],
            [
             0.1111111111111111,
             "#46039f"
            ],
            [
             0.2222222222222222,
             "#7201a8"
            ],
            [
             0.3333333333333333,
             "#9c179e"
            ],
            [
             0.4444444444444444,
             "#bd3786"
            ],
            [
             0.5555555555555556,
             "#d8576b"
            ],
            [
             0.6666666666666666,
             "#ed7953"
            ],
            [
             0.7777777777777778,
             "#fb9f3a"
            ],
            [
             0.8888888888888888,
             "#fdca26"
            ],
            [
             1,
             "#f0f921"
            ]
           ]
          },
          "colorway": [
           "#636efa",
           "#EF553B",
           "#00cc96",
           "#ab63fa",
           "#FFA15A",
           "#19d3f3",
           "#FF6692",
           "#B6E880",
           "#FF97FF",
           "#FECB52"
          ],
          "font": {
           "color": "#2a3f5f"
          },
          "geo": {
           "bgcolor": "white",
           "lakecolor": "white",
           "landcolor": "#E5ECF6",
           "showlakes": true,
           "showland": true,
           "subunitcolor": "white"
          },
          "hoverlabel": {
           "align": "left"
          },
          "hovermode": "closest",
          "mapbox": {
           "style": "light"
          },
          "paper_bgcolor": "white",
          "plot_bgcolor": "#E5ECF6",
          "polar": {
           "angularaxis": {
            "gridcolor": "white",
            "linecolor": "white",
            "ticks": ""
           },
           "bgcolor": "#E5ECF6",
           "radialaxis": {
            "gridcolor": "white",
            "linecolor": "white",
            "ticks": ""
           }
          },
          "scene": {
           "xaxis": {
            "backgroundcolor": "#E5ECF6",
            "gridcolor": "white",
            "gridwidth": 2,
            "linecolor": "white",
            "showbackground": true,
            "ticks": "",
            "zerolinecolor": "white"
           },
           "yaxis": {
            "backgroundcolor": "#E5ECF6",
            "gridcolor": "white",
            "gridwidth": 2,
            "linecolor": "white",
            "showbackground": true,
            "ticks": "",
            "zerolinecolor": "white"
           },
           "zaxis": {
            "backgroundcolor": "#E5ECF6",
            "gridcolor": "white",
            "gridwidth": 2,
            "linecolor": "white",
            "showbackground": true,
            "ticks": "",
            "zerolinecolor": "white"
           }
          },
          "shapedefaults": {
           "line": {
            "color": "#2a3f5f"
           }
          },
          "ternary": {
           "aaxis": {
            "gridcolor": "white",
            "linecolor": "white",
            "ticks": ""
           },
           "baxis": {
            "gridcolor": "white",
            "linecolor": "white",
            "ticks": ""
           },
           "bgcolor": "#E5ECF6",
           "caxis": {
            "gridcolor": "white",
            "linecolor": "white",
            "ticks": ""
           }
          },
          "title": {
           "x": 0.05
          },
          "xaxis": {
           "automargin": true,
           "gridcolor": "white",
           "linecolor": "white",
           "ticks": "",
           "title": {
            "standoff": 15
           },
           "zerolinecolor": "white",
           "zerolinewidth": 2
          },
          "yaxis": {
           "automargin": true,
           "gridcolor": "white",
           "linecolor": "white",
           "ticks": "",
           "title": {
            "standoff": 15
           },
           "zerolinecolor": "white",
           "zerolinewidth": 2
          }
         }
        },
        "title": {
         "text": "Age across Gender"
        },
        "xaxis": {
         "anchor": "y",
         "domain": [
          0,
          1
         ],
         "title": {
          "text": "Age"
         }
        },
        "xaxis2": {
         "anchor": "y2",
         "domain": [
          0,
          1
         ],
         "matches": "x",
         "showgrid": true,
         "showticklabels": false
        },
        "yaxis": {
         "anchor": "x",
         "domain": [
          0,
          0.7326
         ],
         "title": {
          "text": "count"
         }
        },
        "yaxis2": {
         "anchor": "x2",
         "domain": [
          0.7426,
          1
         ],
         "matches": "y2",
         "showgrid": false,
         "showline": false,
         "showticklabels": false,
         "ticks": ""
        }
       }
      }
     },
     "metadata": {},
     "output_type": "display_data"
    }
   ],
   "source": [
    "fig = px.histogram(data,\n",
    "                x = \"Age\",\n",
    "                nbins = 40,\n",
    "                marginal = \"box\",\n",
    "                color = \"Gender\",\n",
    "                title='Age across Gender')\n",
    "\n",
    "fig.update_layout(bargap=0.1)\n",
    "fig.show()"
   ]
  },
  {
   "attachments": {},
   "cell_type": "markdown",
   "metadata": {},
   "source": [
    "The highest personality test across the participants was Gold one"
   ]
  },
  {
   "cell_type": "code",
   "execution_count": 57,
   "metadata": {},
   "outputs": [
    {
     "data": {
      "application/vnd.plotly.v1+json": {
       "config": {
        "plotlyServerURL": "https://plot.ly"
       },
       "data": [
        {
         "alignmentgroup": "True",
         "bingroup": "x",
         "hovertemplate": "Test_Score=%{x}<br>count=%{y}<extra></extra>",
         "legendgroup": "0",
         "marker": {
          "color": "#636efa",
          "pattern": {
           "shape": ""
          }
         },
         "name": "0",
         "nbinsx": 20,
         "offsetgroup": "0",
         "orientation": "v",
         "showlegend": true,
         "type": "histogram",
         "x": [
          0,
          0,
          0,
          0,
          0,
          0,
          0,
          0,
          0,
          0,
          0,
          0,
          0,
          0,
          0,
          0,
          0,
          0,
          0
         ],
         "xaxis": "x",
         "yaxis": "y"
        },
        {
         "alignmentgroup": "True",
         "hovertemplate": "Test_Score=%{x}<extra></extra>",
         "legendgroup": "0",
         "marker": {
          "color": "#636efa"
         },
         "name": "0",
         "notched": true,
         "offsetgroup": "0",
         "showlegend": false,
         "type": "box",
         "x": [
          0,
          0,
          0,
          0,
          0,
          0,
          0,
          0,
          0,
          0,
          0,
          0,
          0,
          0,
          0,
          0,
          0,
          0,
          0
         ],
         "xaxis": "x2",
         "yaxis": "y2"
        },
        {
         "alignmentgroup": "True",
         "bingroup": "x",
         "hovertemplate": "Test_Score=%{x}<br>count=%{y}<extra></extra>",
         "legendgroup": "1",
         "marker": {
          "color": "#EF553B",
          "pattern": {
           "shape": ""
          }
         },
         "name": "1",
         "nbinsx": 20,
         "offsetgroup": "1",
         "orientation": "v",
         "showlegend": true,
         "type": "histogram",
         "x": [
          1,
          1,
          1,
          1,
          1,
          1,
          1,
          1,
          1,
          1,
          1,
          1,
          1,
          1,
          1,
          1,
          1,
          1,
          1,
          1,
          1,
          1,
          1,
          1
         ],
         "xaxis": "x",
         "yaxis": "y"
        },
        {
         "alignmentgroup": "True",
         "hovertemplate": "Test_Score=%{x}<extra></extra>",
         "legendgroup": "1",
         "marker": {
          "color": "#EF553B"
         },
         "name": "1",
         "notched": true,
         "offsetgroup": "1",
         "showlegend": false,
         "type": "box",
         "x": [
          1,
          1,
          1,
          1,
          1,
          1,
          1,
          1,
          1,
          1,
          1,
          1,
          1,
          1,
          1,
          1,
          1,
          1,
          1,
          1,
          1,
          1,
          1,
          1
         ],
         "xaxis": "x2",
         "yaxis": "y2"
        },
        {
         "alignmentgroup": "True",
         "bingroup": "x",
         "hovertemplate": "Test_Score=%{x}<br>count=%{y}<extra></extra>",
         "legendgroup": "2",
         "marker": {
          "color": "#00cc96",
          "pattern": {
           "shape": ""
          }
         },
         "name": "2",
         "nbinsx": 20,
         "offsetgroup": "2",
         "orientation": "v",
         "showlegend": true,
         "type": "histogram",
         "x": [
          2,
          2,
          2,
          2,
          2,
          2,
          2,
          2,
          2,
          2,
          2,
          2,
          2,
          2,
          2,
          2,
          2,
          2,
          2,
          2,
          2,
          2,
          2,
          2,
          2,
          2,
          2,
          2,
          2,
          2
         ],
         "xaxis": "x",
         "yaxis": "y"
        },
        {
         "alignmentgroup": "True",
         "hovertemplate": "Test_Score=%{x}<extra></extra>",
         "legendgroup": "2",
         "marker": {
          "color": "#00cc96"
         },
         "name": "2",
         "notched": true,
         "offsetgroup": "2",
         "showlegend": false,
         "type": "box",
         "x": [
          2,
          2,
          2,
          2,
          2,
          2,
          2,
          2,
          2,
          2,
          2,
          2,
          2,
          2,
          2,
          2,
          2,
          2,
          2,
          2,
          2,
          2,
          2,
          2,
          2,
          2,
          2,
          2,
          2,
          2
         ],
         "xaxis": "x2",
         "yaxis": "y2"
        },
        {
         "alignmentgroup": "True",
         "bingroup": "x",
         "hovertemplate": "Test_Score=%{x}<br>count=%{y}<extra></extra>",
         "legendgroup": "3",
         "marker": {
          "color": "#ab63fa",
          "pattern": {
           "shape": ""
          }
         },
         "name": "3",
         "nbinsx": 20,
         "offsetgroup": "3",
         "orientation": "v",
         "showlegend": true,
         "type": "histogram",
         "x": [
          3,
          3,
          3,
          3,
          3,
          3,
          3,
          3,
          3,
          3,
          3,
          3,
          3,
          3,
          3,
          3,
          3,
          3,
          3,
          3,
          3,
          3,
          3
         ],
         "xaxis": "x",
         "yaxis": "y"
        },
        {
         "alignmentgroup": "True",
         "hovertemplate": "Test_Score=%{x}<extra></extra>",
         "legendgroup": "3",
         "marker": {
          "color": "#ab63fa"
         },
         "name": "3",
         "notched": true,
         "offsetgroup": "3",
         "showlegend": false,
         "type": "box",
         "x": [
          3,
          3,
          3,
          3,
          3,
          3,
          3,
          3,
          3,
          3,
          3,
          3,
          3,
          3,
          3,
          3,
          3,
          3,
          3,
          3,
          3,
          3,
          3
         ],
         "xaxis": "x2",
         "yaxis": "y2"
        }
       ],
       "layout": {
        "bargap": 0.1,
        "barmode": "relative",
        "legend": {
         "title": {
          "text": "Test_Score"
         },
         "tracegroupgap": 0
        },
        "template": {
         "data": {
          "bar": [
           {
            "error_x": {
             "color": "#2a3f5f"
            },
            "error_y": {
             "color": "#2a3f5f"
            },
            "marker": {
             "line": {
              "color": "#E5ECF6",
              "width": 0.5
             },
             "pattern": {
              "fillmode": "overlay",
              "size": 10,
              "solidity": 0.2
             }
            },
            "type": "bar"
           }
          ],
          "barpolar": [
           {
            "marker": {
             "line": {
              "color": "#E5ECF6",
              "width": 0.5
             },
             "pattern": {
              "fillmode": "overlay",
              "size": 10,
              "solidity": 0.2
             }
            },
            "type": "barpolar"
           }
          ],
          "carpet": [
           {
            "aaxis": {
             "endlinecolor": "#2a3f5f",
             "gridcolor": "white",
             "linecolor": "white",
             "minorgridcolor": "white",
             "startlinecolor": "#2a3f5f"
            },
            "baxis": {
             "endlinecolor": "#2a3f5f",
             "gridcolor": "white",
             "linecolor": "white",
             "minorgridcolor": "white",
             "startlinecolor": "#2a3f5f"
            },
            "type": "carpet"
           }
          ],
          "choropleth": [
           {
            "colorbar": {
             "outlinewidth": 0,
             "ticks": ""
            },
            "type": "choropleth"
           }
          ],
          "contour": [
           {
            "colorbar": {
             "outlinewidth": 0,
             "ticks": ""
            },
            "colorscale": [
             [
              0,
              "#0d0887"
             ],
             [
              0.1111111111111111,
              "#46039f"
             ],
             [
              0.2222222222222222,
              "#7201a8"
             ],
             [
              0.3333333333333333,
              "#9c179e"
             ],
             [
              0.4444444444444444,
              "#bd3786"
             ],
             [
              0.5555555555555556,
              "#d8576b"
             ],
             [
              0.6666666666666666,
              "#ed7953"
             ],
             [
              0.7777777777777778,
              "#fb9f3a"
             ],
             [
              0.8888888888888888,
              "#fdca26"
             ],
             [
              1,
              "#f0f921"
             ]
            ],
            "type": "contour"
           }
          ],
          "contourcarpet": [
           {
            "colorbar": {
             "outlinewidth": 0,
             "ticks": ""
            },
            "type": "contourcarpet"
           }
          ],
          "heatmap": [
           {
            "colorbar": {
             "outlinewidth": 0,
             "ticks": ""
            },
            "colorscale": [
             [
              0,
              "#0d0887"
             ],
             [
              0.1111111111111111,
              "#46039f"
             ],
             [
              0.2222222222222222,
              "#7201a8"
             ],
             [
              0.3333333333333333,
              "#9c179e"
             ],
             [
              0.4444444444444444,
              "#bd3786"
             ],
             [
              0.5555555555555556,
              "#d8576b"
             ],
             [
              0.6666666666666666,
              "#ed7953"
             ],
             [
              0.7777777777777778,
              "#fb9f3a"
             ],
             [
              0.8888888888888888,
              "#fdca26"
             ],
             [
              1,
              "#f0f921"
             ]
            ],
            "type": "heatmap"
           }
          ],
          "heatmapgl": [
           {
            "colorbar": {
             "outlinewidth": 0,
             "ticks": ""
            },
            "colorscale": [
             [
              0,
              "#0d0887"
             ],
             [
              0.1111111111111111,
              "#46039f"
             ],
             [
              0.2222222222222222,
              "#7201a8"
             ],
             [
              0.3333333333333333,
              "#9c179e"
             ],
             [
              0.4444444444444444,
              "#bd3786"
             ],
             [
              0.5555555555555556,
              "#d8576b"
             ],
             [
              0.6666666666666666,
              "#ed7953"
             ],
             [
              0.7777777777777778,
              "#fb9f3a"
             ],
             [
              0.8888888888888888,
              "#fdca26"
             ],
             [
              1,
              "#f0f921"
             ]
            ],
            "type": "heatmapgl"
           }
          ],
          "histogram": [
           {
            "marker": {
             "pattern": {
              "fillmode": "overlay",
              "size": 10,
              "solidity": 0.2
             }
            },
            "type": "histogram"
           }
          ],
          "histogram2d": [
           {
            "colorbar": {
             "outlinewidth": 0,
             "ticks": ""
            },
            "colorscale": [
             [
              0,
              "#0d0887"
             ],
             [
              0.1111111111111111,
              "#46039f"
             ],
             [
              0.2222222222222222,
              "#7201a8"
             ],
             [
              0.3333333333333333,
              "#9c179e"
             ],
             [
              0.4444444444444444,
              "#bd3786"
             ],
             [
              0.5555555555555556,
              "#d8576b"
             ],
             [
              0.6666666666666666,
              "#ed7953"
             ],
             [
              0.7777777777777778,
              "#fb9f3a"
             ],
             [
              0.8888888888888888,
              "#fdca26"
             ],
             [
              1,
              "#f0f921"
             ]
            ],
            "type": "histogram2d"
           }
          ],
          "histogram2dcontour": [
           {
            "colorbar": {
             "outlinewidth": 0,
             "ticks": ""
            },
            "colorscale": [
             [
              0,
              "#0d0887"
             ],
             [
              0.1111111111111111,
              "#46039f"
             ],
             [
              0.2222222222222222,
              "#7201a8"
             ],
             [
              0.3333333333333333,
              "#9c179e"
             ],
             [
              0.4444444444444444,
              "#bd3786"
             ],
             [
              0.5555555555555556,
              "#d8576b"
             ],
             [
              0.6666666666666666,
              "#ed7953"
             ],
             [
              0.7777777777777778,
              "#fb9f3a"
             ],
             [
              0.8888888888888888,
              "#fdca26"
             ],
             [
              1,
              "#f0f921"
             ]
            ],
            "type": "histogram2dcontour"
           }
          ],
          "mesh3d": [
           {
            "colorbar": {
             "outlinewidth": 0,
             "ticks": ""
            },
            "type": "mesh3d"
           }
          ],
          "parcoords": [
           {
            "line": {
             "colorbar": {
              "outlinewidth": 0,
              "ticks": ""
             }
            },
            "type": "parcoords"
           }
          ],
          "pie": [
           {
            "automargin": true,
            "type": "pie"
           }
          ],
          "scatter": [
           {
            "fillpattern": {
             "fillmode": "overlay",
             "size": 10,
             "solidity": 0.2
            },
            "type": "scatter"
           }
          ],
          "scatter3d": [
           {
            "line": {
             "colorbar": {
              "outlinewidth": 0,
              "ticks": ""
             }
            },
            "marker": {
             "colorbar": {
              "outlinewidth": 0,
              "ticks": ""
             }
            },
            "type": "scatter3d"
           }
          ],
          "scattercarpet": [
           {
            "marker": {
             "colorbar": {
              "outlinewidth": 0,
              "ticks": ""
             }
            },
            "type": "scattercarpet"
           }
          ],
          "scattergeo": [
           {
            "marker": {
             "colorbar": {
              "outlinewidth": 0,
              "ticks": ""
             }
            },
            "type": "scattergeo"
           }
          ],
          "scattergl": [
           {
            "marker": {
             "colorbar": {
              "outlinewidth": 0,
              "ticks": ""
             }
            },
            "type": "scattergl"
           }
          ],
          "scattermapbox": [
           {
            "marker": {
             "colorbar": {
              "outlinewidth": 0,
              "ticks": ""
             }
            },
            "type": "scattermapbox"
           }
          ],
          "scatterpolar": [
           {
            "marker": {
             "colorbar": {
              "outlinewidth": 0,
              "ticks": ""
             }
            },
            "type": "scatterpolar"
           }
          ],
          "scatterpolargl": [
           {
            "marker": {
             "colorbar": {
              "outlinewidth": 0,
              "ticks": ""
             }
            },
            "type": "scatterpolargl"
           }
          ],
          "scatterternary": [
           {
            "marker": {
             "colorbar": {
              "outlinewidth": 0,
              "ticks": ""
             }
            },
            "type": "scatterternary"
           }
          ],
          "surface": [
           {
            "colorbar": {
             "outlinewidth": 0,
             "ticks": ""
            },
            "colorscale": [
             [
              0,
              "#0d0887"
             ],
             [
              0.1111111111111111,
              "#46039f"
             ],
             [
              0.2222222222222222,
              "#7201a8"
             ],
             [
              0.3333333333333333,
              "#9c179e"
             ],
             [
              0.4444444444444444,
              "#bd3786"
             ],
             [
              0.5555555555555556,
              "#d8576b"
             ],
             [
              0.6666666666666666,
              "#ed7953"
             ],
             [
              0.7777777777777778,
              "#fb9f3a"
             ],
             [
              0.8888888888888888,
              "#fdca26"
             ],
             [
              1,
              "#f0f921"
             ]
            ],
            "type": "surface"
           }
          ],
          "table": [
           {
            "cells": {
             "fill": {
              "color": "#EBF0F8"
             },
             "line": {
              "color": "white"
             }
            },
            "header": {
             "fill": {
              "color": "#C8D4E3"
             },
             "line": {
              "color": "white"
             }
            },
            "type": "table"
           }
          ]
         },
         "layout": {
          "annotationdefaults": {
           "arrowcolor": "#2a3f5f",
           "arrowhead": 0,
           "arrowwidth": 1
          },
          "autotypenumbers": "strict",
          "coloraxis": {
           "colorbar": {
            "outlinewidth": 0,
            "ticks": ""
           }
          },
          "colorscale": {
           "diverging": [
            [
             0,
             "#8e0152"
            ],
            [
             0.1,
             "#c51b7d"
            ],
            [
             0.2,
             "#de77ae"
            ],
            [
             0.3,
             "#f1b6da"
            ],
            [
             0.4,
             "#fde0ef"
            ],
            [
             0.5,
             "#f7f7f7"
            ],
            [
             0.6,
             "#e6f5d0"
            ],
            [
             0.7,
             "#b8e186"
            ],
            [
             0.8,
             "#7fbc41"
            ],
            [
             0.9,
             "#4d9221"
            ],
            [
             1,
             "#276419"
            ]
           ],
           "sequential": [
            [
             0,
             "#0d0887"
            ],
            [
             0.1111111111111111,
             "#46039f"
            ],
            [
             0.2222222222222222,
             "#7201a8"
            ],
            [
             0.3333333333333333,
             "#9c179e"
            ],
            [
             0.4444444444444444,
             "#bd3786"
            ],
            [
             0.5555555555555556,
             "#d8576b"
            ],
            [
             0.6666666666666666,
             "#ed7953"
            ],
            [
             0.7777777777777778,
             "#fb9f3a"
            ],
            [
             0.8888888888888888,
             "#fdca26"
            ],
            [
             1,
             "#f0f921"
            ]
           ],
           "sequentialminus": [
            [
             0,
             "#0d0887"
            ],
            [
             0.1111111111111111,
             "#46039f"
            ],
            [
             0.2222222222222222,
             "#7201a8"
            ],
            [
             0.3333333333333333,
             "#9c179e"
            ],
            [
             0.4444444444444444,
             "#bd3786"
            ],
            [
             0.5555555555555556,
             "#d8576b"
            ],
            [
             0.6666666666666666,
             "#ed7953"
            ],
            [
             0.7777777777777778,
             "#fb9f3a"
            ],
            [
             0.8888888888888888,
             "#fdca26"
            ],
            [
             1,
             "#f0f921"
            ]
           ]
          },
          "colorway": [
           "#636efa",
           "#EF553B",
           "#00cc96",
           "#ab63fa",
           "#FFA15A",
           "#19d3f3",
           "#FF6692",
           "#B6E880",
           "#FF97FF",
           "#FECB52"
          ],
          "font": {
           "color": "#2a3f5f"
          },
          "geo": {
           "bgcolor": "white",
           "lakecolor": "white",
           "landcolor": "#E5ECF6",
           "showlakes": true,
           "showland": true,
           "subunitcolor": "white"
          },
          "hoverlabel": {
           "align": "left"
          },
          "hovermode": "closest",
          "mapbox": {
           "style": "light"
          },
          "paper_bgcolor": "white",
          "plot_bgcolor": "#E5ECF6",
          "polar": {
           "angularaxis": {
            "gridcolor": "white",
            "linecolor": "white",
            "ticks": ""
           },
           "bgcolor": "#E5ECF6",
           "radialaxis": {
            "gridcolor": "white",
            "linecolor": "white",
            "ticks": ""
           }
          },
          "scene": {
           "xaxis": {
            "backgroundcolor": "#E5ECF6",
            "gridcolor": "white",
            "gridwidth": 2,
            "linecolor": "white",
            "showbackground": true,
            "ticks": "",
            "zerolinecolor": "white"
           },
           "yaxis": {
            "backgroundcolor": "#E5ECF6",
            "gridcolor": "white",
            "gridwidth": 2,
            "linecolor": "white",
            "showbackground": true,
            "ticks": "",
            "zerolinecolor": "white"
           },
           "zaxis": {
            "backgroundcolor": "#E5ECF6",
            "gridcolor": "white",
            "gridwidth": 2,
            "linecolor": "white",
            "showbackground": true,
            "ticks": "",
            "zerolinecolor": "white"
           }
          },
          "shapedefaults": {
           "line": {
            "color": "#2a3f5f"
           }
          },
          "ternary": {
           "aaxis": {
            "gridcolor": "white",
            "linecolor": "white",
            "ticks": ""
           },
           "baxis": {
            "gridcolor": "white",
            "linecolor": "white",
            "ticks": ""
           },
           "bgcolor": "#E5ECF6",
           "caxis": {
            "gridcolor": "white",
            "linecolor": "white",
            "ticks": ""
           }
          },
          "title": {
           "x": 0.05
          },
          "xaxis": {
           "automargin": true,
           "gridcolor": "white",
           "linecolor": "white",
           "ticks": "",
           "title": {
            "standoff": 15
           },
           "zerolinecolor": "white",
           "zerolinewidth": 2
          },
          "yaxis": {
           "automargin": true,
           "gridcolor": "white",
           "linecolor": "white",
           "ticks": "",
           "title": {
            "standoff": 15
           },
           "zerolinecolor": "white",
           "zerolinewidth": 2
          }
         }
        },
        "title": {
         "text": "Personality Types"
        },
        "xaxis": {
         "anchor": "y",
         "categoryarray": [
          0,
          1,
          2,
          3
         ],
         "categoryorder": "array",
         "domain": [
          0,
          1
         ],
         "title": {
          "text": "Test_Score"
         }
        },
        "xaxis2": {
         "anchor": "y2",
         "domain": [
          0,
          1
         ],
         "matches": "x",
         "showgrid": true,
         "showticklabels": false
        },
        "yaxis": {
         "anchor": "x",
         "domain": [
          0,
          0.7326
         ],
         "title": {
          "text": "count"
         }
        },
        "yaxis2": {
         "anchor": "x2",
         "domain": [
          0.7426,
          1
         ],
         "matches": "y2",
         "showgrid": false,
         "showline": false,
         "showticklabels": false,
         "ticks": ""
        }
       }
      }
     },
     "metadata": {},
     "output_type": "display_data"
    }
   ],
   "source": [
    "fig = px.histogram(data,\n",
    "                x = \"Test_Score\",\n",
    "                nbins = 20,\n",
    "                marginal = \"box\",\n",
    "                color = \"Test_Score\",\n",
    "                title='Personality Types')\n",
    "\n",
    "fig.update_layout(bargap=0.1)\n",
    "fig.show()\n"
   ]
  },
  {
   "cell_type": "code",
   "execution_count": 124,
   "metadata": {},
   "outputs": [
    {
     "data": {
      "application/vnd.plotly.v1+json": {
       "config": {
        "plotlyServerURL": "https://plot.ly"
       },
       "data": [
        {
         "alignmentgroup": "True",
         "bingroup": "x",
         "hovertemplate": "Test_Score=0<br>Age=%{x}<br>count=%{y}<extra></extra>",
         "legendgroup": "0",
         "marker": {
          "color": "#636efa",
          "pattern": {
           "shape": ""
          }
         },
         "name": "0",
         "nbinsx": 30,
         "offsetgroup": "0",
         "orientation": "v",
         "showlegend": true,
         "type": "histogram",
         "x": [
          21,
          23,
          19,
          21,
          21,
          15,
          24,
          21,
          19,
          27,
          19,
          23,
          20,
          22,
          21,
          21,
          21,
          21,
          21
         ],
         "xaxis": "x",
         "yaxis": "y"
        },
        {
         "alignmentgroup": "True",
         "hovertemplate": "Test_Score=0<br>Age=%{x}<extra></extra>",
         "legendgroup": "0",
         "marker": {
          "color": "#636efa"
         },
         "name": "0",
         "notched": true,
         "offsetgroup": "0",
         "showlegend": false,
         "type": "box",
         "x": [
          21,
          23,
          19,
          21,
          21,
          15,
          24,
          21,
          19,
          27,
          19,
          23,
          20,
          22,
          21,
          21,
          21,
          21,
          21
         ],
         "xaxis": "x2",
         "yaxis": "y2"
        },
        {
         "alignmentgroup": "True",
         "bingroup": "x",
         "hovertemplate": "Test_Score=1<br>Age=%{x}<br>count=%{y}<extra></extra>",
         "legendgroup": "1",
         "marker": {
          "color": "#EF553B",
          "pattern": {
           "shape": ""
          }
         },
         "name": "1",
         "nbinsx": 30,
         "offsetgroup": "1",
         "orientation": "v",
         "showlegend": true,
         "type": "histogram",
         "x": [
          21,
          20,
          19,
          21,
          21,
          20,
          22,
          21,
          37,
          46,
          21,
          38,
          21,
          19,
          57,
          18,
          23,
          21,
          23,
          21,
          19,
          21,
          21,
          18
         ],
         "xaxis": "x",
         "yaxis": "y"
        },
        {
         "alignmentgroup": "True",
         "hovertemplate": "Test_Score=1<br>Age=%{x}<extra></extra>",
         "legendgroup": "1",
         "marker": {
          "color": "#EF553B"
         },
         "name": "1",
         "notched": true,
         "offsetgroup": "1",
         "showlegend": false,
         "type": "box",
         "x": [
          21,
          20,
          19,
          21,
          21,
          20,
          22,
          21,
          37,
          46,
          21,
          38,
          21,
          19,
          57,
          18,
          23,
          21,
          23,
          21,
          19,
          21,
          21,
          18
         ],
         "xaxis": "x2",
         "yaxis": "y2"
        },
        {
         "alignmentgroup": "True",
         "bingroup": "x",
         "hovertemplate": "Test_Score=2<br>Age=%{x}<br>count=%{y}<extra></extra>",
         "legendgroup": "2",
         "marker": {
          "color": "#00cc96",
          "pattern": {
           "shape": ""
          }
         },
         "name": "2",
         "nbinsx": 30,
         "offsetgroup": "2",
         "orientation": "v",
         "showlegend": true,
         "type": "histogram",
         "x": [
          20,
          19,
          21,
          19,
          22,
          22,
          21,
          21,
          18,
          52,
          21,
          21,
          22,
          21,
          24,
          21,
          20,
          26,
          21,
          21,
          22,
          21,
          21,
          21,
          21,
          20,
          21,
          21,
          23,
          21
         ],
         "xaxis": "x",
         "yaxis": "y"
        },
        {
         "alignmentgroup": "True",
         "hovertemplate": "Test_Score=2<br>Age=%{x}<extra></extra>",
         "legendgroup": "2",
         "marker": {
          "color": "#00cc96"
         },
         "name": "2",
         "notched": true,
         "offsetgroup": "2",
         "showlegend": false,
         "type": "box",
         "x": [
          20,
          19,
          21,
          19,
          22,
          22,
          21,
          21,
          18,
          52,
          21,
          21,
          22,
          21,
          24,
          21,
          20,
          26,
          21,
          21,
          22,
          21,
          21,
          21,
          21,
          20,
          21,
          21,
          23,
          21
         ],
         "xaxis": "x2",
         "yaxis": "y2"
        },
        {
         "alignmentgroup": "True",
         "bingroup": "x",
         "hovertemplate": "Test_Score=3<br>Age=%{x}<br>count=%{y}<extra></extra>",
         "legendgroup": "3",
         "marker": {
          "color": "#ab63fa",
          "pattern": {
           "shape": ""
          }
         },
         "name": "3",
         "nbinsx": 30,
         "offsetgroup": "3",
         "orientation": "v",
         "showlegend": true,
         "type": "histogram",
         "x": [
          20,
          21,
          22,
          20,
          20,
          21,
          20,
          21,
          19,
          22,
          21,
          21,
          21,
          25,
          21,
          21,
          19,
          21,
          21,
          24,
          21,
          21,
          21
         ],
         "xaxis": "x",
         "yaxis": "y"
        },
        {
         "alignmentgroup": "True",
         "hovertemplate": "Test_Score=3<br>Age=%{x}<extra></extra>",
         "legendgroup": "3",
         "marker": {
          "color": "#ab63fa"
         },
         "name": "3",
         "notched": true,
         "offsetgroup": "3",
         "showlegend": false,
         "type": "box",
         "x": [
          20,
          21,
          22,
          20,
          20,
          21,
          20,
          21,
          19,
          22,
          21,
          21,
          21,
          25,
          21,
          21,
          19,
          21,
          21,
          24,
          21,
          21,
          21
         ],
         "xaxis": "x2",
         "yaxis": "y2"
        }
       ],
       "layout": {
        "bargap": 0.01,
        "barmode": "relative",
        "legend": {
         "title": {
          "text": "Test_Score"
         },
         "tracegroupgap": 0
        },
        "template": {
         "data": {
          "bar": [
           {
            "error_x": {
             "color": "#2a3f5f"
            },
            "error_y": {
             "color": "#2a3f5f"
            },
            "marker": {
             "line": {
              "color": "#E5ECF6",
              "width": 0.5
             },
             "pattern": {
              "fillmode": "overlay",
              "size": 10,
              "solidity": 0.2
             }
            },
            "type": "bar"
           }
          ],
          "barpolar": [
           {
            "marker": {
             "line": {
              "color": "#E5ECF6",
              "width": 0.5
             },
             "pattern": {
              "fillmode": "overlay",
              "size": 10,
              "solidity": 0.2
             }
            },
            "type": "barpolar"
           }
          ],
          "carpet": [
           {
            "aaxis": {
             "endlinecolor": "#2a3f5f",
             "gridcolor": "white",
             "linecolor": "white",
             "minorgridcolor": "white",
             "startlinecolor": "#2a3f5f"
            },
            "baxis": {
             "endlinecolor": "#2a3f5f",
             "gridcolor": "white",
             "linecolor": "white",
             "minorgridcolor": "white",
             "startlinecolor": "#2a3f5f"
            },
            "type": "carpet"
           }
          ],
          "choropleth": [
           {
            "colorbar": {
             "outlinewidth": 0,
             "ticks": ""
            },
            "type": "choropleth"
           }
          ],
          "contour": [
           {
            "colorbar": {
             "outlinewidth": 0,
             "ticks": ""
            },
            "colorscale": [
             [
              0,
              "#0d0887"
             ],
             [
              0.1111111111111111,
              "#46039f"
             ],
             [
              0.2222222222222222,
              "#7201a8"
             ],
             [
              0.3333333333333333,
              "#9c179e"
             ],
             [
              0.4444444444444444,
              "#bd3786"
             ],
             [
              0.5555555555555556,
              "#d8576b"
             ],
             [
              0.6666666666666666,
              "#ed7953"
             ],
             [
              0.7777777777777778,
              "#fb9f3a"
             ],
             [
              0.8888888888888888,
              "#fdca26"
             ],
             [
              1,
              "#f0f921"
             ]
            ],
            "type": "contour"
           }
          ],
          "contourcarpet": [
           {
            "colorbar": {
             "outlinewidth": 0,
             "ticks": ""
            },
            "type": "contourcarpet"
           }
          ],
          "heatmap": [
           {
            "colorbar": {
             "outlinewidth": 0,
             "ticks": ""
            },
            "colorscale": [
             [
              0,
              "#0d0887"
             ],
             [
              0.1111111111111111,
              "#46039f"
             ],
             [
              0.2222222222222222,
              "#7201a8"
             ],
             [
              0.3333333333333333,
              "#9c179e"
             ],
             [
              0.4444444444444444,
              "#bd3786"
             ],
             [
              0.5555555555555556,
              "#d8576b"
             ],
             [
              0.6666666666666666,
              "#ed7953"
             ],
             [
              0.7777777777777778,
              "#fb9f3a"
             ],
             [
              0.8888888888888888,
              "#fdca26"
             ],
             [
              1,
              "#f0f921"
             ]
            ],
            "type": "heatmap"
           }
          ],
          "heatmapgl": [
           {
            "colorbar": {
             "outlinewidth": 0,
             "ticks": ""
            },
            "colorscale": [
             [
              0,
              "#0d0887"
             ],
             [
              0.1111111111111111,
              "#46039f"
             ],
             [
              0.2222222222222222,
              "#7201a8"
             ],
             [
              0.3333333333333333,
              "#9c179e"
             ],
             [
              0.4444444444444444,
              "#bd3786"
             ],
             [
              0.5555555555555556,
              "#d8576b"
             ],
             [
              0.6666666666666666,
              "#ed7953"
             ],
             [
              0.7777777777777778,
              "#fb9f3a"
             ],
             [
              0.8888888888888888,
              "#fdca26"
             ],
             [
              1,
              "#f0f921"
             ]
            ],
            "type": "heatmapgl"
           }
          ],
          "histogram": [
           {
            "marker": {
             "pattern": {
              "fillmode": "overlay",
              "size": 10,
              "solidity": 0.2
             }
            },
            "type": "histogram"
           }
          ],
          "histogram2d": [
           {
            "colorbar": {
             "outlinewidth": 0,
             "ticks": ""
            },
            "colorscale": [
             [
              0,
              "#0d0887"
             ],
             [
              0.1111111111111111,
              "#46039f"
             ],
             [
              0.2222222222222222,
              "#7201a8"
             ],
             [
              0.3333333333333333,
              "#9c179e"
             ],
             [
              0.4444444444444444,
              "#bd3786"
             ],
             [
              0.5555555555555556,
              "#d8576b"
             ],
             [
              0.6666666666666666,
              "#ed7953"
             ],
             [
              0.7777777777777778,
              "#fb9f3a"
             ],
             [
              0.8888888888888888,
              "#fdca26"
             ],
             [
              1,
              "#f0f921"
             ]
            ],
            "type": "histogram2d"
           }
          ],
          "histogram2dcontour": [
           {
            "colorbar": {
             "outlinewidth": 0,
             "ticks": ""
            },
            "colorscale": [
             [
              0,
              "#0d0887"
             ],
             [
              0.1111111111111111,
              "#46039f"
             ],
             [
              0.2222222222222222,
              "#7201a8"
             ],
             [
              0.3333333333333333,
              "#9c179e"
             ],
             [
              0.4444444444444444,
              "#bd3786"
             ],
             [
              0.5555555555555556,
              "#d8576b"
             ],
             [
              0.6666666666666666,
              "#ed7953"
             ],
             [
              0.7777777777777778,
              "#fb9f3a"
             ],
             [
              0.8888888888888888,
              "#fdca26"
             ],
             [
              1,
              "#f0f921"
             ]
            ],
            "type": "histogram2dcontour"
           }
          ],
          "mesh3d": [
           {
            "colorbar": {
             "outlinewidth": 0,
             "ticks": ""
            },
            "type": "mesh3d"
           }
          ],
          "parcoords": [
           {
            "line": {
             "colorbar": {
              "outlinewidth": 0,
              "ticks": ""
             }
            },
            "type": "parcoords"
           }
          ],
          "pie": [
           {
            "automargin": true,
            "type": "pie"
           }
          ],
          "scatter": [
           {
            "fillpattern": {
             "fillmode": "overlay",
             "size": 10,
             "solidity": 0.2
            },
            "type": "scatter"
           }
          ],
          "scatter3d": [
           {
            "line": {
             "colorbar": {
              "outlinewidth": 0,
              "ticks": ""
             }
            },
            "marker": {
             "colorbar": {
              "outlinewidth": 0,
              "ticks": ""
             }
            },
            "type": "scatter3d"
           }
          ],
          "scattercarpet": [
           {
            "marker": {
             "colorbar": {
              "outlinewidth": 0,
              "ticks": ""
             }
            },
            "type": "scattercarpet"
           }
          ],
          "scattergeo": [
           {
            "marker": {
             "colorbar": {
              "outlinewidth": 0,
              "ticks": ""
             }
            },
            "type": "scattergeo"
           }
          ],
          "scattergl": [
           {
            "marker": {
             "colorbar": {
              "outlinewidth": 0,
              "ticks": ""
             }
            },
            "type": "scattergl"
           }
          ],
          "scattermapbox": [
           {
            "marker": {
             "colorbar": {
              "outlinewidth": 0,
              "ticks": ""
             }
            },
            "type": "scattermapbox"
           }
          ],
          "scatterpolar": [
           {
            "marker": {
             "colorbar": {
              "outlinewidth": 0,
              "ticks": ""
             }
            },
            "type": "scatterpolar"
           }
          ],
          "scatterpolargl": [
           {
            "marker": {
             "colorbar": {
              "outlinewidth": 0,
              "ticks": ""
             }
            },
            "type": "scatterpolargl"
           }
          ],
          "scatterternary": [
           {
            "marker": {
             "colorbar": {
              "outlinewidth": 0,
              "ticks": ""
             }
            },
            "type": "scatterternary"
           }
          ],
          "surface": [
           {
            "colorbar": {
             "outlinewidth": 0,
             "ticks": ""
            },
            "colorscale": [
             [
              0,
              "#0d0887"
             ],
             [
              0.1111111111111111,
              "#46039f"
             ],
             [
              0.2222222222222222,
              "#7201a8"
             ],
             [
              0.3333333333333333,
              "#9c179e"
             ],
             [
              0.4444444444444444,
              "#bd3786"
             ],
             [
              0.5555555555555556,
              "#d8576b"
             ],
             [
              0.6666666666666666,
              "#ed7953"
             ],
             [
              0.7777777777777778,
              "#fb9f3a"
             ],
             [
              0.8888888888888888,
              "#fdca26"
             ],
             [
              1,
              "#f0f921"
             ]
            ],
            "type": "surface"
           }
          ],
          "table": [
           {
            "cells": {
             "fill": {
              "color": "#EBF0F8"
             },
             "line": {
              "color": "white"
             }
            },
            "header": {
             "fill": {
              "color": "#C8D4E3"
             },
             "line": {
              "color": "white"
             }
            },
            "type": "table"
           }
          ]
         },
         "layout": {
          "annotationdefaults": {
           "arrowcolor": "#2a3f5f",
           "arrowhead": 0,
           "arrowwidth": 1
          },
          "autotypenumbers": "strict",
          "coloraxis": {
           "colorbar": {
            "outlinewidth": 0,
            "ticks": ""
           }
          },
          "colorscale": {
           "diverging": [
            [
             0,
             "#8e0152"
            ],
            [
             0.1,
             "#c51b7d"
            ],
            [
             0.2,
             "#de77ae"
            ],
            [
             0.3,
             "#f1b6da"
            ],
            [
             0.4,
             "#fde0ef"
            ],
            [
             0.5,
             "#f7f7f7"
            ],
            [
             0.6,
             "#e6f5d0"
            ],
            [
             0.7,
             "#b8e186"
            ],
            [
             0.8,
             "#7fbc41"
            ],
            [
             0.9,
             "#4d9221"
            ],
            [
             1,
             "#276419"
            ]
           ],
           "sequential": [
            [
             0,
             "#0d0887"
            ],
            [
             0.1111111111111111,
             "#46039f"
            ],
            [
             0.2222222222222222,
             "#7201a8"
            ],
            [
             0.3333333333333333,
             "#9c179e"
            ],
            [
             0.4444444444444444,
             "#bd3786"
            ],
            [
             0.5555555555555556,
             "#d8576b"
            ],
            [
             0.6666666666666666,
             "#ed7953"
            ],
            [
             0.7777777777777778,
             "#fb9f3a"
            ],
            [
             0.8888888888888888,
             "#fdca26"
            ],
            [
             1,
             "#f0f921"
            ]
           ],
           "sequentialminus": [
            [
             0,
             "#0d0887"
            ],
            [
             0.1111111111111111,
             "#46039f"
            ],
            [
             0.2222222222222222,
             "#7201a8"
            ],
            [
             0.3333333333333333,
             "#9c179e"
            ],
            [
             0.4444444444444444,
             "#bd3786"
            ],
            [
             0.5555555555555556,
             "#d8576b"
            ],
            [
             0.6666666666666666,
             "#ed7953"
            ],
            [
             0.7777777777777778,
             "#fb9f3a"
            ],
            [
             0.8888888888888888,
             "#fdca26"
            ],
            [
             1,
             "#f0f921"
            ]
           ]
          },
          "colorway": [
           "#636efa",
           "#EF553B",
           "#00cc96",
           "#ab63fa",
           "#FFA15A",
           "#19d3f3",
           "#FF6692",
           "#B6E880",
           "#FF97FF",
           "#FECB52"
          ],
          "font": {
           "color": "#2a3f5f"
          },
          "geo": {
           "bgcolor": "white",
           "lakecolor": "white",
           "landcolor": "#E5ECF6",
           "showlakes": true,
           "showland": true,
           "subunitcolor": "white"
          },
          "hoverlabel": {
           "align": "left"
          },
          "hovermode": "closest",
          "mapbox": {
           "style": "light"
          },
          "paper_bgcolor": "white",
          "plot_bgcolor": "#E5ECF6",
          "polar": {
           "angularaxis": {
            "gridcolor": "white",
            "linecolor": "white",
            "ticks": ""
           },
           "bgcolor": "#E5ECF6",
           "radialaxis": {
            "gridcolor": "white",
            "linecolor": "white",
            "ticks": ""
           }
          },
          "scene": {
           "xaxis": {
            "backgroundcolor": "#E5ECF6",
            "gridcolor": "white",
            "gridwidth": 2,
            "linecolor": "white",
            "showbackground": true,
            "ticks": "",
            "zerolinecolor": "white"
           },
           "yaxis": {
            "backgroundcolor": "#E5ECF6",
            "gridcolor": "white",
            "gridwidth": 2,
            "linecolor": "white",
            "showbackground": true,
            "ticks": "",
            "zerolinecolor": "white"
           },
           "zaxis": {
            "backgroundcolor": "#E5ECF6",
            "gridcolor": "white",
            "gridwidth": 2,
            "linecolor": "white",
            "showbackground": true,
            "ticks": "",
            "zerolinecolor": "white"
           }
          },
          "shapedefaults": {
           "line": {
            "color": "#2a3f5f"
           }
          },
          "ternary": {
           "aaxis": {
            "gridcolor": "white",
            "linecolor": "white",
            "ticks": ""
           },
           "baxis": {
            "gridcolor": "white",
            "linecolor": "white",
            "ticks": ""
           },
           "bgcolor": "#E5ECF6",
           "caxis": {
            "gridcolor": "white",
            "linecolor": "white",
            "ticks": ""
           }
          },
          "title": {
           "x": 0.05
          },
          "xaxis": {
           "automargin": true,
           "gridcolor": "white",
           "linecolor": "white",
           "ticks": "",
           "title": {
            "standoff": 15
           },
           "zerolinecolor": "white",
           "zerolinewidth": 2
          },
          "yaxis": {
           "automargin": true,
           "gridcolor": "white",
           "linecolor": "white",
           "ticks": "",
           "title": {
            "standoff": 15
           },
           "zerolinecolor": "white",
           "zerolinewidth": 2
          }
         }
        },
        "title": {
         "text": "Personality Types"
        },
        "xaxis": {
         "anchor": "y",
         "domain": [
          0,
          1
         ],
         "title": {
          "text": "Age"
         }
        },
        "xaxis2": {
         "anchor": "y2",
         "domain": [
          0,
          1
         ],
         "matches": "x",
         "showgrid": true,
         "showticklabels": false
        },
        "yaxis": {
         "anchor": "x",
         "domain": [
          0,
          0.7326
         ],
         "title": {
          "text": "count"
         }
        },
        "yaxis2": {
         "anchor": "x2",
         "domain": [
          0.7426,
          1
         ],
         "matches": "y2",
         "showgrid": false,
         "showline": false,
         "showticklabels": false,
         "ticks": ""
        }
       }
      }
     },
     "metadata": {},
     "output_type": "display_data"
    }
   ],
   "source": [
    "fig = px.histogram(data,\n",
    "                x = \"Age\",\n",
    "                nbins = 30,\n",
    "                marginal = \"box\",\n",
    "                color = \"Test_Score\",\n",
    "                title='Personality Types')\n",
    "\n",
    "fig.update_layout(bargap=0.01)\n",
    "fig.show()\n"
   ]
  },
  {
   "cell_type": "code",
   "execution_count": 59,
   "metadata": {},
   "outputs": [
    {
     "name": "stderr",
     "output_type": "stream",
     "text": [
      "C:\\Users\\HP\\AppData\\Local\\Temp\\ipykernel_22352\\1378091649.py:1: FutureWarning:\n",
      "\n",
      "Dropping of nuisance columns in DataFrame reductions (with 'numeric_only=None') is deprecated; in a future version this will raise TypeError.  Select only valid columns before calling the reduction.\n",
      "\n"
     ]
    },
    {
     "data": {
      "text/plain": [
       "Id                   50.052632\n",
       "Age                  21.052632\n",
       "Openness              4.000000\n",
       "Extraversion          2.605263\n",
       "Agreeableness         3.421053\n",
       "Conscientiousness     3.026316\n",
       "Neuroticism           3.105263\n",
       "Interface_1           6.868421\n",
       "Interface_2           6.168421\n",
       "Interface_3           5.757895\n",
       "Interface_4           6.094737\n",
       "Interface_5           6.736842\n",
       "Interface_6           5.784211\n",
       "Interface_7           7.105263\n",
       "Interface_8           5.310526\n",
       "Interface_9           5.421053\n",
       "Interface_10          8.868421\n",
       "Interface_11          6.605263\n",
       "Interface_12          5.405263\n",
       "Interface_13          7.463158\n",
       "Interface_14          5.736842\n",
       "Interface_15          5.789474\n",
       "Interface_16          6.500000\n",
       "Interface_17          7.594737\n",
       "Extra_interface_1     5.750148\n",
       "Extra_interface_2     6.463927\n",
       "Test_Score            0.000000\n",
       "Top_1                 7.947368\n",
       "Top_2                 9.578947\n",
       "Top_3                 9.894737\n",
       "dtype: float64"
      ]
     },
     "execution_count": 59,
     "metadata": {},
     "output_type": "execute_result"
    }
   ],
   "source": [
    "data[data[\"Test_Score\"] == 0].mean()"
   ]
  },
  {
   "cell_type": "code",
   "execution_count": 60,
   "metadata": {},
   "outputs": [
    {
     "name": "stderr",
     "output_type": "stream",
     "text": [
      "C:\\Users\\HP\\AppData\\Local\\Temp\\ipykernel_22352\\3555718546.py:1: FutureWarning:\n",
      "\n",
      "Dropping of nuisance columns in DataFrame reductions (with 'numeric_only=None') is deprecated; in a future version this will raise TypeError.  Select only valid columns before calling the reduction.\n",
      "\n"
     ]
    },
    {
     "data": {
      "text/plain": [
       "Id                   42.750000\n",
       "Age                  24.541667\n",
       "Openness              4.083333\n",
       "Extraversion          3.666667\n",
       "Agreeableness         3.750000\n",
       "Conscientiousness     2.291667\n",
       "Neuroticism           3.333333\n",
       "Interface_1           6.979167\n",
       "Interface_2           5.895833\n",
       "Interface_3           6.187500\n",
       "Interface_4           6.291667\n",
       "Interface_5           7.020833\n",
       "Interface_6           5.625000\n",
       "Interface_7           7.020833\n",
       "Interface_8           4.270833\n",
       "Interface_9           3.958333\n",
       "Interface_10          8.000000\n",
       "Interface_11          6.875000\n",
       "Interface_12          6.229167\n",
       "Interface_13          7.625000\n",
       "Interface_14          6.375000\n",
       "Interface_15          6.562500\n",
       "Interface_16          7.250000\n",
       "Interface_17          7.958333\n",
       "Extra_interface_1     6.283567\n",
       "Extra_interface_2     5.676217\n",
       "Test_Score            1.000000\n",
       "Top_1                10.291667\n",
       "Top_2                11.041667\n",
       "Top_3                11.000000\n",
       "dtype: float64"
      ]
     },
     "execution_count": 60,
     "metadata": {},
     "output_type": "execute_result"
    }
   ],
   "source": [
    "data[data[\"Test_Score\"] == 1].mean()"
   ]
  },
  {
   "cell_type": "code",
   "execution_count": 61,
   "metadata": {},
   "outputs": [
    {
     "name": "stderr",
     "output_type": "stream",
     "text": [
      "C:\\Users\\HP\\AppData\\Local\\Temp\\ipykernel_22352\\3326052888.py:1: FutureWarning:\n",
      "\n",
      "Dropping of nuisance columns in DataFrame reductions (with 'numeric_only=None') is deprecated; in a future version this will raise TypeError.  Select only valid columns before calling the reduction.\n",
      "\n"
     ]
    },
    {
     "data": {
      "text/plain": [
       "Id                   52.466667\n",
       "Age                  22.166667\n",
       "Openness              4.083333\n",
       "Extraversion          3.500000\n",
       "Agreeableness         3.550000\n",
       "Conscientiousness     2.483333\n",
       "Neuroticism           3.533333\n",
       "Interface_1           6.716667\n",
       "Interface_2           6.033333\n",
       "Interface_3           6.050000\n",
       "Interface_4           6.683333\n",
       "Interface_5           6.516667\n",
       "Interface_6           5.333333\n",
       "Interface_7           7.133333\n",
       "Interface_8           4.550000\n",
       "Interface_9           4.583333\n",
       "Interface_10          8.650000\n",
       "Interface_11          6.610000\n",
       "Interface_12          6.066667\n",
       "Interface_13          7.590000\n",
       "Interface_14          6.850000\n",
       "Interface_15          6.750000\n",
       "Interface_16          7.500000\n",
       "Interface_17          7.983333\n",
       "Extra_interface_1     6.710187\n",
       "Extra_interface_2     6.274307\n",
       "Test_Score            2.000000\n",
       "Top_1                 9.900000\n",
       "Top_2                11.633333\n",
       "Top_3                11.033333\n",
       "dtype: float64"
      ]
     },
     "execution_count": 61,
     "metadata": {},
     "output_type": "execute_result"
    }
   ],
   "source": [
    "data[data[\"Test_Score\"] == 2].mean()"
   ]
  },
  {
   "cell_type": "code",
   "execution_count": 62,
   "metadata": {},
   "outputs": [
    {
     "name": "stderr",
     "output_type": "stream",
     "text": [
      "C:\\Users\\HP\\AppData\\Local\\Temp\\ipykernel_22352\\2886798128.py:1: FutureWarning:\n",
      "\n",
      "Dropping of nuisance columns in DataFrame reductions (with 'numeric_only=None') is deprecated; in a future version this will raise TypeError.  Select only valid columns before calling the reduction.\n",
      "\n"
     ]
    },
    {
     "data": {
      "text/plain": [
       "Id                   48.043478\n",
       "Age                  21.043478\n",
       "Openness              3.956522\n",
       "Extraversion          2.978261\n",
       "Agreeableness         3.195652\n",
       "Conscientiousness     2.760870\n",
       "Neuroticism           3.282609\n",
       "Interface_1           6.760870\n",
       "Interface_2           6.065217\n",
       "Interface_3           5.913043\n",
       "Interface_4           5.913043\n",
       "Interface_5           6.869565\n",
       "Interface_6           5.826087\n",
       "Interface_7           7.021739\n",
       "Interface_8           5.195652\n",
       "Interface_9           4.934783\n",
       "Interface_10          8.456522\n",
       "Interface_11          7.239130\n",
       "Interface_12          5.391304\n",
       "Interface_13          6.978261\n",
       "Interface_14          6.847826\n",
       "Interface_15          6.608696\n",
       "Interface_16          6.847826\n",
       "Interface_17          8.239130\n",
       "Extra_interface_1     5.621983\n",
       "Extra_interface_2     6.075183\n",
       "Test_Score            3.000000\n",
       "Top_1                10.304348\n",
       "Top_2                10.217391\n",
       "Top_3                10.217391\n",
       "dtype: float64"
      ]
     },
     "execution_count": 62,
     "metadata": {},
     "output_type": "execute_result"
    }
   ],
   "source": [
    "data[data[\"Test_Score\"] == 3].mean()"
   ]
  },
  {
   "attachments": {},
   "cell_type": "markdown",
   "metadata": {},
   "source": [
    "# Introverted"
   ]
  },
  {
   "cell_type": "code",
   "execution_count": 169,
   "metadata": {},
   "outputs": [
    {
     "data": {
      "application/vnd.plotly.v1+json": {
       "config": {
        "plotlyServerURL": "https://plot.ly"
       },
       "data": [
        {
         "alignmentgroup": "True",
         "bingroup": "x",
         "hovertemplate": "Test_Score=0<br>Interface_5=%{x}<br>count=%{y}<extra></extra>",
         "legendgroup": "0",
         "marker": {
          "color": "#636efa",
          "pattern": {
           "shape": ""
          }
         },
         "name": "0",
         "nbinsx": 40,
         "offsetgroup": "0",
         "orientation": "v",
         "showlegend": true,
         "type": "histogram",
         "x": [
          6,
          7,
          6,
          8,
          5,
          5,
          6,
          4,
          6,
          5
         ],
         "xaxis": "x",
         "yaxis": "y"
        },
        {
         "alignmentgroup": "True",
         "hovertemplate": "Test_Score=0<br>Interface_5=%{x}<extra></extra>",
         "legendgroup": "0",
         "marker": {
          "color": "#636efa"
         },
         "name": "0",
         "notched": true,
         "offsetgroup": "0",
         "showlegend": false,
         "type": "box",
         "x": [
          6,
          7,
          6,
          8,
          5,
          5,
          6,
          4,
          6,
          5
         ],
         "xaxis": "x2",
         "yaxis": "y2"
        },
        {
         "alignmentgroup": "True",
         "bingroup": "x",
         "hovertemplate": "Test_Score=2<br>Interface_5=%{x}<br>count=%{y}<extra></extra>",
         "legendgroup": "2",
         "marker": {
          "color": "#EF553B",
          "pattern": {
           "shape": ""
          }
         },
         "name": "2",
         "nbinsx": 40,
         "offsetgroup": "2",
         "orientation": "v",
         "showlegend": true,
         "type": "histogram",
         "x": [
          10,
          6,
          7.5,
          5
         ],
         "xaxis": "x",
         "yaxis": "y"
        },
        {
         "alignmentgroup": "True",
         "hovertemplate": "Test_Score=2<br>Interface_5=%{x}<extra></extra>",
         "legendgroup": "2",
         "marker": {
          "color": "#EF553B"
         },
         "name": "2",
         "notched": true,
         "offsetgroup": "2",
         "showlegend": false,
         "type": "box",
         "x": [
          10,
          6,
          7.5,
          5
         ],
         "xaxis": "x2",
         "yaxis": "y2"
        },
        {
         "alignmentgroup": "True",
         "bingroup": "x",
         "hovertemplate": "Test_Score=3<br>Interface_5=%{x}<br>count=%{y}<extra></extra>",
         "legendgroup": "3",
         "marker": {
          "color": "#00cc96",
          "pattern": {
           "shape": ""
          }
         },
         "name": "3",
         "nbinsx": 40,
         "offsetgroup": "3",
         "orientation": "v",
         "showlegend": true,
         "type": "histogram",
         "x": [
          9,
          7.5,
          5,
          9,
          6,
          8,
          7,
          6.5,
          3,
          5
         ],
         "xaxis": "x",
         "yaxis": "y"
        },
        {
         "alignmentgroup": "True",
         "hovertemplate": "Test_Score=3<br>Interface_5=%{x}<extra></extra>",
         "legendgroup": "3",
         "marker": {
          "color": "#00cc96"
         },
         "name": "3",
         "notched": true,
         "offsetgroup": "3",
         "showlegend": false,
         "type": "box",
         "x": [
          9,
          7.5,
          5,
          9,
          6,
          8,
          7,
          6.5,
          3,
          5
         ],
         "xaxis": "x2",
         "yaxis": "y2"
        },
        {
         "alignmentgroup": "True",
         "bingroup": "x",
         "hovertemplate": "Test_Score=1<br>Interface_5=%{x}<br>count=%{y}<extra></extra>",
         "legendgroup": "1",
         "marker": {
          "color": "#ab63fa",
          "pattern": {
           "shape": ""
          }
         },
         "name": "1",
         "nbinsx": 40,
         "offsetgroup": "1",
         "orientation": "v",
         "showlegend": true,
         "type": "histogram",
         "x": [
          8,
          5,
          6,
          9,
          5
         ],
         "xaxis": "x",
         "yaxis": "y"
        },
        {
         "alignmentgroup": "True",
         "hovertemplate": "Test_Score=1<br>Interface_5=%{x}<extra></extra>",
         "legendgroup": "1",
         "marker": {
          "color": "#ab63fa"
         },
         "name": "1",
         "notched": true,
         "offsetgroup": "1",
         "showlegend": false,
         "type": "box",
         "x": [
          8,
          5,
          6,
          9,
          5
         ],
         "xaxis": "x2",
         "yaxis": "y2"
        }
       ],
       "layout": {
        "bargap": 0.1,
        "barmode": "relative",
        "legend": {
         "title": {
          "text": "Test_Score"
         },
         "tracegroupgap": 0
        },
        "template": {
         "data": {
          "bar": [
           {
            "error_x": {
             "color": "#2a3f5f"
            },
            "error_y": {
             "color": "#2a3f5f"
            },
            "marker": {
             "line": {
              "color": "#E5ECF6",
              "width": 0.5
             },
             "pattern": {
              "fillmode": "overlay",
              "size": 10,
              "solidity": 0.2
             }
            },
            "type": "bar"
           }
          ],
          "barpolar": [
           {
            "marker": {
             "line": {
              "color": "#E5ECF6",
              "width": 0.5
             },
             "pattern": {
              "fillmode": "overlay",
              "size": 10,
              "solidity": 0.2
             }
            },
            "type": "barpolar"
           }
          ],
          "carpet": [
           {
            "aaxis": {
             "endlinecolor": "#2a3f5f",
             "gridcolor": "white",
             "linecolor": "white",
             "minorgridcolor": "white",
             "startlinecolor": "#2a3f5f"
            },
            "baxis": {
             "endlinecolor": "#2a3f5f",
             "gridcolor": "white",
             "linecolor": "white",
             "minorgridcolor": "white",
             "startlinecolor": "#2a3f5f"
            },
            "type": "carpet"
           }
          ],
          "choropleth": [
           {
            "colorbar": {
             "outlinewidth": 0,
             "ticks": ""
            },
            "type": "choropleth"
           }
          ],
          "contour": [
           {
            "colorbar": {
             "outlinewidth": 0,
             "ticks": ""
            },
            "colorscale": [
             [
              0,
              "#0d0887"
             ],
             [
              0.1111111111111111,
              "#46039f"
             ],
             [
              0.2222222222222222,
              "#7201a8"
             ],
             [
              0.3333333333333333,
              "#9c179e"
             ],
             [
              0.4444444444444444,
              "#bd3786"
             ],
             [
              0.5555555555555556,
              "#d8576b"
             ],
             [
              0.6666666666666666,
              "#ed7953"
             ],
             [
              0.7777777777777778,
              "#fb9f3a"
             ],
             [
              0.8888888888888888,
              "#fdca26"
             ],
             [
              1,
              "#f0f921"
             ]
            ],
            "type": "contour"
           }
          ],
          "contourcarpet": [
           {
            "colorbar": {
             "outlinewidth": 0,
             "ticks": ""
            },
            "type": "contourcarpet"
           }
          ],
          "heatmap": [
           {
            "colorbar": {
             "outlinewidth": 0,
             "ticks": ""
            },
            "colorscale": [
             [
              0,
              "#0d0887"
             ],
             [
              0.1111111111111111,
              "#46039f"
             ],
             [
              0.2222222222222222,
              "#7201a8"
             ],
             [
              0.3333333333333333,
              "#9c179e"
             ],
             [
              0.4444444444444444,
              "#bd3786"
             ],
             [
              0.5555555555555556,
              "#d8576b"
             ],
             [
              0.6666666666666666,
              "#ed7953"
             ],
             [
              0.7777777777777778,
              "#fb9f3a"
             ],
             [
              0.8888888888888888,
              "#fdca26"
             ],
             [
              1,
              "#f0f921"
             ]
            ],
            "type": "heatmap"
           }
          ],
          "heatmapgl": [
           {
            "colorbar": {
             "outlinewidth": 0,
             "ticks": ""
            },
            "colorscale": [
             [
              0,
              "#0d0887"
             ],
             [
              0.1111111111111111,
              "#46039f"
             ],
             [
              0.2222222222222222,
              "#7201a8"
             ],
             [
              0.3333333333333333,
              "#9c179e"
             ],
             [
              0.4444444444444444,
              "#bd3786"
             ],
             [
              0.5555555555555556,
              "#d8576b"
             ],
             [
              0.6666666666666666,
              "#ed7953"
             ],
             [
              0.7777777777777778,
              "#fb9f3a"
             ],
             [
              0.8888888888888888,
              "#fdca26"
             ],
             [
              1,
              "#f0f921"
             ]
            ],
            "type": "heatmapgl"
           }
          ],
          "histogram": [
           {
            "marker": {
             "pattern": {
              "fillmode": "overlay",
              "size": 10,
              "solidity": 0.2
             }
            },
            "type": "histogram"
           }
          ],
          "histogram2d": [
           {
            "colorbar": {
             "outlinewidth": 0,
             "ticks": ""
            },
            "colorscale": [
             [
              0,
              "#0d0887"
             ],
             [
              0.1111111111111111,
              "#46039f"
             ],
             [
              0.2222222222222222,
              "#7201a8"
             ],
             [
              0.3333333333333333,
              "#9c179e"
             ],
             [
              0.4444444444444444,
              "#bd3786"
             ],
             [
              0.5555555555555556,
              "#d8576b"
             ],
             [
              0.6666666666666666,
              "#ed7953"
             ],
             [
              0.7777777777777778,
              "#fb9f3a"
             ],
             [
              0.8888888888888888,
              "#fdca26"
             ],
             [
              1,
              "#f0f921"
             ]
            ],
            "type": "histogram2d"
           }
          ],
          "histogram2dcontour": [
           {
            "colorbar": {
             "outlinewidth": 0,
             "ticks": ""
            },
            "colorscale": [
             [
              0,
              "#0d0887"
             ],
             [
              0.1111111111111111,
              "#46039f"
             ],
             [
              0.2222222222222222,
              "#7201a8"
             ],
             [
              0.3333333333333333,
              "#9c179e"
             ],
             [
              0.4444444444444444,
              "#bd3786"
             ],
             [
              0.5555555555555556,
              "#d8576b"
             ],
             [
              0.6666666666666666,
              "#ed7953"
             ],
             [
              0.7777777777777778,
              "#fb9f3a"
             ],
             [
              0.8888888888888888,
              "#fdca26"
             ],
             [
              1,
              "#f0f921"
             ]
            ],
            "type": "histogram2dcontour"
           }
          ],
          "mesh3d": [
           {
            "colorbar": {
             "outlinewidth": 0,
             "ticks": ""
            },
            "type": "mesh3d"
           }
          ],
          "parcoords": [
           {
            "line": {
             "colorbar": {
              "outlinewidth": 0,
              "ticks": ""
             }
            },
            "type": "parcoords"
           }
          ],
          "pie": [
           {
            "automargin": true,
            "type": "pie"
           }
          ],
          "scatter": [
           {
            "fillpattern": {
             "fillmode": "overlay",
             "size": 10,
             "solidity": 0.2
            },
            "type": "scatter"
           }
          ],
          "scatter3d": [
           {
            "line": {
             "colorbar": {
              "outlinewidth": 0,
              "ticks": ""
             }
            },
            "marker": {
             "colorbar": {
              "outlinewidth": 0,
              "ticks": ""
             }
            },
            "type": "scatter3d"
           }
          ],
          "scattercarpet": [
           {
            "marker": {
             "colorbar": {
              "outlinewidth": 0,
              "ticks": ""
             }
            },
            "type": "scattercarpet"
           }
          ],
          "scattergeo": [
           {
            "marker": {
             "colorbar": {
              "outlinewidth": 0,
              "ticks": ""
             }
            },
            "type": "scattergeo"
           }
          ],
          "scattergl": [
           {
            "marker": {
             "colorbar": {
              "outlinewidth": 0,
              "ticks": ""
             }
            },
            "type": "scattergl"
           }
          ],
          "scattermapbox": [
           {
            "marker": {
             "colorbar": {
              "outlinewidth": 0,
              "ticks": ""
             }
            },
            "type": "scattermapbox"
           }
          ],
          "scatterpolar": [
           {
            "marker": {
             "colorbar": {
              "outlinewidth": 0,
              "ticks": ""
             }
            },
            "type": "scatterpolar"
           }
          ],
          "scatterpolargl": [
           {
            "marker": {
             "colorbar": {
              "outlinewidth": 0,
              "ticks": ""
             }
            },
            "type": "scatterpolargl"
           }
          ],
          "scatterternary": [
           {
            "marker": {
             "colorbar": {
              "outlinewidth": 0,
              "ticks": ""
             }
            },
            "type": "scatterternary"
           }
          ],
          "surface": [
           {
            "colorbar": {
             "outlinewidth": 0,
             "ticks": ""
            },
            "colorscale": [
             [
              0,
              "#0d0887"
             ],
             [
              0.1111111111111111,
              "#46039f"
             ],
             [
              0.2222222222222222,
              "#7201a8"
             ],
             [
              0.3333333333333333,
              "#9c179e"
             ],
             [
              0.4444444444444444,
              "#bd3786"
             ],
             [
              0.5555555555555556,
              "#d8576b"
             ],
             [
              0.6666666666666666,
              "#ed7953"
             ],
             [
              0.7777777777777778,
              "#fb9f3a"
             ],
             [
              0.8888888888888888,
              "#fdca26"
             ],
             [
              1,
              "#f0f921"
             ]
            ],
            "type": "surface"
           }
          ],
          "table": [
           {
            "cells": {
             "fill": {
              "color": "#EBF0F8"
             },
             "line": {
              "color": "white"
             }
            },
            "header": {
             "fill": {
              "color": "#C8D4E3"
             },
             "line": {
              "color": "white"
             }
            },
            "type": "table"
           }
          ]
         },
         "layout": {
          "annotationdefaults": {
           "arrowcolor": "#2a3f5f",
           "arrowhead": 0,
           "arrowwidth": 1
          },
          "autotypenumbers": "strict",
          "coloraxis": {
           "colorbar": {
            "outlinewidth": 0,
            "ticks": ""
           }
          },
          "colorscale": {
           "diverging": [
            [
             0,
             "#8e0152"
            ],
            [
             0.1,
             "#c51b7d"
            ],
            [
             0.2,
             "#de77ae"
            ],
            [
             0.3,
             "#f1b6da"
            ],
            [
             0.4,
             "#fde0ef"
            ],
            [
             0.5,
             "#f7f7f7"
            ],
            [
             0.6,
             "#e6f5d0"
            ],
            [
             0.7,
             "#b8e186"
            ],
            [
             0.8,
             "#7fbc41"
            ],
            [
             0.9,
             "#4d9221"
            ],
            [
             1,
             "#276419"
            ]
           ],
           "sequential": [
            [
             0,
             "#0d0887"
            ],
            [
             0.1111111111111111,
             "#46039f"
            ],
            [
             0.2222222222222222,
             "#7201a8"
            ],
            [
             0.3333333333333333,
             "#9c179e"
            ],
            [
             0.4444444444444444,
             "#bd3786"
            ],
            [
             0.5555555555555556,
             "#d8576b"
            ],
            [
             0.6666666666666666,
             "#ed7953"
            ],
            [
             0.7777777777777778,
             "#fb9f3a"
            ],
            [
             0.8888888888888888,
             "#fdca26"
            ],
            [
             1,
             "#f0f921"
            ]
           ],
           "sequentialminus": [
            [
             0,
             "#0d0887"
            ],
            [
             0.1111111111111111,
             "#46039f"
            ],
            [
             0.2222222222222222,
             "#7201a8"
            ],
            [
             0.3333333333333333,
             "#9c179e"
            ],
            [
             0.4444444444444444,
             "#bd3786"
            ],
            [
             0.5555555555555556,
             "#d8576b"
            ],
            [
             0.6666666666666666,
             "#ed7953"
            ],
            [
             0.7777777777777778,
             "#fb9f3a"
            ],
            [
             0.8888888888888888,
             "#fdca26"
            ],
            [
             1,
             "#f0f921"
            ]
           ]
          },
          "colorway": [
           "#636efa",
           "#EF553B",
           "#00cc96",
           "#ab63fa",
           "#FFA15A",
           "#19d3f3",
           "#FF6692",
           "#B6E880",
           "#FF97FF",
           "#FECB52"
          ],
          "font": {
           "color": "#2a3f5f"
          },
          "geo": {
           "bgcolor": "white",
           "lakecolor": "white",
           "landcolor": "#E5ECF6",
           "showlakes": true,
           "showland": true,
           "subunitcolor": "white"
          },
          "hoverlabel": {
           "align": "left"
          },
          "hovermode": "closest",
          "mapbox": {
           "style": "light"
          },
          "paper_bgcolor": "white",
          "plot_bgcolor": "#E5ECF6",
          "polar": {
           "angularaxis": {
            "gridcolor": "white",
            "linecolor": "white",
            "ticks": ""
           },
           "bgcolor": "#E5ECF6",
           "radialaxis": {
            "gridcolor": "white",
            "linecolor": "white",
            "ticks": ""
           }
          },
          "scene": {
           "xaxis": {
            "backgroundcolor": "#E5ECF6",
            "gridcolor": "white",
            "gridwidth": 2,
            "linecolor": "white",
            "showbackground": true,
            "ticks": "",
            "zerolinecolor": "white"
           },
           "yaxis": {
            "backgroundcolor": "#E5ECF6",
            "gridcolor": "white",
            "gridwidth": 2,
            "linecolor": "white",
            "showbackground": true,
            "ticks": "",
            "zerolinecolor": "white"
           },
           "zaxis": {
            "backgroundcolor": "#E5ECF6",
            "gridcolor": "white",
            "gridwidth": 2,
            "linecolor": "white",
            "showbackground": true,
            "ticks": "",
            "zerolinecolor": "white"
           }
          },
          "shapedefaults": {
           "line": {
            "color": "#2a3f5f"
           }
          },
          "ternary": {
           "aaxis": {
            "gridcolor": "white",
            "linecolor": "white",
            "ticks": ""
           },
           "baxis": {
            "gridcolor": "white",
            "linecolor": "white",
            "ticks": ""
           },
           "bgcolor": "#E5ECF6",
           "caxis": {
            "gridcolor": "white",
            "linecolor": "white",
            "ticks": ""
           }
          },
          "title": {
           "x": 0.05
          },
          "xaxis": {
           "automargin": true,
           "gridcolor": "white",
           "linecolor": "white",
           "ticks": "",
           "title": {
            "standoff": 15
           },
           "zerolinecolor": "white",
           "zerolinewidth": 2
          },
          "yaxis": {
           "automargin": true,
           "gridcolor": "white",
           "linecolor": "white",
           "ticks": "",
           "title": {
            "standoff": 15
           },
           "zerolinecolor": "white",
           "zerolinewidth": 2
          }
         }
        },
        "title": {
         "text": "Introverted across rating"
        },
        "xaxis": {
         "anchor": "y",
         "domain": [
          0,
          1
         ],
         "title": {
          "text": "Interface_5"
         }
        },
        "xaxis2": {
         "anchor": "y2",
         "domain": [
          0,
          1
         ],
         "matches": "x",
         "showgrid": true,
         "showticklabels": false
        },
        "yaxis": {
         "anchor": "x",
         "domain": [
          0,
          0.7326
         ],
         "title": {
          "text": "count"
         }
        },
        "yaxis2": {
         "anchor": "x2",
         "domain": [
          0.7426,
          1
         ],
         "matches": "y2",
         "showgrid": false,
         "showline": false,
         "showticklabels": false,
         "ticks": ""
        }
       }
      }
     },
     "metadata": {},
     "output_type": "display_data"
    }
   ],
   "source": [
    "y=data.groupby(['Id']).apply(lambda x: x[x['Extraversion'] < 3 ])\n",
    "fig = px.histogram(y,\n",
    "                x = \"Interface_5\",\n",
    "                nbins = 40,\n",
    "                marginal = \"box\",\n",
    "                color = \"Test_Score\",\n",
    "                title='Introverted across rating')\n",
    "\n",
    "fig.update_layout(bargap=0.1)\n",
    "fig.show()"
   ]
  },
  {
   "cell_type": "code",
   "execution_count": 185,
   "metadata": {},
   "outputs": [
    {
     "data": {
      "text/plain": [
       "<AxesSubplot:xlabel='Interface_15'>"
      ]
     },
     "execution_count": 185,
     "metadata": {},
     "output_type": "execute_result"
    },
    {
     "data": {
      "image/png": "[encoded data removed]",
      "text/plain": [
       "<Figure size 432x288 with 1 Axes>"
      ]
     },
     "metadata": {
      "needs_background": "light"
     },
     "output_type": "display_data"
    },
    {
     "data": {
      "image/png": "[encoded data removed]",
      "text/plain": [
       "<Figure size 432x288 with 1 Axes>"
      ]
     },
     "metadata": {
      "needs_background": "light"
     },
     "output_type": "display_data"
    },
    {
     "data": {
      "image/png": "[encoded data removed]",
      "text/plain": [
       "<Figure size 432x288 with 1 Axes>"
      ]
     },
     "metadata": {
      "needs_background": "light"
     },
     "output_type": "display_data"
    },
    {
     "data": {
      "image/png": "[encoded data removed]",
      "text/plain": [
       "<Figure size 432x288 with 1 Axes>"
      ]
     },
     "metadata": {
      "needs_background": "light"
     },
     "output_type": "display_data"
    }
   ],
   "source": [
    "personality = 'Test_Score'\n",
    "y.groupby([\"Interface_12\", personality]).size().unstack(level=1).plot(kind='bar')\n",
    "personality = 'Test_Score'\n",
    "y.groupby([\"Interface_13\", personality]).size().unstack(level=1).plot(kind='bar')\n",
    "personality = 'Test_Score'\n",
    "y.groupby([\"Interface_14\", personality]).size().unstack(level=1).plot(kind='bar')\n",
    "personality = 'Test_Score'\n",
    "y.groupby([\"Interface_15\", personality]).size().unstack(level=1).plot(kind='bar')"
   ]
  },
  {
   "attachments": {},
   "cell_type": "markdown",
   "metadata": {},
   "source": [
    "# Neutral"
   ]
  },
  {
   "cell_type": "code",
   "execution_count": 174,
   "metadata": {},
   "outputs": [
    {
     "data": {
      "application/vnd.plotly.v1+json": {
       "config": {
        "plotlyServerURL": "https://plot.ly"
       },
       "data": [
        {
         "alignmentgroup": "True",
         "bingroup": "x",
         "hovertemplate": "Test_Score=1<br>Interface_5=%{x}<br>count=%{y}<extra></extra>",
         "legendgroup": "1",
         "marker": {
          "color": "#636efa",
          "pattern": {
           "shape": ""
          }
         },
         "name": "1",
         "nbinsx": 40,
         "offsetgroup": "1",
         "orientation": "v",
         "showlegend": true,
         "type": "histogram",
         "x": [
          6.5,
          5,
          8,
          8,
          6
         ],
         "xaxis": "x",
         "yaxis": "y"
        },
        {
         "alignmentgroup": "True",
         "hovertemplate": "Test_Score=1<br>Interface_5=%{x}<extra></extra>",
         "legendgroup": "1",
         "marker": {
          "color": "#636efa"
         },
         "name": "1",
         "notched": true,
         "offsetgroup": "1",
         "showlegend": false,
         "type": "box",
         "x": [
          6.5,
          5,
          8,
          8,
          6
         ],
         "xaxis": "x2",
         "yaxis": "y2"
        },
        {
         "alignmentgroup": "True",
         "bingroup": "x",
         "hovertemplate": "Test_Score=2<br>Interface_5=%{x}<br>count=%{y}<extra></extra>",
         "legendgroup": "2",
         "marker": {
          "color": "#EF553B",
          "pattern": {
           "shape": ""
          }
         },
         "name": "2",
         "nbinsx": 40,
         "offsetgroup": "2",
         "orientation": "v",
         "showlegend": true,
         "type": "histogram",
         "x": [
          6,
          9,
          6,
          7,
          5,
          8,
          7,
          5,
          7,
          7,
          8
         ],
         "xaxis": "x",
         "yaxis": "y"
        },
        {
         "alignmentgroup": "True",
         "hovertemplate": "Test_Score=2<br>Interface_5=%{x}<extra></extra>",
         "legendgroup": "2",
         "marker": {
          "color": "#EF553B"
         },
         "name": "2",
         "notched": true,
         "offsetgroup": "2",
         "showlegend": false,
         "type": "box",
         "x": [
          6,
          9,
          6,
          7,
          5,
          8,
          7,
          5,
          7,
          7,
          8
         ],
         "xaxis": "x2",
         "yaxis": "y2"
        },
        {
         "alignmentgroup": "True",
         "bingroup": "x",
         "hovertemplate": "Test_Score=0<br>Interface_5=%{x}<br>count=%{y}<extra></extra>",
         "legendgroup": "0",
         "marker": {
          "color": "#00cc96",
          "pattern": {
           "shape": ""
          }
         },
         "name": "0",
         "nbinsx": 40,
         "offsetgroup": "0",
         "orientation": "v",
         "showlegend": true,
         "type": "histogram",
         "x": [
          9,
          7,
          8
         ],
         "xaxis": "x",
         "yaxis": "y"
        },
        {
         "alignmentgroup": "True",
         "hovertemplate": "Test_Score=0<br>Interface_5=%{x}<extra></extra>",
         "legendgroup": "0",
         "marker": {
          "color": "#00cc96"
         },
         "name": "0",
         "notched": true,
         "offsetgroup": "0",
         "showlegend": false,
         "type": "box",
         "x": [
          9,
          7,
          8
         ],
         "xaxis": "x2",
         "yaxis": "y2"
        },
        {
         "alignmentgroup": "True",
         "bingroup": "x",
         "hovertemplate": "Test_Score=3<br>Interface_5=%{x}<br>count=%{y}<extra></extra>",
         "legendgroup": "3",
         "marker": {
          "color": "#ab63fa",
          "pattern": {
           "shape": ""
          }
         },
         "name": "3",
         "nbinsx": 40,
         "offsetgroup": "3",
         "orientation": "v",
         "showlegend": true,
         "type": "histogram",
         "x": [
          7,
          9,
          8,
          6
         ],
         "xaxis": "x",
         "yaxis": "y"
        },
        {
         "alignmentgroup": "True",
         "hovertemplate": "Test_Score=3<br>Interface_5=%{x}<extra></extra>",
         "legendgroup": "3",
         "marker": {
          "color": "#ab63fa"
         },
         "name": "3",
         "notched": true,
         "offsetgroup": "3",
         "showlegend": false,
         "type": "box",
         "x": [
          7,
          9,
          8,
          6
         ],
         "xaxis": "x2",
         "yaxis": "y2"
        }
       ],
       "layout": {
        "bargap": 0.1,
        "barmode": "relative",
        "legend": {
         "title": {
          "text": "Test_Score"
         },
         "tracegroupgap": 0
        },
        "template": {
         "data": {
          "bar": [
           {
            "error_x": {
             "color": "#2a3f5f"
            },
            "error_y": {
             "color": "#2a3f5f"
            },
            "marker": {
             "line": {
              "color": "#E5ECF6",
              "width": 0.5
             },
             "pattern": {
              "fillmode": "overlay",
              "size": 10,
              "solidity": 0.2
             }
            },
            "type": "bar"
           }
          ],
          "barpolar": [
           {
            "marker": {
             "line": {
              "color": "#E5ECF6",
              "width": 0.5
             },
             "pattern": {
              "fillmode": "overlay",
              "size": 10,
              "solidity": 0.2
             }
            },
            "type": "barpolar"
           }
          ],
          "carpet": [
           {
            "aaxis": {
             "endlinecolor": "#2a3f5f",
             "gridcolor": "white",
             "linecolor": "white",
             "minorgridcolor": "white",
             "startlinecolor": "#2a3f5f"
            },
            "baxis": {
             "endlinecolor": "#2a3f5f",
             "gridcolor": "white",
             "linecolor": "white",
             "minorgridcolor": "white",
             "startlinecolor": "#2a3f5f"
            },
            "type": "carpet"
           }
          ],
          "choropleth": [
           {
            "colorbar": {
             "outlinewidth": 0,
             "ticks": ""
            },
            "type": "choropleth"
           }
          ],
          "contour": [
           {
            "colorbar": {
             "outlinewidth": 0,
             "ticks": ""
            },
            "colorscale": [
             [
              0,
              "#0d0887"
             ],
             [
              0.1111111111111111,
              "#46039f"
             ],
             [
              0.2222222222222222,
              "#7201a8"
             ],
             [
              0.3333333333333333,
              "#9c179e"
             ],
             [
              0.4444444444444444,
              "#bd3786"
             ],
             [
              0.5555555555555556,
              "#d8576b"
             ],
             [
              0.6666666666666666,
              "#ed7953"
             ],
             [
              0.7777777777777778,
              "#fb9f3a"
             ],
             [
              0.8888888888888888,
              "#fdca26"
             ],
             [
              1,
              "#f0f921"
             ]
            ],
            "type": "contour"
           }
          ],
          "contourcarpet": [
           {
            "colorbar": {
             "outlinewidth": 0,
             "ticks": ""
            },
            "type": "contourcarpet"
           }
          ],
          "heatmap": [
           {
            "colorbar": {
             "outlinewidth": 0,
             "ticks": ""
            },
            "colorscale": [
             [
              0,
              "#0d0887"
             ],
             [
              0.1111111111111111,
              "#46039f"
             ],
             [
              0.2222222222222222,
              "#7201a8"
             ],
             [
              0.3333333333333333,
              "#9c179e"
             ],
             [
              0.4444444444444444,
              "#bd3786"
             ],
             [
              0.5555555555555556,
              "#d8576b"
             ],
             [
              0.6666666666666666,
              "#ed7953"
             ],
             [
              0.7777777777777778,
              "#fb9f3a"
             ],
             [
              0.8888888888888888,
              "#fdca26"
             ],
             [
              1,
              "#f0f921"
             ]
            ],
            "type": "heatmap"
           }
          ],
          "heatmapgl": [
           {
            "colorbar": {
             "outlinewidth": 0,
             "ticks": ""
            },
            "colorscale": [
             [
              0,
              "#0d0887"
             ],
             [
              0.1111111111111111,
              "#46039f"
             ],
             [
              0.2222222222222222,
              "#7201a8"
             ],
             [
              0.3333333333333333,
              "#9c179e"
             ],
             [
              0.4444444444444444,
              "#bd3786"
             ],
             [
              0.5555555555555556,
              "#d8576b"
             ],
             [
              0.6666666666666666,
              "#ed7953"
             ],
             [
              0.7777777777777778,
              "#fb9f3a"
             ],
             [
              0.8888888888888888,
              "#fdca26"
             ],
             [
              1,
              "#f0f921"
             ]
            ],
            "type": "heatmapgl"
           }
          ],
          "histogram": [
           {
            "marker": {
             "pattern": {
              "fillmode": "overlay",
              "size": 10,
              "solidity": 0.2
             }
            },
            "type": "histogram"
           }
          ],
          "histogram2d": [
           {
            "colorbar": {
             "outlinewidth": 0,
             "ticks": ""
            },
            "colorscale": [
             [
              0,
              "#0d0887"
             ],
             [
              0.1111111111111111,
              "#46039f"
             ],
             [
              0.2222222222222222,
              "#7201a8"
             ],
             [
              0.3333333333333333,
              "#9c179e"
             ],
             [
              0.4444444444444444,
              "#bd3786"
             ],
             [
              0.5555555555555556,
              "#d8576b"
             ],
             [
              0.6666666666666666,
              "#ed7953"
             ],
             [
              0.7777777777777778,
              "#fb9f3a"
             ],
             [
              0.8888888888888888,
              "#fdca26"
             ],
             [
              1,
              "#f0f921"
             ]
            ],
            "type": "histogram2d"
           }
          ],
          "histogram2dcontour": [
           {
            "colorbar": {
             "outlinewidth": 0,
             "ticks": ""
            },
            "colorscale": [
             [
              0,
              "#0d0887"
             ],
             [
              0.1111111111111111,
              "#46039f"
             ],
             [
              0.2222222222222222,
              "#7201a8"
             ],
             [
              0.3333333333333333,
              "#9c179e"
             ],
             [
              0.4444444444444444,
              "#bd3786"
             ],
             [
              0.5555555555555556,
              "#d8576b"
             ],
             [
              0.6666666666666666,
              "#ed7953"
             ],
             [
              0.7777777777777778,
              "#fb9f3a"
             ],
             [
              0.8888888888888888,
              "#fdca26"
             ],
             [
              1,
              "#f0f921"
             ]
            ],
            "type": "histogram2dcontour"
           }
          ],
          "mesh3d": [
           {
            "colorbar": {
             "outlinewidth": 0,
             "ticks": ""
            },
            "type": "mesh3d"
           }
          ],
          "parcoords": [
           {
            "line": {
             "colorbar": {
              "outlinewidth": 0,
              "ticks": ""
             }
            },
            "type": "parcoords"
           }
          ],
          "pie": [
           {
            "automargin": true,
            "type": "pie"
           }
          ],
          "scatter": [
           {
            "fillpattern": {
             "fillmode": "overlay",
             "size": 10,
             "solidity": 0.2
            },
            "type": "scatter"
           }
          ],
          "scatter3d": [
           {
            "line": {
             "colorbar": {
              "outlinewidth": 0,
              "ticks": ""
             }
            },
            "marker": {
             "colorbar": {
              "outlinewidth": 0,
              "ticks": ""
             }
            },
            "type": "scatter3d"
           }
          ],
          "scattercarpet": [
           {
            "marker": {
             "colorbar": {
              "outlinewidth": 0,
              "ticks": ""
             }
            },
            "type": "scattercarpet"
           }
          ],
          "scattergeo": [
           {
            "marker": {
             "colorbar": {
              "outlinewidth": 0,
              "ticks": ""
             }
            },
            "type": "scattergeo"
           }
          ],
          "scattergl": [
           {
            "marker": {
             "colorbar": {
              "outlinewidth": 0,
              "ticks": ""
             }
            },
            "type": "scattergl"
           }
          ],
          "scattermapbox": [
           {
            "marker": {
             "colorbar": {
              "outlinewidth": 0,
              "ticks": ""
             }
            },
            "type": "scattermapbox"
           }
          ],
          "scatterpolar": [
           {
            "marker": {
             "colorbar": {
              "outlinewidth": 0,
              "ticks": ""
             }
            },
            "type": "scatterpolar"
           }
          ],
          "scatterpolargl": [
           {
            "marker": {
             "colorbar": {
              "outlinewidth": 0,
              "ticks": ""
             }
            },
            "type": "scatterpolargl"
           }
          ],
          "scatterternary": [
           {
            "marker": {
             "colorbar": {
              "outlinewidth": 0,
              "ticks": ""
             }
            },
            "type": "scatterternary"
           }
          ],
          "surface": [
           {
            "colorbar": {
             "outlinewidth": 0,
             "ticks": ""
            },
            "colorscale": [
             [
              0,
              "#0d0887"
             ],
             [
              0.1111111111111111,
              "#46039f"
             ],
             [
              0.2222222222222222,
              "#7201a8"
             ],
             [
              0.3333333333333333,
              "#9c179e"
             ],
             [
              0.4444444444444444,
              "#bd3786"
             ],
             [
              0.5555555555555556,
              "#d8576b"
             ],
             [
              0.6666666666666666,
              "#ed7953"
             ],
             [
              0.7777777777777778,
              "#fb9f3a"
             ],
             [
              0.8888888888888888,
              "#fdca26"
             ],
             [
              1,
              "#f0f921"
             ]
            ],
            "type": "surface"
           }
          ],
          "table": [
           {
            "cells": {
             "fill": {
              "color": "#EBF0F8"
             },
             "line": {
              "color": "white"
             }
            },
            "header": {
             "fill": {
              "color": "#C8D4E3"
             },
             "line": {
              "color": "white"
             }
            },
            "type": "table"
           }
          ]
         },
         "layout": {
          "annotationdefaults": {
           "arrowcolor": "#2a3f5f",
           "arrowhead": 0,
           "arrowwidth": 1
          },
          "autotypenumbers": "strict",
          "coloraxis": {
           "colorbar": {
            "outlinewidth": 0,
            "ticks": ""
           }
          },
          "colorscale": {
           "diverging": [
            [
             0,
             "#8e0152"
            ],
            [
             0.1,
             "#c51b7d"
            ],
            [
             0.2,
             "#de77ae"
            ],
            [
             0.3,
             "#f1b6da"
            ],
            [
             0.4,
             "#fde0ef"
            ],
            [
             0.5,
             "#f7f7f7"
            ],
            [
             0.6,
             "#e6f5d0"
            ],
            [
             0.7,
             "#b8e186"
            ],
            [
             0.8,
             "#7fbc41"
            ],
            [
             0.9,
             "#4d9221"
            ],
            [
             1,
             "#276419"
            ]
           ],
           "sequential": [
            [
             0,
             "#0d0887"
            ],
            [
             0.1111111111111111,
             "#46039f"
            ],
            [
             0.2222222222222222,
             "#7201a8"
            ],
            [
             0.3333333333333333,
             "#9c179e"
            ],
            [
             0.4444444444444444,
             "#bd3786"
            ],
            [
             0.5555555555555556,
             "#d8576b"
            ],
            [
             0.6666666666666666,
             "#ed7953"
            ],
            [
             0.7777777777777778,
             "#fb9f3a"
            ],
            [
             0.8888888888888888,
             "#fdca26"
            ],
            [
             1,
             "#f0f921"
            ]
           ],
           "sequentialminus": [
            [
             0,
             "#0d0887"
            ],
            [
             0.1111111111111111,
             "#46039f"
            ],
            [
             0.2222222222222222,
             "#7201a8"
            ],
            [
             0.3333333333333333,
             "#9c179e"
            ],
            [
             0.4444444444444444,
             "#bd3786"
            ],
            [
             0.5555555555555556,
             "#d8576b"
            ],
            [
             0.6666666666666666,
             "#ed7953"
            ],
            [
             0.7777777777777778,
             "#fb9f3a"
            ],
            [
             0.8888888888888888,
             "#fdca26"
            ],
            [
             1,
             "#f0f921"
            ]
           ]
          },
          "colorway": [
           "#636efa",
           "#EF553B",
           "#00cc96",
           "#ab63fa",
           "#FFA15A",
           "#19d3f3",
           "#FF6692",
           "#B6E880",
           "#FF97FF",
           "#FECB52"
          ],
          "font": {
           "color": "#2a3f5f"
          },
          "geo": {
           "bgcolor": "white",
           "lakecolor": "white",
           "landcolor": "#E5ECF6",
           "showlakes": true,
           "showland": true,
           "subunitcolor": "white"
          },
          "hoverlabel": {
           "align": "left"
          },
          "hovermode": "closest",
          "mapbox": {
           "style": "light"
          },
          "paper_bgcolor": "white",
          "plot_bgcolor": "#E5ECF6",
          "polar": {
           "angularaxis": {
            "gridcolor": "white",
            "linecolor": "white",
            "ticks": ""
           },
           "bgcolor": "#E5ECF6",
           "radialaxis": {
            "gridcolor": "white",
            "linecolor": "white",
            "ticks": ""
           }
          },
          "scene": {
           "xaxis": {
            "backgroundcolor": "#E5ECF6",
            "gridcolor": "white",
            "gridwidth": 2,
            "linecolor": "white",
            "showbackground": true,
            "ticks": "",
            "zerolinecolor": "white"
           },
           "yaxis": {
            "backgroundcolor": "#E5ECF6",
            "gridcolor": "white",
            "gridwidth": 2,
            "linecolor": "white",
            "showbackground": true,
            "ticks": "",
            "zerolinecolor": "white"
           },
           "zaxis": {
            "backgroundcolor": "#E5ECF6",
            "gridcolor": "white",
            "gridwidth": 2,
            "linecolor": "white",
            "showbackground": true,
            "ticks": "",
            "zerolinecolor": "white"
           }
          },
          "shapedefaults": {
           "line": {
            "color": "#2a3f5f"
           }
          },
          "ternary": {
           "aaxis": {
            "gridcolor": "white",
            "linecolor": "white",
            "ticks": ""
           },
           "baxis": {
            "gridcolor": "white",
            "linecolor": "white",
            "ticks": ""
           },
           "bgcolor": "#E5ECF6",
           "caxis": {
            "gridcolor": "white",
            "linecolor": "white",
            "ticks": ""
           }
          },
          "title": {
           "x": 0.05
          },
          "xaxis": {
           "automargin": true,
           "gridcolor": "white",
           "linecolor": "white",
           "ticks": "",
           "title": {
            "standoff": 15
           },
           "zerolinecolor": "white",
           "zerolinewidth": 2
          },
          "yaxis": {
           "automargin": true,
           "gridcolor": "white",
           "linecolor": "white",
           "ticks": "",
           "title": {
            "standoff": 15
           },
           "zerolinecolor": "white",
           "zerolinewidth": 2
          }
         }
        },
        "title": {
         "text": "Neutral across rating"
        },
        "xaxis": {
         "anchor": "y",
         "domain": [
          0,
          1
         ],
         "title": {
          "text": "Interface_5"
         }
        },
        "xaxis2": {
         "anchor": "y2",
         "domain": [
          0,
          1
         ],
         "matches": "x",
         "showgrid": true,
         "showticklabels": false
        },
        "yaxis": {
         "anchor": "x",
         "domain": [
          0,
          0.7326
         ],
         "title": {
          "text": "count"
         }
        },
        "yaxis2": {
         "anchor": "x2",
         "domain": [
          0.7426,
          1
         ],
         "matches": "y2",
         "showgrid": false,
         "showline": false,
         "showticklabels": false,
         "ticks": ""
        }
       }
      }
     },
     "metadata": {},
     "output_type": "display_data"
    }
   ],
   "source": [
    "z=data.groupby(['Id']).apply(lambda x: x[x['Extraversion'] == 3 ])\n",
    "fig = px.histogram(z,\n",
    "                x = \"Interface_5\",\n",
    "                nbins = 40,\n",
    "                marginal = \"box\",\n",
    "                color = \"Test_Score\",\n",
    "                title='Neutral across rating')\n",
    "\n",
    "fig.update_layout(bargap=0.1)\n",
    "fig.show()"
   ]
  },
  {
   "cell_type": "code",
   "execution_count": 181,
   "metadata": {},
   "outputs": [
    {
     "data": {
      "text/plain": [
       "<AxesSubplot:xlabel='Interface_12'>"
      ]
     },
     "execution_count": 181,
     "metadata": {},
     "output_type": "execute_result"
    },
    {
     "data": {
      "image/png": "[encoded data removed]",
      "text/plain": [
       "<Figure size 432x288 with 1 Axes>"
      ]
     },
     "metadata": {
      "needs_background": "light"
     },
     "output_type": "display_data"
    }
   ],
   "source": [
    "personality = 'Test_Score'\n",
    "z.groupby([\"Interface_12\", personality]).size().unstack(level=1).plot(kind='bar')"
   ]
  },
  {
   "cell_type": "code",
   "execution_count": 182,
   "metadata": {},
   "outputs": [
    {
     "data": {
      "text/plain": [
       "<AxesSubplot:xlabel='Interface_13'>"
      ]
     },
     "execution_count": 182,
     "metadata": {},
     "output_type": "execute_result"
    },
    {
     "data": {
      "image/png": "[encoded data removed]",
      "text/plain": [
       "<Figure size 432x288 with 1 Axes>"
      ]
     },
     "metadata": {
      "needs_background": "light"
     },
     "output_type": "display_data"
    }
   ],
   "source": [
    "personality = 'Test_Score'\n",
    "z.groupby([\"Interface_13\", personality]).size().unstack(level=1).plot(kind='bar')"
   ]
  },
  {
   "cell_type": "code",
   "execution_count": 183,
   "metadata": {},
   "outputs": [
    {
     "data": {
      "text/plain": [
       "<AxesSubplot:xlabel='Interface_14'>"
      ]
     },
     "execution_count": 183,
     "metadata": {},
     "output_type": "execute_result"
    },
    {
     "data": {
      "image/png": "[encoded data removed]",
      "text/plain": [
       "<Figure size 432x288 with 1 Axes>"
      ]
     },
     "metadata": {
      "needs_background": "light"
     },
     "output_type": "display_data"
    }
   ],
   "source": [
    "personality = 'Test_Score'\n",
    "z.groupby([\"Interface_14\", personality]).size().unstack(level=1).plot(kind='bar')"
   ]
  },
  {
   "cell_type": "code",
   "execution_count": 184,
   "metadata": {},
   "outputs": [
    {
     "data": {
      "text/plain": [
       "<AxesSubplot:xlabel='Interface_15'>"
      ]
     },
     "execution_count": 184,
     "metadata": {},
     "output_type": "execute_result"
    },
    {
     "data": {
      "image/png": "[encoded data removed]",
      "text/plain": [
       "<Figure size 432x288 with 1 Axes>"
      ]
     },
     "metadata": {
      "needs_background": "light"
     },
     "output_type": "display_data"
    }
   ],
   "source": [
    "personality = 'Test_Score'\n",
    "z.groupby([\"Interface_15\", personality]).size().unstack(level=1).plot(kind='bar')"
   ]
  },
  {
   "attachments": {},
   "cell_type": "markdown",
   "metadata": {},
   "source": [
    "# for extraverted\n"
   ]
  },
  {
   "cell_type": "code",
   "execution_count": 168,
   "metadata": {},
   "outputs": [
    {
     "data": {
      "application/vnd.plotly.v1+json": {
       "config": {
        "plotlyServerURL": "https://plot.ly"
       },
       "data": [
        {
         "alignmentgroup": "True",
         "bingroup": "x",
         "hovertemplate": "Test_Score=1<br>Interface_5=%{x}<br>count=%{y}<extra></extra>",
         "legendgroup": "1",
         "marker": {
          "color": "#636efa",
          "pattern": {
           "shape": ""
          }
         },
         "name": "1",
         "nbinsx": 40,
         "offsetgroup": "1",
         "orientation": "v",
         "showlegend": true,
         "type": "histogram",
         "x": [
          8,
          8,
          8,
          10,
          8,
          8,
          6,
          9,
          7,
          5,
          6,
          7,
          6,
          6
         ],
         "xaxis": "x",
         "yaxis": "y"
        },
        {
         "alignmentgroup": "True",
         "hovertemplate": "Test_Score=1<br>Interface_5=%{x}<extra></extra>",
         "legendgroup": "1",
         "marker": {
          "color": "#636efa"
         },
         "name": "1",
         "notched": true,
         "offsetgroup": "1",
         "showlegend": false,
         "type": "box",
         "x": [
          8,
          8,
          8,
          10,
          8,
          8,
          6,
          9,
          7,
          5,
          6,
          7,
          6,
          6
         ],
         "xaxis": "x2",
         "yaxis": "y2"
        },
        {
         "alignmentgroup": "True",
         "bingroup": "x",
         "hovertemplate": "Test_Score=0<br>Interface_5=%{x}<br>count=%{y}<extra></extra>",
         "legendgroup": "0",
         "marker": {
          "color": "#EF553B",
          "pattern": {
           "shape": ""
          }
         },
         "name": "0",
         "nbinsx": 40,
         "offsetgroup": "0",
         "orientation": "v",
         "showlegend": true,
         "type": "histogram",
         "x": [
          9,
          2,
          9,
          10,
          9,
          7
         ],
         "xaxis": "x",
         "yaxis": "y"
        },
        {
         "alignmentgroup": "True",
         "hovertemplate": "Test_Score=0<br>Interface_5=%{x}<extra></extra>",
         "legendgroup": "0",
         "marker": {
          "color": "#EF553B"
         },
         "name": "0",
         "notched": true,
         "offsetgroup": "0",
         "showlegend": false,
         "type": "box",
         "x": [
          9,
          2,
          9,
          10,
          9,
          7
         ],
         "xaxis": "x2",
         "yaxis": "y2"
        },
        {
         "alignmentgroup": "True",
         "bingroup": "x",
         "hovertemplate": "Test_Score=2<br>Interface_5=%{x}<br>count=%{y}<extra></extra>",
         "legendgroup": "2",
         "marker": {
          "color": "#00cc96",
          "pattern": {
           "shape": ""
          }
         },
         "name": "2",
         "nbinsx": 40,
         "offsetgroup": "2",
         "orientation": "v",
         "showlegend": true,
         "type": "histogram",
         "x": [
          7,
          7,
          5,
          7,
          6,
          7,
          5,
          4,
          5,
          5,
          4,
          7,
          8,
          8,
          7
         ],
         "xaxis": "x",
         "yaxis": "y"
        },
        {
         "alignmentgroup": "True",
         "hovertemplate": "Test_Score=2<br>Interface_5=%{x}<extra></extra>",
         "legendgroup": "2",
         "marker": {
          "color": "#00cc96"
         },
         "name": "2",
         "notched": true,
         "offsetgroup": "2",
         "showlegend": false,
         "type": "box",
         "x": [
          7,
          7,
          5,
          7,
          6,
          7,
          5,
          4,
          5,
          5,
          4,
          7,
          8,
          8,
          7
         ],
         "xaxis": "x2",
         "yaxis": "y2"
        },
        {
         "alignmentgroup": "True",
         "bingroup": "x",
         "hovertemplate": "Test_Score=3<br>Interface_5=%{x}<br>count=%{y}<extra></extra>",
         "legendgroup": "3",
         "marker": {
          "color": "#ab63fa",
          "pattern": {
           "shape": ""
          }
         },
         "name": "3",
         "nbinsx": 40,
         "offsetgroup": "3",
         "orientation": "v",
         "showlegend": true,
         "type": "histogram",
         "x": [
          9,
          6,
          8,
          7,
          8,
          5,
          4,
          7,
          8
         ],
         "xaxis": "x",
         "yaxis": "y"
        },
        {
         "alignmentgroup": "True",
         "hovertemplate": "Test_Score=3<br>Interface_5=%{x}<extra></extra>",
         "legendgroup": "3",
         "marker": {
          "color": "#ab63fa"
         },
         "name": "3",
         "notched": true,
         "offsetgroup": "3",
         "showlegend": false,
         "type": "box",
         "x": [
          9,
          6,
          8,
          7,
          8,
          5,
          4,
          7,
          8
         ],
         "xaxis": "x2",
         "yaxis": "y2"
        }
       ],
       "layout": {
        "bargap": 0.1,
        "barmode": "relative",
        "legend": {
         "title": {
          "text": "Test_Score"
         },
         "tracegroupgap": 0
        },
        "template": {
         "data": {
          "bar": [
           {
            "error_x": {
             "color": "#2a3f5f"
            },
            "error_y": {
             "color": "#2a3f5f"
            },
            "marker": {
             "line": {
              "color": "#E5ECF6",
              "width": 0.5
             },
             "pattern": {
              "fillmode": "overlay",
              "size": 10,
              "solidity": 0.2
             }
            },
            "type": "bar"
           }
          ],
          "barpolar": [
           {
            "marker": {
             "line": {
              "color": "#E5ECF6",
              "width": 0.5
             },
             "pattern": {
              "fillmode": "overlay",
              "size": 10,
              "solidity": 0.2
             }
            },
            "type": "barpolar"
           }
          ],
          "carpet": [
           {
            "aaxis": {
             "endlinecolor": "#2a3f5f",
             "gridcolor": "white",
             "linecolor": "white",
             "minorgridcolor": "white",
             "startlinecolor": "#2a3f5f"
            },
            "baxis": {
             "endlinecolor": "#2a3f5f",
             "gridcolor": "white",
             "linecolor": "white",
             "minorgridcolor": "white",
             "startlinecolor": "#2a3f5f"
            },
            "type": "carpet"
           }
          ],
          "choropleth": [
           {
            "colorbar": {
             "outlinewidth": 0,
             "ticks": ""
            },
            "type": "choropleth"
           }
          ],
          "contour": [
           {
            "colorbar": {
             "outlinewidth": 0,
             "ticks": ""
            },
            "colorscale": [
             [
              0,
              "#0d0887"
             ],
             [
              0.1111111111111111,
              "#46039f"
             ],
             [
              0.2222222222222222,
              "#7201a8"
             ],
             [
              0.3333333333333333,
              "#9c179e"
             ],
             [
              0.4444444444444444,
              "#bd3786"
             ],
             [
              0.5555555555555556,
              "#d8576b"
             ],
             [
              0.6666666666666666,
              "#ed7953"
             ],
             [
              0.7777777777777778,
              "#fb9f3a"
             ],
             [
              0.8888888888888888,
              "#fdca26"
             ],
             [
              1,
              "#f0f921"
             ]
            ],
            "type": "contour"
           }
          ],
          "contourcarpet": [
           {
            "colorbar": {
             "outlinewidth": 0,
             "ticks": ""
            },
            "type": "contourcarpet"
           }
          ],
          "heatmap": [
           {
            "colorbar": {
             "outlinewidth": 0,
             "ticks": ""
            },
            "colorscale": [
             [
              0,
              "#0d0887"
             ],
             [
              0.1111111111111111,
              "#46039f"
             ],
             [
              0.2222222222222222,
              "#7201a8"
             ],
             [
              0.3333333333333333,
              "#9c179e"
             ],
             [
              0.4444444444444444,
              "#bd3786"
             ],
             [
              0.5555555555555556,
              "#d8576b"
             ],
             [
              0.6666666666666666,
              "#ed7953"
             ],
             [
              0.7777777777777778,
              "#fb9f3a"
             ],
             [
              0.8888888888888888,
              "#fdca26"
             ],
             [
              1,
              "#f0f921"
             ]
            ],
            "type": "heatmap"
           }
          ],
          "heatmapgl": [
           {
            "colorbar": {
             "outlinewidth": 0,
             "ticks": ""
            },
            "colorscale": [
             [
              0,
              "#0d0887"
             ],
             [
              0.1111111111111111,
              "#46039f"
             ],
             [
              0.2222222222222222,
              "#7201a8"
             ],
             [
              0.3333333333333333,
              "#9c179e"
             ],
             [
              0.4444444444444444,
              "#bd3786"
             ],
             [
              0.5555555555555556,
              "#d8576b"
             ],
             [
              0.6666666666666666,
              "#ed7953"
             ],
             [
              0.7777777777777778,
              "#fb9f3a"
             ],
             [
              0.8888888888888888,
              "#fdca26"
             ],
             [
              1,
              "#f0f921"
             ]
            ],
            "type": "heatmapgl"
           }
          ],
          "histogram": [
           {
            "marker": {
             "pattern": {
              "fillmode": "overlay",
              "size": 10,
              "solidity": 0.2
             }
            },
            "type": "histogram"
           }
          ],
          "histogram2d": [
           {
            "colorbar": {
             "outlinewidth": 0,
             "ticks": ""
            },
            "colorscale": [
             [
              0,
              "#0d0887"
             ],
             [
              0.1111111111111111,
              "#46039f"
             ],
             [
              0.2222222222222222,
              "#7201a8"
             ],
             [
              0.3333333333333333,
              "#9c179e"
             ],
             [
              0.4444444444444444,
              "#bd3786"
             ],
             [
              0.5555555555555556,
              "#d8576b"
             ],
             [
              0.6666666666666666,
              "#ed7953"
             ],
             [
              0.7777777777777778,
              "#fb9f3a"
             ],
             [
              0.8888888888888888,
              "#fdca26"
             ],
             [
              1,
              "#f0f921"
             ]
            ],
            "type": "histogram2d"
           }
          ],
          "histogram2dcontour": [
           {
            "colorbar": {
             "outlinewidth": 0,
             "ticks": ""
            },
            "colorscale": [
             [
              0,
              "#0d0887"
             ],
             [
              0.1111111111111111,
              "#46039f"
             ],
             [
              0.2222222222222222,
              "#7201a8"
             ],
             [
              0.3333333333333333,
              "#9c179e"
             ],
             [
              0.4444444444444444,
              "#bd3786"
             ],
             [
              0.5555555555555556,
              "#d8576b"
             ],
             [
              0.6666666666666666,
              "#ed7953"
             ],
             [
              0.7777777777777778,
              "#fb9f3a"
             ],
             [
              0.8888888888888888,
              "#fdca26"
             ],
             [
              1,
              "#f0f921"
             ]
            ],
            "type": "histogram2dcontour"
           }
          ],
          "mesh3d": [
           {
            "colorbar": {
             "outlinewidth": 0,
             "ticks": ""
            },
            "type": "mesh3d"
           }
          ],
          "parcoords": [
           {
            "line": {
             "colorbar": {
              "outlinewidth": 0,
              "ticks": ""
             }
            },
            "type": "parcoords"
           }
          ],
          "pie": [
           {
            "automargin": true,
            "type": "pie"
           }
          ],
          "scatter": [
           {
            "fillpattern": {
             "fillmode": "overlay",
             "size": 10,
             "solidity": 0.2
            },
            "type": "scatter"
           }
          ],
          "scatter3d": [
           {
            "line": {
             "colorbar": {
              "outlinewidth": 0,
              "ticks": ""
             }
            },
            "marker": {
             "colorbar": {
              "outlinewidth": 0,
              "ticks": ""
             }
            },
            "type": "scatter3d"
           }
          ],
          "scattercarpet": [
           {
            "marker": {
             "colorbar": {
              "outlinewidth": 0,
              "ticks": ""
             }
            },
            "type": "scattercarpet"
           }
          ],
          "scattergeo": [
           {
            "marker": {
             "colorbar": {
              "outlinewidth": 0,
              "ticks": ""
             }
            },
            "type": "scattergeo"
           }
          ],
          "scattergl": [
           {
            "marker": {
             "colorbar": {
              "outlinewidth": 0,
              "ticks": ""
             }
            },
            "type": "scattergl"
           }
          ],
          "scattermapbox": [
           {
            "marker": {
             "colorbar": {
              "outlinewidth": 0,
              "ticks": ""
             }
            },
            "type": "scattermapbox"
           }
          ],
          "scatterpolar": [
           {
            "marker": {
             "colorbar": {
              "outlinewidth": 0,
              "ticks": ""
             }
            },
            "type": "scatterpolar"
           }
          ],
          "scatterpolargl": [
           {
            "marker": {
             "colorbar": {
              "outlinewidth": 0,
              "ticks": ""
             }
            },
            "type": "scatterpolargl"
           }
          ],
          "scatterternary": [
           {
            "marker": {
             "colorbar": {
              "outlinewidth": 0,
              "ticks": ""
             }
            },
            "type": "scatterternary"
           }
          ],
          "surface": [
           {
            "colorbar": {
             "outlinewidth": 0,
             "ticks": ""
            },
            "colorscale": [
             [
              0,
              "#0d0887"
             ],
             [
              0.1111111111111111,
              "#46039f"
             ],
             [
              0.2222222222222222,
              "#7201a8"
             ],
             [
              0.3333333333333333,
              "#9c179e"
             ],
             [
              0.4444444444444444,
              "#bd3786"
             ],
             [
              0.5555555555555556,
              "#d8576b"
             ],
             [
              0.6666666666666666,
              "#ed7953"
             ],
             [
              0.7777777777777778,
              "#fb9f3a"
             ],
             [
              0.8888888888888888,
              "#fdca26"
             ],
             [
              1,
              "#f0f921"
             ]
            ],
            "type": "surface"
           }
          ],
          "table": [
           {
            "cells": {
             "fill": {
              "color": "#EBF0F8"
             },
             "line": {
              "color": "white"
             }
            },
            "header": {
             "fill": {
              "color": "#C8D4E3"
             },
             "line": {
              "color": "white"
             }
            },
            "type": "table"
           }
          ]
         },
         "layout": {
          "annotationdefaults": {
           "arrowcolor": "#2a3f5f",
           "arrowhead": 0,
           "arrowwidth": 1
          },
          "autotypenumbers": "strict",
          "coloraxis": {
           "colorbar": {
            "outlinewidth": 0,
            "ticks": ""
           }
          },
          "colorscale": {
           "diverging": [
            [
             0,
             "#8e0152"
            ],
            [
             0.1,
             "#c51b7d"
            ],
            [
             0.2,
             "#de77ae"
            ],
            [
             0.3,
             "#f1b6da"
            ],
            [
             0.4,
             "#fde0ef"
            ],
            [
             0.5,
             "#f7f7f7"
            ],
            [
             0.6,
             "#e6f5d0"
            ],
            [
             0.7,
             "#b8e186"
            ],
            [
             0.8,
             "#7fbc41"
            ],
            [
             0.9,
             "#4d9221"
            ],
            [
             1,
             "#276419"
            ]
           ],
           "sequential": [
            [
             0,
             "#0d0887"
            ],
            [
             0.1111111111111111,
             "#46039f"
            ],
            [
             0.2222222222222222,
             "#7201a8"
            ],
            [
             0.3333333333333333,
             "#9c179e"
            ],
            [
             0.4444444444444444,
             "#bd3786"
            ],
            [
             0.5555555555555556,
             "#d8576b"
            ],
            [
             0.6666666666666666,
             "#ed7953"
            ],
            [
             0.7777777777777778,
             "#fb9f3a"
            ],
            [
             0.8888888888888888,
             "#fdca26"
            ],
            [
             1,
             "#f0f921"
            ]
           ],
           "sequentialminus": [
            [
             0,
             "#0d0887"
            ],
            [
             0.1111111111111111,
             "#46039f"
            ],
            [
             0.2222222222222222,
             "#7201a8"
            ],
            [
             0.3333333333333333,
             "#9c179e"
            ],
            [
             0.4444444444444444,
             "#bd3786"
            ],
            [
             0.5555555555555556,
             "#d8576b"
            ],
            [
             0.6666666666666666,
             "#ed7953"
            ],
            [
             0.7777777777777778,
             "#fb9f3a"
            ],
            [
             0.8888888888888888,
             "#fdca26"
            ],
            [
             1,
             "#f0f921"
            ]
           ]
          },
          "colorway": [
           "#636efa",
           "#EF553B",
           "#00cc96",
           "#ab63fa",
           "#FFA15A",
           "#19d3f3",
           "#FF6692",
           "#B6E880",
           "#FF97FF",
           "#FECB52"
          ],
          "font": {
           "color": "#2a3f5f"
          },
          "geo": {
           "bgcolor": "white",
           "lakecolor": "white",
           "landcolor": "#E5ECF6",
           "showlakes": true,
           "showland": true,
           "subunitcolor": "white"
          },
          "hoverlabel": {
           "align": "left"
          },
          "hovermode": "closest",
          "mapbox": {
           "style": "light"
          },
          "paper_bgcolor": "white",
          "plot_bgcolor": "#E5ECF6",
          "polar": {
           "angularaxis": {
            "gridcolor": "white",
            "linecolor": "white",
            "ticks": ""
           },
           "bgcolor": "#E5ECF6",
           "radialaxis": {
            "gridcolor": "white",
            "linecolor": "white",
            "ticks": ""
           }
          },
          "scene": {
           "xaxis": {
            "backgroundcolor": "#E5ECF6",
            "gridcolor": "white",
            "gridwidth": 2,
            "linecolor": "white",
            "showbackground": true,
            "ticks": "",
            "zerolinecolor": "white"
           },
           "yaxis": {
            "backgroundcolor": "#E5ECF6",
            "gridcolor": "white",
            "gridwidth": 2,
            "linecolor": "white",
            "showbackground": true,
            "ticks": "",
            "zerolinecolor": "white"
           },
           "zaxis": {
            "backgroundcolor": "#E5ECF6",
            "gridcolor": "white",
            "gridwidth": 2,
            "linecolor": "white",
            "showbackground": true,
            "ticks": "",
            "zerolinecolor": "white"
           }
          },
          "shapedefaults": {
           "line": {
            "color": "#2a3f5f"
           }
          },
          "ternary": {
           "aaxis": {
            "gridcolor": "white",
            "linecolor": "white",
            "ticks": ""
           },
           "baxis": {
            "gridcolor": "white",
            "linecolor": "white",
            "ticks": ""
           },
           "bgcolor": "#E5ECF6",
           "caxis": {
            "gridcolor": "white",
            "linecolor": "white",
            "ticks": ""
           }
          },
          "title": {
           "x": 0.05
          },
          "xaxis": {
           "automargin": true,
           "gridcolor": "white",
           "linecolor": "white",
           "ticks": "",
           "title": {
            "standoff": 15
           },
           "zerolinecolor": "white",
           "zerolinewidth": 2
          },
          "yaxis": {
           "automargin": true,
           "gridcolor": "white",
           "linecolor": "white",
           "ticks": "",
           "title": {
            "standoff": 15
           },
           "zerolinecolor": "white",
           "zerolinewidth": 2
          }
         }
        },
        "title": {
         "text": "Extraversion across rating"
        },
        "xaxis": {
         "anchor": "y",
         "domain": [
          0,
          1
         ],
         "title": {
          "text": "Interface_5"
         }
        },
        "xaxis2": {
         "anchor": "y2",
         "domain": [
          0,
          1
         ],
         "matches": "x",
         "showgrid": true,
         "showticklabels": false
        },
        "yaxis": {
         "anchor": "x",
         "domain": [
          0,
          0.7326
         ],
         "title": {
          "text": "count"
         }
        },
        "yaxis2": {
         "anchor": "x2",
         "domain": [
          0.7426,
          1
         ],
         "matches": "y2",
         "showgrid": false,
         "showline": false,
         "showticklabels": false,
         "ticks": ""
        }
       }
      }
     },
     "metadata": {},
     "output_type": "display_data"
    }
   ],
   "source": [
    "x=data.groupby(['Id']).apply(lambda x: x[x['Extraversion'] > 3 ])\n",
    "fig = px.histogram(x,\n",
    "                x = \"Interface_5\",\n",
    "                nbins = 40,\n",
    "                marginal = \"box\",\n",
    "                color = \"Test_Score\",\n",
    "                title='Extraversion across rating')\n",
    "\n",
    "fig.update_layout(bargap=0.1)\n",
    "fig.show()"
   ]
  },
  {
   "attachments": {},
   "cell_type": "markdown",
   "metadata": {},
   "source": [
    "Design (up,down.side)"
   ]
  },
  {
   "cell_type": "code",
   "execution_count": 175,
   "metadata": {},
   "outputs": [
    {
     "data": {
      "text/plain": [
       "<AxesSubplot:xlabel='Interface_12'>"
      ]
     },
     "execution_count": 175,
     "metadata": {},
     "output_type": "execute_result"
    },
    {
     "data": {
      "image/png": "[encoded data removed]",
      "text/plain": [
       "<Figure size 432x288 with 1 Axes>"
      ]
     },
     "metadata": {
      "needs_background": "light"
     },
     "output_type": "display_data"
    }
   ],
   "source": [
    "personality = 'Test_Score'\n",
    "x.groupby([\"Interface_12\", personality]).size().unstack(level=1).plot(kind='bar')"
   ]
  },
  {
   "cell_type": "code",
   "execution_count": 180,
   "metadata": {},
   "outputs": [
    {
     "data": {
      "text/plain": [
       "<AxesSubplot:xlabel='Interface_13'>"
      ]
     },
     "execution_count": 180,
     "metadata": {},
     "output_type": "execute_result"
    },
    {
     "data": {
      "image/png": "[encoded data removed]",
      "text/plain": [
       "<Figure size 432x288 with 1 Axes>"
      ]
     },
     "metadata": {
      "needs_background": "light"
     },
     "output_type": "display_data"
    }
   ],
   "source": [
    "personality = 'Test_Score'\n",
    "x.groupby([\"Interface_13\", personality]).size().unstack(level=1).plot(kind='bar')\n"
   ]
  },
  {
   "cell_type": "code",
   "execution_count": 177,
   "metadata": {},
   "outputs": [
    {
     "data": {
      "text/plain": [
       "<AxesSubplot:xlabel='Interface_14'>"
      ]
     },
     "execution_count": 177,
     "metadata": {},
     "output_type": "execute_result"
    },
    {
     "data": {
      "image/png": "[encoded data removed]",
      "text/plain": [
       "<Figure size 432x288 with 1 Axes>"
      ]
     },
     "metadata": {
      "needs_background": "light"
     },
     "output_type": "display_data"
    }
   ],
   "source": [
    "personality = 'Test_Score'\n",
    "x.groupby([\"Interface_14\", personality]).size().unstack(level=1).plot(kind='bar')"
   ]
  },
  {
   "cell_type": "code",
   "execution_count": 178,
   "metadata": {},
   "outputs": [
    {
     "data": {
      "text/plain": [
       "<AxesSubplot:xlabel='Interface_15'>"
      ]
     },
     "execution_count": 178,
     "metadata": {},
     "output_type": "execute_result"
    },
    {
     "data": {
      "image/png": "[encoded data removed]",
      "text/plain": [
       "<Figure size 432x288 with 1 Axes>"
      ]
     },
     "metadata": {
      "needs_background": "light"
     },
     "output_type": "display_data"
    }
   ],
   "source": [
    "personality = 'Test_Score'\n",
    "x.groupby([\"Interface_15\", personality]).size().unstack(level=1).plot(kind='bar')"
   ]
  },
  {
   "cell_type": "markdown",
   "metadata": {},
   "source": [
    "# Machine learning "
   ]
  },
  {
   "cell_type": "code",
   "execution_count": 66,
   "metadata": {},
   "outputs": [
    {
     "data": {
      "text/html": [
       "<div>\n",
       "<style scoped>\n",
       "    .dataframe tbody tr th:only-of-type {\n",
       "        vertical-align: middle;\n",
       "    }\n",
       "\n",
       "    .dataframe tbody tr th {\n",
       "        vertical-align: top;\n",
       "    }\n",
       "\n",
       "    .dataframe thead th {\n",
       "        text-align: right;\n",
       "    }\n",
       "</style>\n",
       "<table border=\"1\" class=\"dataframe\">\n",
       "  <thead>\n",
       "    <tr style=\"text-align: right;\">\n",
       "      <th></th>\n",
       "      <th>Id</th>\n",
       "      <th>Age</th>\n",
       "      <th>Openness</th>\n",
       "      <th>Extraversion</th>\n",
       "      <th>Agreeableness</th>\n",
       "      <th>Conscientiousness</th>\n",
       "      <th>Neuroticism</th>\n",
       "      <th>Interface_1</th>\n",
       "      <th>Interface_2</th>\n",
       "      <th>Interface_3</th>\n",
       "      <th>...</th>\n",
       "      <th>Interface_13</th>\n",
       "      <th>Interface_14</th>\n",
       "      <th>Interface_15</th>\n",
       "      <th>Interface_16</th>\n",
       "      <th>Interface_17</th>\n",
       "      <th>Extra_interface_1</th>\n",
       "      <th>Extra_interface_2</th>\n",
       "      <th>Top_1</th>\n",
       "      <th>Top_2</th>\n",
       "      <th>Top_3</th>\n",
       "    </tr>\n",
       "  </thead>\n",
       "  <tbody>\n",
       "    <tr>\n",
       "      <th>0</th>\n",
       "      <td>1</td>\n",
       "      <td>21</td>\n",
       "      <td>3.0</td>\n",
       "      <td>2.0</td>\n",
       "      <td>4.0</td>\n",
       "      <td>5.0</td>\n",
       "      <td>4.0</td>\n",
       "      <td>6.0</td>\n",
       "      <td>6.0</td>\n",
       "      <td>5.0</td>\n",
       "      <td>...</td>\n",
       "      <td>8.0</td>\n",
       "      <td>7.0</td>\n",
       "      <td>7.0</td>\n",
       "      <td>7.0</td>\n",
       "      <td>6.0</td>\n",
       "      <td>7.000000</td>\n",
       "      <td>5.000000</td>\n",
       "      <td>10</td>\n",
       "      <td>7</td>\n",
       "      <td>13</td>\n",
       "    </tr>\n",
       "    <tr>\n",
       "      <th>1</th>\n",
       "      <td>2</td>\n",
       "      <td>21</td>\n",
       "      <td>4.0</td>\n",
       "      <td>5.0</td>\n",
       "      <td>3.0</td>\n",
       "      <td>2.0</td>\n",
       "      <td>1.0</td>\n",
       "      <td>8.0</td>\n",
       "      <td>7.0</td>\n",
       "      <td>7.0</td>\n",
       "      <td>...</td>\n",
       "      <td>9.0</td>\n",
       "      <td>8.0</td>\n",
       "      <td>8.0</td>\n",
       "      <td>7.0</td>\n",
       "      <td>8.0</td>\n",
       "      <td>6.000000</td>\n",
       "      <td>9.000000</td>\n",
       "      <td>6</td>\n",
       "      <td>7</td>\n",
       "      <td>13</td>\n",
       "    </tr>\n",
       "    <tr>\n",
       "      <th>2</th>\n",
       "      <td>3</td>\n",
       "      <td>23</td>\n",
       "      <td>5.0</td>\n",
       "      <td>4.0</td>\n",
       "      <td>3.0</td>\n",
       "      <td>3.0</td>\n",
       "      <td>3.0</td>\n",
       "      <td>9.0</td>\n",
       "      <td>8.5</td>\n",
       "      <td>7.0</td>\n",
       "      <td>...</td>\n",
       "      <td>8.0</td>\n",
       "      <td>5.0</td>\n",
       "      <td>7.0</td>\n",
       "      <td>7.0</td>\n",
       "      <td>9.0</td>\n",
       "      <td>6.000000</td>\n",
       "      <td>7.000000</td>\n",
       "      <td>1</td>\n",
       "      <td>5</td>\n",
       "      <td>7</td>\n",
       "    </tr>\n",
       "    <tr>\n",
       "      <th>3</th>\n",
       "      <td>4</td>\n",
       "      <td>20</td>\n",
       "      <td>4.0</td>\n",
       "      <td>3.0</td>\n",
       "      <td>5.0</td>\n",
       "      <td>5.0</td>\n",
       "      <td>1.0</td>\n",
       "      <td>6.0</td>\n",
       "      <td>5.5</td>\n",
       "      <td>5.0</td>\n",
       "      <td>...</td>\n",
       "      <td>7.5</td>\n",
       "      <td>7.0</td>\n",
       "      <td>7.0</td>\n",
       "      <td>8.0</td>\n",
       "      <td>7.5</td>\n",
       "      <td>6.500000</td>\n",
       "      <td>9.000000</td>\n",
       "      <td>19</td>\n",
       "      <td>16</td>\n",
       "      <td>13</td>\n",
       "    </tr>\n",
       "    <tr>\n",
       "      <th>4</th>\n",
       "      <td>5</td>\n",
       "      <td>19</td>\n",
       "      <td>4.0</td>\n",
       "      <td>2.0</td>\n",
       "      <td>3.0</td>\n",
       "      <td>5.0</td>\n",
       "      <td>5.0</td>\n",
       "      <td>5.0</td>\n",
       "      <td>3.0</td>\n",
       "      <td>4.0</td>\n",
       "      <td>...</td>\n",
       "      <td>8.0</td>\n",
       "      <td>6.0</td>\n",
       "      <td>7.0</td>\n",
       "      <td>6.0</td>\n",
       "      <td>8.0</td>\n",
       "      <td>6.152809</td>\n",
       "      <td>6.114607</td>\n",
       "      <td>7</td>\n",
       "      <td>9</td>\n",
       "      <td>13</td>\n",
       "    </tr>\n",
       "    <tr>\n",
       "      <th>...</th>\n",
       "      <td>...</td>\n",
       "      <td>...</td>\n",
       "      <td>...</td>\n",
       "      <td>...</td>\n",
       "      <td>...</td>\n",
       "      <td>...</td>\n",
       "      <td>...</td>\n",
       "      <td>...</td>\n",
       "      <td>...</td>\n",
       "      <td>...</td>\n",
       "      <td>...</td>\n",
       "      <td>...</td>\n",
       "      <td>...</td>\n",
       "      <td>...</td>\n",
       "      <td>...</td>\n",
       "      <td>...</td>\n",
       "      <td>...</td>\n",
       "      <td>...</td>\n",
       "      <td>...</td>\n",
       "      <td>...</td>\n",
       "      <td>...</td>\n",
       "    </tr>\n",
       "    <tr>\n",
       "      <th>91</th>\n",
       "      <td>92</td>\n",
       "      <td>21</td>\n",
       "      <td>5.0</td>\n",
       "      <td>4.0</td>\n",
       "      <td>4.0</td>\n",
       "      <td>1.0</td>\n",
       "      <td>4.0</td>\n",
       "      <td>6.0</td>\n",
       "      <td>5.0</td>\n",
       "      <td>6.0</td>\n",
       "      <td>...</td>\n",
       "      <td>7.0</td>\n",
       "      <td>2.0</td>\n",
       "      <td>1.0</td>\n",
       "      <td>7.0</td>\n",
       "      <td>6.0</td>\n",
       "      <td>8.000000</td>\n",
       "      <td>7.000000</td>\n",
       "      <td>10</td>\n",
       "      <td>4</td>\n",
       "      <td>7</td>\n",
       "    </tr>\n",
       "    <tr>\n",
       "      <th>92</th>\n",
       "      <td>93</td>\n",
       "      <td>21</td>\n",
       "      <td>5.0</td>\n",
       "      <td>4.0</td>\n",
       "      <td>4.0</td>\n",
       "      <td>1.0</td>\n",
       "      <td>4.0</td>\n",
       "      <td>6.0</td>\n",
       "      <td>5.0</td>\n",
       "      <td>6.0</td>\n",
       "      <td>...</td>\n",
       "      <td>7.0</td>\n",
       "      <td>2.0</td>\n",
       "      <td>1.0</td>\n",
       "      <td>7.0</td>\n",
       "      <td>6.0</td>\n",
       "      <td>8.000000</td>\n",
       "      <td>7.000000</td>\n",
       "      <td>10</td>\n",
       "      <td>4</td>\n",
       "      <td>7</td>\n",
       "    </tr>\n",
       "    <tr>\n",
       "      <th>93</th>\n",
       "      <td>94</td>\n",
       "      <td>23</td>\n",
       "      <td>3.0</td>\n",
       "      <td>3.0</td>\n",
       "      <td>4.0</td>\n",
       "      <td>2.0</td>\n",
       "      <td>3.0</td>\n",
       "      <td>6.0</td>\n",
       "      <td>5.0</td>\n",
       "      <td>4.0</td>\n",
       "      <td>...</td>\n",
       "      <td>7.0</td>\n",
       "      <td>7.0</td>\n",
       "      <td>6.0</td>\n",
       "      <td>8.0</td>\n",
       "      <td>9.0</td>\n",
       "      <td>6.000000</td>\n",
       "      <td>7.000000</td>\n",
       "      <td>10</td>\n",
       "      <td>17</td>\n",
       "      <td>5</td>\n",
       "    </tr>\n",
       "    <tr>\n",
       "      <th>94</th>\n",
       "      <td>95</td>\n",
       "      <td>21</td>\n",
       "      <td>3.0</td>\n",
       "      <td>1.0</td>\n",
       "      <td>3.0</td>\n",
       "      <td>1.0</td>\n",
       "      <td>3.0</td>\n",
       "      <td>4.0</td>\n",
       "      <td>4.0</td>\n",
       "      <td>3.0</td>\n",
       "      <td>...</td>\n",
       "      <td>7.0</td>\n",
       "      <td>5.0</td>\n",
       "      <td>6.0</td>\n",
       "      <td>5.0</td>\n",
       "      <td>8.0</td>\n",
       "      <td>4.000000</td>\n",
       "      <td>4.000000</td>\n",
       "      <td>10</td>\n",
       "      <td>17</td>\n",
       "      <td>7</td>\n",
       "    </tr>\n",
       "    <tr>\n",
       "      <th>95</th>\n",
       "      <td>96</td>\n",
       "      <td>21</td>\n",
       "      <td>3.0</td>\n",
       "      <td>1.0</td>\n",
       "      <td>3.0</td>\n",
       "      <td>1.0</td>\n",
       "      <td>3.0</td>\n",
       "      <td>4.0</td>\n",
       "      <td>4.0</td>\n",
       "      <td>3.0</td>\n",
       "      <td>...</td>\n",
       "      <td>7.0</td>\n",
       "      <td>5.0</td>\n",
       "      <td>6.0</td>\n",
       "      <td>5.0</td>\n",
       "      <td>8.0</td>\n",
       "      <td>4.000000</td>\n",
       "      <td>4.000000</td>\n",
       "      <td>10</td>\n",
       "      <td>17</td>\n",
       "      <td>7</td>\n",
       "    </tr>\n",
       "  </tbody>\n",
       "</table>\n",
       "<p>96 rows × 29 columns</p>\n",
       "</div>"
      ],
      "text/plain": [
       "    Id  Age  Openness  Extraversion  Agreeableness  Conscientiousness  \\\n",
       "0    1   21       3.0           2.0            4.0                5.0   \n",
       "1    2   21       4.0           5.0            3.0                2.0   \n",
       "2    3   23       5.0           4.0            3.0                3.0   \n",
       "3    4   20       4.0           3.0            5.0                5.0   \n",
       "4    5   19       4.0           2.0            3.0                5.0   \n",
       "..  ..  ...       ...           ...            ...                ...   \n",
       "91  92   21       5.0           4.0            4.0                1.0   \n",
       "92  93   21       5.0           4.0            4.0                1.0   \n",
       "93  94   23       3.0           3.0            4.0                2.0   \n",
       "94  95   21       3.0           1.0            3.0                1.0   \n",
       "95  96   21       3.0           1.0            3.0                1.0   \n",
       "\n",
       "    Neuroticism  Interface_1  Interface_2  Interface_3  ...  Interface_13  \\\n",
       "0           4.0          6.0          6.0          5.0  ...           8.0   \n",
       "1           1.0          8.0          7.0          7.0  ...           9.0   \n",
       "2           3.0          9.0          8.5          7.0  ...           8.0   \n",
       "3           1.0          6.0          5.5          5.0  ...           7.5   \n",
       "4           5.0          5.0          3.0          4.0  ...           8.0   \n",
       "..          ...          ...          ...          ...  ...           ...   \n",
       "91          4.0          6.0          5.0          6.0  ...           7.0   \n",
       "92          4.0          6.0          5.0          6.0  ...           7.0   \n",
       "93          3.0          6.0          5.0          4.0  ...           7.0   \n",
       "94          3.0          4.0          4.0          3.0  ...           7.0   \n",
       "95          3.0          4.0          4.0          3.0  ...           7.0   \n",
       "\n",
       "    Interface_14  Interface_15  Interface_16  Interface_17  Extra_interface_1  \\\n",
       "0            7.0           7.0           7.0           6.0           7.000000   \n",
       "1            8.0           8.0           7.0           8.0           6.000000   \n",
       "2            5.0           7.0           7.0           9.0           6.000000   \n",
       "3            7.0           7.0           8.0           7.5           6.500000   \n",
       "4            6.0           7.0           6.0           8.0           6.152809   \n",
       "..           ...           ...           ...           ...                ...   \n",
       "91           2.0           1.0           7.0           6.0           8.000000   \n",
       "92           2.0           1.0           7.0           6.0           8.000000   \n",
       "93           7.0           6.0           8.0           9.0           6.000000   \n",
       "94           5.0           6.0           5.0           8.0           4.000000   \n",
       "95           5.0           6.0           5.0           8.0           4.000000   \n",
       "\n",
       "    Extra_interface_2  Top_1  Top_2  Top_3  \n",
       "0            5.000000     10      7     13  \n",
       "1            9.000000      6      7     13  \n",
       "2            7.000000      1      5      7  \n",
       "3            9.000000     19     16     13  \n",
       "4            6.114607      7      9     13  \n",
       "..                ...    ...    ...    ...  \n",
       "91           7.000000     10      4      7  \n",
       "92           7.000000     10      4      7  \n",
       "93           7.000000     10     17      5  \n",
       "94           4.000000     10     17      7  \n",
       "95           4.000000     10     17      7  \n",
       "\n",
       "[96 rows x 29 columns]"
      ]
     },
     "execution_count": 66,
     "metadata": {},
     "output_type": "execute_result"
    }
   ],
   "source": [
    "y = data['Test_Score']\n",
    "y\n",
    "x = data.drop(['Test_Score','Name','Occupation','Gender','Field'],axis = 1)\n",
    "x\n",
    "\n"
   ]
  },
  {
   "cell_type": "code",
   "execution_count": 67,
   "metadata": {},
   "outputs": [],
   "source": [
    "Y= y.values\n",
    "X=x.values\n",
    "\n",
    "x_train, x_test, y_train, y_test = train_test_split(X, Y, test_size = 0.2,random_state=20)\n"
   ]
  },
  {
   "cell_type": "markdown",
   "metadata": {},
   "source": [
    "Logistic "
   ]
  },
  {
   "cell_type": "code",
   "execution_count": 68,
   "metadata": {},
   "outputs": [],
   "source": [
    "lgr= LogisticRegression(solver=\"liblinear\")\n",
    "\n",
    "model =lgr.fit(x_train,y_train)\n",
    "y_pred_lgr= model.predict(x_test)\n",
    "\n"
   ]
  },
  {
   "cell_type": "code",
   "execution_count": 69,
   "metadata": {},
   "outputs": [
    {
     "data": {
      "text/plain": [
       "20.0"
      ]
     },
     "execution_count": 69,
     "metadata": {},
     "output_type": "execute_result"
    }
   ],
   "source": [
    "accuracy_score(y_test, y_pred_lgr)*100\n"
   ]
  },
  {
   "cell_type": "code",
   "execution_count": 70,
   "metadata": {},
   "outputs": [
    {
     "name": "stdout",
     "output_type": "stream",
     "text": [
      "              precision    recall  f1-score   support\n",
      "\n",
      "           0       0.25      0.25      0.25         4\n",
      "           1       0.00      0.00      0.00         7\n",
      "           2       0.30      0.50      0.37         6\n",
      "           3       0.00      0.00      0.00         3\n",
      "\n",
      "    accuracy                           0.20        20\n",
      "   macro avg       0.14      0.19      0.16        20\n",
      "weighted avg       0.14      0.20      0.16        20\n",
      "\n"
     ]
    }
   ],
   "source": [
    "print(classification_report(y_test, y_pred_lgr))"
   ]
  },
  {
   "cell_type": "markdown",
   "metadata": {},
   "source": [
    "Decision Tree"
   ]
  },
  {
   "cell_type": "code",
   "execution_count": 71,
   "metadata": {},
   "outputs": [],
   "source": [
    "tree=DecisionTreeClassifier()\n",
    "tree_model=tree.fit(x_train, y_train)\n",
    "y_pred_tree=tree_model.predict(x_test)\n",
    "\n"
   ]
  },
  {
   "cell_type": "code",
   "execution_count": 72,
   "metadata": {},
   "outputs": [
    {
     "data": {
      "text/plain": [
       "40.0"
      ]
     },
     "execution_count": 72,
     "metadata": {},
     "output_type": "execute_result"
    }
   ],
   "source": [
    "accuracy_score(y_test, y_pred_tree)*100"
   ]
  },
  {
   "cell_type": "code",
   "execution_count": 73,
   "metadata": {},
   "outputs": [
    {
     "name": "stdout",
     "output_type": "stream",
     "text": [
      "              precision    recall  f1-score   support\n",
      "\n",
      "           0       0.00      0.00      0.00         4\n",
      "           1       0.75      0.43      0.55         7\n",
      "           2       0.50      0.50      0.50         6\n",
      "           3       0.22      0.67      0.33         3\n",
      "\n",
      "    accuracy                           0.40        20\n",
      "   macro avg       0.37      0.40      0.34        20\n",
      "weighted avg       0.45      0.40      0.39        20\n",
      "\n"
     ]
    }
   ],
   "source": [
    "print(classification_report(y_test, y_pred_tree))"
   ]
  },
  {
   "cell_type": "markdown",
   "metadata": {},
   "source": [
    "SVM"
   ]
  },
  {
   "cell_type": "code",
   "execution_count": 74,
   "metadata": {},
   "outputs": [],
   "source": [
    "svc=svm.SVC()\n",
    "model_svc= svc.fit(x_train, y_train)\n",
    "y_pred_svc= model_svc.predict(x_test)\n",
    "\n"
   ]
  },
  {
   "cell_type": "code",
   "execution_count": 75,
   "metadata": {},
   "outputs": [
    {
     "data": {
      "text/plain": [
       "20.0"
      ]
     },
     "execution_count": 75,
     "metadata": {},
     "output_type": "execute_result"
    }
   ],
   "source": [
    "accuracy_score(y_test, y_pred_svc)*100\n"
   ]
  },
  {
   "cell_type": "code",
   "execution_count": 76,
   "metadata": {},
   "outputs": [
    {
     "name": "stdout",
     "output_type": "stream",
     "text": [
      "              precision    recall  f1-score   support\n",
      "\n",
      "           0       0.00      0.00      0.00         4\n",
      "           1       0.00      0.00      0.00         7\n",
      "           2       0.25      0.67      0.36         6\n",
      "           3       0.00      0.00      0.00         3\n",
      "\n",
      "    accuracy                           0.20        20\n",
      "   macro avg       0.06      0.17      0.09        20\n",
      "weighted avg       0.07      0.20      0.11        20\n",
      "\n"
     ]
    },
    {
     "name": "stderr",
     "output_type": "stream",
     "text": [
      "c:\\Users\\HP\\AppData\\Local\\Programs\\Python\\Python310\\lib\\site-packages\\sklearn\\metrics\\_classification.py:1327: UndefinedMetricWarning:\n",
      "\n",
      "Precision and F-score are ill-defined and being set to 0.0 in labels with no predicted samples. Use `zero_division` parameter to control this behavior.\n",
      "\n",
      "c:\\Users\\HP\\AppData\\Local\\Programs\\Python\\Python310\\lib\\site-packages\\sklearn\\metrics\\_classification.py:1327: UndefinedMetricWarning:\n",
      "\n",
      "Precision and F-score are ill-defined and being set to 0.0 in labels with no predicted samples. Use `zero_division` parameter to control this behavior.\n",
      "\n",
      "c:\\Users\\HP\\AppData\\Local\\Programs\\Python\\Python310\\lib\\site-packages\\sklearn\\metrics\\_classification.py:1327: UndefinedMetricWarning:\n",
      "\n",
      "Precision and F-score are ill-defined and being set to 0.0 in labels with no predicted samples. Use `zero_division` parameter to control this behavior.\n",
      "\n"
     ]
    }
   ],
   "source": [
    "print(classification_report(y_test, y_pred_svc))"
   ]
  },
  {
   "cell_type": "markdown",
   "metadata": {},
   "source": [
    "Random forest"
   ]
  },
  {
   "cell_type": "code",
   "execution_count": 77,
   "metadata": {},
   "outputs": [],
   "source": [
    "regressor =RandomForestClassifier()\n",
    "model_rf =regressor.fit(x_train,y_train)\n",
    "y_pred_rf= model.predict(x_test)\n"
   ]
  },
  {
   "cell_type": "code",
   "execution_count": 78,
   "metadata": {},
   "outputs": [
    {
     "data": {
      "text/plain": [
       "20.0"
      ]
     },
     "execution_count": 78,
     "metadata": {},
     "output_type": "execute_result"
    }
   ],
   "source": [
    "accuracy_score(y_test, y_pred_rf)*100\n"
   ]
  },
  {
   "cell_type": "code",
   "execution_count": 79,
   "metadata": {},
   "outputs": [
    {
     "name": "stdout",
     "output_type": "stream",
     "text": [
      "              precision    recall  f1-score   support\n",
      "\n",
      "           0       0.25      0.25      0.25         4\n",
      "           1       0.00      0.00      0.00         7\n",
      "           2       0.30      0.50      0.37         6\n",
      "           3       0.00      0.00      0.00         3\n",
      "\n",
      "    accuracy                           0.20        20\n",
      "   macro avg       0.14      0.19      0.16        20\n",
      "weighted avg       0.14      0.20      0.16        20\n",
      "\n"
     ]
    }
   ],
   "source": [
    "print(classification_report(y_test, y_pred_rf))"
   ]
  },
  {
   "cell_type": "markdown",
   "metadata": {},
   "source": [
    "KNN"
   ]
  },
  {
   "cell_type": "code",
   "execution_count": 80,
   "metadata": {},
   "outputs": [],
   "source": [
    "knn=KNeighborsClassifier()\n",
    "knn_model=knn.fit(x_train, y_train)\n",
    "y_pred_KNN= knn_model.predict(x_test)\n",
    "\n"
   ]
  },
  {
   "cell_type": "code",
   "execution_count": 81,
   "metadata": {},
   "outputs": [
    {
     "data": {
      "text/plain": [
       "20.0"
      ]
     },
     "execution_count": 81,
     "metadata": {},
     "output_type": "execute_result"
    }
   ],
   "source": [
    "accuracy_score(y_test, y_pred_KNN)*100\n"
   ]
  },
  {
   "cell_type": "code",
   "execution_count": 82,
   "metadata": {},
   "outputs": [
    {
     "name": "stdout",
     "output_type": "stream",
     "text": [
      "              precision    recall  f1-score   support\n",
      "\n",
      "           0       0.20      0.25      0.22         4\n",
      "           1       0.20      0.14      0.17         7\n",
      "           2       0.25      0.17      0.20         6\n",
      "           3       0.17      0.33      0.22         3\n",
      "\n",
      "    accuracy                           0.20        20\n",
      "   macro avg       0.20      0.22      0.20        20\n",
      "weighted avg       0.21      0.20      0.20        20\n",
      "\n"
     ]
    }
   ],
   "source": [
    "print(classification_report(y_test, y_pred_KNN))"
   ]
  },
  {
   "cell_type": "markdown",
   "metadata": {},
   "source": [
    "Neural network\n"
   ]
  },
  {
   "cell_type": "code",
   "execution_count": 83,
   "metadata": {},
   "outputs": [
    {
     "name": "stderr",
     "output_type": "stream",
     "text": [
      "c:\\Users\\HP\\AppData\\Local\\Programs\\Python\\Python310\\lib\\site-packages\\sklearn\\neural_network\\_multilayer_perceptron.py:702: ConvergenceWarning:\n",
      "\n",
      "Stochastic Optimizer: Maximum iterations (200) reached and the optimization hasn't converged yet.\n",
      "\n"
     ]
    }
   ],
   "source": [
    "scaler=StandardScaler()\n",
    "scaler.fit(x_train)\n",
    "X_scaled=scaler.transform(x_train)\n",
    "test_scaled=scaler.transform(x_test)\n",
    "mlpc=MLPClassifier().fit(X_scaled, y_train)\n",
    "y_pred_networks=mlpc.predict(test_scaled)\n",
    "\n"
   ]
  },
  {
   "cell_type": "code",
   "execution_count": 84,
   "metadata": {},
   "outputs": [
    {
     "data": {
      "text/plain": [
       "20.0"
      ]
     },
     "execution_count": 84,
     "metadata": {},
     "output_type": "execute_result"
    }
   ],
   "source": [
    "accuracy_score(y_test, y_pred_networks)*100\n"
   ]
  },
  {
   "cell_type": "code",
   "execution_count": 85,
   "metadata": {},
   "outputs": [
    {
     "name": "stdout",
     "output_type": "stream",
     "text": [
      "              precision    recall  f1-score   support\n",
      "\n",
      "           0       0.50      0.50      0.50         4\n",
      "           1       0.00      0.00      0.00         7\n",
      "           2       0.22      0.33      0.27         6\n",
      "           3       0.00      0.00      0.00         3\n",
      "\n",
      "    accuracy                           0.20        20\n",
      "   macro avg       0.18      0.21      0.19        20\n",
      "weighted avg       0.17      0.20      0.18        20\n",
      "\n"
     ]
    }
   ],
   "source": [
    "print(classification_report(y_test, y_pred_networks))"
   ]
  },
  {
   "cell_type": "markdown",
   "metadata": {},
   "source": [
    "# Navias "
   ]
  },
  {
   "cell_type": "code",
   "execution_count": 86,
   "metadata": {},
   "outputs": [],
   "source": [
    "from sklearn.naive_bayes import GaussianNB\n",
    "gnb = GaussianNB()\n",
    "gnb.fit(x_train, y_train)\n",
    "y_pred_nav = gnb.predict(x_test)\n",
    "\n"
   ]
  },
  {
   "cell_type": "code",
   "execution_count": 87,
   "metadata": {},
   "outputs": [
    {
     "data": {
      "text/plain": [
       "10.0"
      ]
     },
     "execution_count": 87,
     "metadata": {},
     "output_type": "execute_result"
    }
   ],
   "source": [
    "accuracy_score(y_test, y_pred_nav)*100\n",
    "\n"
   ]
  },
  {
   "cell_type": "code",
   "execution_count": 88,
   "metadata": {},
   "outputs": [
    {
     "name": "stdout",
     "output_type": "stream",
     "text": [
      "              precision    recall  f1-score   support\n",
      "\n",
      "           0       0.33      0.25      0.29         4\n",
      "           1       0.00      0.00      0.00         7\n",
      "           2       0.17      0.17      0.17         6\n",
      "           3       0.00      0.00      0.00         3\n",
      "\n",
      "    accuracy                           0.10        20\n",
      "   macro avg       0.12      0.10      0.11        20\n",
      "weighted avg       0.12      0.10      0.11        20\n",
      "\n"
     ]
    }
   ],
   "source": [
    "print(classification_report(y_test, y_pred_nav))"
   ]
  },
  {
   "cell_type": "code",
   "execution_count": 89,
   "metadata": {},
   "outputs": [
    {
     "name": "stdout",
     "output_type": "stream",
     "text": [
      "25.0\n",
      "15.0\n",
      "20.0\n"
     ]
    }
   ],
   "source": [
    "from sklearn.ensemble import AdaBoostClassifier\n",
    "from sklearn.tree import ExtraTreeClassifier\n",
    "from xgboost import XGBClassifier\n",
    "\n",
    "# x_train, x_test, y_train, y_test = train_test_split(X, Y, test_size = 0.3)\n",
    "\n",
    "ext =ExtraTreeClassifier()\n",
    "ext.fit(x_train, y_train)\n",
    "y_pred_ex = ext.predict(x_test)\n",
    "print (accuracy_score(y_test, y_pred_ex)*100)\n",
    "\n",
    "ada=AdaBoostClassifier()\n",
    "ada.fit(x_train, y_train)\n",
    "y_pred_ada= ada.predict(x_test)\n",
    "print (accuracy_score(y_test, y_pred_ada)*100)\n",
    "\n",
    "xbg= XGBClassifier()\n",
    "xbg.fit(x_train, y_train)\n",
    "y_pred_gb = xbg.predict(x_test)\n",
    "print (accuracy_score(y_test, y_pred_gb)*100)\n",
    "\n"
   ]
  },
  {
   "cell_type": "code",
   "execution_count": 90,
   "metadata": {},
   "outputs": [
    {
     "name": "stdout",
     "output_type": "stream",
     "text": [
      "The accuracy was 25.00%\n"
     ]
    }
   ],
   "source": [
    "from sklearn.naive_bayes import MultinomialNB\n",
    "\n",
    "\n",
    "model = MultinomialNB()\n",
    "\n",
    "model.fit(x_train, y_train)\n",
    "predictions = model.predict(x_test)\n",
    "accuracy = accuracy_score(y_test, predictions) * 100\n",
    "print(\"The accuracy was %.2f%%\" % accuracy)"
   ]
  },
  {
   "cell_type": "code",
   "execution_count": 91,
   "metadata": {},
   "outputs": [
    {
     "data": {
      "text/html": [
       "<div>\n",
       "<style scoped>\n",
       "    .dataframe tbody tr th:only-of-type {\n",
       "        vertical-align: middle;\n",
       "    }\n",
       "\n",
       "    .dataframe tbody tr th {\n",
       "        vertical-align: top;\n",
       "    }\n",
       "\n",
       "    .dataframe thead th {\n",
       "        text-align: right;\n",
       "    }\n",
       "</style>\n",
       "<table border=\"1\" class=\"dataframe\">\n",
       "  <thead>\n",
       "    <tr style=\"text-align: right;\">\n",
       "      <th></th>\n",
       "      <th>Id</th>\n",
       "      <th>Name</th>\n",
       "      <th>Gender</th>\n",
       "      <th>Field</th>\n",
       "      <th>Occupation</th>\n",
       "      <th>Age</th>\n",
       "      <th>Interface_1</th>\n",
       "      <th>Interface_2</th>\n",
       "      <th>Interface_3</th>\n",
       "      <th>Interface_4</th>\n",
       "      <th>...</th>\n",
       "      <th>Interface_14</th>\n",
       "      <th>Interface_15</th>\n",
       "      <th>Interface_16</th>\n",
       "      <th>Interface_17</th>\n",
       "      <th>Extra_interface_1</th>\n",
       "      <th>Extra_interface_2</th>\n",
       "      <th>Test_Score</th>\n",
       "      <th>Top_1</th>\n",
       "      <th>Top_2</th>\n",
       "      <th>Top_3</th>\n",
       "    </tr>\n",
       "  </thead>\n",
       "  <tbody>\n",
       "    <tr>\n",
       "      <th>0</th>\n",
       "      <td>1</td>\n",
       "      <td>Nouran khaled</td>\n",
       "      <td>Female</td>\n",
       "      <td>CS</td>\n",
       "      <td>Senior Student</td>\n",
       "      <td>21</td>\n",
       "      <td>6.0</td>\n",
       "      <td>6.0</td>\n",
       "      <td>5.0</td>\n",
       "      <td>5.0</td>\n",
       "      <td>...</td>\n",
       "      <td>7.0</td>\n",
       "      <td>7.0</td>\n",
       "      <td>7.0</td>\n",
       "      <td>6.0</td>\n",
       "      <td>7.000000</td>\n",
       "      <td>5.000000</td>\n",
       "      <td>0</td>\n",
       "      <td>10</td>\n",
       "      <td>7</td>\n",
       "      <td>13</td>\n",
       "    </tr>\n",
       "    <tr>\n",
       "      <th>1</th>\n",
       "      <td>2</td>\n",
       "      <td>Tasneem Mohamed</td>\n",
       "      <td>Female</td>\n",
       "      <td>CS</td>\n",
       "      <td>Senior Student</td>\n",
       "      <td>21</td>\n",
       "      <td>8.0</td>\n",
       "      <td>7.0</td>\n",
       "      <td>7.0</td>\n",
       "      <td>6.0</td>\n",
       "      <td>...</td>\n",
       "      <td>8.0</td>\n",
       "      <td>8.0</td>\n",
       "      <td>7.0</td>\n",
       "      <td>8.0</td>\n",
       "      <td>6.000000</td>\n",
       "      <td>9.000000</td>\n",
       "      <td>1</td>\n",
       "      <td>6</td>\n",
       "      <td>7</td>\n",
       "      <td>13</td>\n",
       "    </tr>\n",
       "    <tr>\n",
       "      <th>2</th>\n",
       "      <td>3</td>\n",
       "      <td>Omaima Ahmed</td>\n",
       "      <td>Female</td>\n",
       "      <td>CS</td>\n",
       "      <td>Senior Student</td>\n",
       "      <td>23</td>\n",
       "      <td>9.0</td>\n",
       "      <td>8.5</td>\n",
       "      <td>7.0</td>\n",
       "      <td>6.0</td>\n",
       "      <td>...</td>\n",
       "      <td>5.0</td>\n",
       "      <td>7.0</td>\n",
       "      <td>7.0</td>\n",
       "      <td>9.0</td>\n",
       "      <td>6.000000</td>\n",
       "      <td>7.000000</td>\n",
       "      <td>0</td>\n",
       "      <td>1</td>\n",
       "      <td>5</td>\n",
       "      <td>7</td>\n",
       "    </tr>\n",
       "    <tr>\n",
       "      <th>3</th>\n",
       "      <td>4</td>\n",
       "      <td>Maryam Walid</td>\n",
       "      <td>Female</td>\n",
       "      <td>CS</td>\n",
       "      <td>Student</td>\n",
       "      <td>20</td>\n",
       "      <td>6.0</td>\n",
       "      <td>5.5</td>\n",
       "      <td>5.0</td>\n",
       "      <td>6.0</td>\n",
       "      <td>...</td>\n",
       "      <td>7.0</td>\n",
       "      <td>7.0</td>\n",
       "      <td>8.0</td>\n",
       "      <td>7.5</td>\n",
       "      <td>6.500000</td>\n",
       "      <td>9.000000</td>\n",
       "      <td>1</td>\n",
       "      <td>19</td>\n",
       "      <td>16</td>\n",
       "      <td>13</td>\n",
       "    </tr>\n",
       "    <tr>\n",
       "      <th>4</th>\n",
       "      <td>5</td>\n",
       "      <td>Yehia Sameh</td>\n",
       "      <td>Male</td>\n",
       "      <td>CS</td>\n",
       "      <td>Student</td>\n",
       "      <td>19</td>\n",
       "      <td>5.0</td>\n",
       "      <td>3.0</td>\n",
       "      <td>4.0</td>\n",
       "      <td>4.0</td>\n",
       "      <td>...</td>\n",
       "      <td>6.0</td>\n",
       "      <td>7.0</td>\n",
       "      <td>6.0</td>\n",
       "      <td>8.0</td>\n",
       "      <td>6.152809</td>\n",
       "      <td>6.114607</td>\n",
       "      <td>0</td>\n",
       "      <td>7</td>\n",
       "      <td>9</td>\n",
       "      <td>13</td>\n",
       "    </tr>\n",
       "  </tbody>\n",
       "</table>\n",
       "<p>5 rows × 29 columns</p>\n",
       "</div>"
      ],
      "text/plain": [
       "   Id             Name  Gender Field      Occupation  Age  Interface_1  \\\n",
       "0   1    Nouran khaled  Female    CS  Senior Student   21          6.0   \n",
       "1   2  Tasneem Mohamed  Female    CS  Senior Student   21          8.0   \n",
       "2   3     Omaima Ahmed  Female    CS  Senior Student   23          9.0   \n",
       "3   4     Maryam Walid  Female    CS         Student   20          6.0   \n",
       "4   5      Yehia Sameh    Male    CS         Student   19          5.0   \n",
       "\n",
       "   Interface_2  Interface_3  Interface_4  ...  Interface_14  Interface_15  \\\n",
       "0          6.0          5.0          5.0  ...           7.0           7.0   \n",
       "1          7.0          7.0          6.0  ...           8.0           8.0   \n",
       "2          8.5          7.0          6.0  ...           5.0           7.0   \n",
       "3          5.5          5.0          6.0  ...           7.0           7.0   \n",
       "4          3.0          4.0          4.0  ...           6.0           7.0   \n",
       "\n",
       "   Interface_16  Interface_17  Extra_interface_1  Extra_interface_2  \\\n",
       "0           7.0           6.0           7.000000           5.000000   \n",
       "1           7.0           8.0           6.000000           9.000000   \n",
       "2           7.0           9.0           6.000000           7.000000   \n",
       "3           8.0           7.5           6.500000           9.000000   \n",
       "4           6.0           8.0           6.152809           6.114607   \n",
       "\n",
       "   Test_Score  Top_1  Top_2  Top_3  \n",
       "0           0     10      7     13  \n",
       "1           1      6      7     13  \n",
       "2           0      1      5      7  \n",
       "3           1     19     16     13  \n",
       "4           0      7      9     13  \n",
       "\n",
       "[5 rows x 29 columns]"
      ]
     },
     "execution_count": 91,
     "metadata": {},
     "output_type": "execute_result"
    }
   ],
   "source": [
    "data_spl= data.drop(['Openness','Extraversion','Agreeableness','Conscientiousness','Neuroticism'],axis = 1)\n",
    "data_spl.head(5)"
   ]
  },
  {
   "cell_type": "code",
   "execution_count": 92,
   "metadata": {},
   "outputs": [],
   "source": [
    "\n",
    "y = data_spl['Test_Score']\n",
    "y\n",
    "x = data_spl.drop(['Test_Score','Name','Occupation','Field','Gender'],axis = 1)\n",
    "\n"
   ]
  },
  {
   "cell_type": "code",
   "execution_count": 93,
   "metadata": {},
   "outputs": [],
   "source": [
    "Y= y.values\n",
    "X=x.values\n",
    "\n",
    "x_train, x_test, y_train, y_test = train_test_split(X, Y, test_size = 0.2,random_state=30)"
   ]
  },
  {
   "cell_type": "code",
   "execution_count": 94,
   "metadata": {},
   "outputs": [],
   "source": [
    "lgr= LogisticRegression(solver=\"liblinear\")\n",
    "\n",
    "model =lgr.fit(x_train,y_train)\n",
    "y_pred_lgr= model.predict(x_test)\n"
   ]
  },
  {
   "cell_type": "code",
   "execution_count": 95,
   "metadata": {},
   "outputs": [
    {
     "data": {
      "text/plain": [
       "20.0"
      ]
     },
     "execution_count": 95,
     "metadata": {},
     "output_type": "execute_result"
    }
   ],
   "source": [
    "accuracy_score(y_test, y_pred_lgr)*100"
   ]
  },
  {
   "cell_type": "code",
   "execution_count": 96,
   "metadata": {},
   "outputs": [],
   "source": [
    "tree=DecisionTreeClassifier()\n",
    "tree_model=tree.fit(x_train, y_train)\n",
    "y_pred_tree=tree_model.predict(x_test)\n"
   ]
  },
  {
   "cell_type": "code",
   "execution_count": 97,
   "metadata": {},
   "outputs": [
    {
     "data": {
      "text/plain": [
       "30.0"
      ]
     },
     "execution_count": 97,
     "metadata": {},
     "output_type": "execute_result"
    }
   ],
   "source": [
    "accuracy_score(y_test, y_pred_tree)*100"
   ]
  },
  {
   "cell_type": "code",
   "execution_count": 98,
   "metadata": {},
   "outputs": [
    {
     "data": {
      "text/plain": [
       "20.0"
      ]
     },
     "execution_count": 98,
     "metadata": {},
     "output_type": "execute_result"
    }
   ],
   "source": [
    "svc=svm.SVC()\n",
    "model_svc= svc.fit(x_train, y_train)\n",
    "y_pred_svc= model_svc.predict(x_test)\n",
    "accuracy_score(y_test, y_pred_svc)*100"
   ]
  },
  {
   "cell_type": "code",
   "execution_count": 99,
   "metadata": {},
   "outputs": [
    {
     "data": {
      "text/plain": [
       "20.0"
      ]
     },
     "execution_count": 99,
     "metadata": {},
     "output_type": "execute_result"
    }
   ],
   "source": [
    "knn=KNeighborsClassifier()\n",
    "knn_model=knn.fit(x_train, y_train)\n",
    "y_pred_KNN= knn_model.predict(x_test)\n",
    "\n",
    "accuracy_score(y_test, y_pred_KNN)*100"
   ]
  },
  {
   "cell_type": "code",
   "execution_count": 100,
   "metadata": {},
   "outputs": [
    {
     "name": "stdout",
     "output_type": "stream",
     "text": [
      "35.0\n",
      "15.0\n",
      "15.0\n"
     ]
    }
   ],
   "source": [
    "ext =ExtraTreeClassifier()\n",
    "ext.fit(x_train, y_train)\n",
    "y_pred_ex = ext.predict(x_test)\n",
    "print (accuracy_score(y_test, y_pred_ex)*100)\n",
    "\n",
    "ada=AdaBoostClassifier()\n",
    "ada.fit(x_train, y_train)\n",
    "y_pred_ada= ada.predict(x_test)\n",
    "print (accuracy_score(y_test, y_pred_ada)*100)\n",
    "\n",
    "xbg=XGBClassifier()\n",
    "xbg.fit(x_train, y_train)\n",
    "y_pred_gb = xbg.predict(x_test)\n",
    "print (accuracy_score(y_test, y_pred_gb)*100)\n"
   ]
  },
  {
   "cell_type": "code",
   "execution_count": 101,
   "metadata": {},
   "outputs": [
    {
     "name": "stdout",
     "output_type": "stream",
     "text": [
      "20.0\n"
     ]
    }
   ],
   "source": [
    "regressor =RandomForestClassifier()\n",
    "model_rf =regressor.fit(x_train,y_train)\n",
    "y_pred_rf= model.predict(x_test)\n",
    "print (accuracy_score(y_test, y_pred_rf)*100)\n"
   ]
  },
  {
   "cell_type": "code",
   "execution_count": 102,
   "metadata": {},
   "outputs": [
    {
     "name": "stderr",
     "output_type": "stream",
     "text": [
      "c:\\Users\\HP\\AppData\\Local\\Programs\\Python\\Python310\\lib\\site-packages\\sklearn\\neural_network\\_multilayer_perceptron.py:702: ConvergenceWarning:\n",
      "\n",
      "Stochastic Optimizer: Maximum iterations (200) reached and the optimization hasn't converged yet.\n",
      "\n"
     ]
    },
    {
     "data": {
      "text/plain": [
       "15.0"
      ]
     },
     "execution_count": 102,
     "metadata": {},
     "output_type": "execute_result"
    }
   ],
   "source": [
    "scaler=StandardScaler()\n",
    "scaler.fit(x_train)\n",
    "X_scaled=scaler.transform(x_train)\n",
    "test_scaled=scaler.transform(x_test)\n",
    "mlpc=MLPClassifier().fit(X_scaled, y_train)\n",
    "y_pred_networks=mlpc.predict(test_scaled)\n",
    "accuracy_score(y_test, y_pred_networks)*100\n"
   ]
  },
  {
   "cell_type": "code",
   "execution_count": 103,
   "metadata": {},
   "outputs": [
    {
     "data": {
      "text/plain": [
       "15.0"
      ]
     },
     "execution_count": 103,
     "metadata": {},
     "output_type": "execute_result"
    }
   ],
   "source": [
    "from sklearn.naive_bayes import GaussianNB\n",
    "gnb = GaussianNB()\n",
    "gnb.fit(x_train, y_train)\n",
    "y_pred_nav = gnb.predict(x_test)\n",
    "accuracy_score(y_test, y_pred_nav)*100\n"
   ]
  },
  {
   "cell_type": "code",
   "execution_count": 104,
   "metadata": {},
   "outputs": [
    {
     "name": "stdout",
     "output_type": "stream",
     "text": [
      "The accuracy was 15.00%\n"
     ]
    }
   ],
   "source": [
    "from sklearn.naive_bayes import MultinomialNB\n",
    "\n",
    "\n",
    "model = MultinomialNB()\n",
    "\n",
    "model.fit(x_train, y_train)\n",
    "predictions = model.predict(x_test)\n",
    "accuracy = accuracy_score(y_test, predictions) * 100\n",
    "print(\"The accuracy was %.2f%%\" % accuracy)"
   ]
  },
  {
   "cell_type": "code",
   "execution_count": 105,
   "metadata": {},
   "outputs": [
    {
     "data": {
      "text/html": [
       "<div>\n",
       "<style scoped>\n",
       "    .dataframe tbody tr th:only-of-type {\n",
       "        vertical-align: middle;\n",
       "    }\n",
       "\n",
       "    .dataframe tbody tr th {\n",
       "        vertical-align: top;\n",
       "    }\n",
       "\n",
       "    .dataframe thead th {\n",
       "        text-align: right;\n",
       "    }\n",
       "</style>\n",
       "<table border=\"1\" class=\"dataframe\">\n",
       "  <thead>\n",
       "    <tr style=\"text-align: right;\">\n",
       "      <th></th>\n",
       "      <th>Id</th>\n",
       "      <th>Name</th>\n",
       "      <th>Gender</th>\n",
       "      <th>Field</th>\n",
       "      <th>Occupation</th>\n",
       "      <th>Age</th>\n",
       "      <th>Openness</th>\n",
       "      <th>Extraversion</th>\n",
       "      <th>Agreeableness</th>\n",
       "      <th>Conscientiousness</th>\n",
       "      <th>Neuroticism</th>\n",
       "      <th>Test_Score</th>\n",
       "      <th>Top_1</th>\n",
       "      <th>Top_2</th>\n",
       "      <th>Top_3</th>\n",
       "    </tr>\n",
       "  </thead>\n",
       "  <tbody>\n",
       "    <tr>\n",
       "      <th>0</th>\n",
       "      <td>1</td>\n",
       "      <td>Nouran khaled</td>\n",
       "      <td>Female</td>\n",
       "      <td>CS</td>\n",
       "      <td>Senior Student</td>\n",
       "      <td>21</td>\n",
       "      <td>3.0</td>\n",
       "      <td>2.0</td>\n",
       "      <td>4.0</td>\n",
       "      <td>5.0</td>\n",
       "      <td>4.0</td>\n",
       "      <td>0</td>\n",
       "      <td>10</td>\n",
       "      <td>7</td>\n",
       "      <td>13</td>\n",
       "    </tr>\n",
       "    <tr>\n",
       "      <th>1</th>\n",
       "      <td>2</td>\n",
       "      <td>Tasneem Mohamed</td>\n",
       "      <td>Female</td>\n",
       "      <td>CS</td>\n",
       "      <td>Senior Student</td>\n",
       "      <td>21</td>\n",
       "      <td>4.0</td>\n",
       "      <td>5.0</td>\n",
       "      <td>3.0</td>\n",
       "      <td>2.0</td>\n",
       "      <td>1.0</td>\n",
       "      <td>1</td>\n",
       "      <td>6</td>\n",
       "      <td>7</td>\n",
       "      <td>13</td>\n",
       "    </tr>\n",
       "    <tr>\n",
       "      <th>2</th>\n",
       "      <td>3</td>\n",
       "      <td>Omaima Ahmed</td>\n",
       "      <td>Female</td>\n",
       "      <td>CS</td>\n",
       "      <td>Senior Student</td>\n",
       "      <td>23</td>\n",
       "      <td>5.0</td>\n",
       "      <td>4.0</td>\n",
       "      <td>3.0</td>\n",
       "      <td>3.0</td>\n",
       "      <td>3.0</td>\n",
       "      <td>0</td>\n",
       "      <td>1</td>\n",
       "      <td>5</td>\n",
       "      <td>7</td>\n",
       "    </tr>\n",
       "    <tr>\n",
       "      <th>3</th>\n",
       "      <td>4</td>\n",
       "      <td>Maryam Walid</td>\n",
       "      <td>Female</td>\n",
       "      <td>CS</td>\n",
       "      <td>Student</td>\n",
       "      <td>20</td>\n",
       "      <td>4.0</td>\n",
       "      <td>3.0</td>\n",
       "      <td>5.0</td>\n",
       "      <td>5.0</td>\n",
       "      <td>1.0</td>\n",
       "      <td>1</td>\n",
       "      <td>19</td>\n",
       "      <td>16</td>\n",
       "      <td>13</td>\n",
       "    </tr>\n",
       "    <tr>\n",
       "      <th>4</th>\n",
       "      <td>5</td>\n",
       "      <td>Yehia Sameh</td>\n",
       "      <td>Male</td>\n",
       "      <td>CS</td>\n",
       "      <td>Student</td>\n",
       "      <td>19</td>\n",
       "      <td>4.0</td>\n",
       "      <td>2.0</td>\n",
       "      <td>3.0</td>\n",
       "      <td>5.0</td>\n",
       "      <td>5.0</td>\n",
       "      <td>0</td>\n",
       "      <td>7</td>\n",
       "      <td>9</td>\n",
       "      <td>13</td>\n",
       "    </tr>\n",
       "    <tr>\n",
       "      <th>...</th>\n",
       "      <td>...</td>\n",
       "      <td>...</td>\n",
       "      <td>...</td>\n",
       "      <td>...</td>\n",
       "      <td>...</td>\n",
       "      <td>...</td>\n",
       "      <td>...</td>\n",
       "      <td>...</td>\n",
       "      <td>...</td>\n",
       "      <td>...</td>\n",
       "      <td>...</td>\n",
       "      <td>...</td>\n",
       "      <td>...</td>\n",
       "      <td>...</td>\n",
       "      <td>...</td>\n",
       "    </tr>\n",
       "    <tr>\n",
       "      <th>91</th>\n",
       "      <td>92</td>\n",
       "      <td>Yehia Abdallah</td>\n",
       "      <td>Male</td>\n",
       "      <td>Automatic Engineering</td>\n",
       "      <td>Senior Student</td>\n",
       "      <td>21</td>\n",
       "      <td>5.0</td>\n",
       "      <td>4.0</td>\n",
       "      <td>4.0</td>\n",
       "      <td>1.0</td>\n",
       "      <td>4.0</td>\n",
       "      <td>2</td>\n",
       "      <td>10</td>\n",
       "      <td>4</td>\n",
       "      <td>7</td>\n",
       "    </tr>\n",
       "    <tr>\n",
       "      <th>92</th>\n",
       "      <td>93</td>\n",
       "      <td>Yehia Abdallah</td>\n",
       "      <td>Male</td>\n",
       "      <td>Automatic Engineering</td>\n",
       "      <td>Senior Student</td>\n",
       "      <td>21</td>\n",
       "      <td>5.0</td>\n",
       "      <td>4.0</td>\n",
       "      <td>4.0</td>\n",
       "      <td>1.0</td>\n",
       "      <td>4.0</td>\n",
       "      <td>0</td>\n",
       "      <td>10</td>\n",
       "      <td>4</td>\n",
       "      <td>7</td>\n",
       "    </tr>\n",
       "    <tr>\n",
       "      <th>93</th>\n",
       "      <td>94</td>\n",
       "      <td>Khaled Khatteb</td>\n",
       "      <td>Male</td>\n",
       "      <td>Business</td>\n",
       "      <td>Software developer</td>\n",
       "      <td>23</td>\n",
       "      <td>3.0</td>\n",
       "      <td>3.0</td>\n",
       "      <td>4.0</td>\n",
       "      <td>2.0</td>\n",
       "      <td>3.0</td>\n",
       "      <td>2</td>\n",
       "      <td>10</td>\n",
       "      <td>17</td>\n",
       "      <td>5</td>\n",
       "    </tr>\n",
       "    <tr>\n",
       "      <th>94</th>\n",
       "      <td>95</td>\n",
       "      <td>Mohamed Elbaz</td>\n",
       "      <td>Male</td>\n",
       "      <td>CS</td>\n",
       "      <td>Senior Student</td>\n",
       "      <td>21</td>\n",
       "      <td>3.0</td>\n",
       "      <td>1.0</td>\n",
       "      <td>3.0</td>\n",
       "      <td>1.0</td>\n",
       "      <td>3.0</td>\n",
       "      <td>2</td>\n",
       "      <td>10</td>\n",
       "      <td>17</td>\n",
       "      <td>7</td>\n",
       "    </tr>\n",
       "    <tr>\n",
       "      <th>95</th>\n",
       "      <td>96</td>\n",
       "      <td>Mohamed Elbaz</td>\n",
       "      <td>Male</td>\n",
       "      <td>CS</td>\n",
       "      <td>Senior Student</td>\n",
       "      <td>21</td>\n",
       "      <td>3.0</td>\n",
       "      <td>1.0</td>\n",
       "      <td>3.0</td>\n",
       "      <td>1.0</td>\n",
       "      <td>3.0</td>\n",
       "      <td>0</td>\n",
       "      <td>10</td>\n",
       "      <td>17</td>\n",
       "      <td>7</td>\n",
       "    </tr>\n",
       "  </tbody>\n",
       "</table>\n",
       "<p>96 rows × 15 columns</p>\n",
       "</div>"
      ],
      "text/plain": [
       "    Id             Name  Gender                  Field          Occupation  \\\n",
       "0    1    Nouran khaled  Female                     CS      Senior Student   \n",
       "1    2  Tasneem Mohamed  Female                     CS      Senior Student   \n",
       "2    3     Omaima Ahmed  Female                     CS      Senior Student   \n",
       "3    4     Maryam Walid  Female                     CS             Student   \n",
       "4    5      Yehia Sameh    Male                     CS             Student   \n",
       "..  ..              ...     ...                    ...                 ...   \n",
       "91  92   Yehia Abdallah    Male  Automatic Engineering      Senior Student   \n",
       "92  93   Yehia Abdallah    Male  Automatic Engineering      Senior Student   \n",
       "93  94   Khaled Khatteb    Male               Business  Software developer   \n",
       "94  95    Mohamed Elbaz    Male                     CS      Senior Student   \n",
       "95  96    Mohamed Elbaz    Male                     CS      Senior Student   \n",
       "\n",
       "    Age  Openness  Extraversion  Agreeableness  Conscientiousness  \\\n",
       "0    21       3.0           2.0            4.0                5.0   \n",
       "1    21       4.0           5.0            3.0                2.0   \n",
       "2    23       5.0           4.0            3.0                3.0   \n",
       "3    20       4.0           3.0            5.0                5.0   \n",
       "4    19       4.0           2.0            3.0                5.0   \n",
       "..  ...       ...           ...            ...                ...   \n",
       "91   21       5.0           4.0            4.0                1.0   \n",
       "92   21       5.0           4.0            4.0                1.0   \n",
       "93   23       3.0           3.0            4.0                2.0   \n",
       "94   21       3.0           1.0            3.0                1.0   \n",
       "95   21       3.0           1.0            3.0                1.0   \n",
       "\n",
       "    Neuroticism  Test_Score  Top_1  Top_2  Top_3  \n",
       "0           4.0           0     10      7     13  \n",
       "1           1.0           1      6      7     13  \n",
       "2           3.0           0      1      5      7  \n",
       "3           1.0           1     19     16     13  \n",
       "4           5.0           0      7      9     13  \n",
       "..          ...         ...    ...    ...    ...  \n",
       "91          4.0           2     10      4      7  \n",
       "92          4.0           0     10      4      7  \n",
       "93          3.0           2     10     17      5  \n",
       "94          3.0           2     10     17      7  \n",
       "95          3.0           0     10     17      7  \n",
       "\n",
       "[96 rows x 15 columns]"
      ]
     },
     "execution_count": 105,
     "metadata": {},
     "output_type": "execute_result"
    }
   ],
   "source": [
    "data_spl2= data.drop(['Interface_1','Interface_2','Interface_3','Interface_4','Interface_5','Interface_6','Interface_7','Interface_8','Interface_9','Interface_10','Interface_11', 'Interface_12','Interface_13','Interface_14','Interface_15','Interface_16','Interface_17','Extra_interface_1','Extra_interface_2'],axis = 1)\n",
    "data_spl2"
   ]
  },
  {
   "cell_type": "code",
   "execution_count": 106,
   "metadata": {},
   "outputs": [
    {
     "data": {
      "text/html": [
       "<div>\n",
       "<style scoped>\n",
       "    .dataframe tbody tr th:only-of-type {\n",
       "        vertical-align: middle;\n",
       "    }\n",
       "\n",
       "    .dataframe tbody tr th {\n",
       "        vertical-align: top;\n",
       "    }\n",
       "\n",
       "    .dataframe thead th {\n",
       "        text-align: right;\n",
       "    }\n",
       "</style>\n",
       "<table border=\"1\" class=\"dataframe\">\n",
       "  <thead>\n",
       "    <tr style=\"text-align: right;\">\n",
       "      <th></th>\n",
       "      <th>Id</th>\n",
       "      <th>Age</th>\n",
       "      <th>Openness</th>\n",
       "      <th>Extraversion</th>\n",
       "      <th>Agreeableness</th>\n",
       "      <th>Conscientiousness</th>\n",
       "      <th>Neuroticism</th>\n",
       "      <th>Top_1</th>\n",
       "      <th>Top_2</th>\n",
       "      <th>Top_3</th>\n",
       "    </tr>\n",
       "  </thead>\n",
       "  <tbody>\n",
       "    <tr>\n",
       "      <th>0</th>\n",
       "      <td>1</td>\n",
       "      <td>21</td>\n",
       "      <td>3.0</td>\n",
       "      <td>2.0</td>\n",
       "      <td>4.0</td>\n",
       "      <td>5.0</td>\n",
       "      <td>4.0</td>\n",
       "      <td>10</td>\n",
       "      <td>7</td>\n",
       "      <td>13</td>\n",
       "    </tr>\n",
       "    <tr>\n",
       "      <th>1</th>\n",
       "      <td>2</td>\n",
       "      <td>21</td>\n",
       "      <td>4.0</td>\n",
       "      <td>5.0</td>\n",
       "      <td>3.0</td>\n",
       "      <td>2.0</td>\n",
       "      <td>1.0</td>\n",
       "      <td>6</td>\n",
       "      <td>7</td>\n",
       "      <td>13</td>\n",
       "    </tr>\n",
       "    <tr>\n",
       "      <th>2</th>\n",
       "      <td>3</td>\n",
       "      <td>23</td>\n",
       "      <td>5.0</td>\n",
       "      <td>4.0</td>\n",
       "      <td>3.0</td>\n",
       "      <td>3.0</td>\n",
       "      <td>3.0</td>\n",
       "      <td>1</td>\n",
       "      <td>5</td>\n",
       "      <td>7</td>\n",
       "    </tr>\n",
       "    <tr>\n",
       "      <th>3</th>\n",
       "      <td>4</td>\n",
       "      <td>20</td>\n",
       "      <td>4.0</td>\n",
       "      <td>3.0</td>\n",
       "      <td>5.0</td>\n",
       "      <td>5.0</td>\n",
       "      <td>1.0</td>\n",
       "      <td>19</td>\n",
       "      <td>16</td>\n",
       "      <td>13</td>\n",
       "    </tr>\n",
       "    <tr>\n",
       "      <th>4</th>\n",
       "      <td>5</td>\n",
       "      <td>19</td>\n",
       "      <td>4.0</td>\n",
       "      <td>2.0</td>\n",
       "      <td>3.0</td>\n",
       "      <td>5.0</td>\n",
       "      <td>5.0</td>\n",
       "      <td>7</td>\n",
       "      <td>9</td>\n",
       "      <td>13</td>\n",
       "    </tr>\n",
       "    <tr>\n",
       "      <th>...</th>\n",
       "      <td>...</td>\n",
       "      <td>...</td>\n",
       "      <td>...</td>\n",
       "      <td>...</td>\n",
       "      <td>...</td>\n",
       "      <td>...</td>\n",
       "      <td>...</td>\n",
       "      <td>...</td>\n",
       "      <td>...</td>\n",
       "      <td>...</td>\n",
       "    </tr>\n",
       "    <tr>\n",
       "      <th>91</th>\n",
       "      <td>92</td>\n",
       "      <td>21</td>\n",
       "      <td>5.0</td>\n",
       "      <td>4.0</td>\n",
       "      <td>4.0</td>\n",
       "      <td>1.0</td>\n",
       "      <td>4.0</td>\n",
       "      <td>10</td>\n",
       "      <td>4</td>\n",
       "      <td>7</td>\n",
       "    </tr>\n",
       "    <tr>\n",
       "      <th>92</th>\n",
       "      <td>93</td>\n",
       "      <td>21</td>\n",
       "      <td>5.0</td>\n",
       "      <td>4.0</td>\n",
       "      <td>4.0</td>\n",
       "      <td>1.0</td>\n",
       "      <td>4.0</td>\n",
       "      <td>10</td>\n",
       "      <td>4</td>\n",
       "      <td>7</td>\n",
       "    </tr>\n",
       "    <tr>\n",
       "      <th>93</th>\n",
       "      <td>94</td>\n",
       "      <td>23</td>\n",
       "      <td>3.0</td>\n",
       "      <td>3.0</td>\n",
       "      <td>4.0</td>\n",
       "      <td>2.0</td>\n",
       "      <td>3.0</td>\n",
       "      <td>10</td>\n",
       "      <td>17</td>\n",
       "      <td>5</td>\n",
       "    </tr>\n",
       "    <tr>\n",
       "      <th>94</th>\n",
       "      <td>95</td>\n",
       "      <td>21</td>\n",
       "      <td>3.0</td>\n",
       "      <td>1.0</td>\n",
       "      <td>3.0</td>\n",
       "      <td>1.0</td>\n",
       "      <td>3.0</td>\n",
       "      <td>10</td>\n",
       "      <td>17</td>\n",
       "      <td>7</td>\n",
       "    </tr>\n",
       "    <tr>\n",
       "      <th>95</th>\n",
       "      <td>96</td>\n",
       "      <td>21</td>\n",
       "      <td>3.0</td>\n",
       "      <td>1.0</td>\n",
       "      <td>3.0</td>\n",
       "      <td>1.0</td>\n",
       "      <td>3.0</td>\n",
       "      <td>10</td>\n",
       "      <td>17</td>\n",
       "      <td>7</td>\n",
       "    </tr>\n",
       "  </tbody>\n",
       "</table>\n",
       "<p>96 rows × 10 columns</p>\n",
       "</div>"
      ],
      "text/plain": [
       "    Id  Age  Openness  Extraversion  Agreeableness  Conscientiousness  \\\n",
       "0    1   21       3.0           2.0            4.0                5.0   \n",
       "1    2   21       4.0           5.0            3.0                2.0   \n",
       "2    3   23       5.0           4.0            3.0                3.0   \n",
       "3    4   20       4.0           3.0            5.0                5.0   \n",
       "4    5   19       4.0           2.0            3.0                5.0   \n",
       "..  ..  ...       ...           ...            ...                ...   \n",
       "91  92   21       5.0           4.0            4.0                1.0   \n",
       "92  93   21       5.0           4.0            4.0                1.0   \n",
       "93  94   23       3.0           3.0            4.0                2.0   \n",
       "94  95   21       3.0           1.0            3.0                1.0   \n",
       "95  96   21       3.0           1.0            3.0                1.0   \n",
       "\n",
       "    Neuroticism  Top_1  Top_2  Top_3  \n",
       "0           4.0     10      7     13  \n",
       "1           1.0      6      7     13  \n",
       "2           3.0      1      5      7  \n",
       "3           1.0     19     16     13  \n",
       "4           5.0      7      9     13  \n",
       "..          ...    ...    ...    ...  \n",
       "91          4.0     10      4      7  \n",
       "92          4.0     10      4      7  \n",
       "93          3.0     10     17      5  \n",
       "94          3.0     10     17      7  \n",
       "95          3.0     10     17      7  \n",
       "\n",
       "[96 rows x 10 columns]"
      ]
     },
     "execution_count": 106,
     "metadata": {},
     "output_type": "execute_result"
    }
   ],
   "source": [
    "y = data_spl2['Test_Score']\n",
    "y\n",
    "x = data_spl2.drop(['Test_Score','Name','Occupation','Field','Gender'],axis = 1)\n",
    "x\n"
   ]
  },
  {
   "cell_type": "code",
   "execution_count": 107,
   "metadata": {},
   "outputs": [],
   "source": [
    "Y= y.values\n",
    "X=x.values\n",
    "\n",
    "x_train, x_test, y_train, y_test = train_test_split(X, Y, test_size = 0.2,random_state=32)"
   ]
  },
  {
   "cell_type": "code",
   "execution_count": 108,
   "metadata": {},
   "outputs": [
    {
     "data": {
      "text/plain": [
       "20.0"
      ]
     },
     "execution_count": 108,
     "metadata": {},
     "output_type": "execute_result"
    }
   ],
   "source": [
    "tree=DecisionTreeClassifier()\n",
    "tree_model=tree.fit(x_train, y_train)\n",
    "y_pred_tree=tree_model.predict(x_test)\n",
    "accuracy_score(y_test, y_pred_tree)*100"
   ]
  },
  {
   "cell_type": "code",
   "execution_count": 109,
   "metadata": {},
   "outputs": [
    {
     "data": {
      "text/plain": [
       "25.0"
      ]
     },
     "execution_count": 109,
     "metadata": {},
     "output_type": "execute_result"
    }
   ],
   "source": [
    "svc=svm.SVC()\n",
    "model_svc= svc.fit(x_train, y_train)\n",
    "y_pred_svc= model_svc.predict(x_test)\n",
    "accuracy_score(y_test, y_pred_svc)*100"
   ]
  },
  {
   "cell_type": "code",
   "execution_count": 110,
   "metadata": {},
   "outputs": [
    {
     "data": {
      "text/plain": [
       "15.0"
      ]
     },
     "execution_count": 110,
     "metadata": {},
     "output_type": "execute_result"
    }
   ],
   "source": [
    "knn=KNeighborsClassifier()\n",
    "knn_model=knn.fit(x_train, y_train)\n",
    "y_pred_KNN= knn_model.predict(x_test)\n",
    "\n",
    "accuracy_score(y_test, y_pred_KNN)*100"
   ]
  },
  {
   "cell_type": "code",
   "execution_count": 111,
   "metadata": {},
   "outputs": [
    {
     "data": {
      "text/plain": [
       "15.0"
      ]
     },
     "execution_count": 111,
     "metadata": {},
     "output_type": "execute_result"
    }
   ],
   "source": [
    "from sklearn.naive_bayes import GaussianNB\n",
    "gnb = GaussianNB()\n",
    "gnb.fit(x_train, y_train)\n",
    "y_pred_nav = gnb.predict(x_test)\n",
    "accuracy_score(y_test, y_pred_nav)*100"
   ]
  },
  {
   "cell_type": "code",
   "execution_count": 112,
   "metadata": {},
   "outputs": [
    {
     "data": {
      "text/plain": [
       "[Text(0.5, 15.0, 'Predict'), Text(24.0, 0.5, 'Real')]"
      ]
     },
     "execution_count": 112,
     "metadata": {},
     "output_type": "execute_result"
    },
    {
     "data": {
      "image/png": "[encoded data removed]",
      "text/plain": [
       "<Figure size 360x288 with 2 Axes>"
      ]
     },
     "metadata": {
      "needs_background": "light"
     },
     "output_type": "display_data"
    }
   ],
   "source": [
    "from sklearn.metrics import confusion_matrix\n",
    "\n",
    "m_c = confusion_matrix(y_test, y_pred_nav)\n",
    "plt.figure(figsize=(5, 4))\n",
    "sns.heatmap(m_c, annot=True, cmap=\"Reds\", fmt=\"d\").set(xlabel=\"Predict\", ylabel=\"Real\")\n"
   ]
  },
  {
   "cell_type": "code",
   "execution_count": 113,
   "metadata": {},
   "outputs": [
    {
     "name": "stdout",
     "output_type": "stream",
     "text": [
      "The accuracy was 15.00%\n"
     ]
    }
   ],
   "source": [
    "from sklearn.naive_bayes import MultinomialNB\n",
    "\n",
    "\n",
    "model = MultinomialNB()\n",
    "\n",
    "model.fit(x_train, y_train)\n",
    "predictions = model.predict(x_test)\n",
    "accuracy = accuracy_score(y_test, predictions) * 100\n",
    "print(\"The accuracy was %.2f%%\" % accuracy)"
   ]
  },
  {
   "cell_type": "code",
   "execution_count": 114,
   "metadata": {},
   "outputs": [
    {
     "name": "stdout",
     "output_type": "stream",
     "text": [
      "25.0\n",
      "15.0\n",
      "30.0\n"
     ]
    }
   ],
   "source": [
    "ext =ExtraTreeClassifier()\n",
    "ext.fit(x_train, y_train)\n",
    "y_pred_ex = ext.predict(x_test)\n",
    "print (accuracy_score(y_test, y_pred_ex)*100)\n",
    "\n",
    "ada=AdaBoostClassifier()\n",
    "ada.fit(x_train, y_train)\n",
    "y_pred_ada= ada.predict(x_test)\n",
    "print (accuracy_score(y_test, y_pred_ada)*100)\n",
    "\n",
    "xbg=XGBClassifier()\n",
    "xbg.fit(x_train, y_train)\n",
    "y_pred_gb = xbg.predict(x_test)\n",
    "print (accuracy_score(y_test, y_pred_gb)*100)\n"
   ]
  },
  {
   "cell_type": "code",
   "execution_count": 115,
   "metadata": {},
   "outputs": [
    {
     "data": {
      "text/plain": [
       "15.0"
      ]
     },
     "execution_count": 115,
     "metadata": {},
     "output_type": "execute_result"
    }
   ],
   "source": [
    "regressor =RandomForestClassifier()\n",
    "model_rf =regressor.fit(x_train,y_train)\n",
    "y_pred_rf= model.predict(x_test)\n",
    "accuracy_score(y_test, y_pred_rf)*100\n"
   ]
  },
  {
   "cell_type": "code",
   "execution_count": 116,
   "metadata": {},
   "outputs": [
    {
     "name": "stderr",
     "output_type": "stream",
     "text": [
      "c:\\Users\\HP\\AppData\\Local\\Programs\\Python\\Python310\\lib\\site-packages\\sklearn\\neural_network\\_multilayer_perceptron.py:702: ConvergenceWarning:\n",
      "\n",
      "Stochastic Optimizer: Maximum iterations (200) reached and the optimization hasn't converged yet.\n",
      "\n"
     ]
    },
    {
     "data": {
      "text/plain": [
       "5.0"
      ]
     },
     "execution_count": 116,
     "metadata": {},
     "output_type": "execute_result"
    }
   ],
   "source": [
    "scaler=StandardScaler()\n",
    "scaler.fit(x_train)\n",
    "X_scaled=scaler.transform(x_train)\n",
    "test_scaled=scaler.transform(x_test)\n",
    "mlpc=MLPClassifier().fit(X_scaled, y_train)\n",
    "y_pred_networks=mlpc.predict(test_scaled)\n",
    "accuracy_score(y_test, y_pred_networks)*100\n"
   ]
  },
  {
   "cell_type": "code",
   "execution_count": 117,
   "metadata": {},
   "outputs": [
    {
     "data": {
      "text/plain": [
       "25.0"
      ]
     },
     "execution_count": 117,
     "metadata": {},
     "output_type": "execute_result"
    }
   ],
   "source": [
    "lgr= LogisticRegression(solver=\"liblinear\")\n",
    "\n",
    "model =lgr.fit(x_train,y_train)\n",
    "y_pred_lgr= model.predict(x_test) \n",
    "\n",
    "accuracy_score(y_test, y_pred_lgr)*100"
   ]
  }
 ],
 "metadata": {
  "kernelspec": {
   "display_name": "Python 3.10.4 64-bit",
   "language": "python",
   "name": "python3"
  },
  "language_info": {
   "codemirror_mode": {
    "name": "ipython",
    "version": 3
   },
   "file_extension": ".py",
   "mimetype": "text/x-python",
   "name": "python",
   "nbconvert_exporter": "python",
   "pygments_lexer": "ipython3",
   "version": "3.10.4"
  },
  "orig_nbformat": 4,
  "vscode": {
   "interpreter": {
    "hash": "a9cff5a362bc38ef45d817ae74b1af54d6a076e3d773891282bce078b815ba34"
   }
  }
 },
 "nbformat": 4,
 "nbformat_minor": 2
}
