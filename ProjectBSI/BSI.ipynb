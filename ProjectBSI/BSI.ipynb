{
  "cells": [
    {
      "cell_type": "markdown",
      "metadata": {
        "id": "WcflvPOOjB1T"
      },
      "source": [
        "## Implementation"
      ]
    },
    {
      "attachments": {},
      "cell_type": "markdown",
      "metadata": {
        "id": "JiUh4au7jB1U"
      },
      "source": [
        "# Data Exploration"
      ]
    },
    {
      "cell_type": "markdown",
      "metadata": {
        "id": "_KMRbtcqjB1U"
      },
      "source": [
        "\n",
        "\n",
        "Import Libraries\n",
        " "
      ]
    },
    {
      "cell_type": "code",
      "execution_count": null,
      "metadata": {
        "id": "wljP7oLajB1U"
      },
      "outputs": [],
      "source": [
        "import numpy as np\n",
        "import pandas as pd\n",
        "import seaborn as sns\n",
        "import heapq\n",
        "import matplotlib.pyplot as plt\n",
        "import plotly.express as  px\n",
        "from sklearn.metrics import f1_score\n",
        "from sklearn.metrics import accuracy_score\n",
        "from sklearn.model_selection import train_test_split\n",
        "from sklearn.ensemble import RandomForestClassifier\n",
        "from sklearn.metrics import classification_report\n",
        "from sklearn.linear_model import LogisticRegression\n",
        "from sklearn.neighbors import KNeighborsClassifier\n",
        "from sklearn import svm\n",
        "from sklearn.preprocessing import StandardScaler\n",
        "from sklearn.neural_network import MLPClassifier\n",
        "from sklearn.tree import DecisionTreeClassifier\n"
      ]
    },
    {
      "cell_type": "markdown",
      "metadata": {
        "id": "ihK-LsjnjB1V"
      },
      "source": [
        "Reading data "
      ]
    },
    {
      "cell_type": "code",
      "execution_count": null,
      "metadata": {
        "colab": {
          "base_uri": "https://localhost:8080/",
          "height": 661
        },
        "id": "aILlvmKsjB1V",
        "outputId": "c6df5ef8-8b55-4824-ac27-d65caaefb27a"
      },
      "outputs": [],
      "source": [
        "data = pd.read_csv(\"Data_improved.csv\",nrows=56)\n",
        "data"
      ]
    },
    {
      "cell_type": "code",
      "execution_count": null,
      "metadata": {
        "colab": {
          "base_uri": "https://localhost:8080/"
        },
        "id": "EQ1wnaG4jB1W",
        "outputId": "7171bb61-7a02-4287-bb2f-706ab8db9e09"
      },
      "outputs": [],
      "source": [
        "data.dtypes"
      ]
    },
    {
      "cell_type": "code",
      "execution_count": null,
      "metadata": {
        "colab": {
          "base_uri": "https://localhost:8080/"
        },
        "id": "IrmEz0SxclcD",
        "outputId": "e9799724-dadd-4d53-d33a-96302e424eaf"
      },
      "outputs": [],
      "source": [
        "data.info()"
      ]
    },
    {
      "cell_type": "code",
      "execution_count": null,
      "metadata": {
        "colab": {
          "base_uri": "https://localhost:8080/"
        },
        "id": "E7bwmEuwjB1W",
        "outputId": "cd1130c6-9a88-40d3-d32b-b720ff8a4e54"
      },
      "outputs": [],
      "source": [
        "missing_values = data.isna().sum()/len(data)*100\n",
        "missing_values\n"
      ]
    },
    {
      "cell_type": "code",
      "execution_count": null,
      "metadata": {
        "colab": {
          "base_uri": "https://localhost:8080/"
        },
        "id": "HCDuoZyLnKS0",
        "outputId": "9cd4a8c3-c015-4ff0-a368-1e91e9584472"
      },
      "outputs": [],
      "source": [
        "data.columns"
      ]
    },
    {
      "cell_type": "code",
      "execution_count": null,
      "metadata": {
        "colab": {
          "base_uri": "https://localhost:8080/",
          "height": 394
        },
        "id": "gg1gHRnFjB1X",
        "outputId": "2f9a9727-640c-43e1-8473-829467eda46e"
      },
      "outputs": [],
      "source": [
        "data.describe()\n"
      ]
    },
    {
      "cell_type": "code",
      "execution_count": null,
      "metadata": {},
      "outputs": [],
      "source": [
        "Extraversion_persons = data.loc[data.Extraversion >= 6, 'Extraversion'] \n",
        "Extraversion_persons.count()"
      ]
    },
    {
      "cell_type": "code",
      "execution_count": null,
      "metadata": {},
      "outputs": [],
      "source": [
        "Extraversion_persons = data.loc[data.Extraversion < 6, 'Extraversion'] \n",
        "Extraversion_persons.count()"
      ]
    },
    {
      "cell_type": "code",
      "execution_count": null,
      "metadata": {},
      "outputs": [],
      "source": [
        "data.columns"
      ]
    },
    {
      "attachments": {},
      "cell_type": "markdown",
      "metadata": {},
      "source": [
        "Males were more than females"
      ]
    },
    {
      "cell_type": "code",
      "execution_count": null,
      "metadata": {},
      "outputs": [],
      "source": [
        "sns.histplot(x='Gender', hue='Gender', data=data)\n"
      ]
    },
    {
      "cell_type": "code",
      "execution_count": null,
      "metadata": {},
      "outputs": [],
      "source": [
        "sns.histplot(x='Age', hue='Gender', data=data)\n"
      ]
    },
    {
      "cell_type": "code",
      "execution_count": null,
      "metadata": {},
      "outputs": [],
      "source": [
        "data.Occupation.value_counts().plot.barh()\n",
        "plt.show()"
      ]
    },
    {
      "cell_type": "code",
      "execution_count": null,
      "metadata": {},
      "outputs": [],
      "source": [
        "data.Top_1.value_counts().plot.barh()\n",
        "plt.show()\n",
        "data.Top_2.value_counts().plot.barh()\n",
        "plt.show()"
      ]
    },
    {
      "cell_type": "code",
      "execution_count": null,
      "metadata": {},
      "outputs": [],
      "source": [
        "data.Top_3.value_counts().plot.barh()\n",
        "plt.show()"
      ]
    },
    {
      "cell_type": "markdown",
      "metadata": {
        "id": "FXojprYTjB1Y"
      },
      "source": [
        "# Statistical analysis"
      ]
    },
    {
      "attachments": {},
      "cell_type": "markdown",
      "metadata": {},
      "source": [
        "get correlation between variables"
      ]
    },
    {
      "cell_type": "code",
      "execution_count": null,
      "metadata": {
        "colab": {
          "base_uri": "https://localhost:8080/",
          "height": 1000
        },
        "id": "0CaDL9PDjB1Y",
        "outputId": "fa4e2f36-b54f-4c6f-8857-2b3ecae882c8"
      },
      "outputs": [],
      "source": [
        "corr = data.corr().round(2)\n",
        "corr.style.background_gradient(cmap='Pastel1')"
      ]
    },
    {
      "cell_type": "code",
      "execution_count": null,
      "metadata": {},
      "outputs": [],
      "source": [
        "data[data.columns[11:31]]"
      ]
    },
    {
      "attachments": {},
      "cell_type": "markdown",
      "metadata": {},
      "source": [
        "# get dynamic the highest and lowest interfaces along all the personalities"
      ]
    },
    {
      "cell_type": "code",
      "execution_count": null,
      "metadata": {},
      "outputs": [],
      "source": [
        "data_1= data[data.columns[6:25]]\n"
      ]
    },
    {
      "cell_type": "code",
      "execution_count": null,
      "metadata": {},
      "outputs": [],
      "source": [
        "import heapq"
      ]
    },
    {
      "attachments": {},
      "cell_type": "markdown",
      "metadata": {},
      "source": [
        "get means then select highest and lowest 4 across data by heapq "
      ]
    },
    {
      "cell_type": "code",
      "execution_count": null,
      "metadata": {},
      "outputs": [],
      "source": [
        "means = np.mean(data_1[data_1.columns], axis=0)  \n",
        "Array = []\n",
        "Array.extend(means)\n",
        "highest= heapq.nlargest(4, means)\n",
        "lowest= heapq.nsmallest(4, means)\n",
        "\n"
      ]
    },
    {
      "attachments": {},
      "cell_type": "markdown",
      "metadata": {},
      "source": [
        "save index of them"
      ]
    },
    {
      "cell_type": "code",
      "execution_count": null,
      "metadata": {},
      "outputs": [],
      "source": [
        "def get_index(array1,array2,full_array):\n",
        "    high1,high2,high3,high4=array1\n",
        "    low1,low2,low3,low4=array2\n",
        "    index_high1=full_array.index(high1)\n",
        "    index_high2=full_array.index(high2)\n",
        "    index_high3=full_array.index(high3)\n",
        "    index_high4=full_array.index(high4)\n",
        "    index_low1=full_array.index(low1)\n",
        "    index_low2=full_array.index(low2)\n",
        "    index_low3=full_array.index(low3)\n",
        "    index_low4=full_array.index(low4)\n",
        "    return index_high1,index_high2,index_high3,index_high4,index_low1,index_low2,index_low3,index_low4"
      ]
    },
    {
      "cell_type": "code",
      "execution_count": null,
      "metadata": {},
      "outputs": [],
      "source": [
        "values=get_index(highest,lowest,Array)\n"
      ]
    },
    {
      "attachments": {},
      "cell_type": "markdown",
      "metadata": {},
      "source": [
        "convert to dataframe"
      ]
    },
    {
      "cell_type": "code",
      "execution_count": null,
      "metadata": {},
      "outputs": [],
      "source": [
        "selected = [*values]\n"
      ]
    },
    {
      "cell_type": "code",
      "execution_count": null,
      "metadata": {},
      "outputs": [],
      "source": [
        "selected_interfaces = data_1.iloc[:, selected]\n",
        "selected_interfaces.columns"
      ]
    },
    {
      "cell_type": "code",
      "execution_count": null,
      "metadata": {},
      "outputs": [],
      "source": [
        "selected_interfaces['Extraversion']=data.iloc[:,-8]\n",
        "selected_interfaces['Agreeableness']=data.iloc[:,-7]\n",
        "selected_interfaces['Conscientiousness']=data.iloc[:,-6]\n",
        "selected_interfaces['Neuroticism']=data.iloc[:,-5]\n",
        "selected_interfaces['Openness']=data.iloc[:,-4]\n",
        "\n"
      ]
    },
    {
      "attachments": {},
      "cell_type": "markdown",
      "metadata": {},
      "source": [
        "# Machine learning using All interfaces"
      ]
    },
    {
      "cell_type": "code",
      "execution_count": null,
      "metadata": {},
      "outputs": [],
      "source": [
        "# tree=DecisionTreeClassifier()\n",
        "# tree_model=tree.fit(x_train, y_train)\n",
        "# y_pred_tree=tree_model.predict(x_test)\n",
        "# # accuracy_score(y_test, y_pred_tree)*100\n"
      ]
    },
    {
      "cell_type": "code",
      "execution_count": null,
      "metadata": {},
      "outputs": [],
      "source": [
        "# scaler=StandardScaler()\n",
        "# scaler.fit(x_train)\n",
        "# X_scaled=scaler.transform(x_train)\n",
        "# test_scaled=scaler.transform(x_test)\n",
        "# mlpc=MLPClassifier().fit(X_scaled, y_train)\n",
        "# y_pred_networks=mlpc.predict(test_scaled)\n",
        "# accuracy_score(y_test,y_pred_networks)*100"
      ]
    },
    {
      "attachments": {},
      "cell_type": "markdown",
      "metadata": {},
      "source": [
        "# Extraversion"
      ]
    },
    {
      "attachments": {},
      "cell_type": "markdown",
      "metadata": {},
      "source": [
        "select features col and drop other "
      ]
    },
    {
      "cell_type": "code",
      "execution_count": null,
      "metadata": {},
      "outputs": [],
      "source": [
        "Extra_data = selected_interfaces\n",
        "Extra_data = Extra_data.drop([\"Agreeableness\",\"Conscientiousness\",\"Neuroticism\",\"Openness\"],axis=1)\n",
        "\n"
      ]
    },
    {
      "cell_type": "code",
      "execution_count": null,
      "metadata": {},
      "outputs": [],
      "source": [
        "y=Extra_data['Extraversion'].values\n",
        "y"
      ]
    },
    {
      "cell_type": "code",
      "execution_count": null,
      "metadata": {},
      "outputs": [],
      "source": [
        "y=Extra_data['Extraversion'].values\n",
        "x=Extra_data[Extra_data.columns[:8]].values\n",
        "x_train, x_test, y_train, y_test = train_test_split(x, y, test_size = 0.2,random_state=42)\n"
      ]
    },
    {
      "attachments": {},
      "cell_type": "markdown",
      "metadata": {},
      "source": [
        "ML models"
      ]
    },
    {
      "cell_type": "code",
      "execution_count": null,
      "metadata": {},
      "outputs": [],
      "source": [
        "tree=DecisionTreeClassifier()\n",
        "tree_model=tree.fit(x_train, y_train)\n",
        "y_pred_tree=tree_model.predict(x_test)\n",
        "print(accuracy_score(y_test, y_pred_tree)*100)\n",
        "\n",
        "# print(\"F-score\",f1_score(y_test, y_pred_tree)) \n",
        "print(\"F-score\",classification_report(y_test, y_pred_tree))\n",
        "\n"
      ]
    },
    {
      "cell_type": "code",
      "execution_count": null,
      "metadata": {},
      "outputs": [],
      "source": [
        "x_train, x_test, y_train, y_test = train_test_split(x, y, test_size = 0.2,random_state=42)\n",
        "\n",
        "knn=KNeighborsClassifier(n_neighbors=4, algorithm='kd_tree')\n",
        "knn_model=knn.fit(x_train, y_train)\n",
        "print(knn_model.score(x_train,y_train)*100)\n",
        "print(knn_model.score(x_test,y_test)*100)\n",
        "y_pred_KNN= knn_model.predict(x_test)\n",
        "# print (\"acc of KNN % \",accuracy_score(y_test, y_pred_KNN)*100)\n",
        "print(\"F-score\",classification_report(y_test, y_pred_KNN))\n"
      ]
    },
    {
      "cell_type": "code",
      "execution_count": null,
      "metadata": {},
      "outputs": [],
      "source": [
        "cross_check = pd.DataFrame({'Actual' : y_test, 'Predicted': y_pred_KNN})\n",
        "cross_check"
      ]
    },
    {
      "cell_type": "code",
      "execution_count": null,
      "metadata": {},
      "outputs": [],
      "source": [
        "from sklearn.metrics import confusion_matrix\n",
        "\n",
        "m_c = confusion_matrix(y_test, y_pred_KNN)\n",
        "plt.figure(figsize=(5, 4))\n",
        "sns.heatmap(m_c, annot=True, cmap=\"Reds\", fmt=\"d\").set(xlabel=\"Predict\", ylabel=\"Real\")"
      ]
    },
    {
      "cell_type": "code",
      "execution_count": null,
      "metadata": {},
      "outputs": [],
      "source": [
        "x_train, x_test, y_train, y_test = train_test_split(x, y, test_size = 0.2,random_state=42)\n",
        "scaler=StandardScaler()\n",
        "scaler.fit(x_train)\n",
        "X_scaled=scaler.transform(x_train)\n",
        "test_scaled=scaler.transform(x_test)\n",
        "mlpc=MLPClassifier().fit(X_scaled, y_train)\n",
        "y_pred_networks=mlpc.predict(test_scaled)\n",
        "print(accuracy_score(y_test, y_pred_networks)*100)\n",
        "print(\"F-score\",classification_report(y_test, y_pred_networks))\n"
      ]
    },
    {
      "cell_type": "code",
      "execution_count": null,
      "metadata": {},
      "outputs": [],
      "source": [
        "x_train, x_test, y_train, y_test = train_test_split(x, y, test_size = 0.2,random_state=42)\n",
        "svc=svm.SVC()\n",
        "model_svc= svc.fit(x_train, y_train)\n",
        "y_pred_svc= model_svc.predict(x_test)\n",
        "print(accuracy_score(y_test, y_pred_svc)*100)\n",
        "print(\"F-score\",classification_report(y_test, y_pred_svc))\n"
      ]
    },
    {
      "cell_type": "code",
      "execution_count": null,
      "metadata": {},
      "outputs": [],
      "source": [
        "x_train, x_test, y_train, y_test = train_test_split(x, y, test_size = 0.2,random_state=42)\n",
        "regressor =RandomForestClassifier()\n",
        "model_rf =regressor.fit(x_train,y_train)\n",
        "y_pred_rf= model_rf.predict(x_test)\n",
        "print(accuracy_score(y_test, y_pred_rf)*100)\n",
        "print(\"F-score\",classification_report(y_test, y_pred_rf))\n"
      ]
    },
    {
      "attachments": {},
      "cell_type": "markdown",
      "metadata": {},
      "source": [
        "# Agreeableness "
      ]
    },
    {
      "attachments": {},
      "cell_type": "markdown",
      "metadata": {},
      "source": [
        "select predicted column and drop other"
      ]
    },
    {
      "cell_type": "code",
      "execution_count": null,
      "metadata": {},
      "outputs": [],
      "source": [
        "Agree_data= selected_interfaces"
      ]
    },
    {
      "cell_type": "code",
      "execution_count": null,
      "metadata": {},
      "outputs": [],
      "source": [
        "Agree_data = Agree_data.drop([\"Conscientiousness\",\"Neuroticism\",\"Openness\",\"Extraversion\"],axis=1)\n"
      ]
    },
    {
      "cell_type": "code",
      "execution_count": null,
      "metadata": {},
      "outputs": [],
      "source": [
        "y=Agree_data['Agreeableness'].values\n",
        "x=Agree_data[Agree_data.columns[:8]].values\n",
        "x_train, x_test, y_train, y_test = train_test_split(x, y, test_size = 0.2,random_state=42)\n"
      ]
    },
    {
      "attachments": {},
      "cell_type": "markdown",
      "metadata": {},
      "source": [
        "ML models"
      ]
    },
    {
      "cell_type": "code",
      "execution_count": null,
      "metadata": {},
      "outputs": [],
      "source": [
        "tree=DecisionTreeClassifier()\n",
        "tree_model=tree.fit(x_train, y_train)\n",
        "y_pred_tree=tree_model.predict(x_test)\n",
        "accuracy_score(y_test, y_pred_tree)*100\n",
        "print(\"F-score\",classification_report(y_test, y_pred_tree))"
      ]
    },
    {
      "cell_type": "code",
      "execution_count": null,
      "metadata": {},
      "outputs": [],
      "source": [
        "x_train, x_test, y_train, y_test = train_test_split(x, y, test_size = 0.2,random_state=42)\n",
        "\n",
        "knn=KNeighborsClassifier(n_neighbors=4, algorithm='kd_tree')\n",
        "knn_model=knn.fit(x_train, y_train)\n",
        "print(knn_model.score(x_train,y_train)*100)\n",
        "\n",
        "y_pred_KNN= knn_model.predict(x_test)\n",
        "print (\"acc of KNN % \",accuracy_score(y_test, y_pred_KNN)*100)\n",
        "print(\"F-score\",classification_report(y_test, y_pred_KNN))"
      ]
    },
    {
      "cell_type": "code",
      "execution_count": null,
      "metadata": {},
      "outputs": [],
      "source": [
        "cross_check = pd.DataFrame({'Actual' : y_test, 'Predicted': y_pred_KNN})\n",
        "cross_check"
      ]
    },
    {
      "cell_type": "code",
      "execution_count": null,
      "metadata": {},
      "outputs": [],
      "source": [
        "from sklearn.metrics import confusion_matrix\n",
        "\n",
        "m_c = confusion_matrix(y_test, y_pred_KNN)\n",
        "plt.figure(figsize=(5, 4))\n",
        "sns.heatmap(m_c, annot=True, cmap=\"Reds\", fmt=\"d\").set(xlabel=\"Predict\", ylabel=\"Real\")"
      ]
    },
    {
      "cell_type": "code",
      "execution_count": null,
      "metadata": {},
      "outputs": [],
      "source": [
        "scaler=StandardScaler()\n",
        "scaler.fit(x_train)\n",
        "X_scaled=scaler.transform(x_train)\n",
        "test_scaled=scaler.transform(x_test)\n",
        "mlpc=MLPClassifier().fit(X_scaled, y_train)\n",
        "y_pred_networks=mlpc.predict(test_scaled)\n",
        "print(accuracy_score(y_test, y_pred_networks)*100)\n",
        "print(\"F-score\",classification_report(y_test, y_pred_networks))"
      ]
    },
    {
      "cell_type": "code",
      "execution_count": null,
      "metadata": {},
      "outputs": [],
      "source": [
        "x_train, x_test, y_train, y_test = train_test_split(x, y, test_size = 0.2,random_state=42)\n",
        "svc=svm.SVC()\n",
        "model_svc= svc.fit(x_train, y_train)\n",
        "y_pred_svc= model_svc.predict(x_test)\n",
        "print(accuracy_score(y_test, y_pred_svc)*100)\n",
        "print(\"F-score\",classification_report(y_test, y_pred_svc))"
      ]
    },
    {
      "cell_type": "code",
      "execution_count": null,
      "metadata": {},
      "outputs": [],
      "source": [
        "x_train, x_test, y_train, y_test = train_test_split(x, y, test_size = 0.2,random_state=42)\n",
        "regressor =RandomForestClassifier()\n",
        "model_rf =regressor.fit(x_train,y_train)\n",
        "y_pred_rf= model_rf.predict(x_test)\n",
        "print(accuracy_score(y_test, y_pred_rf)*100)\n",
        "print(\"F-score\",classification_report(y_test, y_pred_rf))"
      ]
    },
    {
      "attachments": {},
      "cell_type": "markdown",
      "metadata": {},
      "source": [
        "# Conscientiousness"
      ]
    },
    {
      "attachments": {},
      "cell_type": "markdown",
      "metadata": {},
      "source": [
        "select predicted column and drop other"
      ]
    },
    {
      "cell_type": "code",
      "execution_count": null,
      "metadata": {},
      "outputs": [],
      "source": [
        "Cons_data= selected_interfaces"
      ]
    },
    {
      "cell_type": "code",
      "execution_count": null,
      "metadata": {},
      "outputs": [],
      "source": [
        "Cons_data = Cons_data.drop([\"Agreeableness\",\"Extraversion\",\"Neuroticism\",\"Openness\"],axis=1)\n"
      ]
    },
    {
      "cell_type": "code",
      "execution_count": null,
      "metadata": {},
      "outputs": [],
      "source": [
        "y=Cons_data['Conscientiousness'].values\n",
        "x=Cons_data[Cons_data.columns[:8]].values\n"
      ]
    },
    {
      "cell_type": "code",
      "execution_count": null,
      "metadata": {},
      "outputs": [],
      "source": [
        "x_train, x_test, y_train, y_test = train_test_split(x, y, test_size = 0.2,random_state=42)"
      ]
    },
    {
      "attachments": {},
      "cell_type": "markdown",
      "metadata": {},
      "source": [
        "ML models"
      ]
    },
    {
      "cell_type": "code",
      "execution_count": null,
      "metadata": {},
      "outputs": [],
      "source": [
        "tree=DecisionTreeClassifier()\n",
        "tree_model=tree.fit(x_train, y_train)\n",
        "y_pred_tree=tree_model.predict(x_test)\n",
        "print(accuracy_score(y_test, y_pred_tree)*100)\n",
        "\n",
        "print(\"F-score\",classification_report(y_test, y_pred_tree))"
      ]
    },
    {
      "cell_type": "code",
      "execution_count": null,
      "metadata": {},
      "outputs": [],
      "source": [
        "x_train, x_test, y_train, y_test = train_test_split(x, y, test_size = 0.2,random_state=42)\n",
        "\n",
        "knn=KNeighborsClassifier(n_neighbors=4, algorithm='kd_tree')\n",
        "knn_model=knn.fit(x_train, y_train)\n",
        "print(knn_model.score(x_train,y_train)*100)\n",
        "y_pred_KNN= knn_model.predict(x_test)\n",
        "print (\"acc of KNN % \",accuracy_score(y_test, y_pred_KNN)*100)\n",
        "print(\"F-score\",classification_report(y_test, y_pred_KNN))"
      ]
    },
    {
      "cell_type": "code",
      "execution_count": null,
      "metadata": {},
      "outputs": [],
      "source": [
        "cross_check = pd.DataFrame({'Actual' : y_test, 'Predicted': y_pred_KNN})\n",
        "cross_check"
      ]
    },
    {
      "cell_type": "code",
      "execution_count": null,
      "metadata": {},
      "outputs": [],
      "source": [
        "from sklearn.metrics import confusion_matrix\n",
        "\n",
        "m_c = confusion_matrix(y_test, y_pred_KNN)\n",
        "plt.figure(figsize=(5, 4))\n",
        "sns.heatmap(m_c, annot=True, cmap=\"Reds\", fmt=\"d\").set(xlabel=\"Predict\", ylabel=\"Real\")"
      ]
    },
    {
      "cell_type": "code",
      "execution_count": null,
      "metadata": {},
      "outputs": [],
      "source": [
        "x_train, x_test, y_train, y_test = train_test_split(x, y, test_size = 0.2,random_state=42)\n",
        "scaler=StandardScaler()\n",
        "scaler.fit(x_train)\n",
        "X_scaled=scaler.transform(x_train)\n",
        "test_scaled=scaler.transform(x_test)\n",
        "mlpc=MLPClassifier().fit(X_scaled, y_train)\n",
        "y_pred_networks=mlpc.predict(test_scaled)\n",
        "print(accuracy_score(y_test, y_pred_networks)*100)\n",
        "print(\"F-score\",classification_report(y_test, y_pred_networks))"
      ]
    },
    {
      "cell_type": "code",
      "execution_count": null,
      "metadata": {},
      "outputs": [],
      "source": [
        "x_train, x_test, y_train, y_test = train_test_split(x, y, test_size = 0.2,random_state=42)\n",
        "svc=svm.SVC()\n",
        "model_svc= svc.fit(x_train, y_train)\n",
        "y_pred_svc= model_svc.predict(x_test)\n",
        "print(accuracy_score(y_test, y_pred_svc)*100)\n",
        "print(\"F-score\",classification_report(y_test, y_pred_svc))"
      ]
    },
    {
      "cell_type": "code",
      "execution_count": null,
      "metadata": {},
      "outputs": [],
      "source": [
        "x_train, x_test, y_train, y_test = train_test_split(x, y, test_size = 0.2,random_state=42)\n",
        "regressor =RandomForestClassifier()\n",
        "model_rf =regressor.fit(x_train,y_train)\n",
        "y_pred_rf= model_rf.predict(x_test)\n",
        "print(accuracy_score(y_test, y_pred_rf)*100)\n",
        "print(\"F-score\",classification_report(y_test, y_pred_rf))"
      ]
    },
    {
      "attachments": {},
      "cell_type": "markdown",
      "metadata": {},
      "source": [
        "# Neuroticism"
      ]
    },
    {
      "attachments": {},
      "cell_type": "markdown",
      "metadata": {},
      "source": [
        "select predicted column and drop other"
      ]
    },
    {
      "cell_type": "code",
      "execution_count": null,
      "metadata": {},
      "outputs": [],
      "source": [
        "Neuro_data= selected_interfaces\n",
        "Neuro_data = Neuro_data.drop([\"Agreeableness\",\"Conscientiousness\",\"Extraversion\",\"Openness\"],axis=1)\n"
      ]
    },
    {
      "cell_type": "code",
      "execution_count": null,
      "metadata": {},
      "outputs": [],
      "source": [
        "y=Neuro_data['Neuroticism'].values\n",
        "x=Neuro_data[Neuro_data.columns[:8]].values\n",
        "x_train, x_test, y_train, y_test = train_test_split(x, y, test_size = 0.2,random_state=42)\n"
      ]
    },
    {
      "attachments": {},
      "cell_type": "markdown",
      "metadata": {},
      "source": [
        "ML models"
      ]
    },
    {
      "cell_type": "code",
      "execution_count": null,
      "metadata": {},
      "outputs": [],
      "source": [
        "tree=DecisionTreeClassifier()\n",
        "tree_model=tree.fit(x_train, y_train)\n",
        "y_pred_tree=tree_model.predict(x_test)\n",
        "print(accuracy_score(y_test, y_pred_tree)*100)\n",
        "print(\"F-score\",classification_report(y_test, y_pred_tree))"
      ]
    },
    {
      "cell_type": "code",
      "execution_count": null,
      "metadata": {},
      "outputs": [],
      "source": [
        "x_train, x_test, y_train, y_test = train_test_split(x, y, test_size = 0.2,random_state=42)\n",
        "knn=KNeighborsClassifier(n_neighbors=4, algorithm='kd_tree')\n",
        "knn_model=knn.fit(x_train, y_train)\n",
        "print(knn_model.score(x_train,y_train)*100)\n",
        "\n",
        "y_pred_KNN = knn_model.predict(x_test)\n",
        "print (\"acc of KNN % \",accuracy_score(y_test, y_pred_KNN)*100)\n",
        "print(\"F-score\",classification_report(y_test, y_pred_KNN))"
      ]
    },
    {
      "cell_type": "code",
      "execution_count": null,
      "metadata": {},
      "outputs": [],
      "source": [
        "cross_check = pd.DataFrame({'Actual' : y_test, 'Predicted': y_pred_KNN})\n",
        "cross_check\n"
      ]
    },
    {
      "cell_type": "code",
      "execution_count": null,
      "metadata": {},
      "outputs": [],
      "source": [
        "from sklearn.metrics import confusion_matrix\n",
        "\n",
        "m_c = confusion_matrix(y_test, y_pred_KNN)\n",
        "plt.figure(figsize=(5, 4))\n",
        "sns.heatmap(m_c, annot=True, cmap=\"Reds\", fmt=\"d\").set(xlabel=\"Predict\", ylabel=\"Actual\")"
      ]
    },
    {
      "cell_type": "code",
      "execution_count": null,
      "metadata": {},
      "outputs": [],
      "source": [
        "scaler=StandardScaler()\n",
        "scaler.fit(x_train)\n",
        "X_scaled=scaler.transform(x_train)\n",
        "test_scaled=scaler.transform(x_test)\n",
        "mlpc=MLPClassifier().fit(X_scaled, y_train)\n",
        "y_pred_networks=mlpc.predict(test_scaled)\n",
        "print(accuracy_score(y_test, y_pred_networks)*100)\n",
        "print(\"F-score\",classification_report(y_test, y_pred_networks))"
      ]
    },
    {
      "cell_type": "code",
      "execution_count": null,
      "metadata": {},
      "outputs": [],
      "source": [
        "x_train, x_test, y_train, y_test = train_test_split(x, y, test_size = 0.2,random_state=42)\n",
        "svc=svm.SVC()\n",
        "model_svc= svc.fit(x_train, y_train)\n",
        "y_pred_svc= model_svc.predict(x_test)\n",
        "print(accuracy_score(y_test, y_pred_svc)*100)\n",
        "print(\"F-score\",classification_report(y_test, y_pred_svc))\n"
      ]
    },
    {
      "cell_type": "code",
      "execution_count": null,
      "metadata": {},
      "outputs": [],
      "source": [
        "x_train, x_test, y_train, y_test = train_test_split(x, y, test_size = 0.2,random_state=42)\n",
        "regressor =RandomForestClassifier()\n",
        "model_rf =regressor.fit(x_train,y_train)\n",
        "y_pred_rf= model_rf.predict(x_test)\n",
        "print(accuracy_score(y_test, y_pred_rf)*100)\n",
        "print(\"F-score\",classification_report(y_test, y_pred_rf))"
      ]
    },
    {
      "attachments": {},
      "cell_type": "markdown",
      "metadata": {},
      "source": [
        "# Openness"
      ]
    },
    {
      "attachments": {},
      "cell_type": "markdown",
      "metadata": {},
      "source": [
        "select predicted column and drop other"
      ]
    },
    {
      "cell_type": "code",
      "execution_count": null,
      "metadata": {},
      "outputs": [],
      "source": [
        "open_data = selected_interfaces\n",
        "open_data = open_data.drop([\"Agreeableness\",\"Conscientiousness\",\"Neuroticism\",\"Extraversion\"],axis=1)\n",
        "\n"
      ]
    },
    {
      "cell_type": "code",
      "execution_count": null,
      "metadata": {},
      "outputs": [],
      "source": [
        "y=open_data['Openness'].values\n",
        "x=open_data[open_data.columns[:8]].values\n",
        "x_train, x_test, y_train, y_test = train_test_split(x, y, test_size = 0.2,random_state=42)\n"
      ]
    },
    {
      "cell_type": "code",
      "execution_count": null,
      "metadata": {},
      "outputs": [],
      "source": [
        "tree=DecisionTreeClassifier()\n",
        "tree_model=tree.fit(x_train, y_train)\n",
        "y_pred_tree=tree_model.predict(x_test)\n",
        "print(accuracy_score(y_test, y_pred_tree)*100)\n",
        "\n",
        "# print(\"F-score\",f1_score(y_test, y_pred_tree)) \n",
        "print(\"F-score\",classification_report(y_test, y_pred_tree))\n"
      ]
    },
    {
      "cell_type": "code",
      "execution_count": null,
      "metadata": {},
      "outputs": [],
      "source": [
        "x_train, x_test, y_train, y_test = train_test_split(x, y, test_size = 0.2,random_state=42)\n",
        "\n",
        "knn=KNeighborsClassifier(n_neighbors=4, algorithm='kd_tree')\n",
        "knn_model=knn.fit(x_train, y_train)\n",
        "print(knn_model.score(x_train,y_train)*100)\n",
        "y_pred_KNN= knn_model.predict(x_test)\n",
        "print (\"acc of KNN % \",accuracy_score(y_test, y_pred_KNN)*100)\n",
        "print(\"F-score\",classification_report(y_test, y_pred_KNN))\n"
      ]
    },
    {
      "cell_type": "code",
      "execution_count": null,
      "metadata": {},
      "outputs": [],
      "source": [
        "cross_check = pd.DataFrame({'Actual' : y_test, 'Predicted': y_pred_KNN})\n",
        "cross_check"
      ]
    },
    {
      "cell_type": "code",
      "execution_count": null,
      "metadata": {},
      "outputs": [],
      "source": [
        "from sklearn.metrics import confusion_matrix\n",
        "\n",
        "m_c = confusion_matrix(y_test, y_pred_KNN)\n",
        "plt.figure(figsize=(5, 4))\n",
        "sns.heatmap(m_c, annot=True, cmap=\"Reds\", fmt=\"d\").set(xlabel=\"Predict\", ylabel=\"Real\")"
      ]
    },
    {
      "cell_type": "code",
      "execution_count": null,
      "metadata": {},
      "outputs": [],
      "source": [
        "x_train, x_test, y_train, y_test = train_test_split(x, y, test_size = 0.2,random_state=42)\n",
        "scaler=StandardScaler()\n",
        "scaler.fit(x_train)\n",
        "X_scaled=scaler.transform(x_train)\n",
        "test_scaled=scaler.transform(x_test)\n",
        "mlpc=MLPClassifier().fit(X_scaled, y_train)\n",
        "y_pred_networks=mlpc.predict(test_scaled)\n",
        "print(accuracy_score(y_test, y_pred_networks)*100)\n",
        "print(\"F-score\",classification_report(y_test, y_pred_networks))\n"
      ]
    },
    {
      "cell_type": "code",
      "execution_count": null,
      "metadata": {},
      "outputs": [],
      "source": [
        "x_train, x_test, y_train, y_test = train_test_split(x, y, test_size = 0.2,random_state=42)\n",
        "svc=svm.SVC()\n",
        "model_svc= svc.fit(x_train, y_train)\n",
        "y_pred_svc= model_svc.predict(x_test)\n",
        "print(accuracy_score(y_test, y_pred_svc)*100)\n",
        "print(\"F-score\",classification_report(y_test, y_pred_svc))\n"
      ]
    },
    {
      "cell_type": "code",
      "execution_count": null,
      "metadata": {},
      "outputs": [],
      "source": [
        "x_train, x_test, y_train, y_test = train_test_split(x, y, test_size = 0.2,random_state=42)\n",
        "regressor =RandomForestClassifier()\n",
        "model_rf =regressor.fit(x_train,y_train)\n",
        "y_pred_rf= model_rf.predict(x_test)\n",
        "print(accuracy_score(y_test, y_pred_rf)*100)\n",
        "print(\"F-score\",classification_report(y_test, y_pred_rf))\n"
      ]
    },
    {
      "attachments": {},
      "cell_type": "markdown",
      "metadata": {},
      "source": [
        "# *6* Interfaces to KNN"
      ]
    },
    {
      "attachments": {},
      "cell_type": "markdown",
      "metadata": {},
      "source": [
        "get highest and lowest 3 interfaces and get index to be used to do dataframe from these index of equalivent interfaces"
      ]
    },
    {
      "cell_type": "code",
      "execution_count": null,
      "metadata": {},
      "outputs": [],
      "source": [
        "means_3= np.mean(data_1[data_1.columns], axis=0)  \n",
        "Array = []\n",
        "Array.extend(means_3)\n",
        "highest_3 = heapq.nlargest(3, means_3)\n",
        "lowest_3 = heapq.nsmallest(3, means_3)\n",
        "\n"
      ]
    },
    {
      "cell_type": "code",
      "execution_count": null,
      "metadata": {},
      "outputs": [],
      "source": [
        "def get_index(array1,array2,full_array):\n",
        "    high1,high2,high3=array1\n",
        "    low1,low2,low3=array2\n",
        "    index_high1=full_array.index(high1)\n",
        "    index_high2=full_array.index(high2)\n",
        "    index_high3=full_array.index(high3)\n",
        "    index_low1=full_array.index(low1)\n",
        "    index_low2=full_array.index(low2)\n",
        "    index_low3=full_array.index(low3)\n",
        "    return index_high1,index_high2,index_high3,index_low1,index_low2,index_low3"
      ]
    },
    {
      "cell_type": "code",
      "execution_count": null,
      "metadata": {},
      "outputs": [],
      "source": [
        "values=get_index(highest_3,lowest_3,Array)\n",
        "selected_3 = [*values]\n",
        "selected_3"
      ]
    },
    {
      "cell_type": "code",
      "execution_count": null,
      "metadata": {},
      "outputs": [],
      "source": [
        "\n",
        "New_factors = data_1.iloc[:, selected_3]\n",
        "New_factors['Extraversion']=data.iloc[:,-8]\n",
        "New_factors['Agreeableness']=data.iloc[:,-7]\n",
        "New_factors['Conscientiousness']=data.iloc[:,-6]\n",
        "New_factors['Neuroticism']=data.iloc[:,-5]\n",
        "New_factors['Openness']=data.iloc[:,-4]\n"
      ]
    },
    {
      "attachments": {},
      "cell_type": "markdown",
      "metadata": {},
      "source": [
        "# Extraversion"
      ]
    },
    {
      "attachments": {},
      "cell_type": "markdown",
      "metadata": {},
      "source": [
        "select predicted column and drop other"
      ]
    },
    {
      "cell_type": "code",
      "execution_count": null,
      "metadata": {},
      "outputs": [],
      "source": [
        "Extra_data = New_factors\n",
        "Extra_data = Extra_data.drop([\"Agreeableness\",\"Conscientiousness\",\"Neuroticism\",\"Openness\"],axis=1)\n",
        "\n",
        "y=Extra_data['Extraversion'].values\n",
        "x=Extra_data[Extra_data.columns[:6]].values\n",
        "x_train, x_test, y_train, y_test = train_test_split(x, y, test_size = 0.2,random_state=42)\n"
      ]
    },
    {
      "cell_type": "code",
      "execution_count": null,
      "metadata": {},
      "outputs": [],
      "source": [
        "\n",
        "tree=DecisionTreeClassifier()\n",
        "tree_model=tree.fit(x_train, y_train)\n",
        "y_pred_tree=tree_model.predict(x_test)\n",
        "print(accuracy_score(y_test, y_pred_tree)*100)\n",
        "\n",
        "# print(\"F-score\",f1_score(y_test, y_pred_tree)) \n",
        "print(\"F-score\",classification_report(y_test, y_pred_tree))"
      ]
    },
    {
      "cell_type": "code",
      "execution_count": null,
      "metadata": {},
      "outputs": [],
      "source": [
        "\n",
        "x_train, x_test, y_train, y_test = train_test_split(x, y, test_size = 0.2,random_state=42)\n",
        "\n",
        "knn=KNeighborsClassifier(n_neighbors=4, algorithm='kd_tree')\n",
        "knn_model=knn.fit(x_train, y_train)\n",
        "print(knn_model.score(x_train,y_train)*100)\n",
        "print(knn_model.score(x_test,y_test)*100)\n",
        "y_pred_KNN= knn_model.predict(x_test)\n",
        "# print (\"acc of KNN % \",accuracy_score(y_test, y_pred_KNN)*100)\n",
        "print(\"F-score\",classification_report(y_test, y_pred_KNN))\n",
        "\n"
      ]
    },
    {
      "cell_type": "code",
      "execution_count": null,
      "metadata": {},
      "outputs": [],
      "source": [
        "from sklearn.metrics import confusion_matrix\n",
        "\n",
        "m_c = confusion_matrix(y_test, y_pred_KNN)\n",
        "plt.figure(figsize=(5, 4))\n",
        "sns.heatmap(m_c, annot=True, cmap=\"Reds\", fmt=\"d\").set(xlabel=\"Predict\", ylabel=\"Real\")"
      ]
    },
    {
      "cell_type": "code",
      "execution_count": null,
      "metadata": {},
      "outputs": [],
      "source": [
        "x_train, x_test, y_train, y_test = train_test_split(x, y, test_size = 0.2,random_state=42)\n",
        "scaler=StandardScaler()\n",
        "scaler.fit(x_train)\n",
        "X_scaled=scaler.transform(x_train)\n",
        "test_scaled=scaler.transform(x_test)\n",
        "mlpc=MLPClassifier().fit(X_scaled, y_train)\n",
        "y_pred_networks=mlpc.predict(test_scaled)\n",
        "print(accuracy_score(y_test, y_pred_networks)*100)\n",
        "print(\"F-score\",classification_report(y_test, y_pred_networks))\n"
      ]
    },
    {
      "cell_type": "code",
      "execution_count": null,
      "metadata": {},
      "outputs": [],
      "source": [
        "x_train, x_test, y_train, y_test = train_test_split(x, y, test_size = 0.2,random_state=42)\n",
        "svc=svm.SVC()\n",
        "model_svc= svc.fit(x_train, y_train)\n",
        "y_pred_svc= model_svc.predict(x_test)\n",
        "print(accuracy_score(y_test, y_pred_svc)*100)\n",
        "print(\"F-score\",classification_report(y_test, y_pred_svc))\n"
      ]
    },
    {
      "cell_type": "code",
      "execution_count": null,
      "metadata": {},
      "outputs": [],
      "source": [
        "x_train, x_test, y_train, y_test = train_test_split(x, y, test_size = 0.2,random_state=42)\n",
        "regressor =RandomForestClassifier()\n",
        "model_rf =regressor.fit(x_train,y_train)\n",
        "y_pred_rf= model_rf.predict(x_test)\n",
        "print(accuracy_score(y_test, y_pred_rf)*100)\n",
        "print(\"F-score\",classification_report(y_test, y_pred_rf))\n"
      ]
    },
    {
      "attachments": {},
      "cell_type": "markdown",
      "metadata": {},
      "source": [
        "# Agreeableness"
      ]
    },
    {
      "attachments": {},
      "cell_type": "markdown",
      "metadata": {},
      "source": [
        "select predicted column and drop other"
      ]
    },
    {
      "cell_type": "code",
      "execution_count": null,
      "metadata": {},
      "outputs": [],
      "source": [
        "agree_data = New_factors\n",
        "agree_data = agree_data.drop([\"Extraversion\",\"Conscientiousness\",\"Neuroticism\",\"Openness\"],axis=1)\n",
        "\n",
        "y=agree_data['Agreeableness'].values\n",
        "x=agree_data[agree_data.columns[:6]].values\n",
        "x_train, x_test, y_train, y_test = train_test_split(x, y, test_size = 0.2,random_state=42)\n"
      ]
    },
    {
      "attachments": {},
      "cell_type": "markdown",
      "metadata": {},
      "source": [
        "ML models"
      ]
    },
    {
      "cell_type": "code",
      "execution_count": null,
      "metadata": {},
      "outputs": [],
      "source": [
        "tree=DecisionTreeClassifier()\n",
        "tree_model=tree.fit(x_train, y_train)\n",
        "y_pred_tree=tree_model.predict(x_test)\n",
        "print(accuracy_score(y_test, y_pred_tree)*100)\n",
        "print(\"F-score\",classification_report(y_test, y_pred_tree))"
      ]
    },
    {
      "cell_type": "code",
      "execution_count": null,
      "metadata": {},
      "outputs": [],
      "source": [
        "x_train, x_test, y_train, y_test = train_test_split(x, y, test_size = 0.2,random_state=42)\n",
        "\n",
        "knn=KNeighborsClassifier(n_neighbors=4, algorithm='kd_tree')\n",
        "knn_model=knn.fit(x_train, y_train)\n",
        "print(knn_model.score(x_train,y_train)*100)\n",
        "\n",
        "y_pred_KNN= knn_model.predict(x_test)\n",
        "print (\"acc of KNN % \",accuracy_score(y_test, y_pred_KNN)*100)\n",
        "print(\"F-score\",classification_report(y_test, y_pred_KNN))"
      ]
    },
    {
      "cell_type": "code",
      "execution_count": null,
      "metadata": {},
      "outputs": [],
      "source": [
        "cross_check = pd.DataFrame({'Actual' : y_test, 'Predicted': y_pred_KNN})\n",
        "cross_check"
      ]
    },
    {
      "cell_type": "code",
      "execution_count": null,
      "metadata": {},
      "outputs": [],
      "source": [
        "from sklearn.metrics import confusion_matrix\n",
        "\n",
        "m_c = confusion_matrix(y_test, y_pred_KNN)\n",
        "plt.figure(figsize=(5, 4))\n",
        "sns.heatmap(m_c, annot=True, cmap=\"Reds\", fmt=\"d\").set(xlabel=\"Predict\", ylabel=\"Real\")"
      ]
    },
    {
      "cell_type": "code",
      "execution_count": null,
      "metadata": {},
      "outputs": [],
      "source": [
        "scaler=StandardScaler()\n",
        "scaler.fit(x_train)\n",
        "X_scaled=scaler.transform(x_train)\n",
        "test_scaled=scaler.transform(x_test)\n",
        "mlpc=MLPClassifier().fit(X_scaled, y_train)\n",
        "y_pred_networks=mlpc.predict(test_scaled)\n",
        "print(accuracy_score(y_test, y_pred_networks)*100)\n",
        "print(\"F-score\",classification_report(y_test, y_pred_networks))"
      ]
    },
    {
      "cell_type": "code",
      "execution_count": null,
      "metadata": {},
      "outputs": [],
      "source": [
        "x_train, x_test, y_train, y_test = train_test_split(x, y, test_size = 0.2,random_state=42)\n",
        "svc=svm.SVC()\n",
        "model_svc= svc.fit(x_train, y_train)\n",
        "y_pred_svc= model_svc.predict(x_test)\n",
        "print(accuracy_score(y_test, y_pred_svc)*100)\n",
        "print(\"F-score\",classification_report(y_test, y_pred_svc))\n"
      ]
    },
    {
      "cell_type": "code",
      "execution_count": null,
      "metadata": {},
      "outputs": [],
      "source": [
        "x_train, x_test, y_train, y_test = train_test_split(x, y, test_size = 0.2,random_state=42)\n",
        "regressor =RandomForestClassifier()\n",
        "model_rf =regressor.fit(x_train,y_train)\n",
        "y_pred_rf= model_rf.predict(x_test)\n",
        "print(accuracy_score(y_test, y_pred_rf)*100)\n",
        "print(\"F-score\",classification_report(y_test, y_pred_rf))\n"
      ]
    },
    {
      "attachments": {},
      "cell_type": "markdown",
      "metadata": {},
      "source": [
        "# Conscientiousness"
      ]
    },
    {
      "attachments": {},
      "cell_type": "markdown",
      "metadata": {},
      "source": [
        "select predicted column and drop other"
      ]
    },
    {
      "cell_type": "code",
      "execution_count": null,
      "metadata": {},
      "outputs": [],
      "source": [
        "Cons_data= New_factors\n",
        "Cons_data = Cons_data.drop([\"Agreeableness\",\"Extraversion\",\"Neuroticism\",\"Openness\"],axis=1)\n",
        "y=Cons_data['Conscientiousness'].values\n",
        "x=Cons_data[Cons_data.columns[:6]].values\n",
        "x_train, x_test, y_train, y_test = train_test_split(x, y, test_size = 0.2,random_state=42)\n"
      ]
    },
    {
      "attachments": {},
      "cell_type": "markdown",
      "metadata": {},
      "source": [
        "ML models"
      ]
    },
    {
      "cell_type": "code",
      "execution_count": null,
      "metadata": {},
      "outputs": [],
      "source": [
        "tree=DecisionTreeClassifier()\n",
        "tree_model=tree.fit(x_train, y_train)\n",
        "y_pred_tree=tree_model.predict(x_test)\n",
        "print(accuracy_score(y_test, y_pred_tree)*100)\n",
        "\n",
        "print(\"F-score\",classification_report(y_test, y_pred_tree))"
      ]
    },
    {
      "cell_type": "code",
      "execution_count": null,
      "metadata": {},
      "outputs": [],
      "source": [
        "x_train, x_test, y_train, y_test = train_test_split(x, y, test_size = 0.2,random_state=42)\n",
        "\n",
        "knn=KNeighborsClassifier(n_neighbors=4, algorithm='kd_tree')\n",
        "knn_model=knn.fit(x_train, y_train)\n",
        "print(knn_model.score(x_train,y_train)*100)\n",
        "\n",
        "y_pred_KNN= knn_model.predict(x_test)\n",
        "\n",
        "print (\"acc of KNN % \",accuracy_score(y_test, y_pred_KNN)*100)\n",
        "print(\"F-score\",classification_report(y_test, y_pred_KNN))"
      ]
    },
    {
      "cell_type": "code",
      "execution_count": null,
      "metadata": {},
      "outputs": [],
      "source": [
        "cross_check = pd.DataFrame({'Actual' : y_test, 'Predicted': y_pred_KNN})\n",
        "cross_check"
      ]
    },
    {
      "cell_type": "code",
      "execution_count": null,
      "metadata": {},
      "outputs": [],
      "source": [
        "from sklearn.metrics import confusion_matrix\n",
        "\n",
        "m_c = confusion_matrix(y_test, y_pred_KNN)\n",
        "plt.figure(figsize=(5, 4))\n",
        "sns.heatmap(m_c, annot=True, cmap=\"Reds\", fmt=\"d\").set(xlabel=\"Predict\", ylabel=\"Real\")"
      ]
    },
    {
      "cell_type": "code",
      "execution_count": null,
      "metadata": {},
      "outputs": [],
      "source": [
        "x_train, x_test, y_train, y_test = train_test_split(x, y, test_size = 0.2,random_state=42)\n",
        "scaler=StandardScaler()\n",
        "scaler.fit(x_train)\n",
        "X_scaled=scaler.transform(x_train)\n",
        "test_scaled=scaler.transform(x_test)\n",
        "mlpc=MLPClassifier().fit(X_scaled, y_train)\n",
        "y_pred_networks=mlpc.predict(test_scaled)\n",
        "print(accuracy_score(y_test, y_pred_networks)*100)\n",
        "print(\"F-score\",classification_report(y_test, y_pred_networks))"
      ]
    },
    {
      "cell_type": "code",
      "execution_count": null,
      "metadata": {},
      "outputs": [],
      "source": [
        "x_train, x_test, y_train, y_test = train_test_split(x, y, test_size = 0.2,random_state=42)\n",
        "svc=svm.SVC()\n",
        "model_svc= svc.fit(x_train, y_train)\n",
        "y_pred_svc= model_svc.predict(x_test)\n",
        "print(accuracy_score(y_test, y_pred_svc)*100)\n",
        "print(\"F-score\",classification_report(y_test, y_pred_svc))\n"
      ]
    },
    {
      "cell_type": "code",
      "execution_count": null,
      "metadata": {},
      "outputs": [],
      "source": [
        "x_train, x_test, y_train, y_test = train_test_split(x, y, test_size = 0.2,random_state=42)\n",
        "regressor =RandomForestClassifier()\n",
        "model_rf =regressor.fit(x_train,y_train)\n",
        "y_pred_rf= model_rf.predict(x_test)\n",
        "print(accuracy_score(y_test, y_pred_rf)*100)\n",
        "print(\"F-score\",classification_report(y_test, y_pred_rf))\n"
      ]
    },
    {
      "attachments": {},
      "cell_type": "markdown",
      "metadata": {},
      "source": [
        "# Neuroticism"
      ]
    },
    {
      "attachments": {},
      "cell_type": "markdown",
      "metadata": {},
      "source": [
        "select predicted column and drop other"
      ]
    },
    {
      "cell_type": "code",
      "execution_count": null,
      "metadata": {},
      "outputs": [],
      "source": [
        "Neur_data= New_factors\n",
        "Neur_data = Neur_data.drop([\"Agreeableness\",\"Conscientiousness\",\"Extraversion\",\"Openness\"],axis=1)\n",
        "y=Neur_data['Neuroticism'].values\n",
        "x=Neur_data[Neur_data.columns[:6]].values\n",
        "x_train, x_test, y_train, y_test = train_test_split(x, y, test_size = 0.2,random_state=42)\n"
      ]
    },
    {
      "cell_type": "code",
      "execution_count": null,
      "metadata": {},
      "outputs": [],
      "source": [
        "tree=DecisionTreeClassifier()\n",
        "tree_model=tree.fit(x_train, y_train)\n",
        "y_pred_tree=tree_model.predict(x_test)\n",
        "print(accuracy_score(y_test, y_pred_tree)*100)\n",
        "print(\"F-score\",classification_report(y_test, y_pred_tree))"
      ]
    },
    {
      "cell_type": "code",
      "execution_count": null,
      "metadata": {},
      "outputs": [],
      "source": [
        "x_train, x_test, y_train, y_test = train_test_split(x, y, test_size = 0.2,random_state=42)\n",
        "knn=KNeighborsClassifier(n_neighbors=4, algorithm='kd_tree')\n",
        "knn_model=knn.fit(x_train, y_train)\n",
        "print(knn_model.score(x_train,y_train)*100)\n",
        "\n",
        "y_pred_KNN = knn_model.predict(x_test)\n",
        "\n",
        "\n",
        "print (\"acc of KNN % \",accuracy_score(y_test, y_pred_KNN)*100)\n",
        "print(\"F-score\",classification_report(y_test, y_pred_KNN))"
      ]
    },
    {
      "cell_type": "code",
      "execution_count": null,
      "metadata": {},
      "outputs": [],
      "source": [
        "cross_check = pd.DataFrame({'Actual' : y_test, 'Predicted': y_pred_KNN})\n",
        "cross_check"
      ]
    },
    {
      "cell_type": "code",
      "execution_count": null,
      "metadata": {},
      "outputs": [],
      "source": [
        "from sklearn.metrics import confusion_matrix\n",
        "\n",
        "m_c = confusion_matrix(y_test, y_pred_KNN)\n",
        "plt.figure(figsize=(5, 4))\n",
        "sns.heatmap(m_c, annot=True, cmap=\"Reds\", fmt=\"d\").set(xlabel=\"Predict\", ylabel=\"Actual\")"
      ]
    },
    {
      "cell_type": "code",
      "execution_count": null,
      "metadata": {},
      "outputs": [],
      "source": [
        "x_train, x_test, y_train, y_test = train_test_split(x, y, test_size = 0.2,random_state=42)\n",
        "scaler=StandardScaler()\n",
        "scaler.fit(x_train)\n",
        "X_scaled=scaler.transform(x_train)\n",
        "test_scaled=scaler.transform(x_test)\n",
        "mlpc=MLPClassifier().fit(X_scaled, y_train)\n",
        "y_pred_networks=mlpc.predict(test_scaled)\n",
        "print(accuracy_score(y_test, y_pred_networks)*100)\n",
        "print(\"F-score\",classification_report(y_test, y_pred_networks))"
      ]
    },
    {
      "cell_type": "code",
      "execution_count": null,
      "metadata": {},
      "outputs": [],
      "source": [
        "x_train, x_test, y_train, y_test = train_test_split(x, y, test_size = 0.2,random_state=42)\n",
        "svc=svm.SVC()\n",
        "model_svc= svc.fit(x_train, y_train)\n",
        "y_pred_svc= model_svc.predict(x_test)\n",
        "print(accuracy_score(y_test, y_pred_svc)*100)\n",
        "print(\"F-score\",classification_report(y_test, y_pred_svc))\n"
      ]
    },
    {
      "cell_type": "code",
      "execution_count": null,
      "metadata": {},
      "outputs": [],
      "source": [
        "x_train, x_test, y_train, y_test = train_test_split(x, y, test_size = 0.2,random_state=42)\n",
        "regressor =RandomForestClassifier()\n",
        "model_rf =regressor.fit(x_train,y_train)\n",
        "y_pred_rf= model_rf.predict(x_test)\n",
        "print(accuracy_score(y_test, y_pred_rf)*100)\n",
        "print(\"F-score\",classification_report(y_test, y_pred_rf))\n"
      ]
    },
    {
      "attachments": {},
      "cell_type": "markdown",
      "metadata": {},
      "source": [
        "# Openness"
      ]
    },
    {
      "attachments": {},
      "cell_type": "markdown",
      "metadata": {},
      "source": [
        "select predicted column and drop other"
      ]
    },
    {
      "cell_type": "code",
      "execution_count": null,
      "metadata": {},
      "outputs": [],
      "source": [
        "open_d = New_factors\n",
        "open_d = open_d.drop([\"Agreeableness\",\"Conscientiousness\",\"Neuroticism\",\"Extraversion\"],axis=1)\n",
        "\n",
        "y=open_data['Openness'].values\n",
        "x=open_data[open_data.columns[:6]].values\n",
        "x_train, x_test, y_train, y_test = train_test_split(x, y, test_size = 0.2,random_state=42)\n"
      ]
    },
    {
      "cell_type": "code",
      "execution_count": null,
      "metadata": {},
      "outputs": [],
      "source": [
        "tree=DecisionTreeClassifier()\n",
        "tree_model=tree.fit(x_train, y_train)\n",
        "y_pred_tree=tree_model.predict(x_test)\n",
        "print(accuracy_score(y_test, y_pred_tree)*100)\n",
        "\n",
        "# print(\"F-score\",f1_score(y_test, y_pred_tree)) \n",
        "print(\"F-score\",classification_report(y_test, y_pred_tree))\n"
      ]
    },
    {
      "cell_type": "code",
      "execution_count": null,
      "metadata": {},
      "outputs": [],
      "source": [
        "y=open_data['Openness'].values\n",
        "x=open_data[open_data.columns[:6]].values\n",
        "x_train, x_test, y_train, y_test = train_test_split(x, y, test_size = 0.2,random_state=42)\n",
        "\n",
        "knn=KNeighborsClassifier(n_neighbors=4, algorithm='kd_tree')\n",
        "knn_model=knn.fit(x_train, y_train)\n",
        "print(knn_model.score(x_train,y_train)*100)\n",
        "y_pred_KNN= knn_model.predict(x_test)\n",
        "print (\"acc of KNN % \",accuracy_score(y_test, y_pred_KNN)*100)\n",
        "print(\"F-score\",classification_report(y_test, y_pred_KNN))\n"
      ]
    },
    {
      "cell_type": "code",
      "execution_count": null,
      "metadata": {},
      "outputs": [],
      "source": [
        "cross_check = pd.DataFrame({'Actual' : y_test, 'Predicted': y_pred_KNN})\n",
        "cross_check"
      ]
    },
    {
      "cell_type": "code",
      "execution_count": null,
      "metadata": {},
      "outputs": [],
      "source": [
        "from sklearn.metrics import confusion_matrix\n",
        "\n",
        "m_c = confusion_matrix(y_test, y_pred_KNN)\n",
        "plt.figure(figsize=(5, 4))\n",
        "sns.heatmap(m_c, annot=True, cmap=\"Reds\", fmt=\"d\").set(xlabel=\"Predict\", ylabel=\"Real\")"
      ]
    },
    {
      "cell_type": "code",
      "execution_count": null,
      "metadata": {},
      "outputs": [],
      "source": [
        "y=open_data['Openness'].values\n",
        "x=open_data[open_data.columns[:6]].values\n",
        "x_train, x_test, y_train, y_test = train_test_split(x, y, test_size = 0.2,random_state=42)\n",
        "scaler=StandardScaler()\n",
        "scaler.fit(x_train)\n",
        "X_scaled=scaler.transform(x_train)\n",
        "test_scaled=scaler.transform(x_test)\n",
        "mlpc=MLPClassifier().fit(X_scaled, y_train)\n",
        "y_pred_networks=mlpc.predict(test_scaled)\n",
        "print(accuracy_score(y_test, y_pred_networks)*100)\n",
        "print(\"F-score\",classification_report(y_test, y_pred_networks))\n"
      ]
    },
    {
      "cell_type": "code",
      "execution_count": null,
      "metadata": {},
      "outputs": [],
      "source": [
        "x_train, x_test, y_train, y_test = train_test_split(x, y, test_size = 0.2,random_state=42)\n",
        "svc=svm.SVC()\n",
        "model_svc= svc.fit(x_train, y_train)\n",
        "y_pred_svc= model_svc.predict(x_test)\n",
        "print(accuracy_score(y_test, y_pred_svc)*100)\n",
        "print(\"F-score\",classification_report(y_test, y_pred_svc))\n"
      ]
    },
    {
      "cell_type": "code",
      "execution_count": null,
      "metadata": {},
      "outputs": [],
      "source": [
        "x_train, x_test, y_train, y_test = train_test_split(x, y, test_size = 0.2,random_state=42)\n",
        "regressor =RandomForestClassifier()\n",
        "model_rf =regressor.fit(x_train,y_train)\n",
        "y_pred_rf= model_rf.predict(x_test)\n",
        "print(accuracy_score(y_test, y_pred_rf)*100)\n",
        "print(\"F-score\",classification_report(y_test, y_pred_rf))\n"
      ]
    },
    {
      "attachments": {},
      "cell_type": "markdown",
      "metadata": {},
      "source": [
        "# All interfaces per model using KNN"
      ]
    },
    {
      "cell_type": "code",
      "execution_count": null,
      "metadata": {},
      "outputs": [],
      "source": [
        "All_interfaces= data\n",
        "All_interfaces= All_interfaces.drop([\"Id\",\"Name\",\"Gender\",\"Field\",\"Occupation\",\"Age\",\"Top_1\",\"Top_2\",\"Top_3\"], axis=1)\n",
        "All_interfaces.head(3)"
      ]
    },
    {
      "cell_type": "code",
      "execution_count": null,
      "metadata": {},
      "outputs": [],
      "source": [
        "x = All_interfaces[All_interfaces.columns[0:19]]\n",
        "y= All_interfaces.iloc[:,-5]\n",
        "X = x.values\n",
        "Y= y.values\n",
        "\n",
        "x_train, x_test, y_train, y_test = train_test_split(X, Y, test_size = 0.2,random_state=42)\n",
        "\n",
        "knn=KNeighborsClassifier(n_neighbors=3, algorithm='kd_tree')\n",
        "knn_model=knn.fit(x_train, y_train)\n",
        "print(knn_model.score(x_train,y_train)*100)\n",
        "y_pred_KNN= knn_model.predict(x_test)\n",
        "print (\"acc of KNN % \",accuracy_score(y_test, y_pred_KNN)*100)\n",
        "r=classification_report(y_test, y_pred_KNN)\n",
        "print(\"F-score\",r)\n"
      ]
    },
    {
      "cell_type": "code",
      "execution_count": null,
      "metadata": {},
      "outputs": [],
      "source": [
        "from sklearn.metrics import f1_score\n",
        "\n",
        "# calculate F1 score\n",
        "f1 = f1_score(y_test, y_pred_KNN,average='weighted')\n",
        "\n",
        "print(\"F1 score:\", f1)"
      ]
    },
    {
      "cell_type": "code",
      "execution_count": null,
      "metadata": {},
      "outputs": [],
      "source": [
        "x_train, x_test, y_train, y_test = train_test_split(X, Y, test_size = 0.2,random_state=0)\n",
        "regressor =RandomForestClassifier()\n",
        "model_rf =regressor.fit(x_train,y_train)\n",
        "y_pred_rf= model_rf.predict(x_test)\n",
        "print(accuracy_score(y_test, y_pred_rf)*100)\n",
        "print(\"F-score\",classification_report(y_test, y_pred_rf))\n"
      ]
    },
    {
      "cell_type": "code",
      "execution_count": null,
      "metadata": {},
      "outputs": [],
      "source": [
        "from sklearn.metrics import f1_score\n",
        "\n",
        "# calculate F1 score\n",
        "f1 = f1_score(y_test, y_pred_rf,average='weighted')\n",
        "\n",
        "print(\"F1 score:\", f1)"
      ]
    },
    {
      "cell_type": "code",
      "execution_count": null,
      "metadata": {},
      "outputs": [],
      "source": [
        "x_train, x_test, y_train, y_test = train_test_split(X, Y, test_size = 0.2,random_state=0)\n",
        "svc=svm.SVC()\n",
        "model_svc= svc.fit(x_train, y_train)\n",
        "y_pred_svc= model_svc.predict(x_test)\n",
        "print(accuracy_score(y_test, y_pred_svc)*100)\n",
        "print(\"F-score\",classification_report(y_test, y_pred_svc))\n"
      ]
    },
    {
      "cell_type": "code",
      "execution_count": null,
      "metadata": {},
      "outputs": [],
      "source": [
        "# agree\n",
        "x = All_interfaces[All_interfaces.columns[0:19]]\n",
        "y= All_interfaces.iloc[:,-4]\n",
        "X = x.values\n",
        "Y= y.values\n",
        "\n",
        "x_train, x_test, y_train, y_test = train_test_split(X, Y, test_size = 0.2,random_state=42)\n",
        "\n",
        "knn=KNeighborsClassifier(n_neighbors=3, algorithm='kd_tree')\n",
        "knn_model=knn.fit(x_train, y_train)\n",
        "print(knn_model.score(x_train,y_train)*100)\n",
        "y_pred_KNN= knn_model.predict(x_test)\n",
        "print (\"acc of KNN % \",accuracy_score(y_test, y_pred_KNN)*100)\n",
        "print(\"F-score\",classification_report(y_test, y_pred_KNN))\n"
      ]
    },
    {
      "cell_type": "code",
      "execution_count": null,
      "metadata": {},
      "outputs": [],
      "source": [
        "x_train, x_test, y_train, y_test = train_test_split(X, Y, test_size = 0.2,random_state=0)\n",
        "regressor =RandomForestClassifier()\n",
        "model_rf =regressor.fit(x_train,y_train)\n",
        "y_pred_rf= model_rf.predict(x_test)\n",
        "print(accuracy_score(y_test, y_pred_rf)*100)\n",
        "print(\"F-score\",classification_report(y_test, y_pred_rf))\n"
      ]
    },
    {
      "cell_type": "code",
      "execution_count": null,
      "metadata": {},
      "outputs": [],
      "source": [
        "x_train, x_test, y_train, y_test = train_test_split(X, Y, test_size = 0.2,random_state=0)\n",
        "svc=svm.SVC()\n",
        "model_svc= svc.fit(x_train, y_train)\n",
        "y_pred_svc= model_svc.predict(x_test)\n",
        "print(accuracy_score(y_test, y_pred_svc)*100)\n",
        "print(\"F-score\",classification_report(y_test, y_pred_svc))\n"
      ]
    },
    {
      "cell_type": "code",
      "execution_count": null,
      "metadata": {},
      "outputs": [],
      "source": [
        "# cons\n",
        "x = All_interfaces[All_interfaces.columns[0:19]]\n",
        "y= All_interfaces.iloc[:,-3]\n",
        "X = x.values\n",
        "Y= y.values\n",
        "\n",
        "x_train, x_test, y_train, y_test = train_test_split(X, Y, test_size = 0.2,random_state=42)\n",
        "\n",
        "knn=KNeighborsClassifier(n_neighbors=3, algorithm='kd_tree')\n",
        "knn_model=knn.fit(x_train, y_train)\n",
        "print(knn_model.score(x_train,y_train)*100)\n",
        "y_pred_KNN= knn_model.predict(x_test)\n",
        "print (\"acc of KNN % \",accuracy_score(y_test, y_pred_KNN)*100)\n",
        "print(\"F-score\",classification_report(y_test, y_pred_KNN))"
      ]
    },
    {
      "cell_type": "code",
      "execution_count": null,
      "metadata": {},
      "outputs": [],
      "source": [
        "x_train, x_test, y_train, y_test = train_test_split(X, Y, test_size = 0.2,random_state=0)\n",
        "regressor =RandomForestClassifier()\n",
        "model_rf =regressor.fit(x_train,y_train)\n",
        "y_pred_rf= model_rf.predict(x_test)\n",
        "print(accuracy_score(y_test, y_pred_rf)*100)\n",
        "print(\"F-score\",classification_report(y_test, y_pred_rf))\n"
      ]
    },
    {
      "cell_type": "code",
      "execution_count": null,
      "metadata": {},
      "outputs": [],
      "source": [
        "x_train, x_test, y_train, y_test = train_test_split(X, Y, test_size = 0.2,random_state=0)\n",
        "svc=svm.SVC()\n",
        "model_svc= svc.fit(x_train, y_train)\n",
        "y_pred_svc= model_svc.predict(x_test)\n",
        "print(accuracy_score(y_test, y_pred_svc)*100)\n",
        "print(\"F-score\",classification_report(y_test, y_pred_svc))\n"
      ]
    },
    {
      "cell_type": "code",
      "execution_count": null,
      "metadata": {},
      "outputs": [],
      "source": [
        "# neuro\n",
        "x = All_interfaces[All_interfaces.columns[0:19]]\n",
        "y= All_interfaces.iloc[:,-2]\n",
        "X = x.values\n",
        "Y= y.values\n",
        "\n",
        "x_train, x_test, y_train, y_test = train_test_split(X, Y, test_size = 0.2,random_state=0)\n",
        "\n",
        "knn=KNeighborsClassifier(n_neighbors=3, algorithm='kd_tree')\n",
        "knn_model=knn.fit(x_train, y_train)\n",
        "print(knn_model.score(x_train,y_train)*100)\n",
        "y_pred_KNN= knn_model.predict(x_test)\n",
        "print (\"acc of KNN % \",accuracy_score(y_test, y_pred_KNN)*100)\n",
        "print(\"F-score\",classification_report(y_test, y_pred_KNN))"
      ]
    },
    {
      "cell_type": "code",
      "execution_count": null,
      "metadata": {},
      "outputs": [],
      "source": [
        "x_train, x_test, y_train, y_test = train_test_split(X, Y, test_size = 0.2,random_state=0)\n",
        "regressor =RandomForestClassifier()\n",
        "model_rf =regressor.fit(x_train,y_train)\n",
        "y_pred_rf= model_rf.predict(x_test)\n",
        "print(accuracy_score(y_test, y_pred_rf)*100)\n",
        "print(\"F-score\",classification_report(y_test, y_pred_rf))\n"
      ]
    },
    {
      "cell_type": "code",
      "execution_count": null,
      "metadata": {},
      "outputs": [],
      "source": [
        "x_train, x_test, y_train, y_test = train_test_split(X, Y, test_size = 0.2,random_state=0)\n",
        "svc=svm.SVC()\n",
        "model_svc= svc.fit(x_train, y_train)\n",
        "y_pred_svc= model_svc.predict(x_test)\n",
        "print(accuracy_score(y_test, y_pred_svc)*100)\n",
        "print(\"F-score\",classification_report(y_test, y_pred_svc))\n"
      ]
    },
    {
      "cell_type": "code",
      "execution_count": null,
      "metadata": {},
      "outputs": [],
      "source": [
        "# cons\n",
        "x = All_interfaces[All_interfaces.columns[0:19]]\n",
        "y= All_interfaces.iloc[:,-1]\n",
        "X = x.values\n",
        "Y= y.values\n",
        "\n",
        "x_train, x_test, y_train, y_test = train_test_split(X, Y, test_size = 0.2,random_state=0)\n",
        "\n",
        "knn=KNeighborsClassifier(n_neighbors=3, algorithm='kd_tree')\n",
        "knn_model=knn.fit(x_train, y_train)\n",
        "print(knn_model.score(x_train,y_train)*100)\n",
        "y_pred_KNN= knn_model.predict(x_test)\n",
        "print (\"acc of KNN % \",accuracy_score(y_test, y_pred_KNN)*100)\n",
        "print(\"F-score\",classification_report(y_test, y_pred_KNN))"
      ]
    },
    {
      "cell_type": "code",
      "execution_count": null,
      "metadata": {},
      "outputs": [],
      "source": [
        "x_train, x_test, y_train, y_test = train_test_split(X, Y, test_size = 0.2,random_state=0)\n",
        "svc=svm.SVC()\n",
        "model_svc= svc.fit(x_train, y_train)\n",
        "y_pred_svc= model_svc.predict(x_test)\n",
        "print(accuracy_score(y_test, y_pred_svc)*100)\n",
        "print(\"F-score\",classification_report(y_test, y_pred_svc))\n"
      ]
    },
    {
      "cell_type": "code",
      "execution_count": null,
      "metadata": {},
      "outputs": [],
      "source": [
        "x_train, x_test, y_train, y_test = train_test_split(X, Y, test_size = 0.2,random_state=0)\n",
        "regressor =RandomForestClassifier()\n",
        "model_rf =regressor.fit(x_train,y_train)\n",
        "y_pred_rf= model_rf.predict(x_test)\n",
        "print(accuracy_score(y_test, y_pred_rf)*100)\n",
        "print(\"F-score\",classification_report(y_test, y_pred_rf))\n"
      ]
    },
    {
      "attachments": {},
      "cell_type": "markdown",
      "metadata": {},
      "source": [
        "# Vector\n",
        "of interfaces 1 or zero per model "
      ]
    },
    {
      "cell_type": "code",
      "execution_count": null,
      "metadata": {},
      "outputs": [],
      "source": [
        "All_per_one =  data\n",
        "All_per_one= All_per_one.drop([\"Id\",\"Name\",\"Gender\",\"Field\",\"Occupation\",\"Age\",\"Top_1\",\"Top_2\",\"Top_3\"], axis=1)\n",
        "All_per_one.head(3)"
      ]
    },
    {
      "cell_type": "code",
      "execution_count": null,
      "metadata": {},
      "outputs": [],
      "source": [
        "def convert_values(column):\n",
        "    return column.apply(lambda x: 1 if x >= 6 else 0)\n",
        "\n",
        "for column in data_1.columns:\n",
        "    data_1[column] = convert_values(data_1[column])\n"
      ]
    },
    {
      "cell_type": "code",
      "execution_count": null,
      "metadata": {},
      "outputs": [],
      "source": [
        "data_1.head(2)"
      ]
    },
    {
      "cell_type": "code",
      "execution_count": null,
      "metadata": {},
      "outputs": [],
      "source": [
        "#extra\n",
        "x = data_1[data_1.columns[0:19]]\n",
        "y= All_interfaces.iloc[:,-5]\n",
        "X = x.values\n",
        "Y= y.values\n",
        "\n",
        "x_train, x_test, y_train, y_test = train_test_split(X, Y, test_size = 0.2,random_state=0)\n",
        "\n",
        "knn=KNeighborsClassifier(n_neighbors=3, algorithm='kd_tree')\n",
        "knn_model=knn.fit(x_train, y_train)\n",
        "print(knn_model.score(x_train,y_train)*100)\n",
        "y_pred_KNN= knn_model.predict(x_test)\n",
        "print (\"acc of KNN % \",accuracy_score(y_test, y_pred_KNN)*100)\n",
        "print(\"F-score\",classification_report(y_test, y_pred_KNN))"
      ]
    },
    {
      "cell_type": "code",
      "execution_count": null,
      "metadata": {},
      "outputs": [],
      "source": [
        "x_train, x_test, y_train, y_test = train_test_split(X, Y, test_size = 0.2,random_state=0)\n",
        "regressor =RandomForestClassifier()\n",
        "model_rf =regressor.fit(x_train,y_train)\n",
        "y_pred_rf= model_rf.predict(x_test)\n",
        "print(accuracy_score(y_test, y_pred_rf)*100)\n",
        "print(\"F-score\",classification_report(y_test, y_pred_rf))"
      ]
    },
    {
      "cell_type": "code",
      "execution_count": null,
      "metadata": {},
      "outputs": [],
      "source": [
        "x_train, x_test, y_train, y_test = train_test_split(X, Y, test_size = 0.2,random_state=0)\n",
        "svc=svm.SVC()\n",
        "model_svc= svc.fit(x_train, y_train)\n",
        "y_pred_svc= model_svc.predict(x_test)\n",
        "print(accuracy_score(y_test, y_pred_svc)*100)\n",
        "print(\"F-score\",classification_report(y_test, y_pred_svc))\n"
      ]
    },
    {
      "cell_type": "code",
      "execution_count": null,
      "metadata": {},
      "outputs": [],
      "source": [
        "# agree\n",
        "x = data_1[data_1.columns[0:19]]\n",
        "y= All_interfaces.iloc[:,-4]\n",
        "X = x.values\n",
        "Y= y.values\n",
        "\n",
        "x_train, x_test, y_train, y_test = train_test_split(X, Y, test_size = 0.2,random_state=0)\n",
        "\n",
        "knn=KNeighborsClassifier(n_neighbors=3, algorithm='kd_tree')\n",
        "knn_model=knn.fit(x_train, y_train)\n",
        "print(knn_model.score(x_train,y_train)*100)\n",
        "y_pred_KNN= knn_model.predict(x_test)\n",
        "print (\"acc of KNN % \",accuracy_score(y_test, y_pred_KNN)*100)\n",
        "print(\"F-score\",classification_report(y_test, y_pred_KNN))\n"
      ]
    },
    {
      "cell_type": "code",
      "execution_count": null,
      "metadata": {},
      "outputs": [],
      "source": [
        "x_train, x_test, y_train, y_test = train_test_split(X, Y, test_size = 0.2,random_state=0)\n",
        "regressor =RandomForestClassifier()\n",
        "model_rf =regressor.fit(x_train,y_train)\n",
        "y_pred_rf= model_rf.predict(x_test)\n",
        "print(accuracy_score(y_test, y_pred_rf)*100)\n",
        "print(\"F-score\",classification_report(y_test, y_pred_rf))"
      ]
    },
    {
      "cell_type": "code",
      "execution_count": null,
      "metadata": {},
      "outputs": [],
      "source": [
        "x_train, x_test, y_train, y_test = train_test_split(X, Y, test_size = 0.2,random_state=42)\n",
        "svc=svm.SVC()\n",
        "model_svc= svc.fit(x_train, y_train)\n",
        "y_pred_svc= model_svc.predict(x_test)\n",
        "print(accuracy_score(y_test, y_pred_svc)*100)\n",
        "print(\"F-score\",classification_report(y_test, y_pred_svc))\n"
      ]
    },
    {
      "cell_type": "code",
      "execution_count": null,
      "metadata": {},
      "outputs": [],
      "source": [
        "# cons\n",
        "x = data_1[data_1.columns[0:19]]\n",
        "y= All_interfaces.iloc[:,-3]\n",
        "X = x.values\n",
        "Y= y.values\n",
        "\n",
        "x_train, x_test, y_train, y_test = train_test_split(X, Y, test_size = 0.2,random_state=0)\n",
        "\n",
        "knn=KNeighborsClassifier(n_neighbors=3, algorithm='kd_tree')\n",
        "knn_model=knn.fit(x_train, y_train)\n",
        "print(knn_model.score(x_train,y_train)*100)\n",
        "y_pred_KNN= knn_model.predict(x_test)\n",
        "print (\"acc of KNN % \",accuracy_score(y_test, y_pred_KNN)*100)\n",
        "print(\"F-score\",classification_report(y_test, y_pred_KNN))"
      ]
    },
    {
      "cell_type": "code",
      "execution_count": null,
      "metadata": {},
      "outputs": [],
      "source": [
        "x_train, x_test, y_train, y_test = train_test_split(X, Y, test_size = 0.2,random_state=0)\n",
        "regressor =RandomForestClassifier()\n",
        "model_rf =regressor.fit(x_train,y_train)\n",
        "y_pred_rf= model_rf.predict(x_test)\n",
        "print(accuracy_score(y_test, y_pred_rf)*100)\n",
        "print(\"F-score\",classification_report(y_test, y_pred_rf))"
      ]
    },
    {
      "cell_type": "code",
      "execution_count": null,
      "metadata": {},
      "outputs": [],
      "source": [
        "x_train, x_test, y_train, y_test = train_test_split(X, Y, test_size = 0.2,random_state=0)\n",
        "svc=svm.SVC()\n",
        "model_svc= svc.fit(x_train, y_train)\n",
        "y_pred_svc= model_svc.predict(x_test)\n",
        "print(accuracy_score(y_test, y_pred_svc)*100)\n",
        "print(\"F-score\",classification_report(y_test, y_pred_svc))\n"
      ]
    },
    {
      "cell_type": "code",
      "execution_count": null,
      "metadata": {},
      "outputs": [],
      "source": [
        "# neuro\n",
        "x = data_1[data_1.columns[0:19]]\n",
        "y= All_interfaces.iloc[:,-2]\n",
        "X = x.values\n",
        "Y= y.values\n",
        "\n",
        "x_train, x_test, y_train, y_test = train_test_split(X, Y, test_size = 0.2,random_state=42)\n",
        "\n",
        "knn=KNeighborsClassifier(n_neighbors=3, algorithm='kd_tree')\n",
        "knn_model=knn.fit(x_train, y_train)\n",
        "print(knn_model.score(x_train,y_train)*100)\n",
        "y_pred_KNN= knn_model.predict(x_test)\n",
        "print (\"acc of KNN % \",accuracy_score(y_test, y_pred_KNN)*100)\n",
        "print(\"F-score\",classification_report(y_test, y_pred_KNN))"
      ]
    },
    {
      "cell_type": "code",
      "execution_count": null,
      "metadata": {},
      "outputs": [],
      "source": [
        "x_train, x_test, y_train, y_test = train_test_split(X, Y, test_size = 0.2,random_state=0)\n",
        "regressor =RandomForestClassifier()\n",
        "model_rf =regressor.fit(x_train,y_train)\n",
        "y_pred_rf= model_rf.predict(x_test)\n",
        "print(accuracy_score(y_test, y_pred_rf)*100)\n",
        "print(\"F-score\",classification_report(y_test, y_pred_rf))"
      ]
    },
    {
      "cell_type": "code",
      "execution_count": null,
      "metadata": {},
      "outputs": [],
      "source": [
        "x_train, x_test, y_train, y_test = train_test_split(X, Y, test_size = 0.2,random_state=0)\n",
        "svc=svm.SVC()\n",
        "model_svc= svc.fit(x_train, y_train)\n",
        "y_pred_svc= model_svc.predict(x_test)\n",
        "print(accuracy_score(y_test, y_pred_svc)*100)\n",
        "print(\"F-score\",classification_report(y_test, y_pred_svc))\n"
      ]
    },
    {
      "cell_type": "code",
      "execution_count": null,
      "metadata": {},
      "outputs": [],
      "source": [
        "# cons\n",
        "x = data_1[data_1.columns[0:19]]\n",
        "y= All_interfaces.iloc[:,-1]\n",
        "X = x.values\n",
        "Y= y.values\n",
        "\n",
        "x_train, x_test, y_train, y_test = train_test_split(X, Y, test_size = 0.2,random_state=0)\n",
        "\n",
        "knn=KNeighborsClassifier(n_neighbors=3, algorithm='kd_tree')\n",
        "knn_model=knn.fit(x_train, y_train)\n",
        "print(knn_model.score(x_train,y_train)*100)\n",
        "y_pred_KNN= knn_model.predict(x_test)\n",
        "print (\"acc of KNN % \",accuracy_score(y_test, y_pred_KNN)*100)\n",
        "print(\"F-score\",classification_report(y_test, y_pred_KNN))"
      ]
    },
    {
      "cell_type": "code",
      "execution_count": null,
      "metadata": {},
      "outputs": [],
      "source": [
        "x_train, x_test, y_train, y_test = train_test_split(X, Y, test_size = 0.2,random_state=0)\n",
        "regressor =RandomForestClassifier()\n",
        "model_rf =regressor.fit(x_train,y_train)\n",
        "y_pred_rf= model_rf.predict(x_test)\n",
        "print(accuracy_score(y_test, y_pred_rf)*100)\n",
        "print(\"F-score\",classification_report(y_test, y_pred_rf))"
      ]
    },
    {
      "cell_type": "code",
      "execution_count": null,
      "metadata": {},
      "outputs": [],
      "source": [
        "x_train, x_test, y_train, y_test = train_test_split(X, Y, test_size = 0.2,random_state=0)\n",
        "svc=svm.SVC()\n",
        "model_svc= svc.fit(x_train, y_train)\n",
        "y_pred_svc= model_svc.predict(x_test)\n",
        "print(accuracy_score(y_test, y_pred_svc)*100)\n",
        "print(\"F-score\",classification_report(y_test, y_pred_svc))\n"
      ]
    },
    {
      "attachments": {},
      "cell_type": "markdown",
      "metadata": {},
      "source": [
        "# highest 4 and lowest 4 one and zero vs 5 models\n"
      ]
    },
    {
      "cell_type": "code",
      "execution_count": null,
      "metadata": {},
      "outputs": [],
      "source": [
        "for column in selected_interfaces[selected_interfaces.columns[0:8]]:\n",
        "    selected_interfaces[column] = convert_values(selected_interfaces[column])"
      ]
    },
    {
      "cell_type": "code",
      "execution_count": null,
      "metadata": {},
      "outputs": [],
      "source": [
        "#extra\n",
        "x = selected_interfaces[selected_interfaces.columns[:8]]\n",
        "y= selected_interfaces.iloc[:,-5]\n",
        "X = x.values\n",
        "Y= y.values\n",
        "\n",
        "x_train, x_test, y_train, y_test = train_test_split(X, Y, test_size = 0.2,random_state=42)\n",
        "\n",
        "knn=KNeighborsClassifier(n_neighbors=3, algorithm='kd_tree')\n",
        "knn_model=knn.fit(x_train, y_train)\n",
        "print(knn_model.score(x_train,y_train)*100)\n",
        "y_pred_KNN= knn_model.predict(x_test)\n",
        "print (\"acc of KNN % \",accuracy_score(y_test, y_pred_KNN)*100)\n",
        "print(\"F-score\",classification_report(y_test, y_pred_KNN))"
      ]
    },
    {
      "cell_type": "code",
      "execution_count": null,
      "metadata": {},
      "outputs": [],
      "source": [
        "x_train, x_test, y_train, y_test = train_test_split(X, Y, test_size = 0.2,random_state=0)\n",
        "regressor =RandomForestClassifier()\n",
        "model_rf =regressor.fit(x_train,y_train)\n",
        "y_pred_rf= model_rf.predict(x_test)\n",
        "print(accuracy_score(y_test, y_pred_rf)*100)\n",
        "print(\"F-score\",classification_report(y_test, y_pred_rf))\n"
      ]
    },
    {
      "cell_type": "code",
      "execution_count": null,
      "metadata": {},
      "outputs": [],
      "source": [
        "# agree\n",
        "x = selected_interfaces[selected_interfaces.columns[:8]]\n",
        "y= selected_interfaces.iloc[:,-4]\n",
        "X = x.values\n",
        "Y= y.values\n",
        "\n",
        "x_train, x_test, y_train, y_test = train_test_split(X, Y, test_size = 0.2,random_state=42)\n",
        "\n",
        "knn=KNeighborsClassifier(n_neighbors=3, algorithm='kd_tree')\n",
        "knn_model=knn.fit(x_train, y_train)\n",
        "print(knn_model.score(x_train,y_train)*100)\n",
        "y_pred_KNN= knn_model.predict(x_test)\n",
        "print (\"acc of KNN % \",accuracy_score(y_test, y_pred_KNN)*100)\n",
        "print(\"F-score\",classification_report(y_test, y_pred_KNN))\n"
      ]
    },
    {
      "cell_type": "code",
      "execution_count": null,
      "metadata": {},
      "outputs": [],
      "source": [
        "x_train, x_test, y_train, y_test = train_test_split(X, Y, test_size = 0.2,random_state=0)\n",
        "regressor =RandomForestClassifier()\n",
        "model_rf =regressor.fit(x_train,y_train)\n",
        "y_pred_rf= model_rf.predict(x_test)\n",
        "print(accuracy_score(y_test, y_pred_rf)*100)\n",
        "print(\"F-score\",classification_report(y_test, y_pred_rf))\n"
      ]
    },
    {
      "cell_type": "code",
      "execution_count": null,
      "metadata": {},
      "outputs": [],
      "source": [
        "# cons\n",
        "x = selected_interfaces[selected_interfaces.columns[:8]]\n",
        "y= selected_interfaces.iloc[:,-3]\n",
        "X = x.values\n",
        "Y= y.values\n",
        "\n",
        "x_train, x_test, y_train, y_test = train_test_split(X, Y, test_size = 0.2,random_state=42)\n",
        "\n",
        "knn=KNeighborsClassifier(n_neighbors=3, algorithm='kd_tree')\n",
        "knn_model=knn.fit(x_train, y_train)\n",
        "print(knn_model.score(x_train,y_train)*100)\n",
        "y_pred_KNN= knn_model.predict(x_test)\n",
        "print (\"acc of KNN % \",accuracy_score(y_test, y_pred_KNN)*100)\n",
        "print(\"F-score\",classification_report(y_test, y_pred_KNN))"
      ]
    },
    {
      "cell_type": "code",
      "execution_count": null,
      "metadata": {},
      "outputs": [],
      "source": [
        "x_train, x_test, y_train, y_test = train_test_split(X, Y, test_size = 0.2,random_state=0)\n",
        "regressor =RandomForestClassifier()\n",
        "model_rf =regressor.fit(x_train,y_train)\n",
        "y_pred_rf= model_rf.predict(x_test)\n",
        "print(accuracy_score(y_test, y_pred_rf)*100)\n",
        "print(\"F-score\",classification_report(y_test, y_pred_rf))\n"
      ]
    },
    {
      "cell_type": "code",
      "execution_count": null,
      "metadata": {},
      "outputs": [],
      "source": [
        "# neuro\n",
        "x =  selected_interfaces[selected_interfaces.columns[:8]]\n",
        "y= selected_interfaces.iloc[:,-2]\n",
        "X = x.values\n",
        "Y= y.values\n",
        "\n",
        "x_train, x_test, y_train, y_test = train_test_split(X, Y, test_size = 0.2,random_state=42)\n",
        "\n",
        "knn=KNeighborsClassifier(n_neighbors=3, algorithm='kd_tree')\n",
        "knn_model=knn.fit(x_train, y_train)\n",
        "print(knn_model.score(x_train,y_train)*100)\n",
        "y_pred_KNN= knn_model.predict(x_test)\n",
        "print (\"acc of KNN % \",accuracy_score(y_test, y_pred_KNN)*100)\n",
        "print(\"F-score\",classification_report(y_test, y_pred_KNN))"
      ]
    },
    {
      "cell_type": "code",
      "execution_count": null,
      "metadata": {},
      "outputs": [],
      "source": [
        "x_train, x_test, y_train, y_test = train_test_split(X, Y, test_size = 0.2,random_state=0)\n",
        "regressor =RandomForestClassifier()\n",
        "model_rf =regressor.fit(x_train,y_train)\n",
        "y_pred_rf= model_rf.predict(x_test)\n",
        "print(accuracy_score(y_test, y_pred_rf)*100)\n",
        "print(\"F-score\",classification_report(y_test, y_pred_rf))\n"
      ]
    },
    {
      "cell_type": "code",
      "execution_count": null,
      "metadata": {},
      "outputs": [],
      "source": [
        "# cons\n",
        "x =  selected_interfaces[selected_interfaces.columns[:8]]\n",
        "y= selected_interfaces.iloc[:,-1]\n",
        "X = x.values\n",
        "Y= y.values\n",
        "\n",
        "x_train, x_test, y_train, y_test = train_test_split(X, Y, test_size = 0.2,random_state=42)\n",
        "\n",
        "knn=KNeighborsClassifier(n_neighbors=3, algorithm='kd_tree')\n",
        "knn_model=knn.fit(x_train, y_train)\n",
        "print(knn_model.score(x_train,y_train)*100)\n",
        "y_pred_KNN= knn_model.predict(x_test)\n",
        "print (\"acc of KNN % \",accuracy_score(y_test, y_pred_KNN)*100)\n",
        "print(\"F-score\",classification_report(y_test, y_pred_KNN))"
      ]
    },
    {
      "cell_type": "code",
      "execution_count": null,
      "metadata": {},
      "outputs": [],
      "source": [
        "x_train, x_test, y_train, y_test = train_test_split(X, Y, test_size = 0.2,random_state=0)\n",
        "regressor =RandomForestClassifier()\n",
        "model_rf =regressor.fit(x_train,y_train)\n",
        "y_pred_rf= model_rf.predict(x_test)\n",
        "print(accuracy_score(y_test, y_pred_rf)*100)\n",
        "print(\"F-score\",classification_report(y_test, y_pred_rf))\n"
      ]
    },
    {
      "attachments": {},
      "cell_type": "markdown",
      "metadata": {},
      "source": [
        "# highest 3 and lowest 3 1 and 0 vs 5 models using KNN"
      ]
    },
    {
      "cell_type": "code",
      "execution_count": null,
      "metadata": {},
      "outputs": [],
      "source": [
        "for column in New_factors[New_factors.columns[0:6]]:\n",
        "    New_factors[column] = convert_values(New_factors[column])"
      ]
    },
    {
      "cell_type": "code",
      "execution_count": null,
      "metadata": {},
      "outputs": [],
      "source": [
        "#extra\n",
        "x = New_factors[New_factors.columns[:6]]\n",
        "y= New_factors.iloc[:,-5]\n",
        "X = x.values\n",
        "Y= y.values\n",
        "\n",
        "x_train, x_test, y_train, y_test = train_test_split(X, Y, test_size = 0.2,random_state=42)\n",
        "\n",
        "knn=KNeighborsClassifier(n_neighbors=3, algorithm='kd_tree')\n",
        "knn_model=knn.fit(x_train, y_train)\n",
        "print(knn_model.score(x_train,y_train)*100)\n",
        "y_pred_KNN= knn_model.predict(x_test)\n",
        "print (\"acc of KNN % \",accuracy_score(y_test, y_pred_KNN)*100)\n",
        "print(\"F-score\",classification_report(y_test, y_pred_KNN))"
      ]
    },
    {
      "cell_type": "code",
      "execution_count": null,
      "metadata": {},
      "outputs": [],
      "source": [
        "x_train, x_test, y_train, y_test = train_test_split(X, Y, test_size = 0.2,random_state=0)\n",
        "regressor =RandomForestClassifier()\n",
        "model_rf =regressor.fit(x_train,y_train)\n",
        "y_pred_rf= model_rf.predict(x_test)\n",
        "print(accuracy_score(y_test, y_pred_rf)*100)\n",
        "print(\"F-score\",classification_report(y_test, y_pred_rf))\n"
      ]
    },
    {
      "cell_type": "code",
      "execution_count": null,
      "metadata": {},
      "outputs": [],
      "source": [
        "# agree\n",
        "x = New_factors[New_factors.columns[:6]]\n",
        "y= New_factors.iloc[:,-4]\n",
        "X = x.values\n",
        "Y= y.values\n",
        "\n",
        "x_train, x_test, y_train, y_test = train_test_split(X, Y, test_size = 0.2,random_state=42)\n",
        "\n",
        "knn=KNeighborsClassifier(n_neighbors=3, algorithm='kd_tree')\n",
        "knn_model=knn.fit(x_train, y_train)\n",
        "print(knn_model.score(x_train,y_train)*100)\n",
        "y_pred_KNN= knn_model.predict(x_test)\n",
        "print (\"acc of KNN % \",accuracy_score(y_test, y_pred_KNN)*100)\n",
        "print(\"F-score\",classification_report(y_test, y_pred_KNN))\n"
      ]
    },
    {
      "cell_type": "code",
      "execution_count": null,
      "metadata": {},
      "outputs": [],
      "source": [
        "x_train, x_test, y_train, y_test = train_test_split(X, Y, test_size = 0.2,random_state=0)\n",
        "regressor =RandomForestClassifier()\n",
        "model_rf =regressor.fit(x_train,y_train)\n",
        "y_pred_rf= model_rf.predict(x_test)\n",
        "print(accuracy_score(y_test, y_pred_rf)*100)\n",
        "print(\"F-score\",classification_report(y_test, y_pred_rf))\n"
      ]
    },
    {
      "cell_type": "code",
      "execution_count": null,
      "metadata": {},
      "outputs": [],
      "source": [
        "# cons\n",
        "x = New_factors[New_factors.columns[:6]]\n",
        "y= New_factors.iloc[:,-3]\n",
        "X = x.values\n",
        "Y= y.values\n",
        "\n",
        "x_train, x_test, y_train, y_test = train_test_split(X, Y, test_size = 0.2,random_state=42)\n",
        "\n",
        "knn=KNeighborsClassifier(n_neighbors=3, algorithm='kd_tree')\n",
        "knn_model=knn.fit(x_train, y_train)\n",
        "print(knn_model.score(x_train,y_train)*100)\n",
        "y_pred_KNN= knn_model.predict(x_test)\n",
        "print (\"acc of KNN % \",accuracy_score(y_test, y_pred_KNN)*100)\n",
        "print(\"F-score\",classification_report(y_test, y_pred_KNN))"
      ]
    },
    {
      "cell_type": "code",
      "execution_count": null,
      "metadata": {},
      "outputs": [],
      "source": [
        "x_train, x_test, y_train, y_test = train_test_split(X, Y, test_size = 0.2,random_state=0)\n",
        "regressor =RandomForestClassifier()\n",
        "model_rf =regressor.fit(x_train,y_train)\n",
        "y_pred_rf= model_rf.predict(x_test)\n",
        "print(accuracy_score(y_test, y_pred_rf)*100)\n",
        "print(\"F-score\",classification_report(y_test, y_pred_rf))\n"
      ]
    },
    {
      "cell_type": "code",
      "execution_count": null,
      "metadata": {},
      "outputs": [],
      "source": [
        "# neuro\n",
        "x =  New_factors[New_factors.columns[:6]]\n",
        "y= New_factors.iloc[:,-2]\n",
        "X = x.values\n",
        "Y= y.values\n",
        "\n",
        "x_train, x_test, y_train, y_test = train_test_split(X, Y, test_size = 0.2,random_state=42)\n",
        "\n",
        "knn=KNeighborsClassifier(n_neighbors=3, algorithm='kd_tree')\n",
        "knn_model=knn.fit(x_train, y_train)\n",
        "print(knn_model.score(x_train,y_train)*100)\n",
        "y_pred_KNN= knn_model.predict(x_test)\n",
        "print (\"acc of KNN % \",accuracy_score(y_test, y_pred_KNN)*100)\n",
        "print(\"F-score\",classification_report(y_test, y_pred_KNN))"
      ]
    },
    {
      "cell_type": "code",
      "execution_count": null,
      "metadata": {},
      "outputs": [],
      "source": [
        "x_train, x_test, y_train, y_test = train_test_split(X, Y, test_size = 0.2,random_state=0)\n",
        "regressor =RandomForestClassifier()\n",
        "model_rf =regressor.fit(x_train,y_train)\n",
        "y_pred_rf= model_rf.predict(x_test)\n",
        "print(accuracy_score(y_test, y_pred_rf)*100)\n",
        "print(\"F-score\",classification_report(y_test, y_pred_rf))\n"
      ]
    },
    {
      "cell_type": "code",
      "execution_count": null,
      "metadata": {},
      "outputs": [],
      "source": [
        "# cons\n",
        "x =  New_factors[New_factors.columns[:6]]\n",
        "y= New_factors.iloc[:,-1]\n",
        "X = x.values\n",
        "Y= y.values\n",
        "\n",
        "x_train, x_test, y_train, y_test = train_test_split(X, Y, test_size = 0.2,random_state=42)\n",
        "\n",
        "knn=KNeighborsClassifier(n_neighbors=3, algorithm='kd_tree')\n",
        "knn_model=knn.fit(x_train, y_train)\n",
        "print(knn_model.score(x_train,y_train)*100)\n",
        "y_pred_KNN= knn_model.predict(x_test)\n",
        "print (\"acc of KNN % \",accuracy_score(y_test, y_pred_KNN)*100)\n",
        "print(\"F-score\",classification_report(y_test, y_pred_KNN))"
      ]
    },
    {
      "cell_type": "code",
      "execution_count": null,
      "metadata": {},
      "outputs": [],
      "source": [
        "x_train, x_test, y_train, y_test = train_test_split(X, Y, test_size = 0.2,random_state=0)\n",
        "regressor =RandomForestClassifier()\n",
        "model_rf =regressor.fit(x_train,y_train)\n",
        "y_pred_rf= model_rf.predict(x_test)\n",
        "print(accuracy_score(y_test, y_pred_rf)*100)\n",
        "print(\"F-score\",classification_report(y_test, y_pred_rf))\n"
      ]
    }
  ],
  "metadata": {
    "colab": {
      "provenance": []
    },
    "kernelspec": {
      "display_name": "Python 3.10.4 64-bit",
      "language": "python",
      "name": "python3"
    },
    "language_info": {
      "codemirror_mode": {
        "name": "ipython",
        "version": 3
      },
      "file_extension": ".py",
      "mimetype": "text/x-python",
      "name": "python",
      "nbconvert_exporter": "python",
      "pygments_lexer": "ipython3",
      "version": "3.10.4"
    },
    "orig_nbformat": 4,
    "vscode": {
      "interpreter": {
        "hash": "a9cff5a362bc38ef45d817ae74b1af54d6a076e3d773891282bce078b815ba34"
      }
    }
  },
  "nbformat": 4,
  "nbformat_minor": 0
}
