{
  "cells": [
    {
      "cell_type": "markdown",
      "metadata": {
        "id": "WcflvPOOjB1T"
      },
      "source": [
        "## Implementation"
      ]
    },
    {
      "cell_type": "markdown",
      "metadata": {
        "id": "JiUh4au7jB1U"
      },
      "source": [
        "# Data Understanding"
      ]
    },
    {
      "cell_type": "markdown",
      "metadata": {
        "id": "_KMRbtcqjB1U"
      },
      "source": [
        "\n",
        "\n",
        "Import Libraries\n",
        " "
      ]
    },
    {
      "cell_type": "code",
      "execution_count": 1,
      "metadata": {
        "id": "wljP7oLajB1U"
      },
      "outputs": [],
      "source": [
        "import numpy as np\n",
        "import pandas as pd\n",
        "import seaborn as sns\n",
        "import matplotlib.pyplot as plt\n",
        "import plotly.express as  px\n",
        "from sklearn.metrics import accuracy_score\n",
        "from sklearn.model_selection import train_test_split\n",
        "from sklearn.ensemble import RandomForestClassifier\n",
        "from sklearn.metrics import classification_report\n",
        "from sklearn.linear_model import LogisticRegression\n",
        "from sklearn.neighbors import KNeighborsClassifier\n",
        "from sklearn import svm\n",
        "from sklearn.preprocessing import StandardScaler\n",
        "from sklearn.neural_network import MLPClassifier\n",
        "from sklearn.tree import DecisionTreeClassifier\n"
      ]
    },
    {
      "cell_type": "markdown",
      "metadata": {
        "id": "ihK-LsjnjB1V"
      },
      "source": [
        "Reading data "
      ]
    },
    {
      "cell_type": "code",
      "execution_count": 2,
      "metadata": {
        "colab": {
          "base_uri": "https://localhost:8080/",
          "height": 661
        },
        "id": "aILlvmKsjB1V",
        "outputId": "c6df5ef8-8b55-4824-ac27-d65caaefb27a"
      },
      "outputs": [
        {
          "data": {
            "text/html": [
              "<div>\n",
              "<style scoped>\n",
              "    .dataframe tbody tr th:only-of-type {\n",
              "        vertical-align: middle;\n",
              "    }\n",
              "\n",
              "    .dataframe tbody tr th {\n",
              "        vertical-align: top;\n",
              "    }\n",
              "\n",
              "    .dataframe thead th {\n",
              "        text-align: right;\n",
              "    }\n",
              "</style>\n",
              "<table border=\"1\" class=\"dataframe\">\n",
              "  <thead>\n",
              "    <tr style=\"text-align: right;\">\n",
              "      <th></th>\n",
              "      <th>Id</th>\n",
              "      <th>Name</th>\n",
              "      <th>Gender</th>\n",
              "      <th>Field</th>\n",
              "      <th>Occupation</th>\n",
              "      <th>Age</th>\n",
              "      <th>Openness</th>\n",
              "      <th>Extraversion</th>\n",
              "      <th>Agreeableness</th>\n",
              "      <th>Conscientiousness</th>\n",
              "      <th>...</th>\n",
              "      <th>Interface_14</th>\n",
              "      <th>Interface_15</th>\n",
              "      <th>Interface_16</th>\n",
              "      <th>Interface_17</th>\n",
              "      <th>Extra_interface_1</th>\n",
              "      <th>Extra_interface_2</th>\n",
              "      <th>Test_Score</th>\n",
              "      <th>Top_1</th>\n",
              "      <th>Top_2</th>\n",
              "      <th>Top_3</th>\n",
              "    </tr>\n",
              "  </thead>\n",
              "  <tbody>\n",
              "    <tr>\n",
              "      <th>0</th>\n",
              "      <td>1</td>\n",
              "      <td>Nouran khaled</td>\n",
              "      <td>Female</td>\n",
              "      <td>CS</td>\n",
              "      <td>Senior Student</td>\n",
              "      <td>21</td>\n",
              "      <td>3.0</td>\n",
              "      <td>2.0</td>\n",
              "      <td>4.0</td>\n",
              "      <td>5.0</td>\n",
              "      <td>...</td>\n",
              "      <td>7.0</td>\n",
              "      <td>7.0</td>\n",
              "      <td>7.0</td>\n",
              "      <td>6.0</td>\n",
              "      <td>7.0</td>\n",
              "      <td>5.0</td>\n",
              "      <td>Green</td>\n",
              "      <td>10</td>\n",
              "      <td>7</td>\n",
              "      <td>13</td>\n",
              "    </tr>\n",
              "    <tr>\n",
              "      <th>1</th>\n",
              "      <td>2</td>\n",
              "      <td>Tasneem Mohamed</td>\n",
              "      <td>Female</td>\n",
              "      <td>CS</td>\n",
              "      <td>Senior Student</td>\n",
              "      <td>21</td>\n",
              "      <td>4.0</td>\n",
              "      <td>5.0</td>\n",
              "      <td>3.0</td>\n",
              "      <td>2.0</td>\n",
              "      <td>...</td>\n",
              "      <td>8.0</td>\n",
              "      <td>8.0</td>\n",
              "      <td>7.0</td>\n",
              "      <td>8.0</td>\n",
              "      <td>6.0</td>\n",
              "      <td>9.0</td>\n",
              "      <td>Blue</td>\n",
              "      <td>6</td>\n",
              "      <td>7</td>\n",
              "      <td>13</td>\n",
              "    </tr>\n",
              "    <tr>\n",
              "      <th>2</th>\n",
              "      <td>3</td>\n",
              "      <td>Omaima Ahmed</td>\n",
              "      <td>Female</td>\n",
              "      <td>CS</td>\n",
              "      <td>Senior Student</td>\n",
              "      <td>23</td>\n",
              "      <td>5.0</td>\n",
              "      <td>4.0</td>\n",
              "      <td>3.0</td>\n",
              "      <td>3.0</td>\n",
              "      <td>...</td>\n",
              "      <td>5.0</td>\n",
              "      <td>7.0</td>\n",
              "      <td>7.0</td>\n",
              "      <td>9.0</td>\n",
              "      <td>6.0</td>\n",
              "      <td>7.0</td>\n",
              "      <td>Green</td>\n",
              "      <td>1</td>\n",
              "      <td>5</td>\n",
              "      <td>7</td>\n",
              "    </tr>\n",
              "    <tr>\n",
              "      <th>3</th>\n",
              "      <td>4</td>\n",
              "      <td>Maryam Walid</td>\n",
              "      <td>Female</td>\n",
              "      <td>CS</td>\n",
              "      <td>Student</td>\n",
              "      <td>20</td>\n",
              "      <td>4.0</td>\n",
              "      <td>3.0</td>\n",
              "      <td>5.0</td>\n",
              "      <td>5.0</td>\n",
              "      <td>...</td>\n",
              "      <td>7.0</td>\n",
              "      <td>7.0</td>\n",
              "      <td>8.0</td>\n",
              "      <td>7.5</td>\n",
              "      <td>6.5</td>\n",
              "      <td>9.0</td>\n",
              "      <td>Blue</td>\n",
              "      <td>19</td>\n",
              "      <td>16</td>\n",
              "      <td>13</td>\n",
              "    </tr>\n",
              "    <tr>\n",
              "      <th>4</th>\n",
              "      <td>5</td>\n",
              "      <td>Yehia Sameh</td>\n",
              "      <td>Male</td>\n",
              "      <td>CS</td>\n",
              "      <td>Student</td>\n",
              "      <td>19</td>\n",
              "      <td>4.0</td>\n",
              "      <td>2.0</td>\n",
              "      <td>3.0</td>\n",
              "      <td>5.0</td>\n",
              "      <td>...</td>\n",
              "      <td>6.0</td>\n",
              "      <td>7.0</td>\n",
              "      <td>6.0</td>\n",
              "      <td>8.0</td>\n",
              "      <td>NaN</td>\n",
              "      <td>NaN</td>\n",
              "      <td>Green</td>\n",
              "      <td>7</td>\n",
              "      <td>9</td>\n",
              "      <td>13</td>\n",
              "    </tr>\n",
              "    <tr>\n",
              "      <th>...</th>\n",
              "      <td>...</td>\n",
              "      <td>...</td>\n",
              "      <td>...</td>\n",
              "      <td>...</td>\n",
              "      <td>...</td>\n",
              "      <td>...</td>\n",
              "      <td>...</td>\n",
              "      <td>...</td>\n",
              "      <td>...</td>\n",
              "      <td>...</td>\n",
              "      <td>...</td>\n",
              "      <td>...</td>\n",
              "      <td>...</td>\n",
              "      <td>...</td>\n",
              "      <td>...</td>\n",
              "      <td>...</td>\n",
              "      <td>...</td>\n",
              "      <td>...</td>\n",
              "      <td>...</td>\n",
              "      <td>...</td>\n",
              "      <td>...</td>\n",
              "    </tr>\n",
              "    <tr>\n",
              "      <th>96</th>\n",
              "      <td>97</td>\n",
              "      <td>Yehia Abdallah</td>\n",
              "      <td>Male</td>\n",
              "      <td>Automatic Engineering</td>\n",
              "      <td>Senior Student</td>\n",
              "      <td>21</td>\n",
              "      <td>5.0</td>\n",
              "      <td>4.0</td>\n",
              "      <td>4.0</td>\n",
              "      <td>1.0</td>\n",
              "      <td>...</td>\n",
              "      <td>2.0</td>\n",
              "      <td>1.0</td>\n",
              "      <td>7.0</td>\n",
              "      <td>6.0</td>\n",
              "      <td>8.0</td>\n",
              "      <td>7.0</td>\n",
              "      <td>Gold</td>\n",
              "      <td>10</td>\n",
              "      <td>4</td>\n",
              "      <td>7</td>\n",
              "    </tr>\n",
              "    <tr>\n",
              "      <th>97</th>\n",
              "      <td>98</td>\n",
              "      <td>Yehia Abdallah</td>\n",
              "      <td>Male</td>\n",
              "      <td>Automatic Engineering</td>\n",
              "      <td>Senior Student</td>\n",
              "      <td>21</td>\n",
              "      <td>5.0</td>\n",
              "      <td>4.0</td>\n",
              "      <td>4.0</td>\n",
              "      <td>1.0</td>\n",
              "      <td>...</td>\n",
              "      <td>2.0</td>\n",
              "      <td>1.0</td>\n",
              "      <td>7.0</td>\n",
              "      <td>6.0</td>\n",
              "      <td>8.0</td>\n",
              "      <td>7.0</td>\n",
              "      <td>Green</td>\n",
              "      <td>10</td>\n",
              "      <td>4</td>\n",
              "      <td>7</td>\n",
              "    </tr>\n",
              "    <tr>\n",
              "      <th>98</th>\n",
              "      <td>99</td>\n",
              "      <td>Khaled Khatteb</td>\n",
              "      <td>Male</td>\n",
              "      <td>Business</td>\n",
              "      <td>Software developer</td>\n",
              "      <td>23</td>\n",
              "      <td>3.0</td>\n",
              "      <td>3.0</td>\n",
              "      <td>4.0</td>\n",
              "      <td>2.0</td>\n",
              "      <td>...</td>\n",
              "      <td>7.0</td>\n",
              "      <td>6.0</td>\n",
              "      <td>8.0</td>\n",
              "      <td>9.0</td>\n",
              "      <td>6.0</td>\n",
              "      <td>7.0</td>\n",
              "      <td>Gold</td>\n",
              "      <td>10</td>\n",
              "      <td>17</td>\n",
              "      <td>5</td>\n",
              "    </tr>\n",
              "    <tr>\n",
              "      <th>99</th>\n",
              "      <td>101</td>\n",
              "      <td>Mohamed Elbaz</td>\n",
              "      <td>Male</td>\n",
              "      <td>CS</td>\n",
              "      <td>Senior Student</td>\n",
              "      <td>21</td>\n",
              "      <td>3.0</td>\n",
              "      <td>1.0</td>\n",
              "      <td>3.0</td>\n",
              "      <td>1.0</td>\n",
              "      <td>...</td>\n",
              "      <td>5.0</td>\n",
              "      <td>6.0</td>\n",
              "      <td>5.0</td>\n",
              "      <td>8.0</td>\n",
              "      <td>4.0</td>\n",
              "      <td>4.0</td>\n",
              "      <td>Gold</td>\n",
              "      <td>10</td>\n",
              "      <td>17</td>\n",
              "      <td>7</td>\n",
              "    </tr>\n",
              "    <tr>\n",
              "      <th>100</th>\n",
              "      <td>102</td>\n",
              "      <td>Mohamed Elbaz</td>\n",
              "      <td>Male</td>\n",
              "      <td>CS</td>\n",
              "      <td>Senior Student</td>\n",
              "      <td>21</td>\n",
              "      <td>3.0</td>\n",
              "      <td>1.0</td>\n",
              "      <td>3.0</td>\n",
              "      <td>1.0</td>\n",
              "      <td>...</td>\n",
              "      <td>5.0</td>\n",
              "      <td>6.0</td>\n",
              "      <td>5.0</td>\n",
              "      <td>8.0</td>\n",
              "      <td>4.0</td>\n",
              "      <td>4.0</td>\n",
              "      <td>Green</td>\n",
              "      <td>10</td>\n",
              "      <td>17</td>\n",
              "      <td>7</td>\n",
              "    </tr>\n",
              "  </tbody>\n",
              "</table>\n",
              "<p>101 rows × 34 columns</p>\n",
              "</div>"
            ],
            "text/plain": [
              "      Id             Name  Gender                  Field          Occupation  \\\n",
              "0      1    Nouran khaled  Female                     CS      Senior Student   \n",
              "1      2  Tasneem Mohamed  Female                     CS      Senior Student   \n",
              "2      3     Omaima Ahmed  Female                     CS      Senior Student   \n",
              "3      4     Maryam Walid  Female                     CS             Student   \n",
              "4      5      Yehia Sameh    Male                     CS             Student   \n",
              "..   ...              ...     ...                    ...                 ...   \n",
              "96    97   Yehia Abdallah    Male  Automatic Engineering      Senior Student   \n",
              "97    98   Yehia Abdallah    Male  Automatic Engineering      Senior Student   \n",
              "98    99   Khaled Khatteb    Male               Business  Software developer   \n",
              "99   101    Mohamed Elbaz    Male                     CS      Senior Student   \n",
              "100  102    Mohamed Elbaz    Male                     CS      Senior Student   \n",
              "\n",
              "     Age  Openness  Extraversion  Agreeableness  Conscientiousness  ...  \\\n",
              "0     21       3.0           2.0            4.0                5.0  ...   \n",
              "1     21       4.0           5.0            3.0                2.0  ...   \n",
              "2     23       5.0           4.0            3.0                3.0  ...   \n",
              "3     20       4.0           3.0            5.0                5.0  ...   \n",
              "4     19       4.0           2.0            3.0                5.0  ...   \n",
              "..   ...       ...           ...            ...                ...  ...   \n",
              "96    21       5.0           4.0            4.0                1.0  ...   \n",
              "97    21       5.0           4.0            4.0                1.0  ...   \n",
              "98    23       3.0           3.0            4.0                2.0  ...   \n",
              "99    21       3.0           1.0            3.0                1.0  ...   \n",
              "100   21       3.0           1.0            3.0                1.0  ...   \n",
              "\n",
              "     Interface_14  Interface_15  Interface_16  Interface_17  \\\n",
              "0             7.0           7.0           7.0           6.0   \n",
              "1             8.0           8.0           7.0           8.0   \n",
              "2             5.0           7.0           7.0           9.0   \n",
              "3             7.0           7.0           8.0           7.5   \n",
              "4             6.0           7.0           6.0           8.0   \n",
              "..            ...           ...           ...           ...   \n",
              "96            2.0           1.0           7.0           6.0   \n",
              "97            2.0           1.0           7.0           6.0   \n",
              "98            7.0           6.0           8.0           9.0   \n",
              "99            5.0           6.0           5.0           8.0   \n",
              "100           5.0           6.0           5.0           8.0   \n",
              "\n",
              "     Extra_interface_1  Extra_interface_2  Test_Score  Top_1  Top_2  Top_3  \n",
              "0                  7.0                5.0       Green     10      7     13  \n",
              "1                  6.0                9.0        Blue      6      7     13  \n",
              "2                  6.0                7.0       Green      1      5      7  \n",
              "3                  6.5                9.0        Blue     19     16     13  \n",
              "4                  NaN                NaN       Green      7      9     13  \n",
              "..                 ...                ...         ...    ...    ...    ...  \n",
              "96                 8.0                7.0        Gold     10      4      7  \n",
              "97                 8.0                7.0       Green     10      4      7  \n",
              "98                 6.0                7.0        Gold     10     17      5  \n",
              "99                 4.0                4.0        Gold     10     17      7  \n",
              "100                4.0                4.0       Green     10     17      7  \n",
              "\n",
              "[101 rows x 34 columns]"
            ]
          },
          "execution_count": 2,
          "metadata": {},
          "output_type": "execute_result"
        }
      ],
      "source": [
        "data = pd.read_csv(\"Data.csv\",nrows=101)\n",
        "data"
      ]
    },
    {
      "cell_type": "code",
      "execution_count": 3,
      "metadata": {
        "colab": {
          "base_uri": "https://localhost:8080/"
        },
        "id": "EQ1wnaG4jB1W",
        "outputId": "7171bb61-7a02-4287-bb2f-706ab8db9e09"
      },
      "outputs": [
        {
          "data": {
            "text/plain": [
              "Id                     int64\n",
              "Name                  object\n",
              "Gender                object\n",
              "Field                 object\n",
              "Occupation            object\n",
              "Age                    int64\n",
              "Openness             float64\n",
              "Extraversion         float64\n",
              "Agreeableness        float64\n",
              "Conscientiousness    float64\n",
              "Neuroticism          float64\n",
              "Interface_1          float64\n",
              "Interface_2          float64\n",
              "Interface_3          float64\n",
              "Interface_4          float64\n",
              "Interface_5          float64\n",
              "Interface_6          float64\n",
              "Interface_7          float64\n",
              "Interface_8          float64\n",
              "Interface_9          float64\n",
              "Interface_10         float64\n",
              "Interface_11         float64\n",
              "Interface_12         float64\n",
              "Interface_13         float64\n",
              "Interface_14         float64\n",
              "Interface_15         float64\n",
              "Interface_16         float64\n",
              "Interface_17         float64\n",
              "Extra_interface_1    float64\n",
              "Extra_interface_2    float64\n",
              "Test_Score            object\n",
              "Top_1                  int64\n",
              "Top_2                  int64\n",
              "Top_3                  int64\n",
              "dtype: object"
            ]
          },
          "execution_count": 3,
          "metadata": {},
          "output_type": "execute_result"
        }
      ],
      "source": [
        "data.dtypes"
      ]
    },
    {
      "cell_type": "code",
      "execution_count": 4,
      "metadata": {
        "colab": {
          "base_uri": "https://localhost:8080/"
        },
        "id": "IrmEz0SxclcD",
        "outputId": "e9799724-dadd-4d53-d33a-96302e424eaf"
      },
      "outputs": [
        {
          "name": "stdout",
          "output_type": "stream",
          "text": [
            "<class 'pandas.core.frame.DataFrame'>\n",
            "RangeIndex: 101 entries, 0 to 100\n",
            "Data columns (total 34 columns):\n",
            " #   Column             Non-Null Count  Dtype  \n",
            "---  ------             --------------  -----  \n",
            " 0   Id                 101 non-null    int64  \n",
            " 1   Name               101 non-null    object \n",
            " 2   Gender             101 non-null    object \n",
            " 3   Field              101 non-null    object \n",
            " 4   Occupation         101 non-null    object \n",
            " 5   Age                101 non-null    int64  \n",
            " 6   Openness           101 non-null    float64\n",
            " 7   Extraversion       101 non-null    float64\n",
            " 8   Agreeableness      101 non-null    float64\n",
            " 9   Conscientiousness  101 non-null    float64\n",
            " 10  Neuroticism        101 non-null    float64\n",
            " 11  Interface_1        101 non-null    float64\n",
            " 12  Interface_2        101 non-null    float64\n",
            " 13  Interface_3        101 non-null    float64\n",
            " 14  Interface_4        101 non-null    float64\n",
            " 15  Interface_5        101 non-null    float64\n",
            " 16  Interface_6        101 non-null    float64\n",
            " 17  Interface_7        101 non-null    float64\n",
            " 18  Interface_8        101 non-null    float64\n",
            " 19  Interface_9        101 non-null    float64\n",
            " 20  Interface_10       101 non-null    float64\n",
            " 21  Interface_11       101 non-null    float64\n",
            " 22  Interface_12       101 non-null    float64\n",
            " 23  Interface_13       101 non-null    float64\n",
            " 24  Interface_14       101 non-null    float64\n",
            " 25  Interface_15       101 non-null    float64\n",
            " 26  Interface_16       101 non-null    float64\n",
            " 27  Interface_17       101 non-null    float64\n",
            " 28  Extra_interface_1  94 non-null     float64\n",
            " 29  Extra_interface_2  94 non-null     float64\n",
            " 30  Test_Score         101 non-null    object \n",
            " 31  Top_1              101 non-null    int64  \n",
            " 32  Top_2              101 non-null    int64  \n",
            " 33  Top_3              101 non-null    int64  \n",
            "dtypes: float64(24), int64(5), object(5)\n",
            "memory usage: 27.0+ KB\n"
          ]
        }
      ],
      "source": [
        "data.info()"
      ]
    },
    {
      "cell_type": "code",
      "execution_count": 5,
      "metadata": {
        "id": "LtBWO31pjB1W"
      },
      "outputs": [],
      "source": [
        "# data['Interface_9'] = data['Interface_9'].astype('float64')\n"
      ]
    },
    {
      "cell_type": "code",
      "execution_count": 6,
      "metadata": {
        "id": "WN_j4plljB1W"
      },
      "outputs": [],
      "source": [
        "\n",
        "# data['Neuroticism'] = data['Neuroticism'].astype('float64')"
      ]
    },
    {
      "cell_type": "code",
      "execution_count": 7,
      "metadata": {
        "colab": {
          "base_uri": "https://localhost:8080/"
        },
        "id": "E7bwmEuwjB1W",
        "outputId": "cd1130c6-9a88-40d3-d32b-b720ff8a4e54"
      },
      "outputs": [
        {
          "data": {
            "text/plain": [
              "Id                   0.000000\n",
              "Name                 0.000000\n",
              "Gender               0.000000\n",
              "Field                0.000000\n",
              "Occupation           0.000000\n",
              "Age                  0.000000\n",
              "Openness             0.000000\n",
              "Extraversion         0.000000\n",
              "Agreeableness        0.000000\n",
              "Conscientiousness    0.000000\n",
              "Neuroticism          0.000000\n",
              "Interface_1          0.000000\n",
              "Interface_2          0.000000\n",
              "Interface_3          0.000000\n",
              "Interface_4          0.000000\n",
              "Interface_5          0.000000\n",
              "Interface_6          0.000000\n",
              "Interface_7          0.000000\n",
              "Interface_8          0.000000\n",
              "Interface_9          0.000000\n",
              "Interface_10         0.000000\n",
              "Interface_11         0.000000\n",
              "Interface_12         0.000000\n",
              "Interface_13         0.000000\n",
              "Interface_14         0.000000\n",
              "Interface_15         0.000000\n",
              "Interface_16         0.000000\n",
              "Interface_17         0.000000\n",
              "Extra_interface_1    6.930693\n",
              "Extra_interface_2    6.930693\n",
              "Test_Score           0.000000\n",
              "Top_1                0.000000\n",
              "Top_2                0.000000\n",
              "Top_3                0.000000\n",
              "dtype: float64"
            ]
          },
          "execution_count": 7,
          "metadata": {},
          "output_type": "execute_result"
        }
      ],
      "source": [
        "missing_values = data.isna().sum()/len(data)*100\n",
        "missing_values\n"
      ]
    },
    {
      "cell_type": "code",
      "execution_count": 8,
      "metadata": {
        "id": "YSO6nH0xjB1X"
      },
      "outputs": [],
      "source": [
        "data['Extra_interface_1'].fillna(value=data['Extra_interface_1'].mean(), inplace=True)"
      ]
    },
    {
      "cell_type": "code",
      "execution_count": 9,
      "metadata": {
        "id": "m1QUUPkDjB1X"
      },
      "outputs": [],
      "source": [
        "data['Extra_interface_2'].fillna(value=data['Extra_interface_2'].mean(), inplace=True)\n"
      ]
    },
    {
      "cell_type": "code",
      "execution_count": 10,
      "metadata": {
        "colab": {
          "base_uri": "https://localhost:8080/"
        },
        "id": "RetSgbdTjB1X",
        "outputId": "0cbdeeae-c68f-485f-f88a-f6f0f501dd1d"
      },
      "outputs": [
        {
          "data": {
            "text/plain": [
              "Id                   0.0\n",
              "Name                 0.0\n",
              "Gender               0.0\n",
              "Field                0.0\n",
              "Occupation           0.0\n",
              "Age                  0.0\n",
              "Openness             0.0\n",
              "Extraversion         0.0\n",
              "Agreeableness        0.0\n",
              "Conscientiousness    0.0\n",
              "Neuroticism          0.0\n",
              "Interface_1          0.0\n",
              "Interface_2          0.0\n",
              "Interface_3          0.0\n",
              "Interface_4          0.0\n",
              "Interface_5          0.0\n",
              "Interface_6          0.0\n",
              "Interface_7          0.0\n",
              "Interface_8          0.0\n",
              "Interface_9          0.0\n",
              "Interface_10         0.0\n",
              "Interface_11         0.0\n",
              "Interface_12         0.0\n",
              "Interface_13         0.0\n",
              "Interface_14         0.0\n",
              "Interface_15         0.0\n",
              "Interface_16         0.0\n",
              "Interface_17         0.0\n",
              "Extra_interface_1    0.0\n",
              "Extra_interface_2    0.0\n",
              "Test_Score           0.0\n",
              "Top_1                0.0\n",
              "Top_2                0.0\n",
              "Top_3                0.0\n",
              "dtype: float64"
            ]
          },
          "execution_count": 10,
          "metadata": {},
          "output_type": "execute_result"
        }
      ],
      "source": [
        "missing_values = data.isna().sum()/len(data)*100\n",
        "missing_values\n"
      ]
    },
    {
      "cell_type": "code",
      "execution_count": 11,
      "metadata": {
        "colab": {
          "base_uri": "https://localhost:8080/"
        },
        "id": "HCDuoZyLnKS0",
        "outputId": "9cd4a8c3-c015-4ff0-a368-1e91e9584472"
      },
      "outputs": [
        {
          "data": {
            "text/plain": [
              "array(['Green', 'Blue', 'Gold', 'Orange'], dtype=object)"
            ]
          },
          "execution_count": 11,
          "metadata": {},
          "output_type": "execute_result"
        }
      ],
      "source": [
        "data['Test_Score'] .unique()"
      ]
    },
    {
      "cell_type": "code",
      "execution_count": 12,
      "metadata": {
        "colab": {
          "base_uri": "https://localhost:8080/"
        },
        "id": "aU5_pBUFjB1X",
        "outputId": "e9b87c02-6d73-4f59-f389-9bed65ce8d21"
      },
      "outputs": [
        {
          "data": {
            "text/plain": [
              "array([0, 1, 2, 3], dtype=int64)"
            ]
          },
          "execution_count": 12,
          "metadata": {},
          "output_type": "execute_result"
        }
      ],
      "source": [
        "data['Test_Score'] = pd.factorize(data['Test_Score'])[0]\n",
        "data['Test_Score'] .unique()"
      ]
    },
    {
      "cell_type": "code",
      "execution_count": 13,
      "metadata": {
        "colab": {
          "base_uri": "https://localhost:8080/",
          "height": 661
        },
        "id": "GV8ANCxd6IsE",
        "outputId": "5272285c-25e3-4a92-9000-204988efc32a"
      },
      "outputs": [
        {
          "data": {
            "text/html": [
              "<div>\n",
              "<style scoped>\n",
              "    .dataframe tbody tr th:only-of-type {\n",
              "        vertical-align: middle;\n",
              "    }\n",
              "\n",
              "    .dataframe tbody tr th {\n",
              "        vertical-align: top;\n",
              "    }\n",
              "\n",
              "    .dataframe thead th {\n",
              "        text-align: right;\n",
              "    }\n",
              "</style>\n",
              "<table border=\"1\" class=\"dataframe\">\n",
              "  <thead>\n",
              "    <tr style=\"text-align: right;\">\n",
              "      <th></th>\n",
              "      <th>Id</th>\n",
              "      <th>Name</th>\n",
              "      <th>Gender</th>\n",
              "      <th>Field</th>\n",
              "      <th>Occupation</th>\n",
              "      <th>Age</th>\n",
              "      <th>Openness</th>\n",
              "      <th>Extraversion</th>\n",
              "      <th>Agreeableness</th>\n",
              "      <th>Conscientiousness</th>\n",
              "      <th>...</th>\n",
              "      <th>Interface_14</th>\n",
              "      <th>Interface_15</th>\n",
              "      <th>Interface_16</th>\n",
              "      <th>Interface_17</th>\n",
              "      <th>Extra_interface_1</th>\n",
              "      <th>Extra_interface_2</th>\n",
              "      <th>Test_Score</th>\n",
              "      <th>Top_1</th>\n",
              "      <th>Top_2</th>\n",
              "      <th>Top_3</th>\n",
              "    </tr>\n",
              "  </thead>\n",
              "  <tbody>\n",
              "    <tr>\n",
              "      <th>0</th>\n",
              "      <td>1</td>\n",
              "      <td>Nouran khaled</td>\n",
              "      <td>Female</td>\n",
              "      <td>CS</td>\n",
              "      <td>Senior Student</td>\n",
              "      <td>21</td>\n",
              "      <td>3.0</td>\n",
              "      <td>2.0</td>\n",
              "      <td>4.0</td>\n",
              "      <td>5.0</td>\n",
              "      <td>...</td>\n",
              "      <td>7.0</td>\n",
              "      <td>7.0</td>\n",
              "      <td>7.0</td>\n",
              "      <td>6.0</td>\n",
              "      <td>7.000000</td>\n",
              "      <td>5.000000</td>\n",
              "      <td>0</td>\n",
              "      <td>10</td>\n",
              "      <td>7</td>\n",
              "      <td>13</td>\n",
              "    </tr>\n",
              "    <tr>\n",
              "      <th>1</th>\n",
              "      <td>2</td>\n",
              "      <td>Tasneem Mohamed</td>\n",
              "      <td>Female</td>\n",
              "      <td>CS</td>\n",
              "      <td>Senior Student</td>\n",
              "      <td>21</td>\n",
              "      <td>4.0</td>\n",
              "      <td>5.0</td>\n",
              "      <td>3.0</td>\n",
              "      <td>2.0</td>\n",
              "      <td>...</td>\n",
              "      <td>8.0</td>\n",
              "      <td>8.0</td>\n",
              "      <td>7.0</td>\n",
              "      <td>8.0</td>\n",
              "      <td>6.000000</td>\n",
              "      <td>9.000000</td>\n",
              "      <td>1</td>\n",
              "      <td>6</td>\n",
              "      <td>7</td>\n",
              "      <td>13</td>\n",
              "    </tr>\n",
              "    <tr>\n",
              "      <th>2</th>\n",
              "      <td>3</td>\n",
              "      <td>Omaima Ahmed</td>\n",
              "      <td>Female</td>\n",
              "      <td>CS</td>\n",
              "      <td>Senior Student</td>\n",
              "      <td>23</td>\n",
              "      <td>5.0</td>\n",
              "      <td>4.0</td>\n",
              "      <td>3.0</td>\n",
              "      <td>3.0</td>\n",
              "      <td>...</td>\n",
              "      <td>5.0</td>\n",
              "      <td>7.0</td>\n",
              "      <td>7.0</td>\n",
              "      <td>9.0</td>\n",
              "      <td>6.000000</td>\n",
              "      <td>7.000000</td>\n",
              "      <td>0</td>\n",
              "      <td>1</td>\n",
              "      <td>5</td>\n",
              "      <td>7</td>\n",
              "    </tr>\n",
              "    <tr>\n",
              "      <th>3</th>\n",
              "      <td>4</td>\n",
              "      <td>Maryam Walid</td>\n",
              "      <td>Female</td>\n",
              "      <td>CS</td>\n",
              "      <td>Student</td>\n",
              "      <td>20</td>\n",
              "      <td>4.0</td>\n",
              "      <td>3.0</td>\n",
              "      <td>5.0</td>\n",
              "      <td>5.0</td>\n",
              "      <td>...</td>\n",
              "      <td>7.0</td>\n",
              "      <td>7.0</td>\n",
              "      <td>8.0</td>\n",
              "      <td>7.5</td>\n",
              "      <td>6.500000</td>\n",
              "      <td>9.000000</td>\n",
              "      <td>1</td>\n",
              "      <td>19</td>\n",
              "      <td>16</td>\n",
              "      <td>13</td>\n",
              "    </tr>\n",
              "    <tr>\n",
              "      <th>4</th>\n",
              "      <td>5</td>\n",
              "      <td>Yehia Sameh</td>\n",
              "      <td>Male</td>\n",
              "      <td>CS</td>\n",
              "      <td>Student</td>\n",
              "      <td>19</td>\n",
              "      <td>4.0</td>\n",
              "      <td>2.0</td>\n",
              "      <td>3.0</td>\n",
              "      <td>5.0</td>\n",
              "      <td>...</td>\n",
              "      <td>6.0</td>\n",
              "      <td>7.0</td>\n",
              "      <td>6.0</td>\n",
              "      <td>8.0</td>\n",
              "      <td>6.102128</td>\n",
              "      <td>6.161702</td>\n",
              "      <td>0</td>\n",
              "      <td>7</td>\n",
              "      <td>9</td>\n",
              "      <td>13</td>\n",
              "    </tr>\n",
              "    <tr>\n",
              "      <th>...</th>\n",
              "      <td>...</td>\n",
              "      <td>...</td>\n",
              "      <td>...</td>\n",
              "      <td>...</td>\n",
              "      <td>...</td>\n",
              "      <td>...</td>\n",
              "      <td>...</td>\n",
              "      <td>...</td>\n",
              "      <td>...</td>\n",
              "      <td>...</td>\n",
              "      <td>...</td>\n",
              "      <td>...</td>\n",
              "      <td>...</td>\n",
              "      <td>...</td>\n",
              "      <td>...</td>\n",
              "      <td>...</td>\n",
              "      <td>...</td>\n",
              "      <td>...</td>\n",
              "      <td>...</td>\n",
              "      <td>...</td>\n",
              "      <td>...</td>\n",
              "    </tr>\n",
              "    <tr>\n",
              "      <th>96</th>\n",
              "      <td>97</td>\n",
              "      <td>Yehia Abdallah</td>\n",
              "      <td>Male</td>\n",
              "      <td>Automatic Engineering</td>\n",
              "      <td>Senior Student</td>\n",
              "      <td>21</td>\n",
              "      <td>5.0</td>\n",
              "      <td>4.0</td>\n",
              "      <td>4.0</td>\n",
              "      <td>1.0</td>\n",
              "      <td>...</td>\n",
              "      <td>2.0</td>\n",
              "      <td>1.0</td>\n",
              "      <td>7.0</td>\n",
              "      <td>6.0</td>\n",
              "      <td>8.000000</td>\n",
              "      <td>7.000000</td>\n",
              "      <td>2</td>\n",
              "      <td>10</td>\n",
              "      <td>4</td>\n",
              "      <td>7</td>\n",
              "    </tr>\n",
              "    <tr>\n",
              "      <th>97</th>\n",
              "      <td>98</td>\n",
              "      <td>Yehia Abdallah</td>\n",
              "      <td>Male</td>\n",
              "      <td>Automatic Engineering</td>\n",
              "      <td>Senior Student</td>\n",
              "      <td>21</td>\n",
              "      <td>5.0</td>\n",
              "      <td>4.0</td>\n",
              "      <td>4.0</td>\n",
              "      <td>1.0</td>\n",
              "      <td>...</td>\n",
              "      <td>2.0</td>\n",
              "      <td>1.0</td>\n",
              "      <td>7.0</td>\n",
              "      <td>6.0</td>\n",
              "      <td>8.000000</td>\n",
              "      <td>7.000000</td>\n",
              "      <td>0</td>\n",
              "      <td>10</td>\n",
              "      <td>4</td>\n",
              "      <td>7</td>\n",
              "    </tr>\n",
              "    <tr>\n",
              "      <th>98</th>\n",
              "      <td>99</td>\n",
              "      <td>Khaled Khatteb</td>\n",
              "      <td>Male</td>\n",
              "      <td>Business</td>\n",
              "      <td>Software developer</td>\n",
              "      <td>23</td>\n",
              "      <td>3.0</td>\n",
              "      <td>3.0</td>\n",
              "      <td>4.0</td>\n",
              "      <td>2.0</td>\n",
              "      <td>...</td>\n",
              "      <td>7.0</td>\n",
              "      <td>6.0</td>\n",
              "      <td>8.0</td>\n",
              "      <td>9.0</td>\n",
              "      <td>6.000000</td>\n",
              "      <td>7.000000</td>\n",
              "      <td>2</td>\n",
              "      <td>10</td>\n",
              "      <td>17</td>\n",
              "      <td>5</td>\n",
              "    </tr>\n",
              "    <tr>\n",
              "      <th>99</th>\n",
              "      <td>101</td>\n",
              "      <td>Mohamed Elbaz</td>\n",
              "      <td>Male</td>\n",
              "      <td>CS</td>\n",
              "      <td>Senior Student</td>\n",
              "      <td>21</td>\n",
              "      <td>3.0</td>\n",
              "      <td>1.0</td>\n",
              "      <td>3.0</td>\n",
              "      <td>1.0</td>\n",
              "      <td>...</td>\n",
              "      <td>5.0</td>\n",
              "      <td>6.0</td>\n",
              "      <td>5.0</td>\n",
              "      <td>8.0</td>\n",
              "      <td>4.000000</td>\n",
              "      <td>4.000000</td>\n",
              "      <td>2</td>\n",
              "      <td>10</td>\n",
              "      <td>17</td>\n",
              "      <td>7</td>\n",
              "    </tr>\n",
              "    <tr>\n",
              "      <th>100</th>\n",
              "      <td>102</td>\n",
              "      <td>Mohamed Elbaz</td>\n",
              "      <td>Male</td>\n",
              "      <td>CS</td>\n",
              "      <td>Senior Student</td>\n",
              "      <td>21</td>\n",
              "      <td>3.0</td>\n",
              "      <td>1.0</td>\n",
              "      <td>3.0</td>\n",
              "      <td>1.0</td>\n",
              "      <td>...</td>\n",
              "      <td>5.0</td>\n",
              "      <td>6.0</td>\n",
              "      <td>5.0</td>\n",
              "      <td>8.0</td>\n",
              "      <td>4.000000</td>\n",
              "      <td>4.000000</td>\n",
              "      <td>0</td>\n",
              "      <td>10</td>\n",
              "      <td>17</td>\n",
              "      <td>7</td>\n",
              "    </tr>\n",
              "  </tbody>\n",
              "</table>\n",
              "<p>101 rows × 34 columns</p>\n",
              "</div>"
            ],
            "text/plain": [
              "      Id             Name  Gender                  Field          Occupation  \\\n",
              "0      1    Nouran khaled  Female                     CS      Senior Student   \n",
              "1      2  Tasneem Mohamed  Female                     CS      Senior Student   \n",
              "2      3     Omaima Ahmed  Female                     CS      Senior Student   \n",
              "3      4     Maryam Walid  Female                     CS             Student   \n",
              "4      5      Yehia Sameh    Male                     CS             Student   \n",
              "..   ...              ...     ...                    ...                 ...   \n",
              "96    97   Yehia Abdallah    Male  Automatic Engineering      Senior Student   \n",
              "97    98   Yehia Abdallah    Male  Automatic Engineering      Senior Student   \n",
              "98    99   Khaled Khatteb    Male               Business  Software developer   \n",
              "99   101    Mohamed Elbaz    Male                     CS      Senior Student   \n",
              "100  102    Mohamed Elbaz    Male                     CS      Senior Student   \n",
              "\n",
              "     Age  Openness  Extraversion  Agreeableness  Conscientiousness  ...  \\\n",
              "0     21       3.0           2.0            4.0                5.0  ...   \n",
              "1     21       4.0           5.0            3.0                2.0  ...   \n",
              "2     23       5.0           4.0            3.0                3.0  ...   \n",
              "3     20       4.0           3.0            5.0                5.0  ...   \n",
              "4     19       4.0           2.0            3.0                5.0  ...   \n",
              "..   ...       ...           ...            ...                ...  ...   \n",
              "96    21       5.0           4.0            4.0                1.0  ...   \n",
              "97    21       5.0           4.0            4.0                1.0  ...   \n",
              "98    23       3.0           3.0            4.0                2.0  ...   \n",
              "99    21       3.0           1.0            3.0                1.0  ...   \n",
              "100   21       3.0           1.0            3.0                1.0  ...   \n",
              "\n",
              "     Interface_14  Interface_15  Interface_16  Interface_17  \\\n",
              "0             7.0           7.0           7.0           6.0   \n",
              "1             8.0           8.0           7.0           8.0   \n",
              "2             5.0           7.0           7.0           9.0   \n",
              "3             7.0           7.0           8.0           7.5   \n",
              "4             6.0           7.0           6.0           8.0   \n",
              "..            ...           ...           ...           ...   \n",
              "96            2.0           1.0           7.0           6.0   \n",
              "97            2.0           1.0           7.0           6.0   \n",
              "98            7.0           6.0           8.0           9.0   \n",
              "99            5.0           6.0           5.0           8.0   \n",
              "100           5.0           6.0           5.0           8.0   \n",
              "\n",
              "     Extra_interface_1  Extra_interface_2  Test_Score  Top_1  Top_2  Top_3  \n",
              "0             7.000000           5.000000           0     10      7     13  \n",
              "1             6.000000           9.000000           1      6      7     13  \n",
              "2             6.000000           7.000000           0      1      5      7  \n",
              "3             6.500000           9.000000           1     19     16     13  \n",
              "4             6.102128           6.161702           0      7      9     13  \n",
              "..                 ...                ...         ...    ...    ...    ...  \n",
              "96            8.000000           7.000000           2     10      4      7  \n",
              "97            8.000000           7.000000           0     10      4      7  \n",
              "98            6.000000           7.000000           2     10     17      5  \n",
              "99            4.000000           4.000000           2     10     17      7  \n",
              "100           4.000000           4.000000           0     10     17      7  \n",
              "\n",
              "[101 rows x 34 columns]"
            ]
          },
          "execution_count": 13,
          "metadata": {},
          "output_type": "execute_result"
        }
      ],
      "source": [
        "data"
      ]
    },
    {
      "cell_type": "code",
      "execution_count": 14,
      "metadata": {
        "colab": {
          "base_uri": "https://localhost:8080/",
          "height": 394
        },
        "id": "gg1gHRnFjB1X",
        "outputId": "2f9a9727-640c-43e1-8473-829467eda46e"
      },
      "outputs": [
        {
          "data": {
            "text/html": [
              "<div>\n",
              "<style scoped>\n",
              "    .dataframe tbody tr th:only-of-type {\n",
              "        vertical-align: middle;\n",
              "    }\n",
              "\n",
              "    .dataframe tbody tr th {\n",
              "        vertical-align: top;\n",
              "    }\n",
              "\n",
              "    .dataframe thead th {\n",
              "        text-align: right;\n",
              "    }\n",
              "</style>\n",
              "<table border=\"1\" class=\"dataframe\">\n",
              "  <thead>\n",
              "    <tr style=\"text-align: right;\">\n",
              "      <th></th>\n",
              "      <th>Id</th>\n",
              "      <th>Age</th>\n",
              "      <th>Openness</th>\n",
              "      <th>Extraversion</th>\n",
              "      <th>Agreeableness</th>\n",
              "      <th>Conscientiousness</th>\n",
              "      <th>Neuroticism</th>\n",
              "      <th>Interface_1</th>\n",
              "      <th>Interface_2</th>\n",
              "      <th>Interface_3</th>\n",
              "      <th>...</th>\n",
              "      <th>Interface_14</th>\n",
              "      <th>Interface_15</th>\n",
              "      <th>Interface_16</th>\n",
              "      <th>Interface_17</th>\n",
              "      <th>Extra_interface_1</th>\n",
              "      <th>Extra_interface_2</th>\n",
              "      <th>Test_Score</th>\n",
              "      <th>Top_1</th>\n",
              "      <th>Top_2</th>\n",
              "      <th>Top_3</th>\n",
              "    </tr>\n",
              "  </thead>\n",
              "  <tbody>\n",
              "    <tr>\n",
              "      <th>count</th>\n",
              "      <td>101.000000</td>\n",
              "      <td>101.000000</td>\n",
              "      <td>101.000000</td>\n",
              "      <td>101.000000</td>\n",
              "      <td>101.000000</td>\n",
              "      <td>101.000000</td>\n",
              "      <td>101.000000</td>\n",
              "      <td>101.000000</td>\n",
              "      <td>101.000000</td>\n",
              "      <td>101.000000</td>\n",
              "      <td>...</td>\n",
              "      <td>101.000000</td>\n",
              "      <td>101.000000</td>\n",
              "      <td>101.000000</td>\n",
              "      <td>101.000000</td>\n",
              "      <td>101.000000</td>\n",
              "      <td>101.000000</td>\n",
              "      <td>101.000000</td>\n",
              "      <td>101.000000</td>\n",
              "      <td>101.00000</td>\n",
              "      <td>101.000000</td>\n",
              "    </tr>\n",
              "    <tr>\n",
              "      <th>mean</th>\n",
              "      <td>51.019802</td>\n",
              "      <td>22.188119</td>\n",
              "      <td>4.019802</td>\n",
              "      <td>3.287129</td>\n",
              "      <td>3.524752</td>\n",
              "      <td>2.648515</td>\n",
              "      <td>3.351485</td>\n",
              "      <td>6.871287</td>\n",
              "      <td>6.061386</td>\n",
              "      <td>6.043564</td>\n",
              "      <td>...</td>\n",
              "      <td>6.514851</td>\n",
              "      <td>6.490099</td>\n",
              "      <td>7.118812</td>\n",
              "      <td>7.978218</td>\n",
              "      <td>6.102128</td>\n",
              "      <td>6.161702</td>\n",
              "      <td>1.613861</td>\n",
              "      <td>9.564356</td>\n",
              "      <td>10.80198</td>\n",
              "      <td>10.435644</td>\n",
              "    </tr>\n",
              "    <tr>\n",
              "      <th>std</th>\n",
              "      <td>29.334274</td>\n",
              "      <td>5.942580</td>\n",
              "      <td>0.851237</td>\n",
              "      <td>1.253688</td>\n",
              "      <td>0.881409</td>\n",
              "      <td>1.439695</td>\n",
              "      <td>1.231959</td>\n",
              "      <td>1.686199</td>\n",
              "      <td>1.920571</td>\n",
              "      <td>1.970960</td>\n",
              "      <td>...</td>\n",
              "      <td>2.269863</td>\n",
              "      <td>2.303237</td>\n",
              "      <td>1.725034</td>\n",
              "      <td>1.760375</td>\n",
              "      <td>2.030467</td>\n",
              "      <td>2.054220</td>\n",
              "      <td>1.058020</td>\n",
              "      <td>4.517557</td>\n",
              "      <td>5.28965</td>\n",
              "      <td>5.378505</td>\n",
              "    </tr>\n",
              "    <tr>\n",
              "      <th>min</th>\n",
              "      <td>1.000000</td>\n",
              "      <td>15.000000</td>\n",
              "      <td>2.000000</td>\n",
              "      <td>1.000000</td>\n",
              "      <td>1.000000</td>\n",
              "      <td>1.000000</td>\n",
              "      <td>1.000000</td>\n",
              "      <td>3.000000</td>\n",
              "      <td>2.000000</td>\n",
              "      <td>2.000000</td>\n",
              "      <td>...</td>\n",
              "      <td>1.000000</td>\n",
              "      <td>1.000000</td>\n",
              "      <td>1.000000</td>\n",
              "      <td>1.800000</td>\n",
              "      <td>1.000000</td>\n",
              "      <td>1.000000</td>\n",
              "      <td>0.000000</td>\n",
              "      <td>1.000000</td>\n",
              "      <td>1.00000</td>\n",
              "      <td>1.000000</td>\n",
              "    </tr>\n",
              "    <tr>\n",
              "      <th>25%</th>\n",
              "      <td>26.000000</td>\n",
              "      <td>20.000000</td>\n",
              "      <td>3.000000</td>\n",
              "      <td>2.000000</td>\n",
              "      <td>3.000000</td>\n",
              "      <td>1.000000</td>\n",
              "      <td>3.000000</td>\n",
              "      <td>6.000000</td>\n",
              "      <td>5.000000</td>\n",
              "      <td>5.000000</td>\n",
              "      <td>...</td>\n",
              "      <td>5.000000</td>\n",
              "      <td>5.000000</td>\n",
              "      <td>6.000000</td>\n",
              "      <td>7.000000</td>\n",
              "      <td>5.000000</td>\n",
              "      <td>5.000000</td>\n",
              "      <td>1.000000</td>\n",
              "      <td>7.000000</td>\n",
              "      <td>7.00000</td>\n",
              "      <td>7.000000</td>\n",
              "    </tr>\n",
              "    <tr>\n",
              "      <th>50%</th>\n",
              "      <td>51.000000</td>\n",
              "      <td>21.000000</td>\n",
              "      <td>4.000000</td>\n",
              "      <td>3.000000</td>\n",
              "      <td>4.000000</td>\n",
              "      <td>3.000000</td>\n",
              "      <td>3.000000</td>\n",
              "      <td>7.000000</td>\n",
              "      <td>6.000000</td>\n",
              "      <td>6.000000</td>\n",
              "      <td>...</td>\n",
              "      <td>7.000000</td>\n",
              "      <td>7.000000</td>\n",
              "      <td>7.000000</td>\n",
              "      <td>8.000000</td>\n",
              "      <td>6.102128</td>\n",
              "      <td>6.161702</td>\n",
              "      <td>2.000000</td>\n",
              "      <td>10.000000</td>\n",
              "      <td>11.00000</td>\n",
              "      <td>10.000000</td>\n",
              "    </tr>\n",
              "    <tr>\n",
              "      <th>75%</th>\n",
              "      <td>76.000000</td>\n",
              "      <td>21.000000</td>\n",
              "      <td>5.000000</td>\n",
              "      <td>4.000000</td>\n",
              "      <td>4.000000</td>\n",
              "      <td>4.000000</td>\n",
              "      <td>4.000000</td>\n",
              "      <td>8.000000</td>\n",
              "      <td>7.000000</td>\n",
              "      <td>7.000000</td>\n",
              "      <td>...</td>\n",
              "      <td>8.000000</td>\n",
              "      <td>8.000000</td>\n",
              "      <td>8.000000</td>\n",
              "      <td>9.000000</td>\n",
              "      <td>8.000000</td>\n",
              "      <td>8.000000</td>\n",
              "      <td>2.000000</td>\n",
              "      <td>13.000000</td>\n",
              "      <td>16.00000</td>\n",
              "      <td>16.000000</td>\n",
              "    </tr>\n",
              "    <tr>\n",
              "      <th>max</th>\n",
              "      <td>102.000000</td>\n",
              "      <td>57.000000</td>\n",
              "      <td>5.000000</td>\n",
              "      <td>5.000000</td>\n",
              "      <td>5.000000</td>\n",
              "      <td>5.000000</td>\n",
              "      <td>5.000000</td>\n",
              "      <td>10.000000</td>\n",
              "      <td>10.000000</td>\n",
              "      <td>10.000000</td>\n",
              "      <td>...</td>\n",
              "      <td>10.000000</td>\n",
              "      <td>10.000000</td>\n",
              "      <td>10.000000</td>\n",
              "      <td>10.000000</td>\n",
              "      <td>10.000000</td>\n",
              "      <td>10.000000</td>\n",
              "      <td>3.000000</td>\n",
              "      <td>19.000000</td>\n",
              "      <td>19.00000</td>\n",
              "      <td>19.000000</td>\n",
              "    </tr>\n",
              "  </tbody>\n",
              "</table>\n",
              "<p>8 rows × 30 columns</p>\n",
              "</div>"
            ],
            "text/plain": [
              "               Id         Age    Openness  Extraversion  Agreeableness  \\\n",
              "count  101.000000  101.000000  101.000000    101.000000     101.000000   \n",
              "mean    51.019802   22.188119    4.019802      3.287129       3.524752   \n",
              "std     29.334274    5.942580    0.851237      1.253688       0.881409   \n",
              "min      1.000000   15.000000    2.000000      1.000000       1.000000   \n",
              "25%     26.000000   20.000000    3.000000      2.000000       3.000000   \n",
              "50%     51.000000   21.000000    4.000000      3.000000       4.000000   \n",
              "75%     76.000000   21.000000    5.000000      4.000000       4.000000   \n",
              "max    102.000000   57.000000    5.000000      5.000000       5.000000   \n",
              "\n",
              "       Conscientiousness  Neuroticism  Interface_1  Interface_2  Interface_3  \\\n",
              "count         101.000000   101.000000   101.000000   101.000000   101.000000   \n",
              "mean            2.648515     3.351485     6.871287     6.061386     6.043564   \n",
              "std             1.439695     1.231959     1.686199     1.920571     1.970960   \n",
              "min             1.000000     1.000000     3.000000     2.000000     2.000000   \n",
              "25%             1.000000     3.000000     6.000000     5.000000     5.000000   \n",
              "50%             3.000000     3.000000     7.000000     6.000000     6.000000   \n",
              "75%             4.000000     4.000000     8.000000     7.000000     7.000000   \n",
              "max             5.000000     5.000000    10.000000    10.000000    10.000000   \n",
              "\n",
              "       ...  Interface_14  Interface_15  Interface_16  Interface_17  \\\n",
              "count  ...    101.000000    101.000000    101.000000    101.000000   \n",
              "mean   ...      6.514851      6.490099      7.118812      7.978218   \n",
              "std    ...      2.269863      2.303237      1.725034      1.760375   \n",
              "min    ...      1.000000      1.000000      1.000000      1.800000   \n",
              "25%    ...      5.000000      5.000000      6.000000      7.000000   \n",
              "50%    ...      7.000000      7.000000      7.000000      8.000000   \n",
              "75%    ...      8.000000      8.000000      8.000000      9.000000   \n",
              "max    ...     10.000000     10.000000     10.000000     10.000000   \n",
              "\n",
              "       Extra_interface_1  Extra_interface_2  Test_Score       Top_1  \\\n",
              "count         101.000000         101.000000  101.000000  101.000000   \n",
              "mean            6.102128           6.161702    1.613861    9.564356   \n",
              "std             2.030467           2.054220    1.058020    4.517557   \n",
              "min             1.000000           1.000000    0.000000    1.000000   \n",
              "25%             5.000000           5.000000    1.000000    7.000000   \n",
              "50%             6.102128           6.161702    2.000000   10.000000   \n",
              "75%             8.000000           8.000000    2.000000   13.000000   \n",
              "max            10.000000          10.000000    3.000000   19.000000   \n",
              "\n",
              "           Top_2       Top_3  \n",
              "count  101.00000  101.000000  \n",
              "mean    10.80198   10.435644  \n",
              "std      5.28965    5.378505  \n",
              "min      1.00000    1.000000  \n",
              "25%      7.00000    7.000000  \n",
              "50%     11.00000   10.000000  \n",
              "75%     16.00000   16.000000  \n",
              "max     19.00000   19.000000  \n",
              "\n",
              "[8 rows x 30 columns]"
            ]
          },
          "execution_count": 14,
          "metadata": {},
          "output_type": "execute_result"
        }
      ],
      "source": [
        "data.describe()\n"
      ]
    },
    {
      "cell_type": "markdown",
      "metadata": {
        "id": "FXojprYTjB1Y"
      },
      "source": [
        "# Statistical analysis"
      ]
    },
    {
      "cell_type": "code",
      "execution_count": 15,
      "metadata": {
        "colab": {
          "base_uri": "https://localhost:8080/",
          "height": 1000
        },
        "id": "0CaDL9PDjB1Y",
        "outputId": "fa4e2f36-b54f-4c6f-8857-2b3ecae882c8"
      },
      "outputs": [
        {
          "data": {
            "text/html": [
              "<style type=\"text/css\">\n",
              "#T_a0b0c_row0_col0, #T_a0b0c_row1_col1, #T_a0b0c_row2_col2, #T_a0b0c_row3_col3, #T_a0b0c_row4_col4, #T_a0b0c_row5_col5, #T_a0b0c_row6_col6, #T_a0b0c_row7_col7, #T_a0b0c_row8_col8, #T_a0b0c_row9_col9, #T_a0b0c_row10_col10, #T_a0b0c_row11_col11, #T_a0b0c_row12_col12, #T_a0b0c_row13_col13, #T_a0b0c_row14_col14, #T_a0b0c_row15_col15, #T_a0b0c_row16_col16, #T_a0b0c_row17_col17, #T_a0b0c_row18_col18, #T_a0b0c_row19_col19, #T_a0b0c_row20_col20, #T_a0b0c_row21_col21, #T_a0b0c_row22_col22, #T_a0b0c_row23_col23, #T_a0b0c_row24_col24, #T_a0b0c_row25_col25, #T_a0b0c_row26_col26, #T_a0b0c_row27_col27, #T_a0b0c_row28_col28, #T_a0b0c_row29_col29 {\n",
              "  background-color: #f2f2f2;\n",
              "  color: #000000;\n",
              "}\n",
              "#T_a0b0c_row0_col1, #T_a0b0c_row0_col3, #T_a0b0c_row0_col5, #T_a0b0c_row0_col11, #T_a0b0c_row0_col12, #T_a0b0c_row0_col15, #T_a0b0c_row0_col20, #T_a0b0c_row0_col21, #T_a0b0c_row0_col22, #T_a0b0c_row0_col25, #T_a0b0c_row0_col29, #T_a0b0c_row1_col0, #T_a0b0c_row1_col16, #T_a0b0c_row1_col23, #T_a0b0c_row1_col26, #T_a0b0c_row2_col1, #T_a0b0c_row2_col15, #T_a0b0c_row2_col25, #T_a0b0c_row2_col26, #T_a0b0c_row2_col28, #T_a0b0c_row3_col0, #T_a0b0c_row3_col19, #T_a0b0c_row3_col23, #T_a0b0c_row3_col25, #T_a0b0c_row4_col12, #T_a0b0c_row4_col13, #T_a0b0c_row4_col16, #T_a0b0c_row4_col19, #T_a0b0c_row4_col23, #T_a0b0c_row4_col25, #T_a0b0c_row4_col26, #T_a0b0c_row5_col0, #T_a0b0c_row5_col25, #T_a0b0c_row5_col26, #T_a0b0c_row6_col1, #T_a0b0c_row6_col3, #T_a0b0c_row6_col22, #T_a0b0c_row6_col28, #T_a0b0c_row7_col3, #T_a0b0c_row7_col26, #T_a0b0c_row7_col27, #T_a0b0c_row7_col28, #T_a0b0c_row7_col29, #T_a0b0c_row8_col0, #T_a0b0c_row8_col26, #T_a0b0c_row8_col27, #T_a0b0c_row8_col28, #T_a0b0c_row8_col29, #T_a0b0c_row9_col0, #T_a0b0c_row9_col27, #T_a0b0c_row9_col28, #T_a0b0c_row9_col29, #T_a0b0c_row10_col26, #T_a0b0c_row11_col0, #T_a0b0c_row11_col26, #T_a0b0c_row11_col28, #T_a0b0c_row12_col0, #T_a0b0c_row12_col26, #T_a0b0c_row13_col1, #T_a0b0c_row13_col4, #T_a0b0c_row13_col26, #T_a0b0c_row14_col26, #T_a0b0c_row14_col28, #T_a0b0c_row15_col26, #T_a0b0c_row16_col1, #T_a0b0c_row16_col3, #T_a0b0c_row16_col4, #T_a0b0c_row16_col22, #T_a0b0c_row16_col26, #T_a0b0c_row17_col1, #T_a0b0c_row18_col1, #T_a0b0c_row18_col26, #T_a0b0c_row18_col28, #T_a0b0c_row19_col4, #T_a0b0c_row19_col26, #T_a0b0c_row20_col0, #T_a0b0c_row21_col0, #T_a0b0c_row21_col3, #T_a0b0c_row22_col0, #T_a0b0c_row23_col1, #T_a0b0c_row23_col3, #T_a0b0c_row23_col4, #T_a0b0c_row23_col29, #T_a0b0c_row24_col26, #T_a0b0c_row25_col3, #T_a0b0c_row25_col26, #T_a0b0c_row26_col1, #T_a0b0c_row26_col4, #T_a0b0c_row26_col12, #T_a0b0c_row26_col13, #T_a0b0c_row26_col15, #T_a0b0c_row26_col19, #T_a0b0c_row26_col25, #T_a0b0c_row27_col1, #T_a0b0c_row27_col3, #T_a0b0c_row27_col6, #T_a0b0c_row27_col7, #T_a0b0c_row27_col8, #T_a0b0c_row27_col9, #T_a0b0c_row27_col10, #T_a0b0c_row27_col11, #T_a0b0c_row27_col12, #T_a0b0c_row27_col13, #T_a0b0c_row27_col14, #T_a0b0c_row27_col15, #T_a0b0c_row27_col16, #T_a0b0c_row27_col17, #T_a0b0c_row27_col18, #T_a0b0c_row27_col22, #T_a0b0c_row27_col24, #T_a0b0c_row27_col25, #T_a0b0c_row28_col2, #T_a0b0c_row28_col3, #T_a0b0c_row28_col4, #T_a0b0c_row28_col6, #T_a0b0c_row28_col7, #T_a0b0c_row28_col8, #T_a0b0c_row28_col9, #T_a0b0c_row28_col10, #T_a0b0c_row28_col11, #T_a0b0c_row28_col12, #T_a0b0c_row28_col13, #T_a0b0c_row28_col14, #T_a0b0c_row28_col15, #T_a0b0c_row28_col18, #T_a0b0c_row28_col19, #T_a0b0c_row28_col24, #T_a0b0c_row28_col25, #T_a0b0c_row29_col0, #T_a0b0c_row29_col2, #T_a0b0c_row29_col3, #T_a0b0c_row29_col7, #T_a0b0c_row29_col9, #T_a0b0c_row29_col11, #T_a0b0c_row29_col16, #T_a0b0c_row29_col17, #T_a0b0c_row29_col22, #T_a0b0c_row29_col23, #T_a0b0c_row29_col26 {\n",
              "  background-color: #fbb4ae;\n",
              "  color: #000000;\n",
              "}\n",
              "#T_a0b0c_row0_col2, #T_a0b0c_row0_col4, #T_a0b0c_row0_col8, #T_a0b0c_row0_col9, #T_a0b0c_row0_col10, #T_a0b0c_row0_col13, #T_a0b0c_row0_col14, #T_a0b0c_row0_col17, #T_a0b0c_row0_col18, #T_a0b0c_row0_col19, #T_a0b0c_row0_col23, #T_a0b0c_row0_col24, #T_a0b0c_row0_col26, #T_a0b0c_row1_col2, #T_a0b0c_row1_col6, #T_a0b0c_row1_col13, #T_a0b0c_row1_col14, #T_a0b0c_row1_col15, #T_a0b0c_row1_col17, #T_a0b0c_row1_col18, #T_a0b0c_row1_col19, #T_a0b0c_row1_col22, #T_a0b0c_row1_col25, #T_a0b0c_row2_col0, #T_a0b0c_row2_col4, #T_a0b0c_row2_col12, #T_a0b0c_row2_col17, #T_a0b0c_row2_col20, #T_a0b0c_row2_col21, #T_a0b0c_row2_col22, #T_a0b0c_row2_col23, #T_a0b0c_row2_col29, #T_a0b0c_row3_col6, #T_a0b0c_row3_col13, #T_a0b0c_row3_col15, #T_a0b0c_row3_col16, #T_a0b0c_row3_col18, #T_a0b0c_row3_col21, #T_a0b0c_row3_col26, #T_a0b0c_row3_col28, #T_a0b0c_row4_col0, #T_a0b0c_row4_col2, #T_a0b0c_row4_col5, #T_a0b0c_row4_col14, #T_a0b0c_row4_col15, #T_a0b0c_row4_col17, #T_a0b0c_row4_col18, #T_a0b0c_row4_col20, #T_a0b0c_row4_col21, #T_a0b0c_row4_col22, #T_a0b0c_row4_col28, #T_a0b0c_row4_col29, #T_a0b0c_row5_col3, #T_a0b0c_row5_col10, #T_a0b0c_row5_col13, #T_a0b0c_row5_col16, #T_a0b0c_row5_col18, #T_a0b0c_row5_col22, #T_a0b0c_row5_col24, #T_a0b0c_row6_col0, #T_a0b0c_row6_col2, #T_a0b0c_row6_col5, #T_a0b0c_row6_col12, #T_a0b0c_row6_col13, #T_a0b0c_row6_col14, #T_a0b0c_row6_col15, #T_a0b0c_row6_col19, #T_a0b0c_row6_col20, #T_a0b0c_row6_col21, #T_a0b0c_row6_col23, #T_a0b0c_row6_col25, #T_a0b0c_row6_col26, #T_a0b0c_row6_col27, #T_a0b0c_row6_col29, #T_a0b0c_row7_col0, #T_a0b0c_row7_col1, #T_a0b0c_row7_col2, #T_a0b0c_row8_col1, #T_a0b0c_row8_col2, #T_a0b0c_row9_col1, #T_a0b0c_row9_col3, #T_a0b0c_row9_col5, #T_a0b0c_row9_col25, #T_a0b0c_row9_col26, #T_a0b0c_row10_col0, #T_a0b0c_row10_col4, #T_a0b0c_row10_col5, #T_a0b0c_row10_col22, #T_a0b0c_row10_col23, #T_a0b0c_row10_col27, #T_a0b0c_row10_col28, #T_a0b0c_row11_col1, #T_a0b0c_row11_col3, #T_a0b0c_row11_col19, #T_a0b0c_row11_col27, #T_a0b0c_row11_col29, #T_a0b0c_row12_col1, #T_a0b0c_row12_col4, #T_a0b0c_row12_col28, #T_a0b0c_row13_col0, #T_a0b0c_row13_col3, #T_a0b0c_row13_col5, #T_a0b0c_row13_col28, #T_a0b0c_row14_col0, #T_a0b0c_row14_col1, #T_a0b0c_row14_col3, #T_a0b0c_row14_col4, #T_a0b0c_row14_col5, #T_a0b0c_row14_col6, #T_a0b0c_row14_col27, #T_a0b0c_row15_col0, #T_a0b0c_row15_col1, #T_a0b0c_row15_col2, #T_a0b0c_row15_col3, #T_a0b0c_row15_col27, #T_a0b0c_row15_col28, #T_a0b0c_row16_col5, #T_a0b0c_row16_col21, #T_a0b0c_row16_col29, #T_a0b0c_row17_col0, #T_a0b0c_row17_col2, #T_a0b0c_row17_col3, #T_a0b0c_row17_col4, #T_a0b0c_row17_col26, #T_a0b0c_row17_col27, #T_a0b0c_row17_col29, #T_a0b0c_row18_col0, #T_a0b0c_row18_col3, #T_a0b0c_row18_col4, #T_a0b0c_row18_col5, #T_a0b0c_row18_col27, #T_a0b0c_row19_col0, #T_a0b0c_row19_col1, #T_a0b0c_row19_col3, #T_a0b0c_row20_col2, #T_a0b0c_row20_col3, #T_a0b0c_row20_col4, #T_a0b0c_row20_col6, #T_a0b0c_row20_col26, #T_a0b0c_row21_col2, #T_a0b0c_row21_col4, #T_a0b0c_row21_col6, #T_a0b0c_row21_col16, #T_a0b0c_row21_col22, #T_a0b0c_row21_col26, #T_a0b0c_row22_col1, #T_a0b0c_row22_col6, #T_a0b0c_row22_col16, #T_a0b0c_row22_col25, #T_a0b0c_row22_col26, #T_a0b0c_row22_col29, #T_a0b0c_row23_col6, #T_a0b0c_row23_col26, #T_a0b0c_row24_col0, #T_a0b0c_row24_col5, #T_a0b0c_row24_col22, #T_a0b0c_row24_col23, #T_a0b0c_row24_col27, #T_a0b0c_row24_col28, #T_a0b0c_row25_col0, #T_a0b0c_row25_col1, #T_a0b0c_row25_col2, #T_a0b0c_row25_col4, #T_a0b0c_row25_col5, #T_a0b0c_row25_col22, #T_a0b0c_row25_col28, #T_a0b0c_row26_col0, #T_a0b0c_row26_col2, #T_a0b0c_row26_col3, #T_a0b0c_row26_col5, #T_a0b0c_row26_col10, #T_a0b0c_row26_col11, #T_a0b0c_row26_col14, #T_a0b0c_row26_col16, #T_a0b0c_row26_col18, #T_a0b0c_row26_col22, #T_a0b0c_row26_col24, #T_a0b0c_row27_col4, #T_a0b0c_row27_col5, #T_a0b0c_row27_col19, #T_a0b0c_row27_col20, #T_a0b0c_row27_col21, #T_a0b0c_row27_col26, #T_a0b0c_row27_col29, #T_a0b0c_row28_col0, #T_a0b0c_row28_col1, #T_a0b0c_row28_col5, #T_a0b0c_row28_col16, #T_a0b0c_row28_col17, #T_a0b0c_row28_col20, #T_a0b0c_row28_col21, #T_a0b0c_row28_col22, #T_a0b0c_row28_col26, #T_a0b0c_row29_col1, #T_a0b0c_row29_col4, #T_a0b0c_row29_col5, #T_a0b0c_row29_col6, #T_a0b0c_row29_col8, #T_a0b0c_row29_col10, #T_a0b0c_row29_col12, #T_a0b0c_row29_col15, #T_a0b0c_row29_col18, #T_a0b0c_row29_col19, #T_a0b0c_row29_col25 {\n",
              "  background-color: #b3cde3;\n",
              "  color: #000000;\n",
              "}\n",
              "#T_a0b0c_row0_col6, #T_a0b0c_row0_col7, #T_a0b0c_row0_col16, #T_a0b0c_row0_col28, #T_a0b0c_row1_col3, #T_a0b0c_row1_col5, #T_a0b0c_row1_col7, #T_a0b0c_row1_col9, #T_a0b0c_row1_col10, #T_a0b0c_row1_col11, #T_a0b0c_row1_col12, #T_a0b0c_row1_col20, #T_a0b0c_row1_col21, #T_a0b0c_row1_col27, #T_a0b0c_row1_col28, #T_a0b0c_row1_col29, #T_a0b0c_row2_col5, #T_a0b0c_row2_col6, #T_a0b0c_row2_col7, #T_a0b0c_row2_col8, #T_a0b0c_row2_col10, #T_a0b0c_row2_col13, #T_a0b0c_row2_col14, #T_a0b0c_row2_col16, #T_a0b0c_row2_col18, #T_a0b0c_row2_col19, #T_a0b0c_row2_col24, #T_a0b0c_row3_col1, #T_a0b0c_row3_col4, #T_a0b0c_row3_col5, #T_a0b0c_row3_col7, #T_a0b0c_row3_col9, #T_a0b0c_row3_col11, #T_a0b0c_row3_col12, #T_a0b0c_row3_col14, #T_a0b0c_row3_col17, #T_a0b0c_row3_col20, #T_a0b0c_row3_col22, #T_a0b0c_row3_col24, #T_a0b0c_row3_col27, #T_a0b0c_row3_col29, #T_a0b0c_row4_col1, #T_a0b0c_row4_col3, #T_a0b0c_row4_col6, #T_a0b0c_row4_col7, #T_a0b0c_row4_col9, #T_a0b0c_row4_col10, #T_a0b0c_row4_col11, #T_a0b0c_row4_col24, #T_a0b0c_row4_col27, #T_a0b0c_row5_col1, #T_a0b0c_row5_col2, #T_a0b0c_row5_col4, #T_a0b0c_row5_col6, #T_a0b0c_row5_col9, #T_a0b0c_row5_col11, #T_a0b0c_row5_col12, #T_a0b0c_row5_col14, #T_a0b0c_row5_col15, #T_a0b0c_row5_col17, #T_a0b0c_row5_col19, #T_a0b0c_row5_col20, #T_a0b0c_row5_col21, #T_a0b0c_row5_col23, #T_a0b0c_row5_col27, #T_a0b0c_row5_col28, #T_a0b0c_row5_col29, #T_a0b0c_row6_col4, #T_a0b0c_row6_col17, #T_a0b0c_row6_col24, #T_a0b0c_row7_col4, #T_a0b0c_row7_col5, #T_a0b0c_row7_col12, #T_a0b0c_row7_col13, #T_a0b0c_row7_col14, #T_a0b0c_row7_col15, #T_a0b0c_row7_col19, #T_a0b0c_row7_col20, #T_a0b0c_row7_col22, #T_a0b0c_row7_col25, #T_a0b0c_row8_col3, #T_a0b0c_row8_col4, #T_a0b0c_row8_col5, #T_a0b0c_row8_col6, #T_a0b0c_row8_col19, #T_a0b0c_row8_col22, #T_a0b0c_row8_col25, #T_a0b0c_row9_col2, #T_a0b0c_row9_col4, #T_a0b0c_row9_col14, #T_a0b0c_row9_col15, #T_a0b0c_row9_col19, #T_a0b0c_row9_col20, #T_a0b0c_row9_col22, #T_a0b0c_row10_col1, #T_a0b0c_row10_col2, #T_a0b0c_row10_col3, #T_a0b0c_row10_col12, #T_a0b0c_row10_col15, #T_a0b0c_row10_col17, #T_a0b0c_row10_col25, #T_a0b0c_row10_col29, #T_a0b0c_row11_col4, #T_a0b0c_row11_col5, #T_a0b0c_row11_col15, #T_a0b0c_row11_col25, #T_a0b0c_row12_col2, #T_a0b0c_row12_col3, #T_a0b0c_row12_col5, #T_a0b0c_row12_col6, #T_a0b0c_row12_col10, #T_a0b0c_row12_col22, #T_a0b0c_row12_col27, #T_a0b0c_row12_col29, #T_a0b0c_row13_col2, #T_a0b0c_row13_col6, #T_a0b0c_row13_col17, #T_a0b0c_row13_col22, #T_a0b0c_row13_col23, #T_a0b0c_row13_col27, #T_a0b0c_row13_col29, #T_a0b0c_row14_col2, #T_a0b0c_row14_col19, #T_a0b0c_row14_col22, #T_a0b0c_row14_col23, #T_a0b0c_row14_col29, #T_a0b0c_row15_col4, #T_a0b0c_row15_col5, #T_a0b0c_row15_col6, #T_a0b0c_row15_col10, #T_a0b0c_row15_col17, #T_a0b0c_row15_col22, #T_a0b0c_row15_col23, #T_a0b0c_row15_col29, #T_a0b0c_row16_col0, #T_a0b0c_row16_col2, #T_a0b0c_row16_col12, #T_a0b0c_row16_col15, #T_a0b0c_row16_col17, #T_a0b0c_row16_col18, #T_a0b0c_row16_col19, #T_a0b0c_row16_col20, #T_a0b0c_row16_col23, #T_a0b0c_row16_col27, #T_a0b0c_row16_col28, #T_a0b0c_row17_col5, #T_a0b0c_row17_col6, #T_a0b0c_row17_col13, #T_a0b0c_row17_col15, #T_a0b0c_row17_col16, #T_a0b0c_row17_col28, #T_a0b0c_row18_col2, #T_a0b0c_row18_col15, #T_a0b0c_row18_col16, #T_a0b0c_row18_col29, #T_a0b0c_row19_col5, #T_a0b0c_row19_col6, #T_a0b0c_row19_col11, #T_a0b0c_row19_col25, #T_a0b0c_row19_col28, #T_a0b0c_row19_col29, #T_a0b0c_row20_col1, #T_a0b0c_row20_col5, #T_a0b0c_row20_col16, #T_a0b0c_row20_col22, #T_a0b0c_row20_col25, #T_a0b0c_row20_col27, #T_a0b0c_row20_col28, #T_a0b0c_row20_col29, #T_a0b0c_row21_col1, #T_a0b0c_row21_col5, #T_a0b0c_row21_col25, #T_a0b0c_row21_col27, #T_a0b0c_row21_col28, #T_a0b0c_row21_col29, #T_a0b0c_row22_col2, #T_a0b0c_row22_col3, #T_a0b0c_row22_col4, #T_a0b0c_row22_col5, #T_a0b0c_row22_col10, #T_a0b0c_row22_col12, #T_a0b0c_row22_col13, #T_a0b0c_row22_col15, #T_a0b0c_row22_col20, #T_a0b0c_row22_col21, #T_a0b0c_row22_col24, #T_a0b0c_row22_col27, #T_a0b0c_row23_col0, #T_a0b0c_row23_col2, #T_a0b0c_row23_col5, #T_a0b0c_row23_col10, #T_a0b0c_row23_col13, #T_a0b0c_row23_col14, #T_a0b0c_row23_col15, #T_a0b0c_row23_col16, #T_a0b0c_row23_col24, #T_a0b0c_row23_col25, #T_a0b0c_row24_col1, #T_a0b0c_row24_col2, #T_a0b0c_row24_col3, #T_a0b0c_row24_col4, #T_a0b0c_row24_col6, #T_a0b0c_row24_col15, #T_a0b0c_row25_col6, #T_a0b0c_row25_col19, #T_a0b0c_row25_col27, #T_a0b0c_row25_col29, #T_a0b0c_row26_col6, #T_a0b0c_row26_col7, #T_a0b0c_row26_col8, #T_a0b0c_row26_col9, #T_a0b0c_row26_col17, #T_a0b0c_row26_col20, #T_a0b0c_row26_col21, #T_a0b0c_row26_col23, #T_a0b0c_row26_col28, #T_a0b0c_row26_col29, #T_a0b0c_row27_col0, #T_a0b0c_row27_col2, #T_a0b0c_row27_col23, #T_a0b0c_row28_col23, #T_a0b0c_row28_col29, #T_a0b0c_row29_col13, #T_a0b0c_row29_col14, #T_a0b0c_row29_col20, #T_a0b0c_row29_col21, #T_a0b0c_row29_col24, #T_a0b0c_row29_col27, #T_a0b0c_row29_col28 {\n",
              "  background-color: #ccebc5;\n",
              "  color: #000000;\n",
              "}\n",
              "#T_a0b0c_row0_col27, #T_a0b0c_row1_col4, #T_a0b0c_row1_col8, #T_a0b0c_row1_col24, #T_a0b0c_row2_col3, #T_a0b0c_row2_col9, #T_a0b0c_row2_col11, #T_a0b0c_row2_col27, #T_a0b0c_row3_col2, #T_a0b0c_row3_col8, #T_a0b0c_row3_col10, #T_a0b0c_row4_col8, #T_a0b0c_row5_col7, #T_a0b0c_row5_col8, #T_a0b0c_row6_col8, #T_a0b0c_row6_col9, #T_a0b0c_row6_col10, #T_a0b0c_row6_col11, #T_a0b0c_row6_col16, #T_a0b0c_row6_col18, #T_a0b0c_row7_col6, #T_a0b0c_row7_col16, #T_a0b0c_row7_col21, #T_a0b0c_row7_col24, #T_a0b0c_row8_col12, #T_a0b0c_row8_col13, #T_a0b0c_row8_col14, #T_a0b0c_row8_col15, #T_a0b0c_row8_col16, #T_a0b0c_row8_col18, #T_a0b0c_row8_col20, #T_a0b0c_row8_col21, #T_a0b0c_row8_col23, #T_a0b0c_row9_col6, #T_a0b0c_row9_col10, #T_a0b0c_row9_col12, #T_a0b0c_row9_col13, #T_a0b0c_row9_col16, #T_a0b0c_row9_col21, #T_a0b0c_row9_col23, #T_a0b0c_row9_col24, #T_a0b0c_row10_col6, #T_a0b0c_row10_col9, #T_a0b0c_row10_col11, #T_a0b0c_row10_col13, #T_a0b0c_row10_col14, #T_a0b0c_row10_col16, #T_a0b0c_row10_col19, #T_a0b0c_row10_col21, #T_a0b0c_row11_col2, #T_a0b0c_row11_col6, #T_a0b0c_row11_col10, #T_a0b0c_row11_col12, #T_a0b0c_row11_col14, #T_a0b0c_row11_col16, #T_a0b0c_row11_col17, #T_a0b0c_row11_col18, #T_a0b0c_row11_col20, #T_a0b0c_row11_col21, #T_a0b0c_row11_col22, #T_a0b0c_row11_col23, #T_a0b0c_row11_col24, #T_a0b0c_row12_col7, #T_a0b0c_row12_col16, #T_a0b0c_row12_col18, #T_a0b0c_row12_col19, #T_a0b0c_row12_col23, #T_a0b0c_row13_col7, #T_a0b0c_row13_col9, #T_a0b0c_row13_col10, #T_a0b0c_row13_col16, #T_a0b0c_row13_col18, #T_a0b0c_row13_col19, #T_a0b0c_row13_col20, #T_a0b0c_row13_col21, #T_a0b0c_row14_col7, #T_a0b0c_row14_col9, #T_a0b0c_row14_col10, #T_a0b0c_row14_col11, #T_a0b0c_row14_col16, #T_a0b0c_row14_col17, #T_a0b0c_row14_col20, #T_a0b0c_row14_col21, #T_a0b0c_row15_col7, #T_a0b0c_row15_col9, #T_a0b0c_row15_col11, #T_a0b0c_row15_col16, #T_a0b0c_row15_col18, #T_a0b0c_row15_col19, #T_a0b0c_row15_col20, #T_a0b0c_row15_col21, #T_a0b0c_row15_col24, #T_a0b0c_row15_col25, #T_a0b0c_row16_col6, #T_a0b0c_row16_col7, #T_a0b0c_row16_col8, #T_a0b0c_row16_col9, #T_a0b0c_row16_col10, #T_a0b0c_row16_col11, #T_a0b0c_row16_col13, #T_a0b0c_row16_col14, #T_a0b0c_row16_col25, #T_a0b0c_row17_col10, #T_a0b0c_row17_col12, #T_a0b0c_row17_col14, #T_a0b0c_row17_col19, #T_a0b0c_row17_col20, #T_a0b0c_row17_col21, #T_a0b0c_row17_col24, #T_a0b0c_row17_col25, #T_a0b0c_row18_col6, #T_a0b0c_row18_col12, #T_a0b0c_row18_col13, #T_a0b0c_row18_col19, #T_a0b0c_row18_col20, #T_a0b0c_row18_col21, #T_a0b0c_row18_col22, #T_a0b0c_row18_col23, #T_a0b0c_row18_col25, #T_a0b0c_row19_col2, #T_a0b0c_row19_col7, #T_a0b0c_row19_col8, #T_a0b0c_row19_col9, #T_a0b0c_row19_col12, #T_a0b0c_row19_col13, #T_a0b0c_row19_col14, #T_a0b0c_row19_col15, #T_a0b0c_row19_col16, #T_a0b0c_row19_col17, #T_a0b0c_row19_col18, #T_a0b0c_row19_col22, #T_a0b0c_row19_col23, #T_a0b0c_row19_col27, #T_a0b0c_row20_col7, #T_a0b0c_row20_col9, #T_a0b0c_row20_col11, #T_a0b0c_row20_col13, #T_a0b0c_row20_col14, #T_a0b0c_row20_col15, #T_a0b0c_row20_col17, #T_a0b0c_row20_col18, #T_a0b0c_row20_col23, #T_a0b0c_row21_col9, #T_a0b0c_row21_col10, #T_a0b0c_row21_col13, #T_a0b0c_row21_col14, #T_a0b0c_row21_col15, #T_a0b0c_row21_col17, #T_a0b0c_row21_col18, #T_a0b0c_row22_col9, #T_a0b0c_row22_col14, #T_a0b0c_row22_col19, #T_a0b0c_row22_col28, #T_a0b0c_row23_col12, #T_a0b0c_row23_col18, #T_a0b0c_row23_col19, #T_a0b0c_row23_col20, #T_a0b0c_row23_col27, #T_a0b0c_row23_col28, #T_a0b0c_row24_col11, #T_a0b0c_row24_col12, #T_a0b0c_row24_col14, #T_a0b0c_row24_col16, #T_a0b0c_row24_col17, #T_a0b0c_row24_col19, #T_a0b0c_row24_col25, #T_a0b0c_row24_col29, #T_a0b0c_row25_col7, #T_a0b0c_row25_col8, #T_a0b0c_row25_col9, #T_a0b0c_row25_col10, #T_a0b0c_row25_col11, #T_a0b0c_row25_col15, #T_a0b0c_row25_col16, #T_a0b0c_row25_col20, #T_a0b0c_row25_col21, #T_a0b0c_row25_col23, #T_a0b0c_row26_col27, #T_a0b0c_row27_col28, #T_a0b0c_row28_col27 {\n",
              "  background-color: #decbe4;\n",
              "  color: #000000;\n",
              "}\n",
              "#T_a0b0c_row6_col7, #T_a0b0c_row7_col10, #T_a0b0c_row7_col18, #T_a0b0c_row7_col23, #T_a0b0c_row8_col10, #T_a0b0c_row8_col11, #T_a0b0c_row8_col17, #T_a0b0c_row8_col24, #T_a0b0c_row9_col11, #T_a0b0c_row9_col17, #T_a0b0c_row9_col18, #T_a0b0c_row10_col7, #T_a0b0c_row10_col18, #T_a0b0c_row10_col20, #T_a0b0c_row11_col9, #T_a0b0c_row11_col13, #T_a0b0c_row12_col8, #T_a0b0c_row12_col9, #T_a0b0c_row12_col11, #T_a0b0c_row12_col17, #T_a0b0c_row12_col20, #T_a0b0c_row12_col21, #T_a0b0c_row12_col24, #T_a0b0c_row13_col8, #T_a0b0c_row13_col11, #T_a0b0c_row13_col15, #T_a0b0c_row13_col24, #T_a0b0c_row13_col25, #T_a0b0c_row14_col8, #T_a0b0c_row14_col18, #T_a0b0c_row14_col24, #T_a0b0c_row15_col8, #T_a0b0c_row15_col13, #T_a0b0c_row16_col24, #T_a0b0c_row17_col8, #T_a0b0c_row17_col9, #T_a0b0c_row17_col11, #T_a0b0c_row17_col22, #T_a0b0c_row17_col23, #T_a0b0c_row18_col7, #T_a0b0c_row18_col8, #T_a0b0c_row18_col9, #T_a0b0c_row18_col10, #T_a0b0c_row18_col11, #T_a0b0c_row18_col14, #T_a0b0c_row18_col24, #T_a0b0c_row19_col10, #T_a0b0c_row19_col20, #T_a0b0c_row19_col21, #T_a0b0c_row19_col24, #T_a0b0c_row20_col8, #T_a0b0c_row20_col10, #T_a0b0c_row20_col12, #T_a0b0c_row20_col19, #T_a0b0c_row21_col7, #T_a0b0c_row21_col8, #T_a0b0c_row21_col11, #T_a0b0c_row21_col12, #T_a0b0c_row21_col19, #T_a0b0c_row21_col23, #T_a0b0c_row21_col24, #T_a0b0c_row22_col7, #T_a0b0c_row22_col8, #T_a0b0c_row22_col11, #T_a0b0c_row22_col17, #T_a0b0c_row22_col18, #T_a0b0c_row22_col23, #T_a0b0c_row23_col7, #T_a0b0c_row23_col8, #T_a0b0c_row23_col9, #T_a0b0c_row23_col11, #T_a0b0c_row23_col17, #T_a0b0c_row23_col21, #T_a0b0c_row23_col22, #T_a0b0c_row24_col7, #T_a0b0c_row24_col8, #T_a0b0c_row24_col9, #T_a0b0c_row24_col13, #T_a0b0c_row24_col18, #T_a0b0c_row24_col21, #T_a0b0c_row25_col17, #T_a0b0c_row25_col18, #T_a0b0c_row25_col24 {\n",
              "  background-color: #fed9a6;\n",
              "  color: #000000;\n",
              "}\n",
              "#T_a0b0c_row7_col8, #T_a0b0c_row8_col7, #T_a0b0c_row12_col13, #T_a0b0c_row12_col14, #T_a0b0c_row13_col12, #T_a0b0c_row14_col15 {\n",
              "  background-color: #e5d8bd;\n",
              "  color: #000000;\n",
              "}\n",
              "#T_a0b0c_row7_col9, #T_a0b0c_row8_col9, #T_a0b0c_row9_col7, #T_a0b0c_row9_col8, #T_a0b0c_row10_col24, #T_a0b0c_row15_col14, #T_a0b0c_row20_col21, #T_a0b0c_row21_col20, #T_a0b0c_row24_col10 {\n",
              "  background-color: #fddaec;\n",
              "  color: #000000;\n",
              "}\n",
              "#T_a0b0c_row7_col11, #T_a0b0c_row7_col17, #T_a0b0c_row10_col8, #T_a0b0c_row11_col7, #T_a0b0c_row11_col8, #T_a0b0c_row12_col15, #T_a0b0c_row12_col25, #T_a0b0c_row13_col14, #T_a0b0c_row14_col12, #T_a0b0c_row14_col13, #T_a0b0c_row14_col25, #T_a0b0c_row15_col12, #T_a0b0c_row17_col7, #T_a0b0c_row17_col18, #T_a0b0c_row18_col17, #T_a0b0c_row20_col24, #T_a0b0c_row24_col20, #T_a0b0c_row25_col12, #T_a0b0c_row25_col13, #T_a0b0c_row25_col14 {\n",
              "  background-color: #ffffcc;\n",
              "  color: #000000;\n",
              "}\n",
              "</style>\n",
              "<table id=\"T_a0b0c\">\n",
              "  <thead>\n",
              "    <tr>\n",
              "      <th class=\"blank level0\" >&nbsp;</th>\n",
              "      <th id=\"T_a0b0c_level0_col0\" class=\"col_heading level0 col0\" >Id</th>\n",
              "      <th id=\"T_a0b0c_level0_col1\" class=\"col_heading level0 col1\" >Age</th>\n",
              "      <th id=\"T_a0b0c_level0_col2\" class=\"col_heading level0 col2\" >Openness</th>\n",
              "      <th id=\"T_a0b0c_level0_col3\" class=\"col_heading level0 col3\" >Extraversion</th>\n",
              "      <th id=\"T_a0b0c_level0_col4\" class=\"col_heading level0 col4\" >Agreeableness</th>\n",
              "      <th id=\"T_a0b0c_level0_col5\" class=\"col_heading level0 col5\" >Conscientiousness</th>\n",
              "      <th id=\"T_a0b0c_level0_col6\" class=\"col_heading level0 col6\" >Neuroticism</th>\n",
              "      <th id=\"T_a0b0c_level0_col7\" class=\"col_heading level0 col7\" >Interface_1</th>\n",
              "      <th id=\"T_a0b0c_level0_col8\" class=\"col_heading level0 col8\" >Interface_2</th>\n",
              "      <th id=\"T_a0b0c_level0_col9\" class=\"col_heading level0 col9\" >Interface_3</th>\n",
              "      <th id=\"T_a0b0c_level0_col10\" class=\"col_heading level0 col10\" >Interface_4</th>\n",
              "      <th id=\"T_a0b0c_level0_col11\" class=\"col_heading level0 col11\" >Interface_5</th>\n",
              "      <th id=\"T_a0b0c_level0_col12\" class=\"col_heading level0 col12\" >Interface_6</th>\n",
              "      <th id=\"T_a0b0c_level0_col13\" class=\"col_heading level0 col13\" >Interface_7</th>\n",
              "      <th id=\"T_a0b0c_level0_col14\" class=\"col_heading level0 col14\" >Interface_8</th>\n",
              "      <th id=\"T_a0b0c_level0_col15\" class=\"col_heading level0 col15\" >Interface_9</th>\n",
              "      <th id=\"T_a0b0c_level0_col16\" class=\"col_heading level0 col16\" >Interface_10</th>\n",
              "      <th id=\"T_a0b0c_level0_col17\" class=\"col_heading level0 col17\" >Interface_11</th>\n",
              "      <th id=\"T_a0b0c_level0_col18\" class=\"col_heading level0 col18\" >Interface_12</th>\n",
              "      <th id=\"T_a0b0c_level0_col19\" class=\"col_heading level0 col19\" >Interface_13</th>\n",
              "      <th id=\"T_a0b0c_level0_col20\" class=\"col_heading level0 col20\" >Interface_14</th>\n",
              "      <th id=\"T_a0b0c_level0_col21\" class=\"col_heading level0 col21\" >Interface_15</th>\n",
              "      <th id=\"T_a0b0c_level0_col22\" class=\"col_heading level0 col22\" >Interface_16</th>\n",
              "      <th id=\"T_a0b0c_level0_col23\" class=\"col_heading level0 col23\" >Interface_17</th>\n",
              "      <th id=\"T_a0b0c_level0_col24\" class=\"col_heading level0 col24\" >Extra_interface_1</th>\n",
              "      <th id=\"T_a0b0c_level0_col25\" class=\"col_heading level0 col25\" >Extra_interface_2</th>\n",
              "      <th id=\"T_a0b0c_level0_col26\" class=\"col_heading level0 col26\" >Test_Score</th>\n",
              "      <th id=\"T_a0b0c_level0_col27\" class=\"col_heading level0 col27\" >Top_1</th>\n",
              "      <th id=\"T_a0b0c_level0_col28\" class=\"col_heading level0 col28\" >Top_2</th>\n",
              "      <th id=\"T_a0b0c_level0_col29\" class=\"col_heading level0 col29\" >Top_3</th>\n",
              "    </tr>\n",
              "  </thead>\n",
              "  <tbody>\n",
              "    <tr>\n",
              "      <th id=\"T_a0b0c_level0_row0\" class=\"row_heading level0 row0\" >Id</th>\n",
              "      <td id=\"T_a0b0c_row0_col0\" class=\"data row0 col0\" >1.000000</td>\n",
              "      <td id=\"T_a0b0c_row0_col1\" class=\"data row0 col1\" >-0.070000</td>\n",
              "      <td id=\"T_a0b0c_row0_col2\" class=\"data row0 col2\" >0.020000</td>\n",
              "      <td id=\"T_a0b0c_row0_col3\" class=\"data row0 col3\" >-0.110000</td>\n",
              "      <td id=\"T_a0b0c_row0_col4\" class=\"data row0 col4\" >0.050000</td>\n",
              "      <td id=\"T_a0b0c_row0_col5\" class=\"data row0 col5\" >-0.170000</td>\n",
              "      <td id=\"T_a0b0c_row0_col6\" class=\"data row0 col6\" >0.060000</td>\n",
              "      <td id=\"T_a0b0c_row0_col7\" class=\"data row0 col7\" >-0.040000</td>\n",
              "      <td id=\"T_a0b0c_row0_col8\" class=\"data row0 col8\" >-0.110000</td>\n",
              "      <td id=\"T_a0b0c_row0_col9\" class=\"data row0 col9\" >-0.080000</td>\n",
              "      <td id=\"T_a0b0c_row0_col10\" class=\"data row0 col10\" >0.030000</td>\n",
              "      <td id=\"T_a0b0c_row0_col11\" class=\"data row0 col11\" >-0.180000</td>\n",
              "      <td id=\"T_a0b0c_row0_col12\" class=\"data row0 col12\" >-0.070000</td>\n",
              "      <td id=\"T_a0b0c_row0_col13\" class=\"data row0 col13\" >-0.020000</td>\n",
              "      <td id=\"T_a0b0c_row0_col14\" class=\"data row0 col14\" >0.060000</td>\n",
              "      <td id=\"T_a0b0c_row0_col15\" class=\"data row0 col15\" >-0.010000</td>\n",
              "      <td id=\"T_a0b0c_row0_col16\" class=\"data row0 col16\" >0.180000</td>\n",
              "      <td id=\"T_a0b0c_row0_col17\" class=\"data row0 col17\" >-0.060000</td>\n",
              "      <td id=\"T_a0b0c_row0_col18\" class=\"data row0 col18\" >-0.020000</td>\n",
              "      <td id=\"T_a0b0c_row0_col19\" class=\"data row0 col19\" >0.040000</td>\n",
              "      <td id=\"T_a0b0c_row0_col20\" class=\"data row0 col20\" >-0.200000</td>\n",
              "      <td id=\"T_a0b0c_row0_col21\" class=\"data row0 col21\" >-0.200000</td>\n",
              "      <td id=\"T_a0b0c_row0_col22\" class=\"data row0 col22\" >-0.070000</td>\n",
              "      <td id=\"T_a0b0c_row0_col23\" class=\"data row0 col23\" >0.080000</td>\n",
              "      <td id=\"T_a0b0c_row0_col24\" class=\"data row0 col24\" >-0.010000</td>\n",
              "      <td id=\"T_a0b0c_row0_col25\" class=\"data row0 col25\" >0.030000</td>\n",
              "      <td id=\"T_a0b0c_row0_col26\" class=\"data row0 col26\" >0.040000</td>\n",
              "      <td id=\"T_a0b0c_row0_col27\" class=\"data row0 col27\" >0.080000</td>\n",
              "      <td id=\"T_a0b0c_row0_col28\" class=\"data row0 col28\" >0.030000</td>\n",
              "      <td id=\"T_a0b0c_row0_col29\" class=\"data row0 col29\" >-0.150000</td>\n",
              "    </tr>\n",
              "    <tr>\n",
              "      <th id=\"T_a0b0c_level0_row1\" class=\"row_heading level0 row1\" >Age</th>\n",
              "      <td id=\"T_a0b0c_row1_col0\" class=\"data row1 col0\" >-0.070000</td>\n",
              "      <td id=\"T_a0b0c_row1_col1\" class=\"data row1 col1\" >1.000000</td>\n",
              "      <td id=\"T_a0b0c_row1_col2\" class=\"data row1 col2\" >-0.000000</td>\n",
              "      <td id=\"T_a0b0c_row1_col3\" class=\"data row1 col3\" >0.200000</td>\n",
              "      <td id=\"T_a0b0c_row1_col4\" class=\"data row1 col4\" >0.200000</td>\n",
              "      <td id=\"T_a0b0c_row1_col5\" class=\"data row1 col5\" >0.210000</td>\n",
              "      <td id=\"T_a0b0c_row1_col6\" class=\"data row1 col6\" >0.020000</td>\n",
              "      <td id=\"T_a0b0c_row1_col7\" class=\"data row1 col7\" >0.090000</td>\n",
              "      <td id=\"T_a0b0c_row1_col8\" class=\"data row1 col8\" >0.070000</td>\n",
              "      <td id=\"T_a0b0c_row1_col9\" class=\"data row1 col9\" >0.040000</td>\n",
              "      <td id=\"T_a0b0c_row1_col10\" class=\"data row1 col10\" >0.170000</td>\n",
              "      <td id=\"T_a0b0c_row1_col11\" class=\"data row1 col11\" >0.070000</td>\n",
              "      <td id=\"T_a0b0c_row1_col12\" class=\"data row1 col12\" >0.130000</td>\n",
              "      <td id=\"T_a0b0c_row1_col13\" class=\"data row1 col13\" >-0.020000</td>\n",
              "      <td id=\"T_a0b0c_row1_col14\" class=\"data row1 col14\" >0.050000</td>\n",
              "      <td id=\"T_a0b0c_row1_col15\" class=\"data row1 col15\" >0.060000</td>\n",
              "      <td id=\"T_a0b0c_row1_col16\" class=\"data row1 col16\" >-0.090000</td>\n",
              "      <td id=\"T_a0b0c_row1_col17\" class=\"data row1 col17\" >-0.010000</td>\n",
              "      <td id=\"T_a0b0c_row1_col18\" class=\"data row1 col18\" >0.030000</td>\n",
              "      <td id=\"T_a0b0c_row1_col19\" class=\"data row1 col19\" >0.040000</td>\n",
              "      <td id=\"T_a0b0c_row1_col20\" class=\"data row1 col20\" >0.170000</td>\n",
              "      <td id=\"T_a0b0c_row1_col21\" class=\"data row1 col21\" >0.180000</td>\n",
              "      <td id=\"T_a0b0c_row1_col22\" class=\"data row1 col22\" >0.070000</td>\n",
              "      <td id=\"T_a0b0c_row1_col23\" class=\"data row1 col23\" >-0.060000</td>\n",
              "      <td id=\"T_a0b0c_row1_col24\" class=\"data row1 col24\" >0.180000</td>\n",
              "      <td id=\"T_a0b0c_row1_col25\" class=\"data row1 col25\" >0.050000</td>\n",
              "      <td id=\"T_a0b0c_row1_col26\" class=\"data row1 col26\" >-0.060000</td>\n",
              "      <td id=\"T_a0b0c_row1_col27\" class=\"data row1 col27\" >0.010000</td>\n",
              "      <td id=\"T_a0b0c_row1_col28\" class=\"data row1 col28\" >0.060000</td>\n",
              "      <td id=\"T_a0b0c_row1_col29\" class=\"data row1 col29\" >0.040000</td>\n",
              "    </tr>\n",
              "    <tr>\n",
              "      <th id=\"T_a0b0c_level0_row2\" class=\"row_heading level0 row2\" >Openness</th>\n",
              "      <td id=\"T_a0b0c_row2_col0\" class=\"data row2 col0\" >0.020000</td>\n",
              "      <td id=\"T_a0b0c_row2_col1\" class=\"data row2 col1\" >-0.000000</td>\n",
              "      <td id=\"T_a0b0c_row2_col2\" class=\"data row2 col2\" >1.000000</td>\n",
              "      <td id=\"T_a0b0c_row2_col3\" class=\"data row2 col3\" >0.290000</td>\n",
              "      <td id=\"T_a0b0c_row2_col4\" class=\"data row2 col4\" >0.050000</td>\n",
              "      <td id=\"T_a0b0c_row2_col5\" class=\"data row2 col5\" >0.190000</td>\n",
              "      <td id=\"T_a0b0c_row2_col6\" class=\"data row2 col6\" >0.040000</td>\n",
              "      <td id=\"T_a0b0c_row2_col7\" class=\"data row2 col7\" >0.040000</td>\n",
              "      <td id=\"T_a0b0c_row2_col8\" class=\"data row2 col8\" >0.030000</td>\n",
              "      <td id=\"T_a0b0c_row2_col9\" class=\"data row2 col9\" >0.150000</td>\n",
              "      <td id=\"T_a0b0c_row2_col10\" class=\"data row2 col10\" >0.140000</td>\n",
              "      <td id=\"T_a0b0c_row2_col11\" class=\"data row2 col11\" >0.240000</td>\n",
              "      <td id=\"T_a0b0c_row2_col12\" class=\"data row2 col12\" >0.110000</td>\n",
              "      <td id=\"T_a0b0c_row2_col13\" class=\"data row2 col13\" >0.100000</td>\n",
              "      <td id=\"T_a0b0c_row2_col14\" class=\"data row2 col14\" >0.090000</td>\n",
              "      <td id=\"T_a0b0c_row2_col15\" class=\"data row2 col15\" >-0.020000</td>\n",
              "      <td id=\"T_a0b0c_row2_col16\" class=\"data row2 col16\" >0.190000</td>\n",
              "      <td id=\"T_a0b0c_row2_col17\" class=\"data row2 col17\" >0.040000</td>\n",
              "      <td id=\"T_a0b0c_row2_col18\" class=\"data row2 col18\" >0.100000</td>\n",
              "      <td id=\"T_a0b0c_row2_col19\" class=\"data row2 col19\" >0.220000</td>\n",
              "      <td id=\"T_a0b0c_row2_col20\" class=\"data row2 col20\" >0.010000</td>\n",
              "      <td id=\"T_a0b0c_row2_col21\" class=\"data row2 col21\" >-0.060000</td>\n",
              "      <td id=\"T_a0b0c_row2_col22\" class=\"data row2 col22\" >0.140000</td>\n",
              "      <td id=\"T_a0b0c_row2_col23\" class=\"data row2 col23\" >0.080000</td>\n",
              "      <td id=\"T_a0b0c_row2_col24\" class=\"data row2 col24\" >0.100000</td>\n",
              "      <td id=\"T_a0b0c_row2_col25\" class=\"data row2 col25\" >-0.020000</td>\n",
              "      <td id=\"T_a0b0c_row2_col26\" class=\"data row2 col26\" >-0.050000</td>\n",
              "      <td id=\"T_a0b0c_row2_col27\" class=\"data row2 col27\" >0.150000</td>\n",
              "      <td id=\"T_a0b0c_row2_col28\" class=\"data row2 col28\" >-0.210000</td>\n",
              "      <td id=\"T_a0b0c_row2_col29\" class=\"data row2 col29\" >-0.100000</td>\n",
              "    </tr>\n",
              "    <tr>\n",
              "      <th id=\"T_a0b0c_level0_row3\" class=\"row_heading level0 row3\" >Extraversion</th>\n",
              "      <td id=\"T_a0b0c_row3_col0\" class=\"data row3 col0\" >-0.110000</td>\n",
              "      <td id=\"T_a0b0c_row3_col1\" class=\"data row3 col1\" >0.200000</td>\n",
              "      <td id=\"T_a0b0c_row3_col2\" class=\"data row3 col2\" >0.290000</td>\n",
              "      <td id=\"T_a0b0c_row3_col3\" class=\"data row3 col3\" >1.000000</td>\n",
              "      <td id=\"T_a0b0c_row3_col4\" class=\"data row3 col4\" >0.150000</td>\n",
              "      <td id=\"T_a0b0c_row3_col5\" class=\"data row3 col5\" >0.120000</td>\n",
              "      <td id=\"T_a0b0c_row3_col6\" class=\"data row3 col6\" >-0.050000</td>\n",
              "      <td id=\"T_a0b0c_row3_col7\" class=\"data row3 col7\" >0.010000</td>\n",
              "      <td id=\"T_a0b0c_row3_col8\" class=\"data row3 col8\" >0.180000</td>\n",
              "      <td id=\"T_a0b0c_row3_col9\" class=\"data row3 col9\" >0.110000</td>\n",
              "      <td id=\"T_a0b0c_row3_col10\" class=\"data row3 col10\" >0.230000</td>\n",
              "      <td id=\"T_a0b0c_row3_col11\" class=\"data row3 col11\" >0.100000</td>\n",
              "      <td id=\"T_a0b0c_row3_col12\" class=\"data row3 col12\" >0.150000</td>\n",
              "      <td id=\"T_a0b0c_row3_col13\" class=\"data row3 col13\" >0.050000</td>\n",
              "      <td id=\"T_a0b0c_row3_col14\" class=\"data row3 col14\" >0.070000</td>\n",
              "      <td id=\"T_a0b0c_row3_col15\" class=\"data row3 col15\" >0.080000</td>\n",
              "      <td id=\"T_a0b0c_row3_col16\" class=\"data row3 col16\" >-0.010000</td>\n",
              "      <td id=\"T_a0b0c_row3_col17\" class=\"data row3 col17\" >0.090000</td>\n",
              "      <td id=\"T_a0b0c_row3_col18\" class=\"data row3 col18\" >0.060000</td>\n",
              "      <td id=\"T_a0b0c_row3_col19\" class=\"data row3 col19\" >0.020000</td>\n",
              "      <td id=\"T_a0b0c_row3_col20\" class=\"data row3 col20\" >0.070000</td>\n",
              "      <td id=\"T_a0b0c_row3_col21\" class=\"data row3 col21\" >0.010000</td>\n",
              "      <td id=\"T_a0b0c_row3_col22\" class=\"data row3 col22\" >0.180000</td>\n",
              "      <td id=\"T_a0b0c_row3_col23\" class=\"data row3 col23\" >-0.070000</td>\n",
              "      <td id=\"T_a0b0c_row3_col24\" class=\"data row3 col24\" >0.170000</td>\n",
              "      <td id=\"T_a0b0c_row3_col25\" class=\"data row3 col25\" >-0.070000</td>\n",
              "      <td id=\"T_a0b0c_row3_col26\" class=\"data row3 col26\" >0.080000</td>\n",
              "      <td id=\"T_a0b0c_row3_col27\" class=\"data row3 col27\" >-0.030000</td>\n",
              "      <td id=\"T_a0b0c_row3_col28\" class=\"data row3 col28\" >-0.060000</td>\n",
              "      <td id=\"T_a0b0c_row3_col29\" class=\"data row3 col29\" >0.000000</td>\n",
              "    </tr>\n",
              "    <tr>\n",
              "      <th id=\"T_a0b0c_level0_row4\" class=\"row_heading level0 row4\" >Agreeableness</th>\n",
              "      <td id=\"T_a0b0c_row4_col0\" class=\"data row4 col0\" >0.050000</td>\n",
              "      <td id=\"T_a0b0c_row4_col1\" class=\"data row4 col1\" >0.200000</td>\n",
              "      <td id=\"T_a0b0c_row4_col2\" class=\"data row4 col2\" >0.050000</td>\n",
              "      <td id=\"T_a0b0c_row4_col3\" class=\"data row4 col3\" >0.150000</td>\n",
              "      <td id=\"T_a0b0c_row4_col4\" class=\"data row4 col4\" >1.000000</td>\n",
              "      <td id=\"T_a0b0c_row4_col5\" class=\"data row4 col5\" >0.060000</td>\n",
              "      <td id=\"T_a0b0c_row4_col6\" class=\"data row4 col6\" >0.140000</td>\n",
              "      <td id=\"T_a0b0c_row4_col7\" class=\"data row4 col7\" >0.060000</td>\n",
              "      <td id=\"T_a0b0c_row4_col8\" class=\"data row4 col8\" >0.070000</td>\n",
              "      <td id=\"T_a0b0c_row4_col9\" class=\"data row4 col9\" >0.080000</td>\n",
              "      <td id=\"T_a0b0c_row4_col10\" class=\"data row4 col10\" >0.050000</td>\n",
              "      <td id=\"T_a0b0c_row4_col11\" class=\"data row4 col11\" >0.070000</td>\n",
              "      <td id=\"T_a0b0c_row4_col12\" class=\"data row4 col12\" >-0.050000</td>\n",
              "      <td id=\"T_a0b0c_row4_col13\" class=\"data row4 col13\" >-0.130000</td>\n",
              "      <td id=\"T_a0b0c_row4_col14\" class=\"data row4 col14\" >-0.060000</td>\n",
              "      <td id=\"T_a0b0c_row4_col15\" class=\"data row4 col15\" >0.070000</td>\n",
              "      <td id=\"T_a0b0c_row4_col16\" class=\"data row4 col16\" >-0.210000</td>\n",
              "      <td id=\"T_a0b0c_row4_col17\" class=\"data row4 col17\" >0.000000</td>\n",
              "      <td id=\"T_a0b0c_row4_col18\" class=\"data row4 col18\" >0.050000</td>\n",
              "      <td id=\"T_a0b0c_row4_col19\" class=\"data row4 col19\" >-0.080000</td>\n",
              "      <td id=\"T_a0b0c_row4_col20\" class=\"data row4 col20\" >-0.030000</td>\n",
              "      <td id=\"T_a0b0c_row4_col21\" class=\"data row4 col21\" >-0.010000</td>\n",
              "      <td id=\"T_a0b0c_row4_col22\" class=\"data row4 col22\" >0.060000</td>\n",
              "      <td id=\"T_a0b0c_row4_col23\" class=\"data row4 col23\" >-0.080000</td>\n",
              "      <td id=\"T_a0b0c_row4_col24\" class=\"data row4 col24\" >0.060000</td>\n",
              "      <td id=\"T_a0b0c_row4_col25\" class=\"data row4 col25\" >-0.020000</td>\n",
              "      <td id=\"T_a0b0c_row4_col26\" class=\"data row4 col26\" >-0.090000</td>\n",
              "      <td id=\"T_a0b0c_row4_col27\" class=\"data row4 col27\" >-0.040000</td>\n",
              "      <td id=\"T_a0b0c_row4_col28\" class=\"data row4 col28\" >-0.140000</td>\n",
              "      <td id=\"T_a0b0c_row4_col29\" class=\"data row4 col29\" >-0.070000</td>\n",
              "    </tr>\n",
              "    <tr>\n",
              "      <th id=\"T_a0b0c_level0_row5\" class=\"row_heading level0 row5\" >Conscientiousness</th>\n",
              "      <td id=\"T_a0b0c_row5_col0\" class=\"data row5 col0\" >-0.170000</td>\n",
              "      <td id=\"T_a0b0c_row5_col1\" class=\"data row5 col1\" >0.210000</td>\n",
              "      <td id=\"T_a0b0c_row5_col2\" class=\"data row5 col2\" >0.190000</td>\n",
              "      <td id=\"T_a0b0c_row5_col3\" class=\"data row5 col3\" >0.120000</td>\n",
              "      <td id=\"T_a0b0c_row5_col4\" class=\"data row5 col4\" >0.060000</td>\n",
              "      <td id=\"T_a0b0c_row5_col5\" class=\"data row5 col5\" >1.000000</td>\n",
              "      <td id=\"T_a0b0c_row5_col6\" class=\"data row5 col6\" >0.040000</td>\n",
              "      <td id=\"T_a0b0c_row5_col7\" class=\"data row5 col7\" >0.160000</td>\n",
              "      <td id=\"T_a0b0c_row5_col8\" class=\"data row5 col8\" >0.180000</td>\n",
              "      <td id=\"T_a0b0c_row5_col9\" class=\"data row5 col9\" >0.070000</td>\n",
              "      <td id=\"T_a0b0c_row5_col10\" class=\"data row5 col10\" >0.010000</td>\n",
              "      <td id=\"T_a0b0c_row5_col11\" class=\"data row5 col11\" >0.090000</td>\n",
              "      <td id=\"T_a0b0c_row5_col12\" class=\"data row5 col12\" >0.160000</td>\n",
              "      <td id=\"T_a0b0c_row5_col13\" class=\"data row5 col13\" >0.040000</td>\n",
              "      <td id=\"T_a0b0c_row5_col14\" class=\"data row5 col14\" >0.070000</td>\n",
              "      <td id=\"T_a0b0c_row5_col15\" class=\"data row5 col15\" >0.190000</td>\n",
              "      <td id=\"T_a0b0c_row5_col16\" class=\"data row5 col16\" >-0.010000</td>\n",
              "      <td id=\"T_a0b0c_row5_col17\" class=\"data row5 col17\" >0.180000</td>\n",
              "      <td id=\"T_a0b0c_row5_col18\" class=\"data row5 col18\" >0.020000</td>\n",
              "      <td id=\"T_a0b0c_row5_col19\" class=\"data row5 col19\" >0.160000</td>\n",
              "      <td id=\"T_a0b0c_row5_col20\" class=\"data row5 col20\" >0.190000</td>\n",
              "      <td id=\"T_a0b0c_row5_col21\" class=\"data row5 col21\" >0.110000</td>\n",
              "      <td id=\"T_a0b0c_row5_col22\" class=\"data row5 col22\" >0.120000</td>\n",
              "      <td id=\"T_a0b0c_row5_col23\" class=\"data row5 col23\" >0.140000</td>\n",
              "      <td id=\"T_a0b0c_row5_col24\" class=\"data row5 col24\" >0.000000</td>\n",
              "      <td id=\"T_a0b0c_row5_col25\" class=\"data row5 col25\" >0.020000</td>\n",
              "      <td id=\"T_a0b0c_row5_col26\" class=\"data row5 col26\" >-0.030000</td>\n",
              "      <td id=\"T_a0b0c_row5_col27\" class=\"data row5 col27\" >0.000000</td>\n",
              "      <td id=\"T_a0b0c_row5_col28\" class=\"data row5 col28\" >-0.010000</td>\n",
              "      <td id=\"T_a0b0c_row5_col29\" class=\"data row5 col29\" >0.080000</td>\n",
              "    </tr>\n",
              "    <tr>\n",
              "      <th id=\"T_a0b0c_level0_row6\" class=\"row_heading level0 row6\" >Neuroticism</th>\n",
              "      <td id=\"T_a0b0c_row6_col0\" class=\"data row6 col0\" >0.060000</td>\n",
              "      <td id=\"T_a0b0c_row6_col1\" class=\"data row6 col1\" >0.020000</td>\n",
              "      <td id=\"T_a0b0c_row6_col2\" class=\"data row6 col2\" >0.040000</td>\n",
              "      <td id=\"T_a0b0c_row6_col3\" class=\"data row6 col3\" >-0.050000</td>\n",
              "      <td id=\"T_a0b0c_row6_col4\" class=\"data row6 col4\" >0.140000</td>\n",
              "      <td id=\"T_a0b0c_row6_col5\" class=\"data row6 col5\" >0.040000</td>\n",
              "      <td id=\"T_a0b0c_row6_col6\" class=\"data row6 col6\" >1.000000</td>\n",
              "      <td id=\"T_a0b0c_row6_col7\" class=\"data row6 col7\" >0.250000</td>\n",
              "      <td id=\"T_a0b0c_row6_col8\" class=\"data row6 col8\" >0.130000</td>\n",
              "      <td id=\"T_a0b0c_row6_col9\" class=\"data row6 col9\" >0.260000</td>\n",
              "      <td id=\"T_a0b0c_row6_col10\" class=\"data row6 col10\" >0.180000</td>\n",
              "      <td id=\"T_a0b0c_row6_col11\" class=\"data row6 col11\" >0.170000</td>\n",
              "      <td id=\"T_a0b0c_row6_col12\" class=\"data row6 col12\" >0.050000</td>\n",
              "      <td id=\"T_a0b0c_row6_col13\" class=\"data row6 col13\" >0.040000</td>\n",
              "      <td id=\"T_a0b0c_row6_col14\" class=\"data row6 col14\" >0.000000</td>\n",
              "      <td id=\"T_a0b0c_row6_col15\" class=\"data row6 col15\" >0.070000</td>\n",
              "      <td id=\"T_a0b0c_row6_col16\" class=\"data row6 col16\" >0.250000</td>\n",
              "      <td id=\"T_a0b0c_row6_col17\" class=\"data row6 col17\" >0.120000</td>\n",
              "      <td id=\"T_a0b0c_row6_col18\" class=\"data row6 col18\" >0.200000</td>\n",
              "      <td id=\"T_a0b0c_row6_col19\" class=\"data row6 col19\" >0.120000</td>\n",
              "      <td id=\"T_a0b0c_row6_col20\" class=\"data row6 col20\" >-0.060000</td>\n",
              "      <td id=\"T_a0b0c_row6_col21\" class=\"data row6 col21\" >-0.040000</td>\n",
              "      <td id=\"T_a0b0c_row6_col22\" class=\"data row6 col22\" >0.010000</td>\n",
              "      <td id=\"T_a0b0c_row6_col23\" class=\"data row6 col23\" >-0.010000</td>\n",
              "      <td id=\"T_a0b0c_row6_col24\" class=\"data row6 col24\" >0.090000</td>\n",
              "      <td id=\"T_a0b0c_row6_col25\" class=\"data row6 col25\" >0.080000</td>\n",
              "      <td id=\"T_a0b0c_row6_col26\" class=\"data row6 col26\" >0.050000</td>\n",
              "      <td id=\"T_a0b0c_row6_col27\" class=\"data row6 col27\" >-0.250000</td>\n",
              "      <td id=\"T_a0b0c_row6_col28\" class=\"data row6 col28\" >-0.220000</td>\n",
              "      <td id=\"T_a0b0c_row6_col29\" class=\"data row6 col29\" >-0.010000</td>\n",
              "    </tr>\n",
              "    <tr>\n",
              "      <th id=\"T_a0b0c_level0_row7\" class=\"row_heading level0 row7\" >Interface_1</th>\n",
              "      <td id=\"T_a0b0c_row7_col0\" class=\"data row7 col0\" >-0.040000</td>\n",
              "      <td id=\"T_a0b0c_row7_col1\" class=\"data row7 col1\" >0.090000</td>\n",
              "      <td id=\"T_a0b0c_row7_col2\" class=\"data row7 col2\" >0.040000</td>\n",
              "      <td id=\"T_a0b0c_row7_col3\" class=\"data row7 col3\" >0.010000</td>\n",
              "      <td id=\"T_a0b0c_row7_col4\" class=\"data row7 col4\" >0.060000</td>\n",
              "      <td id=\"T_a0b0c_row7_col5\" class=\"data row7 col5\" >0.160000</td>\n",
              "      <td id=\"T_a0b0c_row7_col6\" class=\"data row7 col6\" >0.250000</td>\n",
              "      <td id=\"T_a0b0c_row7_col7\" class=\"data row7 col7\" >1.000000</td>\n",
              "      <td id=\"T_a0b0c_row7_col8\" class=\"data row7 col8\" >0.680000</td>\n",
              "      <td id=\"T_a0b0c_row7_col9\" class=\"data row7 col9\" >0.750000</td>\n",
              "      <td id=\"T_a0b0c_row7_col10\" class=\"data row7 col10\" >0.390000</td>\n",
              "      <td id=\"T_a0b0c_row7_col11\" class=\"data row7 col11\" >0.490000</td>\n",
              "      <td id=\"T_a0b0c_row7_col12\" class=\"data row7 col12\" >0.210000</td>\n",
              "      <td id=\"T_a0b0c_row7_col13\" class=\"data row7 col13\" >0.130000</td>\n",
              "      <td id=\"T_a0b0c_row7_col14\" class=\"data row7 col14\" >0.110000</td>\n",
              "      <td id=\"T_a0b0c_row7_col15\" class=\"data row7 col15\" >0.150000</td>\n",
              "      <td id=\"T_a0b0c_row7_col16\" class=\"data row7 col16\" >0.210000</td>\n",
              "      <td id=\"T_a0b0c_row7_col17\" class=\"data row7 col17\" >0.530000</td>\n",
              "      <td id=\"T_a0b0c_row7_col18\" class=\"data row7 col18\" >0.400000</td>\n",
              "      <td id=\"T_a0b0c_row7_col19\" class=\"data row7 col19\" >0.230000</td>\n",
              "      <td id=\"T_a0b0c_row7_col20\" class=\"data row7 col20\" >0.160000</td>\n",
              "      <td id=\"T_a0b0c_row7_col21\" class=\"data row7 col21\" >0.280000</td>\n",
              "      <td id=\"T_a0b0c_row7_col22\" class=\"data row7 col22\" >0.250000</td>\n",
              "      <td id=\"T_a0b0c_row7_col23\" class=\"data row7 col23\" >0.400000</td>\n",
              "      <td id=\"T_a0b0c_row7_col24\" class=\"data row7 col24\" >0.260000</td>\n",
              "      <td id=\"T_a0b0c_row7_col25\" class=\"data row7 col25\" >0.230000</td>\n",
              "      <td id=\"T_a0b0c_row7_col26\" class=\"data row7 col26\" >-0.020000</td>\n",
              "      <td id=\"T_a0b0c_row7_col27\" class=\"data row7 col27\" >-0.350000</td>\n",
              "      <td id=\"T_a0b0c_row7_col28\" class=\"data row7 col28\" >-0.310000</td>\n",
              "      <td id=\"T_a0b0c_row7_col29\" class=\"data row7 col29\" >-0.280000</td>\n",
              "    </tr>\n",
              "    <tr>\n",
              "      <th id=\"T_a0b0c_level0_row8\" class=\"row_heading level0 row8\" >Interface_2</th>\n",
              "      <td id=\"T_a0b0c_row8_col0\" class=\"data row8 col0\" >-0.110000</td>\n",
              "      <td id=\"T_a0b0c_row8_col1\" class=\"data row8 col1\" >0.070000</td>\n",
              "      <td id=\"T_a0b0c_row8_col2\" class=\"data row8 col2\" >0.030000</td>\n",
              "      <td id=\"T_a0b0c_row8_col3\" class=\"data row8 col3\" >0.180000</td>\n",
              "      <td id=\"T_a0b0c_row8_col4\" class=\"data row8 col4\" >0.070000</td>\n",
              "      <td id=\"T_a0b0c_row8_col5\" class=\"data row8 col5\" >0.180000</td>\n",
              "      <td id=\"T_a0b0c_row8_col6\" class=\"data row8 col6\" >0.130000</td>\n",
              "      <td id=\"T_a0b0c_row8_col7\" class=\"data row8 col7\" >0.680000</td>\n",
              "      <td id=\"T_a0b0c_row8_col8\" class=\"data row8 col8\" >1.000000</td>\n",
              "      <td id=\"T_a0b0c_row8_col9\" class=\"data row8 col9\" >0.730000</td>\n",
              "      <td id=\"T_a0b0c_row8_col10\" class=\"data row8 col10\" >0.390000</td>\n",
              "      <td id=\"T_a0b0c_row8_col11\" class=\"data row8 col11\" >0.430000</td>\n",
              "      <td id=\"T_a0b0c_row8_col12\" class=\"data row8 col12\" >0.310000</td>\n",
              "      <td id=\"T_a0b0c_row8_col13\" class=\"data row8 col13\" >0.300000</td>\n",
              "      <td id=\"T_a0b0c_row8_col14\" class=\"data row8 col14\" >0.270000</td>\n",
              "      <td id=\"T_a0b0c_row8_col15\" class=\"data row8 col15\" >0.310000</td>\n",
              "      <td id=\"T_a0b0c_row8_col16\" class=\"data row8 col16\" >0.210000</td>\n",
              "      <td id=\"T_a0b0c_row8_col17\" class=\"data row8 col17\" >0.350000</td>\n",
              "      <td id=\"T_a0b0c_row8_col18\" class=\"data row8 col18\" >0.320000</td>\n",
              "      <td id=\"T_a0b0c_row8_col19\" class=\"data row8 col19\" >0.210000</td>\n",
              "      <td id=\"T_a0b0c_row8_col20\" class=\"data row8 col20\" >0.240000</td>\n",
              "      <td id=\"T_a0b0c_row8_col21\" class=\"data row8 col21\" >0.320000</td>\n",
              "      <td id=\"T_a0b0c_row8_col22\" class=\"data row8 col22\" >0.240000</td>\n",
              "      <td id=\"T_a0b0c_row8_col23\" class=\"data row8 col23\" >0.310000</td>\n",
              "      <td id=\"T_a0b0c_row8_col24\" class=\"data row8 col24\" >0.340000</td>\n",
              "      <td id=\"T_a0b0c_row8_col25\" class=\"data row8 col25\" >0.170000</td>\n",
              "      <td id=\"T_a0b0c_row8_col26\" class=\"data row8 col26\" >0.020000</td>\n",
              "      <td id=\"T_a0b0c_row8_col27\" class=\"data row8 col27\" >-0.410000</td>\n",
              "      <td id=\"T_a0b0c_row8_col28\" class=\"data row8 col28\" >-0.350000</td>\n",
              "      <td id=\"T_a0b0c_row8_col29\" class=\"data row8 col29\" >-0.190000</td>\n",
              "    </tr>\n",
              "    <tr>\n",
              "      <th id=\"T_a0b0c_level0_row9\" class=\"row_heading level0 row9\" >Interface_3</th>\n",
              "      <td id=\"T_a0b0c_row9_col0\" class=\"data row9 col0\" >-0.080000</td>\n",
              "      <td id=\"T_a0b0c_row9_col1\" class=\"data row9 col1\" >0.040000</td>\n",
              "      <td id=\"T_a0b0c_row9_col2\" class=\"data row9 col2\" >0.150000</td>\n",
              "      <td id=\"T_a0b0c_row9_col3\" class=\"data row9 col3\" >0.110000</td>\n",
              "      <td id=\"T_a0b0c_row9_col4\" class=\"data row9 col4\" >0.080000</td>\n",
              "      <td id=\"T_a0b0c_row9_col5\" class=\"data row9 col5\" >0.070000</td>\n",
              "      <td id=\"T_a0b0c_row9_col6\" class=\"data row9 col6\" >0.260000</td>\n",
              "      <td id=\"T_a0b0c_row9_col7\" class=\"data row9 col7\" >0.750000</td>\n",
              "      <td id=\"T_a0b0c_row9_col8\" class=\"data row9 col8\" >0.730000</td>\n",
              "      <td id=\"T_a0b0c_row9_col9\" class=\"data row9 col9\" >1.000000</td>\n",
              "      <td id=\"T_a0b0c_row9_col10\" class=\"data row9 col10\" >0.270000</td>\n",
              "      <td id=\"T_a0b0c_row9_col11\" class=\"data row9 col11\" >0.350000</td>\n",
              "      <td id=\"T_a0b0c_row9_col12\" class=\"data row9 col12\" >0.310000</td>\n",
              "      <td id=\"T_a0b0c_row9_col13\" class=\"data row9 col13\" >0.230000</td>\n",
              "      <td id=\"T_a0b0c_row9_col14\" class=\"data row9 col14\" >0.140000</td>\n",
              "      <td id=\"T_a0b0c_row9_col15\" class=\"data row9 col15\" >0.150000</td>\n",
              "      <td id=\"T_a0b0c_row9_col16\" class=\"data row9 col16\" >0.260000</td>\n",
              "      <td id=\"T_a0b0c_row9_col17\" class=\"data row9 col17\" >0.420000</td>\n",
              "      <td id=\"T_a0b0c_row9_col18\" class=\"data row9 col18\" >0.360000</td>\n",
              "      <td id=\"T_a0b0c_row9_col19\" class=\"data row9 col19\" >0.190000</td>\n",
              "      <td id=\"T_a0b0c_row9_col20\" class=\"data row9 col20\" >0.140000</td>\n",
              "      <td id=\"T_a0b0c_row9_col21\" class=\"data row9 col21\" >0.250000</td>\n",
              "      <td id=\"T_a0b0c_row9_col22\" class=\"data row9 col22\" >0.230000</td>\n",
              "      <td id=\"T_a0b0c_row9_col23\" class=\"data row9 col23\" >0.340000</td>\n",
              "      <td id=\"T_a0b0c_row9_col24\" class=\"data row9 col24\" >0.290000</td>\n",
              "      <td id=\"T_a0b0c_row9_col25\" class=\"data row9 col25\" >0.160000</td>\n",
              "      <td id=\"T_a0b0c_row9_col26\" class=\"data row9 col26\" >0.050000</td>\n",
              "      <td id=\"T_a0b0c_row9_col27\" class=\"data row9 col27\" >-0.300000</td>\n",
              "      <td id=\"T_a0b0c_row9_col28\" class=\"data row9 col28\" >-0.270000</td>\n",
              "      <td id=\"T_a0b0c_row9_col29\" class=\"data row9 col29\" >-0.290000</td>\n",
              "    </tr>\n",
              "    <tr>\n",
              "      <th id=\"T_a0b0c_level0_row10\" class=\"row_heading level0 row10\" >Interface_4</th>\n",
              "      <td id=\"T_a0b0c_row10_col0\" class=\"data row10 col0\" >0.030000</td>\n",
              "      <td id=\"T_a0b0c_row10_col1\" class=\"data row10 col1\" >0.170000</td>\n",
              "      <td id=\"T_a0b0c_row10_col2\" class=\"data row10 col2\" >0.140000</td>\n",
              "      <td id=\"T_a0b0c_row10_col3\" class=\"data row10 col3\" >0.230000</td>\n",
              "      <td id=\"T_a0b0c_row10_col4\" class=\"data row10 col4\" >0.050000</td>\n",
              "      <td id=\"T_a0b0c_row10_col5\" class=\"data row10 col5\" >0.010000</td>\n",
              "      <td id=\"T_a0b0c_row10_col6\" class=\"data row10 col6\" >0.180000</td>\n",
              "      <td id=\"T_a0b0c_row10_col7\" class=\"data row10 col7\" >0.390000</td>\n",
              "      <td id=\"T_a0b0c_row10_col8\" class=\"data row10 col8\" >0.390000</td>\n",
              "      <td id=\"T_a0b0c_row10_col9\" class=\"data row10 col9\" >0.270000</td>\n",
              "      <td id=\"T_a0b0c_row10_col10\" class=\"data row10 col10\" >1.000000</td>\n",
              "      <td id=\"T_a0b0c_row10_col11\" class=\"data row10 col11\" >0.290000</td>\n",
              "      <td id=\"T_a0b0c_row10_col12\" class=\"data row10 col12\" >0.170000</td>\n",
              "      <td id=\"T_a0b0c_row10_col13\" class=\"data row10 col13\" >0.240000</td>\n",
              "      <td id=\"T_a0b0c_row10_col14\" class=\"data row10 col14\" >0.250000</td>\n",
              "      <td id=\"T_a0b0c_row10_col15\" class=\"data row10 col15\" >0.160000</td>\n",
              "      <td id=\"T_a0b0c_row10_col16\" class=\"data row10 col16\" >0.300000</td>\n",
              "      <td id=\"T_a0b0c_row10_col17\" class=\"data row10 col17\" >0.180000</td>\n",
              "      <td id=\"T_a0b0c_row10_col18\" class=\"data row10 col18\" >0.390000</td>\n",
              "      <td id=\"T_a0b0c_row10_col19\" class=\"data row10 col19\" >0.350000</td>\n",
              "      <td id=\"T_a0b0c_row10_col20\" class=\"data row10 col20\" >0.430000</td>\n",
              "      <td id=\"T_a0b0c_row10_col21\" class=\"data row10 col21\" >0.310000</td>\n",
              "      <td id=\"T_a0b0c_row10_col22\" class=\"data row10 col22\" >0.140000</td>\n",
              "      <td id=\"T_a0b0c_row10_col23\" class=\"data row10 col23\" >0.060000</td>\n",
              "      <td id=\"T_a0b0c_row10_col24\" class=\"data row10 col24\" >0.730000</td>\n",
              "      <td id=\"T_a0b0c_row10_col25\" class=\"data row10 col25\" >0.220000</td>\n",
              "      <td id=\"T_a0b0c_row10_col26\" class=\"data row10 col26\" >-0.010000</td>\n",
              "      <td id=\"T_a0b0c_row10_col27\" class=\"data row10 col27\" >-0.230000</td>\n",
              "      <td id=\"T_a0b0c_row10_col28\" class=\"data row10 col28\" >-0.180000</td>\n",
              "      <td id=\"T_a0b0c_row10_col29\" class=\"data row10 col29\" >0.010000</td>\n",
              "    </tr>\n",
              "    <tr>\n",
              "      <th id=\"T_a0b0c_level0_row11\" class=\"row_heading level0 row11\" >Interface_5</th>\n",
              "      <td id=\"T_a0b0c_row11_col0\" class=\"data row11 col0\" >-0.180000</td>\n",
              "      <td id=\"T_a0b0c_row11_col1\" class=\"data row11 col1\" >0.070000</td>\n",
              "      <td id=\"T_a0b0c_row11_col2\" class=\"data row11 col2\" >0.240000</td>\n",
              "      <td id=\"T_a0b0c_row11_col3\" class=\"data row11 col3\" >0.100000</td>\n",
              "      <td id=\"T_a0b0c_row11_col4\" class=\"data row11 col4\" >0.070000</td>\n",
              "      <td id=\"T_a0b0c_row11_col5\" class=\"data row11 col5\" >0.090000</td>\n",
              "      <td id=\"T_a0b0c_row11_col6\" class=\"data row11 col6\" >0.170000</td>\n",
              "      <td id=\"T_a0b0c_row11_col7\" class=\"data row11 col7\" >0.490000</td>\n",
              "      <td id=\"T_a0b0c_row11_col8\" class=\"data row11 col8\" >0.430000</td>\n",
              "      <td id=\"T_a0b0c_row11_col9\" class=\"data row11 col9\" >0.350000</td>\n",
              "      <td id=\"T_a0b0c_row11_col10\" class=\"data row11 col10\" >0.290000</td>\n",
              "      <td id=\"T_a0b0c_row11_col11\" class=\"data row11 col11\" >1.000000</td>\n",
              "      <td id=\"T_a0b0c_row11_col12\" class=\"data row11 col12\" >0.350000</td>\n",
              "      <td id=\"T_a0b0c_row11_col13\" class=\"data row11 col13\" >0.400000</td>\n",
              "      <td id=\"T_a0b0c_row11_col14\" class=\"data row11 col14\" >0.240000</td>\n",
              "      <td id=\"T_a0b0c_row11_col15\" class=\"data row11 col15\" >0.240000</td>\n",
              "      <td id=\"T_a0b0c_row11_col16\" class=\"data row11 col16\" >0.200000</td>\n",
              "      <td id=\"T_a0b0c_row11_col17\" class=\"data row11 col17\" >0.310000</td>\n",
              "      <td id=\"T_a0b0c_row11_col18\" class=\"data row11 col18\" >0.310000</td>\n",
              "      <td id=\"T_a0b0c_row11_col19\" class=\"data row11 col19\" >0.110000</td>\n",
              "      <td id=\"T_a0b0c_row11_col20\" class=\"data row11 col20\" >0.210000</td>\n",
              "      <td id=\"T_a0b0c_row11_col21\" class=\"data row11 col21\" >0.320000</td>\n",
              "      <td id=\"T_a0b0c_row11_col22\" class=\"data row11 col22\" >0.350000</td>\n",
              "      <td id=\"T_a0b0c_row11_col23\" class=\"data row11 col23\" >0.330000</td>\n",
              "      <td id=\"T_a0b0c_row11_col24\" class=\"data row11 col24\" >0.210000</td>\n",
              "      <td id=\"T_a0b0c_row11_col25\" class=\"data row11 col25\" >0.210000</td>\n",
              "      <td id=\"T_a0b0c_row11_col26\" class=\"data row11 col26\" >-0.070000</td>\n",
              "      <td id=\"T_a0b0c_row11_col27\" class=\"data row11 col27\" >-0.140000</td>\n",
              "      <td id=\"T_a0b0c_row11_col28\" class=\"data row11 col28\" >-0.270000</td>\n",
              "      <td id=\"T_a0b0c_row11_col29\" class=\"data row11 col29\" >-0.130000</td>\n",
              "    </tr>\n",
              "    <tr>\n",
              "      <th id=\"T_a0b0c_level0_row12\" class=\"row_heading level0 row12\" >Interface_6</th>\n",
              "      <td id=\"T_a0b0c_row12_col0\" class=\"data row12 col0\" >-0.070000</td>\n",
              "      <td id=\"T_a0b0c_row12_col1\" class=\"data row12 col1\" >0.130000</td>\n",
              "      <td id=\"T_a0b0c_row12_col2\" class=\"data row12 col2\" >0.110000</td>\n",
              "      <td id=\"T_a0b0c_row12_col3\" class=\"data row12 col3\" >0.150000</td>\n",
              "      <td id=\"T_a0b0c_row12_col4\" class=\"data row12 col4\" >-0.050000</td>\n",
              "      <td id=\"T_a0b0c_row12_col5\" class=\"data row12 col5\" >0.160000</td>\n",
              "      <td id=\"T_a0b0c_row12_col6\" class=\"data row12 col6\" >0.050000</td>\n",
              "      <td id=\"T_a0b0c_row12_col7\" class=\"data row12 col7\" >0.210000</td>\n",
              "      <td id=\"T_a0b0c_row12_col8\" class=\"data row12 col8\" >0.310000</td>\n",
              "      <td id=\"T_a0b0c_row12_col9\" class=\"data row12 col9\" >0.310000</td>\n",
              "      <td id=\"T_a0b0c_row12_col10\" class=\"data row12 col10\" >0.170000</td>\n",
              "      <td id=\"T_a0b0c_row12_col11\" class=\"data row12 col11\" >0.350000</td>\n",
              "      <td id=\"T_a0b0c_row12_col12\" class=\"data row12 col12\" >1.000000</td>\n",
              "      <td id=\"T_a0b0c_row12_col13\" class=\"data row12 col13\" >0.640000</td>\n",
              "      <td id=\"T_a0b0c_row12_col14\" class=\"data row12 col14\" >0.610000</td>\n",
              "      <td id=\"T_a0b0c_row12_col15\" class=\"data row12 col15\" >0.540000</td>\n",
              "      <td id=\"T_a0b0c_row12_col16\" class=\"data row12 col16\" >0.240000</td>\n",
              "      <td id=\"T_a0b0c_row12_col17\" class=\"data row12 col17\" >0.370000</td>\n",
              "      <td id=\"T_a0b0c_row12_col18\" class=\"data row12 col18\" >0.270000</td>\n",
              "      <td id=\"T_a0b0c_row12_col19\" class=\"data row12 col19\" >0.330000</td>\n",
              "      <td id=\"T_a0b0c_row12_col20\" class=\"data row12 col20\" >0.460000</td>\n",
              "      <td id=\"T_a0b0c_row12_col21\" class=\"data row12 col21\" >0.460000</td>\n",
              "      <td id=\"T_a0b0c_row12_col22\" class=\"data row12 col22\" >0.210000</td>\n",
              "      <td id=\"T_a0b0c_row12_col23\" class=\"data row12 col23\" >0.250000</td>\n",
              "      <td id=\"T_a0b0c_row12_col24\" class=\"data row12 col24\" >0.350000</td>\n",
              "      <td id=\"T_a0b0c_row12_col25\" class=\"data row12 col25\" >0.530000</td>\n",
              "      <td id=\"T_a0b0c_row12_col26\" class=\"data row12 col26\" >-0.020000</td>\n",
              "      <td id=\"T_a0b0c_row12_col27\" class=\"data row12 col27\" >-0.080000</td>\n",
              "      <td id=\"T_a0b0c_row12_col28\" class=\"data row12 col28\" >-0.130000</td>\n",
              "      <td id=\"T_a0b0c_row12_col29\" class=\"data row12 col29\" >0.060000</td>\n",
              "    </tr>\n",
              "    <tr>\n",
              "      <th id=\"T_a0b0c_level0_row13\" class=\"row_heading level0 row13\" >Interface_7</th>\n",
              "      <td id=\"T_a0b0c_row13_col0\" class=\"data row13 col0\" >-0.020000</td>\n",
              "      <td id=\"T_a0b0c_row13_col1\" class=\"data row13 col1\" >-0.020000</td>\n",
              "      <td id=\"T_a0b0c_row13_col2\" class=\"data row13 col2\" >0.100000</td>\n",
              "      <td id=\"T_a0b0c_row13_col3\" class=\"data row13 col3\" >0.050000</td>\n",
              "      <td id=\"T_a0b0c_row13_col4\" class=\"data row13 col4\" >-0.130000</td>\n",
              "      <td id=\"T_a0b0c_row13_col5\" class=\"data row13 col5\" >0.040000</td>\n",
              "      <td id=\"T_a0b0c_row13_col6\" class=\"data row13 col6\" >0.040000</td>\n",
              "      <td id=\"T_a0b0c_row13_col7\" class=\"data row13 col7\" >0.130000</td>\n",
              "      <td id=\"T_a0b0c_row13_col8\" class=\"data row13 col8\" >0.300000</td>\n",
              "      <td id=\"T_a0b0c_row13_col9\" class=\"data row13 col9\" >0.230000</td>\n",
              "      <td id=\"T_a0b0c_row13_col10\" class=\"data row13 col10\" >0.240000</td>\n",
              "      <td id=\"T_a0b0c_row13_col11\" class=\"data row13 col11\" >0.400000</td>\n",
              "      <td id=\"T_a0b0c_row13_col12\" class=\"data row13 col12\" >0.640000</td>\n",
              "      <td id=\"T_a0b0c_row13_col13\" class=\"data row13 col13\" >1.000000</td>\n",
              "      <td id=\"T_a0b0c_row13_col14\" class=\"data row13 col14\" >0.490000</td>\n",
              "      <td id=\"T_a0b0c_row13_col15\" class=\"data row13 col15\" >0.400000</td>\n",
              "      <td id=\"T_a0b0c_row13_col16\" class=\"data row13 col16\" >0.230000</td>\n",
              "      <td id=\"T_a0b0c_row13_col17\" class=\"data row13 col17\" >0.180000</td>\n",
              "      <td id=\"T_a0b0c_row13_col18\" class=\"data row13 col18\" >0.310000</td>\n",
              "      <td id=\"T_a0b0c_row13_col19\" class=\"data row13 col19\" >0.320000</td>\n",
              "      <td id=\"T_a0b0c_row13_col20\" class=\"data row13 col20\" >0.300000</td>\n",
              "      <td id=\"T_a0b0c_row13_col21\" class=\"data row13 col21\" >0.330000</td>\n",
              "      <td id=\"T_a0b0c_row13_col22\" class=\"data row13 col22\" >0.180000</td>\n",
              "      <td id=\"T_a0b0c_row13_col23\" class=\"data row13 col23\" >0.210000</td>\n",
              "      <td id=\"T_a0b0c_row13_col24\" class=\"data row13 col24\" >0.370000</td>\n",
              "      <td id=\"T_a0b0c_row13_col25\" class=\"data row13 col25\" >0.480000</td>\n",
              "      <td id=\"T_a0b0c_row13_col26\" class=\"data row13 col26\" >-0.050000</td>\n",
              "      <td id=\"T_a0b0c_row13_col27\" class=\"data row13 col27\" >-0.070000</td>\n",
              "      <td id=\"T_a0b0c_row13_col28\" class=\"data row13 col28\" >-0.180000</td>\n",
              "      <td id=\"T_a0b0c_row13_col29\" class=\"data row13 col29\" >0.100000</td>\n",
              "    </tr>\n",
              "    <tr>\n",
              "      <th id=\"T_a0b0c_level0_row14\" class=\"row_heading level0 row14\" >Interface_8</th>\n",
              "      <td id=\"T_a0b0c_row14_col0\" class=\"data row14 col0\" >0.060000</td>\n",
              "      <td id=\"T_a0b0c_row14_col1\" class=\"data row14 col1\" >0.050000</td>\n",
              "      <td id=\"T_a0b0c_row14_col2\" class=\"data row14 col2\" >0.090000</td>\n",
              "      <td id=\"T_a0b0c_row14_col3\" class=\"data row14 col3\" >0.070000</td>\n",
              "      <td id=\"T_a0b0c_row14_col4\" class=\"data row14 col4\" >-0.060000</td>\n",
              "      <td id=\"T_a0b0c_row14_col5\" class=\"data row14 col5\" >0.070000</td>\n",
              "      <td id=\"T_a0b0c_row14_col6\" class=\"data row14 col6\" >0.000000</td>\n",
              "      <td id=\"T_a0b0c_row14_col7\" class=\"data row14 col7\" >0.110000</td>\n",
              "      <td id=\"T_a0b0c_row14_col8\" class=\"data row14 col8\" >0.270000</td>\n",
              "      <td id=\"T_a0b0c_row14_col9\" class=\"data row14 col9\" >0.140000</td>\n",
              "      <td id=\"T_a0b0c_row14_col10\" class=\"data row14 col10\" >0.250000</td>\n",
              "      <td id=\"T_a0b0c_row14_col11\" class=\"data row14 col11\" >0.240000</td>\n",
              "      <td id=\"T_a0b0c_row14_col12\" class=\"data row14 col12\" >0.610000</td>\n",
              "      <td id=\"T_a0b0c_row14_col13\" class=\"data row14 col13\" >0.490000</td>\n",
              "      <td id=\"T_a0b0c_row14_col14\" class=\"data row14 col14\" >1.000000</td>\n",
              "      <td id=\"T_a0b0c_row14_col15\" class=\"data row14 col15\" >0.740000</td>\n",
              "      <td id=\"T_a0b0c_row14_col16\" class=\"data row14 col16\" >0.200000</td>\n",
              "      <td id=\"T_a0b0c_row14_col17\" class=\"data row14 col17\" >0.230000</td>\n",
              "      <td id=\"T_a0b0c_row14_col18\" class=\"data row14 col18\" >0.350000</td>\n",
              "      <td id=\"T_a0b0c_row14_col19\" class=\"data row14 col19\" >0.230000</td>\n",
              "      <td id=\"T_a0b0c_row14_col20\" class=\"data row14 col20\" >0.320000</td>\n",
              "      <td id=\"T_a0b0c_row14_col21\" class=\"data row14 col21\" >0.260000</td>\n",
              "      <td id=\"T_a0b0c_row14_col22\" class=\"data row14 col22\" >0.220000</td>\n",
              "      <td id=\"T_a0b0c_row14_col23\" class=\"data row14 col23\" >0.150000</td>\n",
              "      <td id=\"T_a0b0c_row14_col24\" class=\"data row14 col24\" >0.330000</td>\n",
              "      <td id=\"T_a0b0c_row14_col25\" class=\"data row14 col25\" >0.530000</td>\n",
              "      <td id=\"T_a0b0c_row14_col26\" class=\"data row14 col26\" >0.010000</td>\n",
              "      <td id=\"T_a0b0c_row14_col27\" class=\"data row14 col27\" >-0.100000</td>\n",
              "      <td id=\"T_a0b0c_row14_col28\" class=\"data row14 col28\" >-0.200000</td>\n",
              "      <td id=\"T_a0b0c_row14_col29\" class=\"data row14 col29\" >0.080000</td>\n",
              "    </tr>\n",
              "    <tr>\n",
              "      <th id=\"T_a0b0c_level0_row15\" class=\"row_heading level0 row15\" >Interface_9</th>\n",
              "      <td id=\"T_a0b0c_row15_col0\" class=\"data row15 col0\" >-0.010000</td>\n",
              "      <td id=\"T_a0b0c_row15_col1\" class=\"data row15 col1\" >0.060000</td>\n",
              "      <td id=\"T_a0b0c_row15_col2\" class=\"data row15 col2\" >-0.020000</td>\n",
              "      <td id=\"T_a0b0c_row15_col3\" class=\"data row15 col3\" >0.080000</td>\n",
              "      <td id=\"T_a0b0c_row15_col4\" class=\"data row15 col4\" >0.070000</td>\n",
              "      <td id=\"T_a0b0c_row15_col5\" class=\"data row15 col5\" >0.190000</td>\n",
              "      <td id=\"T_a0b0c_row15_col6\" class=\"data row15 col6\" >0.070000</td>\n",
              "      <td id=\"T_a0b0c_row15_col7\" class=\"data row15 col7\" >0.150000</td>\n",
              "      <td id=\"T_a0b0c_row15_col8\" class=\"data row15 col8\" >0.310000</td>\n",
              "      <td id=\"T_a0b0c_row15_col9\" class=\"data row15 col9\" >0.150000</td>\n",
              "      <td id=\"T_a0b0c_row15_col10\" class=\"data row15 col10\" >0.160000</td>\n",
              "      <td id=\"T_a0b0c_row15_col11\" class=\"data row15 col11\" >0.240000</td>\n",
              "      <td id=\"T_a0b0c_row15_col12\" class=\"data row15 col12\" >0.540000</td>\n",
              "      <td id=\"T_a0b0c_row15_col13\" class=\"data row15 col13\" >0.400000</td>\n",
              "      <td id=\"T_a0b0c_row15_col14\" class=\"data row15 col14\" >0.740000</td>\n",
              "      <td id=\"T_a0b0c_row15_col15\" class=\"data row15 col15\" >1.000000</td>\n",
              "      <td id=\"T_a0b0c_row15_col16\" class=\"data row15 col16\" >0.210000</td>\n",
              "      <td id=\"T_a0b0c_row15_col17\" class=\"data row15 col17\" >0.190000</td>\n",
              "      <td id=\"T_a0b0c_row15_col18\" class=\"data row15 col18\" >0.200000</td>\n",
              "      <td id=\"T_a0b0c_row15_col19\" class=\"data row15 col19\" >0.280000</td>\n",
              "      <td id=\"T_a0b0c_row15_col20\" class=\"data row15 col20\" >0.310000</td>\n",
              "      <td id=\"T_a0b0c_row15_col21\" class=\"data row15 col21\" >0.260000</td>\n",
              "      <td id=\"T_a0b0c_row15_col22\" class=\"data row15 col22\" >0.240000</td>\n",
              "      <td id=\"T_a0b0c_row15_col23\" class=\"data row15 col23\" >0.190000</td>\n",
              "      <td id=\"T_a0b0c_row15_col24\" class=\"data row15 col24\" >0.190000</td>\n",
              "      <td id=\"T_a0b0c_row15_col25\" class=\"data row15 col25\" >0.290000</td>\n",
              "      <td id=\"T_a0b0c_row15_col26\" class=\"data row15 col26\" >-0.020000</td>\n",
              "      <td id=\"T_a0b0c_row15_col27\" class=\"data row15 col27\" >-0.100000</td>\n",
              "      <td id=\"T_a0b0c_row15_col28\" class=\"data row15 col28\" >-0.130000</td>\n",
              "      <td id=\"T_a0b0c_row15_col29\" class=\"data row15 col29\" >0.050000</td>\n",
              "    </tr>\n",
              "    <tr>\n",
              "      <th id=\"T_a0b0c_level0_row16\" class=\"row_heading level0 row16\" >Interface_10</th>\n",
              "      <td id=\"T_a0b0c_row16_col0\" class=\"data row16 col0\" >0.180000</td>\n",
              "      <td id=\"T_a0b0c_row16_col1\" class=\"data row16 col1\" >-0.090000</td>\n",
              "      <td id=\"T_a0b0c_row16_col2\" class=\"data row16 col2\" >0.190000</td>\n",
              "      <td id=\"T_a0b0c_row16_col3\" class=\"data row16 col3\" >-0.010000</td>\n",
              "      <td id=\"T_a0b0c_row16_col4\" class=\"data row16 col4\" >-0.210000</td>\n",
              "      <td id=\"T_a0b0c_row16_col5\" class=\"data row16 col5\" >-0.010000</td>\n",
              "      <td id=\"T_a0b0c_row16_col6\" class=\"data row16 col6\" >0.250000</td>\n",
              "      <td id=\"T_a0b0c_row16_col7\" class=\"data row16 col7\" >0.210000</td>\n",
              "      <td id=\"T_a0b0c_row16_col8\" class=\"data row16 col8\" >0.210000</td>\n",
              "      <td id=\"T_a0b0c_row16_col9\" class=\"data row16 col9\" >0.260000</td>\n",
              "      <td id=\"T_a0b0c_row16_col10\" class=\"data row16 col10\" >0.300000</td>\n",
              "      <td id=\"T_a0b0c_row16_col11\" class=\"data row16 col11\" >0.200000</td>\n",
              "      <td id=\"T_a0b0c_row16_col12\" class=\"data row16 col12\" >0.240000</td>\n",
              "      <td id=\"T_a0b0c_row16_col13\" class=\"data row16 col13\" >0.230000</td>\n",
              "      <td id=\"T_a0b0c_row16_col14\" class=\"data row16 col14\" >0.200000</td>\n",
              "      <td id=\"T_a0b0c_row16_col15\" class=\"data row16 col15\" >0.210000</td>\n",
              "      <td id=\"T_a0b0c_row16_col16\" class=\"data row16 col16\" >1.000000</td>\n",
              "      <td id=\"T_a0b0c_row16_col17\" class=\"data row16 col17\" >0.190000</td>\n",
              "      <td id=\"T_a0b0c_row16_col18\" class=\"data row16 col18\" >0.100000</td>\n",
              "      <td id=\"T_a0b0c_row16_col19\" class=\"data row16 col19\" >0.260000</td>\n",
              "      <td id=\"T_a0b0c_row16_col20\" class=\"data row16 col20\" >0.080000</td>\n",
              "      <td id=\"T_a0b0c_row16_col21\" class=\"data row16 col21\" >0.050000</td>\n",
              "      <td id=\"T_a0b0c_row16_col22\" class=\"data row16 col22\" >-0.050000</td>\n",
              "      <td id=\"T_a0b0c_row16_col23\" class=\"data row16 col23\" >0.170000</td>\n",
              "      <td id=\"T_a0b0c_row16_col24\" class=\"data row16 col24\" >0.320000</td>\n",
              "      <td id=\"T_a0b0c_row16_col25\" class=\"data row16 col25\" >0.290000</td>\n",
              "      <td id=\"T_a0b0c_row16_col26\" class=\"data row16 col26\" >-0.060000</td>\n",
              "      <td id=\"T_a0b0c_row16_col27\" class=\"data row16 col27\" >-0.080000</td>\n",
              "      <td id=\"T_a0b0c_row16_col28\" class=\"data row16 col28\" >-0.050000</td>\n",
              "      <td id=\"T_a0b0c_row16_col29\" class=\"data row16 col29\" >-0.090000</td>\n",
              "    </tr>\n",
              "    <tr>\n",
              "      <th id=\"T_a0b0c_level0_row17\" class=\"row_heading level0 row17\" >Interface_11</th>\n",
              "      <td id=\"T_a0b0c_row17_col0\" class=\"data row17 col0\" >-0.060000</td>\n",
              "      <td id=\"T_a0b0c_row17_col1\" class=\"data row17 col1\" >-0.010000</td>\n",
              "      <td id=\"T_a0b0c_row17_col2\" class=\"data row17 col2\" >0.040000</td>\n",
              "      <td id=\"T_a0b0c_row17_col3\" class=\"data row17 col3\" >0.090000</td>\n",
              "      <td id=\"T_a0b0c_row17_col4\" class=\"data row17 col4\" >0.000000</td>\n",
              "      <td id=\"T_a0b0c_row17_col5\" class=\"data row17 col5\" >0.180000</td>\n",
              "      <td id=\"T_a0b0c_row17_col6\" class=\"data row17 col6\" >0.120000</td>\n",
              "      <td id=\"T_a0b0c_row17_col7\" class=\"data row17 col7\" >0.530000</td>\n",
              "      <td id=\"T_a0b0c_row17_col8\" class=\"data row17 col8\" >0.350000</td>\n",
              "      <td id=\"T_a0b0c_row17_col9\" class=\"data row17 col9\" >0.420000</td>\n",
              "      <td id=\"T_a0b0c_row17_col10\" class=\"data row17 col10\" >0.180000</td>\n",
              "      <td id=\"T_a0b0c_row17_col11\" class=\"data row17 col11\" >0.310000</td>\n",
              "      <td id=\"T_a0b0c_row17_col12\" class=\"data row17 col12\" >0.370000</td>\n",
              "      <td id=\"T_a0b0c_row17_col13\" class=\"data row17 col13\" >0.180000</td>\n",
              "      <td id=\"T_a0b0c_row17_col14\" class=\"data row17 col14\" >0.230000</td>\n",
              "      <td id=\"T_a0b0c_row17_col15\" class=\"data row17 col15\" >0.190000</td>\n",
              "      <td id=\"T_a0b0c_row17_col16\" class=\"data row17 col16\" >0.190000</td>\n",
              "      <td id=\"T_a0b0c_row17_col17\" class=\"data row17 col17\" >1.000000</td>\n",
              "      <td id=\"T_a0b0c_row17_col18\" class=\"data row17 col18\" >0.470000</td>\n",
              "      <td id=\"T_a0b0c_row17_col19\" class=\"data row17 col19\" >0.310000</td>\n",
              "      <td id=\"T_a0b0c_row17_col20\" class=\"data row17 col20\" >0.280000</td>\n",
              "      <td id=\"T_a0b0c_row17_col21\" class=\"data row17 col21\" >0.270000</td>\n",
              "      <td id=\"T_a0b0c_row17_col22\" class=\"data row17 col22\" >0.430000</td>\n",
              "      <td id=\"T_a0b0c_row17_col23\" class=\"data row17 col23\" >0.430000</td>\n",
              "      <td id=\"T_a0b0c_row17_col24\" class=\"data row17 col24\" >0.230000</td>\n",
              "      <td id=\"T_a0b0c_row17_col25\" class=\"data row17 col25\" >0.380000</td>\n",
              "      <td id=\"T_a0b0c_row17_col26\" class=\"data row17 col26\" >0.090000</td>\n",
              "      <td id=\"T_a0b0c_row17_col27\" class=\"data row17 col27\" >-0.200000</td>\n",
              "      <td id=\"T_a0b0c_row17_col28\" class=\"data row17 col28\" >-0.040000</td>\n",
              "      <td id=\"T_a0b0c_row17_col29\" class=\"data row17 col29\" >-0.070000</td>\n",
              "    </tr>\n",
              "    <tr>\n",
              "      <th id=\"T_a0b0c_level0_row18\" class=\"row_heading level0 row18\" >Interface_12</th>\n",
              "      <td id=\"T_a0b0c_row18_col0\" class=\"data row18 col0\" >-0.020000</td>\n",
              "      <td id=\"T_a0b0c_row18_col1\" class=\"data row18 col1\" >0.030000</td>\n",
              "      <td id=\"T_a0b0c_row18_col2\" class=\"data row18 col2\" >0.100000</td>\n",
              "      <td id=\"T_a0b0c_row18_col3\" class=\"data row18 col3\" >0.060000</td>\n",
              "      <td id=\"T_a0b0c_row18_col4\" class=\"data row18 col4\" >0.050000</td>\n",
              "      <td id=\"T_a0b0c_row18_col5\" class=\"data row18 col5\" >0.020000</td>\n",
              "      <td id=\"T_a0b0c_row18_col6\" class=\"data row18 col6\" >0.200000</td>\n",
              "      <td id=\"T_a0b0c_row18_col7\" class=\"data row18 col7\" >0.400000</td>\n",
              "      <td id=\"T_a0b0c_row18_col8\" class=\"data row18 col8\" >0.320000</td>\n",
              "      <td id=\"T_a0b0c_row18_col9\" class=\"data row18 col9\" >0.360000</td>\n",
              "      <td id=\"T_a0b0c_row18_col10\" class=\"data row18 col10\" >0.390000</td>\n",
              "      <td id=\"T_a0b0c_row18_col11\" class=\"data row18 col11\" >0.310000</td>\n",
              "      <td id=\"T_a0b0c_row18_col12\" class=\"data row18 col12\" >0.270000</td>\n",
              "      <td id=\"T_a0b0c_row18_col13\" class=\"data row18 col13\" >0.310000</td>\n",
              "      <td id=\"T_a0b0c_row18_col14\" class=\"data row18 col14\" >0.350000</td>\n",
              "      <td id=\"T_a0b0c_row18_col15\" class=\"data row18 col15\" >0.200000</td>\n",
              "      <td id=\"T_a0b0c_row18_col16\" class=\"data row18 col16\" >0.100000</td>\n",
              "      <td id=\"T_a0b0c_row18_col17\" class=\"data row18 col17\" >0.470000</td>\n",
              "      <td id=\"T_a0b0c_row18_col18\" class=\"data row18 col18\" >1.000000</td>\n",
              "      <td id=\"T_a0b0c_row18_col19\" class=\"data row18 col19\" >0.300000</td>\n",
              "      <td id=\"T_a0b0c_row18_col20\" class=\"data row18 col20\" >0.250000</td>\n",
              "      <td id=\"T_a0b0c_row18_col21\" class=\"data row18 col21\" >0.250000</td>\n",
              "      <td id=\"T_a0b0c_row18_col22\" class=\"data row18 col22\" >0.340000</td>\n",
              "      <td id=\"T_a0b0c_row18_col23\" class=\"data row18 col23\" >0.310000</td>\n",
              "      <td id=\"T_a0b0c_row18_col24\" class=\"data row18 col24\" >0.450000</td>\n",
              "      <td id=\"T_a0b0c_row18_col25\" class=\"data row18 col25\" >0.350000</td>\n",
              "      <td id=\"T_a0b0c_row18_col26\" class=\"data row18 col26\" >-0.030000</td>\n",
              "      <td id=\"T_a0b0c_row18_col27\" class=\"data row18 col27\" >-0.110000</td>\n",
              "      <td id=\"T_a0b0c_row18_col28\" class=\"data row18 col28\" >-0.200000</td>\n",
              "      <td id=\"T_a0b0c_row18_col29\" class=\"data row18 col29\" >0.010000</td>\n",
              "    </tr>\n",
              "    <tr>\n",
              "      <th id=\"T_a0b0c_level0_row19\" class=\"row_heading level0 row19\" >Interface_13</th>\n",
              "      <td id=\"T_a0b0c_row19_col0\" class=\"data row19 col0\" >0.040000</td>\n",
              "      <td id=\"T_a0b0c_row19_col1\" class=\"data row19 col1\" >0.040000</td>\n",
              "      <td id=\"T_a0b0c_row19_col2\" class=\"data row19 col2\" >0.220000</td>\n",
              "      <td id=\"T_a0b0c_row19_col3\" class=\"data row19 col3\" >0.020000</td>\n",
              "      <td id=\"T_a0b0c_row19_col4\" class=\"data row19 col4\" >-0.080000</td>\n",
              "      <td id=\"T_a0b0c_row19_col5\" class=\"data row19 col5\" >0.160000</td>\n",
              "      <td id=\"T_a0b0c_row19_col6\" class=\"data row19 col6\" >0.120000</td>\n",
              "      <td id=\"T_a0b0c_row19_col7\" class=\"data row19 col7\" >0.230000</td>\n",
              "      <td id=\"T_a0b0c_row19_col8\" class=\"data row19 col8\" >0.210000</td>\n",
              "      <td id=\"T_a0b0c_row19_col9\" class=\"data row19 col9\" >0.190000</td>\n",
              "      <td id=\"T_a0b0c_row19_col10\" class=\"data row19 col10\" >0.350000</td>\n",
              "      <td id=\"T_a0b0c_row19_col11\" class=\"data row19 col11\" >0.110000</td>\n",
              "      <td id=\"T_a0b0c_row19_col12\" class=\"data row19 col12\" >0.330000</td>\n",
              "      <td id=\"T_a0b0c_row19_col13\" class=\"data row19 col13\" >0.320000</td>\n",
              "      <td id=\"T_a0b0c_row19_col14\" class=\"data row19 col14\" >0.230000</td>\n",
              "      <td id=\"T_a0b0c_row19_col15\" class=\"data row19 col15\" >0.280000</td>\n",
              "      <td id=\"T_a0b0c_row19_col16\" class=\"data row19 col16\" >0.260000</td>\n",
              "      <td id=\"T_a0b0c_row19_col17\" class=\"data row19 col17\" >0.310000</td>\n",
              "      <td id=\"T_a0b0c_row19_col18\" class=\"data row19 col18\" >0.300000</td>\n",
              "      <td id=\"T_a0b0c_row19_col19\" class=\"data row19 col19\" >1.000000</td>\n",
              "      <td id=\"T_a0b0c_row19_col20\" class=\"data row19 col20\" >0.420000</td>\n",
              "      <td id=\"T_a0b0c_row19_col21\" class=\"data row19 col21\" >0.400000</td>\n",
              "      <td id=\"T_a0b0c_row19_col22\" class=\"data row19 col22\" >0.330000</td>\n",
              "      <td id=\"T_a0b0c_row19_col23\" class=\"data row19 col23\" >0.310000</td>\n",
              "      <td id=\"T_a0b0c_row19_col24\" class=\"data row19 col24\" >0.340000</td>\n",
              "      <td id=\"T_a0b0c_row19_col25\" class=\"data row19 col25\" >0.190000</td>\n",
              "      <td id=\"T_a0b0c_row19_col26\" class=\"data row19 col26\" >-0.090000</td>\n",
              "      <td id=\"T_a0b0c_row19_col27\" class=\"data row19 col27\" >0.120000</td>\n",
              "      <td id=\"T_a0b0c_row19_col28\" class=\"data row19 col28\" >0.010000</td>\n",
              "      <td id=\"T_a0b0c_row19_col29\" class=\"data row19 col29\" >0.060000</td>\n",
              "    </tr>\n",
              "    <tr>\n",
              "      <th id=\"T_a0b0c_level0_row20\" class=\"row_heading level0 row20\" >Interface_14</th>\n",
              "      <td id=\"T_a0b0c_row20_col0\" class=\"data row20 col0\" >-0.200000</td>\n",
              "      <td id=\"T_a0b0c_row20_col1\" class=\"data row20 col1\" >0.170000</td>\n",
              "      <td id=\"T_a0b0c_row20_col2\" class=\"data row20 col2\" >0.010000</td>\n",
              "      <td id=\"T_a0b0c_row20_col3\" class=\"data row20 col3\" >0.070000</td>\n",
              "      <td id=\"T_a0b0c_row20_col4\" class=\"data row20 col4\" >-0.030000</td>\n",
              "      <td id=\"T_a0b0c_row20_col5\" class=\"data row20 col5\" >0.190000</td>\n",
              "      <td id=\"T_a0b0c_row20_col6\" class=\"data row20 col6\" >-0.060000</td>\n",
              "      <td id=\"T_a0b0c_row20_col7\" class=\"data row20 col7\" >0.160000</td>\n",
              "      <td id=\"T_a0b0c_row20_col8\" class=\"data row20 col8\" >0.240000</td>\n",
              "      <td id=\"T_a0b0c_row20_col9\" class=\"data row20 col9\" >0.140000</td>\n",
              "      <td id=\"T_a0b0c_row20_col10\" class=\"data row20 col10\" >0.430000</td>\n",
              "      <td id=\"T_a0b0c_row20_col11\" class=\"data row20 col11\" >0.210000</td>\n",
              "      <td id=\"T_a0b0c_row20_col12\" class=\"data row20 col12\" >0.460000</td>\n",
              "      <td id=\"T_a0b0c_row20_col13\" class=\"data row20 col13\" >0.300000</td>\n",
              "      <td id=\"T_a0b0c_row20_col14\" class=\"data row20 col14\" >0.320000</td>\n",
              "      <td id=\"T_a0b0c_row20_col15\" class=\"data row20 col15\" >0.310000</td>\n",
              "      <td id=\"T_a0b0c_row20_col16\" class=\"data row20 col16\" >0.080000</td>\n",
              "      <td id=\"T_a0b0c_row20_col17\" class=\"data row20 col17\" >0.280000</td>\n",
              "      <td id=\"T_a0b0c_row20_col18\" class=\"data row20 col18\" >0.250000</td>\n",
              "      <td id=\"T_a0b0c_row20_col19\" class=\"data row20 col19\" >0.420000</td>\n",
              "      <td id=\"T_a0b0c_row20_col20\" class=\"data row20 col20\" >1.000000</td>\n",
              "      <td id=\"T_a0b0c_row20_col21\" class=\"data row20 col21\" >0.860000</td>\n",
              "      <td id=\"T_a0b0c_row20_col22\" class=\"data row20 col22\" >0.180000</td>\n",
              "      <td id=\"T_a0b0c_row20_col23\" class=\"data row20 col23\" >0.250000</td>\n",
              "      <td id=\"T_a0b0c_row20_col24\" class=\"data row20 col24\" >0.470000</td>\n",
              "      <td id=\"T_a0b0c_row20_col25\" class=\"data row20 col25\" >0.260000</td>\n",
              "      <td id=\"T_a0b0c_row20_col26\" class=\"data row20 col26\" >0.140000</td>\n",
              "      <td id=\"T_a0b0c_row20_col27\" class=\"data row20 col27\" >-0.040000</td>\n",
              "      <td id=\"T_a0b0c_row20_col28\" class=\"data row20 col28\" >0.050000</td>\n",
              "      <td id=\"T_a0b0c_row20_col29\" class=\"data row20 col29\" >0.120000</td>\n",
              "    </tr>\n",
              "    <tr>\n",
              "      <th id=\"T_a0b0c_level0_row21\" class=\"row_heading level0 row21\" >Interface_15</th>\n",
              "      <td id=\"T_a0b0c_row21_col0\" class=\"data row21 col0\" >-0.200000</td>\n",
              "      <td id=\"T_a0b0c_row21_col1\" class=\"data row21 col1\" >0.180000</td>\n",
              "      <td id=\"T_a0b0c_row21_col2\" class=\"data row21 col2\" >-0.060000</td>\n",
              "      <td id=\"T_a0b0c_row21_col3\" class=\"data row21 col3\" >0.010000</td>\n",
              "      <td id=\"T_a0b0c_row21_col4\" class=\"data row21 col4\" >-0.010000</td>\n",
              "      <td id=\"T_a0b0c_row21_col5\" class=\"data row21 col5\" >0.110000</td>\n",
              "      <td id=\"T_a0b0c_row21_col6\" class=\"data row21 col6\" >-0.040000</td>\n",
              "      <td id=\"T_a0b0c_row21_col7\" class=\"data row21 col7\" >0.280000</td>\n",
              "      <td id=\"T_a0b0c_row21_col8\" class=\"data row21 col8\" >0.320000</td>\n",
              "      <td id=\"T_a0b0c_row21_col9\" class=\"data row21 col9\" >0.250000</td>\n",
              "      <td id=\"T_a0b0c_row21_col10\" class=\"data row21 col10\" >0.310000</td>\n",
              "      <td id=\"T_a0b0c_row21_col11\" class=\"data row21 col11\" >0.320000</td>\n",
              "      <td id=\"T_a0b0c_row21_col12\" class=\"data row21 col12\" >0.460000</td>\n",
              "      <td id=\"T_a0b0c_row21_col13\" class=\"data row21 col13\" >0.330000</td>\n",
              "      <td id=\"T_a0b0c_row21_col14\" class=\"data row21 col14\" >0.260000</td>\n",
              "      <td id=\"T_a0b0c_row21_col15\" class=\"data row21 col15\" >0.260000</td>\n",
              "      <td id=\"T_a0b0c_row21_col16\" class=\"data row21 col16\" >0.050000</td>\n",
              "      <td id=\"T_a0b0c_row21_col17\" class=\"data row21 col17\" >0.270000</td>\n",
              "      <td id=\"T_a0b0c_row21_col18\" class=\"data row21 col18\" >0.250000</td>\n",
              "      <td id=\"T_a0b0c_row21_col19\" class=\"data row21 col19\" >0.400000</td>\n",
              "      <td id=\"T_a0b0c_row21_col20\" class=\"data row21 col20\" >0.860000</td>\n",
              "      <td id=\"T_a0b0c_row21_col21\" class=\"data row21 col21\" >1.000000</td>\n",
              "      <td id=\"T_a0b0c_row21_col22\" class=\"data row21 col22\" >0.160000</td>\n",
              "      <td id=\"T_a0b0c_row21_col23\" class=\"data row21 col23\" >0.370000</td>\n",
              "      <td id=\"T_a0b0c_row21_col24\" class=\"data row21 col24\" >0.360000</td>\n",
              "      <td id=\"T_a0b0c_row21_col25\" class=\"data row21 col25\" >0.270000</td>\n",
              "      <td id=\"T_a0b0c_row21_col26\" class=\"data row21 col26\" >0.100000</td>\n",
              "      <td id=\"T_a0b0c_row21_col27\" class=\"data row21 col27\" >-0.040000</td>\n",
              "      <td id=\"T_a0b0c_row21_col28\" class=\"data row21 col28\" >0.020000</td>\n",
              "      <td id=\"T_a0b0c_row21_col29\" class=\"data row21 col29\" >0.070000</td>\n",
              "    </tr>\n",
              "    <tr>\n",
              "      <th id=\"T_a0b0c_level0_row22\" class=\"row_heading level0 row22\" >Interface_16</th>\n",
              "      <td id=\"T_a0b0c_row22_col0\" class=\"data row22 col0\" >-0.070000</td>\n",
              "      <td id=\"T_a0b0c_row22_col1\" class=\"data row22 col1\" >0.070000</td>\n",
              "      <td id=\"T_a0b0c_row22_col2\" class=\"data row22 col2\" >0.140000</td>\n",
              "      <td id=\"T_a0b0c_row22_col3\" class=\"data row22 col3\" >0.180000</td>\n",
              "      <td id=\"T_a0b0c_row22_col4\" class=\"data row22 col4\" >0.060000</td>\n",
              "      <td id=\"T_a0b0c_row22_col5\" class=\"data row22 col5\" >0.120000</td>\n",
              "      <td id=\"T_a0b0c_row22_col6\" class=\"data row22 col6\" >0.010000</td>\n",
              "      <td id=\"T_a0b0c_row22_col7\" class=\"data row22 col7\" >0.250000</td>\n",
              "      <td id=\"T_a0b0c_row22_col8\" class=\"data row22 col8\" >0.240000</td>\n",
              "      <td id=\"T_a0b0c_row22_col9\" class=\"data row22 col9\" >0.230000</td>\n",
              "      <td id=\"T_a0b0c_row22_col10\" class=\"data row22 col10\" >0.140000</td>\n",
              "      <td id=\"T_a0b0c_row22_col11\" class=\"data row22 col11\" >0.350000</td>\n",
              "      <td id=\"T_a0b0c_row22_col12\" class=\"data row22 col12\" >0.210000</td>\n",
              "      <td id=\"T_a0b0c_row22_col13\" class=\"data row22 col13\" >0.180000</td>\n",
              "      <td id=\"T_a0b0c_row22_col14\" class=\"data row22 col14\" >0.220000</td>\n",
              "      <td id=\"T_a0b0c_row22_col15\" class=\"data row22 col15\" >0.240000</td>\n",
              "      <td id=\"T_a0b0c_row22_col16\" class=\"data row22 col16\" >-0.050000</td>\n",
              "      <td id=\"T_a0b0c_row22_col17\" class=\"data row22 col17\" >0.430000</td>\n",
              "      <td id=\"T_a0b0c_row22_col18\" class=\"data row22 col18\" >0.340000</td>\n",
              "      <td id=\"T_a0b0c_row22_col19\" class=\"data row22 col19\" >0.330000</td>\n",
              "      <td id=\"T_a0b0c_row22_col20\" class=\"data row22 col20\" >0.180000</td>\n",
              "      <td id=\"T_a0b0c_row22_col21\" class=\"data row22 col21\" >0.160000</td>\n",
              "      <td id=\"T_a0b0c_row22_col22\" class=\"data row22 col22\" >1.000000</td>\n",
              "      <td id=\"T_a0b0c_row22_col23\" class=\"data row22 col23\" >0.420000</td>\n",
              "      <td id=\"T_a0b0c_row22_col24\" class=\"data row22 col24\" >0.060000</td>\n",
              "      <td id=\"T_a0b0c_row22_col25\" class=\"data row22 col25\" >0.110000</td>\n",
              "      <td id=\"T_a0b0c_row22_col26\" class=\"data row22 col26\" >0.050000</td>\n",
              "      <td id=\"T_a0b0c_row22_col27\" class=\"data row22 col27\" >-0.020000</td>\n",
              "      <td id=\"T_a0b0c_row22_col28\" class=\"data row22 col28\" >0.150000</td>\n",
              "      <td id=\"T_a0b0c_row22_col29\" class=\"data row22 col29\" >-0.020000</td>\n",
              "    </tr>\n",
              "    <tr>\n",
              "      <th id=\"T_a0b0c_level0_row23\" class=\"row_heading level0 row23\" >Interface_17</th>\n",
              "      <td id=\"T_a0b0c_row23_col0\" class=\"data row23 col0\" >0.080000</td>\n",
              "      <td id=\"T_a0b0c_row23_col1\" class=\"data row23 col1\" >-0.060000</td>\n",
              "      <td id=\"T_a0b0c_row23_col2\" class=\"data row23 col2\" >0.080000</td>\n",
              "      <td id=\"T_a0b0c_row23_col3\" class=\"data row23 col3\" >-0.070000</td>\n",
              "      <td id=\"T_a0b0c_row23_col4\" class=\"data row23 col4\" >-0.080000</td>\n",
              "      <td id=\"T_a0b0c_row23_col5\" class=\"data row23 col5\" >0.140000</td>\n",
              "      <td id=\"T_a0b0c_row23_col6\" class=\"data row23 col6\" >-0.010000</td>\n",
              "      <td id=\"T_a0b0c_row23_col7\" class=\"data row23 col7\" >0.400000</td>\n",
              "      <td id=\"T_a0b0c_row23_col8\" class=\"data row23 col8\" >0.310000</td>\n",
              "      <td id=\"T_a0b0c_row23_col9\" class=\"data row23 col9\" >0.340000</td>\n",
              "      <td id=\"T_a0b0c_row23_col10\" class=\"data row23 col10\" >0.060000</td>\n",
              "      <td id=\"T_a0b0c_row23_col11\" class=\"data row23 col11\" >0.330000</td>\n",
              "      <td id=\"T_a0b0c_row23_col12\" class=\"data row23 col12\" >0.250000</td>\n",
              "      <td id=\"T_a0b0c_row23_col13\" class=\"data row23 col13\" >0.210000</td>\n",
              "      <td id=\"T_a0b0c_row23_col14\" class=\"data row23 col14\" >0.150000</td>\n",
              "      <td id=\"T_a0b0c_row23_col15\" class=\"data row23 col15\" >0.190000</td>\n",
              "      <td id=\"T_a0b0c_row23_col16\" class=\"data row23 col16\" >0.170000</td>\n",
              "      <td id=\"T_a0b0c_row23_col17\" class=\"data row23 col17\" >0.430000</td>\n",
              "      <td id=\"T_a0b0c_row23_col18\" class=\"data row23 col18\" >0.310000</td>\n",
              "      <td id=\"T_a0b0c_row23_col19\" class=\"data row23 col19\" >0.310000</td>\n",
              "      <td id=\"T_a0b0c_row23_col20\" class=\"data row23 col20\" >0.250000</td>\n",
              "      <td id=\"T_a0b0c_row23_col21\" class=\"data row23 col21\" >0.370000</td>\n",
              "      <td id=\"T_a0b0c_row23_col22\" class=\"data row23 col22\" >0.420000</td>\n",
              "      <td id=\"T_a0b0c_row23_col23\" class=\"data row23 col23\" >1.000000</td>\n",
              "      <td id=\"T_a0b0c_row23_col24\" class=\"data row23 col24\" >0.050000</td>\n",
              "      <td id=\"T_a0b0c_row23_col25\" class=\"data row23 col25\" >0.250000</td>\n",
              "      <td id=\"T_a0b0c_row23_col26\" class=\"data row23 col26\" >0.120000</td>\n",
              "      <td id=\"T_a0b0c_row23_col27\" class=\"data row23 col27\" >0.130000</td>\n",
              "      <td id=\"T_a0b0c_row23_col28\" class=\"data row23 col28\" >0.120000</td>\n",
              "      <td id=\"T_a0b0c_row23_col29\" class=\"data row23 col29\" >-0.170000</td>\n",
              "    </tr>\n",
              "    <tr>\n",
              "      <th id=\"T_a0b0c_level0_row24\" class=\"row_heading level0 row24\" >Extra_interface_1</th>\n",
              "      <td id=\"T_a0b0c_row24_col0\" class=\"data row24 col0\" >-0.010000</td>\n",
              "      <td id=\"T_a0b0c_row24_col1\" class=\"data row24 col1\" >0.180000</td>\n",
              "      <td id=\"T_a0b0c_row24_col2\" class=\"data row24 col2\" >0.100000</td>\n",
              "      <td id=\"T_a0b0c_row24_col3\" class=\"data row24 col3\" >0.170000</td>\n",
              "      <td id=\"T_a0b0c_row24_col4\" class=\"data row24 col4\" >0.060000</td>\n",
              "      <td id=\"T_a0b0c_row24_col5\" class=\"data row24 col5\" >0.000000</td>\n",
              "      <td id=\"T_a0b0c_row24_col6\" class=\"data row24 col6\" >0.090000</td>\n",
              "      <td id=\"T_a0b0c_row24_col7\" class=\"data row24 col7\" >0.260000</td>\n",
              "      <td id=\"T_a0b0c_row24_col8\" class=\"data row24 col8\" >0.340000</td>\n",
              "      <td id=\"T_a0b0c_row24_col9\" class=\"data row24 col9\" >0.290000</td>\n",
              "      <td id=\"T_a0b0c_row24_col10\" class=\"data row24 col10\" >0.730000</td>\n",
              "      <td id=\"T_a0b0c_row24_col11\" class=\"data row24 col11\" >0.210000</td>\n",
              "      <td id=\"T_a0b0c_row24_col12\" class=\"data row24 col12\" >0.350000</td>\n",
              "      <td id=\"T_a0b0c_row24_col13\" class=\"data row24 col13\" >0.370000</td>\n",
              "      <td id=\"T_a0b0c_row24_col14\" class=\"data row24 col14\" >0.330000</td>\n",
              "      <td id=\"T_a0b0c_row24_col15\" class=\"data row24 col15\" >0.190000</td>\n",
              "      <td id=\"T_a0b0c_row24_col16\" class=\"data row24 col16\" >0.320000</td>\n",
              "      <td id=\"T_a0b0c_row24_col17\" class=\"data row24 col17\" >0.230000</td>\n",
              "      <td id=\"T_a0b0c_row24_col18\" class=\"data row24 col18\" >0.450000</td>\n",
              "      <td id=\"T_a0b0c_row24_col19\" class=\"data row24 col19\" >0.340000</td>\n",
              "      <td id=\"T_a0b0c_row24_col20\" class=\"data row24 col20\" >0.470000</td>\n",
              "      <td id=\"T_a0b0c_row24_col21\" class=\"data row24 col21\" >0.360000</td>\n",
              "      <td id=\"T_a0b0c_row24_col22\" class=\"data row24 col22\" >0.060000</td>\n",
              "      <td id=\"T_a0b0c_row24_col23\" class=\"data row24 col23\" >0.050000</td>\n",
              "      <td id=\"T_a0b0c_row24_col24\" class=\"data row24 col24\" >1.000000</td>\n",
              "      <td id=\"T_a0b0c_row24_col25\" class=\"data row24 col25\" >0.390000</td>\n",
              "      <td id=\"T_a0b0c_row24_col26\" class=\"data row24 col26\" >-0.010000</td>\n",
              "      <td id=\"T_a0b0c_row24_col27\" class=\"data row24 col27\" >-0.230000</td>\n",
              "      <td id=\"T_a0b0c_row24_col28\" class=\"data row24 col28\" >-0.180000</td>\n",
              "      <td id=\"T_a0b0c_row24_col29\" class=\"data row24 col29\" >0.150000</td>\n",
              "    </tr>\n",
              "    <tr>\n",
              "      <th id=\"T_a0b0c_level0_row25\" class=\"row_heading level0 row25\" >Extra_interface_2</th>\n",
              "      <td id=\"T_a0b0c_row25_col0\" class=\"data row25 col0\" >0.030000</td>\n",
              "      <td id=\"T_a0b0c_row25_col1\" class=\"data row25 col1\" >0.050000</td>\n",
              "      <td id=\"T_a0b0c_row25_col2\" class=\"data row25 col2\" >-0.020000</td>\n",
              "      <td id=\"T_a0b0c_row25_col3\" class=\"data row25 col3\" >-0.070000</td>\n",
              "      <td id=\"T_a0b0c_row25_col4\" class=\"data row25 col4\" >-0.020000</td>\n",
              "      <td id=\"T_a0b0c_row25_col5\" class=\"data row25 col5\" >0.020000</td>\n",
              "      <td id=\"T_a0b0c_row25_col6\" class=\"data row25 col6\" >0.080000</td>\n",
              "      <td id=\"T_a0b0c_row25_col7\" class=\"data row25 col7\" >0.230000</td>\n",
              "      <td id=\"T_a0b0c_row25_col8\" class=\"data row25 col8\" >0.170000</td>\n",
              "      <td id=\"T_a0b0c_row25_col9\" class=\"data row25 col9\" >0.160000</td>\n",
              "      <td id=\"T_a0b0c_row25_col10\" class=\"data row25 col10\" >0.220000</td>\n",
              "      <td id=\"T_a0b0c_row25_col11\" class=\"data row25 col11\" >0.210000</td>\n",
              "      <td id=\"T_a0b0c_row25_col12\" class=\"data row25 col12\" >0.530000</td>\n",
              "      <td id=\"T_a0b0c_row25_col13\" class=\"data row25 col13\" >0.480000</td>\n",
              "      <td id=\"T_a0b0c_row25_col14\" class=\"data row25 col14\" >0.530000</td>\n",
              "      <td id=\"T_a0b0c_row25_col15\" class=\"data row25 col15\" >0.290000</td>\n",
              "      <td id=\"T_a0b0c_row25_col16\" class=\"data row25 col16\" >0.290000</td>\n",
              "      <td id=\"T_a0b0c_row25_col17\" class=\"data row25 col17\" >0.380000</td>\n",
              "      <td id=\"T_a0b0c_row25_col18\" class=\"data row25 col18\" >0.350000</td>\n",
              "      <td id=\"T_a0b0c_row25_col19\" class=\"data row25 col19\" >0.190000</td>\n",
              "      <td id=\"T_a0b0c_row25_col20\" class=\"data row25 col20\" >0.260000</td>\n",
              "      <td id=\"T_a0b0c_row25_col21\" class=\"data row25 col21\" >0.270000</td>\n",
              "      <td id=\"T_a0b0c_row25_col22\" class=\"data row25 col22\" >0.110000</td>\n",
              "      <td id=\"T_a0b0c_row25_col23\" class=\"data row25 col23\" >0.250000</td>\n",
              "      <td id=\"T_a0b0c_row25_col24\" class=\"data row25 col24\" >0.390000</td>\n",
              "      <td id=\"T_a0b0c_row25_col25\" class=\"data row25 col25\" >1.000000</td>\n",
              "      <td id=\"T_a0b0c_row25_col26\" class=\"data row25 col26\" >-0.030000</td>\n",
              "      <td id=\"T_a0b0c_row25_col27\" class=\"data row25 col27\" >-0.020000</td>\n",
              "      <td id=\"T_a0b0c_row25_col28\" class=\"data row25 col28\" >-0.070000</td>\n",
              "      <td id=\"T_a0b0c_row25_col29\" class=\"data row25 col29\" >0.050000</td>\n",
              "    </tr>\n",
              "    <tr>\n",
              "      <th id=\"T_a0b0c_level0_row26\" class=\"row_heading level0 row26\" >Test_Score</th>\n",
              "      <td id=\"T_a0b0c_row26_col0\" class=\"data row26 col0\" >0.040000</td>\n",
              "      <td id=\"T_a0b0c_row26_col1\" class=\"data row26 col1\" >-0.060000</td>\n",
              "      <td id=\"T_a0b0c_row26_col2\" class=\"data row26 col2\" >-0.050000</td>\n",
              "      <td id=\"T_a0b0c_row26_col3\" class=\"data row26 col3\" >0.080000</td>\n",
              "      <td id=\"T_a0b0c_row26_col4\" class=\"data row26 col4\" >-0.090000</td>\n",
              "      <td id=\"T_a0b0c_row26_col5\" class=\"data row26 col5\" >-0.030000</td>\n",
              "      <td id=\"T_a0b0c_row26_col6\" class=\"data row26 col6\" >0.050000</td>\n",
              "      <td id=\"T_a0b0c_row26_col7\" class=\"data row26 col7\" >-0.020000</td>\n",
              "      <td id=\"T_a0b0c_row26_col8\" class=\"data row26 col8\" >0.020000</td>\n",
              "      <td id=\"T_a0b0c_row26_col9\" class=\"data row26 col9\" >0.050000</td>\n",
              "      <td id=\"T_a0b0c_row26_col10\" class=\"data row26 col10\" >-0.010000</td>\n",
              "      <td id=\"T_a0b0c_row26_col11\" class=\"data row26 col11\" >-0.070000</td>\n",
              "      <td id=\"T_a0b0c_row26_col12\" class=\"data row26 col12\" >-0.020000</td>\n",
              "      <td id=\"T_a0b0c_row26_col13\" class=\"data row26 col13\" >-0.050000</td>\n",
              "      <td id=\"T_a0b0c_row26_col14\" class=\"data row26 col14\" >0.010000</td>\n",
              "      <td id=\"T_a0b0c_row26_col15\" class=\"data row26 col15\" >-0.020000</td>\n",
              "      <td id=\"T_a0b0c_row26_col16\" class=\"data row26 col16\" >-0.060000</td>\n",
              "      <td id=\"T_a0b0c_row26_col17\" class=\"data row26 col17\" >0.090000</td>\n",
              "      <td id=\"T_a0b0c_row26_col18\" class=\"data row26 col18\" >-0.030000</td>\n",
              "      <td id=\"T_a0b0c_row26_col19\" class=\"data row26 col19\" >-0.090000</td>\n",
              "      <td id=\"T_a0b0c_row26_col20\" class=\"data row26 col20\" >0.140000</td>\n",
              "      <td id=\"T_a0b0c_row26_col21\" class=\"data row26 col21\" >0.100000</td>\n",
              "      <td id=\"T_a0b0c_row26_col22\" class=\"data row26 col22\" >0.050000</td>\n",
              "      <td id=\"T_a0b0c_row26_col23\" class=\"data row26 col23\" >0.120000</td>\n",
              "      <td id=\"T_a0b0c_row26_col24\" class=\"data row26 col24\" >-0.010000</td>\n",
              "      <td id=\"T_a0b0c_row26_col25\" class=\"data row26 col25\" >-0.030000</td>\n",
              "      <td id=\"T_a0b0c_row26_col26\" class=\"data row26 col26\" >1.000000</td>\n",
              "      <td id=\"T_a0b0c_row26_col27\" class=\"data row26 col27\" >0.090000</td>\n",
              "      <td id=\"T_a0b0c_row26_col28\" class=\"data row26 col28\" >0.050000</td>\n",
              "      <td id=\"T_a0b0c_row26_col29\" class=\"data row26 col29\" >0.010000</td>\n",
              "    </tr>\n",
              "    <tr>\n",
              "      <th id=\"T_a0b0c_level0_row27\" class=\"row_heading level0 row27\" >Top_1</th>\n",
              "      <td id=\"T_a0b0c_row27_col0\" class=\"data row27 col0\" >0.080000</td>\n",
              "      <td id=\"T_a0b0c_row27_col1\" class=\"data row27 col1\" >0.010000</td>\n",
              "      <td id=\"T_a0b0c_row27_col2\" class=\"data row27 col2\" >0.150000</td>\n",
              "      <td id=\"T_a0b0c_row27_col3\" class=\"data row27 col3\" >-0.030000</td>\n",
              "      <td id=\"T_a0b0c_row27_col4\" class=\"data row27 col4\" >-0.040000</td>\n",
              "      <td id=\"T_a0b0c_row27_col5\" class=\"data row27 col5\" >0.000000</td>\n",
              "      <td id=\"T_a0b0c_row27_col6\" class=\"data row27 col6\" >-0.250000</td>\n",
              "      <td id=\"T_a0b0c_row27_col7\" class=\"data row27 col7\" >-0.350000</td>\n",
              "      <td id=\"T_a0b0c_row27_col8\" class=\"data row27 col8\" >-0.410000</td>\n",
              "      <td id=\"T_a0b0c_row27_col9\" class=\"data row27 col9\" >-0.300000</td>\n",
              "      <td id=\"T_a0b0c_row27_col10\" class=\"data row27 col10\" >-0.230000</td>\n",
              "      <td id=\"T_a0b0c_row27_col11\" class=\"data row27 col11\" >-0.140000</td>\n",
              "      <td id=\"T_a0b0c_row27_col12\" class=\"data row27 col12\" >-0.080000</td>\n",
              "      <td id=\"T_a0b0c_row27_col13\" class=\"data row27 col13\" >-0.070000</td>\n",
              "      <td id=\"T_a0b0c_row27_col14\" class=\"data row27 col14\" >-0.100000</td>\n",
              "      <td id=\"T_a0b0c_row27_col15\" class=\"data row27 col15\" >-0.100000</td>\n",
              "      <td id=\"T_a0b0c_row27_col16\" class=\"data row27 col16\" >-0.080000</td>\n",
              "      <td id=\"T_a0b0c_row27_col17\" class=\"data row27 col17\" >-0.200000</td>\n",
              "      <td id=\"T_a0b0c_row27_col18\" class=\"data row27 col18\" >-0.110000</td>\n",
              "      <td id=\"T_a0b0c_row27_col19\" class=\"data row27 col19\" >0.120000</td>\n",
              "      <td id=\"T_a0b0c_row27_col20\" class=\"data row27 col20\" >-0.040000</td>\n",
              "      <td id=\"T_a0b0c_row27_col21\" class=\"data row27 col21\" >-0.040000</td>\n",
              "      <td id=\"T_a0b0c_row27_col22\" class=\"data row27 col22\" >-0.020000</td>\n",
              "      <td id=\"T_a0b0c_row27_col23\" class=\"data row27 col23\" >0.130000</td>\n",
              "      <td id=\"T_a0b0c_row27_col24\" class=\"data row27 col24\" >-0.230000</td>\n",
              "      <td id=\"T_a0b0c_row27_col25\" class=\"data row27 col25\" >-0.020000</td>\n",
              "      <td id=\"T_a0b0c_row27_col26\" class=\"data row27 col26\" >0.090000</td>\n",
              "      <td id=\"T_a0b0c_row27_col27\" class=\"data row27 col27\" >1.000000</td>\n",
              "      <td id=\"T_a0b0c_row27_col28\" class=\"data row27 col28\" >0.210000</td>\n",
              "      <td id=\"T_a0b0c_row27_col29\" class=\"data row27 col29\" >-0.050000</td>\n",
              "    </tr>\n",
              "    <tr>\n",
              "      <th id=\"T_a0b0c_level0_row28\" class=\"row_heading level0 row28\" >Top_2</th>\n",
              "      <td id=\"T_a0b0c_row28_col0\" class=\"data row28 col0\" >0.030000</td>\n",
              "      <td id=\"T_a0b0c_row28_col1\" class=\"data row28 col1\" >0.060000</td>\n",
              "      <td id=\"T_a0b0c_row28_col2\" class=\"data row28 col2\" >-0.210000</td>\n",
              "      <td id=\"T_a0b0c_row28_col3\" class=\"data row28 col3\" >-0.060000</td>\n",
              "      <td id=\"T_a0b0c_row28_col4\" class=\"data row28 col4\" >-0.140000</td>\n",
              "      <td id=\"T_a0b0c_row28_col5\" class=\"data row28 col5\" >-0.010000</td>\n",
              "      <td id=\"T_a0b0c_row28_col6\" class=\"data row28 col6\" >-0.220000</td>\n",
              "      <td id=\"T_a0b0c_row28_col7\" class=\"data row28 col7\" >-0.310000</td>\n",
              "      <td id=\"T_a0b0c_row28_col8\" class=\"data row28 col8\" >-0.350000</td>\n",
              "      <td id=\"T_a0b0c_row28_col9\" class=\"data row28 col9\" >-0.270000</td>\n",
              "      <td id=\"T_a0b0c_row28_col10\" class=\"data row28 col10\" >-0.180000</td>\n",
              "      <td id=\"T_a0b0c_row28_col11\" class=\"data row28 col11\" >-0.270000</td>\n",
              "      <td id=\"T_a0b0c_row28_col12\" class=\"data row28 col12\" >-0.130000</td>\n",
              "      <td id=\"T_a0b0c_row28_col13\" class=\"data row28 col13\" >-0.180000</td>\n",
              "      <td id=\"T_a0b0c_row28_col14\" class=\"data row28 col14\" >-0.200000</td>\n",
              "      <td id=\"T_a0b0c_row28_col15\" class=\"data row28 col15\" >-0.130000</td>\n",
              "      <td id=\"T_a0b0c_row28_col16\" class=\"data row28 col16\" >-0.050000</td>\n",
              "      <td id=\"T_a0b0c_row28_col17\" class=\"data row28 col17\" >-0.040000</td>\n",
              "      <td id=\"T_a0b0c_row28_col18\" class=\"data row28 col18\" >-0.200000</td>\n",
              "      <td id=\"T_a0b0c_row28_col19\" class=\"data row28 col19\" >0.010000</td>\n",
              "      <td id=\"T_a0b0c_row28_col20\" class=\"data row28 col20\" >0.050000</td>\n",
              "      <td id=\"T_a0b0c_row28_col21\" class=\"data row28 col21\" >0.020000</td>\n",
              "      <td id=\"T_a0b0c_row28_col22\" class=\"data row28 col22\" >0.150000</td>\n",
              "      <td id=\"T_a0b0c_row28_col23\" class=\"data row28 col23\" >0.120000</td>\n",
              "      <td id=\"T_a0b0c_row28_col24\" class=\"data row28 col24\" >-0.180000</td>\n",
              "      <td id=\"T_a0b0c_row28_col25\" class=\"data row28 col25\" >-0.070000</td>\n",
              "      <td id=\"T_a0b0c_row28_col26\" class=\"data row28 col26\" >0.050000</td>\n",
              "      <td id=\"T_a0b0c_row28_col27\" class=\"data row28 col27\" >0.210000</td>\n",
              "      <td id=\"T_a0b0c_row28_col28\" class=\"data row28 col28\" >1.000000</td>\n",
              "      <td id=\"T_a0b0c_row28_col29\" class=\"data row28 col29\" >0.040000</td>\n",
              "    </tr>\n",
              "    <tr>\n",
              "      <th id=\"T_a0b0c_level0_row29\" class=\"row_heading level0 row29\" >Top_3</th>\n",
              "      <td id=\"T_a0b0c_row29_col0\" class=\"data row29 col0\" >-0.150000</td>\n",
              "      <td id=\"T_a0b0c_row29_col1\" class=\"data row29 col1\" >0.040000</td>\n",
              "      <td id=\"T_a0b0c_row29_col2\" class=\"data row29 col2\" >-0.100000</td>\n",
              "      <td id=\"T_a0b0c_row29_col3\" class=\"data row29 col3\" >0.000000</td>\n",
              "      <td id=\"T_a0b0c_row29_col4\" class=\"data row29 col4\" >-0.070000</td>\n",
              "      <td id=\"T_a0b0c_row29_col5\" class=\"data row29 col5\" >0.080000</td>\n",
              "      <td id=\"T_a0b0c_row29_col6\" class=\"data row29 col6\" >-0.010000</td>\n",
              "      <td id=\"T_a0b0c_row29_col7\" class=\"data row29 col7\" >-0.280000</td>\n",
              "      <td id=\"T_a0b0c_row29_col8\" class=\"data row29 col8\" >-0.190000</td>\n",
              "      <td id=\"T_a0b0c_row29_col9\" class=\"data row29 col9\" >-0.290000</td>\n",
              "      <td id=\"T_a0b0c_row29_col10\" class=\"data row29 col10\" >0.010000</td>\n",
              "      <td id=\"T_a0b0c_row29_col11\" class=\"data row29 col11\" >-0.130000</td>\n",
              "      <td id=\"T_a0b0c_row29_col12\" class=\"data row29 col12\" >0.060000</td>\n",
              "      <td id=\"T_a0b0c_row29_col13\" class=\"data row29 col13\" >0.100000</td>\n",
              "      <td id=\"T_a0b0c_row29_col14\" class=\"data row29 col14\" >0.080000</td>\n",
              "      <td id=\"T_a0b0c_row29_col15\" class=\"data row29 col15\" >0.050000</td>\n",
              "      <td id=\"T_a0b0c_row29_col16\" class=\"data row29 col16\" >-0.090000</td>\n",
              "      <td id=\"T_a0b0c_row29_col17\" class=\"data row29 col17\" >-0.070000</td>\n",
              "      <td id=\"T_a0b0c_row29_col18\" class=\"data row29 col18\" >0.010000</td>\n",
              "      <td id=\"T_a0b0c_row29_col19\" class=\"data row29 col19\" >0.060000</td>\n",
              "      <td id=\"T_a0b0c_row29_col20\" class=\"data row29 col20\" >0.120000</td>\n",
              "      <td id=\"T_a0b0c_row29_col21\" class=\"data row29 col21\" >0.070000</td>\n",
              "      <td id=\"T_a0b0c_row29_col22\" class=\"data row29 col22\" >-0.020000</td>\n",
              "      <td id=\"T_a0b0c_row29_col23\" class=\"data row29 col23\" >-0.170000</td>\n",
              "      <td id=\"T_a0b0c_row29_col24\" class=\"data row29 col24\" >0.150000</td>\n",
              "      <td id=\"T_a0b0c_row29_col25\" class=\"data row29 col25\" >0.050000</td>\n",
              "      <td id=\"T_a0b0c_row29_col26\" class=\"data row29 col26\" >0.010000</td>\n",
              "      <td id=\"T_a0b0c_row29_col27\" class=\"data row29 col27\" >-0.050000</td>\n",
              "      <td id=\"T_a0b0c_row29_col28\" class=\"data row29 col28\" >0.040000</td>\n",
              "      <td id=\"T_a0b0c_row29_col29\" class=\"data row29 col29\" >1.000000</td>\n",
              "    </tr>\n",
              "  </tbody>\n",
              "</table>\n"
            ],
            "text/plain": [
              "<pandas.io.formats.style.Styler at 0x1f9024a62c0>"
            ]
          },
          "execution_count": 15,
          "metadata": {},
          "output_type": "execute_result"
        }
      ],
      "source": [
        "corr = data.corr().round(2)\n",
        "corr.style.background_gradient(cmap='Pastel1')"
      ]
    },
    {
      "cell_type": "code",
      "execution_count": 16,
      "metadata": {
        "colab": {
          "base_uri": "https://localhost:8080/"
        },
        "id": "X-CTCyOqjB1Y",
        "outputId": "4d53f04d-367e-4bde-f736-3e1059e8e3a3"
      },
      "outputs": [
        {
          "data": {
            "text/plain": [
              "Test_Score\n",
              "2    31\n",
              "1    26\n",
              "3    25\n",
              "0    19\n",
              "dtype: int64"
            ]
          },
          "execution_count": 16,
          "metadata": {},
          "output_type": "execute_result"
        }
      ],
      "source": [
        "data.value_counts('Test_Score')\n"
      ]
    },
    {
      "cell_type": "code",
      "execution_count": 17,
      "metadata": {
        "colab": {
          "base_uri": "https://localhost:8080/"
        },
        "id": "yz2Ua1NtjB1Y",
        "outputId": "03ee8d59-2e95-4f40-e36a-42339a133c79"
      },
      "outputs": [
        {
          "data": {
            "text/plain": [
              "Age\n",
              "21    51\n",
              "20    12\n",
              "19    10\n",
              "22     8\n",
              "23     5\n",
              "18     3\n",
              "24     3\n",
              "15     1\n",
              "25     1\n",
              "26     1\n",
              "27     1\n",
              "37     1\n",
              "38     1\n",
              "46     1\n",
              "52     1\n",
              "57     1\n",
              "dtype: int64"
            ]
          },
          "execution_count": 17,
          "metadata": {},
          "output_type": "execute_result"
        }
      ],
      "source": [
        "data.value_counts('Age')\n"
      ]
    },
    {
      "cell_type": "code",
      "execution_count": 18,
      "metadata": {
        "colab": {
          "base_uri": "https://localhost:8080/",
          "height": 299
        },
        "id": "Rp-v8mLWjB1Y",
        "outputId": "462f01f3-ce6e-4c8a-b330-11655b3a11ff"
      },
      "outputs": [
        {
          "data": {
            "text/plain": [
              "<AxesSubplot:xlabel='Gender', ylabel='Count'>"
            ]
          },
          "execution_count": 18,
          "metadata": {},
          "output_type": "execute_result"
        },
        {
          "data": {
            "image/png": "[encoded data removed]",
            "text/plain": [
              "<Figure size 432x288 with 1 Axes>"
            ]
          },
          "metadata": {
            "needs_background": "light"
          },
          "output_type": "display_data"
        }
      ],
      "source": [
        "sns.histplot(x='Gender', hue='Gender', data=data)\n"
      ]
    },
    {
      "cell_type": "code",
      "execution_count": 19,
      "metadata": {
        "colab": {
          "base_uri": "https://localhost:8080/",
          "height": 297
        },
        "id": "HJV-7YZNjB1Y",
        "outputId": "b9be8dcd-5dc3-4b23-918f-88d980d3844b"
      },
      "outputs": [
        {
          "data": {
            "text/plain": [
              "<AxesSubplot:xlabel='Test_Score', ylabel='Count'>"
            ]
          },
          "execution_count": 19,
          "metadata": {},
          "output_type": "execute_result"
        },
        {
          "data": {
            "image/png": "[encoded data removed]",
            "text/plain": [
              "<Figure size 432x288 with 1 Axes>"
            ]
          },
          "metadata": {
            "needs_background": "light"
          },
          "output_type": "display_data"
        }
      ],
      "source": [
        "sns.histplot(x='Test_Score', hue='Test_Score', data=data)\n"
      ]
    },
    {
      "cell_type": "code",
      "execution_count": 20,
      "metadata": {
        "colab": {
          "base_uri": "https://localhost:8080/",
          "height": 296
        },
        "id": "xnzYEbQJjB1Z",
        "outputId": "9f14d561-20a1-4373-ed2a-713a44a7872d"
      },
      "outputs": [
        {
          "data": {
            "text/plain": [
              "<AxesSubplot:xlabel='Age', ylabel='Count'>"
            ]
          },
          "execution_count": 20,
          "metadata": {},
          "output_type": "execute_result"
        },
        {
          "data": {
            "image/png": "[encoded data removed]",
            "text/plain": [
              "<Figure size 432x288 with 1 Axes>"
            ]
          },
          "metadata": {
            "needs_background": "light"
          },
          "output_type": "display_data"
        }
      ],
      "source": [
        "\n",
        "sns.histplot(x='Age', hue='Test_Score', data=data)\n"
      ]
    },
    {
      "cell_type": "code",
      "execution_count": 21,
      "metadata": {
        "colab": {
          "base_uri": "https://localhost:8080/",
          "height": 265
        },
        "id": "EIZ5f1yIDRYO",
        "outputId": "606393b5-fba4-49aa-ed21-d604d8ada797"
      },
      "outputs": [
        {
          "data": {
            "image/png": "[encoded data removed]",
            "text/plain": [
              "<Figure size 432x288 with 1 Axes>"
            ]
          },
          "metadata": {
            "needs_background": "light"
          },
          "output_type": "display_data"
        }
      ],
      "source": [
        "\n",
        "\n",
        "plt.scatter(data.Interface_1, data.Interface_3)\n",
        "plt.show()"
      ]
    },
    {
      "cell_type": "code",
      "execution_count": 22,
      "metadata": {
        "colab": {
          "base_uri": "https://localhost:8080/",
          "height": 265
        },
        "id": "9A38u1MaDdle",
        "outputId": "7029eae3-b383-42f8-8ece-133e36463df9"
      },
      "outputs": [
        {
          "data": {
            "image/png": "[encoded data removed]",
            "text/plain": [
              "<Figure size 432x288 with 1 Axes>"
            ]
          },
          "metadata": {
            "needs_background": "light"
          },
          "output_type": "display_data"
        }
      ],
      "source": [
        "\n",
        "plt.scatter(data.Interface_4, data.Extra_interface_1)\n",
        "plt.show()"
      ]
    },
    {
      "cell_type": "markdown",
      "metadata": {
        "id": "Q2PRtHRP6ew5"
      },
      "source": [
        "Green"
      ]
    },
    {
      "cell_type": "code",
      "execution_count": 23,
      "metadata": {
        "colab": {
          "base_uri": "https://localhost:8080/"
        },
        "id": "KaoG9FF3cYnd",
        "outputId": "dabe7c6f-4d8d-44d7-f5d2-2e742b18e1c5"
      },
      "outputs": [
        {
          "name": "stderr",
          "output_type": "stream",
          "text": [
            "C:\\Users\\HP\\AppData\\Local\\Temp\\ipykernel_12876\\1378091649.py:1: FutureWarning: Dropping of nuisance columns in DataFrame reductions (with 'numeric_only=None') is deprecated; in a future version this will raise TypeError.  Select only valid columns before calling the reduction.\n",
            "  data[data[\"Test_Score\"] == 0].mean()\n"
          ]
        },
        {
          "data": {
            "text/plain": [
              "Id                   50.894737\n",
              "Age                  21.052632\n",
              "Openness              4.000000\n",
              "Extraversion          2.605263\n",
              "Agreeableness         3.421053\n",
              "Conscientiousness     3.026316\n",
              "Neuroticism           3.105263\n",
              "Interface_1           6.868421\n",
              "Interface_2           6.168421\n",
              "Interface_3           5.757895\n",
              "Interface_4           6.094737\n",
              "Interface_5           6.736842\n",
              "Interface_6           5.784211\n",
              "Interface_7           7.105263\n",
              "Interface_8           5.310526\n",
              "Interface_9           5.421053\n",
              "Interface_10          8.868421\n",
              "Interface_11          6.605263\n",
              "Interface_12          5.405263\n",
              "Interface_13          7.463158\n",
              "Interface_14          5.736842\n",
              "Interface_15          5.789474\n",
              "Interface_16          6.500000\n",
              "Interface_17          7.594737\n",
              "Extra_interface_1     5.747480\n",
              "Extra_interface_2     6.466405\n",
              "Test_Score            0.000000\n",
              "Top_1                 7.947368\n",
              "Top_2                 9.578947\n",
              "Top_3                 9.894737\n",
              "dtype: float64"
            ]
          },
          "execution_count": 23,
          "metadata": {},
          "output_type": "execute_result"
        }
      ],
      "source": [
        "data[data[\"Test_Score\"] == 0].mean()"
      ]
    },
    {
      "cell_type": "markdown",
      "metadata": {
        "id": "G7BjdnwA6gmX"
      },
      "source": [
        "Blue"
      ]
    },
    {
      "cell_type": "code",
      "execution_count": 24,
      "metadata": {
        "colab": {
          "base_uri": "https://localhost:8080/"
        },
        "id": "nZnX1qqVcYeb",
        "outputId": "3366611e-02b9-4e39-a539-9b107b769eb8"
      },
      "outputs": [
        {
          "name": "stderr",
          "output_type": "stream",
          "text": [
            "C:\\Users\\HP\\AppData\\Local\\Temp\\ipykernel_12876\\3555718546.py:1: FutureWarning: Dropping of nuisance columns in DataFrame reductions (with 'numeric_only=None') is deprecated; in a future version this will raise TypeError.  Select only valid columns before calling the reduction.\n",
            "  data[data[\"Test_Score\"] == 1].mean()\n"
          ]
        },
        {
          "data": {
            "text/plain": [
              "Id                   46.615385\n",
              "Age                  24.230769\n",
              "Openness              4.096154\n",
              "Extraversion          3.692308\n",
              "Agreeableness         3.769231\n",
              "Conscientiousness     2.423077\n",
              "Neuroticism           3.384615\n",
              "Interface_1           7.019231\n",
              "Interface_2           5.865385\n",
              "Interface_3           6.134615\n",
              "Interface_4           6.269231\n",
              "Interface_5           7.057692\n",
              "Interface_6           5.653846\n",
              "Interface_7           7.096154\n",
              "Interface_8           4.288462\n",
              "Interface_9           4.038462\n",
              "Interface_10          8.115385\n",
              "Interface_11          7.076923\n",
              "Interface_12          6.250000\n",
              "Interface_13          7.615385\n",
              "Interface_14          6.500000\n",
              "Interface_15          6.634615\n",
              "Interface_16          7.384615\n",
              "Interface_17          7.961538\n",
              "Extra_interface_1     6.180933\n",
              "Extra_interface_2     5.897054\n",
              "Test_Score            1.000000\n",
              "Top_1                10.269231\n",
              "Top_2                11.038462\n",
              "Top_3                10.730769\n",
              "dtype: float64"
            ]
          },
          "execution_count": 24,
          "metadata": {},
          "output_type": "execute_result"
        }
      ],
      "source": [
        "data[data[\"Test_Score\"] == 1].mean()"
      ]
    },
    {
      "cell_type": "markdown",
      "metadata": {
        "id": "vs8nJ89j6jAV"
      },
      "source": [
        "Gold"
      ]
    },
    {
      "cell_type": "code",
      "execution_count": 25,
      "metadata": {
        "colab": {
          "base_uri": "https://localhost:8080/"
        },
        "id": "BxJSTFCJcecj",
        "outputId": "95ba8596-3ee5-4532-bc73-cec303186785"
      },
      "outputs": [
        {
          "name": "stderr",
          "output_type": "stream",
          "text": [
            "C:\\Users\\HP\\AppData\\Local\\Temp\\ipykernel_12876\\3326052888.py:1: FutureWarning: Dropping of nuisance columns in DataFrame reductions (with 'numeric_only=None') is deprecated; in a future version this will raise TypeError.  Select only valid columns before calling the reduction.\n",
            "  data[data[\"Test_Score\"] == 2].mean()\n"
          ]
        },
        {
          "data": {
            "text/plain": [
              "Id                   54.516129\n",
              "Age                  22.096774\n",
              "Openness              4.080645\n",
              "Extraversion          3.516129\n",
              "Agreeableness         3.564516\n",
              "Conscientiousness     2.467742\n",
              "Neuroticism           3.548387\n",
              "Interface_1           6.725806\n",
              "Interface_2           6.064516\n",
              "Interface_3           6.112903\n",
              "Interface_4           6.725806\n",
              "Interface_5           6.532258\n",
              "Interface_6           5.354839\n",
              "Interface_7           7.161290\n",
              "Interface_8           4.564516\n",
              "Interface_9           4.596774\n",
              "Interface_10          8.661290\n",
              "Interface_11          6.654839\n",
              "Interface_12          6.096774\n",
              "Interface_13          7.603226\n",
              "Interface_14          6.854839\n",
              "Interface_15          6.774194\n",
              "Interface_16          7.516129\n",
              "Interface_17          8.000000\n",
              "Extra_interface_1     6.684008\n",
              "Extra_interface_2     6.268497\n",
              "Test_Score            2.000000\n",
              "Top_1                 9.903226\n",
              "Top_2                11.806452\n",
              "Top_3                10.774194\n",
              "dtype: float64"
            ]
          },
          "execution_count": 25,
          "metadata": {},
          "output_type": "execute_result"
        }
      ],
      "source": [
        "data[data[\"Test_Score\"] == 2].mean()"
      ]
    },
    {
      "cell_type": "markdown",
      "metadata": {
        "id": "ISRXQbkF6lzy"
      },
      "source": [
        "Orange"
      ]
    },
    {
      "cell_type": "code",
      "execution_count": 26,
      "metadata": {
        "colab": {
          "base_uri": "https://localhost:8080/"
        },
        "id": "rzhuCR0BceY9",
        "outputId": "a5638c28-809e-42be-b530-18409d6fd233"
      },
      "outputs": [
        {
          "name": "stderr",
          "output_type": "stream",
          "text": [
            "C:\\Users\\HP\\AppData\\Local\\Temp\\ipykernel_12876\\2886798128.py:1: FutureWarning: Dropping of nuisance columns in DataFrame reductions (with 'numeric_only=None') is deprecated; in a future version this will raise TypeError.  Select only valid columns before calling the reduction.\n",
            "  data[data[\"Test_Score\"] == 3].mean()\n"
          ]
        },
        {
          "data": {
            "text/plain": [
              "Id                   51.360000\n",
              "Age                  21.040000\n",
              "Openness              3.880000\n",
              "Extraversion          3.100000\n",
              "Agreeableness         3.300000\n",
              "Conscientiousness     2.820000\n",
              "Neuroticism           3.260000\n",
              "Interface_1           6.900000\n",
              "Interface_2           6.180000\n",
              "Interface_3           6.080000\n",
              "Interface_4           5.880000\n",
              "Interface_5           6.600000\n",
              "Interface_6           5.760000\n",
              "Interface_7           6.820000\n",
              "Interface_8           5.140000\n",
              "Interface_9           4.900000\n",
              "Interface_10          8.300000\n",
              "Interface_11          7.340000\n",
              "Interface_12          5.400000\n",
              "Interface_13          6.940000\n",
              "Interface_14          6.700000\n",
              "Interface_15          6.520000\n",
              "Interface_16          6.820000\n",
              "Interface_17          8.260000\n",
              "Extra_interface_1     5.568170\n",
              "Extra_interface_2     6.072936\n",
              "Test_Score            3.000000\n",
              "Top_1                 9.640000\n",
              "Top_2                10.240000\n",
              "Top_3                10.120000\n",
              "dtype: float64"
            ]
          },
          "execution_count": 26,
          "metadata": {},
          "output_type": "execute_result"
        }
      ],
      "source": [
        "data[data[\"Test_Score\"] == 3].mean()"
      ]
    },
    {
      "cell_type": "code",
      "execution_count": 27,
      "metadata": {
        "colab": {
          "base_uri": "https://localhost:8080/",
          "height": 265
        },
        "id": "UXOqXV3vceNh",
        "outputId": "e2afdc59-1222-46fc-f76c-a55b2fe43c82"
      },
      "outputs": [
        {
          "data": {
            "image/png": "[encoded data removed]",
            "text/plain": [
              "<Figure size 432x288 with 1 Axes>"
            ]
          },
          "metadata": {
            "needs_background": "light"
          },
          "output_type": "display_data"
        }
      ],
      "source": [
        "data.Occupation.value_counts().plot.barh()\n",
        "plt.show()"
      ]
    },
    {
      "cell_type": "code",
      "execution_count": 28,
      "metadata": {
        "colab": {
          "base_uri": "https://localhost:8080/",
          "height": 265
        },
        "id": "xU49nCt4zfcm",
        "outputId": "86773ee5-893d-439d-e2c7-704d7bf7fb8a"
      },
      "outputs": [
        {
          "data": {
            "image/png": "[encoded data removed]",
            "text/plain": [
              "<Figure size 432x288 with 1 Axes>"
            ]
          },
          "metadata": {
            "needs_background": "light"
          },
          "output_type": "display_data"
        }
      ],
      "source": [
        "data.Field.value_counts(normalize= True).plot.barh()\n",
        "plt.show()"
      ]
    },
    {
      "cell_type": "markdown",
      "metadata": {
        "id": "9fSYitqG8AVp"
      },
      "source": [
        "Plot for all interfaces to see ratings vs  counts"
      ]
    },
    {
      "cell_type": "code",
      "execution_count": 29,
      "metadata": {
        "colab": {
          "base_uri": "https://localhost:8080/",
          "height": 265
        },
        "id": "f_DXNiiuzfZy",
        "outputId": "06652c85-8ad3-42ad-8a32-ddd8b8205f66"
      },
      "outputs": [
        {
          "data": {
            "image/png": "[encoded data removed]",
            "text/plain": [
              "<Figure size 432x288 with 1 Axes>"
            ]
          },
          "metadata": {
            "needs_background": "light"
          },
          "output_type": "display_data"
        }
      ],
      "source": [
        "data.Interface_1.value_counts().plot.barh()\n",
        "plt.show()"
      ]
    },
    {
      "cell_type": "code",
      "execution_count": 30,
      "metadata": {
        "colab": {
          "base_uri": "https://localhost:8080/",
          "height": 761
        },
        "id": "UYEHcybPzfVr",
        "outputId": "11cff8b5-6f3f-402e-8fab-3731e36ae124"
      },
      "outputs": [
        {
          "data": {
            "image/png": "[encoded data removed]",
            "text/plain": [
              "<Figure size 432x288 with 1 Axes>"
            ]
          },
          "metadata": {
            "needs_background": "light"
          },
          "output_type": "display_data"
        },
        {
          "data": {
            "image/png": "[encoded data removed]",
            "text/plain": [
              "<Figure size 432x288 with 1 Axes>"
            ]
          },
          "metadata": {
            "needs_background": "light"
          },
          "output_type": "display_data"
        },
        {
          "data": {
            "image/png": "[encoded data removed]",
            "text/plain": [
              "<Figure size 432x288 with 1 Axes>"
            ]
          },
          "metadata": {
            "needs_background": "light"
          },
          "output_type": "display_data"
        }
      ],
      "source": [
        "data.Interface_2.value_counts().plot.barh()\n",
        "plt.show()\n",
        "data.Interface_3.value_counts().plot.barh()\n",
        "plt.show()\n",
        "data.Interface_4.value_counts().plot.barh()\n",
        "plt.show()"
      ]
    },
    {
      "cell_type": "code",
      "execution_count": 31,
      "metadata": {
        "colab": {
          "base_uri": "https://localhost:8080/",
          "height": 1000
        },
        "id": "reDtpnke9lPx",
        "outputId": "8e6741e8-c4f9-4eb9-d4c6-4ba1e45b14f6"
      },
      "outputs": [
        {
          "data": {
            "image/png": "[encoded data removed]",
            "text/plain": [
              "<Figure size 432x288 with 1 Axes>"
            ]
          },
          "metadata": {
            "needs_background": "light"
          },
          "output_type": "display_data"
        },
        {
          "data": {
            "image/png": "[encoded data removed]",
            "text/plain": [
              "<Figure size 432x288 with 1 Axes>"
            ]
          },
          "metadata": {
            "needs_background": "light"
          },
          "output_type": "display_data"
        },
        {
          "data": {
            "image/png": "[encoded data removed]",
            "text/plain": [
              "<Figure size 432x288 with 1 Axes>"
            ]
          },
          "metadata": {
            "needs_background": "light"
          },
          "output_type": "display_data"
        },
        {
          "data": {
            "image/png": "[encoded data removed]",
            "text/plain": [
              "<Figure size 432x288 with 1 Axes>"
            ]
          },
          "metadata": {
            "needs_background": "light"
          },
          "output_type": "display_data"
        },
        {
          "data": {
            "image/png": "[encoded data removed]",
            "text/plain": [
              "<Figure size 432x288 with 1 Axes>"
            ]
          },
          "metadata": {
            "needs_background": "light"
          },
          "output_type": "display_data"
        }
      ],
      "source": [
        "data.Interface_5.value_counts().plot.barh()\n",
        "plt.show()\n",
        "data.Interface_6.value_counts().plot.barh()\n",
        "plt.show()\n",
        "data.Interface_7.value_counts().plot.barh()\n",
        "plt.show()\n",
        "data.Interface_8.value_counts().plot.barh()\n",
        "plt.show()\n",
        "data.Interface_9.value_counts().plot.barh()\n",
        "plt.show()\n"
      ]
    },
    {
      "cell_type": "code",
      "execution_count": 32,
      "metadata": {
        "colab": {
          "base_uri": "https://localhost:8080/",
          "height": 1000
        },
        "id": "EVgG1Ums9lLO",
        "outputId": "1f240504-569d-485c-aa19-0c79aa3f0384"
      },
      "outputs": [
        {
          "data": {
            "image/png": "[encoded data removed]",
            "text/plain": [
              "<Figure size 432x288 with 1 Axes>"
            ]
          },
          "metadata": {
            "needs_background": "light"
          },
          "output_type": "display_data"
        },
        {
          "data": {
            "image/png": "[encoded data removed]",
            "text/plain": [
              "<Figure size 432x288 with 1 Axes>"
            ]
          },
          "metadata": {
            "needs_background": "light"
          },
          "output_type": "display_data"
        },
        {
          "data": {
            "image/png": "[encoded data removed]",
            "text/plain": [
              "<Figure size 432x288 with 1 Axes>"
            ]
          },
          "metadata": {
            "needs_background": "light"
          },
          "output_type": "display_data"
        },
        {
          "data": {
            "image/png": "[encoded data removed]",
            "text/plain": [
              "<Figure size 432x288 with 1 Axes>"
            ]
          },
          "metadata": {
            "needs_background": "light"
          },
          "output_type": "display_data"
        },
        {
          "data": {
            "image/png": "[encoded data removed]",
            "text/plain": [
              "<Figure size 432x288 with 1 Axes>"
            ]
          },
          "metadata": {
            "needs_background": "light"
          },
          "output_type": "display_data"
        }
      ],
      "source": [
        "data.Interface_10.value_counts().plot.barh()\n",
        "plt.show()\n",
        "data.Interface_11.value_counts().plot.barh()\n",
        "plt.show()\n",
        "data.Interface_12.value_counts().plot.barh()\n",
        "plt.show()\n",
        "data.Interface_13.value_counts().plot.barh()\n",
        "plt.show()\n",
        "data.Interface_14.value_counts().plot.barh()\n",
        "plt.show()\n"
      ]
    },
    {
      "cell_type": "code",
      "execution_count": 33,
      "metadata": {
        "colab": {
          "base_uri": "https://localhost:8080/",
          "height": 761
        },
        "id": "rUt4eAH49lGV",
        "outputId": "9f34baa4-d6e3-4e38-b241-60974916fbcd"
      },
      "outputs": [
        {
          "data": {
            "image/png": "[encoded data removed]",
            "text/plain": [
              "<Figure size 432x288 with 1 Axes>"
            ]
          },
          "metadata": {
            "needs_background": "light"
          },
          "output_type": "display_data"
        },
        {
          "data": {
            "image/png": "[encoded data removed]",
            "text/plain": [
              "<Figure size 432x288 with 1 Axes>"
            ]
          },
          "metadata": {
            "needs_background": "light"
          },
          "output_type": "display_data"
        },
        {
          "data": {
            "image/png": "[encoded data removed]",
            "text/plain": [
              "<Figure size 432x288 with 1 Axes>"
            ]
          },
          "metadata": {
            "needs_background": "light"
          },
          "output_type": "display_data"
        }
      ],
      "source": [
        "data.Interface_15.value_counts().plot.barh()\n",
        "plt.show()\n",
        "data.Interface_16.value_counts().plot.barh()\n",
        "plt.show()\n",
        "data.Interface_17.value_counts().plot.barh()\n",
        "plt.show()\n",
        "\n"
      ]
    },
    {
      "cell_type": "code",
      "execution_count": 34,
      "metadata": {
        "colab": {
          "base_uri": "https://localhost:8080/",
          "height": 513
        },
        "id": "a9vOPif--X6h",
        "outputId": "459a0497-0717-492e-d7e9-57c951fcc471"
      },
      "outputs": [
        {
          "data": {
            "image/png": "[encoded data removed]",
            "text/plain": [
              "<Figure size 432x288 with 1 Axes>"
            ]
          },
          "metadata": {
            "needs_background": "light"
          },
          "output_type": "display_data"
        },
        {
          "data": {
            "image/png": "[encoded data removed]",
            "text/plain": [
              "<Figure size 432x288 with 1 Axes>"
            ]
          },
          "metadata": {
            "needs_background": "light"
          },
          "output_type": "display_data"
        }
      ],
      "source": [
        "data.Extra_interface_1.value_counts().plot.barh()\n",
        "plt.show()\n",
        "data.Extra_interface_2.value_counts().plot.barh()\n",
        "plt.show()"
      ]
    },
    {
      "cell_type": "markdown",
      "metadata": {
        "id": "6cv3GB48-yxB"
      },
      "source": [
        "Top 3 ratings columns"
      ]
    },
    {
      "cell_type": "code",
      "execution_count": 35,
      "metadata": {
        "colab": {
          "base_uri": "https://localhost:8080/",
          "height": 265
        },
        "id": "cCO3B96D-yUO",
        "outputId": "fc11f27b-f31c-401d-ff35-84a096a47809"
      },
      "outputs": [
        {
          "data": {
            "image/png": "[encoded data removed]",
            "text/plain": [
              "<Figure size 432x288 with 1 Axes>"
            ]
          },
          "metadata": {
            "needs_background": "light"
          },
          "output_type": "display_data"
        }
      ],
      "source": [
        "data.Top_1.value_counts().plot.barh()\n",
        "plt.show()\n"
      ]
    },
    {
      "cell_type": "code",
      "execution_count": 36,
      "metadata": {
        "colab": {
          "base_uri": "https://localhost:8080/",
          "height": 265
        },
        "id": "zZ9Ih_pT-yQn",
        "outputId": "b81fb846-c9cd-4b3f-a88f-a683e3f3dfb0"
      },
      "outputs": [
        {
          "data": {
            "image/png": "[encoded data removed]",
            "text/plain": [
              "<Figure size 432x288 with 1 Axes>"
            ]
          },
          "metadata": {
            "needs_background": "light"
          },
          "output_type": "display_data"
        }
      ],
      "source": [
        "data.Top_2.value_counts().plot.barh()\n",
        "plt.show()"
      ]
    },
    {
      "cell_type": "code",
      "execution_count": 37,
      "metadata": {
        "colab": {
          "base_uri": "https://localhost:8080/",
          "height": 265
        },
        "id": "Vr2HPv71hAV-",
        "outputId": "5f7a4daf-719e-429d-9cbd-cd6b7bc0e2fb"
      },
      "outputs": [
        {
          "data": {
            "image/png": "[encoded data removed]",
            "text/plain": [
              "<Figure size 432x288 with 1 Axes>"
            ]
          },
          "metadata": {
            "needs_background": "light"
          },
          "output_type": "display_data"
        }
      ],
      "source": [
        "data.Top_3.value_counts().plot.barh()\n",
        "plt.show()"
      ]
    },
    {
      "cell_type": "code",
      "execution_count": 38,
      "metadata": {
        "colab": {
          "base_uri": "https://localhost:8080/",
          "height": 297
        },
        "id": "VDoDcf-6hSi4",
        "outputId": "3526c753-5573-4492-e9e6-e1949ddf9209"
      },
      "outputs": [
        {
          "data": {
            "text/plain": [
              "<AxesSubplot:xlabel='Interface_1', ylabel='Interface_3'>"
            ]
          },
          "execution_count": 38,
          "metadata": {},
          "output_type": "execute_result"
        },
        {
          "data": {
            "image/png": "[encoded data removed]",
            "text/plain": [
              "<Figure size 432x288 with 1 Axes>"
            ]
          },
          "metadata": {
            "needs_background": "light"
          },
          "output_type": "display_data"
        }
      ],
      "source": [
        "sns.lineplot(x = \"Interface_1\",y = \"Interface_3\",data = data,hue = \"Test_Score\",style = \"Test_Score\",markers=True)"
      ]
    },
    {
      "cell_type": "code",
      "execution_count": 39,
      "metadata": {
        "colab": {
          "base_uri": "https://localhost:8080/"
        },
        "id": "OcEEWWlKhSfr",
        "outputId": "35ef3f7a-4a16-4507-fc5d-23fc2b703620"
      },
      "outputs": [
        {
          "data": {
            "text/plain": [
              "Top_1\n",
              "1      8\n",
              "2      2\n",
              "3      3\n",
              "4      4\n",
              "5      4\n",
              "6      2\n",
              "7      8\n",
              "10    40\n",
              "11     2\n",
              "13    11\n",
              "14     2\n",
              "15     3\n",
              "16     3\n",
              "17     8\n",
              "19     1\n",
              "Name: Test_Score, dtype: int64"
            ]
          },
          "execution_count": 39,
          "metadata": {},
          "output_type": "execute_result"
        }
      ],
      "source": [
        "new = data.groupby(\"Top_1\")[\"Test_Score\"].count()\n",
        "new"
      ]
    },
    {
      "cell_type": "code",
      "execution_count": 40,
      "metadata": {
        "colab": {
          "base_uri": "https://localhost:8080/"
        },
        "id": "Pdn_UFxlhSc8",
        "outputId": "051ad66c-1925-4283-ea52-262d6bed92b4"
      },
      "outputs": [
        {
          "data": {
            "text/plain": [
              "Test_Score\n",
              "0    19\n",
              "1    26\n",
              "2    31\n",
              "3    25\n",
              "Name: Top_2, dtype: int64"
            ]
          },
          "execution_count": 40,
          "metadata": {},
          "output_type": "execute_result"
        }
      ],
      "source": [
        "new = data.groupby(\"Test_Score\")[\"Top_2\"].count()\n",
        "new"
      ]
    },
    {
      "cell_type": "code",
      "execution_count": 41,
      "metadata": {
        "colab": {
          "base_uri": "https://localhost:8080/"
        },
        "id": "WKUZ7zFxxmUm",
        "outputId": "9b85d679-a1e3-48e6-e3ae-f19efe25fa3a"
      },
      "outputs": [
        {
          "data": {
            "text/plain": [
              "0      2.0\n",
              "1      5.0\n",
              "2      4.0\n",
              "3      3.0\n",
              "4      2.0\n",
              "      ... \n",
              "96     4.0\n",
              "97     4.0\n",
              "98     3.0\n",
              "99     1.0\n",
              "100    1.0\n",
              "Name: Extraversion, Length: 101, dtype: float64"
            ]
          },
          "execution_count": 41,
          "metadata": {},
          "output_type": "execute_result"
        }
      ],
      "source": [
        "data['Extraversion']"
      ]
    },
    {
      "cell_type": "code",
      "execution_count": 42,
      "metadata": {
        "colab": {
          "base_uri": "https://localhost:8080/"
        },
        "id": "eQl6W1CvyEF5",
        "outputId": "3b317d23-c669-48c5-a063-d0f8964e95d3"
      },
      "outputs": [
        {
          "data": {
            "text/plain": [
              "29"
            ]
          },
          "execution_count": 42,
          "metadata": {},
          "output_type": "execute_result"
        }
      ],
      "source": [
        "introversion = data.loc[data.Extraversion < 3, 'Extraversion']\n",
        "introversion.count()\n"
      ]
    },
    {
      "cell_type": "code",
      "execution_count": 43,
      "metadata": {
        "colab": {
          "base_uri": "https://localhost:8080/"
        },
        "id": "O2mBYRbXhSXe",
        "outputId": "4ec6f9c6-582c-4929-9398-05ccca2a5b11"
      },
      "outputs": [
        {
          "data": {
            "text/plain": [
              "48"
            ]
          },
          "execution_count": 43,
          "metadata": {},
          "output_type": "execute_result"
        }
      ],
      "source": [
        "Extraversion_persons = data.loc[data.Extraversion > 3, 'Extraversion'] \n",
        "Extraversion_persons.count()\n"
      ]
    },
    {
      "cell_type": "code",
      "execution_count": null,
      "metadata": {
        "id": "zVrBBBHv63rO"
      },
      "outputs": [],
      "source": []
    }
  ],
  "metadata": {
    "colab": {
      "provenance": []
    },
    "kernelspec": {
      "display_name": "Python 3.10.4 64-bit",
      "language": "python",
      "name": "python3"
    },
    "language_info": {
      "codemirror_mode": {
        "name": "ipython",
        "version": 3
      },
      "file_extension": ".py",
      "mimetype": "text/x-python",
      "name": "python",
      "nbconvert_exporter": "python",
      "pygments_lexer": "ipython3",
      "version": "3.10.4"
    },
    "orig_nbformat": 4,
    "vscode": {
      "interpreter": {
        "hash": "a9cff5a362bc38ef45d817ae74b1af54d6a076e3d773891282bce078b815ba34"
      }
    }
  },
  "nbformat": 4,
  "nbformat_minor": 0
}
