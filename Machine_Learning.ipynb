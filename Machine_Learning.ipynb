{
  "cells": [
    {
      "cell_type": "markdown",
      "metadata": {
        "id": "WcflvPOOjB1T"
      },
      "source": [
        "## Implementation"
      ]
    },
    {
      "cell_type": "markdown",
      "metadata": {
        "id": "JiUh4au7jB1U"
      },
      "source": [
        "# Data Understanding"
      ]
    },
    {
      "cell_type": "markdown",
      "metadata": {
        "id": "_KMRbtcqjB1U"
      },
      "source": [
        "\n",
        "\n",
        "Import Libraries\n",
        " "
      ]
    },
    {
      "cell_type": "code",
      "execution_count": null,
      "metadata": {
        "id": "wljP7oLajB1U"
      },
      "outputs": [],
      "source": [
        "import numpy as np\n",
        "import pandas as pd\n",
        "import seaborn as sns\n",
        "import matplotlib.pyplot as plt\n",
        "import plotly.express as  px\n",
        "from sklearn.metrics import accuracy_score\n",
        "from sklearn.model_selection import train_test_split\n",
        "from sklearn.ensemble import RandomForestClassifier\n",
        "from sklearn.metrics import classification_report\n",
        "from sklearn.linear_model import LogisticRegression\n",
        "from sklearn.neighbors import KNeighborsClassifier\n",
        "from sklearn import svm\n",
        "from sklearn.preprocessing import StandardScaler\n",
        "from sklearn.neural_network import MLPClassifier\n",
        "from sklearn.tree import DecisionTreeClassifier\n"
      ]
    },
    {
      "cell_type": "markdown",
      "metadata": {
        "id": "ihK-LsjnjB1V"
      },
      "source": [
        "Reading data "
      ]
    },
    {
      "cell_type": "code",
      "execution_count": null,
      "metadata": {
        "colab": {
          "base_uri": "https://localhost:8080/",
          "height": 661
        },
        "id": "aILlvmKsjB1V",
        "outputId": "d841b767-3ba0-456b-d2dd-1296b82d80e3"
      },
      "outputs": [
        {
          "output_type": "execute_result",
          "data": {
            "text/plain": [
              "    Id             Name  Gender                  Field          Occupation  \\\n",
              "0    1    Nouran khaled  Female                     CS      Senior Student   \n",
              "1    2  Tasneem Mohamed  Female                     CS      Senior Student   \n",
              "2    3     Omaima Ahmed  Female                     CS      Senior Student   \n",
              "3    4     Maryam Walid  Female                     CS             Student   \n",
              "4    5      Yehia Sameh    Male                     CS             Student   \n",
              "..  ..              ...     ...                    ...                 ...   \n",
              "91  92   Yehia Abdallah    Male  Automatic Engineering      Senior Student   \n",
              "92  93   Yehia Abdallah    Male  Automatic Engineering      Senior Student   \n",
              "93  94   Khaled Khatteb    Male               Business  Software developer   \n",
              "94  95    Mohamed Elbaz    Male                     CS      Senior Student   \n",
              "95  96    Mohamed Elbaz    Male                     CS      Senior Student   \n",
              "\n",
              "    Age  Openness  Extraversion  Agreeableness  Conscientiousness  ...  \\\n",
              "0    21       3.0           2.0            4.0                5.0  ...   \n",
              "1    21       4.0           5.0            3.0                2.0  ...   \n",
              "2    23       5.0           4.0            3.0                3.0  ...   \n",
              "3    20       4.0           3.0            5.0                5.0  ...   \n",
              "4    19       4.0           2.0            3.0                5.0  ...   \n",
              "..  ...       ...           ...            ...                ...  ...   \n",
              "91   21       5.0           4.0            4.0                1.0  ...   \n",
              "92   21       5.0           4.0            4.0                1.0  ...   \n",
              "93   23       3.0           3.0            4.0                2.0  ...   \n",
              "94   21       3.0           1.0            3.0                1.0  ...   \n",
              "95   21       3.0           1.0            3.0                1.0  ...   \n",
              "\n",
              "    Interface_14  Interface_15  Interface_16  Interface_17  Extra_interface_1  \\\n",
              "0            7.0           7.0           7.0           6.0                7.0   \n",
              "1            8.0           8.0           7.0           8.0                6.0   \n",
              "2            5.0           7.0           7.0           9.0                6.0   \n",
              "3            7.0           7.0           8.0           7.5                6.5   \n",
              "4            6.0           7.0           6.0           8.0                NaN   \n",
              "..           ...           ...           ...           ...                ...   \n",
              "91           2.0           1.0           7.0           6.0                8.0   \n",
              "92           2.0           1.0           7.0           6.0                8.0   \n",
              "93           7.0           6.0           8.0           9.0                6.0   \n",
              "94           5.0           6.0           5.0           8.0                4.0   \n",
              "95           5.0           6.0           5.0           8.0                4.0   \n",
              "\n",
              "    Extra_interface_2  Test_Score  Top_1  Top_2  Top_3  \n",
              "0                 5.0       Green     10      7     13  \n",
              "1                 9.0        Blue      6      7     13  \n",
              "2                 7.0       Green      1      5      7  \n",
              "3                 9.0        Blue     19     16     13  \n",
              "4                 NaN       Green      7      9     13  \n",
              "..                ...         ...    ...    ...    ...  \n",
              "91                7.0        Gold     10      4      7  \n",
              "92                7.0       Green     10      4      7  \n",
              "93                7.0        Gold     10     17      5  \n",
              "94                4.0        Gold     10     17      7  \n",
              "95                4.0       Green     10     17      7  \n",
              "\n",
              "[96 rows x 34 columns]"
            ],
            "text/html": [
              "\n",
              "  <div id=\"df-bc2f15a0-0b11-4b2c-ae9a-e36206f6af45\">\n",
              "    <div class=\"colab-df-container\">\n",
              "      <div>\n",
              "<style scoped>\n",
              "    .dataframe tbody tr th:only-of-type {\n",
              "        vertical-align: middle;\n",
              "    }\n",
              "\n",
              "    .dataframe tbody tr th {\n",
              "        vertical-align: top;\n",
              "    }\n",
              "\n",
              "    .dataframe thead th {\n",
              "        text-align: right;\n",
              "    }\n",
              "</style>\n",
              "<table border=\"1\" class=\"dataframe\">\n",
              "  <thead>\n",
              "    <tr style=\"text-align: right;\">\n",
              "      <th></th>\n",
              "      <th>Id</th>\n",
              "      <th>Name</th>\n",
              "      <th>Gender</th>\n",
              "      <th>Field</th>\n",
              "      <th>Occupation</th>\n",
              "      <th>Age</th>\n",
              "      <th>Openness</th>\n",
              "      <th>Extraversion</th>\n",
              "      <th>Agreeableness</th>\n",
              "      <th>Conscientiousness</th>\n",
              "      <th>...</th>\n",
              "      <th>Interface_14</th>\n",
              "      <th>Interface_15</th>\n",
              "      <th>Interface_16</th>\n",
              "      <th>Interface_17</th>\n",
              "      <th>Extra_interface_1</th>\n",
              "      <th>Extra_interface_2</th>\n",
              "      <th>Test_Score</th>\n",
              "      <th>Top_1</th>\n",
              "      <th>Top_2</th>\n",
              "      <th>Top_3</th>\n",
              "    </tr>\n",
              "  </thead>\n",
              "  <tbody>\n",
              "    <tr>\n",
              "      <th>0</th>\n",
              "      <td>1</td>\n",
              "      <td>Nouran khaled</td>\n",
              "      <td>Female</td>\n",
              "      <td>CS</td>\n",
              "      <td>Senior Student</td>\n",
              "      <td>21</td>\n",
              "      <td>3.0</td>\n",
              "      <td>2.0</td>\n",
              "      <td>4.0</td>\n",
              "      <td>5.0</td>\n",
              "      <td>...</td>\n",
              "      <td>7.0</td>\n",
              "      <td>7.0</td>\n",
              "      <td>7.0</td>\n",
              "      <td>6.0</td>\n",
              "      <td>7.0</td>\n",
              "      <td>5.0</td>\n",
              "      <td>Green</td>\n",
              "      <td>10</td>\n",
              "      <td>7</td>\n",
              "      <td>13</td>\n",
              "    </tr>\n",
              "    <tr>\n",
              "      <th>1</th>\n",
              "      <td>2</td>\n",
              "      <td>Tasneem Mohamed</td>\n",
              "      <td>Female</td>\n",
              "      <td>CS</td>\n",
              "      <td>Senior Student</td>\n",
              "      <td>21</td>\n",
              "      <td>4.0</td>\n",
              "      <td>5.0</td>\n",
              "      <td>3.0</td>\n",
              "      <td>2.0</td>\n",
              "      <td>...</td>\n",
              "      <td>8.0</td>\n",
              "      <td>8.0</td>\n",
              "      <td>7.0</td>\n",
              "      <td>8.0</td>\n",
              "      <td>6.0</td>\n",
              "      <td>9.0</td>\n",
              "      <td>Blue</td>\n",
              "      <td>6</td>\n",
              "      <td>7</td>\n",
              "      <td>13</td>\n",
              "    </tr>\n",
              "    <tr>\n",
              "      <th>2</th>\n",
              "      <td>3</td>\n",
              "      <td>Omaima Ahmed</td>\n",
              "      <td>Female</td>\n",
              "      <td>CS</td>\n",
              "      <td>Senior Student</td>\n",
              "      <td>23</td>\n",
              "      <td>5.0</td>\n",
              "      <td>4.0</td>\n",
              "      <td>3.0</td>\n",
              "      <td>3.0</td>\n",
              "      <td>...</td>\n",
              "      <td>5.0</td>\n",
              "      <td>7.0</td>\n",
              "      <td>7.0</td>\n",
              "      <td>9.0</td>\n",
              "      <td>6.0</td>\n",
              "      <td>7.0</td>\n",
              "      <td>Green</td>\n",
              "      <td>1</td>\n",
              "      <td>5</td>\n",
              "      <td>7</td>\n",
              "    </tr>\n",
              "    <tr>\n",
              "      <th>3</th>\n",
              "      <td>4</td>\n",
              "      <td>Maryam Walid</td>\n",
              "      <td>Female</td>\n",
              "      <td>CS</td>\n",
              "      <td>Student</td>\n",
              "      <td>20</td>\n",
              "      <td>4.0</td>\n",
              "      <td>3.0</td>\n",
              "      <td>5.0</td>\n",
              "      <td>5.0</td>\n",
              "      <td>...</td>\n",
              "      <td>7.0</td>\n",
              "      <td>7.0</td>\n",
              "      <td>8.0</td>\n",
              "      <td>7.5</td>\n",
              "      <td>6.5</td>\n",
              "      <td>9.0</td>\n",
              "      <td>Blue</td>\n",
              "      <td>19</td>\n",
              "      <td>16</td>\n",
              "      <td>13</td>\n",
              "    </tr>\n",
              "    <tr>\n",
              "      <th>4</th>\n",
              "      <td>5</td>\n",
              "      <td>Yehia Sameh</td>\n",
              "      <td>Male</td>\n",
              "      <td>CS</td>\n",
              "      <td>Student</td>\n",
              "      <td>19</td>\n",
              "      <td>4.0</td>\n",
              "      <td>2.0</td>\n",
              "      <td>3.0</td>\n",
              "      <td>5.0</td>\n",
              "      <td>...</td>\n",
              "      <td>6.0</td>\n",
              "      <td>7.0</td>\n",
              "      <td>6.0</td>\n",
              "      <td>8.0</td>\n",
              "      <td>NaN</td>\n",
              "      <td>NaN</td>\n",
              "      <td>Green</td>\n",
              "      <td>7</td>\n",
              "      <td>9</td>\n",
              "      <td>13</td>\n",
              "    </tr>\n",
              "    <tr>\n",
              "      <th>...</th>\n",
              "      <td>...</td>\n",
              "      <td>...</td>\n",
              "      <td>...</td>\n",
              "      <td>...</td>\n",
              "      <td>...</td>\n",
              "      <td>...</td>\n",
              "      <td>...</td>\n",
              "      <td>...</td>\n",
              "      <td>...</td>\n",
              "      <td>...</td>\n",
              "      <td>...</td>\n",
              "      <td>...</td>\n",
              "      <td>...</td>\n",
              "      <td>...</td>\n",
              "      <td>...</td>\n",
              "      <td>...</td>\n",
              "      <td>...</td>\n",
              "      <td>...</td>\n",
              "      <td>...</td>\n",
              "      <td>...</td>\n",
              "      <td>...</td>\n",
              "    </tr>\n",
              "    <tr>\n",
              "      <th>91</th>\n",
              "      <td>92</td>\n",
              "      <td>Yehia Abdallah</td>\n",
              "      <td>Male</td>\n",
              "      <td>Automatic Engineering</td>\n",
              "      <td>Senior Student</td>\n",
              "      <td>21</td>\n",
              "      <td>5.0</td>\n",
              "      <td>4.0</td>\n",
              "      <td>4.0</td>\n",
              "      <td>1.0</td>\n",
              "      <td>...</td>\n",
              "      <td>2.0</td>\n",
              "      <td>1.0</td>\n",
              "      <td>7.0</td>\n",
              "      <td>6.0</td>\n",
              "      <td>8.0</td>\n",
              "      <td>7.0</td>\n",
              "      <td>Gold</td>\n",
              "      <td>10</td>\n",
              "      <td>4</td>\n",
              "      <td>7</td>\n",
              "    </tr>\n",
              "    <tr>\n",
              "      <th>92</th>\n",
              "      <td>93</td>\n",
              "      <td>Yehia Abdallah</td>\n",
              "      <td>Male</td>\n",
              "      <td>Automatic Engineering</td>\n",
              "      <td>Senior Student</td>\n",
              "      <td>21</td>\n",
              "      <td>5.0</td>\n",
              "      <td>4.0</td>\n",
              "      <td>4.0</td>\n",
              "      <td>1.0</td>\n",
              "      <td>...</td>\n",
              "      <td>2.0</td>\n",
              "      <td>1.0</td>\n",
              "      <td>7.0</td>\n",
              "      <td>6.0</td>\n",
              "      <td>8.0</td>\n",
              "      <td>7.0</td>\n",
              "      <td>Green</td>\n",
              "      <td>10</td>\n",
              "      <td>4</td>\n",
              "      <td>7</td>\n",
              "    </tr>\n",
              "    <tr>\n",
              "      <th>93</th>\n",
              "      <td>94</td>\n",
              "      <td>Khaled Khatteb</td>\n",
              "      <td>Male</td>\n",
              "      <td>Business</td>\n",
              "      <td>Software developer</td>\n",
              "      <td>23</td>\n",
              "      <td>3.0</td>\n",
              "      <td>3.0</td>\n",
              "      <td>4.0</td>\n",
              "      <td>2.0</td>\n",
              "      <td>...</td>\n",
              "      <td>7.0</td>\n",
              "      <td>6.0</td>\n",
              "      <td>8.0</td>\n",
              "      <td>9.0</td>\n",
              "      <td>6.0</td>\n",
              "      <td>7.0</td>\n",
              "      <td>Gold</td>\n",
              "      <td>10</td>\n",
              "      <td>17</td>\n",
              "      <td>5</td>\n",
              "    </tr>\n",
              "    <tr>\n",
              "      <th>94</th>\n",
              "      <td>95</td>\n",
              "      <td>Mohamed Elbaz</td>\n",
              "      <td>Male</td>\n",
              "      <td>CS</td>\n",
              "      <td>Senior Student</td>\n",
              "      <td>21</td>\n",
              "      <td>3.0</td>\n",
              "      <td>1.0</td>\n",
              "      <td>3.0</td>\n",
              "      <td>1.0</td>\n",
              "      <td>...</td>\n",
              "      <td>5.0</td>\n",
              "      <td>6.0</td>\n",
              "      <td>5.0</td>\n",
              "      <td>8.0</td>\n",
              "      <td>4.0</td>\n",
              "      <td>4.0</td>\n",
              "      <td>Gold</td>\n",
              "      <td>10</td>\n",
              "      <td>17</td>\n",
              "      <td>7</td>\n",
              "    </tr>\n",
              "    <tr>\n",
              "      <th>95</th>\n",
              "      <td>96</td>\n",
              "      <td>Mohamed Elbaz</td>\n",
              "      <td>Male</td>\n",
              "      <td>CS</td>\n",
              "      <td>Senior Student</td>\n",
              "      <td>21</td>\n",
              "      <td>3.0</td>\n",
              "      <td>1.0</td>\n",
              "      <td>3.0</td>\n",
              "      <td>1.0</td>\n",
              "      <td>...</td>\n",
              "      <td>5.0</td>\n",
              "      <td>6.0</td>\n",
              "      <td>5.0</td>\n",
              "      <td>8.0</td>\n",
              "      <td>4.0</td>\n",
              "      <td>4.0</td>\n",
              "      <td>Green</td>\n",
              "      <td>10</td>\n",
              "      <td>17</td>\n",
              "      <td>7</td>\n",
              "    </tr>\n",
              "  </tbody>\n",
              "</table>\n",
              "<p>96 rows × 34 columns</p>\n",
              "</div>\n",
              "      <button class=\"colab-df-convert\" onclick=\"convertToInteractive('df-bc2f15a0-0b11-4b2c-ae9a-e36206f6af45')\"\n",
              "              title=\"Convert this dataframe to an interactive table.\"\n",
              "              style=\"display:none;\">\n",
              "        \n",
              "  <svg xmlns=\"http://www.w3.org/2000/svg\" height=\"24px\"viewBox=\"0 0 24 24\"\n",
              "       width=\"24px\">\n",
              "    <path d=\"M0 0h24v24H0V0z\" fill=\"none\"/>\n",
              "    <path d=\"M18.56 5.44l.94 2.06.94-2.06 2.06-.94-2.06-.94-.94-2.06-.94 2.06-2.06.94zm-11 1L8.5 8.5l.94-2.06 2.06-.94-2.06-.94L8.5 2.5l-.94 2.06-2.06.94zm10 10l.94 2.06.94-2.06 2.06-.94-2.06-.94-.94-2.06-.94 2.06-2.06.94z\"/><path d=\"M17.41 7.96l-1.37-1.37c-.4-.4-.92-.59-1.43-.59-.52 0-1.04.2-1.43.59L10.3 9.45l-7.72 7.72c-.78.78-.78 2.05 0 2.83L4 21.41c.39.39.9.59 1.41.59.51 0 1.02-.2 1.41-.59l7.78-7.78 2.81-2.81c.8-.78.8-2.07 0-2.86zM5.41 20L4 18.59l7.72-7.72 1.47 1.35L5.41 20z\"/>\n",
              "  </svg>\n",
              "      </button>\n",
              "      \n",
              "  <style>\n",
              "    .colab-df-container {\n",
              "      display:flex;\n",
              "      flex-wrap:wrap;\n",
              "      gap: 12px;\n",
              "    }\n",
              "\n",
              "    .colab-df-convert {\n",
              "      background-color: #E8F0FE;\n",
              "      border: none;\n",
              "      border-radius: 50%;\n",
              "      cursor: pointer;\n",
              "      display: none;\n",
              "      fill: #1967D2;\n",
              "      height: 32px;\n",
              "      padding: 0 0 0 0;\n",
              "      width: 32px;\n",
              "    }\n",
              "\n",
              "    .colab-df-convert:hover {\n",
              "      background-color: #E2EBFA;\n",
              "      box-shadow: 0px 1px 2px rgba(60, 64, 67, 0.3), 0px 1px 3px 1px rgba(60, 64, 67, 0.15);\n",
              "      fill: #174EA6;\n",
              "    }\n",
              "\n",
              "    [theme=dark] .colab-df-convert {\n",
              "      background-color: #3B4455;\n",
              "      fill: #D2E3FC;\n",
              "    }\n",
              "\n",
              "    [theme=dark] .colab-df-convert:hover {\n",
              "      background-color: #434B5C;\n",
              "      box-shadow: 0px 1px 3px 1px rgba(0, 0, 0, 0.15);\n",
              "      filter: drop-shadow(0px 1px 2px rgba(0, 0, 0, 0.3));\n",
              "      fill: #FFFFFF;\n",
              "    }\n",
              "  </style>\n",
              "\n",
              "      <script>\n",
              "        const buttonEl =\n",
              "          document.querySelector('#df-bc2f15a0-0b11-4b2c-ae9a-e36206f6af45 button.colab-df-convert');\n",
              "        buttonEl.style.display =\n",
              "          google.colab.kernel.accessAllowed ? 'block' : 'none';\n",
              "\n",
              "        async function convertToInteractive(key) {\n",
              "          const element = document.querySelector('#df-bc2f15a0-0b11-4b2c-ae9a-e36206f6af45');\n",
              "          const dataTable =\n",
              "            await google.colab.kernel.invokeFunction('convertToInteractive',\n",
              "                                                     [key], {});\n",
              "          if (!dataTable) return;\n",
              "\n",
              "          const docLinkHtml = 'Like what you see? Visit the ' +\n",
              "            '<a target=\"_blank\" href=https://colab.research.google.com/notebooks/data_table.ipynb>data table notebook</a>'\n",
              "            + ' to learn more about interactive tables.';\n",
              "          element.innerHTML = '';\n",
              "          dataTable['output_type'] = 'display_data';\n",
              "          await google.colab.output.renderOutput(dataTable, element);\n",
              "          const docLink = document.createElement('div');\n",
              "          docLink.innerHTML = docLinkHtml;\n",
              "          element.appendChild(docLink);\n",
              "        }\n",
              "      </script>\n",
              "    </div>\n",
              "  </div>\n",
              "  "
            ]
          },
          "metadata": {},
          "execution_count": 1434
        }
      ],
      "source": [
        "data = pd.read_csv(\"Data.csv\",nrows=96)\n",
        "data"
      ]
    },
    {
      "cell_type": "code",
      "execution_count": null,
      "metadata": {
        "colab": {
          "base_uri": "https://localhost:8080/"
        },
        "id": "EQ1wnaG4jB1W",
        "outputId": "8ba5a5bb-9867-4509-c320-34080f9703bf"
      },
      "outputs": [
        {
          "output_type": "execute_result",
          "data": {
            "text/plain": [
              "Id                     int64\n",
              "Name                  object\n",
              "Gender                object\n",
              "Field                 object\n",
              "Occupation            object\n",
              "Age                    int64\n",
              "Openness             float64\n",
              "Extraversion         float64\n",
              "Agreeableness        float64\n",
              "Conscientiousness    float64\n",
              "Neuroticism          float64\n",
              "Interface_1          float64\n",
              "Interface_2          float64\n",
              "Interface_3          float64\n",
              "Interface_4          float64\n",
              "Interface_5          float64\n",
              "Interface_6          float64\n",
              "Interface_7          float64\n",
              "Interface_8          float64\n",
              "Interface_9          float64\n",
              "Interface_10         float64\n",
              "Interface_11         float64\n",
              "Interface_12         float64\n",
              "Interface_13         float64\n",
              "Interface_14         float64\n",
              "Interface_15         float64\n",
              "Interface_16         float64\n",
              "Interface_17         float64\n",
              "Extra_interface_1    float64\n",
              "Extra_interface_2    float64\n",
              "Test_Score            object\n",
              "Top_1                  int64\n",
              "Top_2                  int64\n",
              "Top_3                  int64\n",
              "dtype: object"
            ]
          },
          "metadata": {},
          "execution_count": 1435
        }
      ],
      "source": [
        "data.dtypes"
      ]
    },
    {
      "cell_type": "code",
      "source": [
        "data.info()"
      ],
      "metadata": {
        "colab": {
          "base_uri": "https://localhost:8080/"
        },
        "id": "IrmEz0SxclcD",
        "outputId": "72cb4a56-08d2-4cf4-bd64-2a9a8cb4ca57"
      },
      "execution_count": null,
      "outputs": [
        {
          "output_type": "stream",
          "name": "stdout",
          "text": [
            "<class 'pandas.core.frame.DataFrame'>\n",
            "RangeIndex: 96 entries, 0 to 95\n",
            "Data columns (total 34 columns):\n",
            " #   Column             Non-Null Count  Dtype  \n",
            "---  ------             --------------  -----  \n",
            " 0   Id                 96 non-null     int64  \n",
            " 1   Name               96 non-null     object \n",
            " 2   Gender             96 non-null     object \n",
            " 3   Field              96 non-null     object \n",
            " 4   Occupation         96 non-null     object \n",
            " 5   Age                96 non-null     int64  \n",
            " 6   Openness           96 non-null     float64\n",
            " 7   Extraversion       96 non-null     float64\n",
            " 8   Agreeableness      96 non-null     float64\n",
            " 9   Conscientiousness  96 non-null     float64\n",
            " 10  Neuroticism        96 non-null     float64\n",
            " 11  Interface_1        96 non-null     float64\n",
            " 12  Interface_2        96 non-null     float64\n",
            " 13  Interface_3        96 non-null     float64\n",
            " 14  Interface_4        96 non-null     float64\n",
            " 15  Interface_5        96 non-null     float64\n",
            " 16  Interface_6        96 non-null     float64\n",
            " 17  Interface_7        96 non-null     float64\n",
            " 18  Interface_8        96 non-null     float64\n",
            " 19  Interface_9        96 non-null     float64\n",
            " 20  Interface_10       96 non-null     float64\n",
            " 21  Interface_11       96 non-null     float64\n",
            " 22  Interface_12       96 non-null     float64\n",
            " 23  Interface_13       96 non-null     float64\n",
            " 24  Interface_14       96 non-null     float64\n",
            " 25  Interface_15       96 non-null     float64\n",
            " 26  Interface_16       96 non-null     float64\n",
            " 27  Interface_17       96 non-null     float64\n",
            " 28  Extra_interface_1  89 non-null     float64\n",
            " 29  Extra_interface_2  89 non-null     float64\n",
            " 30  Test_Score         96 non-null     object \n",
            " 31  Top_1              96 non-null     int64  \n",
            " 32  Top_2              96 non-null     int64  \n",
            " 33  Top_3              96 non-null     int64  \n",
            "dtypes: float64(24), int64(5), object(5)\n",
            "memory usage: 25.6+ KB\n"
          ]
        }
      ]
    },
    {
      "cell_type": "code",
      "execution_count": null,
      "metadata": {
        "id": "LtBWO31pjB1W"
      },
      "outputs": [],
      "source": [
        "# data['Interface_9'] = data['Interface_9'].astype('float64')\n"
      ]
    },
    {
      "cell_type": "code",
      "execution_count": null,
      "metadata": {
        "id": "WN_j4plljB1W"
      },
      "outputs": [],
      "source": [
        "\n",
        "# data['Neuroticism'] = data['Neuroticism'].astype('float64')"
      ]
    },
    {
      "cell_type": "code",
      "execution_count": null,
      "metadata": {
        "colab": {
          "base_uri": "https://localhost:8080/"
        },
        "id": "E7bwmEuwjB1W",
        "outputId": "8c640c0d-5c16-42ac-a684-83c10ed95d8f"
      },
      "outputs": [
        {
          "output_type": "execute_result",
          "data": {
            "text/plain": [
              "Id                   0.000000\n",
              "Name                 0.000000\n",
              "Gender               0.000000\n",
              "Field                0.000000\n",
              "Occupation           0.000000\n",
              "Age                  0.000000\n",
              "Openness             0.000000\n",
              "Extraversion         0.000000\n",
              "Agreeableness        0.000000\n",
              "Conscientiousness    0.000000\n",
              "Neuroticism          0.000000\n",
              "Interface_1          0.000000\n",
              "Interface_2          0.000000\n",
              "Interface_3          0.000000\n",
              "Interface_4          0.000000\n",
              "Interface_5          0.000000\n",
              "Interface_6          0.000000\n",
              "Interface_7          0.000000\n",
              "Interface_8          0.000000\n",
              "Interface_9          0.000000\n",
              "Interface_10         0.000000\n",
              "Interface_11         0.000000\n",
              "Interface_12         0.000000\n",
              "Interface_13         0.000000\n",
              "Interface_14         0.000000\n",
              "Interface_15         0.000000\n",
              "Interface_16         0.000000\n",
              "Interface_17         0.000000\n",
              "Extra_interface_1    7.291667\n",
              "Extra_interface_2    7.291667\n",
              "Test_Score           0.000000\n",
              "Top_1                0.000000\n",
              "Top_2                0.000000\n",
              "Top_3                0.000000\n",
              "dtype: float64"
            ]
          },
          "metadata": {},
          "execution_count": 1439
        }
      ],
      "source": [
        "missing_values = data.isna().sum()/len(data)*100\n",
        "missing_values\n"
      ]
    },
    {
      "cell_type": "code",
      "execution_count": null,
      "metadata": {
        "id": "YSO6nH0xjB1X"
      },
      "outputs": [],
      "source": [
        "data['Extra_interface_1'].fillna(value=data['Extra_interface_1'].mean(), inplace=True)"
      ]
    },
    {
      "cell_type": "code",
      "execution_count": null,
      "metadata": {
        "id": "m1QUUPkDjB1X"
      },
      "outputs": [],
      "source": [
        "data['Extra_interface_2'].fillna(value=data['Extra_interface_2'].mean(), inplace=True)\n"
      ]
    },
    {
      "cell_type": "code",
      "execution_count": null,
      "metadata": {
        "colab": {
          "base_uri": "https://localhost:8080/"
        },
        "id": "RetSgbdTjB1X",
        "outputId": "5bbf3bab-e7a9-4910-b1ad-a17c6817067e"
      },
      "outputs": [
        {
          "output_type": "execute_result",
          "data": {
            "text/plain": [
              "Id                   0.0\n",
              "Name                 0.0\n",
              "Gender               0.0\n",
              "Field                0.0\n",
              "Occupation           0.0\n",
              "Age                  0.0\n",
              "Openness             0.0\n",
              "Extraversion         0.0\n",
              "Agreeableness        0.0\n",
              "Conscientiousness    0.0\n",
              "Neuroticism          0.0\n",
              "Interface_1          0.0\n",
              "Interface_2          0.0\n",
              "Interface_3          0.0\n",
              "Interface_4          0.0\n",
              "Interface_5          0.0\n",
              "Interface_6          0.0\n",
              "Interface_7          0.0\n",
              "Interface_8          0.0\n",
              "Interface_9          0.0\n",
              "Interface_10         0.0\n",
              "Interface_11         0.0\n",
              "Interface_12         0.0\n",
              "Interface_13         0.0\n",
              "Interface_14         0.0\n",
              "Interface_15         0.0\n",
              "Interface_16         0.0\n",
              "Interface_17         0.0\n",
              "Extra_interface_1    0.0\n",
              "Extra_interface_2    0.0\n",
              "Test_Score           0.0\n",
              "Top_1                0.0\n",
              "Top_2                0.0\n",
              "Top_3                0.0\n",
              "dtype: float64"
            ]
          },
          "metadata": {},
          "execution_count": 1442
        }
      ],
      "source": [
        "missing_values = data.isna().sum()/len(data)*100\n",
        "missing_values\n"
      ]
    },
    {
      "cell_type": "code",
      "execution_count": null,
      "metadata": {
        "colab": {
          "base_uri": "https://localhost:8080/"
        },
        "id": "aU5_pBUFjB1X",
        "outputId": "1d574270-3b2d-4208-a312-bdcacdf76ed2"
      },
      "outputs": [
        {
          "output_type": "execute_result",
          "data": {
            "text/plain": [
              "array([0, 1, 2, 3])"
            ]
          },
          "metadata": {},
          "execution_count": 1443
        }
      ],
      "source": [
        "data['Test_Score'] = pd.factorize(data['Test_Score'])[0]\n",
        "data['Test_Score'] .unique()"
      ]
    },
    {
      "cell_type": "code",
      "execution_count": null,
      "metadata": {
        "colab": {
          "base_uri": "https://localhost:8080/",
          "height": 394
        },
        "id": "gg1gHRnFjB1X",
        "outputId": "7a7b38ae-4cd6-4e6e-8465-7dad29fecdb8"
      },
      "outputs": [
        {
          "output_type": "execute_result",
          "data": {
            "text/plain": [
              "              Id        Age   Openness  Extraversion  Agreeableness  \\\n",
              "count  96.000000  96.000000  96.000000     96.000000      96.000000   \n",
              "mean   48.500000  22.270833   4.036458      3.239583       3.489583   \n",
              "std    27.856777   6.084457   0.840566      1.256518       0.885495   \n",
              "min     1.000000  15.000000   2.000000      1.000000       1.000000   \n",
              "25%    24.750000  20.750000   3.000000      2.000000       3.000000   \n",
              "50%    48.500000  21.000000   4.000000      3.000000       3.000000   \n",
              "75%    72.250000  21.250000   5.000000      4.000000       4.000000   \n",
              "max    96.000000  57.000000   5.000000      5.000000       5.000000   \n",
              "\n",
              "       Conscientiousness  Neuroticism  Interface_1  Interface_2  Interface_3  \\\n",
              "count          96.000000    96.000000    96.000000    96.000000    96.000000   \n",
              "mean            2.609375     3.338542     6.822917     6.033333     5.993750   \n",
              "std             1.433074     1.257598     1.707536     1.952416     1.983236   \n",
              "min             1.000000     1.000000     3.000000     2.000000     2.000000   \n",
              "25%             1.000000     2.375000     6.000000     5.000000     5.000000   \n",
              "50%             2.500000     3.000000     7.000000     6.000000     6.000000   \n",
              "75%             4.000000     4.000000     8.000000     7.000000     7.000000   \n",
              "max             5.000000     5.000000    10.000000    10.000000    10.000000   \n",
              "\n",
              "       ...  Interface_14  Interface_15  Interface_16  Interface_17  \\\n",
              "count  ...     96.000000     96.000000     96.000000     96.000000   \n",
              "mean   ...      6.510417      6.479167      7.083333      7.961458   \n",
              "std    ...      2.284938      2.331610      1.736098      1.778667   \n",
              "min    ...      1.000000      1.000000      1.000000      1.800000   \n",
              "25%    ...      5.000000      5.000000      6.000000      7.000000   \n",
              "50%    ...      7.000000      7.000000      7.000000      8.000000   \n",
              "75%    ...      8.000000      8.000000      8.000000      9.000000   \n",
              "max    ...     10.000000     10.000000     10.000000     10.000000   \n",
              "\n",
              "       Extra_interface_1  Extra_interface_2  Test_Score      Top_1      Top_2  \\\n",
              "count          96.000000          96.000000   96.000000  96.000000  96.000000   \n",
              "mean            6.152809           6.114607    1.593750   9.708333  10.739583   \n",
              "std             2.070296           2.057773    1.062055   4.497758   5.388574   \n",
              "min             1.000000           1.000000    0.000000   1.000000   1.000000   \n",
              "25%             5.000000           5.000000    1.000000   7.000000   7.000000   \n",
              "50%             6.152809           6.114607    2.000000  10.000000  10.500000   \n",
              "75%             8.000000           7.050000    2.000000  13.000000  16.000000   \n",
              "max            10.000000          10.000000    3.000000  19.000000  19.000000   \n",
              "\n",
              "           Top_3  \n",
              "count  96.000000  \n",
              "mean   10.604167  \n",
              "std     5.232448  \n",
              "min     1.000000  \n",
              "25%     7.000000  \n",
              "50%    10.500000  \n",
              "75%    16.000000  \n",
              "max    19.000000  \n",
              "\n",
              "[8 rows x 30 columns]"
            ],
            "text/html": [
              "\n",
              "  <div id=\"df-3864dcc5-c7e6-44d6-9424-cc23226cbccb\">\n",
              "    <div class=\"colab-df-container\">\n",
              "      <div>\n",
              "<style scoped>\n",
              "    .dataframe tbody tr th:only-of-type {\n",
              "        vertical-align: middle;\n",
              "    }\n",
              "\n",
              "    .dataframe tbody tr th {\n",
              "        vertical-align: top;\n",
              "    }\n",
              "\n",
              "    .dataframe thead th {\n",
              "        text-align: right;\n",
              "    }\n",
              "</style>\n",
              "<table border=\"1\" class=\"dataframe\">\n",
              "  <thead>\n",
              "    <tr style=\"text-align: right;\">\n",
              "      <th></th>\n",
              "      <th>Id</th>\n",
              "      <th>Age</th>\n",
              "      <th>Openness</th>\n",
              "      <th>Extraversion</th>\n",
              "      <th>Agreeableness</th>\n",
              "      <th>Conscientiousness</th>\n",
              "      <th>Neuroticism</th>\n",
              "      <th>Interface_1</th>\n",
              "      <th>Interface_2</th>\n",
              "      <th>Interface_3</th>\n",
              "      <th>...</th>\n",
              "      <th>Interface_14</th>\n",
              "      <th>Interface_15</th>\n",
              "      <th>Interface_16</th>\n",
              "      <th>Interface_17</th>\n",
              "      <th>Extra_interface_1</th>\n",
              "      <th>Extra_interface_2</th>\n",
              "      <th>Test_Score</th>\n",
              "      <th>Top_1</th>\n",
              "      <th>Top_2</th>\n",
              "      <th>Top_3</th>\n",
              "    </tr>\n",
              "  </thead>\n",
              "  <tbody>\n",
              "    <tr>\n",
              "      <th>count</th>\n",
              "      <td>96.000000</td>\n",
              "      <td>96.000000</td>\n",
              "      <td>96.000000</td>\n",
              "      <td>96.000000</td>\n",
              "      <td>96.000000</td>\n",
              "      <td>96.000000</td>\n",
              "      <td>96.000000</td>\n",
              "      <td>96.000000</td>\n",
              "      <td>96.000000</td>\n",
              "      <td>96.000000</td>\n",
              "      <td>...</td>\n",
              "      <td>96.000000</td>\n",
              "      <td>96.000000</td>\n",
              "      <td>96.000000</td>\n",
              "      <td>96.000000</td>\n",
              "      <td>96.000000</td>\n",
              "      <td>96.000000</td>\n",
              "      <td>96.000000</td>\n",
              "      <td>96.000000</td>\n",
              "      <td>96.000000</td>\n",
              "      <td>96.000000</td>\n",
              "    </tr>\n",
              "    <tr>\n",
              "      <th>mean</th>\n",
              "      <td>48.500000</td>\n",
              "      <td>22.270833</td>\n",
              "      <td>4.036458</td>\n",
              "      <td>3.239583</td>\n",
              "      <td>3.489583</td>\n",
              "      <td>2.609375</td>\n",
              "      <td>3.338542</td>\n",
              "      <td>6.822917</td>\n",
              "      <td>6.033333</td>\n",
              "      <td>5.993750</td>\n",
              "      <td>...</td>\n",
              "      <td>6.510417</td>\n",
              "      <td>6.479167</td>\n",
              "      <td>7.083333</td>\n",
              "      <td>7.961458</td>\n",
              "      <td>6.152809</td>\n",
              "      <td>6.114607</td>\n",
              "      <td>1.593750</td>\n",
              "      <td>9.708333</td>\n",
              "      <td>10.739583</td>\n",
              "      <td>10.604167</td>\n",
              "    </tr>\n",
              "    <tr>\n",
              "      <th>std</th>\n",
              "      <td>27.856777</td>\n",
              "      <td>6.084457</td>\n",
              "      <td>0.840566</td>\n",
              "      <td>1.256518</td>\n",
              "      <td>0.885495</td>\n",
              "      <td>1.433074</td>\n",
              "      <td>1.257598</td>\n",
              "      <td>1.707536</td>\n",
              "      <td>1.952416</td>\n",
              "      <td>1.983236</td>\n",
              "      <td>...</td>\n",
              "      <td>2.284938</td>\n",
              "      <td>2.331610</td>\n",
              "      <td>1.736098</td>\n",
              "      <td>1.778667</td>\n",
              "      <td>2.070296</td>\n",
              "      <td>2.057773</td>\n",
              "      <td>1.062055</td>\n",
              "      <td>4.497758</td>\n",
              "      <td>5.388574</td>\n",
              "      <td>5.232448</td>\n",
              "    </tr>\n",
              "    <tr>\n",
              "      <th>min</th>\n",
              "      <td>1.000000</td>\n",
              "      <td>15.000000</td>\n",
              "      <td>2.000000</td>\n",
              "      <td>1.000000</td>\n",
              "      <td>1.000000</td>\n",
              "      <td>1.000000</td>\n",
              "      <td>1.000000</td>\n",
              "      <td>3.000000</td>\n",
              "      <td>2.000000</td>\n",
              "      <td>2.000000</td>\n",
              "      <td>...</td>\n",
              "      <td>1.000000</td>\n",
              "      <td>1.000000</td>\n",
              "      <td>1.000000</td>\n",
              "      <td>1.800000</td>\n",
              "      <td>1.000000</td>\n",
              "      <td>1.000000</td>\n",
              "      <td>0.000000</td>\n",
              "      <td>1.000000</td>\n",
              "      <td>1.000000</td>\n",
              "      <td>1.000000</td>\n",
              "    </tr>\n",
              "    <tr>\n",
              "      <th>25%</th>\n",
              "      <td>24.750000</td>\n",
              "      <td>20.750000</td>\n",
              "      <td>3.000000</td>\n",
              "      <td>2.000000</td>\n",
              "      <td>3.000000</td>\n",
              "      <td>1.000000</td>\n",
              "      <td>2.375000</td>\n",
              "      <td>6.000000</td>\n",
              "      <td>5.000000</td>\n",
              "      <td>5.000000</td>\n",
              "      <td>...</td>\n",
              "      <td>5.000000</td>\n",
              "      <td>5.000000</td>\n",
              "      <td>6.000000</td>\n",
              "      <td>7.000000</td>\n",
              "      <td>5.000000</td>\n",
              "      <td>5.000000</td>\n",
              "      <td>1.000000</td>\n",
              "      <td>7.000000</td>\n",
              "      <td>7.000000</td>\n",
              "      <td>7.000000</td>\n",
              "    </tr>\n",
              "    <tr>\n",
              "      <th>50%</th>\n",
              "      <td>48.500000</td>\n",
              "      <td>21.000000</td>\n",
              "      <td>4.000000</td>\n",
              "      <td>3.000000</td>\n",
              "      <td>3.000000</td>\n",
              "      <td>2.500000</td>\n",
              "      <td>3.000000</td>\n",
              "      <td>7.000000</td>\n",
              "      <td>6.000000</td>\n",
              "      <td>6.000000</td>\n",
              "      <td>...</td>\n",
              "      <td>7.000000</td>\n",
              "      <td>7.000000</td>\n",
              "      <td>7.000000</td>\n",
              "      <td>8.000000</td>\n",
              "      <td>6.152809</td>\n",
              "      <td>6.114607</td>\n",
              "      <td>2.000000</td>\n",
              "      <td>10.000000</td>\n",
              "      <td>10.500000</td>\n",
              "      <td>10.500000</td>\n",
              "    </tr>\n",
              "    <tr>\n",
              "      <th>75%</th>\n",
              "      <td>72.250000</td>\n",
              "      <td>21.250000</td>\n",
              "      <td>5.000000</td>\n",
              "      <td>4.000000</td>\n",
              "      <td>4.000000</td>\n",
              "      <td>4.000000</td>\n",
              "      <td>4.000000</td>\n",
              "      <td>8.000000</td>\n",
              "      <td>7.000000</td>\n",
              "      <td>7.000000</td>\n",
              "      <td>...</td>\n",
              "      <td>8.000000</td>\n",
              "      <td>8.000000</td>\n",
              "      <td>8.000000</td>\n",
              "      <td>9.000000</td>\n",
              "      <td>8.000000</td>\n",
              "      <td>7.050000</td>\n",
              "      <td>2.000000</td>\n",
              "      <td>13.000000</td>\n",
              "      <td>16.000000</td>\n",
              "      <td>16.000000</td>\n",
              "    </tr>\n",
              "    <tr>\n",
              "      <th>max</th>\n",
              "      <td>96.000000</td>\n",
              "      <td>57.000000</td>\n",
              "      <td>5.000000</td>\n",
              "      <td>5.000000</td>\n",
              "      <td>5.000000</td>\n",
              "      <td>5.000000</td>\n",
              "      <td>5.000000</td>\n",
              "      <td>10.000000</td>\n",
              "      <td>10.000000</td>\n",
              "      <td>10.000000</td>\n",
              "      <td>...</td>\n",
              "      <td>10.000000</td>\n",
              "      <td>10.000000</td>\n",
              "      <td>10.000000</td>\n",
              "      <td>10.000000</td>\n",
              "      <td>10.000000</td>\n",
              "      <td>10.000000</td>\n",
              "      <td>3.000000</td>\n",
              "      <td>19.000000</td>\n",
              "      <td>19.000000</td>\n",
              "      <td>19.000000</td>\n",
              "    </tr>\n",
              "  </tbody>\n",
              "</table>\n",
              "<p>8 rows × 30 columns</p>\n",
              "</div>\n",
              "      <button class=\"colab-df-convert\" onclick=\"convertToInteractive('df-3864dcc5-c7e6-44d6-9424-cc23226cbccb')\"\n",
              "              title=\"Convert this dataframe to an interactive table.\"\n",
              "              style=\"display:none;\">\n",
              "        \n",
              "  <svg xmlns=\"http://www.w3.org/2000/svg\" height=\"24px\"viewBox=\"0 0 24 24\"\n",
              "       width=\"24px\">\n",
              "    <path d=\"M0 0h24v24H0V0z\" fill=\"none\"/>\n",
              "    <path d=\"M18.56 5.44l.94 2.06.94-2.06 2.06-.94-2.06-.94-.94-2.06-.94 2.06-2.06.94zm-11 1L8.5 8.5l.94-2.06 2.06-.94-2.06-.94L8.5 2.5l-.94 2.06-2.06.94zm10 10l.94 2.06.94-2.06 2.06-.94-2.06-.94-.94-2.06-.94 2.06-2.06.94z\"/><path d=\"M17.41 7.96l-1.37-1.37c-.4-.4-.92-.59-1.43-.59-.52 0-1.04.2-1.43.59L10.3 9.45l-7.72 7.72c-.78.78-.78 2.05 0 2.83L4 21.41c.39.39.9.59 1.41.59.51 0 1.02-.2 1.41-.59l7.78-7.78 2.81-2.81c.8-.78.8-2.07 0-2.86zM5.41 20L4 18.59l7.72-7.72 1.47 1.35L5.41 20z\"/>\n",
              "  </svg>\n",
              "      </button>\n",
              "      \n",
              "  <style>\n",
              "    .colab-df-container {\n",
              "      display:flex;\n",
              "      flex-wrap:wrap;\n",
              "      gap: 12px;\n",
              "    }\n",
              "\n",
              "    .colab-df-convert {\n",
              "      background-color: #E8F0FE;\n",
              "      border: none;\n",
              "      border-radius: 50%;\n",
              "      cursor: pointer;\n",
              "      display: none;\n",
              "      fill: #1967D2;\n",
              "      height: 32px;\n",
              "      padding: 0 0 0 0;\n",
              "      width: 32px;\n",
              "    }\n",
              "\n",
              "    .colab-df-convert:hover {\n",
              "      background-color: #E2EBFA;\n",
              "      box-shadow: 0px 1px 2px rgba(60, 64, 67, 0.3), 0px 1px 3px 1px rgba(60, 64, 67, 0.15);\n",
              "      fill: #174EA6;\n",
              "    }\n",
              "\n",
              "    [theme=dark] .colab-df-convert {\n",
              "      background-color: #3B4455;\n",
              "      fill: #D2E3FC;\n",
              "    }\n",
              "\n",
              "    [theme=dark] .colab-df-convert:hover {\n",
              "      background-color: #434B5C;\n",
              "      box-shadow: 0px 1px 3px 1px rgba(0, 0, 0, 0.15);\n",
              "      filter: drop-shadow(0px 1px 2px rgba(0, 0, 0, 0.3));\n",
              "      fill: #FFFFFF;\n",
              "    }\n",
              "  </style>\n",
              "\n",
              "      <script>\n",
              "        const buttonEl =\n",
              "          document.querySelector('#df-3864dcc5-c7e6-44d6-9424-cc23226cbccb button.colab-df-convert');\n",
              "        buttonEl.style.display =\n",
              "          google.colab.kernel.accessAllowed ? 'block' : 'none';\n",
              "\n",
              "        async function convertToInteractive(key) {\n",
              "          const element = document.querySelector('#df-3864dcc5-c7e6-44d6-9424-cc23226cbccb');\n",
              "          const dataTable =\n",
              "            await google.colab.kernel.invokeFunction('convertToInteractive',\n",
              "                                                     [key], {});\n",
              "          if (!dataTable) return;\n",
              "\n",
              "          const docLinkHtml = 'Like what you see? Visit the ' +\n",
              "            '<a target=\"_blank\" href=https://colab.research.google.com/notebooks/data_table.ipynb>data table notebook</a>'\n",
              "            + ' to learn more about interactive tables.';\n",
              "          element.innerHTML = '';\n",
              "          dataTable['output_type'] = 'display_data';\n",
              "          await google.colab.output.renderOutput(dataTable, element);\n",
              "          const docLink = document.createElement('div');\n",
              "          docLink.innerHTML = docLinkHtml;\n",
              "          element.appendChild(docLink);\n",
              "        }\n",
              "      </script>\n",
              "    </div>\n",
              "  </div>\n",
              "  "
            ]
          },
          "metadata": {},
          "execution_count": 1444
        }
      ],
      "source": [
        "data.describe()\n"
      ]
    },
    {
      "cell_type": "markdown",
      "metadata": {
        "id": "CbTnRtjVjB1Z"
      },
      "source": [
        "# Machine learning "
      ]
    },
    {
      "cell_type": "code",
      "execution_count": null,
      "metadata": {
        "colab": {
          "base_uri": "https://localhost:8080/",
          "height": 488
        },
        "id": "QQq-z1IUjB1Z",
        "outputId": "8f100e82-3c73-4e99-88c0-f2c0540a555e"
      },
      "outputs": [
        {
          "output_type": "execute_result",
          "data": {
            "text/plain": [
              "    Age  Openness  Extraversion  Agreeableness  Conscientiousness  \\\n",
              "0    21       3.0           2.0            4.0                5.0   \n",
              "1    21       4.0           5.0            3.0                2.0   \n",
              "2    23       5.0           4.0            3.0                3.0   \n",
              "3    20       4.0           3.0            5.0                5.0   \n",
              "4    19       4.0           2.0            3.0                5.0   \n",
              "..  ...       ...           ...            ...                ...   \n",
              "91   21       5.0           4.0            4.0                1.0   \n",
              "92   21       5.0           4.0            4.0                1.0   \n",
              "93   23       3.0           3.0            4.0                2.0   \n",
              "94   21       3.0           1.0            3.0                1.0   \n",
              "95   21       3.0           1.0            3.0                1.0   \n",
              "\n",
              "    Neuroticism  Interface_1  Interface_2  Interface_3  Interface_4  ...  \\\n",
              "0           4.0          6.0          6.0          5.0          5.0  ...   \n",
              "1           1.0          8.0          7.0          7.0          6.0  ...   \n",
              "2           3.0          9.0          8.5          7.0          6.0  ...   \n",
              "3           1.0          6.0          5.5          5.0          6.0  ...   \n",
              "4           5.0          5.0          3.0          4.0          4.0  ...   \n",
              "..          ...          ...          ...          ...          ...  ...   \n",
              "91          4.0          6.0          5.0          6.0          8.0  ...   \n",
              "92          4.0          6.0          5.0          6.0          8.0  ...   \n",
              "93          3.0          6.0          5.0          4.0          7.0  ...   \n",
              "94          3.0          4.0          4.0          3.0          5.0  ...   \n",
              "95          3.0          4.0          4.0          3.0          5.0  ...   \n",
              "\n",
              "    Interface_10  Interface_11  Interface_12  Interface_13  Interface_14  \\\n",
              "0            8.0           6.0           7.0           8.0           7.0   \n",
              "1            8.0           8.0           7.0           9.0           8.0   \n",
              "2            9.0           8.0           6.0           8.0           5.0   \n",
              "3            5.5           6.0           6.5           7.5           7.0   \n",
              "4            7.0           6.0           4.0           8.0           6.0   \n",
              "..           ...           ...           ...           ...           ...   \n",
              "91           9.0           6.0           8.0           7.0           2.0   \n",
              "92           9.0           6.0           8.0           7.0           2.0   \n",
              "93           9.0           7.0           5.0           7.0           7.0   \n",
              "94           8.0           3.0           2.0           7.0           5.0   \n",
              "95           8.0           3.0           2.0           7.0           5.0   \n",
              "\n",
              "    Interface_15  Interface_16  Interface_17  Extra_interface_1  \\\n",
              "0            7.0           7.0           6.0           7.000000   \n",
              "1            8.0           7.0           8.0           6.000000   \n",
              "2            7.0           7.0           9.0           6.000000   \n",
              "3            7.0           8.0           7.5           6.500000   \n",
              "4            7.0           6.0           8.0           6.152809   \n",
              "..           ...           ...           ...                ...   \n",
              "91           1.0           7.0           6.0           8.000000   \n",
              "92           1.0           7.0           6.0           8.000000   \n",
              "93           6.0           8.0           9.0           6.000000   \n",
              "94           6.0           5.0           8.0           4.000000   \n",
              "95           6.0           5.0           8.0           4.000000   \n",
              "\n",
              "    Extra_interface_2  \n",
              "0            5.000000  \n",
              "1            9.000000  \n",
              "2            7.000000  \n",
              "3            9.000000  \n",
              "4            6.114607  \n",
              "..                ...  \n",
              "91           7.000000  \n",
              "92           7.000000  \n",
              "93           7.000000  \n",
              "94           4.000000  \n",
              "95           4.000000  \n",
              "\n",
              "[96 rows x 25 columns]"
            ],
            "text/html": [
              "\n",
              "  <div id=\"df-7dd7cdf4-3372-4964-ba1a-aa7393a9cbf6\">\n",
              "    <div class=\"colab-df-container\">\n",
              "      <div>\n",
              "<style scoped>\n",
              "    .dataframe tbody tr th:only-of-type {\n",
              "        vertical-align: middle;\n",
              "    }\n",
              "\n",
              "    .dataframe tbody tr th {\n",
              "        vertical-align: top;\n",
              "    }\n",
              "\n",
              "    .dataframe thead th {\n",
              "        text-align: right;\n",
              "    }\n",
              "</style>\n",
              "<table border=\"1\" class=\"dataframe\">\n",
              "  <thead>\n",
              "    <tr style=\"text-align: right;\">\n",
              "      <th></th>\n",
              "      <th>Age</th>\n",
              "      <th>Openness</th>\n",
              "      <th>Extraversion</th>\n",
              "      <th>Agreeableness</th>\n",
              "      <th>Conscientiousness</th>\n",
              "      <th>Neuroticism</th>\n",
              "      <th>Interface_1</th>\n",
              "      <th>Interface_2</th>\n",
              "      <th>Interface_3</th>\n",
              "      <th>Interface_4</th>\n",
              "      <th>...</th>\n",
              "      <th>Interface_10</th>\n",
              "      <th>Interface_11</th>\n",
              "      <th>Interface_12</th>\n",
              "      <th>Interface_13</th>\n",
              "      <th>Interface_14</th>\n",
              "      <th>Interface_15</th>\n",
              "      <th>Interface_16</th>\n",
              "      <th>Interface_17</th>\n",
              "      <th>Extra_interface_1</th>\n",
              "      <th>Extra_interface_2</th>\n",
              "    </tr>\n",
              "  </thead>\n",
              "  <tbody>\n",
              "    <tr>\n",
              "      <th>0</th>\n",
              "      <td>21</td>\n",
              "      <td>3.0</td>\n",
              "      <td>2.0</td>\n",
              "      <td>4.0</td>\n",
              "      <td>5.0</td>\n",
              "      <td>4.0</td>\n",
              "      <td>6.0</td>\n",
              "      <td>6.0</td>\n",
              "      <td>5.0</td>\n",
              "      <td>5.0</td>\n",
              "      <td>...</td>\n",
              "      <td>8.0</td>\n",
              "      <td>6.0</td>\n",
              "      <td>7.0</td>\n",
              "      <td>8.0</td>\n",
              "      <td>7.0</td>\n",
              "      <td>7.0</td>\n",
              "      <td>7.0</td>\n",
              "      <td>6.0</td>\n",
              "      <td>7.000000</td>\n",
              "      <td>5.000000</td>\n",
              "    </tr>\n",
              "    <tr>\n",
              "      <th>1</th>\n",
              "      <td>21</td>\n",
              "      <td>4.0</td>\n",
              "      <td>5.0</td>\n",
              "      <td>3.0</td>\n",
              "      <td>2.0</td>\n",
              "      <td>1.0</td>\n",
              "      <td>8.0</td>\n",
              "      <td>7.0</td>\n",
              "      <td>7.0</td>\n",
              "      <td>6.0</td>\n",
              "      <td>...</td>\n",
              "      <td>8.0</td>\n",
              "      <td>8.0</td>\n",
              "      <td>7.0</td>\n",
              "      <td>9.0</td>\n",
              "      <td>8.0</td>\n",
              "      <td>8.0</td>\n",
              "      <td>7.0</td>\n",
              "      <td>8.0</td>\n",
              "      <td>6.000000</td>\n",
              "      <td>9.000000</td>\n",
              "    </tr>\n",
              "    <tr>\n",
              "      <th>2</th>\n",
              "      <td>23</td>\n",
              "      <td>5.0</td>\n",
              "      <td>4.0</td>\n",
              "      <td>3.0</td>\n",
              "      <td>3.0</td>\n",
              "      <td>3.0</td>\n",
              "      <td>9.0</td>\n",
              "      <td>8.5</td>\n",
              "      <td>7.0</td>\n",
              "      <td>6.0</td>\n",
              "      <td>...</td>\n",
              "      <td>9.0</td>\n",
              "      <td>8.0</td>\n",
              "      <td>6.0</td>\n",
              "      <td>8.0</td>\n",
              "      <td>5.0</td>\n",
              "      <td>7.0</td>\n",
              "      <td>7.0</td>\n",
              "      <td>9.0</td>\n",
              "      <td>6.000000</td>\n",
              "      <td>7.000000</td>\n",
              "    </tr>\n",
              "    <tr>\n",
              "      <th>3</th>\n",
              "      <td>20</td>\n",
              "      <td>4.0</td>\n",
              "      <td>3.0</td>\n",
              "      <td>5.0</td>\n",
              "      <td>5.0</td>\n",
              "      <td>1.0</td>\n",
              "      <td>6.0</td>\n",
              "      <td>5.5</td>\n",
              "      <td>5.0</td>\n",
              "      <td>6.0</td>\n",
              "      <td>...</td>\n",
              "      <td>5.5</td>\n",
              "      <td>6.0</td>\n",
              "      <td>6.5</td>\n",
              "      <td>7.5</td>\n",
              "      <td>7.0</td>\n",
              "      <td>7.0</td>\n",
              "      <td>8.0</td>\n",
              "      <td>7.5</td>\n",
              "      <td>6.500000</td>\n",
              "      <td>9.000000</td>\n",
              "    </tr>\n",
              "    <tr>\n",
              "      <th>4</th>\n",
              "      <td>19</td>\n",
              "      <td>4.0</td>\n",
              "      <td>2.0</td>\n",
              "      <td>3.0</td>\n",
              "      <td>5.0</td>\n",
              "      <td>5.0</td>\n",
              "      <td>5.0</td>\n",
              "      <td>3.0</td>\n",
              "      <td>4.0</td>\n",
              "      <td>4.0</td>\n",
              "      <td>...</td>\n",
              "      <td>7.0</td>\n",
              "      <td>6.0</td>\n",
              "      <td>4.0</td>\n",
              "      <td>8.0</td>\n",
              "      <td>6.0</td>\n",
              "      <td>7.0</td>\n",
              "      <td>6.0</td>\n",
              "      <td>8.0</td>\n",
              "      <td>6.152809</td>\n",
              "      <td>6.114607</td>\n",
              "    </tr>\n",
              "    <tr>\n",
              "      <th>...</th>\n",
              "      <td>...</td>\n",
              "      <td>...</td>\n",
              "      <td>...</td>\n",
              "      <td>...</td>\n",
              "      <td>...</td>\n",
              "      <td>...</td>\n",
              "      <td>...</td>\n",
              "      <td>...</td>\n",
              "      <td>...</td>\n",
              "      <td>...</td>\n",
              "      <td>...</td>\n",
              "      <td>...</td>\n",
              "      <td>...</td>\n",
              "      <td>...</td>\n",
              "      <td>...</td>\n",
              "      <td>...</td>\n",
              "      <td>...</td>\n",
              "      <td>...</td>\n",
              "      <td>...</td>\n",
              "      <td>...</td>\n",
              "      <td>...</td>\n",
              "    </tr>\n",
              "    <tr>\n",
              "      <th>91</th>\n",
              "      <td>21</td>\n",
              "      <td>5.0</td>\n",
              "      <td>4.0</td>\n",
              "      <td>4.0</td>\n",
              "      <td>1.0</td>\n",
              "      <td>4.0</td>\n",
              "      <td>6.0</td>\n",
              "      <td>5.0</td>\n",
              "      <td>6.0</td>\n",
              "      <td>8.0</td>\n",
              "      <td>...</td>\n",
              "      <td>9.0</td>\n",
              "      <td>6.0</td>\n",
              "      <td>8.0</td>\n",
              "      <td>7.0</td>\n",
              "      <td>2.0</td>\n",
              "      <td>1.0</td>\n",
              "      <td>7.0</td>\n",
              "      <td>6.0</td>\n",
              "      <td>8.000000</td>\n",
              "      <td>7.000000</td>\n",
              "    </tr>\n",
              "    <tr>\n",
              "      <th>92</th>\n",
              "      <td>21</td>\n",
              "      <td>5.0</td>\n",
              "      <td>4.0</td>\n",
              "      <td>4.0</td>\n",
              "      <td>1.0</td>\n",
              "      <td>4.0</td>\n",
              "      <td>6.0</td>\n",
              "      <td>5.0</td>\n",
              "      <td>6.0</td>\n",
              "      <td>8.0</td>\n",
              "      <td>...</td>\n",
              "      <td>9.0</td>\n",
              "      <td>6.0</td>\n",
              "      <td>8.0</td>\n",
              "      <td>7.0</td>\n",
              "      <td>2.0</td>\n",
              "      <td>1.0</td>\n",
              "      <td>7.0</td>\n",
              "      <td>6.0</td>\n",
              "      <td>8.000000</td>\n",
              "      <td>7.000000</td>\n",
              "    </tr>\n",
              "    <tr>\n",
              "      <th>93</th>\n",
              "      <td>23</td>\n",
              "      <td>3.0</td>\n",
              "      <td>3.0</td>\n",
              "      <td>4.0</td>\n",
              "      <td>2.0</td>\n",
              "      <td>3.0</td>\n",
              "      <td>6.0</td>\n",
              "      <td>5.0</td>\n",
              "      <td>4.0</td>\n",
              "      <td>7.0</td>\n",
              "      <td>...</td>\n",
              "      <td>9.0</td>\n",
              "      <td>7.0</td>\n",
              "      <td>5.0</td>\n",
              "      <td>7.0</td>\n",
              "      <td>7.0</td>\n",
              "      <td>6.0</td>\n",
              "      <td>8.0</td>\n",
              "      <td>9.0</td>\n",
              "      <td>6.000000</td>\n",
              "      <td>7.000000</td>\n",
              "    </tr>\n",
              "    <tr>\n",
              "      <th>94</th>\n",
              "      <td>21</td>\n",
              "      <td>3.0</td>\n",
              "      <td>1.0</td>\n",
              "      <td>3.0</td>\n",
              "      <td>1.0</td>\n",
              "      <td>3.0</td>\n",
              "      <td>4.0</td>\n",
              "      <td>4.0</td>\n",
              "      <td>3.0</td>\n",
              "      <td>5.0</td>\n",
              "      <td>...</td>\n",
              "      <td>8.0</td>\n",
              "      <td>3.0</td>\n",
              "      <td>2.0</td>\n",
              "      <td>7.0</td>\n",
              "      <td>5.0</td>\n",
              "      <td>6.0</td>\n",
              "      <td>5.0</td>\n",
              "      <td>8.0</td>\n",
              "      <td>4.000000</td>\n",
              "      <td>4.000000</td>\n",
              "    </tr>\n",
              "    <tr>\n",
              "      <th>95</th>\n",
              "      <td>21</td>\n",
              "      <td>3.0</td>\n",
              "      <td>1.0</td>\n",
              "      <td>3.0</td>\n",
              "      <td>1.0</td>\n",
              "      <td>3.0</td>\n",
              "      <td>4.0</td>\n",
              "      <td>4.0</td>\n",
              "      <td>3.0</td>\n",
              "      <td>5.0</td>\n",
              "      <td>...</td>\n",
              "      <td>8.0</td>\n",
              "      <td>3.0</td>\n",
              "      <td>2.0</td>\n",
              "      <td>7.0</td>\n",
              "      <td>5.0</td>\n",
              "      <td>6.0</td>\n",
              "      <td>5.0</td>\n",
              "      <td>8.0</td>\n",
              "      <td>4.000000</td>\n",
              "      <td>4.000000</td>\n",
              "    </tr>\n",
              "  </tbody>\n",
              "</table>\n",
              "<p>96 rows × 25 columns</p>\n",
              "</div>\n",
              "      <button class=\"colab-df-convert\" onclick=\"convertToInteractive('df-7dd7cdf4-3372-4964-ba1a-aa7393a9cbf6')\"\n",
              "              title=\"Convert this dataframe to an interactive table.\"\n",
              "              style=\"display:none;\">\n",
              "        \n",
              "  <svg xmlns=\"http://www.w3.org/2000/svg\" height=\"24px\"viewBox=\"0 0 24 24\"\n",
              "       width=\"24px\">\n",
              "    <path d=\"M0 0h24v24H0V0z\" fill=\"none\"/>\n",
              "    <path d=\"M18.56 5.44l.94 2.06.94-2.06 2.06-.94-2.06-.94-.94-2.06-.94 2.06-2.06.94zm-11 1L8.5 8.5l.94-2.06 2.06-.94-2.06-.94L8.5 2.5l-.94 2.06-2.06.94zm10 10l.94 2.06.94-2.06 2.06-.94-2.06-.94-.94-2.06-.94 2.06-2.06.94z\"/><path d=\"M17.41 7.96l-1.37-1.37c-.4-.4-.92-.59-1.43-.59-.52 0-1.04.2-1.43.59L10.3 9.45l-7.72 7.72c-.78.78-.78 2.05 0 2.83L4 21.41c.39.39.9.59 1.41.59.51 0 1.02-.2 1.41-.59l7.78-7.78 2.81-2.81c.8-.78.8-2.07 0-2.86zM5.41 20L4 18.59l7.72-7.72 1.47 1.35L5.41 20z\"/>\n",
              "  </svg>\n",
              "      </button>\n",
              "      \n",
              "  <style>\n",
              "    .colab-df-container {\n",
              "      display:flex;\n",
              "      flex-wrap:wrap;\n",
              "      gap: 12px;\n",
              "    }\n",
              "\n",
              "    .colab-df-convert {\n",
              "      background-color: #E8F0FE;\n",
              "      border: none;\n",
              "      border-radius: 50%;\n",
              "      cursor: pointer;\n",
              "      display: none;\n",
              "      fill: #1967D2;\n",
              "      height: 32px;\n",
              "      padding: 0 0 0 0;\n",
              "      width: 32px;\n",
              "    }\n",
              "\n",
              "    .colab-df-convert:hover {\n",
              "      background-color: #E2EBFA;\n",
              "      box-shadow: 0px 1px 2px rgba(60, 64, 67, 0.3), 0px 1px 3px 1px rgba(60, 64, 67, 0.15);\n",
              "      fill: #174EA6;\n",
              "    }\n",
              "\n",
              "    [theme=dark] .colab-df-convert {\n",
              "      background-color: #3B4455;\n",
              "      fill: #D2E3FC;\n",
              "    }\n",
              "\n",
              "    [theme=dark] .colab-df-convert:hover {\n",
              "      background-color: #434B5C;\n",
              "      box-shadow: 0px 1px 3px 1px rgba(0, 0, 0, 0.15);\n",
              "      filter: drop-shadow(0px 1px 2px rgba(0, 0, 0, 0.3));\n",
              "      fill: #FFFFFF;\n",
              "    }\n",
              "  </style>\n",
              "\n",
              "      <script>\n",
              "        const buttonEl =\n",
              "          document.querySelector('#df-7dd7cdf4-3372-4964-ba1a-aa7393a9cbf6 button.colab-df-convert');\n",
              "        buttonEl.style.display =\n",
              "          google.colab.kernel.accessAllowed ? 'block' : 'none';\n",
              "\n",
              "        async function convertToInteractive(key) {\n",
              "          const element = document.querySelector('#df-7dd7cdf4-3372-4964-ba1a-aa7393a9cbf6');\n",
              "          const dataTable =\n",
              "            await google.colab.kernel.invokeFunction('convertToInteractive',\n",
              "                                                     [key], {});\n",
              "          if (!dataTable) return;\n",
              "\n",
              "          const docLinkHtml = 'Like what you see? Visit the ' +\n",
              "            '<a target=\"_blank\" href=https://colab.research.google.com/notebooks/data_table.ipynb>data table notebook</a>'\n",
              "            + ' to learn more about interactive tables.';\n",
              "          element.innerHTML = '';\n",
              "          dataTable['output_type'] = 'display_data';\n",
              "          await google.colab.output.renderOutput(dataTable, element);\n",
              "          const docLink = document.createElement('div');\n",
              "          docLink.innerHTML = docLinkHtml;\n",
              "          element.appendChild(docLink);\n",
              "        }\n",
              "      </script>\n",
              "    </div>\n",
              "  </div>\n",
              "  "
            ]
          },
          "metadata": {},
          "execution_count": 1455
        }
      ],
      "source": [
        "y = data['Test_Score']\n",
        "y\n",
        "x = data.drop(['Test_Score','Name','Occupation','Gender','Field','Top_1','Top_2','Top_3','Id'],axis = 1)\n",
        "x\n",
        "\n"
      ]
    },
    {
      "cell_type": "code",
      "execution_count": null,
      "metadata": {
        "id": "G7o2lWNhjB1Z"
      },
      "outputs": [],
      "source": [
        "Y= y.values\n",
        "X=x.values\n",
        "\n",
        "x_train, x_test, y_train, y_test = train_test_split(X, Y, test_size = 0.3,random_state=20)\n"
      ]
    },
    {
      "cell_type": "markdown",
      "metadata": {
        "id": "EaikNyRjjB1a"
      },
      "source": [
        "Logistic "
      ]
    },
    {
      "cell_type": "code",
      "execution_count": null,
      "metadata": {
        "id": "kIs-RvE8jB1a"
      },
      "outputs": [],
      "source": [
        "lgr= LogisticRegression(solver=\"liblinear\")\n",
        "\n",
        "model =lgr.fit(x_train,y_train)\n",
        "y_pred_lgr= model.predict(x_test)\n",
        "\n"
      ]
    },
    {
      "cell_type": "code",
      "execution_count": null,
      "metadata": {
        "colab": {
          "base_uri": "https://localhost:8080/"
        },
        "id": "G38InomGjB1a",
        "outputId": "7a4b4786-4a90-43f5-928d-9dc895f77941"
      },
      "outputs": [
        {
          "output_type": "execute_result",
          "data": {
            "text/plain": [
              "41.37931034482759"
            ]
          },
          "metadata": {},
          "execution_count": 1458
        }
      ],
      "source": [
        "accuracy_score(y_test, y_pred_lgr)*100\n"
      ]
    },
    {
      "cell_type": "code",
      "execution_count": null,
      "metadata": {
        "colab": {
          "base_uri": "https://localhost:8080/"
        },
        "id": "XigohhUAjB1a",
        "outputId": "16ef5808-0e77-495a-b010-5ff6f4a24912"
      },
      "outputs": [
        {
          "output_type": "stream",
          "name": "stdout",
          "text": [
            "              precision    recall  f1-score   support\n",
            "\n",
            "           0       0.67      0.50      0.57         4\n",
            "           1       0.50      0.27      0.35        11\n",
            "           2       0.38      0.56      0.45         9\n",
            "           3       0.29      0.40      0.33         5\n",
            "\n",
            "    accuracy                           0.41        29\n",
            "   macro avg       0.46      0.43      0.43        29\n",
            "weighted avg       0.45      0.41      0.41        29\n",
            "\n"
          ]
        }
      ],
      "source": [
        "print(classification_report(y_test, y_pred_lgr))"
      ]
    },
    {
      "cell_type": "markdown",
      "metadata": {
        "id": "cNsKSQjwjB1a"
      },
      "source": [
        "Decision Tree"
      ]
    },
    {
      "cell_type": "code",
      "execution_count": null,
      "metadata": {
        "id": "Fdh6WQTfjB1a"
      },
      "outputs": [],
      "source": [
        "tree=DecisionTreeClassifier()\n",
        "tree_model=tree.fit(x_train, y_train)\n",
        "y_pred_tree=tree_model.predict(x_test)\n",
        "\n"
      ]
    },
    {
      "cell_type": "code",
      "execution_count": null,
      "metadata": {
        "colab": {
          "base_uri": "https://localhost:8080/"
        },
        "id": "fJE4YbBvjB1a",
        "outputId": "90622893-c4fd-4449-e3c4-1dab91bfcfa8"
      },
      "outputs": [
        {
          "output_type": "execute_result",
          "data": {
            "text/plain": [
              "17.24137931034483"
            ]
          },
          "metadata": {},
          "execution_count": 1461
        }
      ],
      "source": [
        "accuracy_score(y_test, y_pred_tree)*100"
      ]
    },
    {
      "cell_type": "code",
      "execution_count": null,
      "metadata": {
        "colab": {
          "base_uri": "https://localhost:8080/"
        },
        "id": "WtMBWLW5jB1a",
        "outputId": "428c263b-a3b7-4c3a-b33c-c67ecf165d1d"
      },
      "outputs": [
        {
          "output_type": "stream",
          "name": "stdout",
          "text": [
            "              precision    recall  f1-score   support\n",
            "\n",
            "           0       0.20      0.50      0.29         4\n",
            "           1       0.14      0.09      0.11        11\n",
            "           2       0.25      0.22      0.24         9\n",
            "           3       0.00      0.00      0.00         5\n",
            "\n",
            "    accuracy                           0.17        29\n",
            "   macro avg       0.15      0.20      0.16        29\n",
            "weighted avg       0.16      0.17      0.15        29\n",
            "\n"
          ]
        }
      ],
      "source": [
        "print(classification_report(y_test, y_pred_tree))"
      ]
    },
    {
      "cell_type": "markdown",
      "metadata": {
        "id": "Vas5ETu6jB1b"
      },
      "source": [
        "SVM"
      ]
    },
    {
      "cell_type": "code",
      "execution_count": null,
      "metadata": {
        "id": "ooLanIFYjB1b"
      },
      "outputs": [],
      "source": [
        "svc=svm.SVC()\n",
        "model_svc= svc.fit(x_train, y_train)\n",
        "y_pred_svc= model_svc.predict(x_test)\n",
        "\n"
      ]
    },
    {
      "cell_type": "code",
      "execution_count": null,
      "metadata": {
        "colab": {
          "base_uri": "https://localhost:8080/"
        },
        "id": "fbLE8dzPjB1b",
        "outputId": "d7d7ab20-5fff-4513-9fef-ffce3c780149"
      },
      "outputs": [
        {
          "output_type": "execute_result",
          "data": {
            "text/plain": [
              "20.689655172413794"
            ]
          },
          "metadata": {},
          "execution_count": 1464
        }
      ],
      "source": [
        "accuracy_score(y_test, y_pred_svc)*100\n"
      ]
    },
    {
      "cell_type": "code",
      "execution_count": null,
      "metadata": {
        "colab": {
          "base_uri": "https://localhost:8080/"
        },
        "id": "yLzFYrsljB1b",
        "outputId": "d549e289-e1b2-4a66-f95b-849bccb01cc9"
      },
      "outputs": [
        {
          "output_type": "stream",
          "name": "stdout",
          "text": [
            "              precision    recall  f1-score   support\n",
            "\n",
            "           0       0.00      0.00      0.00         4\n",
            "           1       0.00      0.00      0.00        11\n",
            "           2       0.26      0.67      0.38         9\n",
            "           3       0.00      0.00      0.00         5\n",
            "\n",
            "    accuracy                           0.21        29\n",
            "   macro avg       0.07      0.17      0.09        29\n",
            "weighted avg       0.08      0.21      0.12        29\n",
            "\n"
          ]
        },
        {
          "output_type": "stream",
          "name": "stderr",
          "text": [
            "/usr/local/lib/python3.8/dist-packages/sklearn/metrics/_classification.py:1318: UndefinedMetricWarning: Precision and F-score are ill-defined and being set to 0.0 in labels with no predicted samples. Use `zero_division` parameter to control this behavior.\n",
            "  _warn_prf(average, modifier, msg_start, len(result))\n",
            "/usr/local/lib/python3.8/dist-packages/sklearn/metrics/_classification.py:1318: UndefinedMetricWarning: Precision and F-score are ill-defined and being set to 0.0 in labels with no predicted samples. Use `zero_division` parameter to control this behavior.\n",
            "  _warn_prf(average, modifier, msg_start, len(result))\n",
            "/usr/local/lib/python3.8/dist-packages/sklearn/metrics/_classification.py:1318: UndefinedMetricWarning: Precision and F-score are ill-defined and being set to 0.0 in labels with no predicted samples. Use `zero_division` parameter to control this behavior.\n",
            "  _warn_prf(average, modifier, msg_start, len(result))\n"
          ]
        }
      ],
      "source": [
        "print(classification_report(y_test, y_pred_svc))"
      ]
    },
    {
      "cell_type": "markdown",
      "metadata": {
        "id": "_aDf-XFpjB1b"
      },
      "source": [
        "Random forest"
      ]
    },
    {
      "cell_type": "code",
      "execution_count": null,
      "metadata": {
        "id": "Jxk7kyYRjB1b"
      },
      "outputs": [],
      "source": [
        "regressor =RandomForestClassifier()\n",
        "model_rf =regressor.fit(x_train,y_train)\n",
        "y_pred_rf= model.predict(x_test)\n"
      ]
    },
    {
      "cell_type": "code",
      "execution_count": null,
      "metadata": {
        "colab": {
          "base_uri": "https://localhost:8080/"
        },
        "id": "CxX3WoCEjB1c",
        "outputId": "e47a9e49-3c93-4dc3-b69f-665cd85b83a4"
      },
      "outputs": [
        {
          "output_type": "execute_result",
          "data": {
            "text/plain": [
              "41.37931034482759"
            ]
          },
          "metadata": {},
          "execution_count": 1467
        }
      ],
      "source": [
        "accuracy_score(y_test, y_pred_rf)*100\n"
      ]
    },
    {
      "cell_type": "code",
      "execution_count": null,
      "metadata": {
        "colab": {
          "base_uri": "https://localhost:8080/"
        },
        "id": "1ujuk9JdjB1c",
        "outputId": "a5b4c584-e89a-4754-ecc2-63d0066fcae1"
      },
      "outputs": [
        {
          "output_type": "stream",
          "name": "stdout",
          "text": [
            "              precision    recall  f1-score   support\n",
            "\n",
            "           0       0.67      0.50      0.57         4\n",
            "           1       0.50      0.27      0.35        11\n",
            "           2       0.38      0.56      0.45         9\n",
            "           3       0.29      0.40      0.33         5\n",
            "\n",
            "    accuracy                           0.41        29\n",
            "   macro avg       0.46      0.43      0.43        29\n",
            "weighted avg       0.45      0.41      0.41        29\n",
            "\n"
          ]
        }
      ],
      "source": [
        "print(classification_report(y_test, y_pred_rf))"
      ]
    },
    {
      "cell_type": "markdown",
      "metadata": {
        "id": "yEJN0UypjB1c"
      },
      "source": [
        "KNN"
      ]
    },
    {
      "cell_type": "code",
      "execution_count": null,
      "metadata": {
        "id": "2P3rkQJsjB1c"
      },
      "outputs": [],
      "source": [
        "knn=KNeighborsClassifier(n_neighbors=30, algorithm='kd_tree')\n",
        "knn_model=knn.fit(x_train, y_train)\n",
        "y_pred_KNN= knn_model.predict(x_test)\n",
        "\n"
      ]
    },
    {
      "cell_type": "code",
      "execution_count": null,
      "metadata": {
        "colab": {
          "base_uri": "https://localhost:8080/"
        },
        "id": "8cOO5aI-jB1c",
        "outputId": "8c04b94f-d299-43d1-adb8-468e099a3f08"
      },
      "outputs": [
        {
          "output_type": "execute_result",
          "data": {
            "text/plain": [
              "24.137931034482758"
            ]
          },
          "metadata": {},
          "execution_count": 1470
        }
      ],
      "source": [
        "accuracy_score(y_test, y_pred_KNN)*100\n"
      ]
    },
    {
      "cell_type": "code",
      "execution_count": null,
      "metadata": {
        "colab": {
          "base_uri": "https://localhost:8080/"
        },
        "id": "5b0mZpzHjB1c",
        "outputId": "b007876c-827d-43f5-97a5-ee603cfe5bfd"
      },
      "outputs": [
        {
          "output_type": "stream",
          "name": "stdout",
          "text": [
            "              precision    recall  f1-score   support\n",
            "\n",
            "           0       0.00      0.00      0.00         4\n",
            "           1       0.33      0.09      0.14        11\n",
            "           2       0.26      0.56      0.36         9\n",
            "           3       0.14      0.20      0.17         5\n",
            "\n",
            "    accuracy                           0.24        29\n",
            "   macro avg       0.18      0.21      0.17        29\n",
            "weighted avg       0.23      0.24      0.19        29\n",
            "\n"
          ]
        },
        {
          "output_type": "stream",
          "name": "stderr",
          "text": [
            "/usr/local/lib/python3.8/dist-packages/sklearn/metrics/_classification.py:1318: UndefinedMetricWarning: Precision and F-score are ill-defined and being set to 0.0 in labels with no predicted samples. Use `zero_division` parameter to control this behavior.\n",
            "  _warn_prf(average, modifier, msg_start, len(result))\n",
            "/usr/local/lib/python3.8/dist-packages/sklearn/metrics/_classification.py:1318: UndefinedMetricWarning: Precision and F-score are ill-defined and being set to 0.0 in labels with no predicted samples. Use `zero_division` parameter to control this behavior.\n",
            "  _warn_prf(average, modifier, msg_start, len(result))\n",
            "/usr/local/lib/python3.8/dist-packages/sklearn/metrics/_classification.py:1318: UndefinedMetricWarning: Precision and F-score are ill-defined and being set to 0.0 in labels with no predicted samples. Use `zero_division` parameter to control this behavior.\n",
            "  _warn_prf(average, modifier, msg_start, len(result))\n"
          ]
        }
      ],
      "source": [
        "print(classification_report(y_test, y_pred_KNN))"
      ]
    },
    {
      "cell_type": "markdown",
      "metadata": {
        "id": "HKE-EnuljB1c"
      },
      "source": [
        "Neural network\n"
      ]
    },
    {
      "cell_type": "code",
      "execution_count": null,
      "metadata": {
        "colab": {
          "base_uri": "https://localhost:8080/"
        },
        "id": "9E7JVPcljB1c",
        "outputId": "f9260860-a0a6-4bdd-f14d-1dad4137977c"
      },
      "outputs": [
        {
          "output_type": "stream",
          "name": "stderr",
          "text": [
            "/usr/local/lib/python3.8/dist-packages/sklearn/neural_network/_multilayer_perceptron.py:692: ConvergenceWarning: Stochastic Optimizer: Maximum iterations (200) reached and the optimization hasn't converged yet.\n",
            "  warnings.warn(\n"
          ]
        }
      ],
      "source": [
        "scaler=StandardScaler()\n",
        "scaler.fit(x_train)\n",
        "X_scaled=scaler.transform(x_train)\n",
        "test_scaled=scaler.transform(x_test)\n",
        "mlpc=MLPClassifier().fit(X_scaled, y_train)\n",
        "y_pred_networks=mlpc.predict(test_scaled)\n",
        "\n"
      ]
    },
    {
      "cell_type": "code",
      "execution_count": null,
      "metadata": {
        "colab": {
          "base_uri": "https://localhost:8080/"
        },
        "id": "mhJ7KCKVjB1d",
        "outputId": "b1247836-2ec1-49c2-b116-39e30af23171"
      },
      "outputs": [
        {
          "output_type": "execute_result",
          "data": {
            "text/plain": [
              "27.586206896551722"
            ]
          },
          "metadata": {},
          "execution_count": 1473
        }
      ],
      "source": [
        "accuracy_score(y_test, y_pred_networks)*100\n"
      ]
    },
    {
      "cell_type": "code",
      "execution_count": null,
      "metadata": {
        "colab": {
          "base_uri": "https://localhost:8080/"
        },
        "id": "qDZqmR5BjB1d",
        "outputId": "98889855-4062-4d53-c71e-814406ad0ebd"
      },
      "outputs": [
        {
          "output_type": "stream",
          "name": "stdout",
          "text": [
            "              precision    recall  f1-score   support\n",
            "\n",
            "           0       0.67      0.50      0.57         4\n",
            "           1       0.20      0.09      0.13        11\n",
            "           2       0.31      0.44      0.36         9\n",
            "           3       0.12      0.20      0.15         5\n",
            "\n",
            "    accuracy                           0.28        29\n",
            "   macro avg       0.32      0.31      0.30        29\n",
            "weighted avg       0.28      0.28      0.27        29\n",
            "\n"
          ]
        }
      ],
      "source": [
        "print(classification_report(y_test, y_pred_networks))"
      ]
    },
    {
      "cell_type": "markdown",
      "metadata": {
        "id": "_bfhlnRPjB1d"
      },
      "source": [
        "# Navias "
      ]
    },
    {
      "cell_type": "code",
      "execution_count": null,
      "metadata": {
        "id": "S1p5JGtJjB1d"
      },
      "outputs": [],
      "source": [
        "from sklearn.naive_bayes import GaussianNB\n",
        "gnb = GaussianNB()\n",
        "gnb.fit(x_train, y_train)\n",
        "y_pred_nav = gnb.predict(x_test)\n",
        "\n"
      ]
    },
    {
      "cell_type": "code",
      "execution_count": null,
      "metadata": {
        "colab": {
          "base_uri": "https://localhost:8080/"
        },
        "id": "SWqd5p1mjB1d",
        "outputId": "725e788c-1164-412e-c5cd-5b4f67c55723"
      },
      "outputs": [
        {
          "output_type": "execute_result",
          "data": {
            "text/plain": [
              "10.344827586206897"
            ]
          },
          "metadata": {},
          "execution_count": 1476
        }
      ],
      "source": [
        "accuracy_score(y_test, y_pred_nav)*100\n",
        "\n"
      ]
    },
    {
      "cell_type": "code",
      "execution_count": null,
      "metadata": {
        "colab": {
          "base_uri": "https://localhost:8080/"
        },
        "id": "jZuwc9VijB1d",
        "outputId": "549e1cbe-b6d5-4b13-e279-cfd3d3e2c2fc"
      },
      "outputs": [
        {
          "output_type": "stream",
          "name": "stdout",
          "text": [
            "              precision    recall  f1-score   support\n",
            "\n",
            "           0       0.25      0.25      0.25         4\n",
            "           1       0.00      0.00      0.00        11\n",
            "           2       0.20      0.22      0.21         9\n",
            "           3       0.00      0.00      0.00         5\n",
            "\n",
            "    accuracy                           0.10        29\n",
            "   macro avg       0.11      0.12      0.12        29\n",
            "weighted avg       0.10      0.10      0.10        29\n",
            "\n"
          ]
        },
        {
          "output_type": "stream",
          "name": "stderr",
          "text": [
            "/usr/local/lib/python3.8/dist-packages/sklearn/metrics/_classification.py:1318: UndefinedMetricWarning: Precision and F-score are ill-defined and being set to 0.0 in labels with no predicted samples. Use `zero_division` parameter to control this behavior.\n",
            "  _warn_prf(average, modifier, msg_start, len(result))\n",
            "/usr/local/lib/python3.8/dist-packages/sklearn/metrics/_classification.py:1318: UndefinedMetricWarning: Precision and F-score are ill-defined and being set to 0.0 in labels with no predicted samples. Use `zero_division` parameter to control this behavior.\n",
            "  _warn_prf(average, modifier, msg_start, len(result))\n",
            "/usr/local/lib/python3.8/dist-packages/sklearn/metrics/_classification.py:1318: UndefinedMetricWarning: Precision and F-score are ill-defined and being set to 0.0 in labels with no predicted samples. Use `zero_division` parameter to control this behavior.\n",
            "  _warn_prf(average, modifier, msg_start, len(result))\n"
          ]
        }
      ],
      "source": [
        "print(classification_report(y_test, y_pred_nav))"
      ]
    },
    {
      "cell_type": "code",
      "execution_count": null,
      "metadata": {
        "colab": {
          "base_uri": "https://localhost:8080/"
        },
        "id": "IdKEKnSWjB1d",
        "outputId": "56f2f91a-1851-44fe-f39c-df15ba52f7d0"
      },
      "outputs": [
        {
          "output_type": "stream",
          "name": "stdout",
          "text": [
            "20.689655172413794\n",
            "13.793103448275861\n",
            "24.137931034482758\n"
          ]
        }
      ],
      "source": [
        "from sklearn.ensemble import AdaBoostClassifier\n",
        "from sklearn.tree import ExtraTreeClassifier\n",
        "from xgboost import XGBClassifier\n",
        "\n",
        "# x_train, x_test, y_train, y_test = train_test_split(X, Y, test_size = 0.3)\n",
        "\n",
        "ext =ExtraTreeClassifier()\n",
        "ext.fit(x_train, y_train)\n",
        "y_pred_ex = ext.predict(x_test)\n",
        "print (accuracy_score(y_test, y_pred_ex)*100)\n",
        "\n",
        "ada=AdaBoostClassifier()\n",
        "ada.fit(x_train, y_train)\n",
        "y_pred_ada= ada.predict(x_test)\n",
        "print (accuracy_score(y_test, y_pred_ada)*100)\n",
        "\n",
        "xbg= XGBClassifier()\n",
        "xbg.fit(x_train, y_train)\n",
        "y_pred_gb = xbg.predict(x_test)\n",
        "print (accuracy_score(y_test, y_pred_gb)*100)\n",
        "\n"
      ]
    },
    {
      "cell_type": "code",
      "execution_count": null,
      "metadata": {
        "colab": {
          "base_uri": "https://localhost:8080/"
        },
        "id": "DSRtu1kxjB1e",
        "outputId": "f24424d2-9e3c-4996-90cf-6e2a470842c5"
      },
      "outputs": [
        {
          "output_type": "stream",
          "name": "stdout",
          "text": [
            "The accuracy was 20.69%\n"
          ]
        }
      ],
      "source": [
        "from sklearn.naive_bayes import MultinomialNB\n",
        "\n",
        "\n",
        "model = MultinomialNB()\n",
        "\n",
        "model.fit(x_train, y_train)\n",
        "predictions = model.predict(x_test)\n",
        "accuracy = accuracy_score(y_test, predictions) * 100\n",
        "print(\"The accuracy was %.2f%%\" % accuracy)"
      ]
    },
    {
      "cell_type": "code",
      "execution_count": null,
      "metadata": {
        "colab": {
          "base_uri": "https://localhost:8080/",
          "height": 386
        },
        "id": "n5h-RwGEjB1e",
        "outputId": "a8fcafb2-27cb-4b41-e06f-b2dfe7fd768f"
      },
      "outputs": [
        {
          "output_type": "execute_result",
          "data": {
            "text/plain": [
              "   Id             Name  Gender Field      Occupation  Age  Interface_1  \\\n",
              "0   1    Nouran khaled  Female    CS  Senior Student   21          6.0   \n",
              "1   2  Tasneem Mohamed  Female    CS  Senior Student   21          8.0   \n",
              "2   3     Omaima Ahmed  Female    CS  Senior Student   23          9.0   \n",
              "3   4     Maryam Walid  Female    CS         Student   20          6.0   \n",
              "4   5      Yehia Sameh    Male    CS         Student   19          5.0   \n",
              "\n",
              "   Interface_2  Interface_3  Interface_4  ...  Interface_11  Interface_12  \\\n",
              "0          6.0          5.0          5.0  ...           6.0           7.0   \n",
              "1          7.0          7.0          6.0  ...           8.0           7.0   \n",
              "2          8.5          7.0          6.0  ...           8.0           6.0   \n",
              "3          5.5          5.0          6.0  ...           6.0           6.5   \n",
              "4          3.0          4.0          4.0  ...           6.0           4.0   \n",
              "\n",
              "   Interface_13  Interface_14  Interface_15  Interface_16  Interface_17  \\\n",
              "0           8.0           7.0           7.0           7.0           6.0   \n",
              "1           9.0           8.0           8.0           7.0           8.0   \n",
              "2           8.0           5.0           7.0           7.0           9.0   \n",
              "3           7.5           7.0           7.0           8.0           7.5   \n",
              "4           8.0           6.0           7.0           6.0           8.0   \n",
              "\n",
              "   Extra_interface_1  Extra_interface_2  Test_Score  \n",
              "0           7.000000           5.000000           0  \n",
              "1           6.000000           9.000000           1  \n",
              "2           6.000000           7.000000           0  \n",
              "3           6.500000           9.000000           1  \n",
              "4           6.152809           6.114607           0  \n",
              "\n",
              "[5 rows x 26 columns]"
            ],
            "text/html": [
              "\n",
              "  <div id=\"df-bf239a4d-9b68-41a7-861e-e91db4bfcf75\">\n",
              "    <div class=\"colab-df-container\">\n",
              "      <div>\n",
              "<style scoped>\n",
              "    .dataframe tbody tr th:only-of-type {\n",
              "        vertical-align: middle;\n",
              "    }\n",
              "\n",
              "    .dataframe tbody tr th {\n",
              "        vertical-align: top;\n",
              "    }\n",
              "\n",
              "    .dataframe thead th {\n",
              "        text-align: right;\n",
              "    }\n",
              "</style>\n",
              "<table border=\"1\" class=\"dataframe\">\n",
              "  <thead>\n",
              "    <tr style=\"text-align: right;\">\n",
              "      <th></th>\n",
              "      <th>Id</th>\n",
              "      <th>Name</th>\n",
              "      <th>Gender</th>\n",
              "      <th>Field</th>\n",
              "      <th>Occupation</th>\n",
              "      <th>Age</th>\n",
              "      <th>Interface_1</th>\n",
              "      <th>Interface_2</th>\n",
              "      <th>Interface_3</th>\n",
              "      <th>Interface_4</th>\n",
              "      <th>...</th>\n",
              "      <th>Interface_11</th>\n",
              "      <th>Interface_12</th>\n",
              "      <th>Interface_13</th>\n",
              "      <th>Interface_14</th>\n",
              "      <th>Interface_15</th>\n",
              "      <th>Interface_16</th>\n",
              "      <th>Interface_17</th>\n",
              "      <th>Extra_interface_1</th>\n",
              "      <th>Extra_interface_2</th>\n",
              "      <th>Test_Score</th>\n",
              "    </tr>\n",
              "  </thead>\n",
              "  <tbody>\n",
              "    <tr>\n",
              "      <th>0</th>\n",
              "      <td>1</td>\n",
              "      <td>Nouran khaled</td>\n",
              "      <td>Female</td>\n",
              "      <td>CS</td>\n",
              "      <td>Senior Student</td>\n",
              "      <td>21</td>\n",
              "      <td>6.0</td>\n",
              "      <td>6.0</td>\n",
              "      <td>5.0</td>\n",
              "      <td>5.0</td>\n",
              "      <td>...</td>\n",
              "      <td>6.0</td>\n",
              "      <td>7.0</td>\n",
              "      <td>8.0</td>\n",
              "      <td>7.0</td>\n",
              "      <td>7.0</td>\n",
              "      <td>7.0</td>\n",
              "      <td>6.0</td>\n",
              "      <td>7.000000</td>\n",
              "      <td>5.000000</td>\n",
              "      <td>0</td>\n",
              "    </tr>\n",
              "    <tr>\n",
              "      <th>1</th>\n",
              "      <td>2</td>\n",
              "      <td>Tasneem Mohamed</td>\n",
              "      <td>Female</td>\n",
              "      <td>CS</td>\n",
              "      <td>Senior Student</td>\n",
              "      <td>21</td>\n",
              "      <td>8.0</td>\n",
              "      <td>7.0</td>\n",
              "      <td>7.0</td>\n",
              "      <td>6.0</td>\n",
              "      <td>...</td>\n",
              "      <td>8.0</td>\n",
              "      <td>7.0</td>\n",
              "      <td>9.0</td>\n",
              "      <td>8.0</td>\n",
              "      <td>8.0</td>\n",
              "      <td>7.0</td>\n",
              "      <td>8.0</td>\n",
              "      <td>6.000000</td>\n",
              "      <td>9.000000</td>\n",
              "      <td>1</td>\n",
              "    </tr>\n",
              "    <tr>\n",
              "      <th>2</th>\n",
              "      <td>3</td>\n",
              "      <td>Omaima Ahmed</td>\n",
              "      <td>Female</td>\n",
              "      <td>CS</td>\n",
              "      <td>Senior Student</td>\n",
              "      <td>23</td>\n",
              "      <td>9.0</td>\n",
              "      <td>8.5</td>\n",
              "      <td>7.0</td>\n",
              "      <td>6.0</td>\n",
              "      <td>...</td>\n",
              "      <td>8.0</td>\n",
              "      <td>6.0</td>\n",
              "      <td>8.0</td>\n",
              "      <td>5.0</td>\n",
              "      <td>7.0</td>\n",
              "      <td>7.0</td>\n",
              "      <td>9.0</td>\n",
              "      <td>6.000000</td>\n",
              "      <td>7.000000</td>\n",
              "      <td>0</td>\n",
              "    </tr>\n",
              "    <tr>\n",
              "      <th>3</th>\n",
              "      <td>4</td>\n",
              "      <td>Maryam Walid</td>\n",
              "      <td>Female</td>\n",
              "      <td>CS</td>\n",
              "      <td>Student</td>\n",
              "      <td>20</td>\n",
              "      <td>6.0</td>\n",
              "      <td>5.5</td>\n",
              "      <td>5.0</td>\n",
              "      <td>6.0</td>\n",
              "      <td>...</td>\n",
              "      <td>6.0</td>\n",
              "      <td>6.5</td>\n",
              "      <td>7.5</td>\n",
              "      <td>7.0</td>\n",
              "      <td>7.0</td>\n",
              "      <td>8.0</td>\n",
              "      <td>7.5</td>\n",
              "      <td>6.500000</td>\n",
              "      <td>9.000000</td>\n",
              "      <td>1</td>\n",
              "    </tr>\n",
              "    <tr>\n",
              "      <th>4</th>\n",
              "      <td>5</td>\n",
              "      <td>Yehia Sameh</td>\n",
              "      <td>Male</td>\n",
              "      <td>CS</td>\n",
              "      <td>Student</td>\n",
              "      <td>19</td>\n",
              "      <td>5.0</td>\n",
              "      <td>3.0</td>\n",
              "      <td>4.0</td>\n",
              "      <td>4.0</td>\n",
              "      <td>...</td>\n",
              "      <td>6.0</td>\n",
              "      <td>4.0</td>\n",
              "      <td>8.0</td>\n",
              "      <td>6.0</td>\n",
              "      <td>7.0</td>\n",
              "      <td>6.0</td>\n",
              "      <td>8.0</td>\n",
              "      <td>6.152809</td>\n",
              "      <td>6.114607</td>\n",
              "      <td>0</td>\n",
              "    </tr>\n",
              "  </tbody>\n",
              "</table>\n",
              "<p>5 rows × 26 columns</p>\n",
              "</div>\n",
              "      <button class=\"colab-df-convert\" onclick=\"convertToInteractive('df-bf239a4d-9b68-41a7-861e-e91db4bfcf75')\"\n",
              "              title=\"Convert this dataframe to an interactive table.\"\n",
              "              style=\"display:none;\">\n",
              "        \n",
              "  <svg xmlns=\"http://www.w3.org/2000/svg\" height=\"24px\"viewBox=\"0 0 24 24\"\n",
              "       width=\"24px\">\n",
              "    <path d=\"M0 0h24v24H0V0z\" fill=\"none\"/>\n",
              "    <path d=\"M18.56 5.44l.94 2.06.94-2.06 2.06-.94-2.06-.94-.94-2.06-.94 2.06-2.06.94zm-11 1L8.5 8.5l.94-2.06 2.06-.94-2.06-.94L8.5 2.5l-.94 2.06-2.06.94zm10 10l.94 2.06.94-2.06 2.06-.94-2.06-.94-.94-2.06-.94 2.06-2.06.94z\"/><path d=\"M17.41 7.96l-1.37-1.37c-.4-.4-.92-.59-1.43-.59-.52 0-1.04.2-1.43.59L10.3 9.45l-7.72 7.72c-.78.78-.78 2.05 0 2.83L4 21.41c.39.39.9.59 1.41.59.51 0 1.02-.2 1.41-.59l7.78-7.78 2.81-2.81c.8-.78.8-2.07 0-2.86zM5.41 20L4 18.59l7.72-7.72 1.47 1.35L5.41 20z\"/>\n",
              "  </svg>\n",
              "      </button>\n",
              "      \n",
              "  <style>\n",
              "    .colab-df-container {\n",
              "      display:flex;\n",
              "      flex-wrap:wrap;\n",
              "      gap: 12px;\n",
              "    }\n",
              "\n",
              "    .colab-df-convert {\n",
              "      background-color: #E8F0FE;\n",
              "      border: none;\n",
              "      border-radius: 50%;\n",
              "      cursor: pointer;\n",
              "      display: none;\n",
              "      fill: #1967D2;\n",
              "      height: 32px;\n",
              "      padding: 0 0 0 0;\n",
              "      width: 32px;\n",
              "    }\n",
              "\n",
              "    .colab-df-convert:hover {\n",
              "      background-color: #E2EBFA;\n",
              "      box-shadow: 0px 1px 2px rgba(60, 64, 67, 0.3), 0px 1px 3px 1px rgba(60, 64, 67, 0.15);\n",
              "      fill: #174EA6;\n",
              "    }\n",
              "\n",
              "    [theme=dark] .colab-df-convert {\n",
              "      background-color: #3B4455;\n",
              "      fill: #D2E3FC;\n",
              "    }\n",
              "\n",
              "    [theme=dark] .colab-df-convert:hover {\n",
              "      background-color: #434B5C;\n",
              "      box-shadow: 0px 1px 3px 1px rgba(0, 0, 0, 0.15);\n",
              "      filter: drop-shadow(0px 1px 2px rgba(0, 0, 0, 0.3));\n",
              "      fill: #FFFFFF;\n",
              "    }\n",
              "  </style>\n",
              "\n",
              "      <script>\n",
              "        const buttonEl =\n",
              "          document.querySelector('#df-bf239a4d-9b68-41a7-861e-e91db4bfcf75 button.colab-df-convert');\n",
              "        buttonEl.style.display =\n",
              "          google.colab.kernel.accessAllowed ? 'block' : 'none';\n",
              "\n",
              "        async function convertToInteractive(key) {\n",
              "          const element = document.querySelector('#df-bf239a4d-9b68-41a7-861e-e91db4bfcf75');\n",
              "          const dataTable =\n",
              "            await google.colab.kernel.invokeFunction('convertToInteractive',\n",
              "                                                     [key], {});\n",
              "          if (!dataTable) return;\n",
              "\n",
              "          const docLinkHtml = 'Like what you see? Visit the ' +\n",
              "            '<a target=\"_blank\" href=https://colab.research.google.com/notebooks/data_table.ipynb>data table notebook</a>'\n",
              "            + ' to learn more about interactive tables.';\n",
              "          element.innerHTML = '';\n",
              "          dataTable['output_type'] = 'display_data';\n",
              "          await google.colab.output.renderOutput(dataTable, element);\n",
              "          const docLink = document.createElement('div');\n",
              "          docLink.innerHTML = docLinkHtml;\n",
              "          element.appendChild(docLink);\n",
              "        }\n",
              "      </script>\n",
              "    </div>\n",
              "  </div>\n",
              "  "
            ]
          },
          "metadata": {},
          "execution_count": 1480
        }
      ],
      "source": [
        "data_spl= data.drop(['Openness','Extraversion','Agreeableness','Conscientiousness','Neuroticism','Top_1','Top_2','Top_3'],axis = 1)\n",
        "data_spl.head(5)"
      ]
    },
    {
      "cell_type": "code",
      "execution_count": null,
      "metadata": {
        "id": "KgHSGtCBjB1e"
      },
      "outputs": [],
      "source": [
        "\n",
        "y = data_spl['Test_Score']\n",
        "y\n",
        "x = data_spl.drop(['Test_Score','Name','Occupation','Gender','Field','Id'],axis = 1)\n",
        "\n"
      ]
    },
    {
      "cell_type": "code",
      "execution_count": null,
      "metadata": {
        "id": "unBj3A_2jB1e"
      },
      "outputs": [],
      "source": [
        "Y= y.values\n",
        "X=x.values\n",
        "\n",
        "x_train, x_test, y_train, y_test = train_test_split(X, Y, test_size = 0.30,random_state=42)"
      ]
    },
    {
      "cell_type": "code",
      "execution_count": null,
      "metadata": {
        "id": "AhxUG6jFjB1e"
      },
      "outputs": [],
      "source": [
        "lgr= LogisticRegression(solver=\"liblinear\")\n",
        "\n",
        "model =lgr.fit(x_train,y_train)\n",
        "y_pred_lgr= model.predict(x_test)\n"
      ]
    },
    {
      "cell_type": "code",
      "execution_count": null,
      "metadata": {
        "colab": {
          "base_uri": "https://localhost:8080/"
        },
        "id": "MUVCl9UzjB1e",
        "outputId": "067b820d-5998-46c6-de29-cb423360c219"
      },
      "outputs": [
        {
          "output_type": "execute_result",
          "data": {
            "text/plain": [
              "20.689655172413794"
            ]
          },
          "metadata": {},
          "execution_count": 1484
        }
      ],
      "source": [
        "accuracy_score(y_test, y_pred_lgr)*100"
      ]
    },
    {
      "cell_type": "code",
      "execution_count": null,
      "metadata": {
        "id": "efKrFqyYjB1e"
      },
      "outputs": [],
      "source": [
        "tree=DecisionTreeClassifier()\n",
        "tree_model=tree.fit(x_train, y_train)\n",
        "y_pred_tree=tree_model.predict(x_test)\n"
      ]
    },
    {
      "cell_type": "code",
      "execution_count": null,
      "metadata": {
        "colab": {
          "base_uri": "https://localhost:8080/"
        },
        "id": "V-jI8JTtjB1f",
        "outputId": "b104a574-83a8-49ac-8fe1-15c16acd659e"
      },
      "outputs": [
        {
          "output_type": "execute_result",
          "data": {
            "text/plain": [
              "31.03448275862069"
            ]
          },
          "metadata": {},
          "execution_count": 1486
        }
      ],
      "source": [
        "accuracy_score(y_test, y_pred_tree)*100"
      ]
    },
    {
      "cell_type": "code",
      "execution_count": null,
      "metadata": {
        "colab": {
          "base_uri": "https://localhost:8080/"
        },
        "id": "lQBzJsLXjB1f",
        "outputId": "09af474f-6400-4d6e-8952-7fea68556b4f"
      },
      "outputs": [
        {
          "output_type": "execute_result",
          "data": {
            "text/plain": [
              "24.137931034482758"
            ]
          },
          "metadata": {},
          "execution_count": 1487
        }
      ],
      "source": [
        "svc=svm.SVC()\n",
        "model_svc= svc.fit(x_train, y_train)\n",
        "y_pred_svc= model_svc.predict(x_test)\n",
        "accuracy_score(y_test, y_pred_svc)*100"
      ]
    },
    {
      "cell_type": "code",
      "execution_count": null,
      "metadata": {
        "colab": {
          "base_uri": "https://localhost:8080/"
        },
        "id": "0bpUjDqOjB1f",
        "outputId": "e331c82d-90a0-4ba9-f3ef-9f8551f323a7"
      },
      "outputs": [
        {
          "output_type": "execute_result",
          "data": {
            "text/plain": [
              "31.03448275862069"
            ]
          },
          "metadata": {},
          "execution_count": 1488
        }
      ],
      "source": [
        "knn=KNeighborsClassifier(n_neighbors=30, algorithm='kd_tree')\n",
        "knn_model=knn.fit(x_train, y_train)\n",
        "y_pred_KNN= knn_model.predict(x_test)\n",
        "\n",
        "accuracy_score(y_test, y_pred_KNN)*100"
      ]
    },
    {
      "cell_type": "code",
      "execution_count": null,
      "metadata": {
        "colab": {
          "base_uri": "https://localhost:8080/"
        },
        "id": "Bb9b0OCTjB1f",
        "outputId": "8c9537bc-7e0a-4a67-9ea3-28f142ec96e6"
      },
      "outputs": [
        {
          "output_type": "stream",
          "name": "stdout",
          "text": [
            "31.03448275862069\n",
            "27.586206896551722\n",
            "24.137931034482758\n"
          ]
        }
      ],
      "source": [
        "ext =ExtraTreeClassifier()\n",
        "ext.fit(x_train, y_train)\n",
        "y_pred_ex = ext.predict(x_test)\n",
        "print (accuracy_score(y_test, y_pred_ex)*100)\n",
        "\n",
        "ada=AdaBoostClassifier()\n",
        "ada.fit(x_train, y_train)\n",
        "y_pred_ada= ada.predict(x_test)\n",
        "print (accuracy_score(y_test, y_pred_ada)*100)\n",
        "\n",
        "xbg=XGBClassifier()\n",
        "xbg.fit(x_train, y_train)\n",
        "y_pred_gb = xbg.predict(x_test)\n",
        "print (accuracy_score(y_test, y_pred_gb)*100)\n"
      ]
    },
    {
      "cell_type": "code",
      "execution_count": null,
      "metadata": {
        "colab": {
          "base_uri": "https://localhost:8080/"
        },
        "id": "l_730vDBjB1g",
        "outputId": "45c352a0-a779-4a15-88f3-41ff7369fa36"
      },
      "outputs": [
        {
          "output_type": "stream",
          "name": "stdout",
          "text": [
            "20.689655172413794\n"
          ]
        }
      ],
      "source": [
        "regressor =RandomForestClassifier()\n",
        "model_rf =regressor.fit(x_train,y_train)\n",
        "y_pred_rf= model.predict(x_test)\n",
        "print (accuracy_score(y_test, y_pred_rf)*100)\n"
      ]
    },
    {
      "cell_type": "code",
      "execution_count": null,
      "metadata": {
        "colab": {
          "base_uri": "https://localhost:8080/"
        },
        "id": "7l9G4Y9ZjB1g",
        "outputId": "2e48aa37-34b4-4638-baab-6afadfac95b0"
      },
      "outputs": [
        {
          "output_type": "stream",
          "name": "stderr",
          "text": [
            "/usr/local/lib/python3.8/dist-packages/sklearn/neural_network/_multilayer_perceptron.py:692: ConvergenceWarning: Stochastic Optimizer: Maximum iterations (200) reached and the optimization hasn't converged yet.\n",
            "  warnings.warn(\n"
          ]
        },
        {
          "output_type": "execute_result",
          "data": {
            "text/plain": [
              "17.24137931034483"
            ]
          },
          "metadata": {},
          "execution_count": 1491
        }
      ],
      "source": [
        "scaler=StandardScaler()\n",
        "scaler.fit(x_train)\n",
        "X_scaled=scaler.transform(x_train)\n",
        "test_scaled=scaler.transform(x_test)\n",
        "mlpc=MLPClassifier().fit(X_scaled, y_train)\n",
        "y_pred_networks=mlpc.predict(test_scaled)\n",
        "accuracy_score(y_test, y_pred_networks)*100\n"
      ]
    },
    {
      "cell_type": "code",
      "execution_count": null,
      "metadata": {
        "colab": {
          "base_uri": "https://localhost:8080/"
        },
        "id": "W2QOjhJhjB1g",
        "outputId": "78a6cdd2-67aa-42b8-becc-ed4b725ca0c6"
      },
      "outputs": [
        {
          "output_type": "execute_result",
          "data": {
            "text/plain": [
              "17.24137931034483"
            ]
          },
          "metadata": {},
          "execution_count": 1492
        }
      ],
      "source": [
        "from sklearn.naive_bayes import GaussianNB\n",
        "gnb = GaussianNB()\n",
        "gnb.fit(x_train, y_train)\n",
        "y_pred_nav = gnb.predict(x_test)\n",
        "accuracy_score(y_test, y_pred_nav)*100\n"
      ]
    },
    {
      "cell_type": "code",
      "execution_count": null,
      "metadata": {
        "colab": {
          "base_uri": "https://localhost:8080/"
        },
        "id": "mjNXGVNSjB1g",
        "outputId": "7a7624b6-0cb7-46ab-9228-3b669bbe854c"
      },
      "outputs": [
        {
          "output_type": "stream",
          "name": "stdout",
          "text": [
            "The accuracy was 31.03%\n"
          ]
        }
      ],
      "source": [
        "from sklearn.naive_bayes import MultinomialNB\n",
        "\n",
        "\n",
        "model = MultinomialNB()\n",
        "\n",
        "model.fit(x_train, y_train)\n",
        "predictions = model.predict(x_test)\n",
        "accuracy = accuracy_score(y_test, predictions) * 100\n",
        "print(\"The accuracy was %.2f%%\" % accuracy)"
      ]
    },
    {
      "cell_type": "code",
      "execution_count": null,
      "metadata": {
        "colab": {
          "base_uri": "https://localhost:8080/",
          "height": 661
        },
        "id": "oq50yow0jB1g",
        "outputId": "48c7ac29-267d-40d3-a90d-bec79d2b6bdf"
      },
      "outputs": [
        {
          "output_type": "execute_result",
          "data": {
            "text/plain": [
              "    Id             Name  Gender                  Field          Occupation  \\\n",
              "0    1    Nouran khaled  Female                     CS      Senior Student   \n",
              "1    2  Tasneem Mohamed  Female                     CS      Senior Student   \n",
              "2    3     Omaima Ahmed  Female                     CS      Senior Student   \n",
              "3    4     Maryam Walid  Female                     CS             Student   \n",
              "4    5      Yehia Sameh    Male                     CS             Student   \n",
              "..  ..              ...     ...                    ...                 ...   \n",
              "91  92   Yehia Abdallah    Male  Automatic Engineering      Senior Student   \n",
              "92  93   Yehia Abdallah    Male  Automatic Engineering      Senior Student   \n",
              "93  94   Khaled Khatteb    Male               Business  Software developer   \n",
              "94  95    Mohamed Elbaz    Male                     CS      Senior Student   \n",
              "95  96    Mohamed Elbaz    Male                     CS      Senior Student   \n",
              "\n",
              "    Age  Openness  Agreeableness  Interface_1  Interface_2  Interface_5  \\\n",
              "0    21       3.0            4.0          6.0          6.0          6.0   \n",
              "1    21       4.0            3.0          8.0          7.0          8.0   \n",
              "2    23       5.0            3.0          9.0          8.5          9.0   \n",
              "3    20       4.0            5.0          6.0          5.5          6.5   \n",
              "4    19       4.0            3.0          5.0          3.0          7.0   \n",
              "..  ...       ...            ...          ...          ...          ...   \n",
              "91   21       5.0            4.0          6.0          5.0          7.0   \n",
              "92   21       5.0            4.0          6.0          5.0          7.0   \n",
              "93   23       3.0            4.0          6.0          5.0          8.0   \n",
              "94   21       3.0            3.0          4.0          4.0          5.0   \n",
              "95   21       3.0            3.0          4.0          4.0          5.0   \n",
              "\n",
              "    Interface_7  Interface_10  Interface_11  Interface_13  Interface_16  \\\n",
              "0           7.0           8.0           6.0           8.0           7.0   \n",
              "1           9.0           8.0           8.0           9.0           7.0   \n",
              "2           9.0           9.0           8.0           8.0           7.0   \n",
              "3           7.0           5.5           6.0           7.5           8.0   \n",
              "4           8.0           7.0           6.0           8.0           6.0   \n",
              "..          ...           ...           ...           ...           ...   \n",
              "91          8.0           9.0           6.0           7.0           7.0   \n",
              "92          8.0           9.0           6.0           7.0           7.0   \n",
              "93          8.0           9.0           7.0           7.0           8.0   \n",
              "94          7.0           8.0           3.0           7.0           5.0   \n",
              "95          7.0           8.0           3.0           7.0           5.0   \n",
              "\n",
              "    Interface_17  Test_Score  \n",
              "0            6.0           0  \n",
              "1            8.0           1  \n",
              "2            9.0           0  \n",
              "3            7.5           1  \n",
              "4            8.0           0  \n",
              "..           ...         ...  \n",
              "91           6.0           2  \n",
              "92           6.0           0  \n",
              "93           9.0           2  \n",
              "94           8.0           2  \n",
              "95           8.0           0  \n",
              "\n",
              "[96 rows x 18 columns]"
            ],
            "text/html": [
              "\n",
              "  <div id=\"df-8cddd63c-523b-4cdf-85c6-96e257595d2f\">\n",
              "    <div class=\"colab-df-container\">\n",
              "      <div>\n",
              "<style scoped>\n",
              "    .dataframe tbody tr th:only-of-type {\n",
              "        vertical-align: middle;\n",
              "    }\n",
              "\n",
              "    .dataframe tbody tr th {\n",
              "        vertical-align: top;\n",
              "    }\n",
              "\n",
              "    .dataframe thead th {\n",
              "        text-align: right;\n",
              "    }\n",
              "</style>\n",
              "<table border=\"1\" class=\"dataframe\">\n",
              "  <thead>\n",
              "    <tr style=\"text-align: right;\">\n",
              "      <th></th>\n",
              "      <th>Id</th>\n",
              "      <th>Name</th>\n",
              "      <th>Gender</th>\n",
              "      <th>Field</th>\n",
              "      <th>Occupation</th>\n",
              "      <th>Age</th>\n",
              "      <th>Openness</th>\n",
              "      <th>Agreeableness</th>\n",
              "      <th>Interface_1</th>\n",
              "      <th>Interface_2</th>\n",
              "      <th>Interface_5</th>\n",
              "      <th>Interface_7</th>\n",
              "      <th>Interface_10</th>\n",
              "      <th>Interface_11</th>\n",
              "      <th>Interface_13</th>\n",
              "      <th>Interface_16</th>\n",
              "      <th>Interface_17</th>\n",
              "      <th>Test_Score</th>\n",
              "    </tr>\n",
              "  </thead>\n",
              "  <tbody>\n",
              "    <tr>\n",
              "      <th>0</th>\n",
              "      <td>1</td>\n",
              "      <td>Nouran khaled</td>\n",
              "      <td>Female</td>\n",
              "      <td>CS</td>\n",
              "      <td>Senior Student</td>\n",
              "      <td>21</td>\n",
              "      <td>3.0</td>\n",
              "      <td>4.0</td>\n",
              "      <td>6.0</td>\n",
              "      <td>6.0</td>\n",
              "      <td>6.0</td>\n",
              "      <td>7.0</td>\n",
              "      <td>8.0</td>\n",
              "      <td>6.0</td>\n",
              "      <td>8.0</td>\n",
              "      <td>7.0</td>\n",
              "      <td>6.0</td>\n",
              "      <td>0</td>\n",
              "    </tr>\n",
              "    <tr>\n",
              "      <th>1</th>\n",
              "      <td>2</td>\n",
              "      <td>Tasneem Mohamed</td>\n",
              "      <td>Female</td>\n",
              "      <td>CS</td>\n",
              "      <td>Senior Student</td>\n",
              "      <td>21</td>\n",
              "      <td>4.0</td>\n",
              "      <td>3.0</td>\n",
              "      <td>8.0</td>\n",
              "      <td>7.0</td>\n",
              "      <td>8.0</td>\n",
              "      <td>9.0</td>\n",
              "      <td>8.0</td>\n",
              "      <td>8.0</td>\n",
              "      <td>9.0</td>\n",
              "      <td>7.0</td>\n",
              "      <td>8.0</td>\n",
              "      <td>1</td>\n",
              "    </tr>\n",
              "    <tr>\n",
              "      <th>2</th>\n",
              "      <td>3</td>\n",
              "      <td>Omaima Ahmed</td>\n",
              "      <td>Female</td>\n",
              "      <td>CS</td>\n",
              "      <td>Senior Student</td>\n",
              "      <td>23</td>\n",
              "      <td>5.0</td>\n",
              "      <td>3.0</td>\n",
              "      <td>9.0</td>\n",
              "      <td>8.5</td>\n",
              "      <td>9.0</td>\n",
              "      <td>9.0</td>\n",
              "      <td>9.0</td>\n",
              "      <td>8.0</td>\n",
              "      <td>8.0</td>\n",
              "      <td>7.0</td>\n",
              "      <td>9.0</td>\n",
              "      <td>0</td>\n",
              "    </tr>\n",
              "    <tr>\n",
              "      <th>3</th>\n",
              "      <td>4</td>\n",
              "      <td>Maryam Walid</td>\n",
              "      <td>Female</td>\n",
              "      <td>CS</td>\n",
              "      <td>Student</td>\n",
              "      <td>20</td>\n",
              "      <td>4.0</td>\n",
              "      <td>5.0</td>\n",
              "      <td>6.0</td>\n",
              "      <td>5.5</td>\n",
              "      <td>6.5</td>\n",
              "      <td>7.0</td>\n",
              "      <td>5.5</td>\n",
              "      <td>6.0</td>\n",
              "      <td>7.5</td>\n",
              "      <td>8.0</td>\n",
              "      <td>7.5</td>\n",
              "      <td>1</td>\n",
              "    </tr>\n",
              "    <tr>\n",
              "      <th>4</th>\n",
              "      <td>5</td>\n",
              "      <td>Yehia Sameh</td>\n",
              "      <td>Male</td>\n",
              "      <td>CS</td>\n",
              "      <td>Student</td>\n",
              "      <td>19</td>\n",
              "      <td>4.0</td>\n",
              "      <td>3.0</td>\n",
              "      <td>5.0</td>\n",
              "      <td>3.0</td>\n",
              "      <td>7.0</td>\n",
              "      <td>8.0</td>\n",
              "      <td>7.0</td>\n",
              "      <td>6.0</td>\n",
              "      <td>8.0</td>\n",
              "      <td>6.0</td>\n",
              "      <td>8.0</td>\n",
              "      <td>0</td>\n",
              "    </tr>\n",
              "    <tr>\n",
              "      <th>...</th>\n",
              "      <td>...</td>\n",
              "      <td>...</td>\n",
              "      <td>...</td>\n",
              "      <td>...</td>\n",
              "      <td>...</td>\n",
              "      <td>...</td>\n",
              "      <td>...</td>\n",
              "      <td>...</td>\n",
              "      <td>...</td>\n",
              "      <td>...</td>\n",
              "      <td>...</td>\n",
              "      <td>...</td>\n",
              "      <td>...</td>\n",
              "      <td>...</td>\n",
              "      <td>...</td>\n",
              "      <td>...</td>\n",
              "      <td>...</td>\n",
              "      <td>...</td>\n",
              "    </tr>\n",
              "    <tr>\n",
              "      <th>91</th>\n",
              "      <td>92</td>\n",
              "      <td>Yehia Abdallah</td>\n",
              "      <td>Male</td>\n",
              "      <td>Automatic Engineering</td>\n",
              "      <td>Senior Student</td>\n",
              "      <td>21</td>\n",
              "      <td>5.0</td>\n",
              "      <td>4.0</td>\n",
              "      <td>6.0</td>\n",
              "      <td>5.0</td>\n",
              "      <td>7.0</td>\n",
              "      <td>8.0</td>\n",
              "      <td>9.0</td>\n",
              "      <td>6.0</td>\n",
              "      <td>7.0</td>\n",
              "      <td>7.0</td>\n",
              "      <td>6.0</td>\n",
              "      <td>2</td>\n",
              "    </tr>\n",
              "    <tr>\n",
              "      <th>92</th>\n",
              "      <td>93</td>\n",
              "      <td>Yehia Abdallah</td>\n",
              "      <td>Male</td>\n",
              "      <td>Automatic Engineering</td>\n",
              "      <td>Senior Student</td>\n",
              "      <td>21</td>\n",
              "      <td>5.0</td>\n",
              "      <td>4.0</td>\n",
              "      <td>6.0</td>\n",
              "      <td>5.0</td>\n",
              "      <td>7.0</td>\n",
              "      <td>8.0</td>\n",
              "      <td>9.0</td>\n",
              "      <td>6.0</td>\n",
              "      <td>7.0</td>\n",
              "      <td>7.0</td>\n",
              "      <td>6.0</td>\n",
              "      <td>0</td>\n",
              "    </tr>\n",
              "    <tr>\n",
              "      <th>93</th>\n",
              "      <td>94</td>\n",
              "      <td>Khaled Khatteb</td>\n",
              "      <td>Male</td>\n",
              "      <td>Business</td>\n",
              "      <td>Software developer</td>\n",
              "      <td>23</td>\n",
              "      <td>3.0</td>\n",
              "      <td>4.0</td>\n",
              "      <td>6.0</td>\n",
              "      <td>5.0</td>\n",
              "      <td>8.0</td>\n",
              "      <td>8.0</td>\n",
              "      <td>9.0</td>\n",
              "      <td>7.0</td>\n",
              "      <td>7.0</td>\n",
              "      <td>8.0</td>\n",
              "      <td>9.0</td>\n",
              "      <td>2</td>\n",
              "    </tr>\n",
              "    <tr>\n",
              "      <th>94</th>\n",
              "      <td>95</td>\n",
              "      <td>Mohamed Elbaz</td>\n",
              "      <td>Male</td>\n",
              "      <td>CS</td>\n",
              "      <td>Senior Student</td>\n",
              "      <td>21</td>\n",
              "      <td>3.0</td>\n",
              "      <td>3.0</td>\n",
              "      <td>4.0</td>\n",
              "      <td>4.0</td>\n",
              "      <td>5.0</td>\n",
              "      <td>7.0</td>\n",
              "      <td>8.0</td>\n",
              "      <td>3.0</td>\n",
              "      <td>7.0</td>\n",
              "      <td>5.0</td>\n",
              "      <td>8.0</td>\n",
              "      <td>2</td>\n",
              "    </tr>\n",
              "    <tr>\n",
              "      <th>95</th>\n",
              "      <td>96</td>\n",
              "      <td>Mohamed Elbaz</td>\n",
              "      <td>Male</td>\n",
              "      <td>CS</td>\n",
              "      <td>Senior Student</td>\n",
              "      <td>21</td>\n",
              "      <td>3.0</td>\n",
              "      <td>3.0</td>\n",
              "      <td>4.0</td>\n",
              "      <td>4.0</td>\n",
              "      <td>5.0</td>\n",
              "      <td>7.0</td>\n",
              "      <td>8.0</td>\n",
              "      <td>3.0</td>\n",
              "      <td>7.0</td>\n",
              "      <td>5.0</td>\n",
              "      <td>8.0</td>\n",
              "      <td>0</td>\n",
              "    </tr>\n",
              "  </tbody>\n",
              "</table>\n",
              "<p>96 rows × 18 columns</p>\n",
              "</div>\n",
              "      <button class=\"colab-df-convert\" onclick=\"convertToInteractive('df-8cddd63c-523b-4cdf-85c6-96e257595d2f')\"\n",
              "              title=\"Convert this dataframe to an interactive table.\"\n",
              "              style=\"display:none;\">\n",
              "        \n",
              "  <svg xmlns=\"http://www.w3.org/2000/svg\" height=\"24px\"viewBox=\"0 0 24 24\"\n",
              "       width=\"24px\">\n",
              "    <path d=\"M0 0h24v24H0V0z\" fill=\"none\"/>\n",
              "    <path d=\"M18.56 5.44l.94 2.06.94-2.06 2.06-.94-2.06-.94-.94-2.06-.94 2.06-2.06.94zm-11 1L8.5 8.5l.94-2.06 2.06-.94-2.06-.94L8.5 2.5l-.94 2.06-2.06.94zm10 10l.94 2.06.94-2.06 2.06-.94-2.06-.94-.94-2.06-.94 2.06-2.06.94z\"/><path d=\"M17.41 7.96l-1.37-1.37c-.4-.4-.92-.59-1.43-.59-.52 0-1.04.2-1.43.59L10.3 9.45l-7.72 7.72c-.78.78-.78 2.05 0 2.83L4 21.41c.39.39.9.59 1.41.59.51 0 1.02-.2 1.41-.59l7.78-7.78 2.81-2.81c.8-.78.8-2.07 0-2.86zM5.41 20L4 18.59l7.72-7.72 1.47 1.35L5.41 20z\"/>\n",
              "  </svg>\n",
              "      </button>\n",
              "      \n",
              "  <style>\n",
              "    .colab-df-container {\n",
              "      display:flex;\n",
              "      flex-wrap:wrap;\n",
              "      gap: 12px;\n",
              "    }\n",
              "\n",
              "    .colab-df-convert {\n",
              "      background-color: #E8F0FE;\n",
              "      border: none;\n",
              "      border-radius: 50%;\n",
              "      cursor: pointer;\n",
              "      display: none;\n",
              "      fill: #1967D2;\n",
              "      height: 32px;\n",
              "      padding: 0 0 0 0;\n",
              "      width: 32px;\n",
              "    }\n",
              "\n",
              "    .colab-df-convert:hover {\n",
              "      background-color: #E2EBFA;\n",
              "      box-shadow: 0px 1px 2px rgba(60, 64, 67, 0.3), 0px 1px 3px 1px rgba(60, 64, 67, 0.15);\n",
              "      fill: #174EA6;\n",
              "    }\n",
              "\n",
              "    [theme=dark] .colab-df-convert {\n",
              "      background-color: #3B4455;\n",
              "      fill: #D2E3FC;\n",
              "    }\n",
              "\n",
              "    [theme=dark] .colab-df-convert:hover {\n",
              "      background-color: #434B5C;\n",
              "      box-shadow: 0px 1px 3px 1px rgba(0, 0, 0, 0.15);\n",
              "      filter: drop-shadow(0px 1px 2px rgba(0, 0, 0, 0.3));\n",
              "      fill: #FFFFFF;\n",
              "    }\n",
              "  </style>\n",
              "\n",
              "      <script>\n",
              "        const buttonEl =\n",
              "          document.querySelector('#df-8cddd63c-523b-4cdf-85c6-96e257595d2f button.colab-df-convert');\n",
              "        buttonEl.style.display =\n",
              "          google.colab.kernel.accessAllowed ? 'block' : 'none';\n",
              "\n",
              "        async function convertToInteractive(key) {\n",
              "          const element = document.querySelector('#df-8cddd63c-523b-4cdf-85c6-96e257595d2f');\n",
              "          const dataTable =\n",
              "            await google.colab.kernel.invokeFunction('convertToInteractive',\n",
              "                                                     [key], {});\n",
              "          if (!dataTable) return;\n",
              "\n",
              "          const docLinkHtml = 'Like what you see? Visit the ' +\n",
              "            '<a target=\"_blank\" href=https://colab.research.google.com/notebooks/data_table.ipynb>data table notebook</a>'\n",
              "            + ' to learn more about interactive tables.';\n",
              "          element.innerHTML = '';\n",
              "          dataTable['output_type'] = 'display_data';\n",
              "          await google.colab.output.renderOutput(dataTable, element);\n",
              "          const docLink = document.createElement('div');\n",
              "          docLink.innerHTML = docLinkHtml;\n",
              "          element.appendChild(docLink);\n",
              "        }\n",
              "      </script>\n",
              "    </div>\n",
              "  </div>\n",
              "  "
            ]
          },
          "metadata": {},
          "execution_count": 1494
        }
      ],
      "source": [
        "data_spl2= data.drop(['Top_1','Top_2','Top_3','Extraversion','Conscientiousness','Neuroticism','Interface_3','Interface_4','Interface_6','Interface_8','Interface_9','Interface_12','Interface_14','Interface_15','Extra_interface_1','Extra_interface_2'],axis = 1)\n",
        "data_spl2"
      ]
    },
    {
      "cell_type": "code",
      "execution_count": null,
      "metadata": {
        "colab": {
          "base_uri": "https://localhost:8080/",
          "height": 488
        },
        "id": "AZft412_jB1h",
        "outputId": "28a5bbc2-1366-47be-d477-bff2867bef6f"
      },
      "outputs": [
        {
          "output_type": "execute_result",
          "data": {
            "text/plain": [
              "    Age  Openness  Agreeableness  Interface_1  Interface_2  Interface_5  \\\n",
              "0    21       3.0            4.0          6.0          6.0          6.0   \n",
              "1    21       4.0            3.0          8.0          7.0          8.0   \n",
              "2    23       5.0            3.0          9.0          8.5          9.0   \n",
              "3    20       4.0            5.0          6.0          5.5          6.5   \n",
              "4    19       4.0            3.0          5.0          3.0          7.0   \n",
              "..  ...       ...            ...          ...          ...          ...   \n",
              "91   21       5.0            4.0          6.0          5.0          7.0   \n",
              "92   21       5.0            4.0          6.0          5.0          7.0   \n",
              "93   23       3.0            4.0          6.0          5.0          8.0   \n",
              "94   21       3.0            3.0          4.0          4.0          5.0   \n",
              "95   21       3.0            3.0          4.0          4.0          5.0   \n",
              "\n",
              "    Interface_7  Interface_10  Interface_11  Interface_13  Interface_16  \\\n",
              "0           7.0           8.0           6.0           8.0           7.0   \n",
              "1           9.0           8.0           8.0           9.0           7.0   \n",
              "2           9.0           9.0           8.0           8.0           7.0   \n",
              "3           7.0           5.5           6.0           7.5           8.0   \n",
              "4           8.0           7.0           6.0           8.0           6.0   \n",
              "..          ...           ...           ...           ...           ...   \n",
              "91          8.0           9.0           6.0           7.0           7.0   \n",
              "92          8.0           9.0           6.0           7.0           7.0   \n",
              "93          8.0           9.0           7.0           7.0           8.0   \n",
              "94          7.0           8.0           3.0           7.0           5.0   \n",
              "95          7.0           8.0           3.0           7.0           5.0   \n",
              "\n",
              "    Interface_17  \n",
              "0            6.0  \n",
              "1            8.0  \n",
              "2            9.0  \n",
              "3            7.5  \n",
              "4            8.0  \n",
              "..           ...  \n",
              "91           6.0  \n",
              "92           6.0  \n",
              "93           9.0  \n",
              "94           8.0  \n",
              "95           8.0  \n",
              "\n",
              "[96 rows x 12 columns]"
            ],
            "text/html": [
              "\n",
              "  <div id=\"df-fcb24998-0973-4114-9ef2-2609d82a3666\">\n",
              "    <div class=\"colab-df-container\">\n",
              "      <div>\n",
              "<style scoped>\n",
              "    .dataframe tbody tr th:only-of-type {\n",
              "        vertical-align: middle;\n",
              "    }\n",
              "\n",
              "    .dataframe tbody tr th {\n",
              "        vertical-align: top;\n",
              "    }\n",
              "\n",
              "    .dataframe thead th {\n",
              "        text-align: right;\n",
              "    }\n",
              "</style>\n",
              "<table border=\"1\" class=\"dataframe\">\n",
              "  <thead>\n",
              "    <tr style=\"text-align: right;\">\n",
              "      <th></th>\n",
              "      <th>Age</th>\n",
              "      <th>Openness</th>\n",
              "      <th>Agreeableness</th>\n",
              "      <th>Interface_1</th>\n",
              "      <th>Interface_2</th>\n",
              "      <th>Interface_5</th>\n",
              "      <th>Interface_7</th>\n",
              "      <th>Interface_10</th>\n",
              "      <th>Interface_11</th>\n",
              "      <th>Interface_13</th>\n",
              "      <th>Interface_16</th>\n",
              "      <th>Interface_17</th>\n",
              "    </tr>\n",
              "  </thead>\n",
              "  <tbody>\n",
              "    <tr>\n",
              "      <th>0</th>\n",
              "      <td>21</td>\n",
              "      <td>3.0</td>\n",
              "      <td>4.0</td>\n",
              "      <td>6.0</td>\n",
              "      <td>6.0</td>\n",
              "      <td>6.0</td>\n",
              "      <td>7.0</td>\n",
              "      <td>8.0</td>\n",
              "      <td>6.0</td>\n",
              "      <td>8.0</td>\n",
              "      <td>7.0</td>\n",
              "      <td>6.0</td>\n",
              "    </tr>\n",
              "    <tr>\n",
              "      <th>1</th>\n",
              "      <td>21</td>\n",
              "      <td>4.0</td>\n",
              "      <td>3.0</td>\n",
              "      <td>8.0</td>\n",
              "      <td>7.0</td>\n",
              "      <td>8.0</td>\n",
              "      <td>9.0</td>\n",
              "      <td>8.0</td>\n",
              "      <td>8.0</td>\n",
              "      <td>9.0</td>\n",
              "      <td>7.0</td>\n",
              "      <td>8.0</td>\n",
              "    </tr>\n",
              "    <tr>\n",
              "      <th>2</th>\n",
              "      <td>23</td>\n",
              "      <td>5.0</td>\n",
              "      <td>3.0</td>\n",
              "      <td>9.0</td>\n",
              "      <td>8.5</td>\n",
              "      <td>9.0</td>\n",
              "      <td>9.0</td>\n",
              "      <td>9.0</td>\n",
              "      <td>8.0</td>\n",
              "      <td>8.0</td>\n",
              "      <td>7.0</td>\n",
              "      <td>9.0</td>\n",
              "    </tr>\n",
              "    <tr>\n",
              "      <th>3</th>\n",
              "      <td>20</td>\n",
              "      <td>4.0</td>\n",
              "      <td>5.0</td>\n",
              "      <td>6.0</td>\n",
              "      <td>5.5</td>\n",
              "      <td>6.5</td>\n",
              "      <td>7.0</td>\n",
              "      <td>5.5</td>\n",
              "      <td>6.0</td>\n",
              "      <td>7.5</td>\n",
              "      <td>8.0</td>\n",
              "      <td>7.5</td>\n",
              "    </tr>\n",
              "    <tr>\n",
              "      <th>4</th>\n",
              "      <td>19</td>\n",
              "      <td>4.0</td>\n",
              "      <td>3.0</td>\n",
              "      <td>5.0</td>\n",
              "      <td>3.0</td>\n",
              "      <td>7.0</td>\n",
              "      <td>8.0</td>\n",
              "      <td>7.0</td>\n",
              "      <td>6.0</td>\n",
              "      <td>8.0</td>\n",
              "      <td>6.0</td>\n",
              "      <td>8.0</td>\n",
              "    </tr>\n",
              "    <tr>\n",
              "      <th>...</th>\n",
              "      <td>...</td>\n",
              "      <td>...</td>\n",
              "      <td>...</td>\n",
              "      <td>...</td>\n",
              "      <td>...</td>\n",
              "      <td>...</td>\n",
              "      <td>...</td>\n",
              "      <td>...</td>\n",
              "      <td>...</td>\n",
              "      <td>...</td>\n",
              "      <td>...</td>\n",
              "      <td>...</td>\n",
              "    </tr>\n",
              "    <tr>\n",
              "      <th>91</th>\n",
              "      <td>21</td>\n",
              "      <td>5.0</td>\n",
              "      <td>4.0</td>\n",
              "      <td>6.0</td>\n",
              "      <td>5.0</td>\n",
              "      <td>7.0</td>\n",
              "      <td>8.0</td>\n",
              "      <td>9.0</td>\n",
              "      <td>6.0</td>\n",
              "      <td>7.0</td>\n",
              "      <td>7.0</td>\n",
              "      <td>6.0</td>\n",
              "    </tr>\n",
              "    <tr>\n",
              "      <th>92</th>\n",
              "      <td>21</td>\n",
              "      <td>5.0</td>\n",
              "      <td>4.0</td>\n",
              "      <td>6.0</td>\n",
              "      <td>5.0</td>\n",
              "      <td>7.0</td>\n",
              "      <td>8.0</td>\n",
              "      <td>9.0</td>\n",
              "      <td>6.0</td>\n",
              "      <td>7.0</td>\n",
              "      <td>7.0</td>\n",
              "      <td>6.0</td>\n",
              "    </tr>\n",
              "    <tr>\n",
              "      <th>93</th>\n",
              "      <td>23</td>\n",
              "      <td>3.0</td>\n",
              "      <td>4.0</td>\n",
              "      <td>6.0</td>\n",
              "      <td>5.0</td>\n",
              "      <td>8.0</td>\n",
              "      <td>8.0</td>\n",
              "      <td>9.0</td>\n",
              "      <td>7.0</td>\n",
              "      <td>7.0</td>\n",
              "      <td>8.0</td>\n",
              "      <td>9.0</td>\n",
              "    </tr>\n",
              "    <tr>\n",
              "      <th>94</th>\n",
              "      <td>21</td>\n",
              "      <td>3.0</td>\n",
              "      <td>3.0</td>\n",
              "      <td>4.0</td>\n",
              "      <td>4.0</td>\n",
              "      <td>5.0</td>\n",
              "      <td>7.0</td>\n",
              "      <td>8.0</td>\n",
              "      <td>3.0</td>\n",
              "      <td>7.0</td>\n",
              "      <td>5.0</td>\n",
              "      <td>8.0</td>\n",
              "    </tr>\n",
              "    <tr>\n",
              "      <th>95</th>\n",
              "      <td>21</td>\n",
              "      <td>3.0</td>\n",
              "      <td>3.0</td>\n",
              "      <td>4.0</td>\n",
              "      <td>4.0</td>\n",
              "      <td>5.0</td>\n",
              "      <td>7.0</td>\n",
              "      <td>8.0</td>\n",
              "      <td>3.0</td>\n",
              "      <td>7.0</td>\n",
              "      <td>5.0</td>\n",
              "      <td>8.0</td>\n",
              "    </tr>\n",
              "  </tbody>\n",
              "</table>\n",
              "<p>96 rows × 12 columns</p>\n",
              "</div>\n",
              "      <button class=\"colab-df-convert\" onclick=\"convertToInteractive('df-fcb24998-0973-4114-9ef2-2609d82a3666')\"\n",
              "              title=\"Convert this dataframe to an interactive table.\"\n",
              "              style=\"display:none;\">\n",
              "        \n",
              "  <svg xmlns=\"http://www.w3.org/2000/svg\" height=\"24px\"viewBox=\"0 0 24 24\"\n",
              "       width=\"24px\">\n",
              "    <path d=\"M0 0h24v24H0V0z\" fill=\"none\"/>\n",
              "    <path d=\"M18.56 5.44l.94 2.06.94-2.06 2.06-.94-2.06-.94-.94-2.06-.94 2.06-2.06.94zm-11 1L8.5 8.5l.94-2.06 2.06-.94-2.06-.94L8.5 2.5l-.94 2.06-2.06.94zm10 10l.94 2.06.94-2.06 2.06-.94-2.06-.94-.94-2.06-.94 2.06-2.06.94z\"/><path d=\"M17.41 7.96l-1.37-1.37c-.4-.4-.92-.59-1.43-.59-.52 0-1.04.2-1.43.59L10.3 9.45l-7.72 7.72c-.78.78-.78 2.05 0 2.83L4 21.41c.39.39.9.59 1.41.59.51 0 1.02-.2 1.41-.59l7.78-7.78 2.81-2.81c.8-.78.8-2.07 0-2.86zM5.41 20L4 18.59l7.72-7.72 1.47 1.35L5.41 20z\"/>\n",
              "  </svg>\n",
              "      </button>\n",
              "      \n",
              "  <style>\n",
              "    .colab-df-container {\n",
              "      display:flex;\n",
              "      flex-wrap:wrap;\n",
              "      gap: 12px;\n",
              "    }\n",
              "\n",
              "    .colab-df-convert {\n",
              "      background-color: #E8F0FE;\n",
              "      border: none;\n",
              "      border-radius: 50%;\n",
              "      cursor: pointer;\n",
              "      display: none;\n",
              "      fill: #1967D2;\n",
              "      height: 32px;\n",
              "      padding: 0 0 0 0;\n",
              "      width: 32px;\n",
              "    }\n",
              "\n",
              "    .colab-df-convert:hover {\n",
              "      background-color: #E2EBFA;\n",
              "      box-shadow: 0px 1px 2px rgba(60, 64, 67, 0.3), 0px 1px 3px 1px rgba(60, 64, 67, 0.15);\n",
              "      fill: #174EA6;\n",
              "    }\n",
              "\n",
              "    [theme=dark] .colab-df-convert {\n",
              "      background-color: #3B4455;\n",
              "      fill: #D2E3FC;\n",
              "    }\n",
              "\n",
              "    [theme=dark] .colab-df-convert:hover {\n",
              "      background-color: #434B5C;\n",
              "      box-shadow: 0px 1px 3px 1px rgba(0, 0, 0, 0.15);\n",
              "      filter: drop-shadow(0px 1px 2px rgba(0, 0, 0, 0.3));\n",
              "      fill: #FFFFFF;\n",
              "    }\n",
              "  </style>\n",
              "\n",
              "      <script>\n",
              "        const buttonEl =\n",
              "          document.querySelector('#df-fcb24998-0973-4114-9ef2-2609d82a3666 button.colab-df-convert');\n",
              "        buttonEl.style.display =\n",
              "          google.colab.kernel.accessAllowed ? 'block' : 'none';\n",
              "\n",
              "        async function convertToInteractive(key) {\n",
              "          const element = document.querySelector('#df-fcb24998-0973-4114-9ef2-2609d82a3666');\n",
              "          const dataTable =\n",
              "            await google.colab.kernel.invokeFunction('convertToInteractive',\n",
              "                                                     [key], {});\n",
              "          if (!dataTable) return;\n",
              "\n",
              "          const docLinkHtml = 'Like what you see? Visit the ' +\n",
              "            '<a target=\"_blank\" href=https://colab.research.google.com/notebooks/data_table.ipynb>data table notebook</a>'\n",
              "            + ' to learn more about interactive tables.';\n",
              "          element.innerHTML = '';\n",
              "          dataTable['output_type'] = 'display_data';\n",
              "          await google.colab.output.renderOutput(dataTable, element);\n",
              "          const docLink = document.createElement('div');\n",
              "          docLink.innerHTML = docLinkHtml;\n",
              "          element.appendChild(docLink);\n",
              "        }\n",
              "      </script>\n",
              "    </div>\n",
              "  </div>\n",
              "  "
            ]
          },
          "metadata": {},
          "execution_count": 1495
        }
      ],
      "source": [
        "y = data_spl2['Test_Score']\n",
        "y\n",
        "x = data_spl2.drop(['Test_Score','Name','Occupation','Field','Gender','Id'],axis = 1)\n",
        "x\n"
      ]
    },
    {
      "cell_type": "code",
      "execution_count": null,
      "metadata": {
        "id": "s2J2vU3ZjB1k"
      },
      "outputs": [],
      "source": [
        "Y= y.values\n",
        "X=x.values\n",
        "\n",
        "x_train, x_test, y_train, y_test = train_test_split(X, Y, test_size = 0.33,random_state=42)"
      ]
    },
    {
      "cell_type": "code",
      "execution_count": null,
      "metadata": {
        "colab": {
          "base_uri": "https://localhost:8080/"
        },
        "id": "UtdTvxaajB1k",
        "outputId": "d0e57c9d-339a-44a3-e9e6-12e2a497f4d1"
      },
      "outputs": [
        {
          "output_type": "execute_result",
          "data": {
            "text/plain": [
              "31.25"
            ]
          },
          "metadata": {},
          "execution_count": 1497
        }
      ],
      "source": [
        "tree=DecisionTreeClassifier()\n",
        "tree_model=tree.fit(x_train, y_train)\n",
        "y_pred_tree=tree_model.predict(x_test)\n",
        "accuracy_score(y_test, y_pred_tree)*100"
      ]
    },
    {
      "cell_type": "code",
      "execution_count": null,
      "metadata": {
        "colab": {
          "base_uri": "https://localhost:8080/"
        },
        "id": "Rbyfwu6WjB1k",
        "outputId": "dac60f4e-77a5-4627-cf5f-bc9ecdba450c"
      },
      "outputs": [
        {
          "output_type": "execute_result",
          "data": {
            "text/plain": [
              "34.375"
            ]
          },
          "metadata": {},
          "execution_count": 1498
        }
      ],
      "source": [
        "svc=svm.SVC()\n",
        "model_svc= svc.fit(x_train, y_train)\n",
        "y_pred_svc= model_svc.predict(x_test)\n",
        "accuracy_score(y_test, y_pred_svc)*100"
      ]
    },
    {
      "cell_type": "code",
      "execution_count": null,
      "metadata": {
        "colab": {
          "base_uri": "https://localhost:8080/"
        },
        "id": "Z-eF0ErXjB1k",
        "outputId": "59436553-1f9d-4d82-f940-8b728f591b11"
      },
      "outputs": [
        {
          "output_type": "execute_result",
          "data": {
            "text/plain": [
              "28.125"
            ]
          },
          "metadata": {},
          "execution_count": 1499
        }
      ],
      "source": [
        "knn=KNeighborsClassifier(n_neighbors=30, algorithm='kd_tree')\n",
        "knn_model=knn.fit(x_train, y_train)\n",
        "y_pred_KNN= knn_model.predict(x_test)\n",
        "\n",
        "accuracy_score(y_test, y_pred_KNN)*100"
      ]
    },
    {
      "cell_type": "code",
      "execution_count": null,
      "metadata": {
        "colab": {
          "base_uri": "https://localhost:8080/"
        },
        "id": "jlrsSMrMjB1k",
        "outputId": "d0a1aa9a-970f-4639-84c5-983a273eb3ef"
      },
      "outputs": [
        {
          "output_type": "execute_result",
          "data": {
            "text/plain": [
              "18.75"
            ]
          },
          "metadata": {},
          "execution_count": 1500
        }
      ],
      "source": [
        "from sklearn.naive_bayes import GaussianNB\n",
        "gnb = GaussianNB()\n",
        "gnb.fit(x_train, y_train)\n",
        "y_pred_nav = gnb.predict(x_test)\n",
        "accuracy_score(y_test, y_pred_nav)*100"
      ]
    },
    {
      "cell_type": "code",
      "execution_count": null,
      "metadata": {
        "colab": {
          "base_uri": "https://localhost:8080/",
          "height": 300
        },
        "id": "6qqKa4v5jB1l",
        "outputId": "91b7b6dc-6be5-4117-8c2c-dcf19f05c273"
      },
      "outputs": [
        {
          "output_type": "execute_result",
          "data": {
            "text/plain": [
              "[Text(24.0, 0.5, 'Real'), Text(0.5, 15.0, 'Predict')]"
            ]
          },
          "metadata": {},
          "execution_count": 1501
        },
        {
          "output_type": "display_data",
          "data": {
            "text/plain": [
              "<Figure size 360x288 with 2 Axes>"
            ],
            "image/png": "[encoded data removed]"
          },
          "metadata": {
            "needs_background": "light"
          }
        }
      ],
      "source": [
        "from sklearn.metrics import confusion_matrix\n",
        "\n",
        "m_c = confusion_matrix(y_test, y_pred_nav)\n",
        "plt.figure(figsize=(5, 4))\n",
        "sns.heatmap(m_c, annot=True, cmap=\"Reds\", fmt=\"d\").set(xlabel=\"Predict\", ylabel=\"Real\")\n"
      ]
    },
    {
      "cell_type": "code",
      "execution_count": null,
      "metadata": {
        "colab": {
          "base_uri": "https://localhost:8080/"
        },
        "id": "YEoUkHaFjB1l",
        "outputId": "52eee707-6e65-41b3-fced-c6fe0fb06b1c"
      },
      "outputs": [
        {
          "output_type": "stream",
          "name": "stdout",
          "text": [
            "The accuracy was 34.38%\n"
          ]
        }
      ],
      "source": [
        "from sklearn.naive_bayes import MultinomialNB\n",
        "\n",
        "\n",
        "model = MultinomialNB()\n",
        "\n",
        "model.fit(x_train, y_train)\n",
        "predictions = model.predict(x_test)\n",
        "accuracy = accuracy_score(y_test, predictions) * 100\n",
        "print(\"The accuracy was %.2f%%\" % accuracy)"
      ]
    },
    {
      "cell_type": "code",
      "execution_count": null,
      "metadata": {
        "colab": {
          "base_uri": "https://localhost:8080/"
        },
        "id": "XlDMF5NKjB1l",
        "outputId": "a1072208-4c5f-41d8-c613-a5703474fa9a"
      },
      "outputs": [
        {
          "output_type": "stream",
          "name": "stdout",
          "text": [
            "31.25\n",
            "21.875\n",
            "31.25\n"
          ]
        }
      ],
      "source": [
        "ext =ExtraTreeClassifier()\n",
        "ext.fit(x_train, y_train)\n",
        "y_pred_ex = ext.predict(x_test)\n",
        "print (accuracy_score(y_test, y_pred_ex)*100)\n",
        "\n",
        "ada=AdaBoostClassifier()\n",
        "ada.fit(x_train, y_train)\n",
        "y_pred_ada= ada.predict(x_test)\n",
        "print (accuracy_score(y_test, y_pred_ada)*100)\n",
        "\n",
        "xbg=XGBClassifier()\n",
        "xbg.fit(x_train, y_train)\n",
        "y_pred_gb = xbg.predict(x_test)\n",
        "print (accuracy_score(y_test, y_pred_gb)*100)\n"
      ]
    },
    {
      "cell_type": "code",
      "execution_count": null,
      "metadata": {
        "colab": {
          "base_uri": "https://localhost:8080/"
        },
        "id": "gcmUnDk9jB1l",
        "outputId": "86933de5-5423-4e68-f64f-ad38dcbd8870"
      },
      "outputs": [
        {
          "output_type": "execute_result",
          "data": {
            "text/plain": [
              "34.375"
            ]
          },
          "metadata": {},
          "execution_count": 1504
        }
      ],
      "source": [
        "regressor =RandomForestClassifier()\n",
        "model_rf =regressor.fit(x_train,y_train)\n",
        "y_pred_rf= model.predict(x_test)\n",
        "accuracy_score(y_test, y_pred_rf)*100\n"
      ]
    },
    {
      "cell_type": "code",
      "execution_count": null,
      "metadata": {
        "colab": {
          "base_uri": "https://localhost:8080/"
        },
        "id": "XoE7E3b7jB1l",
        "outputId": "54caaa02-2068-4cb8-8792-5f46f13f70af"
      },
      "outputs": [
        {
          "output_type": "stream",
          "name": "stderr",
          "text": [
            "/usr/local/lib/python3.8/dist-packages/sklearn/neural_network/_multilayer_perceptron.py:692: ConvergenceWarning: Stochastic Optimizer: Maximum iterations (200) reached and the optimization hasn't converged yet.\n",
            "  warnings.warn(\n"
          ]
        },
        {
          "output_type": "execute_result",
          "data": {
            "text/plain": [
              "40.625"
            ]
          },
          "metadata": {},
          "execution_count": 1505
        }
      ],
      "source": [
        "scaler=StandardScaler()\n",
        "scaler.fit(x_train)\n",
        "X_scaled=scaler.transform(x_train)\n",
        "test_scaled=scaler.transform(x_test)\n",
        "mlpc=MLPClassifier().fit(X_scaled, y_train)\n",
        "y_pred_networks=mlpc.predict(test_scaled)\n",
        "accuracy_score(y_test, y_pred_networks)*100\n"
      ]
    },
    {
      "cell_type": "code",
      "execution_count": null,
      "metadata": {
        "colab": {
          "base_uri": "https://localhost:8080/"
        },
        "id": "v90DR2rojB1m",
        "outputId": "e49f55f2-2e5c-40b6-897c-e471e5acb09d"
      },
      "outputs": [
        {
          "output_type": "execute_result",
          "data": {
            "text/plain": [
              "34.375"
            ]
          },
          "metadata": {},
          "execution_count": 1506
        }
      ],
      "source": [
        "lgr= LogisticRegression(solver=\"liblinear\")\n",
        "\n",
        "model =lgr.fit(x_train,y_train)\n",
        "y_pred_lgr= model.predict(x_test) \n",
        "\n",
        "accuracy_score(y_test, y_pred_lgr)*100"
      ]
    },
    {
      "cell_type": "code",
      "source": [],
      "metadata": {
        "id": "OByfak7Hk6Vn"
      },
      "execution_count": null,
      "outputs": []
    },
    {
      "cell_type": "code",
      "source": [],
      "metadata": {
        "id": "YNEsFAxHk6Sa"
      },
      "execution_count": null,
      "outputs": []
    }
  ],
  "metadata": {
    "kernelspec": {
      "display_name": "Python 3.10.4 64-bit",
      "language": "python",
      "name": "python3"
    },
    "language_info": {
      "codemirror_mode": {
        "name": "ipython",
        "version": 3
      },
      "file_extension": ".py",
      "mimetype": "text/x-python",
      "name": "python",
      "nbconvert_exporter": "python",
      "pygments_lexer": "ipython3",
      "version": "3.10.4"
    },
    "orig_nbformat": 4,
    "vscode": {
      "interpreter": {
        "hash": "a9cff5a362bc38ef45d817ae74b1af54d6a076e3d773891282bce078b815ba34"
      }
    },
    "colab": {
      "provenance": [],
      "collapsed_sections": [
        "FXojprYTjB1Y"
      ]
    }
  },
  "nbformat": 4,
  "nbformat_minor": 0
}